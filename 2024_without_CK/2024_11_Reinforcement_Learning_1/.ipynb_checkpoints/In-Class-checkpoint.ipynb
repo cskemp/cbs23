{
 "cells": [
  {
   "cell_type": "markdown",
   "metadata": {
    "nbgrader": {
     "grade": false,
     "grade_id": "cell-906e76fff3eeed47",
     "locked": true,
     "schema_version": 3,
     "solution": false,
     "task": false
    }
   },
   "source": [
    "# Let's Explore these Sampling Algorithms"
   ]
  },
  {
   "cell_type": "code",
   "execution_count": null,
   "metadata": {
    "nbgrader": {
     "grade": false,
     "grade_id": "cell-7ec1742800632078",
     "locked": true,
     "schema_version": 3,
     "solution": false,
     "task": false
    }
   },
   "outputs": [],
   "source": [
    "library(tidyverse)"
   ]
  },
  {
   "cell_type": "markdown",
   "metadata": {
    "nbgrader": {
     "grade": false,
     "grade_id": "cell-03cb211945af3aa3",
     "locked": true,
     "schema_version": 3,
     "solution": false,
     "task": false
    }
   },
   "source": [
    "\n",
    "Okay so if we want to explore properties of sampling algorithms, we need a known multi-armed bandit problem. To specify a multi-armed bandit, we need to know the number of arms $k$ and the reward probabilities of each arm $R_k$. In order to do some simulations, we also need to choose a horizon $N$, which the number of trials.\n",
    "\n",
    "Because we need a reward probability for each arm, the number of arms is implicit in the length of the reward vector. So we can represent a multi-armed bandit problem as a reward vector $R_k$.\n"
   ]
  },
  {
   "cell_type": "code",
   "execution_count": null,
   "metadata": {},
   "outputs": [],
   "source": [
    "# Let's start off with \n",
    "\n",
    "N <- NA\n",
    "\n",
    "mab_0 <- NA\n",
    "\n"
   ]
  },
  {
   "cell_type": "markdown",
   "metadata": {
    "nbgrader": {
     "grade": false,
     "grade_id": "cell-5f17aba6a5c90c93",
     "locked": true,
     "schema_version": 3,
     "solution": false,
     "task": false
    }
   },
   "source": [
    "## $\\epsilon$ greedy sampling\n",
    "\n",
    "In epsilon greedy sampling, we sample randomly $\\epsilon$ percent of the time, which allows us to do some exploring. Otherwise, we choose the options with the most wins.\n"
   ]
  },
  {
   "cell_type": "code",
   "execution_count": null,
   "metadata": {
    "nbgrader": {
     "grade": false,
     "grade_id": "cell-29d74af73b398b73",
     "locked": true,
     "schema_version": 3,
     "solution": false,
     "task": false
    }
   },
   "outputs": [],
   "source": [
    "epsilon_greedy = function(arms, N, epsilon){\n",
    "    trials = NULL\n",
    "    outcomes <- rep(1, length(arms))\n",
    "    choices <- rep(2, length(arms))\n",
    "    for(i in 1:N){\n",
    "        if(runif(1) < epsilon){\n",
    "            choice <- sample(1:length(arms), 1)\n",
    "        } else {\n",
    "            valid_arms <- which(outcomes/choices == max(outcomes/choices))\n",
    "            choice <- ifelse(length(valid_arms)==1, valid_arms, sample(valid_arms, 1))\n",
    "        }\n",
    "        outcome = rbinom(1, 1, arms[choice])\n",
    "        choices[choice] <- choices[choice] + 1\n",
    "        outcomes[choice] <- outcomes[choice] + outcome\n",
    "        trials = rbind(trials,\n",
    "                       data.frame(trial=i, choice=choice, outcome=outcome, optimal=max(arms), epsilon=epsilon))\n",
    "    }\n",
    "  trials\n",
    "}\n",
    "\n"
   ]
  },
  {
   "cell_type": "code",
   "execution_count": null,
   "metadata": {},
   "outputs": [],
   "source": []
  },
  {
   "cell_type": "markdown",
   "metadata": {
    "nbgrader": {
     "grade": false,
     "grade_id": "cell-d3c214d5734203df",
     "locked": true,
     "schema_version": 3,
     "solution": false,
     "task": false
    }
   },
   "source": [
    "## Win Stay, Lose Sample\n",
    "\n",
    "The advantage of this approach is you never have to remember anything more than the last trial.\n"
   ]
  },
  {
   "cell_type": "code",
   "execution_count": null,
   "metadata": {
    "nbgrader": {
     "grade": false,
     "grade_id": "cell-4ee0f7754894277a",
     "locked": true,
     "schema_version": 3,
     "solution": false,
     "task": false
    }
   },
   "outputs": [],
   "source": [
    "wsls <- function(arms, N){\n",
    "    outcomes <- rep(0, length(arms))\n",
    "    choices <- rep(0, length(arms))\n",
    "    \n",
    "    choice <- sample(1:length(arms), 1)\n",
    "    outcome <- rbinom(1, 1, arms[choice])\n",
    "    \n",
    "    choices[choice] <- choices[choice] + 1\n",
    "    outcomes[choice] <- outcomes[choice] + outcome\n",
    "    trials = data.frame(trial=1, choice=choice, outcome=outcome, optimal=max(arms))\n",
    "    \n",
    "    for(i in 2:N){\n",
    "        if(outcome==1){\n",
    "            outcome <- rbinom(1, 1, arms[choice])\n",
    "        } else {\n",
    "            choice <- sample(1:length(arms), 1)\n",
    "            outcome <- rbinom(1, 1, arms[choice])\n",
    "        }\n",
    "        choices[choice] <- choices[choice] + 1\n",
    "        outcomes[choice] <- outcomes[choice] + outcome\n",
    "        trials = rbind(trials,\n",
    "                       data.frame(trial=i, choice=choice, outcome=outcome, optimal=max(arms)))\n",
    "        \n",
    "    }\n",
    "    trials\n",
    "}\n"
   ]
  },
  {
   "cell_type": "code",
   "execution_count": null,
   "metadata": {},
   "outputs": [],
   "source": []
  },
  {
   "cell_type": "markdown",
   "metadata": {
    "nbgrader": {
     "grade": false,
     "grade_id": "cell-eafdc9e7dbb5f890",
     "locked": true,
     "schema_version": 3,
     "solution": false,
     "task": false
    }
   },
   "source": [
    "# Thompson Sampling"
   ]
  },
  {
   "cell_type": "code",
   "execution_count": null,
   "metadata": {
    "nbgrader": {
     "grade": false,
     "grade_id": "cell-95a02159a1940708",
     "locked": true,
     "schema_version": 3,
     "solution": false,
     "task": false
    }
   },
   "outputs": [],
   "source": [
    "thompson <- function(arms, N){\n",
    "    trials = NULL\n",
    "    outcomes <- rep(0, length(arms))\n",
    "    choices <- rep(0, length(arms))\n",
    "    \n",
    "    alphas <- rep(1, length(arms))\n",
    "    betas <- rep(1, length(arms))\n",
    "    for(i in 1:N){\n",
    "        thetas <- rbeta(length(arms), alphas, betas)\n",
    "        valid_arms <- which(thetas == max(thetas))\n",
    "        choice <- ifelse(length(valid_arms)==1, valid_arms, sample(valid_arms, 1))\n",
    "        outcome <- rbinom(1, 1, arms[choice])\n",
    "        if(outcome==1){\n",
    "            alphas[choice] = alphas[choice] + 1\n",
    "        } else {\n",
    "            betas[choice] = betas[choice] + 1\n",
    "        }\n",
    "        choices[choice] <- choices[choice] + 1\n",
    "        outcomes[choice] <- outcomes[choice] + outcome\n",
    "        trials = bind_rows(trials,\n",
    "                       tibble(trial=i, choice=choice, outcome=outcome, optimal=max(arms)) %>%\n",
    "                           bind_cols(as_tibble_row(setNames(alphas/(alphas+betas), paste0('B', 1:length(arms))))) %>%\n",
    "                           bind_cols(as_tibble_row(setNames(arms, paste0('A', 1:length(arms)))))\n",
    "                          )\n",
    "    }\n",
    "    trials\n",
    "}\n"
   ]
  },
  {
   "cell_type": "code",
   "execution_count": null,
   "metadata": {},
   "outputs": [],
   "source": []
  }
 ],
 "metadata": {
  "kernelspec": {
   "display_name": "R",
   "language": "R",
   "name": "ir"
  },
  "language_info": {
   "codemirror_mode": "r",
   "file_extension": ".r",
   "mimetype": "text/x-r-source",
   "name": "R",
   "pygments_lexer": "r",
   "version": "4.1.0"
  }
 },
 "nbformat": 4,
 "nbformat_minor": 4
}
