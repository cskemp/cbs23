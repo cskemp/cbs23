{
 "cells": [
  {
   "cell_type": "markdown",
   "metadata": {
    "nbgrader": {
     "grade": false,
     "grade_id": "cell-c0e787e80412fc22",
     "locked": true,
     "schema_version": 3,
     "solution": false,
     "task": false
    }
   },
   "source": [
    "# CBS Week 10 Assessment: Information Theory\n",
    "## Semester 2 2024\n",
    "\n",
    "\n",
    "This notebook is due on October 7th. Please make sure that your notebook validates before you submit it --- if your notebook doesn't validate the automated grader may run into issues.\n"
   ]
  },
  {
   "cell_type": "code",
   "execution_count": null,
   "metadata": {
    "nbgrader": {
     "grade": false,
     "grade_id": "cell-7aa6a626ca3e3da4",
     "locked": true,
     "schema_version": 3,
     "solution": false,
     "task": false
    }
   },
   "outputs": [],
   "source": [
    "suppressPackageStartupMessages({\n",
    "    library(tidyverse)\n",
    "    library(testthat)\n",
    "})\n",
    "\n",
    "options(repr.plot.width=16, repr.plot.height=8)\n"
   ]
  },
  {
   "cell_type": "markdown",
   "metadata": {
    "nbgrader": {
     "grade": false,
     "grade_id": "cell-c431e5fe5b41ead5",
     "locked": true,
     "schema_version": 3,
     "solution": false,
     "task": false
    }
   },
   "source": [
    "Friendly reminder that because we are using information theory, we are going to make the assumption that instead of $\\log_2(0)=-\\infty$, we'll assume $\\log_2(0)=0$. So we'll make a special `safe_log` function to use instead of the base `log` function."
   ]
  },
  {
   "cell_type": "code",
   "execution_count": null,
   "metadata": {
    "nbgrader": {
     "grade": false,
     "grade_id": "cell-fa50c610a7a48250",
     "locked": true,
     "schema_version": 3,
     "solution": false,
     "task": false
    }
   },
   "outputs": [],
   "source": [
    "safe_log_single = function(x){ifelse(x<0, 0, log2(x))}\n",
    "safe_log = Vectorize(safe_log_single)"
   ]
  },
  {
   "cell_type": "markdown",
   "metadata": {
    "nbgrader": {
     "grade": false,
     "grade_id": "cell-4ac41f196624a2a8",
     "locked": true,
     "schema_version": 3,
     "solution": false,
     "task": false
    }
   },
   "source": [
    "<div class=\"alert alert-info\" role=\"alert\">\n",
    "\n",
    "<h3>Exercise 1</h3>\n",
    "\n",
    "Write a function for entropy. The function should take as input a probability vector `p` and output a numeric value for the entropy.\n",
    "\n",
    "(2 Points)\n",
    "</div>"
   ]
  },
  {
   "cell_type": "code",
   "execution_count": null,
   "metadata": {},
   "outputs": [],
   "source": [
    "\n",
    "entropy = function(p){\n",
    "    NA # YOUR CODE HERE \n",
    "}\n"
   ]
  },
  {
   "cell_type": "code",
   "execution_count": null,
   "metadata": {
    "nbgrader": {
     "grade": true,
     "grade_id": "cell-03eb5816ec7872b1",
     "locked": true,
     "points": 2,
     "schema_version": 3,
     "solution": false,
     "task": false
    }
   },
   "outputs": [],
   "source": [
    "## Let's test this!\n",
    "\n",
    "expect_equal(entropy(c(1, 1)/2), 1, tol=0.00001)\n",
    "expect_equal(entropy(c(1, 1, 1, 1)/4), 2, tol=0.00001)\n",
    "expect_equal(entropy(c(1, 1/4, 1/4, 1/4, 1/4)/2), 2, tol=0.00001)\n",
    "expect_equal(entropy(c(1, 1, 1, 1, 1, 1, 1, 1)/8), 3, tol=0.00001)\n"
   ]
  },
  {
   "cell_type": "markdown",
   "metadata": {
    "nbgrader": {
     "grade": false,
     "grade_id": "cell-d545d8e323b75fd4",
     "locked": true,
     "schema_version": 3,
     "solution": false,
     "task": false
    }
   },
   "source": [
    "## Let's analyse a corpus\n",
    "\n",
    "Majoram really wants to test this whole reading time correlates stronger to surprisal than to frequency claim. So they generate a corpus of non-sense syllables and non-sense words. Then, they had ten participants read the training corpus and a special test-set, for which they measured reading time in milliseconds. From the corpus, they generated `log_freq` and `surprisal` measures as follows."
   ]
  },
  {
   "cell_type": "code",
   "execution_count": null,
   "metadata": {
    "nbgrader": {
     "grade": false,
     "grade_id": "cell-3476f7f7867d1bdf",
     "locked": true,
     "schema_version": 3,
     "solution": false,
     "task": false
    }
   },
   "outputs": [],
   "source": [
    "words = c('ba ka ti', 'ta bu ti', 'ti ba ka', 'to bu ti', 'ba re do', 're bu ka', 'ti go bu', 'ka re ba')\n",
    "\n",
    "syl = c('ba', 'ka', 'ta', 'bu', 'to', 'bu', 'go')\n",
    "\n",
    "set.seed(8675309)\n",
    "train = paste(sample(c(words, syl, syl, syl, words, syl, syl, syl), 1000, replace=TRUE), collapse=' ')\n",
    "test = paste(sample(c(words, syl, syl, syl, words, syl, syl, syl), 200, replace=TRUE), collapse=' ')\n",
    "\n",
    "corpus = data.frame(word = strsplit(train, split=' ')[[1]]) %>% \n",
    "    mutate(last_word=lag(word, 1),\n",
    "           bigram = paste(last_word, word))\n",
    "\n",
    "\n",
    "key = corpus %>%\n",
    "    mutate(N=n()) %>%\n",
    "    filter(!is.na(last_word)) %>%\n",
    "    group_by(bigram, last_word, word, N) %>%\n",
    "    summarise(n = n()) %>%\n",
    "    group_by(last_word) %>%\n",
    "    mutate(surprisal = -1 * safe_log(n / sum(n))) %>%\n",
    "    group_by(word) %>%\n",
    "    mutate(log_freq=safe_log(sum(n)/N)) %>%\n",
    "    ungroup() %>%\n",
    "    select(-N, -n)\n"
   ]
  },
  {
   "cell_type": "markdown",
   "metadata": {
    "nbgrader": {
     "grade": false,
     "grade_id": "cell-4d176afaface7214",
     "locked": true,
     "schema_version": 3,
     "solution": false,
     "task": false
    }
   },
   "source": [
    "<div style='display:none'>\n",
    "\n",
    "    parts = data.frame(participant=1:10,\n",
    "               p_int = rnorm(1:20, 0, 20),\n",
    "               p_surp = rnorm(1:20, 0, 1),\n",
    "               p_freq = rnorm(1:20, 0, 1))\n",
    "\n",
    "    d = NULL\n",
    "    for(i in 1:20){\n",
    "        d = bind_rows(d, \n",
    "                      data.frame(word = strsplit(train, split=' ')[[1]]) %>%\n",
    "                      mutate(last_word=lag(word, 1),\n",
    "                             bigram = paste(last_word, word)) %>%\n",
    "                      filter(!is.na(last_word)) %>%\n",
    "                      left_join(key) %>%\n",
    "                      mutate(RT = round(rnorm(1:n(), \n",
    "                                              350 + parts$p_int[i] + \n",
    "                                              (1.75+parts$p_surp[i])*surprisal + \n",
    "                                              (-0.8+parts$p_freq[i])*log_freq, 16)),\n",
    "                            participant=parts$participant[i]) %>%\n",
    "        select(participant, bigram, word, RT))\n",
    "    }\n",
    "\n",
    "    write.csv(d, 'reading_times.csv', row.names=FALSE)\n",
    "</div>\n",
    "\n",
    "And here is the data, they collected."
   ]
  },
  {
   "cell_type": "code",
   "execution_count": null,
   "metadata": {
    "nbgrader": {
     "grade": false,
     "grade_id": "cell-11b194431e2ab92a",
     "locked": true,
     "schema_version": 3,
     "solution": false,
     "task": false
    }
   },
   "outputs": [],
   "source": [
    "\n",
    "data = read.csv('reading_times.csv') %>%\n",
    "    left_join(key)\n",
    "\n",
    "head(data)"
   ]
  },
  {
   "cell_type": "markdown",
   "metadata": {
    "nbgrader": {
     "grade": false,
     "grade_id": "cell-0c3892abbfd02d49",
     "locked": true,
     "schema_version": 3,
     "solution": false,
     "task": false
    }
   },
   "source": [
    "<div class=\"alert alert-info\" role=\"alert\">\n",
    "\n",
    "<h3>Exercise 2</h3>\n",
    "\n",
    "Alright, let's plot this data! We want to see reaction time (y-axis) as a function of the predictors (x-axis), surprisal and log frequency. To do so, you should `gather` the predictors and use a `facet_wrap` as in your last assignment. Make sure you label both axes appropriately and that the plot renders in a legible font of appropriate size.\n",
    "\n",
    "To be clear, for full marks, you plot must:\n",
    "    \n",
    "-  Have RT on the y-axis and predictor on the x-axis\n",
    "-  Have correct y-axis label: Reaction Time (ms)\n",
    "-  Have correct x-axis label: Predictor\n",
    "-  Have both predictors in the same row of the graph\n",
    "-  Have legible axes and axis labels\n",
    "    \n",
    "(2 Points)\n",
    "</div>"
   ]
  },
  {
   "cell_type": "code",
   "execution_count": null,
   "metadata": {
    "nbgrader": {
     "grade": true,
     "grade_id": "cell-884e510b402cd227",
     "locked": false,
     "points": 2,
     "schema_version": 3,
     "solution": true,
     "task": false
    }
   },
   "outputs": [],
   "source": [
    "\n",
    "# YOUR CODE HERE\n"
   ]
  },
  {
   "cell_type": "markdown",
   "metadata": {
    "nbgrader": {
     "grade": false,
     "grade_id": "cell-38719dc598c989bf",
     "locked": true,
     "schema_version": 3,
     "solution": false,
     "task": false
    }
   },
   "source": [
    "<div class=\"alert alert-info\" role=\"alert\">\n",
    "\n",
    "<h3>Exercise 3</h3>\n",
    "\n",
    "What is the correlation between reaction time and surprisal?\n",
    "\n",
    "Store your answer as `corr_surprisal`.\n",
    "    \n",
    "For sake of the auto-grader, make sure that the `typeof` call in the test cell returns \"double,\" which is computer speak for a precise number.\n",
    "\n",
    "(1 Point)\n",
    "\n",
    "</div>"
   ]
  },
  {
   "cell_type": "code",
   "execution_count": null,
   "metadata": {},
   "outputs": [],
   "source": [
    "\n",
    "corr_surprisal = NA # YOUR CODE HERE\n"
   ]
  },
  {
   "cell_type": "code",
   "execution_count": null,
   "metadata": {
    "nbgrader": {
     "grade": true,
     "grade_id": "cell-76444878c15ba5d2",
     "locked": true,
     "points": 1,
     "schema_version": 3,
     "solution": false,
     "task": false
    }
   },
   "outputs": [],
   "source": [
    "\n",
    "typeof(corr_surprisal)\n",
    "\n",
    "### BEGIN HIDDEN TESTS\n",
    "expect_equal(corr_surprisal, 0.0799232145125666, tol=0.0001)\n",
    "### END HIDDEN TESTS\n"
   ]
  },
  {
   "cell_type": "markdown",
   "metadata": {
    "nbgrader": {
     "grade": false,
     "grade_id": "cell-4a11804e9ae89186",
     "locked": true,
     "schema_version": 3,
     "solution": false,
     "task": false
    }
   },
   "source": [
    "<div class=\"alert alert-info\" role=\"alert\">\n",
    "\n",
    "<h3>Exercise 4</h3>\n",
    "\n",
    "What is the correlation between reaction time and log freq?\n",
    "\n",
    "Store your answer as `corr_freq`.\n",
    "    \n",
    "For sake of the auto-grader, make sure that the `typeof` call in the test cell returns \"double,\" which is computer speak for a precise number.\n",
    "\n",
    "(1 Point)\n",
    "</div>"
   ]
  },
  {
   "cell_type": "code",
   "execution_count": null,
   "metadata": {},
   "outputs": [],
   "source": [
    "\n",
    "corr_freq = NA # YOUR CODE HERE\n"
   ]
  },
  {
   "cell_type": "code",
   "execution_count": null,
   "metadata": {
    "nbgrader": {
     "grade": true,
     "grade_id": "cell-46830268ce968727",
     "locked": true,
     "points": 1,
     "schema_version": 3,
     "solution": false,
     "task": false
    }
   },
   "outputs": [],
   "source": [
    "\n",
    "typeof(corr_freq)\n",
    "\n",
    "### BEGIN HIDDEN TESTS\n",
    "expect_equal(corr_freq, -0.0495188609843859, tol=0.0000001)\n",
    "### END HIDDEN TESTS\n"
   ]
  },
  {
   "cell_type": "markdown",
   "metadata": {
    "nbgrader": {
     "grade": false,
     "grade_id": "cell-f5b58b243e5c677a",
     "locked": true,
     "schema_version": 3,
     "solution": false,
     "task": false
    }
   },
   "source": [
    "<div class=\"alert alert-info\" role=\"alert\">\n",
    "\n",
    "<h3>Exercise 5</h3>\n",
    "\n",
    "My friend, Sumak, thinks my demonstration is wrong because I logged the frequencies. Give me some evidence to show them that logging the frequencies won't change the correlation.\n",
    "\n",
    "For your answer, code is necessary and sufficient but if you're anxious, you can provide two sentences explaining our answer.\n",
    "\n",
    "(1 Point)\n",
    "</div>"
   ]
  },
  {
   "cell_type": "code",
   "execution_count": null,
   "metadata": {
    "nbgrader": {
     "grade": true,
     "grade_id": "cell-1d6dc5e2888fef2a",
     "locked": false,
     "points": 1,
     "schema_version": 3,
     "solution": true,
     "task": false
    }
   },
   "outputs": [],
   "source": [
    "# YOUR CODE HERE"
   ]
  },
  {
   "cell_type": "markdown",
   "metadata": {
    "nbgrader": {
     "grade": true,
     "grade_id": "cell-ea9be1774631fcf6",
     "locked": false,
     "points": 0,
     "schema_version": 3,
     "solution": true,
     "task": false
    }
   },
   "source": [
    " ANSWER HERE"
   ]
  },
  {
   "cell_type": "markdown",
   "metadata": {
    "nbgrader": {
     "grade": false,
     "grade_id": "cell-03635c2200a593a0",
     "locked": true,
     "schema_version": 3,
     "solution": false,
     "task": false
    }
   },
   "source": [
    "## Hyssop's Communicative Efficiency Analysis of Fictional Spices\n",
    "\n",
    "One of my fictional students, Hyssop, wants to do an communicative efficiency analysis of the words for spices from their favorite fantasy series. Hyssop has some concerns about implementing the KL Divergence to measure the difference between two probability distributions. He's concerned that the standard KL functions don't give informative error messages when assumptions are violated.\n",
    "\n",
    "Here are the KL Divergence Assumptions they're concerned about:\n",
    "\n",
    "1) Both distributions have to have the same support over X <br>\n",
    "2) $\\sum$ P(x) = 1 <br>\n",
    "3) $\\sum$ Q(x) = 1 <br>\n",
    "\n",
    "Now that we're experts at the function syntax. Let's try adding some built in tests to our function using the `stopifnot` function.\n",
    "\n",
    "The arguements of the `stopifnot` function are the conditions that must be true in order to keep running the function. Each condition is labeled with an error message.\n",
    "\n",
    "`stopifnot(ERROR = CONDITION, ...)`\n",
    "\n",
    "You can play with the following example:"
   ]
  },
  {
   "cell_type": "code",
   "execution_count": null,
   "metadata": {},
   "outputs": [],
   "source": [
    "x <- 4\n",
    "y <- 1\n",
    "\n",
    "stopifnot('x has negative value'= x > 0,\n",
    "         'y is greater than x'= y <= x )\n"
   ]
  },
  {
   "cell_type": "markdown",
   "metadata": {
    "nbgrader": {
     "grade": false,
     "grade_id": "cell-3a67c64524a9d16f",
     "locked": true,
     "schema_version": 3,
     "solution": false,
     "task": false
    }
   },
   "source": [
    "<div class=\"alert alert-info\" role=\"alert\">\n",
    "\n",
    "<h3>Exercise 6</h3>\n",
    "\n",
    "Let's write them a function for KL divergence that also checks these assumptions. \n",
    "\n",
    "(3 Point)\n",
    "</div>"
   ]
  },
  {
   "cell_type": "code",
   "execution_count": null,
   "metadata": {},
   "outputs": [],
   "source": [
    "\n",
    "kl_divergence = function(p, q){\n",
    "    \n",
    "    stopifnot('Both distributions should have the same support' = # YOUR CODE HERE\n",
    "               'P(X) = 1' = # YOUR CODE HERE\n",
    "               'Q(X) = 1' = # YOUR CODE HERE )\n",
    "    \n",
    "    # YOUR CODE HERE\n",
    "}\n"
   ]
  },
  {
   "cell_type": "code",
   "execution_count": null,
   "metadata": {
    "nbgrader": {
     "grade": true,
     "grade_id": "cell-a633fd76f4cfcd65",
     "locked": true,
     "points": 3,
     "schema_version": 3,
     "solution": false,
     "task": false
    }
   },
   "outputs": [],
   "source": [
    "# Let's test if both distributions should have the same support\n",
    "\n",
    "# This should produce an error\n",
    "expect_error(kl_divergence(c(1, 1, 1)/3, c(1, 0)), 'support' )\n",
    "\n",
    "# This shouldn't produce an error\n",
    "expect_gt(kl_divergence(c(1, 1, 1)/3, c(0.5, 0.25, 0.25)), 0)\n",
    "\n",
    "# Let's test if P(X) sums to one.\n",
    "\n",
    "expect_error(kl_divergence(c(1, 2, 1)/3, c(1, 1, 1)/3), 'P\\\\(X\\\\)')\n",
    "\n",
    "expect_gt(kl_divergence(c(0.64, 0.16, 0.2), c(1, 1, 1)/3), 0)\n",
    "\n",
    "# Let's test if Q(X) sums to one.\n",
    "\n",
    "expect_error(kl_divergence(c(1, 1, 1)/3, c(4, 1, 1)/3), 'Q\\\\(X\\\\)')\n",
    "\n",
    "expect_gt(kl_divergence(c(0.32, 0.32, 0.36), c(1, 1, 1)/3), 0)\n",
    "\n",
    "# Hidden Tests\n",
    "\n",
    "### BEGIN HIDDEN TESTS\n",
    "expect_equal(kl_divergence( c(1, 1, 1)/3 , c(0.1, 0.8, 0.1) ), 0.736965594166206, tol=0.00001)\n",
    "expect_equal(kl_divergence( c(0.8, 0.1, 0.1) , c(0.1, 0.8, 0.1) ), 2.1, tol=0.00001)\n",
    "expect_equal(kl_divergence( c(0.4, 0.1, 0.4, 0.1), c(0.25, 0.25, 0.25, 0.25) ), 0.278071905112638, tol=0.00001)\n",
    "### END HIDDEN TESTS\n"
   ]
  }
 ],
 "metadata": {
  "celltoolbar": "Create Assignment",
  "kernelspec": {
   "display_name": "R",
   "language": "R",
   "name": "ir"
  },
  "language_info": {
   "codemirror_mode": "r",
   "file_extension": ".r",
   "mimetype": "text/x-r-source",
   "name": "R",
   "pygments_lexer": "r",
   "version": "4.1.0"
  }
 },
 "nbformat": 4,
 "nbformat_minor": 4
}
