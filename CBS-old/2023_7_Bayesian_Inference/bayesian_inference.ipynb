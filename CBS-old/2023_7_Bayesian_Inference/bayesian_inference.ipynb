{
 "cells": [
  {
   "cell_type": "markdown",
   "metadata": {
    "deletable": false,
    "editable": false,
    "nbgrader": {
     "cell_type": "markdown",
     "checksum": "2b8490bda17ab061ae5397c4178a3db1",
     "grade": false,
     "grade_id": "cell-84b67070ad409557",
     "locked": true,
     "schema_version": 3,
     "solution": false,
     "task": false
    }
   },
   "source": [
    "# CBS Week 7 Exercise:  Bayesian Inference\n"
   ]
  },
  {
   "cell_type": "code",
   "execution_count": null,
   "metadata": {
    "deletable": false,
    "editable": false,
    "nbgrader": {
     "cell_type": "code",
     "checksum": "3cec2efdfd72efde5471877431331d0f",
     "grade": false,
     "grade_id": "cell-17a4fb7156cee4c7",
     "locked": true,
     "schema_version": 3,
     "solution": false,
     "task": false
    }
   },
   "outputs": [],
   "source": [
    "suppressPackageStartupMessages({\n",
    "    library(tidyverse)\n",
    "    library(testthat)\n",
    "    library(knitr)\n",
    "    library(kableExtra)\n",
    "    library(IRdisplay)  \n",
    "})\n",
    "\n",
    "# a function for displaying tables\n",
    "show_table <- function(d) {\n",
    "    kable(d, \"html\", align=\"c\")  %>% \n",
    "        as.character()  %>% \n",
    "        display_html()\n",
    "}"
   ]
  },
  {
   "cell_type": "markdown",
   "metadata": {
    "deletable": false,
    "editable": false,
    "nbgrader": {
     "cell_type": "markdown",
     "checksum": "472173643abdadd77a0181456f29027a",
     "grade": false,
     "grade_id": "cell-2c8e1e3cd62047cd",
     "locked": true,
     "schema_version": 3,
     "solution": false,
     "task": false
    }
   },
   "source": [
    "This notebook is designed to give you practice working with joint probability distributions. Once you have a joint distribution over a set of variables, you can make just about any inference you might be interested in, so it's important to get comfortable working with joint distributions.\n",
    "\n",
    "We're going to follow the tabular approach to inference described in class. Instead of writing code, please solve the problems in this notebook by drawing up tables on paper. The solutions provided will be implemented using code, but what matters for this week is the concepts, not the code, and manipulating tables using code is a little bit cumbersome. *After* you've solved the problems by hand, you could try going back and writing code to replicate what you did on paper. But please solve the problems on paper first!\n",
    "\n",
    "For each problem, please draw up a table in which the rows represent all possible settings of the variables of interest. The joint distribution over these variables assigns a probability to each row, and can be represented as a column of the table.\n",
    "\n",
    "The code-based solutions given in this notebook will represent each probability table using dataframe. To work with these dataframes, we're going to use functions from the tidyverse, including `mutate()`, `filter()`, `pull()`, `left_join()` and the pipe operator `%>%`. If you're not familiar with the tidyverse or would like to refresh your memory, please take a look at [R for psychological science]( https://psyr.djnavarro.net/index.html ) by Danielle Navarro. The following sections discuss core elements of the tidyverse:\n",
    "* https://psyr.djnavarro.net/prelude-to-data.html\n",
    "* https://psyr.djnavarro.net/describing-data.html\n",
    "* https://psyr.djnavarro.net/manipulating-data.html\n",
    "\n",
    "\n",
    "## Probability Theory\n",
    "\n",
    "We'll get started with an example inspired by the work of Judea Pearl (you'll hear more about him in Week 9). Suppose that you live on the West Coast of the USA. On any given day, your house may or may not be robbed, an earthquake may or may not occur, and your house alarm may or may not sound. We'll use three binary variables `R` (robbery), `E` (earthquake) and `A` (alarm) to keep track of the three possible events.  Let's use 1 for FALSE and 2 (which rhymes with TRUE) for TRUE. So R = 2 means that your house is robbed and R = 1 means that your house is not robbed.\n",
    "\n",
    "We'll start by setting up a joint distribution over three binary variables. Because there are three binary variables, there are $2^3$ = 8 possible settings of the variables. We'll directly specify a joint probability distribution `P(R,E,A)` over these settings."
   ]
  },
  {
   "cell_type": "code",
   "execution_count": null,
   "metadata": {
    "deletable": false,
    "editable": false,
    "nbgrader": {
     "cell_type": "code",
     "checksum": "8fec5a5b879f61a3362df4f7f657edb2",
     "grade": false,
     "grade_id": "cell-77cdd3a0e36f6f81",
     "locked": true,
     "schema_version": 3,
     "solution": false,
     "task": false
    }
   },
   "outputs": [],
   "source": [
    "d1 <- tibble(R = c(1,1,1,1,2,2,2,2), \n",
    "             E = c(1,1,2,2,1,1,2,2), \n",
    "             A = c(1,2,1,2,1,2,1,2), \n",
    "             p_r_e_a = c(0.84, 0.01, 0.07, 0.03, 0.003, 0.04, 0.001, 0.006) )\n",
    "\n",
    "show_table(d1)"
   ]
  },
  {
   "cell_type": "markdown",
   "metadata": {
    "deletable": false,
    "editable": false,
    "nbgrader": {
     "cell_type": "markdown",
     "checksum": "2429d342db2682881d4350c56cccee2b",
     "grade": false,
     "grade_id": "cell-fc3a659696b19a24",
     "locked": true,
     "points": 0,
     "schema_version": 3,
     "solution": false,
     "task": true
    }
   },
   "source": [
    "### Exercise 1 (1 point)\n",
    "What is the most likely setting of the three variables? And what is the least likely?\n"
   ]
  },
  {
   "cell_type": "markdown",
   "metadata": {
    "deletable": false,
    "nbgrader": {
     "cell_type": "markdown",
     "checksum": "b215757dc320f0bedaa2627e11a514c3",
     "grade": true,
     "grade_id": "cell-d85df5de29d82ecf",
     "locked": false,
     "points": 1,
     "schema_version": 3,
     "solution": true,
     "task": false
    }
   },
   "source": [
    "YOUR ANSWER HERE"
   ]
  },
  {
   "cell_type": "markdown",
   "metadata": {
    "deletable": false,
    "editable": false,
    "nbgrader": {
     "cell_type": "markdown",
     "checksum": "1540afbf8411a7a6112a740e3acd89c8",
     "grade": false,
     "grade_id": "cell-40ffb5d475db0499",
     "locked": true,
     "points": 0,
     "schema_version": 3,
     "solution": false,
     "task": true
    }
   },
   "source": [
    "\n",
    "### Exercise 2 (1 point)\n",
    "\n",
    "To make sense as a probability distribution `d1$p_r_e_a` needs to sum to 1 -- please check that this condition is satisfied. \n"
   ]
  },
  {
   "cell_type": "code",
   "execution_count": null,
   "metadata": {
    "deletable": false,
    "nbgrader": {
     "cell_type": "code",
     "checksum": "dfb4eb44e2ff191e21767e88ee943a51",
     "grade": true,
     "grade_id": "cell-3faf36334e6fa243",
     "locked": false,
     "points": 1,
     "schema_version": 3,
     "solution": true,
     "task": false
    }
   },
   "outputs": [],
   "source": [
    "# YOUR CODE HERE\n",
    "stop('No Answer Given!')"
   ]
  },
  {
   "cell_type": "markdown",
   "metadata": {
    "deletable": false,
    "editable": false,
    "nbgrader": {
     "cell_type": "markdown",
     "checksum": "ddcecfa477465c8aae48d52bb24c3eda",
     "grade": false,
     "grade_id": "cell-8ca46c50b736f120",
     "locked": true,
     "schema_version": 3,
     "solution": false,
     "task": false
    }
   },
   "source": [
    "Having the joint distribution `d1` allows you to compute distributions over any subset of variables given observations over any other subset of variables. We'll try a few examples. In all cases we'll use a tabular approach to inference: we'll add columns to the table `d1` as needed then extract the values in these columns that correspond to the quantities we're interested.\n",
    "\n",
    "### Exercise 3 (1 point)\n",
    "What's the probability that R, E and A all equal 2? We'll use `p_r2_e2_a2` to denote $P(R=2,E=2,A=2)$."
   ]
  },
  {
   "cell_type": "code",
   "execution_count": null,
   "metadata": {
    "deletable": false,
    "nbgrader": {
     "cell_type": "code",
     "checksum": "57d570039449a15944aa11b877932169",
     "grade": false,
     "grade_id": "cell-5307472b1f6b3182",
     "locked": false,
     "schema_version": 3,
     "solution": true,
     "task": false
    }
   },
   "outputs": [],
   "source": [
    "# compute P(R=2,E=2,A=2)\n",
    "p_r2_e2_a2 <-\n",
    "# YOUR CODE HERE\n",
    "stop('No Answer Given!')"
   ]
  },
  {
   "cell_type": "code",
   "execution_count": null,
   "metadata": {
    "deletable": false,
    "editable": false,
    "nbgrader": {
     "cell_type": "code",
     "checksum": "45e06c82a1cff7aa48be4884f79acabe",
     "grade": true,
     "grade_id": "cell-0c3de2439738b216",
     "locked": true,
     "points": 1,
     "schema_version": 3,
     "solution": false,
     "task": false
    }
   },
   "outputs": [],
   "source": [
    "# this cell contains some hidden tests! You can leave it empty except for this comment"
   ]
  },
  {
   "cell_type": "markdown",
   "metadata": {
    "deletable": false,
    "editable": false,
    "nbgrader": {
     "cell_type": "markdown",
     "checksum": "c36a83f3f65b7489065eeecde0231589",
     "grade": false,
     "grade_id": "cell-95104f328aeeb4c1",
     "locked": true,
     "schema_version": 3,
     "solution": false,
     "task": false
    }
   },
   "source": [
    "The handout for Week 7 includes equations for Marginalization and Conditional Probability that apply when there are just two variables `a` and `b`. Let's try out similar ideas for the three variable case. \n",
    "\n",
    "### Exercise 4 (1 point)\n",
    "We'll now compute $P(A=2)$, or the probability that the alarm sounds on any given day. We'll use `p_a2` to denote this probability. \n",
    "\n",
    "As a first step towards computing `p_a2`, add a column to `d1` called `p_a` that specifies the marginal distribution $P(a)$ on $A$. On your first pass through this notebook, please do this on paper.\n",
    "\n",
    "If you're going through the notebook a second time and writing code, the cleanest way to add the `p_a` column is to use `group_by()` then `mutate()`. Fix the `mutate()` statement below so that `p_a` is defined properly (currently it is set to a constant)."
   ]
  },
  {
   "cell_type": "code",
   "execution_count": null,
   "metadata": {
    "deletable": false,
    "nbgrader": {
     "cell_type": "code",
     "checksum": "d256a3f0f84ead4e7f23a7e66deba94b",
     "grade": false,
     "grade_id": "cell-2c5649ea8976033f",
     "locked": false,
     "schema_version": 3,
     "solution": true,
     "task": false
    }
   },
   "outputs": [],
   "source": [
    "d1 <-  d1 %>%\n",
    "    group_by(A) %>% \n",
    "    mutate(p_a = 1)  %>%  # Fix this line so that p_a specifies the marginal distribution P(a)\n",
    "    ungroup()  %>% \n",
    "    arrange(R,E,A)\n",
    "\n",
    "# YOUR CODE HERE\n",
    "stop('No Answer Given!')\n",
    "show_table(d1)"
   ]
  },
  {
   "cell_type": "code",
   "execution_count": null,
   "metadata": {
    "deletable": false,
    "editable": false,
    "nbgrader": {
     "cell_type": "code",
     "checksum": "eb70669a6afa06dde3ccecf03a512160",
     "grade": true,
     "grade_id": "cell-3953e1f1658e4f9e",
     "locked": true,
     "points": 1,
     "schema_version": 3,
     "solution": false,
     "task": false
    }
   },
   "outputs": [],
   "source": [
    "# this cell contains some hidden tests! You can leave it empty except for this comment"
   ]
  },
  {
   "cell_type": "markdown",
   "metadata": {
    "deletable": false,
    "editable": false,
    "nbgrader": {
     "cell_type": "markdown",
     "checksum": "fd5a7e296869ee686f6f2f555be2f8a7",
     "grade": false,
     "grade_id": "cell-f2cebb4fc5247bf1",
     "locked": true,
     "schema_version": 3,
     "solution": false,
     "task": false
    }
   },
   "source": [
    "We've introduced some redundancy here --- for example, the odd-numbered rows all have $A = 1$ which means that `p_a` is identical for all four rows. \n",
    "\n",
    "Note that column `p_a` does NOT specify a probability distribution over the 8 rows of the table -- for a start, this column does not sum to 1.\n",
    "\n",
    "\n",
    "### Exercise 5 (1 point)\n",
    "Now use the new column `p_a` to identify the value of $P(A=2)$:"
   ]
  },
  {
   "cell_type": "code",
   "execution_count": null,
   "metadata": {
    "deletable": false,
    "nbgrader": {
     "cell_type": "code",
     "checksum": "3f9860a34033dbcffc2110222d16abe0",
     "grade": false,
     "grade_id": "cell-2c5649ea8976033b",
     "locked": false,
     "schema_version": 3,
     "solution": true,
     "task": false
    }
   },
   "outputs": [],
   "source": [
    "p_a2 <- \n",
    "# YOUR CODE HERE\n",
    "stop('No Answer Given!')"
   ]
  },
  {
   "cell_type": "code",
   "execution_count": null,
   "metadata": {
    "deletable": false,
    "editable": false,
    "nbgrader": {
     "cell_type": "code",
     "checksum": "e83344f5a66829c25203f28afc27177f",
     "grade": true,
     "grade_id": "cell-4918b0de17357819",
     "locked": true,
     "points": 1,
     "schema_version": 3,
     "solution": false,
     "task": false
    }
   },
   "outputs": [],
   "source": [
    "# this cell contains some hidden tests! You can leave it empty except for this comment"
   ]
  },
  {
   "cell_type": "markdown",
   "metadata": {
    "deletable": false,
    "editable": false,
    "nbgrader": {
     "cell_type": "markdown",
     "checksum": "db09cb8e780b8ec7bccb412a88ea2ee7",
     "grade": false,
     "grade_id": "cell-d59bb1455c695f0a",
     "locked": true,
     "schema_version": 3,
     "solution": false,
     "task": false
    }
   },
   "source": [
    "### Exercise 6 (1 point)\n",
    "Let's now compute $P(R=2,E=2)$, or the probability that R and E both equal 2.\n",
    "\n",
    "As a first step, add a column to `d1` called `p_r_e` that specifies the marginal distribution $P(r,e)$ on $R$ and $E$. "
   ]
  },
  {
   "cell_type": "code",
   "execution_count": null,
   "metadata": {
    "deletable": false,
    "nbgrader": {
     "cell_type": "code",
     "checksum": "77133e89b21befb85b7c105ef002c0c9",
     "grade": false,
     "grade_id": "cell-ac07e20e3e08d054",
     "locked": false,
     "schema_version": 3,
     "solution": true,
     "task": false
    }
   },
   "outputs": [],
   "source": [
    "d1 <-\n",
    "# YOUR CODE HERE\n",
    "stop('No Answer Given!')\n",
    "show_table(d1)"
   ]
  },
  {
   "cell_type": "code",
   "execution_count": null,
   "metadata": {
    "deletable": false,
    "editable": false,
    "nbgrader": {
     "cell_type": "code",
     "checksum": "05f218deadca131f3a97e0b99fa552f2",
     "grade": true,
     "grade_id": "cell-1bb200b74664ecd7",
     "locked": true,
     "points": 1,
     "schema_version": 3,
     "solution": false,
     "task": false
    }
   },
   "outputs": [],
   "source": [
    "# this cell contains some hidden tests! You can leave it empty except for this comment"
   ]
  },
  {
   "cell_type": "markdown",
   "metadata": {
    "deletable": false,
    "editable": false,
    "nbgrader": {
     "cell_type": "markdown",
     "checksum": "cf0cb13c091f885c32fa48cbad439b9d",
     "grade": false,
     "grade_id": "cell-a28524ad9339150b",
     "locked": true,
     "schema_version": 3,
     "solution": false,
     "task": false
    }
   },
   "source": [
    "### Exercise 7 (1 point)\n",
    "Now use the new column `p_r_e` to identify the value of $P(R=2, E=2)$:"
   ]
  },
  {
   "cell_type": "code",
   "execution_count": null,
   "metadata": {
    "deletable": false,
    "nbgrader": {
     "cell_type": "code",
     "checksum": "4f8458acabd6a56fb6ca22c61a9cd3fb",
     "grade": false,
     "grade_id": "cell-ac07e20e3e08d093",
     "locked": false,
     "schema_version": 3,
     "solution": true,
     "task": false
    }
   },
   "outputs": [],
   "source": [
    "p_r2_e2 <-\n",
    "# YOUR CODE HERE\n",
    "stop('No Answer Given!')"
   ]
  },
  {
   "cell_type": "code",
   "execution_count": null,
   "metadata": {
    "deletable": false,
    "editable": false,
    "nbgrader": {
     "cell_type": "code",
     "checksum": "55ea420480f8832da36c1b254bd5662a",
     "grade": true,
     "grade_id": "cell-39cbf625fe6c19d1",
     "locked": true,
     "points": 1,
     "schema_version": 3,
     "solution": false,
     "task": false
    }
   },
   "outputs": [],
   "source": [
    "# this cell contains some hidden tests! You can leave it empty except for this comment"
   ]
  },
  {
   "cell_type": "markdown",
   "metadata": {
    "deletable": false,
    "editable": false,
    "nbgrader": {
     "cell_type": "markdown",
     "checksum": "c800ed58f22ddf966ee82814a62d8d4b",
     "grade": false,
     "grade_id": "cell-f55c42a4166451ad",
     "locked": true,
     "schema_version": 3,
     "solution": false,
     "task": false
    }
   },
   "source": [
    "### Exercise 8 (1 point)\n",
    "Now we'll compute $P(A=2|R=2,E=2)$, or the probability that A=2 given that R and E both equal 2. We'll use `p_a2_given_r2_e2` as the variable name for this conditional probability.\n",
    "\n",
    "As a first step, add a column to `d1` called `p_a_given_r_e` that captures the conditional distribution $P(a|r,e)$."
   ]
  },
  {
   "cell_type": "code",
   "execution_count": null,
   "metadata": {
    "deletable": false,
    "nbgrader": {
     "cell_type": "code",
     "checksum": "926616b7d31dbf64b2363a788250d215",
     "grade": false,
     "grade_id": "cell-52315b903a35e73d",
     "locked": false,
     "schema_version": 3,
     "solution": true,
     "task": false
    }
   },
   "outputs": [],
   "source": [
    "d1 <- \n",
    "# YOUR CODE HERE\n",
    "stop('No Answer Given!')\n",
    "show_table(d1)"
   ]
  },
  {
   "cell_type": "code",
   "execution_count": null,
   "metadata": {
    "deletable": false,
    "editable": false,
    "nbgrader": {
     "cell_type": "code",
     "checksum": "33f29cafee159914ec90fb52c39d9588",
     "grade": true,
     "grade_id": "cell-09364331ade3e09f",
     "locked": true,
     "points": 1,
     "schema_version": 3,
     "solution": false,
     "task": false
    }
   },
   "outputs": [],
   "source": [
    "# this cell contains some hidden tests! You can leave it empty except for this comment"
   ]
  },
  {
   "cell_type": "markdown",
   "metadata": {
    "deletable": false,
    "editable": false,
    "nbgrader": {
     "cell_type": "markdown",
     "checksum": "e335f441d6ed0f8b67560f762cd74e76",
     "grade": false,
     "grade_id": "cell-a69e30b889963cd8",
     "locked": true,
     "schema_version": 3,
     "solution": false,
     "task": false
    }
   },
   "source": [
    "### Exercise 9 (1 point)\n",
    "Now use the new column `p_a_given_r_e` to identify the value of $P(A=2 | R=2, E=2)$:"
   ]
  },
  {
   "cell_type": "code",
   "execution_count": null,
   "metadata": {
    "deletable": false,
    "nbgrader": {
     "cell_type": "code",
     "checksum": "49ede73a3a23e0812d01939df0dcf29d",
     "grade": false,
     "grade_id": "cell-a7250b0a33819b33",
     "locked": false,
     "schema_version": 3,
     "solution": true,
     "task": false
    }
   },
   "outputs": [],
   "source": [
    "p_a2_given_r2_e2 <- \n",
    "# YOUR CODE HERE\n",
    "stop('No Answer Given!')"
   ]
  },
  {
   "cell_type": "code",
   "execution_count": null,
   "metadata": {
    "deletable": false,
    "editable": false,
    "nbgrader": {
     "cell_type": "code",
     "checksum": "943d9a6003da02f890dac43ca7d92d60",
     "grade": true,
     "grade_id": "cell-d7e6ec704f86e4c8",
     "locked": true,
     "points": 1,
     "schema_version": 3,
     "solution": false,
     "task": false
    }
   },
   "outputs": [],
   "source": [
    "# this cell contains some hidden tests! You can leave it empty except for this comment"
   ]
  },
  {
   "cell_type": "markdown",
   "metadata": {
    "deletable": false,
    "editable": false,
    "nbgrader": {
     "cell_type": "markdown",
     "checksum": "2a5480ed31977556e3b57df1cd5ad007",
     "grade": false,
     "grade_id": "cell-2e802d8a771a43d3",
     "locked": true,
     "schema_version": 3,
     "solution": false,
     "task": false
    }
   },
   "source": [
    "### Exercise 10 (1 point)\n",
    "Now compute $P(A=2|R=2)$, or the probability that A equals 2 given that R equals 2. We'll use `p_a2_given_r2` as the name for this conditional probability.\n",
    "\n",
    "As a first step, add columns to `d1` called `p_r_a`, `p_r` and `p_a_given_r` that capture $P(R,A)$, $P(R)$ and $P(A|R)$ respectively."
   ]
  },
  {
   "cell_type": "code",
   "execution_count": null,
   "metadata": {
    "deletable": false,
    "nbgrader": {
     "cell_type": "code",
     "checksum": "84eefc3478583980ea6767928959910b",
     "grade": false,
     "grade_id": "cell-9d001d82bea17c93",
     "locked": false,
     "schema_version": 3,
     "solution": true,
     "task": false
    }
   },
   "outputs": [],
   "source": [
    "d1 <- \n",
    "# YOUR CODE HERE\n",
    "stop('No Answer Given!')\n",
    "show_table(d1)"
   ]
  },
  {
   "cell_type": "code",
   "execution_count": null,
   "metadata": {
    "deletable": false,
    "editable": false,
    "nbgrader": {
     "cell_type": "code",
     "checksum": "a16c8385a2c6793751005312b9f7d608",
     "grade": true,
     "grade_id": "cell-3a4cf795d5a8cc51",
     "locked": true,
     "points": 0,
     "schema_version": 3,
     "solution": false,
     "task": false
    }
   },
   "outputs": [],
   "source": [
    "# this cell contains some hidden tests! You can leave it empty except for this comment"
   ]
  },
  {
   "cell_type": "markdown",
   "metadata": {
    "deletable": false,
    "editable": false,
    "nbgrader": {
     "cell_type": "markdown",
     "checksum": "e11bbb8f8e62ff01ef06786f9cad5ebe",
     "grade": false,
     "grade_id": "cell-e533a18e54d9fc5b",
     "locked": true,
     "schema_version": 3,
     "solution": false,
     "task": false
    }
   },
   "source": [
    "### Exercise 11 (1 point)\n",
    "Now use the new column `p_a_given_r` to identify the value of $P(A=2 | R=2)$:"
   ]
  },
  {
   "cell_type": "code",
   "execution_count": null,
   "metadata": {
    "deletable": false,
    "nbgrader": {
     "cell_type": "code",
     "checksum": "e8e34a405c6af647dcfda45ea5f4cebe",
     "grade": false,
     "grade_id": "cell-9d001d82bea17c38",
     "locked": false,
     "schema_version": 3,
     "solution": true,
     "task": false
    }
   },
   "outputs": [],
   "source": [
    "p_a2_given_r2 <- \n",
    "# YOUR CODE HERE\n",
    "stop('No Answer Given!')"
   ]
  },
  {
   "cell_type": "code",
   "execution_count": null,
   "metadata": {
    "deletable": false,
    "editable": false,
    "nbgrader": {
     "cell_type": "code",
     "checksum": "bbcfa2faca298cc125bb774512448535",
     "grade": true,
     "grade_id": "cell-462a6331947fb19a",
     "locked": true,
     "points": 2,
     "schema_version": 3,
     "solution": false,
     "task": false
    }
   },
   "outputs": [],
   "source": [
    "# this cell contains some hidden tests! You can leave it empty except for this comment"
   ]
  },
  {
   "cell_type": "markdown",
   "metadata": {
    "deletable": false,
    "editable": false,
    "nbgrader": {
     "cell_type": "markdown",
     "checksum": "5f9dd4b3e292ab9a449f317ddd26dc60",
     "grade": false,
     "grade_id": "cell-403769af570610cf",
     "locked": true,
     "schema_version": 3,
     "solution": false,
     "task": false
    }
   },
   "source": [
    "Now let's think about another distribution on three binary variables X, Y and Z. This time we're not explicitly given the joint distribution `P(x,y,z)` -- instead we are given the distributions `P(x)`, `P(y|x)`, and `P(z|x,y)`.\n",
    "\n",
    "Here's the distribution `P(x)`:\n"
   ]
  },
  {
   "cell_type": "code",
   "execution_count": null,
   "metadata": {
    "deletable": false,
    "editable": false,
    "nbgrader": {
     "cell_type": "code",
     "checksum": "998e9434726e2a97f4fac4d1f4318abe",
     "grade": false,
     "grade_id": "cell-45add96509cc0ed9",
     "locked": true,
     "schema_version": 3,
     "solution": false,
     "task": false
    }
   },
   "outputs": [],
   "source": [
    "xtab <- tibble(X = c(1,2), p_x = c(0.2,0.8) )  \n",
    "show_table(xtab)"
   ]
  },
  {
   "cell_type": "markdown",
   "metadata": {
    "deletable": false,
    "editable": false,
    "nbgrader": {
     "cell_type": "markdown",
     "checksum": "23b11308638c41a34e4b30084a6ba0e3",
     "grade": false,
     "grade_id": "cell-17e6b74a80ba96fd",
     "locked": true,
     "schema_version": 3,
     "solution": false,
     "task": false
    }
   },
   "source": [
    "Here's the conditional probability distribution `P(y|x)`:"
   ]
  },
  {
   "cell_type": "code",
   "execution_count": null,
   "metadata": {
    "deletable": false,
    "editable": false,
    "nbgrader": {
     "cell_type": "code",
     "checksum": "f6b42075ad65d628ccdc623639cff250",
     "grade": false,
     "grade_id": "cell-faaac4831587b87b",
     "locked": true,
     "schema_version": 3,
     "solution": false,
     "task": false
    }
   },
   "outputs": [],
   "source": [
    "ytab <- tibble(X = c(1,1,2,2), Y = c(1,2,1,2), p_y_given_x = c(0.9,0.1,0.1, 0.9) )\n",
    "show_table(ytab)"
   ]
  },
  {
   "cell_type": "markdown",
   "metadata": {
    "deletable": false,
    "editable": false,
    "nbgrader": {
     "cell_type": "markdown",
     "checksum": "ea97be5a95f27421951f160e2d91cdbe",
     "grade": false,
     "grade_id": "cell-60d57fb71063dd66",
     "locked": true,
     "schema_version": 3,
     "solution": false,
     "task": false
    }
   },
   "source": [
    "And here's the conditional probability distribution `P(z|x,y)`:"
   ]
  },
  {
   "cell_type": "code",
   "execution_count": null,
   "metadata": {
    "deletable": false,
    "editable": false,
    "nbgrader": {
     "cell_type": "code",
     "checksum": "272870061ac35c58f7b0bda509489c88",
     "grade": false,
     "grade_id": "cell-71c39b32b453598f",
     "locked": true,
     "schema_version": 3,
     "solution": false,
     "task": false
    }
   },
   "outputs": [],
   "source": [
    "ztab <- tibble(X = c(1,1,1,1,2,2,2,2), Y = c(1,1,2,2,1,1,2,2), Z = c(1,2,1,2,1,2,1,2), p_z_given_x_y = c(1,0,0.5,0.5,0.5,0.5,0,1) )\n",
    "show_table(ztab)"
   ]
  },
  {
   "cell_type": "markdown",
   "metadata": {
    "deletable": false,
    "editable": false,
    "nbgrader": {
     "cell_type": "markdown",
     "checksum": "a76b7cab126cdf9b548c5ed18ae5e89d",
     "grade": false,
     "grade_id": "cell-8219161b5ad5894f",
     "locked": true,
     "schema_version": 3,
     "solution": false,
     "task": false
    }
   },
   "source": [
    "We can combine these three elements into a larger table `d2` as follows."
   ]
  },
  {
   "cell_type": "code",
   "execution_count": null,
   "metadata": {
    "deletable": false,
    "editable": false,
    "nbgrader": {
     "cell_type": "code",
     "checksum": "73775b6beb92f652fd68f7d730595ebe",
     "grade": false,
     "grade_id": "cell-b0ecbc87e62d91fb",
     "locked": true,
     "schema_version": 3,
     "solution": false,
     "task": false
    }
   },
   "outputs": [],
   "source": [
    "d2 <- xtab  %>% \n",
    "    left_join(ytab, by = c(\"X\"))  %>% \n",
    "    left_join(ztab, by = c(\"X\", \"Y\"))  %>% \n",
    "    relocate(X,Y,Z)\n",
    "show_table(d2)"
   ]
  },
  {
   "cell_type": "markdown",
   "metadata": {
    "deletable": false,
    "editable": false,
    "nbgrader": {
     "cell_type": "markdown",
     "checksum": "898ab41845df3ef3112fafaa831c09ed",
     "grade": false,
     "grade_id": "cell-ed4a3c4a15d0e206",
     "locked": true,
     "schema_version": 3,
     "solution": false,
     "task": false
    }
   },
   "source": [
    "Let's pick just a single row in the table -- the third row. The entries in this row tell us  that $P(X = 1) = 0.2$, that  $P(Y = 2 | X = 1) = 0.1$, and that  $P(Z = 1|X = 1, Y = 2) = 0.5$.  \n",
    "\n",
    "The handout for Week 7 (available on Canvas) includes an equation for the Chain Rule that covers the two variable case. We can use a similar idea here to compute the joint distribution over the three variables `x`, `y` and `z`.\n",
    "\n",
    "### Exercise 12 (1 point)\n",
    "\n",
    "Add a column `p_x_y_z` to `d2` that specifies a joint distribution over the 8 possible settings of the three variables."
   ]
  },
  {
   "cell_type": "code",
   "execution_count": null,
   "metadata": {
    "deletable": false,
    "nbgrader": {
     "cell_type": "code",
     "checksum": "225a593956149ebb6df73a6655993baf",
     "grade": false,
     "grade_id": "cell-798077ba9a0e7eff",
     "locked": false,
     "schema_version": 3,
     "solution": true,
     "task": false
    }
   },
   "outputs": [],
   "source": [
    "d2 <- d2  %>% \n",
    "# YOUR CODE HERE\n",
    "stop('No Answer Given!')\n",
    "show_table(d2)"
   ]
  },
  {
   "cell_type": "code",
   "execution_count": null,
   "metadata": {
    "deletable": false,
    "editable": false,
    "nbgrader": {
     "cell_type": "code",
     "checksum": "f82666f093026f973e7efe1db8eca5ab",
     "grade": true,
     "grade_id": "cell-747d28eacce699bf",
     "locked": true,
     "points": 1,
     "schema_version": 3,
     "solution": false,
     "task": false
    }
   },
   "outputs": [],
   "source": [
    "# this cell contains one visible test in addition to some hidden tests -- you don't need to edit it\n",
    "expect_equal(sum(d2$p_x_y_z), 1)"
   ]
  },
  {
   "cell_type": "markdown",
   "metadata": {
    "deletable": false,
    "editable": false,
    "nbgrader": {
     "cell_type": "markdown",
     "checksum": "cf3bf433b38c0a4274b880c9bbe8ca21",
     "grade": false,
     "grade_id": "cell-9614120449c7751b",
     "locked": true,
     "schema_version": 3,
     "solution": false,
     "task": false
    }
   },
   "source": [
    "Now that we've computed the joint distribution, we can use it to compute distributions over any subset of variables given observations over any other subset of variables. We'll do just one example.\n",
    "\n",
    "### Exercise 13 (1 point)\n",
    "\n",
    "Let's compute $P(X=2|Z=2)$, or the probability that $X = 2$ given that $Z = 2$. Following the same tabular approach used earlier, we'll start by adding columns  `p_x_z`, `p_z`, and `p_x_given_z` to `d2` that capture the marginal distributions  $P(X,Z)$ and $P(Z)$ and and the conditional distribution $P(X|Z)$."
   ]
  },
  {
   "cell_type": "code",
   "execution_count": null,
   "metadata": {
    "deletable": false,
    "nbgrader": {
     "cell_type": "code",
     "checksum": "292f1297ec045a814db916f313f20aea",
     "grade": false,
     "grade_id": "cell-c43efd590069fb47",
     "locked": false,
     "schema_version": 3,
     "solution": true,
     "task": false
    }
   },
   "outputs": [],
   "source": [
    "d2 <- \n",
    "# YOUR CODE HERE\n",
    "stop('No Answer Given!')\n",
    "show_table(d2)"
   ]
  },
  {
   "cell_type": "code",
   "execution_count": null,
   "metadata": {
    "deletable": false,
    "editable": false,
    "nbgrader": {
     "cell_type": "code",
     "checksum": "1a4241d27dfcdf97ce83bdc2f980550f",
     "grade": true,
     "grade_id": "cell-d8448828b0396c7f",
     "locked": true,
     "points": 1,
     "schema_version": 3,
     "solution": false,
     "task": false
    }
   },
   "outputs": [],
   "source": [
    "# this cell contains some hidden tests! You can leave it empty except for this comment"
   ]
  },
  {
   "cell_type": "markdown",
   "metadata": {},
   "source": [
    "### Exercise 14 (1 point)\n",
    "Now use the new column `p_x_given_z` to pull out the value of $P(X=2 | Z=2)$:"
   ]
  },
  {
   "cell_type": "code",
   "execution_count": null,
   "metadata": {
    "deletable": false,
    "nbgrader": {
     "cell_type": "code",
     "checksum": "29fd616889660f46428efdc84f9e67c0",
     "grade": false,
     "grade_id": "cell-80d6080e03ba9de2",
     "locked": false,
     "schema_version": 3,
     "solution": true,
     "task": false
    }
   },
   "outputs": [],
   "source": [
    "p_x2_given_z2 <- \n",
    "# YOUR CODE HERE\n",
    "stop('No Answer Given!')"
   ]
  },
  {
   "cell_type": "code",
   "execution_count": null,
   "metadata": {
    "deletable": false,
    "editable": false,
    "nbgrader": {
     "cell_type": "code",
     "checksum": "f6cfee9415ccac1c26dbcbce253b0664",
     "grade": true,
     "grade_id": "cell-9a0236b2b8daaba3",
     "locked": true,
     "points": 1,
     "schema_version": 3,
     "solution": false,
     "task": false
    }
   },
   "outputs": [],
   "source": [
    "# this cell contains some hidden tests! You can leave it empty except for this comment"
   ]
  },
  {
   "cell_type": "markdown",
   "metadata": {},
   "source": [
    "Good work -- you've finished everything! If this is your first time through the notebook, you could now return to the top and try to write code to replicate the solutions you figured out by hand."
   ]
  }
 ],
 "metadata": {
  "anaconda-cloud": "",
  "kernelspec": {
   "display_name": "R",
   "language": "R",
   "name": "ir"
  },
  "language_info": {
   "codemirror_mode": "r",
   "file_extension": ".r",
   "mimetype": "text/x-r-source",
   "name": "R",
   "pygments_lexer": "r",
   "version": "4.1.0"
  }
 },
 "nbformat": 4,
 "nbformat_minor": 1
}
