{
 "cells": [
  {
   "cell_type": "code",
   "execution_count": 8,
   "id": "2e740910",
   "metadata": {},
   "outputs": [],
   "source": [
    "suppressPackageStartupMessages({\n",
    "    library(sna)\n",
    "    library(testthat)\n",
    "})"
   ]
  },
  {
   "cell_type": "markdown",
   "id": "308fcaaa",
   "metadata": {
    "deletable": false,
    "editable": false,
    "nbgrader": {
     "cell_type": "markdown",
     "checksum": "d34b845a51750304b527f11da734212e",
     "grade": false,
     "grade_id": "cell-6d97e18780b752db",
     "locked": true,
     "schema_version": 3,
     "solution": false,
     "task": false
    }
   },
   "source": [
    "# Introduction to networks\n",
    "This tutorial will introduce some fundamental concepts of graph theory and network analysis. The tutorial is structured in three parts\n",
    "* Using a toy network\n",
    "* Exploring empirical networks\n",
    "* Further metrics for digraphs\n",
    "\n",
    "Definitions and explanations of network terms are avialble in the online textbook by [Haneman and Riddle (2005)](http://faculty.ucr.edu/~hanneman/nettext/). A caveat is that their textbook does not provide mathematical definitions and also provides instructions for UCINET only. An excellent introduciton to graph theory is provided by [Robin J. Wilson ](https://www.maths.ed.ac.uk/~v1ranick/papers/wilsongraph.pdf) but be mindful that he goes into **a lot** more detail about **a lot less** of what we need in working with graphs. Still, the book is a good reference for basic defnitions in grahp theory (and some puzzles for the real nerds).\n",
    "\n",
    "The topics here are also covered in the slides for week 9. Note that there are some algebraic formulae in here, this is only used for clarity and to avoid ambiguity - you will not be required to use graph theoretic formulae yourself.\n",
    "\n",
    "For the purposes of the length of the tutorial, there are some questions that are marked **optional** that I do not consider compulsory. In the coming weeks you might find that some of the optional sections help you understand other topics and you can circle back to these then if you like.\n",
    "\n",
    "\n",
    "# Adjacency Matrix\n",
    "Create an empty $n \\times n$  **adjacency** matrix $X$ for $n=5$ nodes $$\n",
    "V =\\{1,2,3,4,5 \\}\n",
    "$$"
   ]
  },
  {
   "cell_type": "code",
   "execution_count": 3,
   "id": "3c56beb5",
   "metadata": {},
   "outputs": [],
   "source": [
    "n <- 5\n",
    "X <- matrix(0,n,n) # create a matrix with n rows and n columns and all values 0"
   ]
  },
  {
   "cell_type": "code",
   "execution_count": 4,
   "id": "d6b7497c",
   "metadata": {},
   "outputs": [
    {
     "data": {
      "text/html": [
       "<table class=\"dataframe\">\n",
       "<caption>A matrix: 5 × 5 of type dbl</caption>\n",
       "<tbody>\n",
       "\t<tr><td>0</td><td>0</td><td>0</td><td>0</td><td>0</td></tr>\n",
       "\t<tr><td>0</td><td>0</td><td>0</td><td>0</td><td>0</td></tr>\n",
       "\t<tr><td>0</td><td>0</td><td>0</td><td>0</td><td>0</td></tr>\n",
       "\t<tr><td>0</td><td>0</td><td>0</td><td>0</td><td>0</td></tr>\n",
       "\t<tr><td>0</td><td>0</td><td>0</td><td>0</td><td>0</td></tr>\n",
       "</tbody>\n",
       "</table>\n"
      ],
      "text/latex": [
       "A matrix: 5 × 5 of type dbl\n",
       "\\begin{tabular}{lllll}\n",
       "\t 0 & 0 & 0 & 0 & 0\\\\\n",
       "\t 0 & 0 & 0 & 0 & 0\\\\\n",
       "\t 0 & 0 & 0 & 0 & 0\\\\\n",
       "\t 0 & 0 & 0 & 0 & 0\\\\\n",
       "\t 0 & 0 & 0 & 0 & 0\\\\\n",
       "\\end{tabular}\n"
      ],
      "text/markdown": [
       "\n",
       "A matrix: 5 × 5 of type dbl\n",
       "\n",
       "| 0 | 0 | 0 | 0 | 0 |\n",
       "| 0 | 0 | 0 | 0 | 0 |\n",
       "| 0 | 0 | 0 | 0 | 0 |\n",
       "| 0 | 0 | 0 | 0 | 0 |\n",
       "| 0 | 0 | 0 | 0 | 0 |\n",
       "\n"
      ],
      "text/plain": [
       "     [,1] [,2] [,3] [,4] [,5]\n",
       "[1,] 0    0    0    0    0   \n",
       "[2,] 0    0    0    0    0   \n",
       "[3,] 0    0    0    0    0   \n",
       "[4,] 0    0    0    0    0   \n",
       "[5,] 0    0    0    0    0   "
      ]
     },
     "metadata": {},
     "output_type": "display_data"
    }
   ],
   "source": [
    "X"
   ]
  },
  {
   "cell_type": "markdown",
   "id": "3b885d64",
   "metadata": {
    "deletable": false,
    "editable": false,
    "nbgrader": {
     "cell_type": "markdown",
     "checksum": "4a62871b8877480eeaeadadeb2ab4581",
     "grade": false,
     "grade_id": "cell-914f31e69dcba268",
     "locked": true,
     "schema_version": 3,
     "solution": false,
     "task": false
    }
   },
   "source": [
    "Adjacency matrix: \n",
    "\n",
    "Assume that the graph has the edge set $$ E = \\{ \\{1,2\\},\\{1,3\\}, \\{2,3\\},\\{3,4\\}, \\{4,5\\} \\} $$\n",
    "\n",
    "Recall that we use curly brackets, e.g. $\\{1,2\\}$, for **unordered pairs**. Set the corresponding tie-variables to 1 (consider whether the network is directed or not) in the adjacency matrix $X$"
   ]
  },
  {
   "cell_type": "code",
   "execution_count": 5,
   "id": "878ba695",
   "metadata": {
    "deletable": false,
    "nbgrader": {
     "cell_type": "code",
     "checksum": "71162fc6e4356204f964d79205d72665",
     "grade": false,
     "grade_id": "cell-babf7d6d054ca4fa",
     "locked": false,
     "schema_version": 3,
     "solution": true,
     "task": false
    }
   },
   "outputs": [],
   "source": [
    "# YOUR CODE HERE\n",
    "#stop('No Answer Given!')\n",
    "#X[1,2] = X[2, 1] = 1\n",
    "#X[1,3] = X[3, 1] = 1\n",
    "#X[2,3] = X[3, 2] = 1\n",
    "#X[3,4] = X[4, 3] = 1\n",
    "#X[4,5] = X[5, 4] = 1"
   ]
  },
  {
   "cell_type": "code",
   "execution_count": 6,
   "id": "002d1b5f",
   "metadata": {},
   "outputs": [
    {
     "data": {
      "text/html": [
       "<table class=\"dataframe\">\n",
       "<caption>A matrix: 5 × 5 of type dbl</caption>\n",
       "<tbody>\n",
       "\t<tr><td>0</td><td>1</td><td>1</td><td>0</td><td>0</td></tr>\n",
       "\t<tr><td>1</td><td>0</td><td>1</td><td>0</td><td>0</td></tr>\n",
       "\t<tr><td>1</td><td>1</td><td>0</td><td>1</td><td>0</td></tr>\n",
       "\t<tr><td>0</td><td>0</td><td>1</td><td>0</td><td>1</td></tr>\n",
       "\t<tr><td>0</td><td>0</td><td>0</td><td>1</td><td>0</td></tr>\n",
       "</tbody>\n",
       "</table>\n"
      ],
      "text/latex": [
       "A matrix: 5 × 5 of type dbl\n",
       "\\begin{tabular}{lllll}\n",
       "\t 0 & 1 & 1 & 0 & 0\\\\\n",
       "\t 1 & 0 & 1 & 0 & 0\\\\\n",
       "\t 1 & 1 & 0 & 1 & 0\\\\\n",
       "\t 0 & 0 & 1 & 0 & 1\\\\\n",
       "\t 0 & 0 & 0 & 1 & 0\\\\\n",
       "\\end{tabular}\n"
      ],
      "text/markdown": [
       "\n",
       "A matrix: 5 × 5 of type dbl\n",
       "\n",
       "| 0 | 1 | 1 | 0 | 0 |\n",
       "| 1 | 0 | 1 | 0 | 0 |\n",
       "| 1 | 1 | 0 | 1 | 0 |\n",
       "| 0 | 0 | 1 | 0 | 1 |\n",
       "| 0 | 0 | 0 | 1 | 0 |\n",
       "\n"
      ],
      "text/plain": [
       "     [,1] [,2] [,3] [,4] [,5]\n",
       "[1,] 0    1    1    0    0   \n",
       "[2,] 1    0    1    0    0   \n",
       "[3,] 1    1    0    1    0   \n",
       "[4,] 0    0    1    0    1   \n",
       "[5,] 0    0    0    1    0   "
      ]
     },
     "metadata": {},
     "output_type": "display_data"
    }
   ],
   "source": [
    "X"
   ]
  },
  {
   "cell_type": "markdown",
   "id": "43ac46ed",
   "metadata": {
    "deletable": false,
    "editable": false,
    "nbgrader": {
     "cell_type": "markdown",
     "checksum": "24f87e3170734406e866bbdeecf8d9d0",
     "grade": false,
     "grade_id": "cell-4921f48aaa85c5a4",
     "locked": true,
     "schema_version": 3,
     "solution": false,
     "task": false
    }
   },
   "source": [
    "Draw the network graph using the 'sna' package"
   ]
  },
  {
   "cell_type": "code",
   "execution_count": 6,
   "id": "ba766583",
   "metadata": {},
   "outputs": [
    {
     "data": {
      "text/html": [
       "<table class=\"dataframe\">\n",
       "<caption>A matrix: 5 × 5 of type dbl</caption>\n",
       "<tbody>\n",
       "\t<tr><td>0</td><td>1</td><td>1</td><td>0</td><td>0</td></tr>\n",
       "\t<tr><td>0</td><td>0</td><td>1</td><td>0</td><td>0</td></tr>\n",
       "\t<tr><td>0</td><td>0</td><td>0</td><td>1</td><td>0</td></tr>\n",
       "\t<tr><td>0</td><td>0</td><td>0</td><td>0</td><td>1</td></tr>\n",
       "\t<tr><td>0</td><td>0</td><td>0</td><td>0</td><td>0</td></tr>\n",
       "</tbody>\n",
       "</table>\n"
      ],
      "text/latex": [
       "A matrix: 5 × 5 of type dbl\n",
       "\\begin{tabular}{lllll}\n",
       "\t 0 & 1 & 1 & 0 & 0\\\\\n",
       "\t 0 & 0 & 1 & 0 & 0\\\\\n",
       "\t 0 & 0 & 0 & 1 & 0\\\\\n",
       "\t 0 & 0 & 0 & 0 & 1\\\\\n",
       "\t 0 & 0 & 0 & 0 & 0\\\\\n",
       "\\end{tabular}\n"
      ],
      "text/markdown": [
       "\n",
       "A matrix: 5 × 5 of type dbl\n",
       "\n",
       "| 0 | 1 | 1 | 0 | 0 |\n",
       "| 0 | 0 | 1 | 0 | 0 |\n",
       "| 0 | 0 | 0 | 1 | 0 |\n",
       "| 0 | 0 | 0 | 0 | 1 |\n",
       "| 0 | 0 | 0 | 0 | 0 |\n",
       "\n"
      ],
      "text/plain": [
       "     [,1] [,2] [,3] [,4] [,5]\n",
       "[1,] 0    1    1    0    0   \n",
       "[2,] 0    0    1    0    0   \n",
       "[3,] 0    0    0    1    0   \n",
       "[4,] 0    0    0    0    1   \n",
       "[5,] 0    0    0    0    0   "
      ]
     },
     "metadata": {},
     "output_type": "display_data"
    },
    {
     "data": {
      "text/html": [
       "<table class=\"dataframe\">\n",
       "<caption>A matrix: 5 × 5 of type dbl</caption>\n",
       "<tbody>\n",
       "\t<tr><td>0</td><td>0</td><td>0</td><td>0</td><td>0</td></tr>\n",
       "\t<tr><td>1</td><td>0</td><td>0</td><td>0</td><td>0</td></tr>\n",
       "\t<tr><td>1</td><td>1</td><td>0</td><td>0</td><td>0</td></tr>\n",
       "\t<tr><td>0</td><td>0</td><td>1</td><td>0</td><td>0</td></tr>\n",
       "\t<tr><td>0</td><td>0</td><td>0</td><td>1</td><td>0</td></tr>\n",
       "</tbody>\n",
       "</table>\n"
      ],
      "text/latex": [
       "A matrix: 5 × 5 of type dbl\n",
       "\\begin{tabular}{lllll}\n",
       "\t 0 & 0 & 0 & 0 & 0\\\\\n",
       "\t 1 & 0 & 0 & 0 & 0\\\\\n",
       "\t 1 & 1 & 0 & 0 & 0\\\\\n",
       "\t 0 & 0 & 1 & 0 & 0\\\\\n",
       "\t 0 & 0 & 0 & 1 & 0\\\\\n",
       "\\end{tabular}\n"
      ],
      "text/markdown": [
       "\n",
       "A matrix: 5 × 5 of type dbl\n",
       "\n",
       "| 0 | 0 | 0 | 0 | 0 |\n",
       "| 1 | 0 | 0 | 0 | 0 |\n",
       "| 1 | 1 | 0 | 0 | 0 |\n",
       "| 0 | 0 | 1 | 0 | 0 |\n",
       "| 0 | 0 | 0 | 1 | 0 |\n",
       "\n"
      ],
      "text/plain": [
       "     [,1] [,2] [,3] [,4] [,5]\n",
       "[1,] 0    0    0    0    0   \n",
       "[2,] 1    0    0    0    0   \n",
       "[3,] 1    1    0    0    0   \n",
       "[4,] 0    0    1    0    0   \n",
       "[5,] 0    0    0    1    0   "
      ]
     },
     "metadata": {},
     "output_type": "display_data"
    },
    {
     "data": {
      "text/html": [
       "<table class=\"dataframe\">\n",
       "<caption>A matrix: 5 × 5 of type dbl</caption>\n",
       "<tbody>\n",
       "\t<tr><td>0</td><td>1</td><td>1</td><td>0</td><td>0</td></tr>\n",
       "\t<tr><td>1</td><td>0</td><td>1</td><td>0</td><td>0</td></tr>\n",
       "\t<tr><td>1</td><td>1</td><td>0</td><td>1</td><td>0</td></tr>\n",
       "\t<tr><td>0</td><td>0</td><td>1</td><td>0</td><td>1</td></tr>\n",
       "\t<tr><td>0</td><td>0</td><td>0</td><td>1</td><td>0</td></tr>\n",
       "</tbody>\n",
       "</table>\n"
      ],
      "text/latex": [
       "A matrix: 5 × 5 of type dbl\n",
       "\\begin{tabular}{lllll}\n",
       "\t 0 & 1 & 1 & 0 & 0\\\\\n",
       "\t 1 & 0 & 1 & 0 & 0\\\\\n",
       "\t 1 & 1 & 0 & 1 & 0\\\\\n",
       "\t 0 & 0 & 1 & 0 & 1\\\\\n",
       "\t 0 & 0 & 0 & 1 & 0\\\\\n",
       "\\end{tabular}\n"
      ],
      "text/markdown": [
       "\n",
       "A matrix: 5 × 5 of type dbl\n",
       "\n",
       "| 0 | 1 | 1 | 0 | 0 |\n",
       "| 1 | 0 | 1 | 0 | 0 |\n",
       "| 1 | 1 | 0 | 1 | 0 |\n",
       "| 0 | 0 | 1 | 0 | 1 |\n",
       "| 0 | 0 | 0 | 1 | 0 |\n",
       "\n"
      ],
      "text/plain": [
       "     [,1] [,2] [,3] [,4] [,5]\n",
       "[1,] 0    1    1    0    0   \n",
       "[2,] 1    0    1    0    0   \n",
       "[3,] 1    1    0    1    0   \n",
       "[4,] 0    0    1    0    1   \n",
       "[5,] 0    0    0    1    0   "
      ]
     },
     "metadata": {},
     "output_type": "display_data"
    }
   ],
   "source": [
    "X <- matrix(0,n,n)\n",
    "X[1,2] = 1\n",
    "X[1,3] = 1\n",
    "X[2,3] = 1\n",
    "X[3,4] = 1\n",
    "X[4,5] = 1\n",
    "X\n",
    "t(X)\n",
    "X <- X + t(X)\n",
    "X\n"
   ]
  },
  {
   "cell_type": "code",
   "execution_count": 9,
   "id": "ff500f5a",
   "metadata": {},
   "outputs": [
    {
     "data": {
      "image/png": "[encoded data removed]",
      "text/plain": [
       "plot without title"
      ]
     },
     "metadata": {
      "image/png": {
       "height": 420,
       "width": 420
      }
     },
     "output_type": "display_data"
    }
   ],
   "source": [
    "gplot(X, \n",
    "      gmode='graph', \n",
    "      label = c(1:5))# in the sna package, gmode is 'graph' or 'digraph' depending on whether the network is directed or not"
   ]
  },
  {
   "cell_type": "markdown",
   "id": "87e12d52",
   "metadata": {
    "deletable": false,
    "editable": false,
    "nbgrader": {
     "cell_type": "markdown",
     "checksum": "165d3b129caa4bff963524a88920e2ce",
     "grade": false,
     "grade_id": "cell-5f2c1c0c427a56fb",
     "locked": true,
     "schema_version": 3,
     "solution": false,
     "task": false
    }
   },
   "source": [
    "#### Question 1\n",
    "Looking at the graph, how many edges are there in the network?"
   ]
  },
  {
   "cell_type": "markdown",
   "id": "e2ef2c77",
   "metadata": {
    "deletable": false,
    "nbgrader": {
     "cell_type": "markdown",
     "checksum": "1e73ad296e95a65c8f8c43c20a8a24c9",
     "grade": true,
     "grade_id": "cell-c024182234efc9b4",
     "locked": false,
     "points": 0,
     "schema_version": 3,
     "solution": true,
     "task": false
    }
   },
   "source": [
    "YOUR ANSWER HERE"
   ]
  },
  {
   "cell_type": "markdown",
   "id": "a6474f1f",
   "metadata": {
    "deletable": false,
    "editable": false,
    "nbgrader": {
     "cell_type": "markdown",
     "checksum": "dda23fb6ea29230cea5ccfbed54c0be2",
     "grade": false,
     "grade_id": "cell-118d9735ac028c0c",
     "locked": true,
     "schema_version": 3,
     "solution": false,
     "task": false
    }
   },
   "source": [
    "In graph theoretic terms we can denote this as the cardinality $|E|$ of the edge set.\n",
    "\n",
    "In graph theoretic terms we can denote the degree of node $i \\in V$ by $d_i = |N(i)|$, where $N(i)=\\{j \\in V: \\{i,j\\} \\in E \\}$ is the set of neighbours of node $i \\in V$. Sometimes you will see the use of $i \\thicksim j$ used to denote that $j$ is a neighbour of $i$. The vertical bars mean **cardinality**, i.e. the number of elements in a set. The set $A=\\{a,b,c\\}$ has cardinality $|A|=3$.\n",
    "\n",
    "#### Question 2\n",
    "\n",
    "Looking at the graph, which node has the highest degree and which node has the lowest degree?"
   ]
  },
  {
   "cell_type": "markdown",
   "id": "a516861d",
   "metadata": {
    "deletable": false,
    "nbgrader": {
     "cell_type": "markdown",
     "checksum": "ed89c4866ded1f199f931fbae9600a50",
     "grade": true,
     "grade_id": "cell-0fa1b592c0da9a1b",
     "locked": false,
     "points": 0,
     "schema_version": 3,
     "solution": true,
     "task": false
    }
   },
   "source": [
    "YOUR ANSWER HERE"
   ]
  },
  {
   "cell_type": "markdown",
   "id": "fd7e02d4",
   "metadata": {
    "deletable": false,
    "editable": false,
    "nbgrader": {
     "cell_type": "markdown",
     "checksum": "ff88e1281b457d1dc521f16e54183b30",
     "grade": false,
     "grade_id": "cell-bcc6188e00fed452",
     "locked": true,
     "schema_version": 3,
     "solution": false,
     "task": false
    }
   },
   "source": [
    "## Degrees and density\n",
    "\n",
    "#### Question 3\n",
    "\n",
    "If each node had a tie to every other node, what degree would every node have? Motivate your answer."
   ]
  },
  {
   "cell_type": "markdown",
   "id": "a158ef85",
   "metadata": {
    "deletable": false,
    "nbgrader": {
     "cell_type": "markdown",
     "checksum": "b37268e2c4f3adf9d7ef793043c5b971",
     "grade": true,
     "grade_id": "cell-fcc2ef6cccf2fd8a",
     "locked": false,
     "points": 0,
     "schema_version": 3,
     "solution": true,
     "task": false
    }
   },
   "source": [
    "YOUR ANSWER HERE"
   ]
  },
  {
   "cell_type": "markdown",
   "id": "cf71db6e",
   "metadata": {
    "deletable": false,
    "editable": false,
    "nbgrader": {
     "cell_type": "markdown",
     "checksum": "8037eaf9fcffbe53703e613724e555da",
     "grade": false,
     "grade_id": "cell-051376c19b9d7787",
     "locked": true,
     "schema_version": 3,
     "solution": false,
     "task": false
    }
   },
   "source": [
    "#### Question 4\n",
    "\n",
    "If all nodes had maximum degree, what would the *total degree* $\\sum_{i=1}^n d_i$ be? Answer in terms of $n$."
   ]
  },
  {
   "cell_type": "markdown",
   "id": "85cf341b",
   "metadata": {
    "deletable": false,
    "nbgrader": {
     "cell_type": "markdown",
     "checksum": "953523e2184cb5290e2ab0bc37d44351",
     "grade": true,
     "grade_id": "cell-308661591b398516",
     "locked": false,
     "points": 0,
     "schema_version": 3,
     "solution": true,
     "task": false
    }
   },
   "source": [
    "YOUR ANSWER HERE"
   ]
  },
  {
   "cell_type": "markdown",
   "id": "1ec2e2fc",
   "metadata": {
    "deletable": false,
    "editable": false,
    "nbgrader": {
     "cell_type": "markdown",
     "checksum": "0ac373cc14c6aae7b9a4ccbb0dbb42a9",
     "grade": false,
     "grade_id": "cell-4e6adcbfbda2bf26",
     "locked": true,
     "schema_version": 3,
     "solution": false,
     "task": false
    }
   },
   "source": [
    "#### Question 5\n",
    "\n",
    "What is the maximum number of edges a graph on 5 nodes could have? Motivate your answer\n"
   ]
  },
  {
   "cell_type": "markdown",
   "id": "722e3252",
   "metadata": {
    "deletable": false,
    "nbgrader": {
     "cell_type": "markdown",
     "checksum": "3111c0b98cdeba39e4a0effec2b7b942",
     "grade": true,
     "grade_id": "cell-392187aca1f58821",
     "locked": false,
     "points": 0,
     "schema_version": 3,
     "solution": true,
     "task": false
    }
   },
   "source": [
    "YOUR ANSWER HERE"
   ]
  },
  {
   "cell_type": "markdown",
   "id": "dedf388b",
   "metadata": {
    "deletable": false,
    "editable": false,
    "nbgrader": {
     "cell_type": "markdown",
     "checksum": "69b86ebd9cb623b3f31f50cd3498b9c3",
     "grade": false,
     "grade_id": "cell-849579bc51e36792",
     "locked": true,
     "schema_version": 3,
     "solution": false,
     "task": false
    }
   },
   "source": [
    "Using the tie-variables $x_{ij}$ of the adjacency matrix $X$, we can define the *total degree* as $\\sum_{i=1}^n \\sum_{j=1}^n x_{ij}$.\n",
    "Based on your anwers to Questions 1 and 5, use the sum function and n to calculate the density of the network."
   ]
  },
  {
   "cell_type": "code",
   "execution_count": 10,
   "id": "ca77707f",
   "metadata": {
    "deletable": false,
    "nbgrader": {
     "cell_type": "code",
     "checksum": "ea7e15282a26e8ab39aacf49940f9c50",
     "grade": false,
     "grade_id": "cell-8fc4b27fee529cfb",
     "locked": false,
     "schema_version": 3,
     "solution": true,
     "task": false
    }
   },
   "outputs": [],
   "source": [
    "\n",
    "my.density <- function(X,n){\n",
    "    # YOUR CODE HERE\n",
    "    #stop('No Answer Given!')\n",
    "    sum(X)/(n*(n-1))\n",
    "}    "
   ]
  },
  {
   "cell_type": "code",
   "execution_count": 11,
   "id": "b206563d",
   "metadata": {},
   "outputs": [
    {
     "data": {
      "text/html": [
       "0.5"
      ],
      "text/latex": [
       "0.5"
      ],
      "text/markdown": [
       "0.5"
      ],
      "text/plain": [
       "[1] 0.5"
      ]
     },
     "metadata": {},
     "output_type": "display_data"
    },
    {
     "data": {
      "text/html": [
       "<table class=\"dataframe\">\n",
       "<caption>A matrix: 5 × 5 of type dbl</caption>\n",
       "<tbody>\n",
       "\t<tr><td>0</td><td>1</td><td>1</td><td>0</td><td>0</td></tr>\n",
       "\t<tr><td>1</td><td>0</td><td>1</td><td>0</td><td>0</td></tr>\n",
       "\t<tr><td>1</td><td>1</td><td>0</td><td>1</td><td>0</td></tr>\n",
       "\t<tr><td>0</td><td>0</td><td>1</td><td>0</td><td>1</td></tr>\n",
       "\t<tr><td>0</td><td>0</td><td>0</td><td>1</td><td>0</td></tr>\n",
       "</tbody>\n",
       "</table>\n"
      ],
      "text/latex": [
       "A matrix: 5 × 5 of type dbl\n",
       "\\begin{tabular}{lllll}\n",
       "\t 0 & 1 & 1 & 0 & 0\\\\\n",
       "\t 1 & 0 & 1 & 0 & 0\\\\\n",
       "\t 1 & 1 & 0 & 1 & 0\\\\\n",
       "\t 0 & 0 & 1 & 0 & 1\\\\\n",
       "\t 0 & 0 & 0 & 1 & 0\\\\\n",
       "\\end{tabular}\n"
      ],
      "text/markdown": [
       "\n",
       "A matrix: 5 × 5 of type dbl\n",
       "\n",
       "| 0 | 1 | 1 | 0 | 0 |\n",
       "| 1 | 0 | 1 | 0 | 0 |\n",
       "| 1 | 1 | 0 | 1 | 0 |\n",
       "| 0 | 0 | 1 | 0 | 1 |\n",
       "| 0 | 0 | 0 | 1 | 0 |\n",
       "\n"
      ],
      "text/plain": [
       "     [,1] [,2] [,3] [,4] [,5]\n",
       "[1,] 0    1    1    0    0   \n",
       "[2,] 1    0    1    0    0   \n",
       "[3,] 1    1    0    1    0   \n",
       "[4,] 0    0    1    0    1   \n",
       "[5,] 0    0    0    1    0   "
      ]
     },
     "metadata": {},
     "output_type": "display_data"
    }
   ],
   "source": [
    "my.density(X, n)\n",
    "X"
   ]
  },
  {
   "cell_type": "markdown",
   "id": "647b8deb",
   "metadata": {
    "deletable": false,
    "editable": false,
    "nbgrader": {
     "cell_type": "markdown",
     "checksum": "f0773e3c382b970fc3ada5db9d2b8234",
     "grade": false,
     "grade_id": "cell-2f1c80fe3f4c1349",
     "locked": true,
     "schema_version": 3,
     "solution": false,
     "task": false
    }
   },
   "source": [
    "Use your function to calculate the denisty of the network.\n",
    "\n",
    "#### Question 6\n",
    "Use the sna function `gden` to check your answer. Did you get the same answer?\n",
    "\n"
   ]
  },
  {
   "cell_type": "code",
   "execution_count": 12,
   "id": "213e6510",
   "metadata": {},
   "outputs": [
    {
     "data": {
      "text/html": [
       "0.5"
      ],
      "text/latex": [
       "0.5"
      ],
      "text/markdown": [
       "0.5"
      ],
      "text/plain": [
       "[1] 0.5"
      ]
     },
     "metadata": {},
     "output_type": "display_data"
    }
   ],
   "source": [
    "gden(X, mode='graph')"
   ]
  },
  {
   "cell_type": "markdown",
   "id": "2936536e",
   "metadata": {
    "deletable": false,
    "editable": false,
    "nbgrader": {
     "cell_type": "markdown",
     "checksum": "13fd089a14257cf2e6a99ef1f772353a",
     "grade": false,
     "grade_id": "cell-59d5eef8dbfc8ffa",
     "locked": true,
     "schema_version": 3,
     "solution": false,
     "task": false
    }
   },
   "source": [
    "Calculate the vertex degrees with colSums, tabulate them, and plot the degree distribution"
   ]
  },
  {
   "cell_type": "code",
   "execution_count": 13,
   "id": "edb83c61",
   "metadata": {},
   "outputs": [
    {
     "data": {
      "image/png": "[encoded data removed]",
      "text/plain": [
       "plot without title"
      ]
     },
     "metadata": {
      "image/png": {
       "height": 420,
       "width": 420
      }
     },
     "output_type": "display_data"
    }
   ],
   "source": [
    "plot ( table( colSums(X) ) ,ylab='frequency',xlab='degrees')"
   ]
  },
  {
   "cell_type": "markdown",
   "id": "7a3c0c32",
   "metadata": {
    "deletable": false,
    "editable": false,
    "nbgrader": {
     "cell_type": "markdown",
     "checksum": "1c31d347e2fbda1705fc3c8ed4840d39",
     "grade": false,
     "grade_id": "cell-4eb8d82bfd0e4e8a",
     "locked": true,
     "schema_version": 3,
     "solution": false,
     "task": false
    }
   },
   "source": [
    "#### Question 7\n",
    "\n",
    "What is the mode of the degree distribution?"
   ]
  },
  {
   "cell_type": "markdown",
   "id": "b114c2c4",
   "metadata": {
    "deletable": false,
    "nbgrader": {
     "cell_type": "markdown",
     "checksum": "8282094dc2ddca7ea88653f523303340",
     "grade": true,
     "grade_id": "cell-6d9250c4dfbdb9d1",
     "locked": false,
     "points": 0,
     "schema_version": 3,
     "solution": true,
     "task": false
    }
   },
   "source": [
    "YOUR ANSWER HERE"
   ]
  },
  {
   "cell_type": "markdown",
   "id": "ab71a84d",
   "metadata": {
    "deletable": false,
    "editable": false,
    "nbgrader": {
     "cell_type": "markdown",
     "checksum": "f24b64f4d9102be230e294a9e160e7f8",
     "grade": false,
     "grade_id": "cell-f1a13a1e4403b7d0",
     "locked": true,
     "schema_version": 3,
     "solution": false,
     "task": false
    }
   },
   "source": [
    "## Network position\n",
    "\n",
    "### Degree centrality\n",
    "\n",
    "NOTE: For the sna functions `degree` and `betweenness`, gmode is used to distinguish between 'graph' and 'digraph'; for the sna functions `cutpoints` and `triad.census`, the argument is called mode (for some reason).\n",
    "\n",
    "For a network we may ask what node is most *central*. There are many different measures of centrality. The most fundamental is **degree centrality**. This is the (normalised) degree of nodes. In Question 2 you already picked out the most central node, using the degree distribution. You can do this also using the function"
   ]
  },
  {
   "cell_type": "code",
   "execution_count": 14,
   "id": "d6541a78",
   "metadata": {},
   "outputs": [
    {
     "data": {
      "text/html": [
       "<style>\n",
       ".list-inline {list-style: none; margin:0; padding: 0}\n",
       ".list-inline>li {display: inline-block}\n",
       ".list-inline>li:not(:last-child)::after {content: \"\\00b7\"; padding: 0 .5ex}\n",
       "</style>\n",
       "<ol class=list-inline><li>2</li><li>2</li><li>3</li><li>2</li><li>1</li></ol>\n"
      ],
      "text/latex": [
       "\\begin{enumerate*}\n",
       "\\item 2\n",
       "\\item 2\n",
       "\\item 3\n",
       "\\item 2\n",
       "\\item 1\n",
       "\\end{enumerate*}\n"
      ],
      "text/markdown": [
       "1. 2\n",
       "2. 2\n",
       "3. 3\n",
       "4. 2\n",
       "5. 1\n",
       "\n",
       "\n"
      ],
      "text/plain": [
       "[1] 2 2 3 2 1"
      ]
     },
     "metadata": {},
     "output_type": "display_data"
    }
   ],
   "source": [
    "degree( X , gmode='graph')"
   ]
  },
  {
   "cell_type": "markdown",
   "id": "5943a5d5",
   "metadata": {
    "deletable": false,
    "editable": false,
    "nbgrader": {
     "cell_type": "markdown",
     "checksum": "e583807c3b7fc35ffe184a59fe4b624a",
     "grade": false,
     "grade_id": "cell-94e021d4bbe6ff0c",
     "locked": true,
     "schema_version": 3,
     "solution": false,
     "task": false
    }
   },
   "source": [
    "Does this agree with the degrees?\n",
    "\n",
    "You can normalise this relative to the maximum.\n",
    "\n",
    "### Betweeness centrality\n",
    "Is the highest degree node always the most central and are all nodes with the same degree equally central? What about the extent to which a node connects other nodes?\n",
    "\n",
    "Following the lecture slides, we define a *path* from one node to another as a **sequence of edges** connecting one node with another. We can identify this path using its **node sequence**, i.e., the sequence of nodes on the path. \n",
    "\n",
    "Here, use the convention that we list a path starting with the lowest index, e.g., `c(1,3,4)` rather than 4,3,1.\n",
    "\n",
    "Inspecting the graph, provide the geodesic- the shortest path- between 1 and 5."
   ]
  },
  {
   "cell_type": "code",
   "execution_count": 21,
   "id": "70ef6478",
   "metadata": {
    "deletable": false,
    "nbgrader": {
     "cell_type": "code",
     "checksum": "1e8c588d66f16d6645f35d56ab5f25c4",
     "grade": false,
     "grade_id": "cell-555a06c91c802b96",
     "locked": false,
     "schema_version": 3,
     "solution": true,
     "task": false
    }
   },
   "outputs": [],
   "source": [
    "P <- c(1,3,4,5)\n",
    " # YOUR CODE HERE\n",
    " #stop('No Answer Given!')"
   ]
  },
  {
   "cell_type": "code",
   "execution_count": null,
   "id": "b29608c4",
   "metadata": {
    "deletable": false,
    "editable": false,
    "nbgrader": {
     "cell_type": "code",
     "checksum": "5d8a9c2013c00ab92db2c2729975414d",
     "grade": true,
     "grade_id": "cell-a56112c126d01ce6",
     "locked": true,
     "points": 0,
     "schema_version": 3,
     "solution": false,
     "task": false
    }
   },
   "outputs": [],
   "source": []
  },
  {
   "cell_type": "markdown",
   "id": "1b69c8e8",
   "metadata": {
    "deletable": false,
    "editable": false,
    "nbgrader": {
     "cell_type": "markdown",
     "checksum": "e00715f5a23c082aff573dcf752e9cfb",
     "grade": false,
     "grade_id": "cell-6391f46599da84a6",
     "locked": true,
     "schema_version": 3,
     "solution": false,
     "task": false
    }
   },
   "source": [
    "**Betweeness centrality** calculates how many geodesics - shortest paths - every node is on. Looking at the graph, which node should have highest betweeness? Also calculate the betweeness centrality using the function"
   ]
  },
  {
   "cell_type": "code",
   "execution_count": 15,
   "id": "a3987e30",
   "metadata": {},
   "outputs": [
    {
     "data": {
      "text/html": [
       "<style>\n",
       ".list-inline {list-style: none; margin:0; padding: 0}\n",
       ".list-inline>li {display: inline-block}\n",
       ".list-inline>li:not(:last-child)::after {content: \"\\00b7\"; padding: 0 .5ex}\n",
       "</style>\n",
       "<ol class=list-inline><li>0</li><li>0</li><li>4</li><li>3</li><li>0</li></ol>\n"
      ],
      "text/latex": [
       "\\begin{enumerate*}\n",
       "\\item 0\n",
       "\\item 0\n",
       "\\item 4\n",
       "\\item 3\n",
       "\\item 0\n",
       "\\end{enumerate*}\n"
      ],
      "text/markdown": [
       "1. 0\n",
       "2. 0\n",
       "3. 4\n",
       "4. 3\n",
       "5. 0\n",
       "\n",
       "\n"
      ],
      "text/plain": [
       "[1] 0 0 4 3 0"
      ]
     },
     "metadata": {},
     "output_type": "display_data"
    }
   ],
   "source": [
    "betweenness( X , gmode ='graph' )"
   ]
  },
  {
   "cell_type": "markdown",
   "id": "26e99f43",
   "metadata": {
    "deletable": false,
    "editable": false,
    "nbgrader": {
     "cell_type": "markdown",
     "checksum": "11a159f4e4a995a428ed890ec4c5786f",
     "grade": false,
     "grade_id": "cell-c94d60c799f4244f",
     "locked": true,
     "points": 0,
     "schema_version": 3,
     "solution": false,
     "task": true
    }
   },
   "source": [
    "#### Question 8\n",
    "Do you get the same answer and do all nodes with the same degree centrality have the same betweeness centrality? In addition, list all geodesics this node is on\n"
   ]
  },
  {
   "cell_type": "markdown",
   "id": "1fe3a652",
   "metadata": {
    "deletable": false,
    "nbgrader": {
     "cell_type": "markdown",
     "checksum": "9976ea534d0b17f4d485cee966b64173",
     "grade": true,
     "grade_id": "cell-8a3aea93dcfa5de6",
     "locked": false,
     "points": 0,
     "schema_version": 3,
     "solution": true,
     "task": false
    }
   },
   "source": [
    "YOUR ANSWER HERE"
   ]
  },
  {
   "cell_type": "markdown",
   "id": "59039161",
   "metadata": {
    "deletable": false,
    "editable": false,
    "nbgrader": {
     "cell_type": "markdown",
     "checksum": "ded0be12bf513e454b067d5ca45bb45b",
     "grade": false,
     "grade_id": "cell-e9d702e00c8115e8",
     "locked": true,
     "schema_version": 3,
     "solution": false,
     "task": false
    }
   },
   "source": [
    "### Optional: Difference between measures\n",
    "Construct a network on $n=5$ nodes where the highest degree node is not the (uniquely) highest in betweeness centrality. Construct the adjacency matrix and check the two centralities"
   ]
  },
  {
   "cell_type": "code",
   "execution_count": 16,
   "id": "2681b298",
   "metadata": {
    "deletable": false,
    "nbgrader": {
     "cell_type": "code",
     "checksum": "252372ed2e738a5a8057abccde7f02a0",
     "grade": false,
     "grade_id": "cell-44b4c98b49967fa5",
     "locked": false,
     "schema_version": 3,
     "solution": true,
     "task": false
    }
   },
   "outputs": [
    {
     "data": {
      "text/html": [
       "<style>\n",
       ".list-inline {list-style: none; margin:0; padding: 0}\n",
       ".list-inline>li {display: inline-block}\n",
       ".list-inline>li:not(:last-child)::after {content: \"\\00b7\"; padding: 0 .5ex}\n",
       "</style>\n",
       "<ol class=list-inline><li>1</li><li>3</li><li>3</li><li>3</li><li>2</li></ol>\n"
      ],
      "text/latex": [
       "\\begin{enumerate*}\n",
       "\\item 1\n",
       "\\item 3\n",
       "\\item 3\n",
       "\\item 3\n",
       "\\item 2\n",
       "\\end{enumerate*}\n"
      ],
      "text/markdown": [
       "1. 1\n",
       "2. 3\n",
       "3. 3\n",
       "4. 3\n",
       "5. 2\n",
       "\n",
       "\n"
      ],
      "text/plain": [
       "[1] 1 3 3 3 2"
      ]
     },
     "metadata": {},
     "output_type": "display_data"
    },
    {
     "data": {
      "text/html": [
       "<style>\n",
       ".list-inline {list-style: none; margin:0; padding: 0}\n",
       ".list-inline>li {display: inline-block}\n",
       ".list-inline>li:not(:last-child)::after {content: \"\\00b7\"; padding: 0 .5ex}\n",
       "</style>\n",
       "<ol class=list-inline><li>0</li><li>3</li><li>1</li><li>1</li><li>0</li></ol>\n"
      ],
      "text/latex": [
       "\\begin{enumerate*}\n",
       "\\item 0\n",
       "\\item 3\n",
       "\\item 1\n",
       "\\item 1\n",
       "\\item 0\n",
       "\\end{enumerate*}\n"
      ],
      "text/markdown": [
       "1. 0\n",
       "2. 3\n",
       "3. 1\n",
       "4. 1\n",
       "5. 0\n",
       "\n",
       "\n"
      ],
      "text/plain": [
       "[1] 0 3 1 1 0"
      ]
     },
     "metadata": {},
     "output_type": "display_data"
    },
    {
     "data": {
      "image/png": "[encoded data removed]",
      "text/plain": [
       "plot without title"
      ]
     },
     "metadata": {
      "image/png": {
       "height": 420,
       "width": 420
      }
     },
     "output_type": "display_data"
    }
   ],
   "source": [
    "Y <- matrix(0,n,n)\n",
    "# YOUR CODE HERE - add ties to Y\n",
    "# YOUR CODE HERE\n",
    "#stop('No Answer Given!')\n",
    "Y[1,2] <- 1\n",
    "Y[2,3] <- 1\n",
    "Y[3, 4] <-1\n",
    "Y[4,5] <- 1\n",
    "Y[2,4] <-1\n",
    "Y[3, 5] <-1\n",
    "Y <- Y + t(Y)\n",
    "gplot( Y , gmode='graph',label=c(1:5) )\n",
    "degree( Y , gmode='graph')\n",
    "betweenness( Y , gmode ='graph' )"
   ]
  },
  {
   "cell_type": "markdown",
   "id": "4fdac4df",
   "metadata": {
    "deletable": false,
    "editable": false,
    "nbgrader": {
     "cell_type": "markdown",
     "checksum": "82502d6c91f52ccfd86ba96a785cee33",
     "grade": false,
     "grade_id": "cell-370d5a1ea67fca5c",
     "locked": true,
     "schema_version": 3,
     "solution": false,
     "task": false
    }
   },
   "source": [
    "Check other centrality measures in [Haneman and Riddle (2005)](http://faculty.ucr.edu/~hanneman/nettext/). An interesting question to find out is\n",
    "\n",
    "> Is Google's pagerank algorithm and Eigenvector centrality the same?\n",
    "\n",
    "NOTE: Leo Katz, who introduced the precursor to Eigenvector centrality (in Psychometrika, in 1953) is a different Katz to the famous Elihu Katz, who introduced network diffusion (with Coleman and Menzel)."
   ]
  },
  {
   "cell_type": "markdown",
   "id": "7e333a45",
   "metadata": {
    "deletable": false,
    "editable": false,
    "nbgrader": {
     "cell_type": "markdown",
     "checksum": "e01478e9b00822dba3656ae0a5bcd040",
     "grade": false,
     "grade_id": "cell-eb0fff20583d9bbe",
     "locked": true,
     "schema_version": 3,
     "solution": false,
     "task": false
    }
   },
   "source": [
    "### Brokers\n",
    "Looking at the orignal graph, with adjacency matrix $X$, are there any cutpoints? Check by returning a list of any cutpoints"
   ]
  },
  {
   "cell_type": "code",
   "execution_count": 18,
   "id": "37ddd0ad",
   "metadata": {},
   "outputs": [
    {
     "data": {
      "text/html": [
       "<style>\n",
       ".list-inline {list-style: none; margin:0; padding: 0}\n",
       ".list-inline>li {display: inline-block}\n",
       ".list-inline>li:not(:last-child)::after {content: \"\\00b7\"; padding: 0 .5ex}\n",
       "</style>\n",
       "<ol class=list-inline><li>3</li><li>4</li></ol>\n"
      ],
      "text/latex": [
       "\\begin{enumerate*}\n",
       "\\item 3\n",
       "\\item 4\n",
       "\\end{enumerate*}\n"
      ],
      "text/markdown": [
       "1. 3\n",
       "2. 4\n",
       "\n",
       "\n"
      ],
      "text/plain": [
       "[1] 3 4"
      ]
     },
     "metadata": {},
     "output_type": "display_data"
    }
   ],
   "source": [
    "cutpoints( X , mode = \"graph\")"
   ]
  },
  {
   "cell_type": "markdown",
   "id": "d5bd4317",
   "metadata": {
    "deletable": false,
    "editable": false,
    "nbgrader": {
     "cell_type": "markdown",
     "checksum": "e2e11997ebcf2a2949fe97873ffb5911",
     "grade": false,
     "grade_id": "cell-d254d07923345e8a",
     "locked": true,
     "points": 0,
     "schema_version": 3,
     "solution": false,
     "task": true
    }
   },
   "source": [
    "#### Question 9\n",
    "\n",
    "What happens to the graph when either one of the indicated cutpoints are removed?\n"
   ]
  },
  {
   "cell_type": "markdown",
   "id": "c0327e05",
   "metadata": {
    "deletable": false,
    "nbgrader": {
     "cell_type": "markdown",
     "checksum": "460bf017ec5d179011a37442af21afba",
     "grade": true,
     "grade_id": "cell-f181cc6b040c366e",
     "locked": false,
     "points": 0,
     "schema_version": 3,
     "solution": true,
     "task": false
    }
   },
   "source": [
    "YOUR ANSWER HERE"
   ]
  },
  {
   "cell_type": "markdown",
   "id": "4a7347c8",
   "metadata": {
    "deletable": false,
    "editable": false,
    "nbgrader": {
     "cell_type": "markdown",
     "checksum": "bb9a4f4aa5191e198963172288782055",
     "grade": false,
     "grade_id": "cell-0abc940d338644a4",
     "locked": true,
     "schema_version": 3,
     "solution": false,
     "task": false
    }
   },
   "source": [
    "### Triad closure\n",
    "\n",
    "A triad is a triple $\\{ i,j,k \\} \\subset V$ of nodes and its **induced subgraph**, i.e. all edges $\\{ a,b \\}$ such that $a,b \\in \\{i,j,k \\}$. A triad is *closed* if it forms a *triangle*, that is, if the induced subgraph is a complete graph. If  $V_{ijk}=\\{ i,j,k \\}$ is a closed triad, then $x_{ij}x_{ik}x_{jk}=1$ and $\\sum_{ab \\in{  V_{ijk} \\choose 2}}x_{ab}=3$. For example"
   ]
  },
  {
   "cell_type": "code",
   "execution_count": 25,
   "id": "a4739d43",
   "metadata": {},
   "outputs": [
    {
     "data": {
      "text/html": [
       "<table class=\"dataframe\">\n",
       "<caption>A matrix: 5 × 5 of type dbl</caption>\n",
       "<tbody>\n",
       "\t<tr><td>0</td><td>1</td><td>1</td><td>0</td><td>0</td></tr>\n",
       "\t<tr><td>1</td><td>0</td><td>1</td><td>0</td><td>0</td></tr>\n",
       "\t<tr><td>1</td><td>1</td><td>0</td><td>1</td><td>0</td></tr>\n",
       "\t<tr><td>0</td><td>0</td><td>1</td><td>0</td><td>1</td></tr>\n",
       "\t<tr><td>0</td><td>0</td><td>0</td><td>1</td><td>0</td></tr>\n",
       "</tbody>\n",
       "</table>\n"
      ],
      "text/latex": [
       "A matrix: 5 × 5 of type dbl\n",
       "\\begin{tabular}{lllll}\n",
       "\t 0 & 1 & 1 & 0 & 0\\\\\n",
       "\t 1 & 0 & 1 & 0 & 0\\\\\n",
       "\t 1 & 1 & 0 & 1 & 0\\\\\n",
       "\t 0 & 0 & 1 & 0 & 1\\\\\n",
       "\t 0 & 0 & 0 & 1 & 0\\\\\n",
       "\\end{tabular}\n"
      ],
      "text/markdown": [
       "\n",
       "A matrix: 5 × 5 of type dbl\n",
       "\n",
       "| 0 | 1 | 1 | 0 | 0 |\n",
       "| 1 | 0 | 1 | 0 | 0 |\n",
       "| 1 | 1 | 0 | 1 | 0 |\n",
       "| 0 | 0 | 1 | 0 | 1 |\n",
       "| 0 | 0 | 0 | 1 | 0 |\n",
       "\n"
      ],
      "text/plain": [
       "     [,1] [,2] [,3] [,4] [,5]\n",
       "[1,] 0    1    1    0    0   \n",
       "[2,] 1    0    1    0    0   \n",
       "[3,] 1    1    0    1    0   \n",
       "[4,] 0    0    1    0    1   \n",
       "[5,] 0    0    0    1    0   "
      ]
     },
     "metadata": {},
     "output_type": "display_data"
    },
    {
     "data": {
      "text/html": [
       "<table class=\"dataframe\">\n",
       "<caption>A matrix: 3 × 3 of type dbl</caption>\n",
       "<tbody>\n",
       "\t<tr><td>0</td><td>1</td><td>1</td></tr>\n",
       "\t<tr><td>1</td><td>0</td><td>1</td></tr>\n",
       "\t<tr><td>1</td><td>1</td><td>0</td></tr>\n",
       "</tbody>\n",
       "</table>\n"
      ],
      "text/latex": [
       "A matrix: 3 × 3 of type dbl\n",
       "\\begin{tabular}{lll}\n",
       "\t 0 & 1 & 1\\\\\n",
       "\t 1 & 0 & 1\\\\\n",
       "\t 1 & 1 & 0\\\\\n",
       "\\end{tabular}\n"
      ],
      "text/markdown": [
       "\n",
       "A matrix: 3 × 3 of type dbl\n",
       "\n",
       "| 0 | 1 | 1 |\n",
       "| 1 | 0 | 1 |\n",
       "| 1 | 1 | 0 |\n",
       "\n"
      ],
      "text/plain": [
       "     [,1] [,2] [,3]\n",
       "[1,] 0    1    1   \n",
       "[2,] 1    0    1   \n",
       "[3,] 1    1    0   "
      ]
     },
     "metadata": {},
     "output_type": "display_data"
    },
    {
     "data": {
      "text/html": [
       "3"
      ],
      "text/latex": [
       "3"
      ],
      "text/markdown": [
       "3"
      ],
      "text/plain": [
       "[1] 3"
      ]
     },
     "metadata": {},
     "output_type": "display_data"
    },
    {
     "data": {
      "text/html": [
       "1"
      ],
      "text/latex": [
       "1"
      ],
      "text/markdown": [
       "1"
      ],
      "text/plain": [
       "[1] 1"
      ]
     },
     "metadata": {},
     "output_type": "display_data"
    },
    {
     "data": {
      "image/png": "[encoded data removed]",
      "text/plain": [
       "plot without title"
      ]
     },
     "metadata": {
      "image/png": {
       "height": 420,
       "width": 420
      }
     },
     "output_type": "display_data"
    }
   ],
   "source": [
    "X\n",
    "node.set <- c(1,2,3)\n",
    "X[node.set, node.set]\n",
    "gplot(X[node.set,node.set],gmode='graph',label=node.set)\n",
    "sum(X[node.set,node.set])/2\n",
    "X[1,2]*X[1,3]*X[2,3]"
   ]
  },
  {
   "cell_type": "code",
   "execution_count": 27,
   "id": "970ae45b",
   "metadata": {},
   "outputs": [
    {
     "data": {
      "text/html": [
       "<table class=\"dataframe\">\n",
       "<caption>A matrix: 5 × 5 of type dbl</caption>\n",
       "<tbody>\n",
       "\t<tr><td>0</td><td>1</td><td>1</td><td>0</td><td>0</td></tr>\n",
       "\t<tr><td>1</td><td>0</td><td>1</td><td>0</td><td>0</td></tr>\n",
       "\t<tr><td>1</td><td>1</td><td>0</td><td>1</td><td>0</td></tr>\n",
       "\t<tr><td>0</td><td>0</td><td>1</td><td>0</td><td>1</td></tr>\n",
       "\t<tr><td>0</td><td>0</td><td>0</td><td>1</td><td>0</td></tr>\n",
       "</tbody>\n",
       "</table>\n"
      ],
      "text/latex": [
       "A matrix: 5 × 5 of type dbl\n",
       "\\begin{tabular}{lllll}\n",
       "\t 0 & 1 & 1 & 0 & 0\\\\\n",
       "\t 1 & 0 & 1 & 0 & 0\\\\\n",
       "\t 1 & 1 & 0 & 1 & 0\\\\\n",
       "\t 0 & 0 & 1 & 0 & 1\\\\\n",
       "\t 0 & 0 & 0 & 1 & 0\\\\\n",
       "\\end{tabular}\n"
      ],
      "text/markdown": [
       "\n",
       "A matrix: 5 × 5 of type dbl\n",
       "\n",
       "| 0 | 1 | 1 | 0 | 0 |\n",
       "| 1 | 0 | 1 | 0 | 0 |\n",
       "| 1 | 1 | 0 | 1 | 0 |\n",
       "| 0 | 0 | 1 | 0 | 1 |\n",
       "| 0 | 0 | 0 | 1 | 0 |\n",
       "\n"
      ],
      "text/plain": [
       "     [,1] [,2] [,3] [,4] [,5]\n",
       "[1,] 0    1    1    0    0   \n",
       "[2,] 1    0    1    0    0   \n",
       "[3,] 1    1    0    1    0   \n",
       "[4,] 0    0    1    0    1   \n",
       "[5,] 0    0    0    1    0   "
      ]
     },
     "metadata": {},
     "output_type": "display_data"
    },
    {
     "data": {
      "text/html": [
       "<style>\n",
       ".list-inline {list-style: none; margin:0; padding: 0}\n",
       ".list-inline>li {display: inline-block}\n",
       ".list-inline>li:not(:last-child)::after {content: \"\\00b7\"; padding: 0 .5ex}\n",
       "</style>\n",
       "<ol class=list-inline><li>1</li><li>2</li><li>3</li></ol>\n"
      ],
      "text/latex": [
       "\\begin{enumerate*}\n",
       "\\item 1\n",
       "\\item 2\n",
       "\\item 3\n",
       "\\end{enumerate*}\n"
      ],
      "text/markdown": [
       "1. 1\n",
       "2. 2\n",
       "3. 3\n",
       "\n",
       "\n"
      ],
      "text/plain": [
       "[1] 1 2 3"
      ]
     },
     "metadata": {},
     "output_type": "display_data"
    },
    {
     "data": {
      "text/html": [
       "<table class=\"dataframe\">\n",
       "<caption>A matrix: 3 × 3 of type dbl</caption>\n",
       "<tbody>\n",
       "\t<tr><td>0</td><td>1</td><td>0</td></tr>\n",
       "\t<tr><td>1</td><td>0</td><td>0</td></tr>\n",
       "\t<tr><td>0</td><td>0</td><td>0</td></tr>\n",
       "</tbody>\n",
       "</table>\n"
      ],
      "text/latex": [
       "A matrix: 3 × 3 of type dbl\n",
       "\\begin{tabular}{lll}\n",
       "\t 0 & 1 & 0\\\\\n",
       "\t 1 & 0 & 0\\\\\n",
       "\t 0 & 0 & 0\\\\\n",
       "\\end{tabular}\n"
      ],
      "text/markdown": [
       "\n",
       "A matrix: 3 × 3 of type dbl\n",
       "\n",
       "| 0 | 1 | 0 |\n",
       "| 1 | 0 | 0 |\n",
       "| 0 | 0 | 0 |\n",
       "\n"
      ],
      "text/plain": [
       "     [,1] [,2] [,3]\n",
       "[1,] 0    1    0   \n",
       "[2,] 1    0    0   \n",
       "[3,] 0    0    0   "
      ]
     },
     "metadata": {},
     "output_type": "display_data"
    }
   ],
   "source": [
    "X\n",
    "node.set\n",
    "X[node.set,node.set]"
   ]
  },
  {
   "cell_type": "markdown",
   "id": "26abac5b",
   "metadata": {
    "deletable": false,
    "editable": false,
    "nbgrader": {
     "cell_type": "markdown",
     "checksum": "e9b2c6f0c154b7aff3717b26d313eac6",
     "grade": false,
     "grade_id": "cell-7a27081ecf4c95ac",
     "locked": true,
     "schema_version": 3,
     "solution": false,
     "task": false
    }
   },
   "source": [
    "is a closed triad and "
   ]
  },
  {
   "cell_type": "code",
   "execution_count": 28,
   "id": "f84af54a",
   "metadata": {},
   "outputs": [
    {
     "data": {
      "text/html": [
       "2"
      ],
      "text/latex": [
       "2"
      ],
      "text/markdown": [
       "2"
      ],
      "text/plain": [
       "[1] 2"
      ]
     },
     "metadata": {},
     "output_type": "display_data"
    },
    {
     "data": {
      "text/html": [
       "0"
      ],
      "text/latex": [
       "0"
      ],
      "text/markdown": [
       "0"
      ],
      "text/plain": [
       "[1] 0"
      ]
     },
     "metadata": {},
     "output_type": "display_data"
    },
    {
     "data": {
      "image/png": "[encoded data removed]",
      "text/plain": [
       "plot without title"
      ]
     },
     "metadata": {
      "image/png": {
       "height": 420,
       "width": 420
      }
     },
     "output_type": "display_data"
    },
    {
     "data": {
      "image/png": "[encoded data removed]",
      "text/plain": [
       "plot without title"
      ]
     },
     "metadata": {
      "image/png": {
       "height": 420,
       "width": 420
      }
     },
     "output_type": "display_data"
    }
   ],
   "source": [
    "node.set <- c(1,3,4)\n",
    "gplot(X[node.set,node.set],gmode='graph',label=node.set)\n",
    "sum(X[node.set,node.set])/2\n",
    "X[1,2]*X[1,5]*X[2,5]\n",
    "#gplot(X,gmode='graph',label=)\n",
    "#X[4 ,5] <- 0\n",
    "#X[5, 4] <- 0\n",
    "gplot(X, \n",
    "      gmode='graph', \n",
    "      label = c(1:5))# in the sna package, gmode is 'graph' or 'digraph' depending on w"
   ]
  },
  {
   "cell_type": "markdown",
   "id": "acfbafb1",
   "metadata": {
    "deletable": false,
    "editable": false,
    "nbgrader": {
     "cell_type": "markdown",
     "checksum": "c785ad58ad874e7b80123e93cd8be132",
     "grade": false,
     "grade_id": "cell-d40e17e44bdacf9b",
     "locked": true,
     "schema_version": 3,
     "solution": false,
     "task": false
    }
   },
   "source": [
    "is not, it is an *open triad*.\n",
    "\n",
    "We can tally how many occurences there are of each type of triad. Calculate the triad census: also, how many triads in total? express in terms of n"
   ]
  },
  {
   "cell_type": "code",
   "execution_count": 29,
   "id": "c8993912",
   "metadata": {},
   "outputs": [
    {
     "data": {
      "text/html": [
       "<table class=\"dataframe\">\n",
       "<caption>A matrix: 5 × 5 of type dbl</caption>\n",
       "<tbody>\n",
       "\t<tr><td>0</td><td>1</td><td>1</td><td>0</td><td>0</td></tr>\n",
       "\t<tr><td>1</td><td>0</td><td>1</td><td>0</td><td>0</td></tr>\n",
       "\t<tr><td>1</td><td>1</td><td>0</td><td>1</td><td>0</td></tr>\n",
       "\t<tr><td>0</td><td>0</td><td>1</td><td>0</td><td>0</td></tr>\n",
       "\t<tr><td>0</td><td>0</td><td>0</td><td>0</td><td>0</td></tr>\n",
       "</tbody>\n",
       "</table>\n"
      ],
      "text/latex": [
       "A matrix: 5 × 5 of type dbl\n",
       "\\begin{tabular}{lllll}\n",
       "\t 0 & 1 & 1 & 0 & 0\\\\\n",
       "\t 1 & 0 & 1 & 0 & 0\\\\\n",
       "\t 1 & 1 & 0 & 1 & 0\\\\\n",
       "\t 0 & 0 & 1 & 0 & 0\\\\\n",
       "\t 0 & 0 & 0 & 0 & 0\\\\\n",
       "\\end{tabular}\n"
      ],
      "text/markdown": [
       "\n",
       "A matrix: 5 × 5 of type dbl\n",
       "\n",
       "| 0 | 1 | 1 | 0 | 0 |\n",
       "| 1 | 0 | 1 | 0 | 0 |\n",
       "| 1 | 1 | 0 | 1 | 0 |\n",
       "| 0 | 0 | 1 | 0 | 0 |\n",
       "| 0 | 0 | 0 | 0 | 0 |\n",
       "\n"
      ],
      "text/plain": [
       "     [,1] [,2] [,3] [,4] [,5]\n",
       "[1,] 0    1    1    0    0   \n",
       "[2,] 1    0    1    0    0   \n",
       "[3,] 1    1    0    1    0   \n",
       "[4,] 0    0    1    0    0   \n",
       "[5,] 0    0    0    0    0   "
      ]
     },
     "metadata": {},
     "output_type": "display_data"
    },
    {
     "data": {
      "text/html": [
       "<table class=\"dataframe\">\n",
       "<caption>A matrix: 1 × 4 of type dbl</caption>\n",
       "<thead>\n",
       "\t<tr><th scope=col>0</th><th scope=col>1</th><th scope=col>2</th><th scope=col>3</th></tr>\n",
       "</thead>\n",
       "<tbody>\n",
       "\t<tr><td>2</td><td>5</td><td>2</td><td>1</td></tr>\n",
       "</tbody>\n",
       "</table>\n"
      ],
      "text/latex": [
       "A matrix: 1 × 4 of type dbl\n",
       "\\begin{tabular}{llll}\n",
       " 0 & 1 & 2 & 3\\\\\n",
       "\\hline\n",
       "\t 2 & 5 & 2 & 1\\\\\n",
       "\\end{tabular}\n"
      ],
      "text/markdown": [
       "\n",
       "A matrix: 1 × 4 of type dbl\n",
       "\n",
       "| 0 | 1 | 2 | 3 |\n",
       "|---|---|---|---|\n",
       "| 2 | 5 | 2 | 1 |\n",
       "\n"
      ],
      "text/plain": [
       "     0 1 2 3\n",
       "[1,] 2 5 2 1"
      ]
     },
     "metadata": {},
     "output_type": "display_data"
    },
    {
     "data": {
      "image/png": "[encoded data removed]",
      "text/plain": [
       "plot without title"
      ]
     },
     "metadata": {
      "image/png": {
       "height": 420,
       "width": 420
      }
     },
     "output_type": "display_data"
    }
   ],
   "source": [
    "X\n",
    "gplot(X,gmode='graph',label=node.set)\n",
    "triad.census( X , mode = \"graph\")"
   ]
  },
  {
   "cell_type": "markdown",
   "id": "8ebd8756",
   "metadata": {
    "deletable": false,
    "editable": false,
    "nbgrader": {
     "cell_type": "markdown",
     "checksum": "0c368210784e6af329355610b24ebd2f",
     "grade": false,
     "grade_id": "cell-02f9ce45da25de70",
     "locked": true,
     "schema_version": 3,
     "solution": false,
     "task": false
    }
   },
   "source": [
    "#### Question 10\n",
    "\n",
    "What does the label numbers correspond to?"
   ]
  },
  {
   "cell_type": "markdown",
   "id": "d6a16ada",
   "metadata": {
    "deletable": false,
    "nbgrader": {
     "cell_type": "markdown",
     "checksum": "36f6cecbc4ba1e287630ba437b16976f",
     "grade": true,
     "grade_id": "cell-caf14e7c6f0d9e6f",
     "locked": false,
     "points": 0,
     "schema_version": 3,
     "solution": true,
     "task": false
    }
   },
   "source": [
    "YOUR ANSWER HERE"
   ]
  },
  {
   "cell_type": "markdown",
   "id": "46e14eea",
   "metadata": {
    "deletable": false,
    "editable": false,
    "nbgrader": {
     "cell_type": "markdown",
     "checksum": "46443f3821fb23eabce9af94611ec21d",
     "grade": false,
     "grade_id": "cell-4b26a75d8906aedb",
     "locked": true,
     "schema_version": 3,
     "solution": false,
     "task": false
    }
   },
   "source": [
    "#### Optional: Question 11 \n",
    "\n",
    "How many triads are there in the graph - answer in terms of $n$?"
   ]
  },
  {
   "cell_type": "markdown",
   "id": "2b60a419",
   "metadata": {
    "deletable": false,
    "nbgrader": {
     "cell_type": "markdown",
     "checksum": "2858491ff9dd3d40a969558bb459e0d8",
     "grade": true,
     "grade_id": "cell-f7e01632e863f012",
     "locked": false,
     "points": 0,
     "schema_version": 3,
     "solution": true,
     "task": false
    }
   },
   "source": [
    "YOUR ANSWER HERE"
   ]
  },
  {
   "cell_type": "markdown",
   "id": "e3bf19eb",
   "metadata": {
    "deletable": false,
    "editable": false,
    "nbgrader": {
     "cell_type": "markdown",
     "checksum": "e9faf728646803b8cd2ba1fb5b2d497e",
     "grade": false,
     "grade_id": "cell-a150757a086f9660",
     "locked": true,
     "schema_version": 3,
     "solution": false,
     "task": false
    }
   },
   "source": [
    "Check your calculation on $X$ by comparing the sum of the triad cencus with your formula"
   ]
  },
  {
   "cell_type": "code",
   "execution_count": null,
   "id": "88b311d0",
   "metadata": {
    "deletable": false,
    "nbgrader": {
     "cell_type": "code",
     "checksum": "c374c12cecd59363f2d46e2772ca54e1",
     "grade": false,
     "grade_id": "cell-ab0faa2b08188b6a",
     "locked": false,
     "schema_version": 3,
     "solution": true,
     "task": false
    }
   },
   "outputs": [],
   "source": [
    "sum(triad.census( X , mode = \"graph\"))\n",
    "# YOUR CODE HERE - use n and treat R like a caluclator\n",
    "# YOUR CODE HERE\n",
    "stop('No Answer Given!')\n"
   ]
  },
  {
   "cell_type": "markdown",
   "id": "1411e42b",
   "metadata": {
    "deletable": false,
    "editable": false,
    "nbgrader": {
     "cell_type": "markdown",
     "checksum": "d65df39af25969048a283c64c945eb92",
     "grade": false,
     "grade_id": "cell-045311a3898e531b",
     "locked": true,
     "schema_version": 3,
     "solution": false,
     "task": false
    }
   },
   "source": [
    "### Clustering coefficient\n",
    "\n",
    "The ratio of the number of closed triads to the number of open triads is of particular interest. The clustering coefficient is defined as \n",
    "$$\n",
    "\\frac{3T_3}{3T_3+T_2},\n",
    "$$\n",
    "where $T_3$ is the number of closed triads and $T_2$ is the number of open triads.\n",
    "\n",
    "\n",
    "#### Question 12 Optional?\n",
    "\n",
    "Calculate the clustering coefficient manually and compare it to the answer from gtrans"
   ]
  },
  {
   "cell_type": "code",
   "execution_count": null,
   "id": "2d76972f",
   "metadata": {
    "deletable": false,
    "nbgrader": {
     "cell_type": "code",
     "checksum": "a5d03445dbc6b0e2e261cd16d05ef77a",
     "grade": false,
     "grade_id": "cell-0bc2dc37b7cd1d40",
     "locked": false,
     "schema_version": 3,
     "solution": true,
     "task": false
    }
   },
   "outputs": [],
   "source": [
    "gtrans(X)\n",
    "# YOUR CODE HERE\n",
    "stop('No Answer Given!')"
   ]
  },
  {
   "cell_type": "markdown",
   "id": "955a3d01",
   "metadata": {
    "deletable": false,
    "editable": false,
    "nbgrader": {
     "cell_type": "markdown",
     "checksum": "2f0def2585c09964ba9df3571e245706",
     "grade": false,
     "grade_id": "cell-04205f81fb6f8413",
     "locked": true,
     "points": 0,
     "schema_version": 3,
     "solution": false,
     "task": true
    }
   },
   "source": [
    "What is the propotion of closed triangles to open triads?\n"
   ]
  },
  {
   "cell_type": "markdown",
   "id": "ce5a30b9",
   "metadata": {
    "deletable": false,
    "editable": false,
    "nbgrader": {
     "cell_type": "markdown",
     "checksum": "0ec5680ccc3876526b41e75ab2828533",
     "grade": false,
     "grade_id": "cell-fbe9cb6bdfcee265",
     "locked": true,
     "schema_version": 3,
     "solution": false,
     "task": false
    }
   },
   "source": [
    "### Optional: Cliques\n",
    "\n",
    "A closed triad is a clique of size 3, or a 3-clique. List the cliques in the graph using clique.census"
   ]
  },
  {
   "cell_type": "code",
   "execution_count": null,
   "id": "3e6b0184",
   "metadata": {},
   "outputs": [],
   "source": [
    "cc <- clique.census( X , mode = \"graph\")\n",
    "cc$cliques"
   ]
  },
  {
   "cell_type": "markdown",
   "id": "28fef404",
   "metadata": {
    "deletable": false,
    "editable": false,
    "nbgrader": {
     "cell_type": "markdown",
     "checksum": "5b4541bbe734ee17beaaa6d377d663b7",
     "grade": false,
     "grade_id": "cell-217b1dd9390b0508",
     "locked": true,
     "schema_version": 3,
     "solution": false,
     "task": false
    }
   },
   "source": [
    "#### Optional Question 13\n",
    "This clique census only lists maximal cliques - why? What two cliques are node 3 a member of?"
   ]
  },
  {
   "cell_type": "markdown",
   "id": "b28825f8",
   "metadata": {
    "deletable": false,
    "nbgrader": {
     "cell_type": "markdown",
     "checksum": "09a41b8c1ebbab8e436eebae1159e8f9",
     "grade": true,
     "grade_id": "cell-c13bbfb2b7e11edb",
     "locked": false,
     "points": 0,
     "schema_version": 3,
     "solution": true,
     "task": false
    }
   },
   "source": [
    "YOUR ANSWER HERE"
   ]
  },
  {
   "cell_type": "markdown",
   "id": "71d6abe8",
   "metadata": {
    "deletable": false,
    "editable": false,
    "nbgrader": {
     "cell_type": "markdown",
     "checksum": "ac4d8d9765203e7d35e23fcb7292b42a",
     "grade": false,
     "grade_id": "cell-2a8663d74c0256fd",
     "locked": true,
     "schema_version": 3,
     "solution": false,
     "task": false
    }
   },
   "source": [
    "## Global measures\n",
    "\n",
    "### Centralisation\n",
    "\n",
    "To summarise how dispersed the degrees are, centralization is defined as\n",
    "$$\n",
    "C(X) = \\sum_{i=1}^n \\mid  d_{max}-d_i \\mid\n",
    "$$\n",
    "where\n",
    "$$\n",
    "d_{max}=\\max_{i \\in V}(d_i)\n",
    "$$\n",
    "is the maximum degree. Consequently, this measures the sum of absolute deviations from the maximum degree. This can also be normalised to act more like a variance or standard deviation (see help function). \n",
    "\n",
    "#### Optional: Question 14\n",
    "\n",
    "Calculate the centralisation of $X$ manually and compare to the `centralization` function"
   ]
  },
  {
   "cell_type": "code",
   "execution_count": null,
   "id": "eb70ef60",
   "metadata": {
    "deletable": false,
    "nbgrader": {
     "cell_type": "code",
     "checksum": "a71cb6cc649d3af6320216aa673b01b2",
     "grade": true,
     "grade_id": "cell-12c41eea89b2e998",
     "locked": false,
     "points": 0,
     "schema_version": 3,
     "solution": true,
     "task": false
    }
   },
   "outputs": [],
   "source": [
    "centralization(X,degree,normalize=FALSE, mode='graph')\n",
    "# YOUR CODE HERE\n",
    "stop('No Answer Given!')\n"
   ]
  },
  {
   "cell_type": "markdown",
   "id": "9f40a87e",
   "metadata": {
    "deletable": false,
    "editable": false,
    "nbgrader": {
     "cell_type": "markdown",
     "checksum": "87efec65e40b87e7f3f229f4a3fe384b",
     "grade": false,
     "grade_id": "cell-c560ea3fc33b4642",
     "locked": true,
     "schema_version": 3,
     "solution": false,
     "task": false
    }
   },
   "source": [
    "### Distance\n",
    "\n",
    "For Question 8 you calculated how many geodesic paths a node was on. For the entire graph, we can also calculate the geodesic distribution of all pairs of dyads.\n"
   ]
  },
  {
   "cell_type": "code",
   "execution_count": null,
   "id": "b128388a",
   "metadata": {},
   "outputs": [],
   "source": [
    "gd<-geodist(X)\n",
    "gd$gdist"
   ]
  },
  {
   "cell_type": "markdown",
   "id": "f5c6f669",
   "metadata": {
    "deletable": false,
    "editable": false,
    "nbgrader": {
     "cell_type": "markdown",
     "checksum": "9151ceaa900d7076e9a196f8e4bb0d58",
     "grade": false,
     "grade_id": "cell-c2c9f1879e94a859",
     "locked": true,
     "schema_version": 3,
     "solution": false,
     "task": false
    }
   },
   "source": [
    "The **diameter** of a graph is *greatest length of the shortest path* between any two vertices.\n",
    "\n",
    "#### Question 15\n",
    "\n",
    "What is the diameter of the toy graph?"
   ]
  },
  {
   "cell_type": "markdown",
   "id": "1904179b",
   "metadata": {
    "deletable": false,
    "nbgrader": {
     "cell_type": "markdown",
     "checksum": "96c554c489f1580dff2e9977355c24e2",
     "grade": true,
     "grade_id": "cell-702acaf17b6a5682",
     "locked": false,
     "points": 0,
     "schema_version": 3,
     "solution": true,
     "task": false
    }
   },
   "source": [
    "YOUR ANSWER HERE"
   ]
  },
  {
   "cell_type": "markdown",
   "id": "f4dac77b",
   "metadata": {
    "deletable": false,
    "editable": false,
    "nbgrader": {
     "cell_type": "markdown",
     "checksum": "689806b1035faeb4b5fed865bf7f4784",
     "grade": false,
     "grade_id": "cell-5d313f1516075da0",
     "locked": true,
     "schema_version": 3,
     "solution": false,
     "task": false
    }
   },
   "source": [
    "### Optional: Calculating distance\n",
    "\n",
    "Using linear algegra, if $x_{ij}$ in $X$ tell you if $i$ and $j$ are directly connected, element $(XX)_{i,j}$ of the matrix product $XX$, tells you how many paths $i \\rightarrow k \\rightarrow j$ there are"
   ]
  },
  {
   "cell_type": "code",
   "execution_count": null,
   "id": "742dc831",
   "metadata": {},
   "outputs": [],
   "source": [
    "X %*% X"
   ]
  },
  {
   "cell_type": "markdown",
   "id": "5a3577fa",
   "metadata": {
    "deletable": false,
    "editable": false,
    "nbgrader": {
     "cell_type": "markdown",
     "checksum": "f5d1958e1c24f51cbe9c1ea7e90ae9ea",
     "grade": false,
     "grade_id": "cell-f124d5de51ce70db",
     "locked": true,
     "schema_version": 3,
     "solution": false,
     "task": false
    }
   },
   "source": [
    "Element $(XXX)_{i,j}$ of the matrix product $XXX$, tells you how many paths $i \\rightarrow k \\rightarrow h \\rightarrow j$ there are"
   ]
  },
  {
   "cell_type": "code",
   "execution_count": null,
   "id": "55dd8c99",
   "metadata": {},
   "outputs": [],
   "source": [
    "X %*% X %*% X"
   ]
  },
  {
   "cell_type": "markdown",
   "id": "0ac5ce27",
   "metadata": {},
   "source": [
    "#### Question 16 Optional\n",
    "Comparing the geodesic distances with $XX$, we see that the distance between 2 and 5 is 3 and indeed there are zero paths of length 2 in $XX$ and 1 path of length three in $XXX$ but why is $(XXX)_{3,5}$ zero?"
   ]
  },
  {
   "cell_type": "markdown",
   "id": "0d8fff2a",
   "metadata": {
    "deletable": false,
    "nbgrader": {
     "cell_type": "markdown",
     "checksum": "c22ed38eacd73260675deb29df8cbac1",
     "grade": true,
     "grade_id": "cell-6124e041dd9cf2b6",
     "locked": false,
     "points": 0,
     "schema_version": 3,
     "solution": true,
     "task": false
    }
   },
   "source": [
    "YOUR ANSWER HERE"
   ]
  },
  {
   "cell_type": "markdown",
   "id": "447ff6b7",
   "metadata": {
    "deletable": false,
    "editable": false,
    "nbgrader": {
     "cell_type": "markdown",
     "checksum": "14146ad2d74824da305d2cf08108a42d",
     "grade": false,
     "grade_id": "cell-a8aa8b0136b2a509",
     "locked": true,
     "schema_version": 3,
     "solution": false,
     "task": false
    }
   },
   "source": [
    "NB: A path is the special case of a walk, as all vertices are distinct in a path"
   ]
  },
  {
   "cell_type": "markdown",
   "id": "6aed1748",
   "metadata": {
    "deletable": false,
    "editable": false,
    "nbgrader": {
     "cell_type": "markdown",
     "checksum": "59762125a85d32a2a6d6a3be134386e3",
     "grade": false,
     "grade_id": "cell-452eb68b3de4684d",
     "locked": true,
     "schema_version": 3,
     "solution": false,
     "task": false
    }
   },
   "source": [
    "# Empirical networks\n",
    "Throughout this module we will be applying network analysis to a suit of real life networks. In this section we will pick two networks and analysing them using some of the metrics above.\n",
    "\n",
    "## Load data\n",
    "\n",
    "### Red Highland tribes\n",
    "A classic training data set, originally collected by Read (1954), is that of $n=16$ tribes of the Gahuku–Gama alliance structure of the Eastern Central Highlands of New Guinea and their positive and negative ties  (Hage and Harary 1983)."
   ]
  },
  {
   "cell_type": "code",
   "execution_count": null,
   "id": "2e40f7fb",
   "metadata": {},
   "outputs": [],
   "source": [
    "temp <- tempfile()\n",
    "download.file(\"https://raw.githubusercontent.com/johankoskinen/BayesERGM/main/data/RedHighlandTribes.txt\",temp)\n",
    "tribes.all <- read.table(temp)# this two adjacency matrices stacked ontop of each other in a text file\n",
    "unlink(temp)\n",
    "tribesPos <- tribes.all[1:16,]# the first 16 lines are the positive ties"
   ]
  },
  {
   "cell_type": "markdown",
   "id": "1eabc691",
   "metadata": {
    "deletable": false,
    "editable": false,
    "nbgrader": {
     "cell_type": "markdown",
     "checksum": "a19b105648b84f3f99d6310897f34134",
     "grade": false,
     "grade_id": "cell-e0c156f7b0ce7665",
     "locked": true,
     "schema_version": 3,
     "solution": false,
     "task": false
    }
   },
   "source": [
    "### Bank wiring room\n",
    "Coming out of an extensive study by Mayo, Roethlisberger, and Dickson (1939), this dataset maps the ineractions among $n=14$ emplyoyes The interaction categories include: RDGAM, participation in horseplay; RDCON, participation in arguments about open windows; RDPOS, friendship; RDNEG, antagonistic (negative) behavior; RDHLP, helping others with work; and RDJOB, the number of times workers traded job assignments.\n"
   ]
  },
  {
   "cell_type": "code",
   "execution_count": null,
   "id": "4f4348e0",
   "metadata": {},
   "outputs": [],
   "source": [
    "temp <- tempfile()\n",
    "download.file(\"https://raw.githubusercontent.com/johankoskinen/BayesERGM/main/data/bankwiring.txt\",temp)\n",
    "wiring <- read.table(temp)# this four adjacency matrices stacked ontop of each other in a text file\n",
    "unlink(temp)\n",
    "RDPOS <- wiring[(2*14+1):(3*14),]# RDPOS symmetric, binary,  friendship"
   ]
  },
  {
   "cell_type": "markdown",
   "id": "482860d4",
   "metadata": {
    "deletable": false,
    "editable": false,
    "nbgrader": {
     "cell_type": "markdown",
     "checksum": "4777f19194ab2bb76b6a53115d6bf084",
     "grade": false,
     "grade_id": "cell-79f881290209c4f5",
     "locked": true,
     "schema_version": 3,
     "solution": false,
     "task": false
    }
   },
   "source": [
    "Plot the networks"
   ]
  },
  {
   "cell_type": "code",
   "execution_count": null,
   "id": "559f62ee",
   "metadata": {
    "deletable": false,
    "nbgrader": {
     "cell_type": "code",
     "checksum": "27de6be7c3b89af1c16c19b15414107c",
     "grade": false,
     "grade_id": "cell-fe805497c034a1dd",
     "locked": false,
     "schema_version": 3,
     "solution": true,
     "task": false
    }
   },
   "outputs": [],
   "source": [
    "par(mfrow=c(1,2))\n",
    "# YOUR CODE HERE\n",
    "stop('No Answer Given!')"
   ]
  },
  {
   "cell_type": "markdown",
   "id": "03fc71b5",
   "metadata": {
    "deletable": false,
    "editable": false,
    "nbgrader": {
     "cell_type": "markdown",
     "checksum": "5e89767eca9662780b2dd2e24276189e",
     "grade": false,
     "grade_id": "cell-959a05251faed12d",
     "locked": true,
     "schema_version": 3,
     "solution": false,
     "task": false
    }
   },
   "source": [
    "#### Question 17\n",
    "\n",
    "Calculate the density of the networks."
   ]
  },
  {
   "cell_type": "code",
   "execution_count": null,
   "id": "02fa9d6a",
   "metadata": {
    "deletable": false,
    "nbgrader": {
     "cell_type": "code",
     "checksum": "2ef88185960865f488e1fef30f5aeb1e",
     "grade": false,
     "grade_id": "cell-1cd7e493f8b68a1c",
     "locked": false,
     "schema_version": 3,
     "solution": true,
     "task": false
    }
   },
   "outputs": [],
   "source": [
    "# YOUR CODE HERE\n",
    "stop('No Answer Given!')"
   ]
  },
  {
   "cell_type": "markdown",
   "id": "cc41b20c",
   "metadata": {
    "deletable": false,
    "editable": false,
    "nbgrader": {
     "cell_type": "markdown",
     "checksum": "db5da1ce505394bd231198d6ce61165b",
     "grade": false,
     "grade_id": "cell-b5be77523b021610",
     "locked": true,
     "points": 0,
     "schema_version": 3,
     "solution": false,
     "task": true
    }
   },
   "source": [
    "Which network is the more dense?"
   ]
  },
  {
   "cell_type": "markdown",
   "id": "7c1cbdca",
   "metadata": {
    "deletable": false,
    "nbgrader": {
     "cell_type": "markdown",
     "checksum": "49535860f8a52b9270f87aeacd291780",
     "grade": true,
     "grade_id": "cell-6d8d8123b77c0592",
     "locked": false,
     "points": 0,
     "schema_version": 3,
     "solution": true,
     "task": false
    }
   },
   "source": [
    "YOUR ANSWER HERE"
   ]
  },
  {
   "cell_type": "markdown",
   "id": "91518be7",
   "metadata": {},
   "source": [
    "Plot the degree distribution of the Red highland tribes and the Bank wiring room."
   ]
  },
  {
   "cell_type": "code",
   "execution_count": null,
   "id": "d0d45971",
   "metadata": {
    "deletable": false,
    "nbgrader": {
     "cell_type": "code",
     "checksum": "9e6f3d2984d7170dfd8a98aafb886ea8",
     "grade": false,
     "grade_id": "cell-94e575496c5f2659",
     "locked": false,
     "schema_version": 3,
     "solution": true,
     "task": false
    }
   },
   "outputs": [],
   "source": [
    "# YOUR CODE HERE\n",
    "stop('No Answer Given!')"
   ]
  },
  {
   "cell_type": "markdown",
   "id": "975eed2a",
   "metadata": {
    "deletable": false,
    "editable": false,
    "nbgrader": {
     "cell_type": "markdown",
     "checksum": "d9366f6fc7dfd52eff836656150bf0e1",
     "grade": false,
     "grade_id": "cell-2b7751682b35f0bb",
     "locked": true,
     "schema_version": 3,
     "solution": false,
     "task": false
    }
   },
   "source": [
    "Can you say, qualitatively, which network has the most evenly distributed degree distribution?\n",
    "\n",
    "Calculate the centralization index **but** normalise the measure so that you can compare the relative centralisation of the networks"
   ]
  },
  {
   "cell_type": "code",
   "execution_count": null,
   "id": "6d95fde1",
   "metadata": {
    "deletable": false,
    "nbgrader": {
     "cell_type": "code",
     "checksum": "d39cbc53f3ecca542f0a85e7b59b566a",
     "grade": false,
     "grade_id": "cell-9dc57d200acd25bd",
     "locked": false,
     "schema_version": 3,
     "solution": true,
     "task": false
    }
   },
   "outputs": [],
   "source": [
    "# YOUR CODE HERE\n",
    "stop('No Answer Given!')"
   ]
  },
  {
   "cell_type": "markdown",
   "id": "c2a16078",
   "metadata": {
    "deletable": false,
    "editable": false,
    "nbgrader": {
     "cell_type": "markdown",
     "checksum": "a04153da98201b594130b5fd96c54ff2",
     "grade": false,
     "grade_id": "cell-dad04423e490e4db",
     "locked": true,
     "schema_version": 3,
     "solution": false,
     "task": false
    }
   },
   "source": [
    "#### Question 18\n",
    "\n",
    "Which network is more centralised and does this reflect the shape of the degree distribution?"
   ]
  },
  {
   "cell_type": "markdown",
   "id": "4eb587f1",
   "metadata": {
    "deletable": false,
    "nbgrader": {
     "cell_type": "markdown",
     "checksum": "e57976d6cb2ecb614735092dd62fe358",
     "grade": true,
     "grade_id": "cell-00de4899ca2c6ded",
     "locked": false,
     "points": 0,
     "schema_version": 3,
     "solution": true,
     "task": false
    }
   },
   "source": [
    "YOUR ANSWER HERE"
   ]
  },
  {
   "cell_type": "markdown",
   "id": "0cf65a81",
   "metadata": {
    "deletable": false,
    "editable": false,
    "nbgrader": {
     "cell_type": "markdown",
     "checksum": "485186405e31de1f65b941e31a7a266c",
     "grade": false,
     "grade_id": "cell-1a8cdfa163a12af2",
     "locked": true,
     "schema_version": 3,
     "solution": false,
     "task": false
    }
   },
   "source": [
    "Look at the network graphs, can you tell which network is more *clustered*? Calculate the triad census"
   ]
  },
  {
   "cell_type": "code",
   "execution_count": null,
   "id": "4e4c8951",
   "metadata": {
    "deletable": false,
    "nbgrader": {
     "cell_type": "code",
     "checksum": "b123b5366178128fa473a0ad801e27cf",
     "grade": false,
     "grade_id": "cell-bc0f6ac9aa1a2f90",
     "locked": false,
     "schema_version": 3,
     "solution": true,
     "task": false
    }
   },
   "outputs": [],
   "source": [
    "# YOUR CODE HERE\n",
    "stop('No Answer Given!')"
   ]
  },
  {
   "cell_type": "markdown",
   "id": "5d65ab9e",
   "metadata": {
    "deletable": false,
    "editable": false,
    "nbgrader": {
     "cell_type": "markdown",
     "checksum": "5090a47a8705ba61d62a4cd8aeb47c8d",
     "grade": false,
     "grade_id": "cell-75c148b4bba0c3d4",
     "locked": true,
     "schema_version": 3,
     "solution": false,
     "task": false
    }
   },
   "source": [
    "And calculate the clustering coefficient using `gtrans`"
   ]
  },
  {
   "cell_type": "code",
   "execution_count": null,
   "id": "917260ed",
   "metadata": {
    "deletable": false,
    "nbgrader": {
     "cell_type": "code",
     "checksum": "4157d70da4c5af94d141259d3115f122",
     "grade": false,
     "grade_id": "cell-7e21b68d8379ab83",
     "locked": false,
     "schema_version": 3,
     "solution": true,
     "task": false
    }
   },
   "outputs": [],
   "source": [
    "# YOUR CODE HERE\n",
    "stop('No Answer Given!')"
   ]
  },
  {
   "cell_type": "markdown",
   "id": "4ad414a6",
   "metadata": {
    "deletable": false,
    "editable": false,
    "nbgrader": {
     "cell_type": "markdown",
     "checksum": "6c358f2ca23e2b5bfba71b9b741ae08a",
     "grade": false,
     "grade_id": "cell-b9a86d53489131be",
     "locked": true,
     "schema_version": 3,
     "solution": false,
     "task": false
    }
   },
   "source": [
    "#### Question 19\n",
    "\n",
    "What are your conclusions in comparing the networks? Can you think of reasons why one might appear more clustered than the other?"
   ]
  },
  {
   "cell_type": "markdown",
   "id": "4e8f3bb2",
   "metadata": {
    "deletable": false,
    "nbgrader": {
     "cell_type": "markdown",
     "checksum": "3595377c5736db5589dfe68a26105f46",
     "grade": true,
     "grade_id": "cell-1c59def4bc9dc589",
     "locked": false,
     "points": 0,
     "schema_version": 3,
     "solution": true,
     "task": false
    }
   },
   "source": [
    "YOUR ANSWER HERE"
   ]
  },
  {
   "cell_type": "markdown",
   "id": "14dbcc95",
   "metadata": {
    "deletable": false,
    "editable": false,
    "nbgrader": {
     "cell_type": "markdown",
     "checksum": "1b796d91d287ff5fb99234b92c71e0d3",
     "grade": false,
     "grade_id": "cell-3a2cd9c6cd7a2e18",
     "locked": true,
     "schema_version": 3,
     "solution": false,
     "task": false
    }
   },
   "source": [
    "## Optional: Compare with a bigger network\n",
    "Load Zachary karate:\n",
    "### Zachary's karate club\n",
    "A network of $n=34$ members of a karate club (made famous as the testbed for community detection and blockmodelling algorithms) from the work of  Zachary (1977)"
   ]
  },
  {
   "cell_type": "code",
   "execution_count": null,
   "id": "a2260efb",
   "metadata": {},
   "outputs": [],
   "source": [
    "temp <- tempfile()\n",
    "download.file(\"https://raw.githubusercontent.com/johankoskinen/BayesERGM/main/data/zachary.txt\",temp)\n",
    "Zachary <-  read.table(temp)# this two adjacency matrices stacked on top of each other in a text file\n",
    "unlink(temp)\n",
    "ZacharyBinary <- Zachary[1:34,]# symmetric, binary, positive"
   ]
  },
  {
   "cell_type": "markdown",
   "id": "9759f787",
   "metadata": {
    "deletable": false,
    "editable": false,
    "nbgrader": {
     "cell_type": "markdown",
     "checksum": "69ade5efdbde6059ae24fe13f78edec4",
     "grade": false,
     "grade_id": "cell-b3ea43bc9720da79",
     "locked": true,
     "schema_version": 3,
     "solution": false,
     "task": false
    }
   },
   "source": [
    "This karate club had two factions with two leaders. Can you see this from the graph?"
   ]
  },
  {
   "cell_type": "code",
   "execution_count": null,
   "id": "e40fa640",
   "metadata": {},
   "outputs": [],
   "source": [
    "gplot(ZacharyBinary,\n",
    "      gmode='graph',\n",
    "      label=c(1:34),\n",
    "      label.pos = 5 ,# label.pos puts = 5 labels on top of nodes\n",
    "      label.cex = .5, # make labels smaller\n",
    "      vertex.col = NA)# do not fill vertices"
   ]
  },
  {
   "cell_type": "markdown",
   "id": "4cd6e65b",
   "metadata": {
    "deletable": false,
    "editable": false,
    "nbgrader": {
     "cell_type": "markdown",
     "checksum": "0e0b806ff2f453fb2415298daa2754f7",
     "grade": false,
     "grade_id": "cell-136fe8acf2ce335d",
     "locked": true,
     "schema_version": 3,
     "solution": false,
     "task": false
    }
   },
   "source": [
    "#### Optional: Question 20\n",
    "\n",
    "The question now is - which network is the more dense? Calculate the density."
   ]
  },
  {
   "cell_type": "code",
   "execution_count": null,
   "id": "f7845baf",
   "metadata": {
    "deletable": false,
    "nbgrader": {
     "cell_type": "code",
     "checksum": "0d053a83b93f6daeeeeeed3567612225",
     "grade": false,
     "grade_id": "cell-72d03b8e72273a2d",
     "locked": false,
     "schema_version": 3,
     "solution": true,
     "task": false
    }
   },
   "outputs": [],
   "source": [
    "# YOUR CODE HERE\n",
    "stop('No Answer Given!')"
   ]
  },
  {
   "cell_type": "markdown",
   "id": "d5c8920f",
   "metadata": {
    "deletable": false,
    "editable": false,
    "nbgrader": {
     "cell_type": "markdown",
     "checksum": "bcb8964e1ad5e31a58ae1d6a948233a0",
     "grade": false,
     "grade_id": "cell-2b484028fdcc63f4",
     "locked": true,
     "schema_version": 3,
     "solution": false,
     "task": false
    }
   },
   "source": [
    "How do we interpret these numbers and do they may sense?\n",
    "\n",
    "It might help interpretation if instead of density focus on *average degree*, i.e. the average number of ties a node has. The average degree is defined simply as\n",
    "$$\n",
    "\\frac{\\sum_{i=1}^n d_{i}}{n}\n",
    "$$\n",
    "\n",
    "Caluclate average degree:"
   ]
  },
  {
   "cell_type": "code",
   "execution_count": null,
   "id": "bf5735d4",
   "metadata": {
    "deletable": false,
    "nbgrader": {
     "cell_type": "code",
     "checksum": "39a5b20476a37c0bf89cdff4ddd4ddbe",
     "grade": false,
     "grade_id": "cell-cb42a6383465ff56",
     "locked": false,
     "schema_version": 3,
     "solution": true,
     "task": false
    }
   },
   "outputs": [],
   "source": [
    "# YOUR CODE HERE\n",
    "stop('No Answer Given!')"
   ]
  },
  {
   "cell_type": "markdown",
   "id": "a17ddcc1",
   "metadata": {
    "deletable": false,
    "editable": false,
    "nbgrader": {
     "cell_type": "markdown",
     "checksum": "42bad9041c385217130c6c9f29f7469d",
     "grade": false,
     "grade_id": "cell-0f6c973d407987a3",
     "locked": true,
     "schema_version": 3,
     "solution": false,
     "task": false
    }
   },
   "source": [
    "In which network do the nodes have more ties, and is it denser?"
   ]
  },
  {
   "cell_type": "markdown",
   "id": "a61a7652",
   "metadata": {
    "deletable": false,
    "nbgrader": {
     "cell_type": "markdown",
     "checksum": "37510b2e2723c83cd1b36b14c4f7c6cd",
     "grade": true,
     "grade_id": "cell-78fa8083469683c0",
     "locked": false,
     "points": 0,
     "schema_version": 3,
     "solution": true,
     "task": false
    }
   },
   "source": [
    "YOUR ANSWER HERE"
   ]
  },
  {
   "cell_type": "markdown",
   "id": "5eb3d1d6",
   "metadata": {
    "deletable": false,
    "editable": false,
    "nbgrader": {
     "cell_type": "markdown",
     "checksum": "5d33b633947f50cb6b43b515583724d5",
     "grade": false,
     "grade_id": "cell-fa36271eb2e8a8ed",
     "locked": true,
     "schema_version": 3,
     "solution": false,
     "task": false
    }
   },
   "source": [
    "# Directed networks\n",
    "We will go through directed networks more in future lectures. Our metrics are defined more or less in the same way. The two additional concepts that are cucial to directed networks are related to the types of *degree distributions*, *dyads* and *triads*.\n",
    "\n",
    "### Kapferer's tailors\n",
    "Bruce Kapferer (1972) studied a group of tailors in Zambia and collected a number of networks for the $n=39$ individuals.\n"
   ]
  },
  {
   "cell_type": "code",
   "execution_count": null,
   "id": "4d9b254b",
   "metadata": {},
   "outputs": [],
   "source": [
    "temp <- tempfile()\n",
    "download.file(\"https://raw.githubusercontent.com/johankoskinen/BayesERGM/main/data/kapferer.txt\",temp)\n",
    "kapf  <-  read.table(temp)# four adjacency matrices stacked on top of each other\n",
    "unlink(temp)\n",
    "# \"instrumental\" (work- and assistance-related) interactions\n",
    "KAPFTT1 <- kapf[(2*39+1):(3*39),]# KAPFTI1 non-symmetric, binary: time 1"
   ]
  },
  {
   "cell_type": "markdown",
   "id": "cdecc1e3",
   "metadata": {
    "deletable": false,
    "editable": false,
    "nbgrader": {
     "cell_type": "markdown",
     "checksum": "e2dff789e61d244fb0ebbddbe89df7af",
     "grade": false,
     "grade_id": "cell-09dbd72160dd9f8e",
     "locked": true,
     "schema_version": 3,
     "solution": false,
     "task": false
    }
   },
   "source": [
    "### Degree distributions\n",
    "Since nodes can *send* and *receive* ties, there are two types of degrees: indegree and outdegree\n"
   ]
  },
  {
   "cell_type": "code",
   "execution_count": null,
   "id": "ae2229ad",
   "metadata": {},
   "outputs": [],
   "source": [
    "par( mfrow = c(1,3))\n",
    "# outdegree:\n",
    "plot( table( degree( KAPFTT1 , cmode = 'outdegree') ),type='b',main='outdegree',ylab='frequency')\n",
    "# indegree:\n",
    "plot( table( degree( KAPFTT1 , cmode = 'indegree') ),type='b',main='indegree' ,ylab='frequency')\n",
    "# in and out\n",
    "plot( degree( KAPFTT1 , cmode = 'outdegree'),\n",
    "      degree( KAPFTT1 , cmode = 'indegree') ,\n",
    "      main='degree correlation',xlab='outdegree',ylab='indegree' )"
   ]
  },
  {
   "cell_type": "markdown",
   "id": "cc272207",
   "metadata": {
    "deletable": false,
    "editable": false,
    "nbgrader": {
     "cell_type": "markdown",
     "checksum": "ede12d7f44c949b0b1e9b04b0f23e0b9",
     "grade": false,
     "grade_id": "cell-c724737acb508732",
     "locked": true,
     "schema_version": 3,
     "solution": false,
     "task": false
    }
   },
   "source": [
    "#### Optional: Question 21\n",
    "\n",
    "Provide a potential interpretation of the graphs"
   ]
  },
  {
   "cell_type": "markdown",
   "id": "5fcaece7",
   "metadata": {
    "deletable": false,
    "nbgrader": {
     "cell_type": "markdown",
     "checksum": "a37c89db7f4e18b7aed63cd5c4f54722",
     "grade": true,
     "grade_id": "cell-a7b2ac523d8fb072",
     "locked": false,
     "points": 0,
     "schema_version": 3,
     "solution": true,
     "task": false
    }
   },
   "source": [
    "YOUR ANSWER HERE"
   ]
  },
  {
   "cell_type": "markdown",
   "id": "de5bc110",
   "metadata": {
    "deletable": false,
    "editable": false,
    "nbgrader": {
     "cell_type": "markdown",
     "checksum": "80323b3466550e29d4dee10739f9b26d",
     "grade": false,
     "grade_id": "cell-127a5bca7cd3a889",
     "locked": true,
     "schema_version": 3,
     "solution": false,
     "task": false
    }
   },
   "source": [
    "### Dyad census\n",
    "Since each tie can be either assymetric or reciprocated, we can distinguish between pairs of nodes, *dyads*, that are mutual, assymetric, or null. A tally of dyads is:"
   ]
  },
  {
   "cell_type": "code",
   "execution_count": null,
   "id": "2f7efdec",
   "metadata": {},
   "outputs": [],
   "source": [
    "dyad.census( KAPFTT1 )"
   ]
  },
  {
   "cell_type": "markdown",
   "id": "539cc55c",
   "metadata": {
    "deletable": false,
    "editable": false,
    "nbgrader": {
     "cell_type": "markdown",
     "checksum": "ee928dda415623a3e110e3a1c8b1a5fa",
     "grade": false,
     "grade_id": "cell-59f2759218c010ba",
     "locked": true,
     "schema_version": 3,
     "solution": false,
     "task": false
    }
   },
   "source": [
    "#### Optional: Question 22\n",
    "\n",
    "Does the dyad census change any of our interpretations of the correlation between in and outdegree?"
   ]
  },
  {
   "cell_type": "markdown",
   "id": "18d97c98",
   "metadata": {
    "deletable": false,
    "nbgrader": {
     "cell_type": "markdown",
     "checksum": "1f1f92fcbcd2cb928b8fa11e04b15615",
     "grade": true,
     "grade_id": "cell-af3debb56e6491a8",
     "locked": false,
     "points": 0,
     "schema_version": 3,
     "solution": true,
     "task": false
    }
   },
   "source": [
    "YOUR ANSWER HERE"
   ]
  },
  {
   "cell_type": "markdown",
   "id": "ae72279e",
   "metadata": {
    "deletable": false,
    "editable": false,
    "nbgrader": {
     "cell_type": "markdown",
     "checksum": "bc03f3acfd6083313b82ea5f3f2c20af",
     "grade": false,
     "grade_id": "cell-943b7836b411bfe3",
     "locked": true,
     "schema_version": 3,
     "solution": false,
     "task": false
    }
   },
   "source": [
    "### Triad census\n",
    "\n",
    "For undirected networks we can only have three types of triads. For directed networks there are 16 possibilities.\n",
    "\n",
    "![The 16 MAN triads for directed networks .](https://raw.githubusercontent.com/johankoskinen/BayesERGM/main/data/triadcensus.png)\n",
    "\n",
    "Each triad is labeled by its dyad census - this is called the MAN labeling scheme.\n",
    "\n",
    "#### Optional: Question 23\n",
    "What does the label for triad 15 - 210 stand for and what does the D, U, and C stand for in 021?"
   ]
  },
  {
   "cell_type": "markdown",
   "id": "42fc35dd",
   "metadata": {
    "deletable": false,
    "nbgrader": {
     "cell_type": "markdown",
     "checksum": "56555e6542896bb124fb92a02abe246e",
     "grade": true,
     "grade_id": "cell-24d8d3a6393168b5",
     "locked": false,
     "points": 0,
     "schema_version": 3,
     "solution": true,
     "task": false
    }
   },
   "source": [
    "YOUR ANSWER HERE"
   ]
  },
  {
   "cell_type": "markdown",
   "id": "3048e180",
   "metadata": {
    "deletable": false,
    "editable": false,
    "nbgrader": {
     "cell_type": "markdown",
     "checksum": "dbd1d7945ce2f1b9459ce6430983287e",
     "grade": false,
     "grade_id": "cell-eefb9821361cc396",
     "locked": true,
     "schema_version": 3,
     "solution": false,
     "task": false
    }
   },
   "source": [
    "#### Optional: Question 24\n",
    "Calculate the triad census for Kafperer's tailors."
   ]
  },
  {
   "cell_type": "code",
   "execution_count": null,
   "id": "8e8e1e04",
   "metadata": {},
   "outputs": [],
   "source": [
    "triad.census( KAPFTT1)"
   ]
  },
  {
   "cell_type": "markdown",
   "id": "08fd34f9",
   "metadata": {
    "deletable": false,
    "editable": false,
    "nbgrader": {
     "cell_type": "markdown",
     "checksum": "8116414d84f8873d98296407d1c1059c",
     "grade": false,
     "grade_id": "cell-7fa25f4be28e1c37",
     "locked": true,
     "schema_version": 3,
     "solution": false,
     "task": false
    }
   },
   "source": [
    "Assume that the ties are related to 'asking for help' or 'asking for assistance', how would you explain 030C?"
   ]
  },
  {
   "cell_type": "markdown",
   "id": "f8ae56e6",
   "metadata": {
    "deletable": false,
    "nbgrader": {
     "cell_type": "markdown",
     "checksum": "6737ca9382a4d3edc98a543816c5259a",
     "grade": true,
     "grade_id": "cell-ded028c03126a569",
     "locked": false,
     "points": 0,
     "schema_version": 3,
     "solution": true,
     "task": false
    }
   },
   "source": [
    "YOUR ANSWER HERE"
   ]
  },
  {
   "cell_type": "markdown",
   "id": "3347ff20",
   "metadata": {
    "deletable": false,
    "editable": false,
    "nbgrader": {
     "cell_type": "markdown",
     "checksum": "fe26505473d50b55f84ea17972a60f5f",
     "grade": false,
     "grade_id": "cell-8d241e2232bb5031",
     "locked": true,
     "schema_version": 3,
     "solution": false,
     "task": false
    }
   },
   "source": [
    "# Summary\n",
    "\n",
    "This tutorial has largely been agnostic to what the nodes and ties are and why the different measures might be important. In the sequel we will investigate such things as\n",
    "\n",
    "* Why may some people be more central than others?\n",
    "* Would we expect to see more closed than open triads and if so why?\n",
    "* Is information and disease spread in networks sensitive to cutpoints?\n"
   ]
  }
 ],
 "metadata": {
  "kernelspec": {
   "display_name": "R",
   "language": "R",
   "name": "ir"
  },
  "language_info": {
   "codemirror_mode": "r",
   "file_extension": ".r",
   "mimetype": "text/x-r-source",
   "name": "R",
   "pygments_lexer": "r",
   "version": "4.1.0"
  }
 },
 "nbformat": 4,
 "nbformat_minor": 5
}
