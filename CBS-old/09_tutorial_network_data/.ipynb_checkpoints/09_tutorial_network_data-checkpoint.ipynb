{
 "cells": [
  {
   "cell_type": "code",
   "execution_count": 18,
   "id": "2e740910",
   "metadata": {},
   "outputs": [],
   "source": [
    "suppressPackageStartupMessages({\n",
    "    library(sna)\n",
    "    library(testthat)\n",
    "})"
   ]
  },
  {
   "cell_type": "markdown",
   "id": "308fcaaa",
   "metadata": {
    "nbgrader": {
     "grade": false,
     "grade_id": "cell-6d97e18780b752db",
     "locked": true,
     "schema_version": 3,
     "solution": false,
     "task": false
    }
   },
   "source": [
    "# Introduction to networks\n",
    "This tutorial will introduce some fundamental concepts of graph theory and network analysis. The tutorial is structured in three parts\n",
    "* Using a toy network\n",
    "* Exploring empirical networks\n",
    "* Further metrics for digraphs\n",
    "\n",
    "Definitions and explanations of network terms are avialble in the online textbook by [Haneman and Riddle (2005)](http://faculty.ucr.edu/~hanneman/nettext/). A caveat is that their textbook does not provide mathematical definitions and also provides instructions for UCINET only. An excellent introduciton to graph theory is provided by [Robin J. Wilson ](https://www.maths.ed.ac.uk/~v1ranick/papers/wilsongraph.pdf) but be mindful that he goes into **a lot** more detail about **a lot less** of what we need in working with graphs. Still, the book is a good reference for basic defnitions in grahp theory (and some puzzles for the real nerds).\n",
    "\n",
    "The topics here are also covered in the slides for week 9. Note that there are some algebraic formulae in here, this is only used for clarity and to avoid ambiguity - you will not be required to use graph theoretic formulae yourself.\n",
    "\n",
    "For the purposes of the length of the tutorial, there are some questions that are marked **optional** that I do not consider compulsory. In the coming weeks you might find that some of the optional sections help you understand other topics and you can circle back to these then if you like.\n",
    "\n",
    "\n",
    "# Adjacency Matrix\n",
    "Create an empty $n \\times n$  **adjacency** matrix $X$ for $n=5$ nodes $$\n",
    "V =\\{1,2,3,4,5 \\}\n",
    "$$"
   ]
  },
  {
   "cell_type": "code",
   "execution_count": 3,
   "id": "3c56beb5",
   "metadata": {},
   "outputs": [],
   "source": [
    "n <- 5\n",
    "X <- matrix(0,n,n) # create a matrix with n rows and n columns and all values 0"
   ]
  },
  {
   "cell_type": "markdown",
   "id": "3b885d64",
   "metadata": {
    "nbgrader": {
     "grade": false,
     "grade_id": "cell-914f31e69dcba268",
     "locked": true,
     "schema_version": 3,
     "solution": false,
     "task": false
    }
   },
   "source": [
    "Adjacency matrix: \n",
    "\n",
    "Assume that the graph has the edge set $$ E = \\{ \\{1,2\\},\\{1,3\\}, \\{2,3\\},\\{3,4\\}, \\{4,5\\} \\} $$\n",
    "\n",
    "Recall that we use curly brackets, e.g. $\\{1,2\\}$, for **unordered pairs**. Set the corresponding tie-variables to 1 (consider whether the network is directed or not) in the adjacency matrix $X$"
   ]
  },
  {
   "cell_type": "code",
   "execution_count": 4,
   "id": "878ba695",
   "metadata": {
    "nbgrader": {
     "grade": false,
     "grade_id": "cell-babf7d6d054ca4fa",
     "locked": false,
     "schema_version": 3,
     "solution": true,
     "task": false
    }
   },
   "outputs": [],
   "source": [
    "### BEGIN SOLUTION\n",
    "X[1,2] <- 1\n",
    "X[1,3] <- 1\n",
    "X[2,3] <- 1\n",
    "X[3,4] <- 1\n",
    "X[4,5] <- 1\n",
    "X <- X + t(X) # if you know your linear algebra you will know this shortcut to making the matrix symmetric\n",
    "### END SOLUTION"
   ]
  },
  {
   "cell_type": "markdown",
   "id": "43ac46ed",
   "metadata": {
    "nbgrader": {
     "grade": false,
     "grade_id": "cell-4921f48aaa85c5a4",
     "locked": true,
     "schema_version": 3,
     "solution": false,
     "task": false
    }
   },
   "source": [
    "Draw the network graph using the 'sna' package"
   ]
  },
  {
   "cell_type": "code",
   "execution_count": 6,
   "id": "ff500f5a",
   "metadata": {},
   "outputs": [
    {
     "data": {
      "image/png": "[encoded data removed]",
      "text/plain": [
       "plot without title"
      ]
     },
     "metadata": {
      "image/png": {
       "height": 420,
       "width": 420
      }
     },
     "output_type": "display_data"
    }
   ],
   "source": [
    "gplot(X, \n",
    "      gmode='graph', \n",
    "      label = c(1:5))# in the sna package, gmode is 'graph' or 'digraph' depending on whether the network is directed or not"
   ]
  },
  {
   "cell_type": "markdown",
   "id": "87e12d52",
   "metadata": {
    "nbgrader": {
     "grade": false,
     "grade_id": "cell-5f2c1c0c427a56fb",
     "locked": true,
     "schema_version": 3,
     "solution": false,
     "task": false
    }
   },
   "source": [
    "#### Question 1\n",
    "Looking at the graph, how many edges are there in the network?"
   ]
  },
  {
   "cell_type": "markdown",
   "id": "e2ef2c77",
   "metadata": {
    "nbgrader": {
     "grade": true,
     "grade_id": "cell-c024182234efc9b4",
     "locked": false,
     "points": 0,
     "schema_version": 3,
     "solution": true,
     "task": false
    }
   },
   "source": [
    "There are 5 edges."
   ]
  },
  {
   "cell_type": "markdown",
   "id": "a6474f1f",
   "metadata": {
    "nbgrader": {
     "grade": false,
     "grade_id": "cell-118d9735ac028c0c",
     "locked": true,
     "schema_version": 3,
     "solution": false,
     "task": false
    }
   },
   "source": [
    "In graph theoretic terms we can denote this as the cardinality $|E|$ of the edge set.\n",
    "\n",
    "In graph theoretic terms we can denote the degree of node $i \\in V$ by $d_i = |N(i)|$, where $N(i)=\\{j \\in V: \\{i,j\\} \\in E \\}$ is the set of neighbours of node $i \\in V$. Sometimes you will see the use of $i \\thicksim j$ used to denote that $j$ is a neighbour of $i$. The vertical bars mean **cardinality**, i.e. the number of elements in a set. The set $A=\\{a,b,c\\}$ has cardinality $|A|=3$.\n",
    "\n",
    "#### Question 2\n",
    "\n",
    "Looking at the graph, which node has the highest degree and which node has the lowest degree?"
   ]
  },
  {
   "cell_type": "markdown",
   "id": "a516861d",
   "metadata": {
    "nbgrader": {
     "grade": true,
     "grade_id": "cell-0fa1b592c0da9a1b",
     "locked": false,
     "points": 0,
     "schema_version": 3,
     "solution": true,
     "task": false
    }
   },
   "source": [
    "Node 3 has the highest degree and node 5 has the lowest degree."
   ]
  },
  {
   "cell_type": "markdown",
   "id": "fd7e02d4",
   "metadata": {
    "nbgrader": {
     "grade": false,
     "grade_id": "cell-bcc6188e00fed452",
     "locked": true,
     "schema_version": 3,
     "solution": false,
     "task": false
    }
   },
   "source": [
    "## Degrees and density\n",
    "\n",
    "#### Question 3\n",
    "\n",
    "If each node had a tie to every other node, what degree would every node have? Motivate your answer."
   ]
  },
  {
   "cell_type": "markdown",
   "id": "a158ef85",
   "metadata": {
    "nbgrader": {
     "grade": true,
     "grade_id": "cell-fcc2ef6cccf2fd8a",
     "locked": false,
     "points": 0,
     "schema_version": 3,
     "solution": true,
     "task": false
    }
   },
   "source": [
    "Each node can have a tie to the $n-1$ remaining nodes, so with 5 nodes, each node would have a degree of 4."
   ]
  },
  {
   "cell_type": "markdown",
   "id": "cf71db6e",
   "metadata": {
    "nbgrader": {
     "grade": false,
     "grade_id": "cell-051376c19b9d7787",
     "locked": true,
     "schema_version": 3,
     "solution": false,
     "task": false
    }
   },
   "source": [
    "#### Question 4\n",
    "\n",
    "If all nodes had maximum degree, what would the *total degree* $\\sum_{i=1}^n d_i$ be? Answer in terms of $n$."
   ]
  },
  {
   "cell_type": "markdown",
   "id": "85cf341b",
   "metadata": {
    "nbgrader": {
     "grade": true,
     "grade_id": "cell-308661591b398516",
     "locked": false,
     "points": 0,
     "schema_version": 3,
     "solution": true,
     "task": false
    }
   },
   "source": [
    "If every node had maximum degree $n-1$, the sum would be $n(n-1)$. \n",
    "\n",
    "You can also prove this by first noting that if $d_i =d=n-1$, $\\forall i \\in V$,  then $\\sum_i d_i=\\sum_i d = nd =n(n-1)$."
   ]
  },
  {
   "cell_type": "markdown",
   "id": "1ec2e2fc",
   "metadata": {
    "nbgrader": {
     "grade": false,
     "grade_id": "cell-4e6adcbfbda2bf26",
     "locked": true,
     "schema_version": 3,
     "solution": false,
     "task": false
    }
   },
   "source": [
    "#### Question 5\n",
    "\n",
    "What is the maximum number of edges a graph on 5 nodes could have? Motivate your answer\n"
   ]
  },
  {
   "cell_type": "markdown",
   "id": "722e3252",
   "metadata": {
    "nbgrader": {
     "grade": true,
     "grade_id": "cell-392187aca1f58821",
     "locked": false,
     "points": 0,
     "schema_version": 3,
     "solution": true,
     "task": false
    }
   },
   "source": [
    "If every node had maximum degree, the total degree would be $5\\times 4$ , and since each edge is counted twice the total number of edges would be $5\\times 4/2=10$. In formulae, each edge $\\{i,j\\}$ is counted twice as $x_{ij}$ and $x_{ji}$ in the total degree $n(n-1)$, and hence $|E|=n(n-1)/2$."
   ]
  },
  {
   "cell_type": "markdown",
   "id": "dedf388b",
   "metadata": {
    "nbgrader": {
     "grade": false,
     "grade_id": "cell-849579bc51e36792",
     "locked": true,
     "schema_version": 3,
     "solution": false,
     "task": false
    }
   },
   "source": [
    "Using the tie-variables $x_{ij}$ of the adjacency matrix $X$, we can define the *total degree* as $\\sum_{i=1}^n \\sum_{j=1}^n x_{ij}$.\n",
    "Based on your anwers to Questions 1 and 5, use the sum function and n to calculate the density of the network."
   ]
  },
  {
   "cell_type": "code",
   "execution_count": 9,
   "id": "ca77707f",
   "metadata": {
    "nbgrader": {
     "grade": false,
     "grade_id": "cell-8fc4b27fee529cfb",
     "locked": false,
     "schema_version": 3,
     "solution": true,
     "task": false
    }
   },
   "outputs": [],
   "source": [
    "\n",
    "my.density <- function(X,n){\n",
    "    ### BEGIN SOLUTION\n",
    "sum(X)/(n*(n-1))\n",
    "### END SOLUTION\n",
    "}    "
   ]
  },
  {
   "cell_type": "markdown",
   "id": "647b8deb",
   "metadata": {
    "nbgrader": {
     "grade": false,
     "grade_id": "cell-2f1c80fe3f4c1349",
     "locked": true,
     "schema_version": 3,
     "solution": false,
     "task": false
    }
   },
   "source": [
    "Use your function to calculate the denisty of the network.\n",
    "\n",
    "#### Question 6\n",
    "Use the sna function `gden` to check your answer. Did you get the same answer?\n",
    "\n"
   ]
  },
  {
   "cell_type": "code",
   "execution_count": 11,
   "id": "213e6510",
   "metadata": {},
   "outputs": [
    {
     "data": {
      "text/html": [
       "0.5"
      ],
      "text/latex": [
       "0.5"
      ],
      "text/markdown": [
       "0.5"
      ],
      "text/plain": [
       "[1] 0.5"
      ]
     },
     "metadata": {},
     "output_type": "display_data"
    }
   ],
   "source": [
    "gden(X, mode='graph')"
   ]
  },
  {
   "cell_type": "markdown",
   "id": "2936536e",
   "metadata": {
    "nbgrader": {
     "grade": false,
     "grade_id": "cell-59d5eef8dbfc8ffa",
     "locked": true,
     "schema_version": 3,
     "solution": false,
     "task": false
    }
   },
   "source": [
    "Calculate the vertex degrees with colSums, tabulate them, and plot the degree distribution"
   ]
  },
  {
   "cell_type": "code",
   "execution_count": 12,
   "id": "edb83c61",
   "metadata": {},
   "outputs": [
    {
     "data": {
      "image/png": "[encoded data removed]",
      "text/plain": [
       "plot without title"
      ]
     },
     "metadata": {
      "image/png": {
       "height": 420,
       "width": 420
      }
     },
     "output_type": "display_data"
    }
   ],
   "source": [
    "plot ( table( colSums(X) ) ,ylab='frequency',xlab='degrees')"
   ]
  },
  {
   "cell_type": "markdown",
   "id": "7a3c0c32",
   "metadata": {
    "nbgrader": {
     "grade": false,
     "grade_id": "cell-4eb8d82bfd0e4e8a",
     "locked": true,
     "schema_version": 3,
     "solution": false,
     "task": false
    }
   },
   "source": [
    "#### Question 7\n",
    "\n",
    "What is the mode of the degree distribution?"
   ]
  },
  {
   "cell_type": "markdown",
   "id": "b114c2c4",
   "metadata": {
    "nbgrader": {
     "grade": true,
     "grade_id": "cell-6d9250c4dfbdb9d1",
     "locked": false,
     "points": 0,
     "schema_version": 3,
     "solution": true,
     "task": false
    }
   },
   "source": [
    "The mode is 2 - most nodes have exactly 2 edges."
   ]
  },
  {
   "cell_type": "markdown",
   "id": "ab71a84d",
   "metadata": {
    "nbgrader": {
     "grade": false,
     "grade_id": "cell-f1a13a1e4403b7d0",
     "locked": true,
     "schema_version": 3,
     "solution": false,
     "task": false
    }
   },
   "source": [
    "## Network position\n",
    "\n",
    "### Degree centrality\n",
    "\n",
    "NOTE: For the sna functions `degree` and `betweenness`, gmode is used to distinguish between 'graph' and 'digraph'; for the sna functions `cutpoints` and `triad.census`, the argument is called mode (for some reason).\n",
    "\n",
    "For a network we may ask what node is most *central*. There are many different measures of centrality. The most fundamental is **degree centrality**. This is the (normalised) degree of nodes. In Question 2 you already picked out the most central node, using the degree distribution. You can do this also using the function"
   ]
  },
  {
   "cell_type": "code",
   "execution_count": 14,
   "id": "d6541a78",
   "metadata": {},
   "outputs": [
    {
     "data": {
      "text/html": [
       "<style>\n",
       ".list-inline {list-style: none; margin:0; padding: 0}\n",
       ".list-inline>li {display: inline-block}\n",
       ".list-inline>li:not(:last-child)::after {content: \"\\00b7\"; padding: 0 .5ex}\n",
       "</style>\n",
       "<ol class=list-inline><li>2</li><li>2</li><li>3</li><li>2</li><li>1</li></ol>\n"
      ],
      "text/latex": [
       "\\begin{enumerate*}\n",
       "\\item 2\n",
       "\\item 2\n",
       "\\item 3\n",
       "\\item 2\n",
       "\\item 1\n",
       "\\end{enumerate*}\n"
      ],
      "text/markdown": [
       "1. 2\n",
       "2. 2\n",
       "3. 3\n",
       "4. 2\n",
       "5. 1\n",
       "\n",
       "\n"
      ],
      "text/plain": [
       "[1] 2 2 3 2 1"
      ]
     },
     "metadata": {},
     "output_type": "display_data"
    }
   ],
   "source": [
    "degree( X , gmode='graph')"
   ]
  },
  {
   "cell_type": "markdown",
   "id": "5943a5d5",
   "metadata": {
    "nbgrader": {
     "grade": false,
     "grade_id": "cell-94e021d4bbe6ff0c",
     "locked": true,
     "schema_version": 3,
     "solution": false,
     "task": false
    }
   },
   "source": [
    "Does this agree with the degrees?\n",
    "\n",
    "You can normalise this relative to the maximum.\n",
    "\n",
    "### Betweeness centrality\n",
    "Is the highest degree node always the most central and are all nodes with the same degree equally central? What about the extent to which a node connects other nodes?\n",
    "\n",
    "Following the lecture slides, we define a *path* from one node to another as a **sequence of edges** connecting one node with another. We can identify this path using its **node sequence**, i.e., the sequence of nodes on the path. \n",
    "\n",
    "Here, use the convention that we list a path starting with the lowest index, e.g., `c(1,3,4)` rather than 4,3,1.\n",
    "\n",
    "Inspecting the graph, provide the geodesic- the shortest path- between 1 and 5."
   ]
  },
  {
   "cell_type": "code",
   "execution_count": 16,
   "id": "70ef6478",
   "metadata": {
    "nbgrader": {
     "grade": false,
     "grade_id": "cell-555a06c91c802b96",
     "locked": false,
     "schema_version": 3,
     "solution": true,
     "task": false
    }
   },
   "outputs": [],
   "source": [
    "P <- \n",
    " ### BEGIN SOLUTION\n",
    " c(1,3,4,5)\n",
    "### END SOLUTION"
   ]
  },
  {
   "cell_type": "code",
   "execution_count": 19,
   "id": "b29608c4",
   "metadata": {
    "nbgrader": {
     "grade": true,
     "grade_id": "cell-a56112c126d01ce6",
     "locked": true,
     "points": 0,
     "schema_version": 3,
     "solution": false,
     "task": false
    }
   },
   "outputs": [],
   "source": [
    "### BEGIN HIDDEN TESTS\n",
    "expect_that(P[1] , equals(1))\n",
    "expect_that(P[2] , equals(3))\n",
    "expect_that(P[3] , equals(4))\n",
    "expect_that(P[4] , equals(5))\n",
    "### END HIDDEN TESTS"
   ]
  },
  {
   "cell_type": "markdown",
   "id": "1b69c8e8",
   "metadata": {
    "nbgrader": {
     "grade": false,
     "grade_id": "cell-6391f46599da84a6",
     "locked": true,
     "schema_version": 3,
     "solution": false,
     "task": false
    }
   },
   "source": [
    "**Betweeness centrality** calculates how many geodesics - shortest paths - every node is on. Looking at the graph, which node should have highest betweeness? Also calculate the betweeness centrality using the function"
   ]
  },
  {
   "cell_type": "code",
   "execution_count": 20,
   "id": "a3987e30",
   "metadata": {},
   "outputs": [
    {
     "data": {
      "text/html": [
       "<style>\n",
       ".list-inline {list-style: none; margin:0; padding: 0}\n",
       ".list-inline>li {display: inline-block}\n",
       ".list-inline>li:not(:last-child)::after {content: \"\\00b7\"; padding: 0 .5ex}\n",
       "</style>\n",
       "<ol class=list-inline><li>0</li><li>0</li><li>4</li><li>3</li><li>0</li></ol>\n"
      ],
      "text/latex": [
       "\\begin{enumerate*}\n",
       "\\item 0\n",
       "\\item 0\n",
       "\\item 4\n",
       "\\item 3\n",
       "\\item 0\n",
       "\\end{enumerate*}\n"
      ],
      "text/markdown": [
       "1. 0\n",
       "2. 0\n",
       "3. 4\n",
       "4. 3\n",
       "5. 0\n",
       "\n",
       "\n"
      ],
      "text/plain": [
       "[1] 0 0 4 3 0"
      ]
     },
     "metadata": {},
     "output_type": "display_data"
    }
   ],
   "source": [
    "betweenness( X , gmode ='graph' )"
   ]
  },
  {
   "cell_type": "markdown",
   "id": "26e99f43",
   "metadata": {
    "nbgrader": {
     "grade": false,
     "grade_id": "cell-c94d60c799f4244f",
     "locked": true,
     "points": 0,
     "schema_version": 3,
     "solution": false,
     "task": true
    }
   },
   "source": [
    "#### Question 8\n",
    "Do you get the same answer and do all nodes with the same degree centrality have the same betweeness centrality? In addition, list all geodesics this node is on\n",
    "\n",
    "=== BEGIN MARK SCHEME ===\n",
    "1,3,4;\n",
    "1,3,4,5;\n",
    "2,3,4;\n",
    "2,3,4,5;\n",
    "=== END MARK SCHEME ==="
   ]
  },
  {
   "cell_type": "markdown",
   "id": "1fe3a652",
   "metadata": {
    "nbgrader": {
     "grade": true,
     "grade_id": "cell-8a3aea93dcfa5de6",
     "locked": false,
     "points": 0,
     "schema_version": 3,
     "solution": true,
     "task": false
    }
   },
   "source": [
    "YOUR ANSWER HERE"
   ]
  },
  {
   "cell_type": "markdown",
   "id": "59039161",
   "metadata": {
    "nbgrader": {
     "grade": false,
     "grade_id": "cell-e9d702e00c8115e8",
     "locked": true,
     "schema_version": 3,
     "solution": false,
     "task": false
    }
   },
   "source": [
    "### Optional: Difference between measures\n",
    "Construct a network on $n=5$ nodes where the highest degree node is not the (uniquely) highest in betweeness centrality. Construct the adjacency matrix and check the two centralities"
   ]
  },
  {
   "cell_type": "code",
   "execution_count": 21,
   "id": "2681b298",
   "metadata": {
    "nbgrader": {
     "grade": false,
     "grade_id": "cell-44b4c98b49967fa5",
     "locked": false,
     "schema_version": 3,
     "solution": true,
     "task": false
    }
   },
   "outputs": [
    {
     "data": {
      "text/html": [
       "<style>\n",
       ".list-inline {list-style: none; margin:0; padding: 0}\n",
       ".list-inline>li {display: inline-block}\n",
       ".list-inline>li:not(:last-child)::after {content: \"\\00b7\"; padding: 0 .5ex}\n",
       "</style>\n",
       "<ol class=list-inline><li>1</li><li>3</li><li>3</li><li>3</li><li>2</li></ol>\n"
      ],
      "text/latex": [
       "\\begin{enumerate*}\n",
       "\\item 1\n",
       "\\item 3\n",
       "\\item 3\n",
       "\\item 3\n",
       "\\item 2\n",
       "\\end{enumerate*}\n"
      ],
      "text/markdown": [
       "1. 1\n",
       "2. 3\n",
       "3. 3\n",
       "4. 3\n",
       "5. 2\n",
       "\n",
       "\n"
      ],
      "text/plain": [
       "[1] 1 3 3 3 2"
      ]
     },
     "metadata": {},
     "output_type": "display_data"
    },
    {
     "data": {
      "text/html": [
       "<style>\n",
       ".list-inline {list-style: none; margin:0; padding: 0}\n",
       ".list-inline>li {display: inline-block}\n",
       ".list-inline>li:not(:last-child)::after {content: \"\\00b7\"; padding: 0 .5ex}\n",
       "</style>\n",
       "<ol class=list-inline><li>0</li><li>3</li><li>1</li><li>1</li><li>0</li></ol>\n"
      ],
      "text/latex": [
       "\\begin{enumerate*}\n",
       "\\item 0\n",
       "\\item 3\n",
       "\\item 1\n",
       "\\item 1\n",
       "\\item 0\n",
       "\\end{enumerate*}\n"
      ],
      "text/markdown": [
       "1. 0\n",
       "2. 3\n",
       "3. 1\n",
       "4. 1\n",
       "5. 0\n",
       "\n",
       "\n"
      ],
      "text/plain": [
       "[1] 0 3 1 1 0"
      ]
     },
     "metadata": {},
     "output_type": "display_data"
    },
    {
     "data": {
      "image/png": "[encoded data removed]",
      "text/plain": [
       "plot without title"
      ]
     },
     "metadata": {
      "image/png": {
       "height": 420,
       "width": 420
      }
     },
     "output_type": "display_data"
    }
   ],
   "source": [
    "Y <- matrix(0,n,n)\n",
    "# YOUR CODE HERE - add ties to Y\n",
    "### BEGIN SOLUTION\n",
    "Y[1,2] <- 1\n",
    "Y[2,3] <- 1\n",
    "Y[3,4] <- 1\n",
    "Y[4,5] <- 1\n",
    "Y[2,4] <- 1 \n",
    "Y[3,5] <- 1 \n",
    "Y <- Y +t(Y)\n",
    "### END SOLUTION\n",
    "gplot( Y , gmode='graph',label=c(1:5) )\n",
    "degree( Y , gmode='graph')\n",
    "betweenness( Y , gmode ='graph' )"
   ]
  },
  {
   "cell_type": "markdown",
   "id": "4fdac4df",
   "metadata": {
    "nbgrader": {
     "grade": false,
     "grade_id": "cell-370d5a1ea67fca5c",
     "locked": true,
     "schema_version": 3,
     "solution": false,
     "task": false
    }
   },
   "source": [
    "Check other centrality measures in [Haneman and Riddle (2005)](http://faculty.ucr.edu/~hanneman/nettext/). An interesting question to find out is\n",
    "\n",
    "> Is Google's pagerank algorithm and Eigenvector centrality the same?\n",
    "\n",
    "NOTE: Leo Katz, who introduced the precursor to Eigenvector centrality (in Psychometrika, in 1953) is a different Katz to the famous Elihu Katz, who introduced network diffusion (with Coleman and Menzel)."
   ]
  },
  {
   "cell_type": "markdown",
   "id": "7e333a45",
   "metadata": {
    "nbgrader": {
     "grade": false,
     "grade_id": "cell-eb0fff20583d9bbe",
     "locked": true,
     "schema_version": 3,
     "solution": false,
     "task": false
    }
   },
   "source": [
    "### Brokers\n",
    "Looking at the orignal graph, with adjacency matrix $X$, are there any cutpoints? Check by returning a list of any cutpoints"
   ]
  },
  {
   "cell_type": "code",
   "execution_count": 22,
   "id": "37ddd0ad",
   "metadata": {},
   "outputs": [
    {
     "data": {
      "text/html": [
       "<style>\n",
       ".list-inline {list-style: none; margin:0; padding: 0}\n",
       ".list-inline>li {display: inline-block}\n",
       ".list-inline>li:not(:last-child)::after {content: \"\\00b7\"; padding: 0 .5ex}\n",
       "</style>\n",
       "<ol class=list-inline><li>3</li><li>4</li></ol>\n"
      ],
      "text/latex": [
       "\\begin{enumerate*}\n",
       "\\item 3\n",
       "\\item 4\n",
       "\\end{enumerate*}\n"
      ],
      "text/markdown": [
       "1. 3\n",
       "2. 4\n",
       "\n",
       "\n"
      ],
      "text/plain": [
       "[1] 3 4"
      ]
     },
     "metadata": {},
     "output_type": "display_data"
    }
   ],
   "source": [
    "cutpoints( X , mode = \"graph\")"
   ]
  },
  {
   "cell_type": "markdown",
   "id": "d5bd4317",
   "metadata": {
    "nbgrader": {
     "grade": false,
     "grade_id": "cell-d254d07923345e8a",
     "locked": true,
     "points": 0,
     "schema_version": 3,
     "solution": false,
     "task": true
    }
   },
   "source": [
    "#### Question 9\n",
    "\n",
    "What happens to the graph when either one of the indicated cutpoints are removed?\n",
    "\n",
    "=== BEGIN MARK SCHEME === \n",
    "> If 3 is removed, we are left with the two components $\\{ 4,5\\}$ and $\\{ 1,2 \\}$. If 4 is removed, $\\{5\\}$ is a singleton component and $\\{3,1,2\\}$ another component.\n",
    "\n",
    "=== END MARK SCHEME ==="
   ]
  },
  {
   "cell_type": "markdown",
   "id": "c0327e05",
   "metadata": {
    "nbgrader": {
     "grade": true,
     "grade_id": "cell-f181cc6b040c366e",
     "locked": false,
     "points": 0,
     "schema_version": 3,
     "solution": true,
     "task": false
    }
   },
   "source": [
    "ANSWER HERE"
   ]
  },
  {
   "cell_type": "markdown",
   "id": "4a7347c8",
   "metadata": {
    "nbgrader": {
     "grade": false,
     "grade_id": "cell-0abc940d338644a4",
     "locked": true,
     "schema_version": 3,
     "solution": false,
     "task": false
    }
   },
   "source": [
    "### Triad closure\n",
    "\n",
    "A triad is a triple $\\{ i,j,k \\} \\subset V$ of nodes and its **induced subgraph**, i.e. all edges $\\{ a,b \\}$ such that $a,b \\in \\{i,j,k \\}$. A triad is *closed* if it forms a *triangle*, that is, if the induced subgraph is a complete graph. If  $V_{ijk}=\\{ i,j,k \\}$ is a closed triad, then $x_{ij}x_{ik}x_{jk}=1$ and $\\sum_{ab \\in{  V_{ijk} \\choose 2}}x_{ab}=3$. For example"
   ]
  },
  {
   "cell_type": "code",
   "execution_count": 23,
   "id": "a4739d43",
   "metadata": {},
   "outputs": [
    {
     "data": {
      "text/html": [
       "3"
      ],
      "text/latex": [
       "3"
      ],
      "text/markdown": [
       "3"
      ],
      "text/plain": [
       "[1] 3"
      ]
     },
     "metadata": {},
     "output_type": "display_data"
    },
    {
     "data": {
      "text/html": [
       "1"
      ],
      "text/latex": [
       "1"
      ],
      "text/markdown": [
       "1"
      ],
      "text/plain": [
       "[1] 1"
      ]
     },
     "metadata": {},
     "output_type": "display_data"
    },
    {
     "data": {
      "image/png": "[encoded data removed]",
      "text/plain": [
       "plot without title"
      ]
     },
     "metadata": {
      "image/png": {
       "height": 420,
       "width": 420
      }
     },
     "output_type": "display_data"
    }
   ],
   "source": [
    "node.set <- c(1,2,3)\n",
    "gplot(X[node.set,node.set],gmode='graph',label=node.set)\n",
    "sum(X[node.set,node.set])/2\n",
    "X[1,2]*X[1,3]*X[2,3]"
   ]
  },
  {
   "cell_type": "markdown",
   "id": "26abac5b",
   "metadata": {
    "nbgrader": {
     "grade": false,
     "grade_id": "cell-7a27081ecf4c95ac",
     "locked": true,
     "schema_version": 3,
     "solution": false,
     "task": false
    }
   },
   "source": [
    "is a closed triad and "
   ]
  },
  {
   "cell_type": "code",
   "execution_count": 24,
   "id": "f84af54a",
   "metadata": {},
   "outputs": [
    {
     "data": {
      "text/html": [
       "2"
      ],
      "text/latex": [
       "2"
      ],
      "text/markdown": [
       "2"
      ],
      "text/plain": [
       "[1] 2"
      ]
     },
     "metadata": {},
     "output_type": "display_data"
    },
    {
     "data": {
      "text/html": [
       "0"
      ],
      "text/latex": [
       "0"
      ],
      "text/markdown": [
       "0"
      ],
      "text/plain": [
       "[1] 0"
      ]
     },
     "metadata": {},
     "output_type": "display_data"
    },
    {
     "data": {
      "image/png": "[encoded data removed]",
      "text/plain": [
       "plot without title"
      ]
     },
     "metadata": {
      "image/png": {
       "height": 420,
       "width": 420
      }
     },
     "output_type": "display_data"
    }
   ],
   "source": [
    "node.set <- c(1,3,4)\n",
    "gplot(X[node.set,node.set],gmode='graph',label=node.set)\n",
    "sum(X[node.set,node.set])/2\n",
    "X[1,2]*X[1,5]*X[2,5]"
   ]
  },
  {
   "cell_type": "markdown",
   "id": "acfbafb1",
   "metadata": {
    "nbgrader": {
     "grade": false,
     "grade_id": "cell-d40e17e44bdacf9b",
     "locked": true,
     "schema_version": 3,
     "solution": false,
     "task": false
    }
   },
   "source": [
    "is not, it is an *open triad*.\n",
    "\n",
    "We can tally how many occurences there are of each type of triad. Calculate the triad census: also, how many triads in total? express in terms of n"
   ]
  },
  {
   "cell_type": "code",
   "execution_count": 25,
   "id": "c8993912",
   "metadata": {},
   "outputs": [
    {
     "data": {
      "text/html": [
       "<table class=\"dataframe\">\n",
       "<caption>A matrix: 1 × 4 of type dbl</caption>\n",
       "<thead>\n",
       "\t<tr><th scope=col>0</th><th scope=col>1</th><th scope=col>2</th><th scope=col>3</th></tr>\n",
       "</thead>\n",
       "<tbody>\n",
       "\t<tr><td>0</td><td>6</td><td>3</td><td>1</td></tr>\n",
       "</tbody>\n",
       "</table>\n"
      ],
      "text/latex": [
       "A matrix: 1 × 4 of type dbl\n",
       "\\begin{tabular}{llll}\n",
       " 0 & 1 & 2 & 3\\\\\n",
       "\\hline\n",
       "\t 0 & 6 & 3 & 1\\\\\n",
       "\\end{tabular}\n"
      ],
      "text/markdown": [
       "\n",
       "A matrix: 1 × 4 of type dbl\n",
       "\n",
       "| 0 | 1 | 2 | 3 |\n",
       "|---|---|---|---|\n",
       "| 0 | 6 | 3 | 1 |\n",
       "\n"
      ],
      "text/plain": [
       "     0 1 2 3\n",
       "[1,] 0 6 3 1"
      ]
     },
     "metadata": {},
     "output_type": "display_data"
    }
   ],
   "source": [
    "triad.census( X , mode = \"graph\")"
   ]
  },
  {
   "cell_type": "markdown",
   "id": "8ebd8756",
   "metadata": {
    "nbgrader": {
     "grade": false,
     "grade_id": "cell-02f9ce45da25de70",
     "locked": true,
     "schema_version": 3,
     "solution": false,
     "task": false
    }
   },
   "source": [
    "#### Question 10\n",
    "\n",
    "What does the label numbers correspond to?"
   ]
  },
  {
   "cell_type": "markdown",
   "id": "d6a16ada",
   "metadata": {
    "nbgrader": {
     "grade": true,
     "grade_id": "cell-caf14e7c6f0d9e6f",
     "locked": false,
     "points": 0,
     "schema_version": 3,
     "solution": true,
     "task": false
    }
   },
   "source": [
    "> The number indices the triads by how many edges their subgraphs have"
   ]
  },
  {
   "cell_type": "markdown",
   "id": "46e14eea",
   "metadata": {
    "nbgrader": {
     "grade": false,
     "grade_id": "cell-4b26a75d8906aedb",
     "locked": true,
     "schema_version": 3,
     "solution": false,
     "task": false
    }
   },
   "source": [
    "#### Optional: Question 11 \n",
    "\n",
    "How many triads are there in the graph - answer in terms of $n$?"
   ]
  },
  {
   "cell_type": "markdown",
   "id": "2b60a419",
   "metadata": {
    "nbgrader": {
     "grade": true,
     "grade_id": "cell-f7e01632e863f012",
     "locked": false,
     "points": 0,
     "schema_version": 3,
     "solution": true,
     "task": false
    }
   },
   "source": [
    "> You can choose the first node in $n$ ways, the second in $n-1$ ways, and the last one in $n-2$ ways. These can be ordered in $3 \\times 2 \\times 1$ ways. Hence the answer is $n(n-1)(n-2)/(3\\times 2 \\times 1)= {n \\choose 3}$"
   ]
  },
  {
   "cell_type": "markdown",
   "id": "e3bf19eb",
   "metadata": {
    "nbgrader": {
     "grade": false,
     "grade_id": "cell-a150757a086f9660",
     "locked": true,
     "schema_version": 3,
     "solution": false,
     "task": false
    }
   },
   "source": [
    "Check your calculation on $X$ by comparing the sum of the triad cencus with your formula"
   ]
  },
  {
   "cell_type": "code",
   "execution_count": 27,
   "id": "88b311d0",
   "metadata": {
    "nbgrader": {
     "grade": false,
     "grade_id": "cell-ab0faa2b08188b6a",
     "locked": false,
     "schema_version": 3,
     "solution": true,
     "task": false
    }
   },
   "outputs": [
    {
     "data": {
      "text/html": [
       "10"
      ],
      "text/latex": [
       "10"
      ],
      "text/markdown": [
       "10"
      ],
      "text/plain": [
       "[1] 10"
      ]
     },
     "metadata": {},
     "output_type": "display_data"
    },
    {
     "data": {
      "text/html": [
       "10"
      ],
      "text/latex": [
       "10"
      ],
      "text/markdown": [
       "10"
      ],
      "text/plain": [
       "[1] 10"
      ]
     },
     "metadata": {},
     "output_type": "display_data"
    }
   ],
   "source": [
    "sum(triad.census( X , mode = \"graph\"))\n",
    "# YOUR CODE HERE - use n and treat R like a caluclator\n",
    "### BEGIN SOLUTION\n",
    "n*(n-1)*(n-2)/(3*2)\n",
    "### END SOLUTION\n"
   ]
  },
  {
   "cell_type": "markdown",
   "id": "1411e42b",
   "metadata": {
    "nbgrader": {
     "grade": false,
     "grade_id": "cell-045311a3898e531b",
     "locked": true,
     "schema_version": 3,
     "solution": false,
     "task": false
    }
   },
   "source": [
    "### Clustering coefficient\n",
    "\n",
    "The ratio of the number of closed triads to the number of open triads is of particular interest. The clustering coefficient is defined as \n",
    "$$\n",
    "\\frac{3T_3}{3T_3+T_2},\n",
    "$$\n",
    "where $T_3$ is the number of closed triads and $T_2$ is the number of open triads.\n",
    "\n",
    "\n",
    "#### Question 12 Optional?\n",
    "\n",
    "Calculate the clustering coefficient manually and compare it to the answer from gtrans"
   ]
  },
  {
   "cell_type": "code",
   "execution_count": 28,
   "id": "2d76972f",
   "metadata": {
    "nbgrader": {
     "grade": false,
     "grade_id": "cell-0bc2dc37b7cd1d40",
     "locked": false,
     "schema_version": 3,
     "solution": true,
     "task": false
    }
   },
   "outputs": [
    {
     "data": {
      "text/html": [
       "0.5"
      ],
      "text/latex": [
       "0.5"
      ],
      "text/markdown": [
       "0.5"
      ],
      "text/plain": [
       "[1] 0.5"
      ]
     },
     "metadata": {},
     "output_type": "display_data"
    },
    {
     "data": {
      "text/html": [
       "0.5"
      ],
      "text/latex": [
       "0.5"
      ],
      "text/markdown": [
       "0.5"
      ],
      "text/plain": [
       "[1] 0.5"
      ]
     },
     "metadata": {},
     "output_type": "display_data"
    }
   ],
   "source": [
    "gtrans(X)\n",
    "### BEGIN SOLUTION\n",
    "T_3 <- triad.census( X , mode = \"graph\")[4]\n",
    "T_2 <- triad.census( X , mode = \"graph\")[3]\n",
    "3*T_3/(3*T_3 + T_2)\n",
    "### END SOLUTION"
   ]
  },
  {
   "cell_type": "markdown",
   "id": "955a3d01",
   "metadata": {
    "nbgrader": {
     "grade": false,
     "grade_id": "cell-04205f81fb6f8413",
     "locked": true,
     "points": 0,
     "schema_version": 3,
     "solution": false,
     "task": true
    }
   },
   "source": [
    "What is the propotion of closed triangles to open triads?\n",
    "\n",
    "=== BEGIN MARK SCHEME ===\n",
    "\n",
    "0.5\n",
    "\n",
    "=== END MARK SCHEME ==="
   ]
  },
  {
   "cell_type": "markdown",
   "id": "ce5a30b9",
   "metadata": {
    "nbgrader": {
     "grade": false,
     "grade_id": "cell-fbe9cb6bdfcee265",
     "locked": true,
     "schema_version": 3,
     "solution": false,
     "task": false
    }
   },
   "source": [
    "### Optional: Cliques\n",
    "\n",
    "A closed triad is a clique of size 3, or a 3-clique. List the cliques in the graph using clique.census"
   ]
  },
  {
   "cell_type": "code",
   "execution_count": 30,
   "id": "3e6b0184",
   "metadata": {},
   "outputs": [
    {
     "data": {
      "text/html": [
       "<ol>\n",
       "\t<li>NULL</li>\n",
       "\t<li><ol>\n",
       "\t<li><style>\n",
       ".list-inline {list-style: none; margin:0; padding: 0}\n",
       ".list-inline>li {display: inline-block}\n",
       ".list-inline>li:not(:last-child)::after {content: \"\\00b7\"; padding: 0 .5ex}\n",
       "</style>\n",
       "<ol class=list-inline><li>4</li><li>5</li></ol>\n",
       "</li>\n",
       "\t<li><style>\n",
       ".list-inline {list-style: none; margin:0; padding: 0}\n",
       ".list-inline>li {display: inline-block}\n",
       ".list-inline>li:not(:last-child)::after {content: \"\\00b7\"; padding: 0 .5ex}\n",
       "</style>\n",
       "<ol class=list-inline><li>3</li><li>4</li></ol>\n",
       "</li>\n",
       "</ol>\n",
       "</li>\n",
       "\t<li><ol>\n",
       "\t<li><style>\n",
       ".list-inline {list-style: none; margin:0; padding: 0}\n",
       ".list-inline>li {display: inline-block}\n",
       ".list-inline>li:not(:last-child)::after {content: \"\\00b7\"; padding: 0 .5ex}\n",
       "</style>\n",
       "<ol class=list-inline><li>1</li><li>2</li><li>3</li></ol>\n",
       "</li>\n",
       "</ol>\n",
       "</li>\n",
       "</ol>\n"
      ],
      "text/latex": [
       "\\begin{enumerate}\n",
       "\\item NULL\n",
       "\\item \\begin{enumerate}\n",
       "\\item \\begin{enumerate*}\n",
       "\\item 4\n",
       "\\item 5\n",
       "\\end{enumerate*}\n",
       "\n",
       "\\item \\begin{enumerate*}\n",
       "\\item 3\n",
       "\\item 4\n",
       "\\end{enumerate*}\n",
       "\n",
       "\\end{enumerate}\n",
       "\n",
       "\\item \\begin{enumerate}\n",
       "\\item \\begin{enumerate*}\n",
       "\\item 1\n",
       "\\item 2\n",
       "\\item 3\n",
       "\\end{enumerate*}\n",
       "\n",
       "\\end{enumerate}\n",
       "\n",
       "\\end{enumerate}\n"
      ],
      "text/markdown": [
       "1. NULL\n",
       "2. 1. 1. 4\n",
       "2. 5\n",
       "\n",
       "\n",
       "\n",
       "2. 1. 3\n",
       "2. 4\n",
       "\n",
       "\n",
       "\n",
       "\n",
       "\n",
       "\n",
       "3. 1. 1. 1\n",
       "2. 2\n",
       "3. 3\n",
       "\n",
       "\n",
       "\n",
       "\n",
       "\n",
       "\n",
       "\n",
       "\n"
      ],
      "text/plain": [
       "[[1]]\n",
       "NULL\n",
       "\n",
       "[[2]]\n",
       "[[2]][[1]]\n",
       "[1] 4 5\n",
       "\n",
       "[[2]][[2]]\n",
       "[1] 3 4\n",
       "\n",
       "\n",
       "[[3]]\n",
       "[[3]][[1]]\n",
       "[1] 1 2 3\n",
       "\n"
      ]
     },
     "metadata": {},
     "output_type": "display_data"
    }
   ],
   "source": [
    "cc <- clique.census( X , mode = \"graph\")\n",
    "cc$cliques"
   ]
  },
  {
   "cell_type": "markdown",
   "id": "28fef404",
   "metadata": {
    "nbgrader": {
     "grade": false,
     "grade_id": "cell-217b1dd9390b0508",
     "locked": true,
     "schema_version": 3,
     "solution": false,
     "task": false
    }
   },
   "source": [
    "#### Optional Question 13\n",
    "This clique census only lists maximal cliques - why? What two cliques are node 3 a member of?"
   ]
  },
  {
   "cell_type": "markdown",
   "id": "b28825f8",
   "metadata": {
    "nbgrader": {
     "grade": true,
     "grade_id": "cell-c13bbfb2b7e11edb",
     "locked": false,
     "points": 0,
     "schema_version": 3,
     "solution": true,
     "task": false
    }
   },
   "source": [
    "Because there are redundancies in cliques if a nodes belong in a subset of the maximal clique (e.g., belonging to clique $\\{1,2,3\\}$ would imply belonging to clique $\\{1,2\\}$).\n",
    "\n",
    "Node 3 is a member of cliques $\\{3,4\\}$ and $\\{1,2,3\\}$"
   ]
  },
  {
   "cell_type": "markdown",
   "id": "71d6abe8",
   "metadata": {
    "nbgrader": {
     "grade": false,
     "grade_id": "cell-2a8663d74c0256fd",
     "locked": true,
     "schema_version": 3,
     "solution": false,
     "task": false
    }
   },
   "source": [
    "## Global measures\n",
    "\n",
    "### Centralisation\n",
    "\n",
    "To summarise how dispersed the degrees are, centralization is defined as\n",
    "$$\n",
    "C(X) = \\sum_{i=1}^n \\mid  d_{max}-d_i \\mid\n",
    "$$\n",
    "where\n",
    "$$\n",
    "d_{max}=\\max_{i \\in V}(d_i)\n",
    "$$\n",
    "is the maximum degree. Consequently, this measures the sum of absolute deviations from the maximum degree. This can also be normalised to act more like a variance or standard deviation (see help function). \n",
    "\n",
    "#### Optional: Question 14\n",
    "\n",
    "Calculate the centralisation of $X$ manually and compare to the `centralization` function"
   ]
  },
  {
   "cell_type": "code",
   "execution_count": 32,
   "id": "eb70ef60",
   "metadata": {
    "nbgrader": {
     "grade": true,
     "grade_id": "cell-12c41eea89b2e998",
     "locked": false,
     "points": 0,
     "schema_version": 3,
     "solution": true,
     "task": false
    }
   },
   "outputs": [
    {
     "data": {
      "text/html": [
       "5"
      ],
      "text/latex": [
       "5"
      ],
      "text/markdown": [
       "5"
      ],
      "text/plain": [
       "[1] 5"
      ]
     },
     "metadata": {},
     "output_type": "display_data"
    },
    {
     "data": {
      "text/html": [
       "5"
      ],
      "text/latex": [
       "5"
      ],
      "text/markdown": [
       "5"
      ],
      "text/plain": [
       "[1] 5"
      ]
     },
     "metadata": {},
     "output_type": "display_data"
    }
   ],
   "source": [
    "centralization(X,degree,normalize=FALSE, mode='graph')\n",
    "### BEGIN SOLUTION\n",
    "sum( abs( max (rowSums(X)) -rowSums(X) ) )\n",
    "### END SOLUTION\n"
   ]
  },
  {
   "cell_type": "markdown",
   "id": "9f40a87e",
   "metadata": {
    "nbgrader": {
     "grade": false,
     "grade_id": "cell-c560ea3fc33b4642",
     "locked": true,
     "schema_version": 3,
     "solution": false,
     "task": false
    }
   },
   "source": [
    "### Distance\n",
    "\n",
    "For Question 8 you calculated how many geodesic paths a node was on. For the entire graph, we can also calculate the geodesic distribution of all pairs of dyads.\n"
   ]
  },
  {
   "cell_type": "code",
   "execution_count": 33,
   "id": "b128388a",
   "metadata": {},
   "outputs": [
    {
     "data": {
      "text/html": [
       "<table class=\"dataframe\">\n",
       "<caption>A matrix: 5 × 5 of type dbl</caption>\n",
       "<tbody>\n",
       "\t<tr><td>0</td><td>1</td><td>1</td><td>2</td><td>3</td></tr>\n",
       "\t<tr><td>1</td><td>0</td><td>1</td><td>2</td><td>3</td></tr>\n",
       "\t<tr><td>1</td><td>1</td><td>0</td><td>1</td><td>2</td></tr>\n",
       "\t<tr><td>2</td><td>2</td><td>1</td><td>0</td><td>1</td></tr>\n",
       "\t<tr><td>3</td><td>3</td><td>2</td><td>1</td><td>0</td></tr>\n",
       "</tbody>\n",
       "</table>\n"
      ],
      "text/latex": [
       "A matrix: 5 × 5 of type dbl\n",
       "\\begin{tabular}{lllll}\n",
       "\t 0 & 1 & 1 & 2 & 3\\\\\n",
       "\t 1 & 0 & 1 & 2 & 3\\\\\n",
       "\t 1 & 1 & 0 & 1 & 2\\\\\n",
       "\t 2 & 2 & 1 & 0 & 1\\\\\n",
       "\t 3 & 3 & 2 & 1 & 0\\\\\n",
       "\\end{tabular}\n"
      ],
      "text/markdown": [
       "\n",
       "A matrix: 5 × 5 of type dbl\n",
       "\n",
       "| 0 | 1 | 1 | 2 | 3 |\n",
       "| 1 | 0 | 1 | 2 | 3 |\n",
       "| 1 | 1 | 0 | 1 | 2 |\n",
       "| 2 | 2 | 1 | 0 | 1 |\n",
       "| 3 | 3 | 2 | 1 | 0 |\n",
       "\n"
      ],
      "text/plain": [
       "     [,1] [,2] [,3] [,4] [,5]\n",
       "[1,] 0    1    1    2    3   \n",
       "[2,] 1    0    1    2    3   \n",
       "[3,] 1    1    0    1    2   \n",
       "[4,] 2    2    1    0    1   \n",
       "[5,] 3    3    2    1    0   "
      ]
     },
     "metadata": {},
     "output_type": "display_data"
    }
   ],
   "source": [
    "gd<-geodist(X)\n",
    "gd$gdist"
   ]
  },
  {
   "cell_type": "markdown",
   "id": "f5c6f669",
   "metadata": {
    "nbgrader": {
     "grade": false,
     "grade_id": "cell-c2c9f1879e94a859",
     "locked": true,
     "schema_version": 3,
     "solution": false,
     "task": false
    }
   },
   "source": [
    "The **diameter** of a graph is *length of the shortest path* between any two vertices.\n",
    "\n",
    "#### Question 15\n",
    "\n",
    "What is the diameter of the toy graph?"
   ]
  },
  {
   "cell_type": "markdown",
   "id": "1904179b",
   "metadata": {
    "nbgrader": {
     "grade": true,
     "grade_id": "cell-702acaf17b6a5682",
     "locked": false,
     "points": 0,
     "schema_version": 3,
     "solution": true,
     "task": false
    }
   },
   "source": [
    "The diameter is 3 since the greatest distance is that between 1 and 5 and 2 and 5, which is 3 for both."
   ]
  },
  {
   "cell_type": "markdown",
   "id": "f4dac77b",
   "metadata": {
    "nbgrader": {
     "grade": false,
     "grade_id": "cell-5d313f1516075da0",
     "locked": true,
     "schema_version": 3,
     "solution": false,
     "task": false
    }
   },
   "source": [
    "### Optional: Calculating distance\n",
    "\n",
    "Using linear algegra, if $x_{ij}$ in $X$ tell you if $i$ and $j$ are directly connected, element $(XX)_{i,j}$ of the matrix product $XX$, tells you how many paths $i \\rightarrow k \\rightarrow j$ there are"
   ]
  },
  {
   "cell_type": "code",
   "execution_count": 34,
   "id": "742dc831",
   "metadata": {},
   "outputs": [
    {
     "data": {
      "text/html": [
       "<table class=\"dataframe\">\n",
       "<caption>A matrix: 5 × 5 of type dbl</caption>\n",
       "<tbody>\n",
       "\t<tr><td>2</td><td>1</td><td>1</td><td>1</td><td>0</td></tr>\n",
       "\t<tr><td>1</td><td>2</td><td>1</td><td>1</td><td>0</td></tr>\n",
       "\t<tr><td>1</td><td>1</td><td>3</td><td>0</td><td>1</td></tr>\n",
       "\t<tr><td>1</td><td>1</td><td>0</td><td>2</td><td>0</td></tr>\n",
       "\t<tr><td>0</td><td>0</td><td>1</td><td>0</td><td>1</td></tr>\n",
       "</tbody>\n",
       "</table>\n"
      ],
      "text/latex": [
       "A matrix: 5 × 5 of type dbl\n",
       "\\begin{tabular}{lllll}\n",
       "\t 2 & 1 & 1 & 1 & 0\\\\\n",
       "\t 1 & 2 & 1 & 1 & 0\\\\\n",
       "\t 1 & 1 & 3 & 0 & 1\\\\\n",
       "\t 1 & 1 & 0 & 2 & 0\\\\\n",
       "\t 0 & 0 & 1 & 0 & 1\\\\\n",
       "\\end{tabular}\n"
      ],
      "text/markdown": [
       "\n",
       "A matrix: 5 × 5 of type dbl\n",
       "\n",
       "| 2 | 1 | 1 | 1 | 0 |\n",
       "| 1 | 2 | 1 | 1 | 0 |\n",
       "| 1 | 1 | 3 | 0 | 1 |\n",
       "| 1 | 1 | 0 | 2 | 0 |\n",
       "| 0 | 0 | 1 | 0 | 1 |\n",
       "\n"
      ],
      "text/plain": [
       "     [,1] [,2] [,3] [,4] [,5]\n",
       "[1,] 2    1    1    1    0   \n",
       "[2,] 1    2    1    1    0   \n",
       "[3,] 1    1    3    0    1   \n",
       "[4,] 1    1    0    2    0   \n",
       "[5,] 0    0    1    0    1   "
      ]
     },
     "metadata": {},
     "output_type": "display_data"
    }
   ],
   "source": [
    "X %*% X"
   ]
  },
  {
   "cell_type": "markdown",
   "id": "5a3577fa",
   "metadata": {
    "nbgrader": {
     "grade": false,
     "grade_id": "cell-f124d5de51ce70db",
     "locked": true,
     "schema_version": 3,
     "solution": false,
     "task": false
    }
   },
   "source": [
    "Element $(XXX)_{i,j}$ of the matrix product $XXX$, tells you how many paths $i \\rightarrow k \\rightarrow h \\rightarrow j$ there are"
   ]
  },
  {
   "cell_type": "code",
   "execution_count": 35,
   "id": "55dd8c99",
   "metadata": {},
   "outputs": [
    {
     "data": {
      "text/html": [
       "<table class=\"dataframe\">\n",
       "<caption>A matrix: 5 × 5 of type dbl</caption>\n",
       "<tbody>\n",
       "\t<tr><td>2</td><td>3</td><td>4</td><td>1</td><td>1</td></tr>\n",
       "\t<tr><td>3</td><td>2</td><td>4</td><td>1</td><td>1</td></tr>\n",
       "\t<tr><td>4</td><td>4</td><td>2</td><td>4</td><td>0</td></tr>\n",
       "\t<tr><td>1</td><td>1</td><td>4</td><td>0</td><td>2</td></tr>\n",
       "\t<tr><td>1</td><td>1</td><td>0</td><td>2</td><td>0</td></tr>\n",
       "</tbody>\n",
       "</table>\n"
      ],
      "text/latex": [
       "A matrix: 5 × 5 of type dbl\n",
       "\\begin{tabular}{lllll}\n",
       "\t 2 & 3 & 4 & 1 & 1\\\\\n",
       "\t 3 & 2 & 4 & 1 & 1\\\\\n",
       "\t 4 & 4 & 2 & 4 & 0\\\\\n",
       "\t 1 & 1 & 4 & 0 & 2\\\\\n",
       "\t 1 & 1 & 0 & 2 & 0\\\\\n",
       "\\end{tabular}\n"
      ],
      "text/markdown": [
       "\n",
       "A matrix: 5 × 5 of type dbl\n",
       "\n",
       "| 2 | 3 | 4 | 1 | 1 |\n",
       "| 3 | 2 | 4 | 1 | 1 |\n",
       "| 4 | 4 | 2 | 4 | 0 |\n",
       "| 1 | 1 | 4 | 0 | 2 |\n",
       "| 1 | 1 | 0 | 2 | 0 |\n",
       "\n"
      ],
      "text/plain": [
       "     [,1] [,2] [,3] [,4] [,5]\n",
       "[1,] 2    3    4    1    1   \n",
       "[2,] 3    2    4    1    1   \n",
       "[3,] 4    4    2    4    0   \n",
       "[4,] 1    1    4    0    2   \n",
       "[5,] 1    1    0    2    0   "
      ]
     },
     "metadata": {},
     "output_type": "display_data"
    }
   ],
   "source": [
    "X %*% X %*% X"
   ]
  },
  {
   "cell_type": "markdown",
   "id": "0ac5ce27",
   "metadata": {},
   "source": [
    "#### Question 16 Optional\n",
    "Comparing the geodesic distances with $XX$, we see that the distance between 2 and 5 is 3 and indeed there are zero paths of length 2 in $XX$ and 1 path of length three in $XXX$ but why is $(XXX)_{3,5}$ zero?"
   ]
  },
  {
   "cell_type": "markdown",
   "id": "0d8fff2a",
   "metadata": {
    "nbgrader": {
     "grade": true,
     "grade_id": "cell-6124e041dd9cf2b6",
     "locked": false,
     "points": 0,
     "schema_version": 3,
     "solution": true,
     "task": false
    }
   },
   "source": [
    "> 3 and 5 are indirectly connected through 4 and thus every walk must be even"
   ]
  },
  {
   "cell_type": "markdown",
   "id": "447ff6b7",
   "metadata": {
    "nbgrader": {
     "grade": false,
     "grade_id": "cell-a8aa8b0136b2a509",
     "locked": true,
     "schema_version": 3,
     "solution": false,
     "task": false
    }
   },
   "source": [
    "NB: A path is the special case of a walk, as all vertices are distinct in a path"
   ]
  },
  {
   "cell_type": "markdown",
   "id": "6aed1748",
   "metadata": {
    "nbgrader": {
     "grade": false,
     "grade_id": "cell-452eb68b3de4684d",
     "locked": true,
     "schema_version": 3,
     "solution": false,
     "task": false
    }
   },
   "source": [
    "# Empirical networks\n",
    "Throughout this module we will be applying network analysis to a suit of real life networks. In this section we will pick two networks and analysing them using some of the metrics above.\n",
    "\n",
    "## Load data\n",
    "\n",
    "### Red Highland tribes\n",
    "A classic training data set, originally collected by Read (1954), is that of $n=16$ tribes of the Gahuku–Gama alliance structure of the Eastern Central Highlands of New Guinea and their positive and negative ties  (Hage and Harary 1983)."
   ]
  },
  {
   "cell_type": "code",
   "execution_count": 37,
   "id": "2e40f7fb",
   "metadata": {},
   "outputs": [],
   "source": [
    "temp <- tempfile()\n",
    "download.file(\"https://raw.githubusercontent.com/johankoskinen/BayesERGM/main/data/RedHighlandTribes.txt\",temp)\n",
    "tribes.all <- read.table(temp)# this two adjacency matrices stacked ontop of each other in a text file\n",
    "unlink(temp)\n",
    "tribesPos <- tribes.all[1:16,]# the first 16 lines are the positive ties"
   ]
  },
  {
   "cell_type": "markdown",
   "id": "1eabc691",
   "metadata": {
    "nbgrader": {
     "grade": false,
     "grade_id": "cell-e0c156f7b0ce7665",
     "locked": true,
     "schema_version": 3,
     "solution": false,
     "task": false
    }
   },
   "source": [
    "### Bank wiring room\n",
    "Coming out of an extensive study by Mayo, Roethlisberger, and Dickson (1939), this dataset maps the ineractions among $n=14$ emplyoyes The interaction categories include: RDGAM, participation in horseplay; RDCON, participation in arguments about open windows; RDPOS, friendship; RDNEG, antagonistic (negative) behavior; RDHLP, helping others with work; and RDJOB, the number of times workers traded job assignments.\n"
   ]
  },
  {
   "cell_type": "code",
   "execution_count": 38,
   "id": "4f4348e0",
   "metadata": {},
   "outputs": [],
   "source": [
    "temp <- tempfile()\n",
    "download.file(\"https://raw.githubusercontent.com/johankoskinen/BayesERGM/main/data/bankwiring.txt\",temp)\n",
    "wiring <- read.table(temp)# this four adjacency matrices stacked ontop of each other in a text file\n",
    "unlink(temp)\n",
    "RDPOS <- wiring[(2*14+1):(3*14),]# RDPOS symmetric, binary,  friendship"
   ]
  },
  {
   "cell_type": "markdown",
   "id": "482860d4",
   "metadata": {
    "nbgrader": {
     "grade": false,
     "grade_id": "cell-79f881290209c4f5",
     "locked": true,
     "schema_version": 3,
     "solution": false,
     "task": false
    }
   },
   "source": [
    "Plot the networks"
   ]
  },
  {
   "cell_type": "code",
   "execution_count": 39,
   "id": "559f62ee",
   "metadata": {
    "nbgrader": {
     "grade": false,
     "grade_id": "cell-fe805497c034a1dd",
     "locked": false,
     "schema_version": 3,
     "solution": true,
     "task": false
    }
   },
   "outputs": [
    {
     "data": {
      "image/png": "[encoded data removed]",
      "text/plain": [
       "plot without title"
      ]
     },
     "metadata": {
      "image/png": {
       "height": 420,
       "width": 420
      }
     },
     "output_type": "display_data"
    }
   ],
   "source": [
    "par(mfrow=c(1,2))\n",
    "### BEGIN SOLUTION\n",
    "gplot( tribesPos, gmode = 'graph' )\n",
    "gplot( RDPOS, gmode = 'graph' )\n",
    "\n",
    "### END SOLUTION"
   ]
  },
  {
   "cell_type": "markdown",
   "id": "03fc71b5",
   "metadata": {
    "nbgrader": {
     "grade": false,
     "grade_id": "cell-959a05251faed12d",
     "locked": true,
     "schema_version": 3,
     "solution": false,
     "task": false
    }
   },
   "source": [
    "#### Question 17\n",
    "\n",
    "Calculate the density of the networks."
   ]
  },
  {
   "cell_type": "code",
   "execution_count": 40,
   "id": "02fa9d6a",
   "metadata": {
    "nbgrader": {
     "grade": false,
     "grade_id": "cell-1cd7e493f8b68a1c",
     "locked": false,
     "schema_version": 3,
     "solution": true,
     "task": false
    }
   },
   "outputs": [
    {
     "data": {
      "text/html": [
       "0.241666666666667"
      ],
      "text/latex": [
       "0.241666666666667"
      ],
      "text/markdown": [
       "0.241666666666667"
      ],
      "text/plain": [
       "[1] 0.2416667"
      ]
     },
     "metadata": {},
     "output_type": "display_data"
    },
    {
     "data": {
      "text/html": [
       "0.142857142857143"
      ],
      "text/latex": [
       "0.142857142857143"
      ],
      "text/markdown": [
       "0.142857142857143"
      ],
      "text/plain": [
       "[1] 0.1428571"
      ]
     },
     "metadata": {},
     "output_type": "display_data"
    },
    {
     "data": {
      "text/html": [
       "0.241666666666667"
      ],
      "text/latex": [
       "0.241666666666667"
      ],
      "text/markdown": [
       "0.241666666666667"
      ],
      "text/plain": [
       "[1] 0.2416667"
      ]
     },
     "metadata": {},
     "output_type": "display_data"
    },
    {
     "data": {
      "text/html": [
       "0.142857142857143"
      ],
      "text/latex": [
       "0.142857142857143"
      ],
      "text/markdown": [
       "0.142857142857143"
      ],
      "text/plain": [
       "[1] 0.1428571"
      ]
     },
     "metadata": {},
     "output_type": "display_data"
    }
   ],
   "source": [
    "### BEGIN SOLUTION\n",
    "sum(tribesPos )/(16*15)\n",
    "sum( RDPOS )/(14*13)\n",
    "# you can also use the gden function\n",
    "gden(tribesPos )\n",
    "gden(RDPOS )\n",
    "### END SOLUTION"
   ]
  },
  {
   "cell_type": "markdown",
   "id": "cc41b20c",
   "metadata": {
    "nbgrader": {
     "grade": false,
     "grade_id": "cell-b5be77523b021610",
     "locked": true,
     "points": 0,
     "schema_version": 3,
     "solution": false,
     "task": true
    }
   },
   "source": [
    "Which network is the more dense?"
   ]
  },
  {
   "cell_type": "markdown",
   "id": "7c1cbdca",
   "metadata": {
    "nbgrader": {
     "grade": true,
     "grade_id": "cell-6d8d8123b77c0592",
     "locked": false,
     "points": 0,
     "schema_version": 3,
     "solution": true,
     "task": false
    }
   },
   "source": [
    "> The Red Highland Tribe"
   ]
  },
  {
   "cell_type": "markdown",
   "id": "91518be7",
   "metadata": {},
   "source": [
    "Plot the degree distribution of the Red highland tribes and the Bank wiring room."
   ]
  },
  {
   "cell_type": "code",
   "execution_count": 1,
   "id": "d0d45971",
   "metadata": {
    "nbgrader": {
     "grade": false,
     "grade_id": "cell-94e575496c5f2659",
     "locked": false,
     "schema_version": 3,
     "solution": true,
     "task": false
    }
   },
   "outputs": [
    {
     "ename": "ERROR",
     "evalue": "Error in degree(tribesPos, gmode = \"graph\"): could not find function \"degree\"\n",
     "output_type": "error",
     "traceback": [
      "Error in degree(tribesPos, gmode = \"graph\"): could not find function \"degree\"\nTraceback:\n",
      "1. plot(table(degree(tribesPos, gmode = \"graph\")), ylab = \"f\")",
      "2. table(degree(tribesPos, gmode = \"graph\"))"
     ]
    }
   ],
   "source": [
    "### BEGIN SOLUTION\n",
    "par(mfrow=c(2,1))\n",
    "plot( table( degree( tribesPos, gmode='graph') ) , ylab='f')\n",
    "plot( table( degree( RDPOS, gmode='graph') ) , ylab='f')\n",
    "### END SOLUTION"
   ]
  },
  {
   "cell_type": "markdown",
   "id": "975eed2a",
   "metadata": {
    "nbgrader": {
     "grade": false,
     "grade_id": "cell-2b7751682b35f0bb",
     "locked": true,
     "schema_version": 3,
     "solution": false,
     "task": false
    }
   },
   "source": [
    "Can you say, qualitatively, which network has the most evenly distributed degree distribution?\n",
    "\n",
    "Calculate the centralization index **but** normalise the measure so that you can compare the relative centralisation of the networks"
   ]
  },
  {
   "cell_type": "code",
   "execution_count": 43,
   "id": "6d95fde1",
   "metadata": {
    "nbgrader": {
     "grade": false,
     "grade_id": "cell-9dc57d200acd25bd",
     "locked": false,
     "schema_version": 3,
     "solution": true,
     "task": false
    }
   },
   "outputs": [
    {
     "data": {
      "text/html": [
       "0.257142857142857"
      ],
      "text/latex": [
       "0.257142857142857"
      ],
      "text/markdown": [
       "0.257142857142857"
      ],
      "text/plain": [
       "[1] 0.2571429"
      ]
     },
     "metadata": {},
     "output_type": "display_data"
    },
    {
     "data": {
      "text/html": [
       "0.192307692307692"
      ],
      "text/latex": [
       "0.192307692307692"
      ],
      "text/markdown": [
       "0.192307692307692"
      ],
      "text/plain": [
       "[1] 0.1923077"
      ]
     },
     "metadata": {},
     "output_type": "display_data"
    }
   ],
   "source": [
    "### BEGIN SOLUTION\n",
    "centralization(tribesPos,degree,normalize=TRUE, mode='graph')\n",
    "centralization(RDPOS,degree,normalize=TRUE, mode='graph')\n",
    "\n",
    "### END SOLUTION"
   ]
  },
  {
   "cell_type": "markdown",
   "id": "c2a16078",
   "metadata": {
    "nbgrader": {
     "grade": false,
     "grade_id": "cell-dad04423e490e4db",
     "locked": true,
     "schema_version": 3,
     "solution": false,
     "task": false
    }
   },
   "source": [
    "#### Question 18\n",
    "\n",
    "Which network is more centralised and does this reflect the shape of the degree distribution?"
   ]
  },
  {
   "cell_type": "markdown",
   "id": "4eb587f1",
   "metadata": {
    "nbgrader": {
     "grade": true,
     "grade_id": "cell-00de4899ca2c6ded",
     "locked": false,
     "points": 0,
     "schema_version": 3,
     "solution": true,
     "task": false
    }
   },
   "source": [
    "> Highland tribes is more centralised. This may reflect the tail that is skewed to the right - one tribe has many more ties than the average."
   ]
  },
  {
   "cell_type": "markdown",
   "id": "0cf65a81",
   "metadata": {
    "nbgrader": {
     "grade": false,
     "grade_id": "cell-1a8cdfa163a12af2",
     "locked": true,
     "schema_version": 3,
     "solution": false,
     "task": false
    }
   },
   "source": [
    "Look at the network graphs, can you tell which network is more *clustered*? Calculate the triad census"
   ]
  },
  {
   "cell_type": "code",
   "execution_count": 44,
   "id": "4e4c8951",
   "metadata": {
    "nbgrader": {
     "grade": false,
     "grade_id": "cell-bc0f6ac9aa1a2f90",
     "locked": false,
     "schema_version": 3,
     "solution": true,
     "task": false
    }
   },
   "outputs": [
    {
     "data": {
      "text/html": [
       "<table class=\"dataframe\">\n",
       "<caption>A matrix: 1 × 4 of type dbl</caption>\n",
       "<thead>\n",
       "\t<tr><th scope=col>0</th><th scope=col>1</th><th scope=col>2</th><th scope=col>3</th></tr>\n",
       "</thead>\n",
       "<tbody>\n",
       "\t<tr><td>226</td><td>281</td><td>34</td><td>19</td></tr>\n",
       "</tbody>\n",
       "</table>\n"
      ],
      "text/latex": [
       "A matrix: 1 × 4 of type dbl\n",
       "\\begin{tabular}{llll}\n",
       " 0 & 1 & 2 & 3\\\\\n",
       "\\hline\n",
       "\t 226 & 281 & 34 & 19\\\\\n",
       "\\end{tabular}\n"
      ],
      "text/markdown": [
       "\n",
       "A matrix: 1 × 4 of type dbl\n",
       "\n",
       "| 0 | 1 | 2 | 3 |\n",
       "|---|---|---|---|\n",
       "| 226 | 281 | 34 | 19 |\n",
       "\n"
      ],
      "text/plain": [
       "     0   1   2  3 \n",
       "[1,] 226 281 34 19"
      ]
     },
     "metadata": {},
     "output_type": "display_data"
    },
    {
     "data": {
      "text/html": [
       "<table class=\"dataframe\">\n",
       "<caption>A matrix: 1 × 4 of type dbl</caption>\n",
       "<thead>\n",
       "\t<tr><th scope=col>0</th><th scope=col>1</th><th scope=col>2</th><th scope=col>3</th></tr>\n",
       "</thead>\n",
       "<tbody>\n",
       "\t<tr><td>230</td><td>118</td><td>10</td><td>6</td></tr>\n",
       "</tbody>\n",
       "</table>\n"
      ],
      "text/latex": [
       "A matrix: 1 × 4 of type dbl\n",
       "\\begin{tabular}{llll}\n",
       " 0 & 1 & 2 & 3\\\\\n",
       "\\hline\n",
       "\t 230 & 118 & 10 & 6\\\\\n",
       "\\end{tabular}\n"
      ],
      "text/markdown": [
       "\n",
       "A matrix: 1 × 4 of type dbl\n",
       "\n",
       "| 0 | 1 | 2 | 3 |\n",
       "|---|---|---|---|\n",
       "| 230 | 118 | 10 | 6 |\n",
       "\n"
      ],
      "text/plain": [
       "     0   1   2  3\n",
       "[1,] 230 118 10 6"
      ]
     },
     "metadata": {},
     "output_type": "display_data"
    }
   ],
   "source": [
    "### BEGIN SOLUTION\n",
    "triad.census(tribesPos, mode='graph')\n",
    "triad.census(RDPOS, mode='graph')\n",
    "\n",
    "### END SOLUTION"
   ]
  },
  {
   "cell_type": "markdown",
   "id": "5d65ab9e",
   "metadata": {
    "nbgrader": {
     "grade": false,
     "grade_id": "cell-75c148b4bba0c3d4",
     "locked": true,
     "schema_version": 3,
     "solution": false,
     "task": false
    }
   },
   "source": [
    "And calculate the clustering coefficient using `gtrans`"
   ]
  },
  {
   "cell_type": "code",
   "execution_count": 45,
   "id": "917260ed",
   "metadata": {
    "nbgrader": {
     "grade": false,
     "grade_id": "cell-7e21b68d8379ab83",
     "locked": false,
     "schema_version": 3,
     "solution": true,
     "task": false
    }
   },
   "outputs": [
    {
     "data": {
      "text/html": [
       "0.626373626373626"
      ],
      "text/latex": [
       "0.626373626373626"
      ],
      "text/markdown": [
       "0.626373626373626"
      ],
      "text/plain": [
       "[1] 0.6263736"
      ]
     },
     "metadata": {},
     "output_type": "display_data"
    },
    {
     "data": {
      "text/html": [
       "0.642857142857143"
      ],
      "text/latex": [
       "0.642857142857143"
      ],
      "text/markdown": [
       "0.642857142857143"
      ],
      "text/plain": [
       "[1] 0.6428571"
      ]
     },
     "metadata": {},
     "output_type": "display_data"
    }
   ],
   "source": [
    "### BEGIN SOLUTION\n",
    "gtrans(tribesPos)\n",
    "gtrans(RDPOS)\n",
    "### END SOLUTION"
   ]
  },
  {
   "cell_type": "markdown",
   "id": "4ad414a6",
   "metadata": {
    "nbgrader": {
     "grade": false,
     "grade_id": "cell-b9a86d53489131be",
     "locked": true,
     "schema_version": 3,
     "solution": false,
     "task": false
    }
   },
   "source": [
    "#### Question 19\n",
    "\n",
    "What are your conclusions in comparing the networks? Can you think of reasons why one might appear more clustered than the other?"
   ]
  },
  {
   "cell_type": "markdown",
   "id": "4e8f3bb2",
   "metadata": {
    "nbgrader": {
     "grade": true,
     "grade_id": "cell-1c59def4bc9dc589",
     "locked": false,
     "points": 0,
     "schema_version": 3,
     "solution": true,
     "task": false
    }
   },
   "source": [
    "> The networks have different number of nodes (16 and 14) making it diffult to compare the absolute number of triangles. The networks have different number of ties, which in combination with the different sizes (number of nodes) make it difficult to compare graphs with different densities. One network is a little more centralised, meaning that many ties already are centred on few nodes. If you have a hub, a node with many ties, that means that there are many opportunities for closure. Since the clustering coefficient only compares triads with at least 2 ties, the number of isolate nodes do not factor in - we are effectively comparing a network of 16 nodes to a network of 14-5=9 nodes!"
   ]
  },
  {
   "cell_type": "markdown",
   "id": "14dbcc95",
   "metadata": {
    "nbgrader": {
     "grade": false,
     "grade_id": "cell-3a2cd9c6cd7a2e18",
     "locked": true,
     "schema_version": 3,
     "solution": false,
     "task": false
    }
   },
   "source": [
    "## Optional: Compare with a bigger network\n",
    "Load Zachary karate:\n",
    "### Zachary's karate club\n",
    "A network of $n=34$ members of a karate club (made famous as the testbed for community detection and blockmodelling algorithms) from the work of  Zachary (1977)"
   ]
  },
  {
   "cell_type": "code",
   "execution_count": 46,
   "id": "a2260efb",
   "metadata": {},
   "outputs": [],
   "source": [
    "temp <- tempfile()\n",
    "download.file(\"https://raw.githubusercontent.com/johankoskinen/BayesERGM/main/data/zachary.txt\",temp)\n",
    "Zachary <-  read.table(temp)# this two adjacency matrices stacked on top of each other in a text file\n",
    "unlink(temp)\n",
    "ZacharyBinary <- Zachary[1:34,]# symmetric, binary, positive"
   ]
  },
  {
   "cell_type": "markdown",
   "id": "9759f787",
   "metadata": {
    "nbgrader": {
     "grade": false,
     "grade_id": "cell-b3ea43bc9720da79",
     "locked": true,
     "schema_version": 3,
     "solution": false,
     "task": false
    }
   },
   "source": [
    "This karate club had two factions with two leaders. Can you see this from the graph?"
   ]
  },
  {
   "cell_type": "code",
   "execution_count": 47,
   "id": "e40fa640",
   "metadata": {},
   "outputs": [
    {
     "data": {
      "image/png": "[encoded data removed]",
      "text/plain": [
       "plot without title"
      ]
     },
     "metadata": {
      "image/png": {
       "height": 420,
       "width": 420
      }
     },
     "output_type": "display_data"
    }
   ],
   "source": [
    "gplot(ZacharyBinary,\n",
    "      gmode='graph',\n",
    "      label=c(1:34),\n",
    "      label.pos = 5 ,# label.pos puts = 5 labels on top of nodes\n",
    "      label.cex = .5, # make labels smaller\n",
    "      vertex.col = NA)# do not fill vertices"
   ]
  },
  {
   "cell_type": "markdown",
   "id": "4cd6e65b",
   "metadata": {
    "nbgrader": {
     "grade": false,
     "grade_id": "cell-136fe8acf2ce335d",
     "locked": true,
     "schema_version": 3,
     "solution": false,
     "task": false
    }
   },
   "source": [
    "#### Optional: Question 20\n",
    "\n",
    "The question now is - which network is the more dense? Calculate the density."
   ]
  },
  {
   "cell_type": "code",
   "execution_count": 48,
   "id": "f7845baf",
   "metadata": {
    "nbgrader": {
     "grade": false,
     "grade_id": "cell-72d03b8e72273a2d",
     "locked": false,
     "schema_version": 3,
     "solution": true,
     "task": false
    }
   },
   "outputs": [
    {
     "data": {
      "text/html": [
       "0.13903743315508"
      ],
      "text/latex": [
       "0.13903743315508"
      ],
      "text/markdown": [
       "0.13903743315508"
      ],
      "text/plain": [
       "[1] 0.1390374"
      ]
     },
     "metadata": {},
     "output_type": "display_data"
    },
    {
     "data": {
      "text/html": [
       "0.241666666666667"
      ],
      "text/latex": [
       "0.241666666666667"
      ],
      "text/markdown": [
       "0.241666666666667"
      ],
      "text/plain": [
       "[1] 0.2416667"
      ]
     },
     "metadata": {},
     "output_type": "display_data"
    },
    {
     "data": {
      "text/html": [
       "0.142857142857143"
      ],
      "text/latex": [
       "0.142857142857143"
      ],
      "text/markdown": [
       "0.142857142857143"
      ],
      "text/plain": [
       "[1] 0.1428571"
      ]
     },
     "metadata": {},
     "output_type": "display_data"
    }
   ],
   "source": [
    "### BEGIN SOLUTION\n",
    "sum(ZacharyBinary)/(34*33)\n",
    "sum(tribesPos)/(16*15)\n",
    "sum(RDPOS)/(14*13)\n",
    "### END SOLUTION"
   ]
  },
  {
   "cell_type": "markdown",
   "id": "d5c8920f",
   "metadata": {
    "nbgrader": {
     "grade": false,
     "grade_id": "cell-2b484028fdcc63f4",
     "locked": true,
     "schema_version": 3,
     "solution": false,
     "task": false
    }
   },
   "source": [
    "How do we interpret these numbers and do they may sense?\n",
    "\n",
    "It might help interpretation if instead of density focus on *average degree*, i.e. the average number of ties a node has. The average degree is defined simply as\n",
    "$$\n",
    "\\frac{\\sum_{i=1}^n d_{i}}{n}\n",
    "$$\n",
    "\n",
    "Caluclate average degree:"
   ]
  },
  {
   "cell_type": "code",
   "execution_count": 2,
   "id": "bf5735d4",
   "metadata": {
    "nbgrader": {
     "grade": false,
     "grade_id": "cell-cb42a6383465ff56",
     "locked": false,
     "schema_version": 3,
     "solution": true,
     "task": false
    }
   },
   "outputs": [
    {
     "ename": "ERROR",
     "evalue": "Error in eval(expr, envir, enclos): object 'ZacharyBinary' not found\n",
     "output_type": "error",
     "traceback": [
      "Error in eval(expr, envir, enclos): object 'ZacharyBinary' not found\nTraceback:\n"
     ]
    }
   ],
   "source": [
    "### BEGIN SOLUTION\n",
    "sum(ZacharyBinary)/34\n",
    "sum(tribesPos)/16\n",
    "sum(RDPOS)/14\n",
    "### END SOLUTION"
   ]
  },
  {
   "cell_type": "markdown",
   "id": "a17ddcc1",
   "metadata": {
    "nbgrader": {
     "grade": false,
     "grade_id": "cell-0f6c973d407987a3",
     "locked": true,
     "schema_version": 3,
     "solution": false,
     "task": false
    }
   },
   "source": [
    "In which network do the nodes have more ties, and is it denser?"
   ]
  },
  {
   "cell_type": "markdown",
   "id": "a61a7652",
   "metadata": {
    "nbgrader": {
     "grade": true,
     "grade_id": "cell-78fa8083469683c0",
     "locked": false,
     "points": 0,
     "schema_version": 3,
     "solution": true,
     "task": false
    }
   },
   "source": [
    "> Looking at the graphs the Karate club looks the densest. However, the tribes have the highest density, followed by the Bank wiring room, followed by the Karate club. However, if you consider instead the average number of ties a nodes have, the order is that the Karate club has 4.5 ties, the Tribes 3.6, and the bank wiring room 1.9. According to the average number of ties, the Karate club is by far the densest but denisty is missleading as it scales with $n^2$ rather than $n$. Substantively you could say that density is not a fair reflection as giving you more node to potentially connect to does not mean you will form more ties."
   ]
  },
  {
   "cell_type": "markdown",
   "id": "5eb3d1d6",
   "metadata": {
    "nbgrader": {
     "grade": false,
     "grade_id": "cell-fa36271eb2e8a8ed",
     "locked": true,
     "schema_version": 3,
     "solution": false,
     "task": false
    }
   },
   "source": [
    "# Directed networks\n",
    "We will go through directed networks more in future lectures. Our metrics are defined more or less in the same way. The two additional concepts that are cucial to directed networks are related to the types of *degree distributions*, *dyads* and *triads*.\n",
    "\n",
    "### Kapferer's tailors\n",
    "Bruce Kapferer (1972) studied a group of tailors in Zambia and collected a number of networks for the $n=39$ individuals.\n"
   ]
  },
  {
   "cell_type": "code",
   "execution_count": 50,
   "id": "4d9b254b",
   "metadata": {},
   "outputs": [],
   "source": [
    "temp <- tempfile()\n",
    "download.file(\"https://raw.githubusercontent.com/johankoskinen/BayesERGM/main/data/kapferer.txt\",temp)\n",
    "kapf  <-  read.table(temp)# four adjacency matrices stacked on top of each other\n",
    "unlink(temp)\n",
    "# \"instrumental\" (work- and assistance-related) interactions\n",
    "KAPFTT1 <- kapf[(2*39+1):(3*39),]# KAPFTI1 non-symmetric, binary: time 1"
   ]
  },
  {
   "cell_type": "markdown",
   "id": "cdecc1e3",
   "metadata": {
    "nbgrader": {
     "grade": false,
     "grade_id": "cell-09dbd72160dd9f8e",
     "locked": true,
     "schema_version": 3,
     "solution": false,
     "task": false
    }
   },
   "source": [
    "### Degree distributions\n",
    "Since nodes can *send* and *receive* ties, there are two types of degrees: indegree and outdegree\n"
   ]
  },
  {
   "cell_type": "code",
   "execution_count": 51,
   "id": "ae2229ad",
   "metadata": {},
   "outputs": [
    {
     "data": {
      "image/png": "[encoded data removed]",
      "text/plain": [
       "Plot with title “degree correlation”"
      ]
     },
     "metadata": {
      "image/png": {
       "height": 420,
       "width": 420
      }
     },
     "output_type": "display_data"
    }
   ],
   "source": [
    "par( mfrow = c(1,3))\n",
    "# outdegree:\n",
    "plot( table( degree( KAPFTT1 , cmode = 'outdegree') ),type='b',main='outdegree',ylab='frequency')\n",
    "# indegree:\n",
    "plot( table( degree( KAPFTT1 , cmode = 'indegree') ),type='b',main='indegree' ,ylab='frequency')\n",
    "# in and out\n",
    "plot( degree( KAPFTT1 , cmode = 'outdegree'),\n",
    "      degree( KAPFTT1 , cmode = 'indegree') ,\n",
    "      main='degree correlation',xlab='outdegree',ylab='indegree' )"
   ]
  },
  {
   "cell_type": "markdown",
   "id": "cc272207",
   "metadata": {
    "nbgrader": {
     "grade": false,
     "grade_id": "cell-c724737acb508732",
     "locked": true,
     "schema_version": 3,
     "solution": false,
     "task": false
    }
   },
   "source": [
    "#### Optional: Question 21\n",
    "\n",
    "Provide a potential interpretation of the graphs"
   ]
  },
  {
   "cell_type": "markdown",
   "id": "5fcaece7",
   "metadata": {
    "nbgrader": {
     "grade": true,
     "grade_id": "cell-a7b2ac523d8fb072",
     "locked": false,
     "points": 0,
     "schema_version": 3,
     "solution": true,
     "task": false
    }
   },
   "source": [
    "The outdegree distribution is more skewed than the indegree distribution, which means that most people only collaborate with one or two others but there are some that collaborate with many others. The indegree distribution is less skewed, which means that everyone might have an assigned role. Maybe high outdegree nodes manage other nodes. \n",
    "\n",
    "The number of ties you send is correlated with the number of ties you receive - maybe this means that some are more active or important, brokering between other. "
   ]
  },
  {
   "cell_type": "markdown",
   "id": "de5bc110",
   "metadata": {
    "nbgrader": {
     "grade": false,
     "grade_id": "cell-127a5bca7cd3a889",
     "locked": true,
     "schema_version": 3,
     "solution": false,
     "task": false
    }
   },
   "source": [
    "### Dyad census\n",
    "Since each tie can be either assymetric or reciprocated, we can distinguish between pairs of nodes, *dyads*, that are mutual, assymetric, or null. A tally of dyads is:"
   ]
  },
  {
   "cell_type": "code",
   "execution_count": 52,
   "id": "2f7efdec",
   "metadata": {},
   "outputs": [
    {
     "data": {
      "text/html": [
       "<table class=\"dataframe\">\n",
       "<caption>A matrix: 1 × 3 of type dbl</caption>\n",
       "<thead>\n",
       "\t<tr><th scope=col>Mut</th><th scope=col>Asym</th><th scope=col>Null</th></tr>\n",
       "</thead>\n",
       "<tbody>\n",
       "\t<tr><td>33</td><td>43</td><td>665</td></tr>\n",
       "</tbody>\n",
       "</table>\n"
      ],
      "text/latex": [
       "A matrix: 1 × 3 of type dbl\n",
       "\\begin{tabular}{lll}\n",
       " Mut & Asym & Null\\\\\n",
       "\\hline\n",
       "\t 33 & 43 & 665\\\\\n",
       "\\end{tabular}\n"
      ],
      "text/markdown": [
       "\n",
       "A matrix: 1 × 3 of type dbl\n",
       "\n",
       "| Mut | Asym | Null |\n",
       "|---|---|---|\n",
       "| 33 | 43 | 665 |\n",
       "\n"
      ],
      "text/plain": [
       "     Mut Asym Null\n",
       "[1,] 33  43   665 "
      ]
     },
     "metadata": {},
     "output_type": "display_data"
    }
   ],
   "source": [
    "dyad.census( KAPFTT1 )"
   ]
  },
  {
   "cell_type": "markdown",
   "id": "539cc55c",
   "metadata": {
    "nbgrader": {
     "grade": false,
     "grade_id": "cell-59f2759218c010ba",
     "locked": true,
     "schema_version": 3,
     "solution": false,
     "task": false
    }
   },
   "source": [
    "#### Optional: Question 22\n",
    "\n",
    "Does the dyad census change any of our interpretations of the correlation between in and outdegree?"
   ]
  },
  {
   "cell_type": "markdown",
   "id": "18d97c98",
   "metadata": {
    "nbgrader": {
     "grade": true,
     "grade_id": "cell-af3debb56e6491a8",
     "locked": false,
     "points": 0,
     "schema_version": 3,
     "solution": true,
     "task": false
    }
   },
   "source": [
    "> The correlation between in and outdegree distribution could also be explained by 'reciprocation' - if someone sends a tie you reciprocate."
   ]
  },
  {
   "cell_type": "markdown",
   "id": "ae72279e",
   "metadata": {
    "nbgrader": {
     "grade": false,
     "grade_id": "cell-943b7836b411bfe3",
     "locked": true,
     "schema_version": 3,
     "solution": false,
     "task": false
    }
   },
   "source": [
    "### Triad census\n",
    "\n",
    "For undirected networks we can only have three types of triads. For directed networks there are 16 possibilities.\n",
    "\n",
    "![The 16 MAN triads for directed networks .](https://raw.githubusercontent.com/johankoskinen/BayesERGM/main/data/triadcensus.png)\n",
    "\n",
    "Each triad is labeled by its dyad census - this is called the MAN labeling scheme.\n",
    "\n",
    "#### Optional: Question 23\n",
    "What does the label for triad 15 - 210 stand for and what does the D, U, and C stand for in 021?"
   ]
  },
  {
   "cell_type": "markdown",
   "id": "42fc35dd",
   "metadata": {
    "nbgrader": {
     "grade": true,
     "grade_id": "cell-24d8d3a6393168b5",
     "locked": false,
     "points": 0,
     "schema_version": 3,
     "solution": true,
     "task": false
    }
   },
   "source": [
    "> 210 stands for two mutual dyads, one assymetric, and zero null-dyads. For 021, we can distinguish between ties that go 'down', 'up', and in a 'cycle'."
   ]
  },
  {
   "cell_type": "markdown",
   "id": "3048e180",
   "metadata": {
    "nbgrader": {
     "grade": false,
     "grade_id": "cell-eefb9821361cc396",
     "locked": true,
     "schema_version": 3,
     "solution": false,
     "task": false
    }
   },
   "source": [
    "#### Optional: Question 24\n",
    "Calculate the triad census for Kafperer's tailors."
   ]
  },
  {
   "cell_type": "code",
   "execution_count": 53,
   "id": "8e8e1e04",
   "metadata": {},
   "outputs": [
    {
     "data": {
      "text/html": [
       "<table class=\"dataframe\">\n",
       "<caption>A matrix: 1 × 16 of type dbl</caption>\n",
       "<thead>\n",
       "\t<tr><th scope=col>003</th><th scope=col>012</th><th scope=col>102</th><th scope=col>021D</th><th scope=col>021U</th><th scope=col>021C</th><th scope=col>111D</th><th scope=col>111U</th><th scope=col>030T</th><th scope=col>030C</th><th scope=col>201</th><th scope=col>120D</th><th scope=col>120U</th><th scope=col>120C</th><th scope=col>210</th><th scope=col>300</th></tr>\n",
       "</thead>\n",
       "<tbody>\n",
       "\t<tr><td>6708</td><td>1162</td><td>928</td><td>75</td><td>9</td><td>34</td><td>49</td><td>77</td><td>10</td><td>0</td><td>57</td><td>8</td><td>3</td><td>2</td><td>11</td><td>6</td></tr>\n",
       "</tbody>\n",
       "</table>\n"
      ],
      "text/latex": [
       "A matrix: 1 × 16 of type dbl\n",
       "\\begin{tabular}{llllllllllllllll}\n",
       " 003 & 012 & 102 & 021D & 021U & 021C & 111D & 111U & 030T & 030C & 201 & 120D & 120U & 120C & 210 & 300\\\\\n",
       "\\hline\n",
       "\t 6708 & 1162 & 928 & 75 & 9 & 34 & 49 & 77 & 10 & 0 & 57 & 8 & 3 & 2 & 11 & 6\\\\\n",
       "\\end{tabular}\n"
      ],
      "text/markdown": [
       "\n",
       "A matrix: 1 × 16 of type dbl\n",
       "\n",
       "| 003 | 012 | 102 | 021D | 021U | 021C | 111D | 111U | 030T | 030C | 201 | 120D | 120U | 120C | 210 | 300 |\n",
       "|---|---|---|---|---|---|---|---|---|---|---|---|---|---|---|---|\n",
       "| 6708 | 1162 | 928 | 75 | 9 | 34 | 49 | 77 | 10 | 0 | 57 | 8 | 3 | 2 | 11 | 6 |\n",
       "\n"
      ],
      "text/plain": [
       "     003  012  102 021D 021U 021C 111D 111U 030T 030C 201 120D 120U 120C 210\n",
       "[1,] 6708 1162 928 75   9    34   49   77   10   0    57  8    3    2    11 \n",
       "     300\n",
       "[1,] 6  "
      ]
     },
     "metadata": {},
     "output_type": "display_data"
    }
   ],
   "source": [
    "triad.census( KAPFTT1)"
   ]
  },
  {
   "cell_type": "markdown",
   "id": "08fd34f9",
   "metadata": {
    "nbgrader": {
     "grade": false,
     "grade_id": "cell-7fa25f4be28e1c37",
     "locked": true,
     "schema_version": 3,
     "solution": false,
     "task": false
    }
   },
   "source": [
    "Assume that the ties are related to 'asking for help' or 'asking for assistance', how would you explain 030C?"
   ]
  },
  {
   "cell_type": "markdown",
   "id": "f8ae56e6",
   "metadata": {
    "nbgrader": {
     "grade": true,
     "grade_id": "cell-ded028c03126a569",
     "locked": false,
     "points": 0,
     "schema_version": 3,
     "solution": true,
     "task": false
    }
   },
   "source": [
    "> If asking for help, if A asks help from B, then B can ask the more knowlegable C. It would then be illogical for C to ask A, because that would essentially mean that A asks themselves for help"
   ]
  },
  {
   "cell_type": "markdown",
   "id": "3347ff20",
   "metadata": {
    "nbgrader": {
     "grade": false,
     "grade_id": "cell-8d241e2232bb5031",
     "locked": true,
     "schema_version": 3,
     "solution": false,
     "task": false
    }
   },
   "source": [
    "# Summary\n",
    "\n",
    "This tutorial has largely been agnostic to what the nodes and ties are and why the different measures might be important. In the sequel we will investigate such things as\n",
    "\n",
    "* Why may some people be more central than others?\n",
    "* Would we expect to see more closed than open triads and if so why?\n",
    "* Is information and disease spread in networks sensitive to cutpoints?\n"
   ]
  }
 ],
 "metadata": {
  "celltoolbar": "Create Assignment",
  "kernelspec": {
   "display_name": "R",
   "language": "R",
   "name": "ir"
  },
  "language_info": {
   "codemirror_mode": "r",
   "file_extension": ".r",
   "mimetype": "text/x-r-source",
   "name": "R",
   "pygments_lexer": "r",
   "version": "4.1.0"
  }
 },
 "nbformat": 4,
 "nbformat_minor": 5
}
