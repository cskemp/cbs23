{
 "cells": [
  {
   "cell_type": "markdown",
   "metadata": {
    "nbgrader": {
     "grade": false,
     "grade_id": "cell-84b67070ad409557",
     "locked": true,
     "schema_version": 3,
     "solution": false,
     "task": false
    }
   },
   "source": [
    "# CBS Week 1 Exercise: Jupyter Notebooks and Basic Probability\n"
   ]
  },
  {
   "cell_type": "code",
   "execution_count": 1,
   "metadata": {
    "nbgrader": {
     "grade": false,
     "grade_id": "cell-17a4fb7156cee4c7",
     "locked": true,
     "schema_version": 3,
     "solution": false,
     "task": false
    }
   },
   "outputs": [],
   "source": [
    "suppressPackageStartupMessages({\n",
    "    library(tidyverse)\n",
    "    library(testthat)\n",
    "    library(knitr)\n",
    "    library(kableExtra)\n",
    "    library(IRdisplay)  \n",
    "})"
   ]
  },
  {
   "cell_type": "markdown",
   "metadata": {
    "nbgrader": {
     "grade": false,
     "grade_id": "cell-30c36b6c00235753",
     "locked": true,
     "schema_version": 3,
     "solution": false,
     "task": false
    }
   },
   "source": [
    "A FAQ will be maintained for each notebook, and you can find the FAQ for this exercise by clicking the \"Modules\" tab on Canvas. If you have a question, please check the FAQ to see if your question has already been addressed. If it hasn't been addressed, please post your question to the \"Week 1 Exercise\" discussion thread on the Canvas Discussion board. Almost all class-related questions should be posted to the discussion board instead of sent to the instructors directly --- that way everyone in the class can see the responses. If you see a question on the Discussion board that you're able to answer, please jump in and do so.\n",
    "\n",
    "## Introduction to Jupyter Notebooks\n",
    "\n",
    "Future assignments and tutorials will take the form of Jupyter notebooks like this one. Typically you'll be asked to edit some of the code chunks and to add text in response to short answer questions. This introductory notebook will be graded automatically but the grade will not count. Completing and submitting the notebook, however, will get you ready for next week's tutorial and the notebooks to come.\n",
    "\n",
    "Notebooks may include questions that ask for a free-text response. For example:"
   ]
  },
  {
   "cell_type": "markdown",
   "metadata": {
    "nbgrader": {
     "grade": false,
     "grade_id": "cell-cdb9de9629872aeb",
     "locked": true,
     "points": 0,
     "schema_version": 3,
     "solution": false,
     "task": true
    }
   },
   "source": [
    "### Exercise 1 (0 points)\n",
    "\n",
    "Name one way in which human brains are superior to the best current digital electronic computers. Provide your answer in the cell immediately below this one.\n",
    "\n",
    "=== BEGIN MARK SCHEME === \n",
    "\n",
    "This question is a demo only -- but if it were graded you'd get full credit for any reasonable answer: e.g. human brains use less power, are more fault-tolerant, etc\n",
    "    \n",
    "=== END MARK SCHEME ==="
   ]
  },
  {
   "cell_type": "markdown",
   "metadata": {
    "nbgrader": {
     "grade": true,
     "grade_id": "cell-95d577de8bb7e76c",
     "locked": false,
     "points": 0,
     "schema_version": 3,
     "solution": true,
     "task": false
    }
   },
   "source": []
  },
  {
   "cell_type": "markdown",
   "metadata": {
    "nbgrader": {
     "grade": false,
     "grade_id": "cell-3a0a6db78d2674fd",
     "locked": true,
     "schema_version": 3,
     "solution": false,
     "task": false
    }
   },
   "source": [
    "Notebooks may also include questions that ask you to write or edit some code. For example:\n",
    "\n",
    "### Exercise 2 (1 point)\n",
    "\n",
    "Complete the definition of a function `add_pair` that returns the sum of two numbers."
   ]
  },
  {
   "cell_type": "code",
   "execution_count": 2,
   "metadata": {
    "nbgrader": {
     "grade": false,
     "grade_id": "cell-32136b2aad56eb90",
     "locked": false,
     "schema_version": 3,
     "solution": true,
     "task": false
    }
   },
   "outputs": [],
   "source": [
    "add_pair <- function(a,b){\n",
    "    ### BEGIN SOLUTION\n",
    "    return (a+b)\n",
    "    ### END SOLUTION\n",
    "}"
   ]
  },
  {
   "cell_type": "markdown",
   "metadata": {
    "nbgrader": {
     "grade": false,
     "grade_id": "cell-a656baf4c1019133",
     "locked": true,
     "schema_version": 3,
     "solution": false,
     "task": false
    }
   },
   "source": [
    "Some coding questions will be automatically graded. For example, the automatic grader might check that your `add_pair` function produces the right answers on a couple of examples. The tests here are formulated using the `testthat` package."
   ]
  },
  {
   "cell_type": "code",
   "execution_count": 3,
   "metadata": {
    "nbgrader": {
     "grade": true,
     "grade_id": "cell-66187dd404b05458",
     "locked": true,
     "points": 1,
     "schema_version": 3,
     "solution": false,
     "task": false
    }
   },
   "outputs": [],
   "source": [
    "expect_that(add_pair(1,4), equals(5))\n",
    "expect_that(add_pair(-100,-8), equals(-108))"
   ]
  },
  {
   "cell_type": "markdown",
   "metadata": {
    "nbgrader": {
     "grade": false,
     "grade_id": "cell-b01c5d68808699ed",
     "locked": true,
     "schema_version": 3,
     "solution": false,
     "task": false
    }
   },
   "source": [
    "Often the tests will be hidden. For example, here's a completely unfair question that we would never ask."
   ]
  },
  {
   "cell_type": "markdown",
   "metadata": {
    "nbgrader": {
     "grade": false,
     "grade_id": "cell-3ec40589600fd824",
     "locked": true,
     "schema_version": 3,
     "solution": false,
     "task": false
    }
   },
   "source": [
    "### Exercise 3 (1 point)\n",
    "I'm thinking of an integer `x` between 1 and 1,000,000. What is `x`?"
   ]
  },
  {
   "cell_type": "code",
   "execution_count": 4,
   "metadata": {
    "nbgrader": {
     "grade": false,
     "grade_id": "cell-59a3e4a10fe8f7fa",
     "locked": false,
     "schema_version": 3,
     "solution": true,
     "task": false
    }
   },
   "outputs": [],
   "source": [
    "x <-\n",
    "    ### BEGIN SOLUTION\n",
    "    520981\n",
    "    ### END SOLUTION"
   ]
  },
  {
   "cell_type": "markdown",
   "metadata": {
    "nbgrader": {
     "grade": false,
     "grade_id": "cell-aa76c5832e2fbae1",
     "locked": true,
     "schema_version": 3,
     "solution": false,
     "task": false
    }
   },
   "source": [
    "Here's one test that your solution should pass. "
   ]
  },
  {
   "cell_type": "code",
   "execution_count": 5,
   "metadata": {
    "nbgrader": {
     "grade": true,
     "grade_id": "cell-9fffd71e768b9864",
     "locked": true,
     "points": 1,
     "schema_version": 3,
     "solution": false,
     "task": false
    }
   },
   "outputs": [],
   "source": [
    "expect_that(x>0, equals(TRUE))\n",
    "### BEGIN HIDDEN TESTS\n",
    "expect_that(x, equals(520981))\n",
    "### END HIDDEN TESTS"
   ]
  },
  {
   "cell_type": "markdown",
   "metadata": {
    "nbgrader": {
     "grade": false,
     "grade_id": "cell-aa76c5832e2fbae2",
     "locked": true,
     "schema_version": 3,
     "solution": false,
     "task": false
    }
   },
   "source": [
    "But there's also a hidden test that you're not seeing which checks whether your guess matches the true value of `x`. Unless you're very lucky your solution will fail this test (but don't worry -- this notebook doesn't count for anything!)\n",
    "\n",
    "After you've finished working through the notebook, try \"validating\" the notebook by pressing the Validate button in the toolbar above. The validation process checks that your code passes all of the *visible* tests but doesn't consider the hidden tests. So just because the notebook validates doesn't mean that all of your answers are correct. "
   ]
  },
  {
   "cell_type": "markdown",
   "metadata": {
    "nbgrader": {
     "grade": false,
     "grade_id": "cell-2c8e1e3cd62047cd",
     "locked": true,
     "schema_version": 3,
     "solution": false,
     "task": false
    }
   },
   "source": [
    "The remaining sections of this notebook introduce or review some things that will be useful for the module on probabilistic models of cognition. Programming in R should be familiar to all of the psychology students but may be less familiar to some others. On the other hand, the section on probability theory will probably be familiar to those of you with a technical background but may be less familiar to some of the psychology students. \n",
    "\n",
    "\n",
    "## Programming in R\n",
    "\n",
    "We'll be assuming that you are fairly familiar with R and the tidyverse. The required background roughly corresponds to the material in the opening 4 sections of \"Working with Data\" from Danielle Navarro's [R for Psychological Science]( https://psyr.djnavarro.net/index.html ). These sections are called \n",
    "\n",
    "* [Prelude to Data]( https://psyr.djnavarro.net/prelude-to-data.html) \n",
    "* [Data Types]( https://psyr.djnavarro.net/data-types.html )\n",
    "* [Describing Data](  https://psyr.djnavarro.net/describing-data.html )\n",
    "* [Visualizing Data]( https://psyr.djnavarro.net/visualising-data.html )\n",
    "\n",
    "Psychology students should already have this background by virtue of completing Andy Perfors' version of PSYC30013 (Research Methods for Human Inquiry). If you're not a psychology student, our assumption is that you're already familiar with at least one programming language, and should therefore be able to pick up R mostly on your own. We're happy to help, of course, if you run into problems, and posting to the discussion board or asking your tutor during tutorials are the best ways to seek advice.\n",
    "\n",
    "\n",
    "## Probability Theory\n",
    "\n",
    "Let's set up a joint distribution over three binary variables. Each variable takes one of two possible values (1 or 2), and because there are 3 variables there are 8 possible settings of the variables. We'll directly specify a joint probability distribution `P(x,y,z)` over these settings."
   ]
  },
  {
   "cell_type": "code",
   "execution_count": 6,
   "metadata": {
    "nbgrader": {
     "grade": false,
     "grade_id": "cell-77cdd3a0e36f6f81",
     "locked": true,
     "schema_version": 3,
     "solution": false,
     "task": false
    }
   },
   "outputs": [
    {
     "name": "stdout",
     "output_type": "stream",
     "text": [
      "\u001b[90m# A tibble: 8 x 4\u001b[39m\n",
      "      x     y     z p_x_y_z\n",
      "  \u001b[3m\u001b[90m<dbl>\u001b[39m\u001b[23m \u001b[3m\u001b[90m<dbl>\u001b[39m\u001b[23m \u001b[3m\u001b[90m<dbl>\u001b[39m\u001b[23m   \u001b[3m\u001b[90m<dbl>\u001b[39m\u001b[23m\n",
      "\u001b[90m1\u001b[39m     1     1     1    0.3 \n",
      "\u001b[90m2\u001b[39m     1     1     2    0.25\n",
      "\u001b[90m3\u001b[39m     1     2     1    0.2 \n",
      "\u001b[90m4\u001b[39m     1     2     2    0.1 \n",
      "\u001b[90m5\u001b[39m     2     1     1    0.05\n",
      "\u001b[90m6\u001b[39m     2     1     2    0.05\n",
      "\u001b[90m7\u001b[39m     2     2     1    0.03\n",
      "\u001b[90m8\u001b[39m     2     2     2    0.02\n"
     ]
    }
   ],
   "source": [
    "d1 <- tibble(x = c(1,1,1,1,2,2,2,2), \n",
    "             y = c(1,1,2,2,1,1,2,2), \n",
    "             z = c(1,2,1,2,1,2,1,2), \n",
    "             p_x_y_z = c(0.3, 0.25, 0.2, 0.1, 0.05, 0.05, 0.03, 0.02) )\n",
    "\n",
    "print(d1)"
   ]
  },
  {
   "cell_type": "markdown",
   "metadata": {
    "nbgrader": {
     "grade": false,
     "grade_id": "cell-40ffb5d475db0428",
     "locked": true,
     "points": 0,
     "schema_version": 3,
     "solution": false,
     "task": true
    }
   },
   "source": [
    "\n",
    "### Exercise 4 (0 points)\n",
    "\n",
    "To make sense as a probability distribution `d1$p_x_y_z` needs to sum to 1 -- please check that this condition is satisfied. Provide your answer by writing some code in the next cell.\n",
    "\n",
    "=== BEGIN MARK SCHEME === \n",
    "\n",
    "This question is a demo only -- but if it were graded you'd get full credit for any computation that demonstrates that d1$p_x_y_z sums to 1. E.g\n",
    "\n",
    "`print(sum(d1$p_x_y_z))`\n",
    "\n",
    "=== END MARK SCHEME ==="
   ]
  },
  {
   "cell_type": "code",
   "execution_count": null,
   "metadata": {
    "nbgrader": {
     "grade": true,
     "grade_id": "cell-3faf36334e6fa243",
     "locked": false,
     "points": 0,
     "schema_version": 3,
     "solution": true,
     "task": false
    }
   },
   "outputs": [],
   "source": []
  },
  {
   "cell_type": "markdown",
   "metadata": {
    "nbgrader": {
     "grade": false,
     "grade_id": "cell-8ca46c50b736f120",
     "locked": true,
     "schema_version": 3,
     "solution": false,
     "task": false
    }
   },
   "source": [
    "Having the joint distribution `d1` allows you to compute distributions over any subset of variables given observations over any other subset of variables. We'll try a few examples.\n",
    "\n",
    "### Exercise 5 (1 point)\n",
    "What's the probability that x, y and z all equal 2? We'll use `p_x2_y2_z2` to denote $P(x=2,y=2,z=2)$. For this and all remaining questions you can either write code to compute the answer or figure things out by hand and just define the relevant variable (here `p_x2_y2_z2`) to have the correct value."
   ]
  },
  {
   "cell_type": "code",
   "execution_count": 7,
   "metadata": {
    "nbgrader": {
     "grade": false,
     "grade_id": "cell-5307472b1f6b3182",
     "locked": false,
     "schema_version": 3,
     "solution": true,
     "task": false
    }
   },
   "outputs": [],
   "source": [
    "# compute P(x=2,y=2,z=2)\n",
    "p_x2_y2_z2 <-\n",
    "### BEGIN SOLUTION\n",
    "# we can read P(x=2,y=2,z=2) off the table above\n",
    "0.02\n",
    "### END SOLUTION"
   ]
  },
  {
   "cell_type": "code",
   "execution_count": 8,
   "metadata": {
    "nbgrader": {
     "grade": true,
     "grade_id": "cell-0c3de2439738b216",
     "locked": true,
     "points": 1,
     "schema_version": 3,
     "solution": false,
     "task": false
    }
   },
   "outputs": [],
   "source": [
    "# this cell contains some hidden tests! You can leave it empty except for this comment\n",
    "### BEGIN HIDDEN TESTS\n",
    "expect_that(p_x2_y2_z2, equals(0.02))\n",
    "### END HIDDEN TESTS"
   ]
  },
  {
   "cell_type": "markdown",
   "metadata": {
    "nbgrader": {
     "grade": false,
     "grade_id": "cell-95104f328aeeb4c1",
     "locked": true,
     "schema_version": 3,
     "solution": false,
     "task": false
    }
   },
   "source": [
    "The handout for Week 1 includes equations for Marginalization and Conditional Probability that apply when there are just two variables `a` and `b`. Let's try out similar ideas for the three variable case.\n",
    "\n",
    "\n",
    "### Exercise 6 (1 point)\n",
    "What's $P(z=2)$, or the probability that z equals 2? We'll use `p_z2` to denote this probability."
   ]
  },
  {
   "cell_type": "code",
   "execution_count": 9,
   "metadata": {
    "nbgrader": {
     "grade": false,
     "grade_id": "cell-2c5649ea8976033b",
     "locked": false,
     "schema_version": 3,
     "solution": true,
     "task": false
    }
   },
   "outputs": [],
   "source": [
    "# compute P(z = 2)\n",
    "p_z2 <-\n",
    "### BEGIN SOLUTION\n",
    "    d1  %>% \n",
    "    filter(z==2)  %>% \n",
    "    summarize(sum(p_x_y_z))  %>% \n",
    "    pull()\n",
    "### END SOLUTION"
   ]
  },
  {
   "cell_type": "code",
   "execution_count": 10,
   "metadata": {
    "nbgrader": {
     "grade": true,
     "grade_id": "cell-4918b0de17357819",
     "locked": true,
     "points": 1,
     "schema_version": 3,
     "solution": false,
     "task": false
    }
   },
   "outputs": [],
   "source": [
    "# this cell contains some hidden tests! You can leave it empty except for this comment\n",
    "### BEGIN HIDDEN TESTS\n",
    "expect_that(p_z2, equals(0.42))\n",
    "### END HIDDEN TESTS"
   ]
  },
  {
   "cell_type": "markdown",
   "metadata": {
    "nbgrader": {
     "grade": false,
     "grade_id": "cell-d59bb1455c695f0a",
     "locked": true,
     "schema_version": 3,
     "solution": false,
     "task": false
    }
   },
   "source": [
    "### Exercise 7 (1 point)\n",
    "What's $P(x=2,y=2)$, or the probability that x and y both equal 2? "
   ]
  },
  {
   "cell_type": "code",
   "execution_count": 11,
   "metadata": {
    "nbgrader": {
     "grade": false,
     "grade_id": "cell-ac07e20e3e08d093",
     "locked": false,
     "schema_version": 3,
     "solution": true,
     "task": false
    }
   },
   "outputs": [],
   "source": [
    "# compute P(x = 2, y = 2)\n",
    "p_x2_y2 <-\n",
    "### BEGIN SOLUTION\n",
    "    d1  %>% \n",
    "    filter(x==2, y==2)  %>% \n",
    "    summarize(sum(p_x_y_z))  %>% \n",
    "    pull()\n",
    "### END SOLUTION"
   ]
  },
  {
   "cell_type": "code",
   "execution_count": 12,
   "metadata": {
    "nbgrader": {
     "grade": true,
     "grade_id": "cell-39cbf625fe6c19d1",
     "locked": true,
     "points": 1,
     "schema_version": 3,
     "solution": false,
     "task": false
    }
   },
   "outputs": [],
   "source": [
    "# this cell contains some hidden tests! You can leave it empty except for this comment\n",
    "### BEGIN HIDDEN TESTS\n",
    "expect_that(p_x2_y2, equals(0.05))\n",
    "### END HIDDEN TESTS"
   ]
  },
  {
   "cell_type": "markdown",
   "metadata": {
    "nbgrader": {
     "grade": false,
     "grade_id": "cell-f55c42a4166451ad",
     "locked": true,
     "schema_version": 3,
     "solution": false,
     "task": false
    }
   },
   "source": [
    "### Exercise 8 (1 point)\n",
    "What's $P(z=2|x=2,y=2)$, or the probability that z=2 given that x and y both equal 2? We'll use `p_z2_given_z2_y2` as the variable name for this conditional probability."
   ]
  },
  {
   "cell_type": "code",
   "execution_count": 13,
   "metadata": {
    "nbgrader": {
     "grade": false,
     "grade_id": "cell-52315b903a35e73d",
     "locked": false,
     "schema_version": 3,
     "solution": true,
     "task": false
    }
   },
   "outputs": [],
   "source": [
    "# compute P(z=2|x=2, y=2)\n",
    "p_z2_given_x2_y2 <-\n",
    "### BEGIN SOLUTION\n",
    "    p_x2_y2_z2 / p_x2_y2\n",
    "### END SOLUTION"
   ]
  },
  {
   "cell_type": "code",
   "execution_count": 14,
   "metadata": {
    "nbgrader": {
     "grade": true,
     "grade_id": "cell-d7e6ec704f86e4c8",
     "locked": true,
     "points": 1,
     "schema_version": 3,
     "solution": false,
     "task": false
    }
   },
   "outputs": [],
   "source": [
    "# this cell contains some hidden tests! You can leave it empty except for this comment\n",
    "### BEGIN HIDDEN TESTS\n",
    "expect_that(p_z2_given_x2_y2, equals(0.4))\n",
    "### END HIDDEN TESTS"
   ]
  },
  {
   "cell_type": "markdown",
   "metadata": {
    "nbgrader": {
     "grade": false,
     "grade_id": "cell-2e802d8a771a43d3",
     "locked": true,
     "schema_version": 3,
     "solution": false,
     "task": false
    }
   },
   "source": [
    "### Exercise 9 (2 points)\n",
    "What's $P(z=2|x=2)$, or the probability that z equals 2 given that x equals 2?"
   ]
  },
  {
   "cell_type": "code",
   "execution_count": 15,
   "metadata": {
    "nbgrader": {
     "grade": false,
     "grade_id": "cell-9d001d82bea17c93",
     "locked": false,
     "schema_version": 3,
     "solution": true,
     "task": false
    }
   },
   "outputs": [],
   "source": [
    "# compute P(z=2|x=2)\n",
    "p_z2_given_x2 <-\n",
    "### BEGIN SOLUTION\n",
    "    d1  %>% \n",
    "    filter(x==2)  %>% \n",
    "    mutate(p_x2 = sum(sum(p_x_y_z)))  %>% \n",
    "    filter(z==2)  %>% \n",
    "    mutate(p_z2_x2 = sum(p_x_y_z))  %>% \n",
    "    mutate(p_z2_given_x2 = p_z2_x2/p_x2) %>%\n",
    "    pull(p_z2_given_x2)  %>% \n",
    "    first()   \n",
    "### END SOLUTION"
   ]
  },
  {
   "cell_type": "code",
   "execution_count": 16,
   "metadata": {
    "nbgrader": {
     "grade": true,
     "grade_id": "cell-462a6331947fb19a",
     "locked": true,
     "points": 2,
     "schema_version": 3,
     "solution": false,
     "task": false
    }
   },
   "outputs": [],
   "source": [
    "# this cell contains some hidden tests! You can leave it empty except for this comment\n",
    "### BEGIN HIDDEN TESTS\n",
    "expect_that(p_z2_given_x2, equals(7/15))\n",
    "### END HIDDEN TESTS"
   ]
  },
  {
   "cell_type": "markdown",
   "metadata": {
    "nbgrader": {
     "grade": false,
     "grade_id": "cell-403769af570610cf",
     "locked": true,
     "schema_version": 3,
     "solution": false,
     "task": false
    }
   },
   "source": [
    "Now let's think about another distribution on three variables x, y and z. This time we're not explicitly given the joint distribution `P(x,y,z)` -- instead we are given the distributions `P(x)`, `P(y|x)`, and `P(z|x,y)`.\n",
    "\n",
    "Here's the distribution `P(x)`:\n"
   ]
  },
  {
   "cell_type": "code",
   "execution_count": 17,
   "metadata": {
    "nbgrader": {
     "grade": false,
     "grade_id": "cell-45add96509cc0ed9",
     "locked": true,
     "schema_version": 3,
     "solution": false,
     "task": false
    }
   },
   "outputs": [
    {
     "data": {
      "text/html": [
       "<table>\n",
       " <thead>\n",
       "  <tr>\n",
       "   <th style=\"text-align:center;\"> P(x=1) </th>\n",
       "   <th style=\"text-align:center;\"> P(x=2) </th>\n",
       "  </tr>\n",
       " </thead>\n",
       "<tbody>\n",
       "  <tr>\n",
       "   <td style=\"text-align:center;\"> 0.2 </td>\n",
       "   <td style=\"text-align:center;\"> 0.8 </td>\n",
       "  </tr>\n",
       "</tbody>\n",
       "</table>"
      ]
     },
     "metadata": {},
     "output_type": "display_data"
    }
   ],
   "source": [
    "xtab <- tibble(`P(x=1)` = c(0.2), `P(x=2)` = c(0.8) )  \n",
    "kable(xtab, \"html\", align=\"cc\")  %>% \n",
    "    as.character()  %>% \n",
    "    display_html()\n"
   ]
  },
  {
   "cell_type": "markdown",
   "metadata": {
    "nbgrader": {
     "grade": false,
     "grade_id": "cell-17e6b74a80ba96fd",
     "locked": true,
     "schema_version": 3,
     "solution": false,
     "task": false
    }
   },
   "source": [
    "Here's the conditional probability distribution `P(y|x)`:"
   ]
  },
  {
   "cell_type": "code",
   "execution_count": 18,
   "metadata": {
    "nbgrader": {
     "grade": false,
     "grade_id": "cell-faaac4831587b87b",
     "locked": true,
     "schema_version": 3,
     "solution": false,
     "task": false
    }
   },
   "outputs": [
    {
     "data": {
      "text/html": [
       "<table>\n",
       " <thead>\n",
       "  <tr>\n",
       "   <th style=\"text-align:center;\"> x </th>\n",
       "   <th style=\"text-align:center;\"> P(y=1|x) </th>\n",
       "   <th style=\"text-align:center;\"> P(y=2|x) </th>\n",
       "  </tr>\n",
       " </thead>\n",
       "<tbody>\n",
       "  <tr>\n",
       "   <td style=\"text-align:center;\"> 1 </td>\n",
       "   <td style=\"text-align:center;\"> 0.9 </td>\n",
       "   <td style=\"text-align:center;\"> 0.1 </td>\n",
       "  </tr>\n",
       "  <tr>\n",
       "   <td style=\"text-align:center;\"> 2 </td>\n",
       "   <td style=\"text-align:center;\"> 0.1 </td>\n",
       "   <td style=\"text-align:center;\"> 0.9 </td>\n",
       "  </tr>\n",
       "</tbody>\n",
       "</table>"
      ]
     },
     "metadata": {},
     "output_type": "display_data"
    }
   ],
   "source": [
    "ytab <- tibble(x = c(1,2), `P(y=1|x)` = c(0.9,0.1), `P(y=2|x)` = c(0.1,0.9) )\n",
    "kable(ytab, \"html\", align=\"ccc\")  %>% \n",
    "    as.character()  %>% \n",
    "    display_html()"
   ]
  },
  {
   "cell_type": "markdown",
   "metadata": {
    "nbgrader": {
     "grade": false,
     "grade_id": "cell-60d57fb71063dd66",
     "locked": true,
     "points": 0,
     "schema_version": 3,
     "solution": false,
     "task": true
    }
   },
   "source": [
    "And here's the conditional probability distribution `P(z|x,y)`:"
   ]
  },
  {
   "cell_type": "code",
   "execution_count": 19,
   "metadata": {
    "nbgrader": {
     "grade": false,
     "grade_id": "cell-71c39b32b453598f",
     "locked": true,
     "schema_version": 3,
     "solution": false,
     "task": false
    }
   },
   "outputs": [
    {
     "data": {
      "text/html": [
       "<table>\n",
       " <thead>\n",
       "  <tr>\n",
       "   <th style=\"text-align:center;\"> x </th>\n",
       "   <th style=\"text-align:center;\"> y </th>\n",
       "   <th style=\"text-align:center;\"> P(z=1|x,y) </th>\n",
       "   <th style=\"text-align:center;\"> P(z=2|x,y) </th>\n",
       "  </tr>\n",
       " </thead>\n",
       "<tbody>\n",
       "  <tr>\n",
       "   <td style=\"text-align:center;\"> 1 </td>\n",
       "   <td style=\"text-align:center;\"> 1 </td>\n",
       "   <td style=\"text-align:center;\"> 1.0 </td>\n",
       "   <td style=\"text-align:center;\"> 0.0 </td>\n",
       "  </tr>\n",
       "  <tr>\n",
       "   <td style=\"text-align:center;\"> 1 </td>\n",
       "   <td style=\"text-align:center;\"> 2 </td>\n",
       "   <td style=\"text-align:center;\"> 0.5 </td>\n",
       "   <td style=\"text-align:center;\"> 0.5 </td>\n",
       "  </tr>\n",
       "  <tr>\n",
       "   <td style=\"text-align:center;\"> 2 </td>\n",
       "   <td style=\"text-align:center;\"> 1 </td>\n",
       "   <td style=\"text-align:center;\"> 0.5 </td>\n",
       "   <td style=\"text-align:center;\"> 0.5 </td>\n",
       "  </tr>\n",
       "  <tr>\n",
       "   <td style=\"text-align:center;\"> 2 </td>\n",
       "   <td style=\"text-align:center;\"> 2 </td>\n",
       "   <td style=\"text-align:center;\"> 0.0 </td>\n",
       "   <td style=\"text-align:center;\"> 1.0 </td>\n",
       "  </tr>\n",
       "</tbody>\n",
       "</table>"
      ]
     },
     "metadata": {},
     "output_type": "display_data"
    }
   ],
   "source": [
    "ztab <- tibble(x = c(1,1,2,2), y = c(1,2,1,2), `P(z=1|x,y)` = c(1,0.5,0.5,0), `P(z=2|x,y)` = c(0,0.5,0.5,1) )\n",
    "kable(ztab, \"html\", align=\"cccc\")  %>% \n",
    "    as.character()  %>% \n",
    "    display_html()"
   ]
  },
  {
   "cell_type": "markdown",
   "metadata": {
    "nbgrader": {
     "grade": false,
     "grade_id": "cell-8219161b5ad5894f",
     "locked": true,
     "schema_version": 3,
     "solution": false,
     "task": false
    }
   },
   "source": [
    "We can combine these three elements into a larger table `d2` as follows."
   ]
  },
  {
   "cell_type": "code",
   "execution_count": 20,
   "metadata": {
    "nbgrader": {
     "grade": false,
     "grade_id": "cell-b0ecbc87e62d91fb",
     "locked": true,
     "schema_version": 3,
     "solution": false,
     "task": false
    }
   },
   "outputs": [
    {
     "name": "stdout",
     "output_type": "stream",
     "text": [
      "\u001b[90m# A tibble: 8 x 6\u001b[39m\n",
      "      x     y     z   p_x p_y_given_x p_z_given_x_y\n",
      "  \u001b[3m\u001b[90m<dbl>\u001b[39m\u001b[23m \u001b[3m\u001b[90m<dbl>\u001b[39m\u001b[23m \u001b[3m\u001b[90m<dbl>\u001b[39m\u001b[23m \u001b[3m\u001b[90m<dbl>\u001b[39m\u001b[23m       \u001b[3m\u001b[90m<dbl>\u001b[39m\u001b[23m         \u001b[3m\u001b[90m<dbl>\u001b[39m\u001b[23m\n",
      "\u001b[90m1\u001b[39m     1     1     1   0.2         0.9           1  \n",
      "\u001b[90m2\u001b[39m     1     1     2   0.2         0.9           0  \n",
      "\u001b[90m3\u001b[39m     1     2     1   0.2         0.1           0.5\n",
      "\u001b[90m4\u001b[39m     1     2     2   0.2         0.1           0.5\n",
      "\u001b[90m5\u001b[39m     2     1     1   0.8         0.1           0.5\n",
      "\u001b[90m6\u001b[39m     2     1     2   0.8         0.1           0.5\n",
      "\u001b[90m7\u001b[39m     2     2     1   0.8         0.9           0  \n",
      "\u001b[90m8\u001b[39m     2     2     2   0.8         0.9           1  \n"
     ]
    }
   ],
   "source": [
    "d2 <- tibble(x = c(1,1,1,1,2,2,2,2), \n",
    "             y = c(1,1,2,2,1,1,2,2), \n",
    "             z = c(1,2,1,2,1,2,1,2), \n",
    "             p_x = c(0.2, 0.2, 0.2, 0.2, 0.8, 0.8, 0.8, 0.8),\n",
    "             p_y_given_x = c(0.9, 0.9, 0.1, 0.1, 0.1, 0.1, 0.9, 0.9), \n",
    "             p_z_given_x_y = c(1,0,0.5, 0.5,0.5,0.5,0,1) )\n",
    "\n",
    "print(d2)"
   ]
  },
  {
   "cell_type": "markdown",
   "metadata": {
    "nbgrader": {
     "grade": false,
     "grade_id": "cell-ed4a3c4a15d0e206",
     "locked": true,
     "schema_version": 3,
     "solution": false,
     "task": false
    }
   },
   "source": [
    "Let's pick just a single row in the table -- the third row. The entries in this row tell us  that $P(x = 1) = 0.2$, that  $P(y = 2 | x = 1) = 0.1$, and that  $P(z = 1|x = 1, y = 2) = 0.5$.  We've introduced some redundancy here --- for example, the first four rows all have $x = 1$ which means that `p_x` is identical for all four rows. \n",
    "\n",
    "Note that columns `p_x`, `p_y_given_x` and  `p_z_given_x_y` do NOT specify probability distributions over the 8 rows of the table -- for a start, they do not sum to 1.\n",
    "\n",
    "The handout for Week 1 (available on Canvas) includes an equation for the Chain Rule that covers the two variable case. We can use a similar idea here to compute the joint distribution over the three variables `x`, `y` and `z`.\n",
    "\n",
    "### Exercise 10 (1 point)\n",
    "\n",
    "Add a column `p_x_y_z` to `d2` that specifies a joint distribution over the 8 possible settings of the three variables."
   ]
  },
  {
   "cell_type": "code",
   "execution_count": 21,
   "metadata": {
    "nbgrader": {
     "grade": false,
     "grade_id": "cell-798077ba9a0e7eff",
     "locked": false,
     "schema_version": 3,
     "solution": true,
     "task": false
    }
   },
   "outputs": [],
   "source": [
    "d2 <- d2  %>% \n",
    "### BEGIN SOLUTION\n",
    "    mutate(p_x_y_z = p_x * p_y_given_x * p_z_given_x_y)\n",
    "### END SOLUTION"
   ]
  },
  {
   "cell_type": "code",
   "execution_count": 22,
   "metadata": {
    "nbgrader": {
     "grade": true,
     "grade_id": "cell-747d28eacce699bf",
     "locked": true,
     "points": 1,
     "schema_version": 3,
     "solution": false,
     "task": false
    }
   },
   "outputs": [],
   "source": [
    "expect_that(sum(d2$p_x_y_z), equals(1))\n",
    "### BEGIN HIDDEN TESTS\n",
    "d2_sorted <- d2  %>% arrange(x,y,z)\n",
    "expect_that(d2$p_x_y_z, equals(c(0.18, 0, 0.01, 0.01, 0.04, 0.04, 0, 0.72)))\n",
    "### END HIDDEN TESTS"
   ]
  },
  {
   "cell_type": "markdown",
   "metadata": {
    "nbgrader": {
     "grade": false,
     "grade_id": "cell-9614120449c7751b",
     "locked": true,
     "schema_version": 3,
     "solution": false,
     "task": false
    }
   },
   "source": [
    "Now that we've computed the joint distribution, we can use it to compute distributions over any subset of variables given observations over any other subset of variables. We'll do just one example.\n",
    "\n",
    "### Exercise 11 (1 point)\n",
    "\n",
    "What's $P(x=2|z=2)$, or the probability that x = 2 given that z = 2?"
   ]
  },
  {
   "cell_type": "code",
   "execution_count": 23,
   "metadata": {
    "nbgrader": {
     "grade": false,
     "grade_id": "cell-80d6080e03ba9de2",
     "locked": false,
     "schema_version": 3,
     "solution": true,
     "task": false
    }
   },
   "outputs": [],
   "source": [
    "p_x2_given_z2 <- \n",
    "### BEGIN SOLUTION\n",
    "    d2  %>% \n",
    "    filter(z==2)  %>% \n",
    "    mutate(p_z2 = sum(sum(p_x_y_z)))  %>% \n",
    "    filter(x==2)  %>% \n",
    "    mutate(p_x2_z2 = sum(p_x_y_z))  %>% \n",
    "    mutate(p_x2_given_z2 = p_x2_z2/p_z2) %>%\n",
    "    pull(p_x2_given_z2)  %>% \n",
    "    first()\n",
    "### END SOLUTION"
   ]
  },
  {
   "cell_type": "code",
   "execution_count": 24,
   "metadata": {
    "nbgrader": {
     "grade": true,
     "grade_id": "cell-9a0236b2b8daaba3",
     "locked": true,
     "points": 1,
     "schema_version": 3,
     "solution": false,
     "task": false
    }
   },
   "outputs": [],
   "source": [
    "# this cell contains some hidden tests! You can leave it empty except for this comment\n",
    "### BEGIN HIDDEN TESTS\n",
    "expect_that(p_x2_given_z2, equals(0.987013, tolerance=1e-4))\n",
    "### END HIDDEN TESTS"
   ]
  }
 ],
 "metadata": {
  "anaconda-cloud": "",
  "celltoolbar": "Create Assignment",
  "kernelspec": {
   "display_name": "R",
   "language": "R",
   "name": "ir"
  },
  "language_info": {
   "codemirror_mode": "r",
   "file_extension": ".r",
   "mimetype": "text/x-r-source",
   "name": "R",
   "pygments_lexer": "r",
   "version": "4.1.0"
  }
 },
 "nbformat": 4,
 "nbformat_minor": 1
}
