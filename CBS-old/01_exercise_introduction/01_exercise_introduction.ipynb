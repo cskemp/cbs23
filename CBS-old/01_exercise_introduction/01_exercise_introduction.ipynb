{
 "cells": [
  {
   "cell_type": "markdown",
   "metadata": {
    "deletable": false,
    "editable": false,
    "nbgrader": {
     "cell_type": "markdown",
     "checksum": "e999abd1bab42ea4a8105d26172afdea",
     "grade": false,
     "grade_id": "cell-84b67070ad409557",
     "locked": true,
     "schema_version": 3,
     "solution": false,
     "task": false
    }
   },
   "source": [
    "# CBS Week 1 Exercise: Jupyter Notebooks and Basic Probability\n"
   ]
  },
  {
   "cell_type": "code",
   "execution_count": 1,
   "metadata": {
    "deletable": false,
    "editable": false,
    "nbgrader": {
     "cell_type": "code",
     "checksum": "b3e51cf85dc1d6703fad48c005c7f248",
     "grade": false,
     "grade_id": "cell-17a4fb7156cee4c7",
     "locked": true,
     "schema_version": 3,
     "solution": false,
     "task": false
    }
   },
   "outputs": [],
   "source": [
    "suppressPackageStartupMessages({\n",
    "    library(tidyverse)\n",
    "    library(testthat)\n",
    "    library(knitr)\n",
    "    library(kableExtra)\n",
    "    library(IRdisplay)  \n",
    "})"
   ]
  },
  {
   "cell_type": "markdown",
   "metadata": {
    "deletable": false,
    "editable": false,
    "nbgrader": {
     "cell_type": "markdown",
     "checksum": "aab0e4c2ed032100137573e2e696a0a7",
     "grade": false,
     "grade_id": "cell-30c36b6c00235753",
     "locked": true,
     "schema_version": 3,
     "solution": false,
     "task": false
    }
   },
   "source": [
    "A FAQ will be maintained for each notebook, and you can find the FAQ for this exercise by clicking the \"Modules\" tab on Canvas. If you have a question, please check the FAQ to see if your question has already been addressed. If it hasn't been addressed, please post your question to the \"Week 1 Exercise\" discussion thread on the Canvas Discussion board. Almost all class-related questions should be posted to the discussion board instead of sent to the instructors directly --- that way everyone in the class can see the responses. If you see a question on the Discussion board that you're able to answer, please jump in and do so.\n",
    "\n",
    "## Introduction to Jupyter Notebooks\n",
    "\n",
    "Future assignments and tutorials will take the form of Jupyter notebooks like this one. Typically you'll be asked to edit some of the code chunks and to add text in response to short answer questions. This introductory notebook will be graded automatically but the grade will not count. Completing and submitting the notebook, however, will get you ready for next week's tutorial and the notebooks to come.\n",
    "\n",
    "Notebooks may include questions that ask for a free-text response. For example:"
   ]
  },
  {
   "cell_type": "markdown",
   "metadata": {
    "deletable": false,
    "editable": false,
    "nbgrader": {
     "cell_type": "markdown",
     "checksum": "5bf232038ab48ebaf252b7ee7cfc7a1a",
     "grade": false,
     "grade_id": "cell-cdb9de9629872aeb",
     "locked": true,
     "points": 0,
     "schema_version": 3,
     "solution": false,
     "task": true
    }
   },
   "source": [
    "### Exercise 1 (0 points)\n",
    "\n",
    "Name one way in which human brains are superior to the best current digital electronic computers. Provide your answer in the cell immediately below this one.\n"
   ]
  },
  {
   "cell_type": "markdown",
   "metadata": {
    "deletable": false,
    "nbgrader": {
     "cell_type": "markdown",
     "checksum": "203fb889317ad79ec33b4fff6106d43b",
     "grade": true,
     "grade_id": "cell-95d577de8bb7e76c",
     "locked": false,
     "points": 0,
     "schema_version": 3,
     "solution": true,
     "task": false
    }
   },
   "source": [
    "YOUR ANSWER HERE"
   ]
  },
  {
   "cell_type": "markdown",
   "metadata": {
    "deletable": false,
    "editable": false,
    "nbgrader": {
     "cell_type": "markdown",
     "checksum": "f5312d3667a5bbe46c23d6e18d13a5a1",
     "grade": false,
     "grade_id": "cell-3a0a6db78d2674fd",
     "locked": true,
     "schema_version": 3,
     "solution": false,
     "task": false
    }
   },
   "source": [
    "Notebooks may also include questions that ask you to write or edit some code. For example:\n",
    "\n",
    "### Exercise 2 (1 point)\n",
    "\n",
    "Complete the definition of a function `add_pair` that returns the sum of two numbers."
   ]
  },
  {
   "cell_type": "code",
   "execution_count": null,
   "metadata": {
    "deletable": false,
    "nbgrader": {
     "cell_type": "code",
     "checksum": "418760d1014e05f4577eb125e5151ba6",
     "grade": false,
     "grade_id": "cell-32136b2aad56eb90",
     "locked": false,
     "schema_version": 3,
     "solution": true,
     "task": false
    }
   },
   "outputs": [],
   "source": [
    "add_pair <- function(a,b){\n",
    "    # YOUR CODE HERE\n",
    "    stop('No Answer Given!')\n",
    "}"
   ]
  },
  {
   "cell_type": "markdown",
   "metadata": {
    "deletable": false,
    "editable": false,
    "nbgrader": {
     "cell_type": "markdown",
     "checksum": "0d8d804d067477b6563dd641c4ee4031",
     "grade": false,
     "grade_id": "cell-a656baf4c1019133",
     "locked": true,
     "schema_version": 3,
     "solution": false,
     "task": false
    }
   },
   "source": [
    "Some coding questions will be automatically graded. For example, the automatic grader might check that your `add_pair` function produces the right answers on a couple of examples. The tests here are formulated using the `testthat` package."
   ]
  },
  {
   "cell_type": "code",
   "execution_count": null,
   "metadata": {
    "deletable": false,
    "editable": false,
    "nbgrader": {
     "cell_type": "code",
     "checksum": "5b7662bed941a32df0e748c9908bf395",
     "grade": true,
     "grade_id": "cell-66187dd404b05458",
     "locked": true,
     "points": 1,
     "schema_version": 3,
     "solution": false,
     "task": false
    }
   },
   "outputs": [],
   "source": [
    "expect_that(add_pair(1,4), equals(5))\n",
    "expect_that(add_pair(-100,-8), equals(-108))"
   ]
  },
  {
   "cell_type": "markdown",
   "metadata": {
    "deletable": false,
    "editable": false,
    "nbgrader": {
     "cell_type": "markdown",
     "checksum": "17e9fbc1f950ac15cf7f2b9adbe8d794",
     "grade": false,
     "grade_id": "cell-b01c5d68808699ed",
     "locked": true,
     "schema_version": 3,
     "solution": false,
     "task": false
    }
   },
   "source": [
    "Often the tests will be hidden. For example, here's a completely unfair question that we would never ask."
   ]
  },
  {
   "cell_type": "markdown",
   "metadata": {
    "deletable": false,
    "editable": false,
    "nbgrader": {
     "cell_type": "markdown",
     "checksum": "8af6352c2e8e2fece63f8080b193521e",
     "grade": false,
     "grade_id": "cell-3ec40589600fd824",
     "locked": true,
     "schema_version": 3,
     "solution": false,
     "task": false
    }
   },
   "source": [
    "### Exercise 3 (1 point)\n",
    "I'm thinking of an integer `x` between 1 and 1,000,000. What is `x`?"
   ]
  },
  {
   "cell_type": "code",
   "execution_count": null,
   "metadata": {
    "deletable": false,
    "nbgrader": {
     "cell_type": "code",
     "checksum": "6a3ea1f4ed39448fce173e6dc4232089",
     "grade": false,
     "grade_id": "cell-59a3e4a10fe8f7fa",
     "locked": false,
     "schema_version": 3,
     "solution": true,
     "task": false
    }
   },
   "outputs": [],
   "source": [
    "x <-\n",
    "    # YOUR CODE HERE\n",
    "    stop('No Answer Given!')"
   ]
  },
  {
   "cell_type": "markdown",
   "metadata": {
    "deletable": false,
    "editable": false,
    "nbgrader": {
     "cell_type": "markdown",
     "checksum": "edca59c17bc8a3b652c4d6e0cddb73f1",
     "grade": false,
     "grade_id": "cell-aa76c5832e2fbae1",
     "locked": true,
     "schema_version": 3,
     "solution": false,
     "task": false
    }
   },
   "source": [
    "Here's one test that your solution should pass. "
   ]
  },
  {
   "cell_type": "code",
   "execution_count": null,
   "metadata": {
    "deletable": false,
    "editable": false,
    "nbgrader": {
     "cell_type": "code",
     "checksum": "c47e85fa90dad6b5e7b35f37cab7294f",
     "grade": true,
     "grade_id": "cell-9fffd71e768b9864",
     "locked": true,
     "points": 1,
     "schema_version": 3,
     "solution": false,
     "task": false
    }
   },
   "outputs": [],
   "source": [
    "expect_that(x>0, equals(TRUE))"
   ]
  },
  {
   "cell_type": "markdown",
   "metadata": {
    "deletable": false,
    "editable": false,
    "nbgrader": {
     "cell_type": "markdown",
     "checksum": "d97835edc6237699573fcaf74e114e8a",
     "grade": false,
     "grade_id": "cell-aa76c5832e2fbae2",
     "locked": true,
     "schema_version": 3,
     "solution": false,
     "task": false
    }
   },
   "source": [
    "But there's also a hidden test that you're not seeing which checks whether your guess matches the true value of `x`. Unless you're very lucky your solution will fail this test (but don't worry -- this notebook doesn't count for anything!)\n",
    "\n",
    "After you've finished working through the notebook, try \"validating\" the notebook by pressing the Validate button in the toolbar above. The validation process checks that your code passes all of the *visible* tests but doesn't consider the hidden tests. So just because the notebook validates doesn't mean that all of your answers are correct. "
   ]
  },
  {
   "cell_type": "markdown",
   "metadata": {
    "deletable": false,
    "editable": false,
    "nbgrader": {
     "cell_type": "markdown",
     "checksum": "7c913fb0e488bda6679e4b610f97c70e",
     "grade": false,
     "grade_id": "cell-2c8e1e3cd62047cd",
     "locked": true,
     "schema_version": 3,
     "solution": false,
     "task": false
    }
   },
   "source": [
    "The remaining sections of this notebook introduce or review some things that will be useful for the module on probabilistic models of cognition. Programming in R should be familiar to all of the psychology students but may be less familiar to some others. On the other hand, the section on probability theory will probably be familiar to those of you with a technical background but may be less familiar to some of the psychology students. \n",
    "\n",
    "\n",
    "## Programming in R\n",
    "\n",
    "We'll be assuming that you are fairly familiar with R and the tidyverse. The required background roughly corresponds to the material in the opening 4 sections of \"Working with Data\" from Danielle Navarro's [R for Psychological Science]( https://psyr.djnavarro.net/index.html ). These sections are called \n",
    "\n",
    "* [Prelude to Data]( https://psyr.djnavarro.net/prelude-to-data.html) \n",
    "* [Data Types]( https://psyr.djnavarro.net/data-types.html )\n",
    "* [Describing Data](  https://psyr.djnavarro.net/describing-data.html )\n",
    "* [Visualizing Data]( https://psyr.djnavarro.net/visualising-data.html )\n",
    "\n",
    "Psychology students should already have this background by virtue of completing Andy Perfors' version of PSYC30013 (Research Methods for Human Inquiry). If you're not a psychology student, our assumption is that you're already familiar with at least one programming language, and should therefore be able to pick up R mostly on your own. We're happy to help, of course, if you run into problems, and posting to the discussion board or asking your tutor during tutorials are the best ways to seek advice.\n",
    "\n",
    "\n",
    "## Probability Theory\n",
    "\n",
    "Let's set up a joint distribution over three binary variables. Each variable takes one of two possible values (1 or 2), and because there are 3 variables there are 8 possible settings of the variables. We'll directly specify a joint probability distribution `P(x,y,z)` over these settings."
   ]
  },
  {
   "cell_type": "code",
   "execution_count": null,
   "metadata": {
    "deletable": false,
    "editable": false,
    "nbgrader": {
     "cell_type": "code",
     "checksum": "eed5224a5496087f38e9b7492c05224b",
     "grade": false,
     "grade_id": "cell-77cdd3a0e36f6f81",
     "locked": true,
     "schema_version": 3,
     "solution": false,
     "task": false
    }
   },
   "outputs": [],
   "source": [
    "d1 <- tibble(x = c(1,1,1,1,2,2,2,2), \n",
    "             y = c(1,1,2,2,1,1,2,2), \n",
    "             z = c(1,2,1,2,1,2,1,2), \n",
    "             p_x_y_z = c(0.3, 0.25, 0.2, 0.1, 0.05, 0.05, 0.03, 0.02) )\n",
    "\n",
    "print(d1)"
   ]
  },
  {
   "cell_type": "markdown",
   "metadata": {
    "deletable": false,
    "editable": false,
    "nbgrader": {
     "cell_type": "markdown",
     "checksum": "bbde47a7a07d9b3093ff66933fc16393",
     "grade": false,
     "grade_id": "cell-40ffb5d475db0428",
     "locked": true,
     "points": 0,
     "schema_version": 3,
     "solution": false,
     "task": true
    }
   },
   "source": [
    "\n",
    "### Exercise 4 (0 points)\n",
    "\n",
    "To make sense as a probability distribution `d1$p_x_y_z` needs to sum to 1 -- please check that this condition is satisfied. Provide your answer by writing some code in the next cell.\n"
   ]
  },
  {
   "cell_type": "code",
   "execution_count": null,
   "metadata": {
    "deletable": false,
    "nbgrader": {
     "cell_type": "code",
     "checksum": "1402d805cb9fc2fdd1ce88d59a703bbb",
     "grade": true,
     "grade_id": "cell-3faf36334e6fa243",
     "locked": false,
     "points": 0,
     "schema_version": 3,
     "solution": true,
     "task": false
    }
   },
   "outputs": [],
   "source": [
    "# YOUR CODE HERE\n",
    "stop('No Answer Given!')"
   ]
  },
  {
   "cell_type": "markdown",
   "metadata": {
    "deletable": false,
    "editable": false,
    "nbgrader": {
     "cell_type": "markdown",
     "checksum": "c412a011dac978f4d77781adc3cc55f4",
     "grade": false,
     "grade_id": "cell-8ca46c50b736f120",
     "locked": true,
     "schema_version": 3,
     "solution": false,
     "task": false
    }
   },
   "source": [
    "Having the joint distribution `d1` allows you to compute distributions over any subset of variables given observations over any other subset of variables. We'll try a few examples.\n",
    "\n",
    "### Exercise 5 (1 point)\n",
    "What's the probability that x, y and z all equal 2? We'll use `p_x2_y2_z2` to denote $P(x=2,y=2,z=2)$. For this and all remaining questions you can either write code to compute the answer or figure things out by hand and just define the relevant variable (here `p_x2_y2_z2`) to have the correct value."
   ]
  },
  {
   "cell_type": "code",
   "execution_count": null,
   "metadata": {
    "deletable": false,
    "nbgrader": {
     "cell_type": "code",
     "checksum": "97cb058398ec2e7255ea7c4ab6a400ea",
     "grade": false,
     "grade_id": "cell-5307472b1f6b3182",
     "locked": false,
     "schema_version": 3,
     "solution": true,
     "task": false
    }
   },
   "outputs": [],
   "source": [
    "# compute P(x=2,y=2,z=2)\n",
    "p_x2_y2_z2 <-\n",
    "# YOUR CODE HERE\n",
    "stop('No Answer Given!')"
   ]
  },
  {
   "cell_type": "code",
   "execution_count": null,
   "metadata": {
    "deletable": false,
    "editable": false,
    "nbgrader": {
     "cell_type": "code",
     "checksum": "45e06c82a1cff7aa48be4884f79acabe",
     "grade": true,
     "grade_id": "cell-0c3de2439738b216",
     "locked": true,
     "points": 1,
     "schema_version": 3,
     "solution": false,
     "task": false
    }
   },
   "outputs": [],
   "source": [
    "# this cell contains some hidden tests! You can leave it empty except for this comment"
   ]
  },
  {
   "cell_type": "markdown",
   "metadata": {
    "deletable": false,
    "editable": false,
    "nbgrader": {
     "cell_type": "markdown",
     "checksum": "8dd7c676e61d801c14770ad322ecea81",
     "grade": false,
     "grade_id": "cell-95104f328aeeb4c1",
     "locked": true,
     "schema_version": 3,
     "solution": false,
     "task": false
    }
   },
   "source": [
    "The handout for Week 1 includes equations for Marginalization and Conditional Probability that apply when there are just two variables `a` and `b`. Let's try out similar ideas for the three variable case.\n",
    "\n",
    "\n",
    "### Exercise 6 (1 point)\n",
    "What's $P(z=2)$, or the probability that z equals 2? We'll use `p_z2` to denote this probability."
   ]
  },
  {
   "cell_type": "code",
   "execution_count": null,
   "metadata": {
    "deletable": false,
    "nbgrader": {
     "cell_type": "code",
     "checksum": "23c17bff01920eefe7be849150f42c01",
     "grade": false,
     "grade_id": "cell-2c5649ea8976033b",
     "locked": false,
     "schema_version": 3,
     "solution": true,
     "task": false
    }
   },
   "outputs": [],
   "source": [
    "# compute P(z = 2)\n",
    "p_z2 <-\n",
    "# YOUR CODE HERE\n",
    "stop('No Answer Given!')"
   ]
  },
  {
   "cell_type": "code",
   "execution_count": null,
   "metadata": {
    "deletable": false,
    "editable": false,
    "nbgrader": {
     "cell_type": "code",
     "checksum": "e83344f5a66829c25203f28afc27177f",
     "grade": true,
     "grade_id": "cell-4918b0de17357819",
     "locked": true,
     "points": 1,
     "schema_version": 3,
     "solution": false,
     "task": false
    }
   },
   "outputs": [],
   "source": [
    "# this cell contains some hidden tests! You can leave it empty except for this comment"
   ]
  },
  {
   "cell_type": "markdown",
   "metadata": {
    "deletable": false,
    "editable": false,
    "nbgrader": {
     "cell_type": "markdown",
     "checksum": "cf3aa06cd44fd37150bf8d95133ee280",
     "grade": false,
     "grade_id": "cell-d59bb1455c695f0a",
     "locked": true,
     "schema_version": 3,
     "solution": false,
     "task": false
    }
   },
   "source": [
    "### Exercise 7 (1 point)\n",
    "What's $P(x=2,y=2)$, or the probability that x and y both equal 2? "
   ]
  },
  {
   "cell_type": "code",
   "execution_count": null,
   "metadata": {
    "deletable": false,
    "nbgrader": {
     "cell_type": "code",
     "checksum": "fe1aef04f210f918a4c4fde5cdf16798",
     "grade": false,
     "grade_id": "cell-ac07e20e3e08d093",
     "locked": false,
     "schema_version": 3,
     "solution": true,
     "task": false
    }
   },
   "outputs": [],
   "source": [
    "# compute P(x = 2, y = 2)\n",
    "p_x2_y2 <-\n",
    "# YOUR CODE HERE\n",
    "stop('No Answer Given!')"
   ]
  },
  {
   "cell_type": "code",
   "execution_count": null,
   "metadata": {
    "deletable": false,
    "editable": false,
    "nbgrader": {
     "cell_type": "code",
     "checksum": "55ea420480f8832da36c1b254bd5662a",
     "grade": true,
     "grade_id": "cell-39cbf625fe6c19d1",
     "locked": true,
     "points": 1,
     "schema_version": 3,
     "solution": false,
     "task": false
    }
   },
   "outputs": [],
   "source": [
    "# this cell contains some hidden tests! You can leave it empty except for this comment"
   ]
  },
  {
   "cell_type": "markdown",
   "metadata": {
    "deletable": false,
    "editable": false,
    "nbgrader": {
     "cell_type": "markdown",
     "checksum": "f1c89df5ae3d0abea74bd3fc2e814f55",
     "grade": false,
     "grade_id": "cell-f55c42a4166451ad",
     "locked": true,
     "schema_version": 3,
     "solution": false,
     "task": false
    }
   },
   "source": [
    "### Exercise 8 (1 point)\n",
    "What's $P(z=2|x=2,y=2)$, or the probability that z=2 given that x and y both equal 2? We'll use `p_z2_given_x2_y2` as the variable name for this conditional probability."
   ]
  },
  {
   "cell_type": "code",
   "execution_count": null,
   "metadata": {
    "deletable": false,
    "nbgrader": {
     "cell_type": "code",
     "checksum": "242219880362241a96e06bf34dfac3fa",
     "grade": false,
     "grade_id": "cell-52315b903a35e73d",
     "locked": false,
     "schema_version": 3,
     "solution": true,
     "task": false
    }
   },
   "outputs": [],
   "source": [
    "# compute P(z=2|x=2, y=2)\n",
    "p_z2_given_x2_y2 <-\n",
    "# YOUR CODE HERE\n",
    "stop('No Answer Given!')"
   ]
  },
  {
   "cell_type": "code",
   "execution_count": null,
   "metadata": {
    "deletable": false,
    "editable": false,
    "nbgrader": {
     "cell_type": "code",
     "checksum": "943d9a6003da02f890dac43ca7d92d60",
     "grade": true,
     "grade_id": "cell-d7e6ec704f86e4c8",
     "locked": true,
     "points": 1,
     "schema_version": 3,
     "solution": false,
     "task": false
    }
   },
   "outputs": [],
   "source": [
    "# this cell contains some hidden tests! You can leave it empty except for this comment"
   ]
  },
  {
   "cell_type": "markdown",
   "metadata": {
    "deletable": false,
    "editable": false,
    "nbgrader": {
     "cell_type": "markdown",
     "checksum": "5a4ec4aadf672d635401dda0881d2fbc",
     "grade": false,
     "grade_id": "cell-2e802d8a771a43d3",
     "locked": true,
     "schema_version": 3,
     "solution": false,
     "task": false
    }
   },
   "source": [
    "### Exercise 9 (2 points)\n",
    "What's $P(z=2|x=2)$, or the probability that z equals 2 given that x equals 2?"
   ]
  },
  {
   "cell_type": "code",
   "execution_count": null,
   "metadata": {
    "deletable": false,
    "nbgrader": {
     "cell_type": "code",
     "checksum": "cb28a9234f96adfc5f71e2960d686fa1",
     "grade": false,
     "grade_id": "cell-9d001d82bea17c93",
     "locked": false,
     "schema_version": 3,
     "solution": true,
     "task": false
    }
   },
   "outputs": [],
   "source": [
    "# compute P(z=2|x=2)\n",
    "p_z2_given_x2 <-\n",
    "# YOUR CODE HERE\n",
    "stop('No Answer Given!')"
   ]
  },
  {
   "cell_type": "code",
   "execution_count": null,
   "metadata": {
    "deletable": false,
    "editable": false,
    "nbgrader": {
     "cell_type": "code",
     "checksum": "bbcfa2faca298cc125bb774512448535",
     "grade": true,
     "grade_id": "cell-462a6331947fb19a",
     "locked": true,
     "points": 2,
     "schema_version": 3,
     "solution": false,
     "task": false
    }
   },
   "outputs": [],
   "source": [
    "# this cell contains some hidden tests! You can leave it empty except for this comment"
   ]
  },
  {
   "cell_type": "markdown",
   "metadata": {
    "deletable": false,
    "editable": false,
    "nbgrader": {
     "cell_type": "markdown",
     "checksum": "00c17d43cfdf96a3388705047920694b",
     "grade": false,
     "grade_id": "cell-403769af570610cf",
     "locked": true,
     "schema_version": 3,
     "solution": false,
     "task": false
    }
   },
   "source": [
    "Now let's think about another distribution on three variables x, y and z. This time we're not explicitly given the joint distribution `P(x,y,z)` -- instead we are given the distributions `P(x)`, `P(y|x)`, and `P(z|x,y)`.\n",
    "\n",
    "Here's the distribution `P(x)`:\n"
   ]
  },
  {
   "cell_type": "code",
   "execution_count": null,
   "metadata": {
    "deletable": false,
    "editable": false,
    "nbgrader": {
     "cell_type": "code",
     "checksum": "6a11762272cc2fd9a98271de74e07062",
     "grade": false,
     "grade_id": "cell-45add96509cc0ed9",
     "locked": true,
     "schema_version": 3,
     "solution": false,
     "task": false
    }
   },
   "outputs": [],
   "source": [
    "xtab <- tibble(`P(x=1)` = c(0.2), `P(x=2)` = c(0.8) )  \n",
    "kable(xtab, \"html\", align=\"cc\")  %>% \n",
    "    as.character()  %>% \n",
    "    display_html()\n"
   ]
  },
  {
   "cell_type": "markdown",
   "metadata": {
    "deletable": false,
    "editable": false,
    "nbgrader": {
     "cell_type": "markdown",
     "checksum": "23b11308638c41a34e4b30084a6ba0e3",
     "grade": false,
     "grade_id": "cell-17e6b74a80ba96fd",
     "locked": true,
     "schema_version": 3,
     "solution": false,
     "task": false
    }
   },
   "source": [
    "Here's the conditional probability distribution `P(y|x)`:"
   ]
  },
  {
   "cell_type": "code",
   "execution_count": null,
   "metadata": {
    "deletable": false,
    "editable": false,
    "nbgrader": {
     "cell_type": "code",
     "checksum": "4a3cc05336cc7e89e3c9ee73b41da5f4",
     "grade": false,
     "grade_id": "cell-faaac4831587b87b",
     "locked": true,
     "schema_version": 3,
     "solution": false,
     "task": false
    }
   },
   "outputs": [],
   "source": [
    "ytab <- tibble(x = c(1,2), `P(y=1|x)` = c(0.9,0.1), `P(y=2|x)` = c(0.1,0.9) )\n",
    "kable(ytab, \"html\", align=\"ccc\")  %>% \n",
    "    as.character()  %>% \n",
    "    display_html()"
   ]
  },
  {
   "cell_type": "markdown",
   "metadata": {
    "deletable": false,
    "editable": false,
    "nbgrader": {
     "cell_type": "markdown",
     "checksum": "ea97be5a95f27421951f160e2d91cdbe",
     "grade": false,
     "grade_id": "cell-60d57fb71063dd66",
     "locked": true,
     "points": 0,
     "schema_version": 3,
     "solution": false,
     "task": true
    }
   },
   "source": [
    "And here's the conditional probability distribution `P(z|x,y)`:"
   ]
  },
  {
   "cell_type": "code",
   "execution_count": null,
   "metadata": {
    "deletable": false,
    "editable": false,
    "nbgrader": {
     "cell_type": "code",
     "checksum": "5fd80f06183c0811f4a73bd317c7fb9d",
     "grade": false,
     "grade_id": "cell-71c39b32b453598f",
     "locked": true,
     "schema_version": 3,
     "solution": false,
     "task": false
    }
   },
   "outputs": [],
   "source": [
    "ztab <- tibble(x = c(1,1,2,2), y = c(1,2,1,2), `P(z=1|x,y)` = c(1,0.5,0.5,0), `P(z=2|x,y)` = c(0,0.5,0.5,1) )\n",
    "kable(ztab, \"html\", align=\"cccc\")  %>% \n",
    "    as.character()  %>% \n",
    "    display_html()"
   ]
  },
  {
   "cell_type": "markdown",
   "metadata": {
    "deletable": false,
    "editable": false,
    "nbgrader": {
     "cell_type": "markdown",
     "checksum": "a76b7cab126cdf9b548c5ed18ae5e89d",
     "grade": false,
     "grade_id": "cell-8219161b5ad5894f",
     "locked": true,
     "schema_version": 3,
     "solution": false,
     "task": false
    }
   },
   "source": [
    "We can combine these three elements into a larger table `d2` as follows."
   ]
  },
  {
   "cell_type": "code",
   "execution_count": null,
   "metadata": {
    "deletable": false,
    "editable": false,
    "nbgrader": {
     "cell_type": "code",
     "checksum": "71fa30a241811686fe93b9a790e2db4c",
     "grade": false,
     "grade_id": "cell-b0ecbc87e62d91fb",
     "locked": true,
     "schema_version": 3,
     "solution": false,
     "task": false
    }
   },
   "outputs": [],
   "source": [
    "d2 <- tibble(x = c(1,1,1,1,2,2,2,2), \n",
    "             y = c(1,1,2,2,1,1,2,2), \n",
    "             z = c(1,2,1,2,1,2,1,2), \n",
    "             p_x = c(0.2, 0.2, 0.2, 0.2, 0.8, 0.8, 0.8, 0.8),\n",
    "             p_y_given_x = c(0.9, 0.9, 0.1, 0.1, 0.1, 0.1, 0.9, 0.9), \n",
    "             p_z_given_x_y = c(1,0,0.5, 0.5,0.5,0.5,0,1) )\n",
    "\n",
    "print(d2)"
   ]
  },
  {
   "cell_type": "markdown",
   "metadata": {
    "deletable": false,
    "editable": false,
    "nbgrader": {
     "cell_type": "markdown",
     "checksum": "b773a916bcd175a7982e545d9287be34",
     "grade": false,
     "grade_id": "cell-ed4a3c4a15d0e206",
     "locked": true,
     "schema_version": 3,
     "solution": false,
     "task": false
    }
   },
   "source": [
    "Let's pick just a single row in the table -- the third row. The entries in this row tell us  that $P(x = 1) = 0.2$, that  $P(y = 2 | x = 1) = 0.1$, and that  $P(z = 1|x = 1, y = 2) = 0.5$.  We've introduced some redundancy here --- for example, the first four rows all have $x = 1$ which means that `p_x` is identical for all four rows. \n",
    "\n",
    "Note that columns `p_x`, `p_y_given_x` and  `p_z_given_x_y` do NOT specify probability distributions over the 8 rows of the table -- for a start, they do not sum to 1.\n",
    "\n",
    "The handout for Week 1 (available on Canvas) includes an equation for the Chain Rule that covers the two variable case. We can use a similar idea here to compute the joint distribution over the three variables `x`, `y` and `z`.\n",
    "\n",
    "### Exercise 10 (1 point)\n",
    "\n",
    "Add a column `p_x_y_z` to `d2` that specifies a joint distribution over the 8 possible settings of the three variables."
   ]
  },
  {
   "cell_type": "code",
   "execution_count": null,
   "metadata": {
    "deletable": false,
    "nbgrader": {
     "cell_type": "code",
     "checksum": "27e216b5adef8ae80289267e87074746",
     "grade": false,
     "grade_id": "cell-798077ba9a0e7eff",
     "locked": false,
     "schema_version": 3,
     "solution": true,
     "task": false
    }
   },
   "outputs": [],
   "source": [
    "d2 <- d2  %>% \n",
    "# YOUR CODE HERE\n",
    "stop('No Answer Given!')"
   ]
  },
  {
   "cell_type": "code",
   "execution_count": null,
   "metadata": {
    "deletable": false,
    "editable": false,
    "nbgrader": {
     "cell_type": "code",
     "checksum": "3b0c963885b0a2a93ee31e316c5db44c",
     "grade": true,
     "grade_id": "cell-747d28eacce699bf",
     "locked": true,
     "points": 1,
     "schema_version": 3,
     "solution": false,
     "task": false
    }
   },
   "outputs": [],
   "source": [
    "expect_that(sum(d2$p_x_y_z), equals(1))"
   ]
  },
  {
   "cell_type": "markdown",
   "metadata": {
    "deletable": false,
    "editable": false,
    "nbgrader": {
     "cell_type": "markdown",
     "checksum": "a96cbd220dc04f18f1cc681f6c85b27b",
     "grade": false,
     "grade_id": "cell-9614120449c7751b",
     "locked": true,
     "schema_version": 3,
     "solution": false,
     "task": false
    }
   },
   "source": [
    "Now that we've computed the joint distribution, we can use it to compute distributions over any subset of variables given observations over any other subset of variables. We'll do just one example.\n",
    "\n",
    "### Exercise 11 (1 point)\n",
    "\n",
    "What's $P(x=2|z=2)$, or the probability that x = 2 given that z = 2?"
   ]
  },
  {
   "cell_type": "code",
   "execution_count": null,
   "metadata": {
    "deletable": false,
    "nbgrader": {
     "cell_type": "code",
     "checksum": "29fd616889660f46428efdc84f9e67c0",
     "grade": false,
     "grade_id": "cell-80d6080e03ba9de2",
     "locked": false,
     "schema_version": 3,
     "solution": true,
     "task": false
    }
   },
   "outputs": [],
   "source": [
    "p_x2_given_z2 <- \n",
    "# YOUR CODE HERE\n",
    "stop('No Answer Given!')"
   ]
  },
  {
   "cell_type": "code",
   "execution_count": null,
   "metadata": {
    "deletable": false,
    "editable": false,
    "nbgrader": {
     "cell_type": "code",
     "checksum": "f6cfee9415ccac1c26dbcbce253b0664",
     "grade": true,
     "grade_id": "cell-9a0236b2b8daaba3",
     "locked": true,
     "points": 1,
     "schema_version": 3,
     "solution": false,
     "task": false
    }
   },
   "outputs": [],
   "source": [
    "# this cell contains some hidden tests! You can leave it empty except for this comment"
   ]
  }
 ],
 "metadata": {
  "anaconda-cloud": "",
  "kernelspec": {
   "display_name": "R",
   "language": "R",
   "name": "ir"
  },
  "language_info": {
   "codemirror_mode": "r",
   "file_extension": ".r",
   "mimetype": "text/x-r-source",
   "name": "R",
   "pygments_lexer": "r",
   "version": "4.1.0"
  }
 },
 "nbformat": 4,
 "nbformat_minor": 1
}
