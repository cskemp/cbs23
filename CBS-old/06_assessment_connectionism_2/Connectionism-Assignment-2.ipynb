{
 "cells": [
  {
   "cell_type": "markdown",
   "id": "092a4327",
   "metadata": {},
   "source": [
    "# CBS Week 6 Assignment: Connectionism"
   ]
  },
  {
   "cell_type": "code",
   "execution_count": null,
   "id": "e832e35a",
   "metadata": {
    "deletable": false,
    "editable": false,
    "nbgrader": {
     "cell_type": "code",
     "checksum": "b66cf708940d442318e7c07da6077c69",
     "grade": false,
     "grade_id": "cell-5fe1685deffbe508",
     "locked": true,
     "schema_version": 3,
     "solution": false,
     "task": false
    }
   },
   "outputs": [],
   "source": [
    "\n",
    "library(neuralnet)\n",
    "library(testthat)\n",
    "options(warn=-1)"
   ]
  },
  {
   "cell_type": "markdown",
   "id": "e6dfef31",
   "metadata": {
    "deletable": false,
    "editable": false,
    "nbgrader": {
     "cell_type": "markdown",
     "checksum": "18e9f2c8a2131fec70c1a209da9d043f",
     "grade": false,
     "grade_id": "cell-a858a6336e8fb603",
     "locked": true,
     "schema_version": 3,
     "solution": false,
     "task": false
    }
   },
   "source": [
    "This notebook is due at 3 pm on September 10th. An FAQ for this assignment will be maintained on Canvas, and you can find it on the page associated with Week 6. Please make sure that your notebook validates before you submit it --- if your notebook doesn't validate the automated grader may run into issues."
   ]
  },
  {
   "attachments": {
    "digits.PNG": {
     "image/png": "[encoded data removed]"
    }
   },
   "cell_type": "markdown",
   "id": "3925dee7",
   "metadata": {
    "deletable": false,
    "editable": false,
    "nbgrader": {
     "cell_type": "markdown",
     "checksum": "f1ceda79c15b41a95d955779d420d29d",
     "grade": false,
     "grade_id": "cell-7cf612aa3d769608",
     "locked": true,
     "schema_version": 3,
     "solution": false,
     "task": false
    }
   },
   "source": [
    "## Recognising Digits\n",
    "\n",
    "In this assessment, we are going to construct a neural network for recognising digits. To simplify, we will assume that our digits are presented on an old style calculator. Each digit is a subset of the segments in a figure 8:\n",
    "\n",
    "![digits.PNG](attachment:digits.PNG)\n",
    "\n"
   ]
  },
  {
   "attachments": {
    "digitcode.PNG": {
     "image/png": "[encoded data removed]"
    }
   },
   "cell_type": "markdown",
   "id": "063437e7",
   "metadata": {
    "deletable": false,
    "editable": false,
    "nbgrader": {
     "cell_type": "markdown",
     "checksum": "a8c4f70eb375b2fe5f4a6229fb2f699b",
     "grade": false,
     "grade_id": "cell-378cb61bb82c5e4a",
     "locked": true,
     "schema_version": 3,
     "solution": false,
     "task": false
    }
   },
   "source": [
    "We'll name the segments A through G as follows:\n",
    "\n",
    "![digitcode.PNG](attachment:digitcode.PNG)"
   ]
  },
  {
   "cell_type": "markdown",
   "id": "29ecc18c",
   "metadata": {
    "deletable": false,
    "editable": false,
    "nbgrader": {
     "cell_type": "markdown",
     "checksum": "7198a6937d2402fa37c110cd4409e531",
     "grade": false,
     "grade_id": "cell-2010770d1cd9eb0d",
     "locked": true,
     "schema_version": 3,
     "solution": false,
     "task": false
    }
   },
   "source": [
    "To create an input pattern corresponding to the segments of a given digit we set the active elements to 1 and the inactive elements to 0. For instance, if we are coding the digit 0 we would set all of the elements to 1 except for element G as it does not appear in the display for digit 0. So the input pattern for 0 would be 1 1 1 1 1 1 1 0.\n",
    "\n",
    "Now instead of having one output unit, we will have one unit corresponding to each digit. The first output pattern then is:\n",
    "\n",
    "1 0 0 0 0 0 0 0 0 0 \n",
    "\n",
    "The second output pattern would be:\n",
    "\n",
    "0 1 0 0 0 0 0 0 0 0\n",
    "\n",
    "and so on.\n",
    "\n",
    "We can create the required dataframe as follows:"
   ]
  },
  {
   "cell_type": "code",
   "execution_count": null,
   "id": "e80e8e54",
   "metadata": {
    "deletable": false,
    "editable": false,
    "nbgrader": {
     "cell_type": "code",
     "checksum": "e07e69b6589019e1c512e5175bf4097b",
     "grade": false,
     "grade_id": "cell-9a41f6feec279b71",
     "locked": true,
     "schema_version": 3,
     "solution": false,
     "task": false
    }
   },
   "outputs": [],
   "source": [
    "digits = data.frame(\"A\"  = c(1, 0, 0, 0, 1, 1, 1, 1, 1, 1),\n",
    "                    \"B\"  = c(1, 0, 1, 0, 0, 0, 1, 0, 1, 0),\n",
    "                    \"C\"  = c(1, 0, 1, 1, 0, 1, 1, 0, 1, 1),\n",
    "                    \"D\"  = c(1, 1, 0, 1, 1, 1, 1, 1, 1, 1),\n",
    "                    \"E\"  = c(1, 1, 1, 1, 1, 0, 0, 1, 1, 1),\n",
    "                    \"F\"  = c(1, 0, 1, 1, 0, 1, 1, 1, 1, 1),\n",
    "                    \"G\"  = c(0, 0, 1, 1, 1, 1, 1, 0, 1, 1),\n",
    "                    \"d0\" = c(1, 0, 0, 0, 0, 0, 0, 0, 0, 0),\n",
    "                    \"d1\" = c(0, 1, 0, 0, 0, 0, 0, 0, 0, 0),\n",
    "                    \"d2\" = c(0, 0, 1, 0, 0, 0, 0, 0, 0, 0),\n",
    "                    \"d3\" = c(0, 0, 0, 1, 0, 0, 0, 0, 0, 0),\n",
    "                    \"d4\" = c(0, 0, 0, 0, 1, 0, 0, 0, 0, 0),\n",
    "                    \"d5\" = c(0, 0, 0, 0, 0, 1, 0, 0, 0, 0),\n",
    "                    \"d6\" = c(0, 0, 0, 0, 0, 0, 1, 0, 0, 0),\n",
    "                    \"d7\" = c(0, 0, 0, 0, 0, 0, 0, 1, 0, 0),\n",
    "                    \"d8\" = c(0, 0, 0, 0, 0, 0, 0, 0, 1, 0),\n",
    "                    \"d9\" = c(0, 0, 0, 0, 0, 0, 0, 0, 0, 1))\n",
    "digits"
   ]
  },
  {
   "cell_type": "markdown",
   "id": "88479c01",
   "metadata": {
    "deletable": false,
    "editable": false,
    "nbgrader": {
     "cell_type": "markdown",
     "checksum": "d78424d5c16c5829101270945159f878",
     "grade": false,
     "grade_id": "cell-487faf48a1f47a55",
     "locked": true,
     "schema_version": 3,
     "solution": false,
     "task": false
    }
   },
   "source": [
    "## Question 1 (2 points)\n",
    "\n",
    "Now create a neural network with six hidden units and train it using the neuralnet function (note set the seed to 5 so that the results you get match the responses the automatic marker is looking for)."
   ]
  },
  {
   "cell_type": "code",
   "execution_count": null,
   "id": "8c858014",
   "metadata": {
    "deletable": false,
    "editable": false,
    "nbgrader": {
     "cell_type": "code",
     "checksum": "fbbd5ec12003abac08051c76adc959ce",
     "grade": false,
     "grade_id": "cell-b7120d3825e69d60",
     "locked": true,
     "schema_version": 3,
     "solution": false,
     "task": false
    }
   },
   "outputs": [],
   "source": [
    "set.seed(5)"
   ]
  },
  {
   "cell_type": "code",
   "execution_count": null,
   "id": "ea3eaebd",
   "metadata": {
    "deletable": false,
    "nbgrader": {
     "cell_type": "code",
     "checksum": "ebf72213db06fa43cebe808801628956",
     "grade": false,
     "grade_id": "cell-38b78cfe29061856",
     "locked": false,
     "schema_version": 3,
     "solution": true,
     "task": false
    }
   },
   "outputs": [],
   "source": [
    "# YOUR CODE HERE\n",
    "stop('No Answer Given!')"
   ]
  },
  {
   "cell_type": "code",
   "execution_count": null,
   "id": "16d623a0",
   "metadata": {
    "deletable": false,
    "editable": false,
    "nbgrader": {
     "cell_type": "code",
     "checksum": "35716f60bbe46027029c5cad9dc3fa51",
     "grade": true,
     "grade_id": "cell-e7a47da2e465fc28",
     "locked": true,
     "points": 2,
     "schema_version": 3,
     "solution": false,
     "task": false
    }
   },
   "outputs": [],
   "source": []
  },
  {
   "cell_type": "markdown",
   "id": "32fb8f04",
   "metadata": {
    "deletable": false,
    "editable": false,
    "nbgrader": {
     "cell_type": "markdown",
     "checksum": "a6f8f7e24d5ceb23d4bc287c946d3d41",
     "grade": false,
     "grade_id": "cell-a762d50d976a78dc",
     "locked": true,
     "schema_version": 3,
     "solution": false,
     "task": false
    }
   },
   "source": [
    "Wow! Even our relatively simple network has 118 weights! \n",
    "\n",
    "## Question 2 (2 points)\n",
    "\n",
    "Now test it to see if it has found a good solution by presenting the inputs and seeing what outputs the network produces."
   ]
  },
  {
   "cell_type": "code",
   "execution_count": null,
   "id": "53727799",
   "metadata": {
    "deletable": false,
    "nbgrader": {
     "cell_type": "code",
     "checksum": "fedbe6715ec8b277dc4a04c95f987b8b",
     "grade": false,
     "grade_id": "cell-5e275120ad7c4569",
     "locked": false,
     "schema_version": 3,
     "solution": true,
     "task": false
    }
   },
   "outputs": [],
   "source": [
    "# YOUR CODE HERE\n",
    "stop('No Answer Given!')"
   ]
  },
  {
   "cell_type": "code",
   "execution_count": null,
   "id": "f5e315dc",
   "metadata": {
    "deletable": false,
    "editable": false,
    "nbgrader": {
     "cell_type": "code",
     "checksum": "55218f9ddf3df07048d81916b44fa342",
     "grade": true,
     "grade_id": "cell-80b9046ad748be0c",
     "locked": true,
     "points": 2,
     "schema_version": 3,
     "solution": false,
     "task": false
    }
   },
   "outputs": [],
   "source": []
  },
  {
   "attachments": {
    "ambiguous_digits.PNG": {
     "image/png": "[encoded data removed]"
    }
   },
   "cell_type": "markdown",
   "id": "aa4f73f0",
   "metadata": {},
   "source": [
    "## Question 3 (3 points)\n",
    "\n",
    "Of course, recalling the patterns is nice, but where neural networks demonstrate their true power is when we give them inputs that they have never seen before. We would like them to make sensible generalisations - just like people do. To test our digit network, let's try presenting the following patterns and let's see what it thinks it is looking at:\n",
    "\n",
    "![ambiguous_digits.PNG](attachment:ambiguous_digits.PNG)\n",
    "\n",
    "Start by constructing a dataframe that includes the patterns for each of these input patterns and then present these patterns  to see what the network believes it is seeing. "
   ]
  },
  {
   "cell_type": "code",
   "execution_count": null,
   "id": "cb5c1802",
   "metadata": {
    "deletable": false,
    "nbgrader": {
     "cell_type": "code",
     "checksum": "a0a491afc13a2dbd0ea4979208b5d06a",
     "grade": false,
     "grade_id": "cell-11513aaf0305e922",
     "locked": false,
     "schema_version": 3,
     "solution": true,
     "task": false
    }
   },
   "outputs": [],
   "source": [
    "# YOUR CODE HERE\n",
    "stop('No Answer Given!')"
   ]
  },
  {
   "cell_type": "code",
   "execution_count": null,
   "id": "893459a8",
   "metadata": {
    "deletable": false,
    "editable": false,
    "nbgrader": {
     "cell_type": "code",
     "checksum": "ef22e5aa422d6ae4bfaa7f4d986151c1",
     "grade": true,
     "grade_id": "cell-870434bc58a57466",
     "locked": true,
     "points": 3,
     "schema_version": 3,
     "solution": false,
     "task": false
    }
   },
   "outputs": [],
   "source": []
  },
  {
   "cell_type": "markdown",
   "id": "b896b331",
   "metadata": {
    "deletable": false,
    "editable": false,
    "nbgrader": {
     "cell_type": "markdown",
     "checksum": "611a610f9d1f05544ae74463068bf794",
     "grade": false,
     "grade_id": "cell-ecc04c344a475c49",
     "locked": true,
     "points": 0,
     "schema_version": 3,
     "solution": false,
     "task": true
    }
   },
   "source": [
    "## Question 4 (3 points)\n",
    "\n",
    "The network has made some guesses at the digits. Why do you think it has produced the responses it has?\n"
   ]
  },
  {
   "cell_type": "markdown",
   "id": "b5840fcf",
   "metadata": {
    "deletable": false,
    "nbgrader": {
     "cell_type": "markdown",
     "checksum": "df843a877ff42a9290e55ab678da1b47",
     "grade": true,
     "grade_id": "cell-df978df152f0257f",
     "locked": false,
     "points": 3,
     "schema_version": 3,
     "solution": true,
     "task": false
    }
   },
   "source": [
    "YOUR ANSWER HERE"
   ]
  },
  {
   "cell_type": "markdown",
   "id": "e694d7ed",
   "metadata": {
    "deletable": false,
    "editable": false,
    "nbgrader": {
     "cell_type": "markdown",
     "checksum": "2a4a0978e5b5a1c9ea37b8887faf4fab",
     "grade": false,
     "grade_id": "cell-7c507d51aef43640",
     "locked": true,
     "schema_version": 3,
     "solution": false,
     "task": false
    }
   },
   "source": [
    "You might be starting to appreciate why neural networks have attracted so much attention. If you have a lot of data, can covert it into input patterns and have associated labels, then you can construct a network, run the training algorithm and get it to produce a classifier that not only reproduces what it has seen, but makes intelligence predictions about inputs it has not seen - predictions that often match human performance quite closely."
   ]
  }
 ],
 "metadata": {
  "kernelspec": {
   "display_name": "R",
   "language": "R",
   "name": "ir"
  },
  "language_info": {
   "codemirror_mode": "r",
   "file_extension": ".r",
   "mimetype": "text/x-r-source",
   "name": "R",
   "pygments_lexer": "r",
   "version": "4.1.0"
  }
 },
 "nbformat": 4,
 "nbformat_minor": 5
}
