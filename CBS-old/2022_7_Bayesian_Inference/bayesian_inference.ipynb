{
 "cells": [
  {
   "cell_type": "markdown",
   "metadata": {
    "nbgrader": {
     "grade": false,
     "grade_id": "cell-84b67070ad409557",
     "locked": true,
     "schema_version": 3,
     "solution": false,
     "task": false
    }
   },
   "source": [
    "# CBS Week 7 Exercise:  Bayesian Inference\n"
   ]
  },
  {
   "cell_type": "code",
   "execution_count": 8,
   "metadata": {
    "nbgrader": {
     "grade": false,
     "grade_id": "cell-17a4fb7156cee4c7",
     "locked": true,
     "schema_version": 3,
     "solution": false,
     "task": false
    },
    "scrolled": true
   },
   "outputs": [],
   "source": [
    "suppressPackageStartupMessages({\n",
    "    library(tidyverse)\n",
    "    library(testthat)\n",
    "    library(knitr)\n",
    "    library(kableExtra)\n",
    "    library(IRdisplay)  \n",
    "})\n",
    "\n",
    "# a function for displaying tables\n",
    "show_table <- function(d) {\n",
    "    kable(d, \"html\", align=\"c\")  %>% \n",
    "        as.character()  %>% \n",
    "        display_html()\n",
    "}"
   ]
  },
  {
   "cell_type": "markdown",
   "metadata": {
    "nbgrader": {
     "grade": false,
     "grade_id": "cell-2c8e1e3cd62047cd",
     "locked": true,
     "schema_version": 3,
     "solution": false,
     "task": false
    }
   },
   "source": [
    "This notebook is designed to give you practice working with joint probability distributions. Once you have a joint distribution over a set of variables, you can make just about any inference you might be interested in, so it's important to get comfortable working with joint distributions.\n",
    "\n",
    "We're going to follow the tabular approach to inference described in class. For each problem, we'll create a dataframe in which the rows represent all possible settings of the variables of interest. The joint distribution over these variables assigns a probability to each row, and can be represented as a column of the dataframe.\n",
    "\n",
    "\n",
    "## Probability Theory\n",
    "\n",
    "We'll get started with an example inspired by the work of Judea Pearl (you'll hear more about him in Week 9). Suppose that you live on the West Coast of the USA. On any given day, your house may or may not be robbed, an earthquake may or may not occur, and your house alarm may or may not sound. We'll use three binary variables `R` (robbery), `E` (earthquake) and `A` (alarm) to keep track of the three possible events.  Let's use 1 for FALSE and 2 (which rhymes with TRUE) for TRUE. So R = 2 means that your house is robbed and R = 1 means that your house is not robbed.\n",
    "\n",
    "We'll start by setting up a joint distribution over three binary variables. Because there are three binary variables, there are $2^3$ = 8 possible settings of the variables. We'll directly specify a joint probability distribution `P(R,E,A)` over these settings."
   ]
  },
  {
   "cell_type": "code",
   "execution_count": 9,
   "metadata": {
    "nbgrader": {
     "grade": false,
     "grade_id": "cell-77cdd3a0e36f6f81",
     "locked": true,
     "schema_version": 3,
     "solution": false,
     "task": false
    },
    "scrolled": true
   },
   "outputs": [
    {
     "data": {
      "text/html": [
       "<table>\n",
       " <thead>\n",
       "  <tr>\n",
       "   <th style=\"text-align:center;\"> R </th>\n",
       "   <th style=\"text-align:center;\"> E </th>\n",
       "   <th style=\"text-align:center;\"> A </th>\n",
       "   <th style=\"text-align:center;\"> p_r_e_a </th>\n",
       "  </tr>\n",
       " </thead>\n",
       "<tbody>\n",
       "  <tr>\n",
       "   <td style=\"text-align:center;\"> 1 </td>\n",
       "   <td style=\"text-align:center;\"> 1 </td>\n",
       "   <td style=\"text-align:center;\"> 1 </td>\n",
       "   <td style=\"text-align:center;\"> 0.840 </td>\n",
       "  </tr>\n",
       "  <tr>\n",
       "   <td style=\"text-align:center;\"> 1 </td>\n",
       "   <td style=\"text-align:center;\"> 1 </td>\n",
       "   <td style=\"text-align:center;\"> 2 </td>\n",
       "   <td style=\"text-align:center;\"> 0.010 </td>\n",
       "  </tr>\n",
       "  <tr>\n",
       "   <td style=\"text-align:center;\"> 1 </td>\n",
       "   <td style=\"text-align:center;\"> 2 </td>\n",
       "   <td style=\"text-align:center;\"> 1 </td>\n",
       "   <td style=\"text-align:center;\"> 0.070 </td>\n",
       "  </tr>\n",
       "  <tr>\n",
       "   <td style=\"text-align:center;\"> 1 </td>\n",
       "   <td style=\"text-align:center;\"> 2 </td>\n",
       "   <td style=\"text-align:center;\"> 2 </td>\n",
       "   <td style=\"text-align:center;\"> 0.030 </td>\n",
       "  </tr>\n",
       "  <tr>\n",
       "   <td style=\"text-align:center;\"> 2 </td>\n",
       "   <td style=\"text-align:center;\"> 1 </td>\n",
       "   <td style=\"text-align:center;\"> 1 </td>\n",
       "   <td style=\"text-align:center;\"> 0.003 </td>\n",
       "  </tr>\n",
       "  <tr>\n",
       "   <td style=\"text-align:center;\"> 2 </td>\n",
       "   <td style=\"text-align:center;\"> 1 </td>\n",
       "   <td style=\"text-align:center;\"> 2 </td>\n",
       "   <td style=\"text-align:center;\"> 0.040 </td>\n",
       "  </tr>\n",
       "  <tr>\n",
       "   <td style=\"text-align:center;\"> 2 </td>\n",
       "   <td style=\"text-align:center;\"> 2 </td>\n",
       "   <td style=\"text-align:center;\"> 1 </td>\n",
       "   <td style=\"text-align:center;\"> 0.001 </td>\n",
       "  </tr>\n",
       "  <tr>\n",
       "   <td style=\"text-align:center;\"> 2 </td>\n",
       "   <td style=\"text-align:center;\"> 2 </td>\n",
       "   <td style=\"text-align:center;\"> 2 </td>\n",
       "   <td style=\"text-align:center;\"> 0.006 </td>\n",
       "  </tr>\n",
       "</tbody>\n",
       "</table>"
      ]
     },
     "metadata": {},
     "output_type": "display_data"
    }
   ],
   "source": [
    "d1 <- tibble(R = c(1,1,1,1,2,2,2,2), \n",
    "             E = c(1,1,2,2,1,1,2,2), \n",
    "             A = c(1,2,1,2,1,2,1,2), \n",
    "             p_r_e_a = c(0.84, 0.01, 0.07, 0.03, 0.003, 0.04, 0.001, 0.006) )\n",
    "\n",
    "show_table(d1)"
   ]
  },
  {
   "cell_type": "markdown",
   "metadata": {},
   "source": [
    "### Exercise 1 (1 point)\n",
    "What is the most likely setting of the three variables? And what is the least likely?\n",
    "\n",
    "=== BEGIN MARK SCHEME === \n",
    "\n",
    "The most likely possibility is that all variables take value 1 (ie no robbery occurs, there is no earthquake and your alarm does not go off).\n",
    "\n",
    "The least likely possibility is that a robbery and earthquake both occur and your alarm does not go off.\n",
    "\n",
    "=== END MARK SCHEME ==="
   ]
  },
  {
   "cell_type": "markdown",
   "metadata": {},
   "source": []
  },
  {
   "cell_type": "markdown",
   "metadata": {
    "nbgrader": {
     "grade": false,
     "grade_id": "cell-40ffb5d475db0428",
     "locked": true,
     "points": 0,
     "schema_version": 3,
     "solution": false,
     "task": true
    }
   },
   "source": [
    "\n",
    "### Exercise 2 (1 point)\n",
    "\n",
    "To make sense as a probability distribution `d1$p_r_e_a` needs to sum to 1 -- please check that this condition is satisfied. Provide your answer by writing some code in the next cell.\n",
    "\n",
    "=== BEGIN MARK SCHEME === \n",
    "\n",
    "Full credit for any computation that demonstrates that d1$p_r_e_a sums to 1. E.g\n",
    "\n",
    "`print(sum(d1$p_r_e_a))`\n",
    "\n",
    "=== END MARK SCHEME ==="
   ]
  },
  {
   "cell_type": "code",
   "execution_count": null,
   "metadata": {
    "nbgrader": {
     "grade": true,
     "grade_id": "cell-3faf36334e6fa243",
     "locked": false,
     "points": 0,
     "schema_version": 3,
     "solution": true,
     "task": false
    },
    "scrolled": true
   },
   "outputs": [],
   "source": []
  },
  {
   "cell_type": "markdown",
   "metadata": {
    "nbgrader": {
     "grade": false,
     "grade_id": "cell-8ca46c50b736f120",
     "locked": true,
     "schema_version": 3,
     "solution": false,
     "task": false
    }
   },
   "source": [
    "Having the joint distribution `d1` allows you to compute distributions over any subset of variables given observations over any other subset of variables. We'll try a few examples. In all cases we'll use a tabular approach to inference: we'll add columns to the dataframe `d1` as needed then extract the values in these columns that correspond to the quantities we're interested.\n",
    "\n",
    "### Exercise 3 (1 point)\n",
    "What's the probability that R, E and A all equal 2? We'll use `p_r2_e2_a2` to denote $P(R=2,E=2,A=2)$."
   ]
  },
  {
   "cell_type": "code",
   "execution_count": 10,
   "metadata": {
    "nbgrader": {
     "grade": false,
     "grade_id": "cell-5307472b1f6b3182",
     "locked": false,
     "schema_version": 3,
     "solution": true,
     "task": false
    },
    "scrolled": true
   },
   "outputs": [],
   "source": [
    "# compute P(R=2,E=2,A=2)\n",
    "p_r2_e2_a2 <-\n",
    "### BEGIN SOLUTION\n",
    "    d1  %>% \n",
    "    filter(R==2, E==2, A==2)  %>% \n",
    "    pull(p_r_e_a)\n",
    "### END SOLUTION"
   ]
  },
  {
   "cell_type": "code",
   "execution_count": 5,
   "metadata": {
    "nbgrader": {
     "grade": true,
     "grade_id": "cell-0c3de2439738b216",
     "locked": true,
     "points": 1,
     "schema_version": 3,
     "solution": false,
     "task": false
    },
    "scrolled": true
   },
   "outputs": [],
   "source": [
    "# this cell contains some hidden tests! You can leave it empty except for this comment\n",
    "### BEGIN HIDDEN TESTS\n",
    "expect_equal(p_r2_e2_a2, 0.006)\n",
    "### END HIDDEN TESTS"
   ]
  },
  {
   "cell_type": "markdown",
   "metadata": {
    "nbgrader": {
     "grade": false,
     "grade_id": "cell-95104f328aeeb4c1",
     "locked": true,
     "schema_version": 3,
     "solution": false,
     "task": false
    }
   },
   "source": [
    "The handout for Week 7 includes equations for Marginalization and Conditional Probability that apply when there are just two variables `a` and `b`. Let's try out similar ideas for the three variable case. \n",
    "\n",
    "\n",
    "### Exercise 4 (1 point)\n",
    "We'll now compute $P(A=2)$, or the probability that the alarm sounds on any given day. We'll use `p_a2` to denote this probability. \n",
    "\n",
    "As a first step towards computing `p_a2`, add a column to `d1` called `p_a` that specifies the marginal distribution $P(a)$ on $A$."
   ]
  },
  {
   "cell_type": "markdown",
   "metadata": {},
   "source": [
    "We've introduced some redundancy here --- for example, the odd-numbered rows all have $A = 1$ which means that `p_a` is identical for all four rows. \n",
    "\n",
    "Note that column `p_a` does NOT specify a probability distributions over the 8 rows of the table -- for a start, this column does not sum to 1.\n",
    "\n",
    "\n",
    "### Exercise 5 (1 point)\n",
    "Now use the new column `p_a` to pull out the value of $P(A=2)$:"
   ]
  },
  {
   "cell_type": "code",
   "execution_count": 11,
   "metadata": {
    "nbgrader": {
     "grade": false,
     "grade_id": "cell-2c5649ea8976033b",
     "locked": false,
     "schema_version": 3,
     "solution": true,
     "task": false
    },
    "scrolled": true
   },
   "outputs": [
    {
     "ename": "ERROR",
     "evalue": "Error: object 'p_a' not found\n",
     "output_type": "error",
     "traceback": [
      "Error: object 'p_a' not found\nTraceback:\n",
      "1. d1 %>% filter(A == 2) %>% pull(p_a) %>% first()",
      "2. first(.)",
      "3. nth(x, 1L, order_by = order_by, default = default)",
      "4. pull(., p_a)",
      "5. pull.data.frame(., p_a)",
      "6. tidyselect::vars_pull(names(.data), !!enquo(var))",
      "7. instrument_base_errors(loc <- eval_tidy(enquo(var), set_names(seq_along(vars), \n .     vars)))",
      "8. withCallingHandlers(expr, simpleError = function(cnd) {\n .     abort(conditionMessage(cnd), parent = cnd)\n . })",
      "9. eval_tidy(enquo(var), set_names(seq_along(vars), vars))",
      "10. .handleSimpleError(function (cnd) \n  . {\n  .     abort(conditionMessage(cnd), parent = cnd)\n  . }, \"object 'p_a' not found\", base::quote(eval_tidy(enquo(var), \n  .     set_names(seq_along(vars), vars))))",
      "11. h(simpleError(msg, call))",
      "12. abort(conditionMessage(cnd), parent = cnd)",
      "13. signal_abort(cnd)"
     ]
    }
   ],
   "source": [
    "p_a2 <- \n",
    "###  BEGIN SOLUTION \n",
    "    d1  %>% \n",
    "    filter(A == 2)  %>% \n",
    "    pull(p_a) %>% \n",
    "    first()\n",
    "### END SOLUTION "
   ]
  },
  {
   "cell_type": "code",
   "execution_count": null,
   "metadata": {
    "nbgrader": {
     "grade": true,
     "grade_id": "cell-4918b0de17357819",
     "locked": true,
     "points": 1,
     "schema_version": 3,
     "solution": false,
     "task": false
    },
    "scrolled": true
   },
   "outputs": [],
   "source": [
    "# this cell contains some hidden tests! You can leave it empty except for this comment\n",
    "### BEGIN HIDDEN TESTS\n",
    "expect_equal(p_a2, 0.086)\n",
    "### END HIDDEN TESTS"
   ]
  },
  {
   "cell_type": "markdown",
   "metadata": {
    "nbgrader": {
     "grade": false,
     "grade_id": "cell-d59bb1455c695f0a",
     "locked": true,
     "schema_version": 3,
     "solution": false,
     "task": false
    }
   },
   "source": [
    "### Exercise 6 (1 point)\n",
    "Let's now compute $P(R=2,E=2)$, or the probability that R and E both equal 2.\n",
    "\n",
    "As a first step, add a column to `d1` called `p_r_e` that specifies the marginal distribution $P(r,e)$ on $R$ and $E$. "
   ]
  },
  {
   "cell_type": "code",
   "execution_count": null,
   "metadata": {},
   "outputs": [],
   "source": [
    "### BEGIN HIDDEN TESTS\n",
    "d1_sorted <- d1  %>% arrange(R,E,A)\n",
    "expect_equal(d1_sorted$p_r_e, c(0.85, 0.85, 0.1, 0.1, 0.043, 0.043, 0.007, 0.007))\n",
    "### END HIDDEN TESTS"
   ]
  },
  {
   "cell_type": "markdown",
   "metadata": {},
   "source": [
    "### Exercise 7 (1 point)\n",
    "Now use the new column `p_r_e` to pull out the value of $P(R=2, E=2)$:"
   ]
  },
  {
   "cell_type": "code",
   "execution_count": null,
   "metadata": {
    "nbgrader": {
     "grade": false,
     "grade_id": "cell-ac07e20e3e08d093",
     "locked": false,
     "schema_version": 3,
     "solution": true,
     "task": false
    },
    "scrolled": true
   },
   "outputs": [],
   "source": [
    "p_r2_e2 <-\n",
    "### BEGIN SOLUTION\n",
    "    d1  %>% \n",
    "    filter(R == 2, E==2)  %>% \n",
    "    pull(p_r_e) %>% \n",
    "    first()\n",
    "### END SOLUTION"
   ]
  },
  {
   "cell_type": "code",
   "execution_count": null,
   "metadata": {
    "nbgrader": {
     "grade": true,
     "grade_id": "cell-39cbf625fe6c19d1",
     "locked": true,
     "points": 1,
     "schema_version": 3,
     "solution": false,
     "task": false
    },
    "scrolled": true
   },
   "outputs": [],
   "source": [
    "# this cell contains some hidden tests! You can leave it empty except for this comment\n",
    "### BEGIN HIDDEN TESTS\n",
    "expect_equal(p_r2_e2, 0.007)\n",
    "### END HIDDEN TESTS"
   ]
  },
  {
   "cell_type": "markdown",
   "metadata": {
    "nbgrader": {
     "grade": false,
     "grade_id": "cell-f55c42a4166451ad",
     "locked": true,
     "schema_version": 3,
     "solution": false,
     "task": false
    }
   },
   "source": [
    "### Exercise 8 (1 point)\n",
    "Now we'll compute $P(A=2|R=2,E=2)$, or the probability that A=2 given that R and E both equal 2. We'll use `p_a2_given_r2_e2` as the variable name for this conditional probability.\n",
    "\n",
    "As a first step, add a column to `d1` called `p_a_given_r_e` that captures the conditional distribution $P(a|r,e)$."
   ]
  },
  {
   "cell_type": "code",
   "execution_count": null,
   "metadata": {
    "nbgrader": {
     "grade": false,
     "grade_id": "cell-52315b903a35e73d",
     "locked": false,
     "schema_version": 3,
     "solution": true,
     "task": false
    },
    "scrolled": true
   },
   "outputs": [],
   "source": [
    "d1 <- \n",
    "### BEGIN SOLUTION\n",
    "    d1  %>% \n",
    "    mutate(p_a_given_r_e = p_r_e_a / p_r_e) # add a column for the conditional distribution P(a|r,e)\n",
    "### END SOLUTION\n",
    "show_table(d1)"
   ]
  },
  {
   "cell_type": "code",
   "execution_count": null,
   "metadata": {},
   "outputs": [],
   "source": [
    "### BEGIN HIDDEN TESTS\n",
    "d1_sorted <- d1  %>% arrange(R,E,A)\n",
    "expect_equal(d1_sorted$p_a_given_r_e, c(0.988, 0.011, 0.7, 0.3, 0.070, 0.930, 0.143, 0.857), tolerance = 0.001)\n",
    "### END HIDDEN TESTS"
   ]
  },
  {
   "cell_type": "markdown",
   "metadata": {},
   "source": [
    "### Exercise 9 (1 point)\n",
    "Now use the new column `p_a_given_r_e` to pull out the value of $P(A=2 | R=2, E=2)$:"
   ]
  },
  {
   "cell_type": "code",
   "execution_count": null,
   "metadata": {},
   "outputs": [],
   "source": [
    "p_a2_given_r2_e2 <- \n",
    "### BEGIN SOLUTION\n",
    "    d1  %>% \n",
    "    filter(R == 2, E==2, A == 2)  %>% \n",
    "    pull(p_a_given_r_e) %>% \n",
    "    first()\n",
    "### END SOLUTION"
   ]
  },
  {
   "cell_type": "code",
   "execution_count": null,
   "metadata": {
    "nbgrader": {
     "grade": true,
     "grade_id": "cell-d7e6ec704f86e4c8",
     "locked": true,
     "points": 1,
     "schema_version": 3,
     "solution": false,
     "task": false
    },
    "scrolled": true
   },
   "outputs": [],
   "source": [
    "# this cell contains some hidden tests! You can leave it empty except for this comment\n",
    "### BEGIN HIDDEN TESTS\n",
    "expect_equal(p_a2_given_r2_e2, 0.857, tolerance = 0.001)\n",
    "### END HIDDEN TESTS"
   ]
  },
  {
   "cell_type": "markdown",
   "metadata": {
    "nbgrader": {
     "grade": false,
     "grade_id": "cell-2e802d8a771a43d3",
     "locked": true,
     "schema_version": 3,
     "solution": false,
     "task": false
    }
   },
   "source": [
    "### Exercise 10 (1 point)\n",
    "Now compute $P(A=2|R=2)$, or the probability that A equals 2 given that R equals 2. We'll use `p_a2_given_r2` as the name for this conditional probability.\n",
    "\n",
    "As a first step, add columns to `d1` called `p_r_a`, `p_r` and `p_a_given_r` that capture $P(R,A)$, $P(R)$ and $P(A|R)$ respectively."
   ]
  },
  {
   "cell_type": "code",
   "execution_count": null,
   "metadata": {
    "nbgrader": {
     "grade": false,
     "grade_id": "cell-9d001d82bea17c93",
     "locked": false,
     "schema_version": 3,
     "solution": true,
     "task": false
    }
   },
   "outputs": [],
   "source": [
    "d1 <- \n",
    "### BEGIN SOLUTION\n",
    "    d1  %>% \n",
    "    group_by(R, A)  %>% \n",
    "    mutate(p_r_a = sum(p_r_e_a))  %>%  # add a column for the marginal distribution P(r,a)\n",
    "    ungroup()  %>% \n",
    "    group_by(R)  %>% \n",
    "    mutate(p_r = sum(p_r_e_a))  %>%  # add a column for the marginal distribution P(r)\n",
    "    ungroup()  %>% \n",
    "    mutate(p_a_given_r = p_r_a / p_r)\n",
    "### END SOLUTION\n",
    "show_table(d1)"
   ]
  },
  {
   "cell_type": "code",
   "execution_count": null,
   "metadata": {},
   "outputs": [],
   "source": [
    "### BEGIN HIDDEN TESTS\n",
    "d1_sorted <- d1  %>% arrange(R,E,A)\n",
    "expect_equal(d1_sorted$p_r_a, c(0.91, 0.04, 0.91, 0.04, 0.004, 0.046, 0.004, 0.046))\n",
    "expect_equal(d1_sorted$p_r, c(0.95, 0.95, 0.95, 0.95, 0.05, 0.05, 0.05, 0.05))\n",
    "expect_equal(d1_sorted$p_a_given_r, c(0.958, 0.042, 0.958, 0.042, 0.08, 0.92, 0.08, 0.92), tolerance = 0.001)\n",
    "### END HIDDEN TESTS"
   ]
  },
  {
   "cell_type": "markdown",
   "metadata": {},
   "source": [
    "### Exercise 11 (1 point)\n",
    "Now use the new column `p_a_given_r` to pull out the value of $P(A=2 | R=2)$:"
   ]
  },
  {
   "cell_type": "code",
   "execution_count": null,
   "metadata": {
    "nbgrader": {
     "grade": true,
     "grade_id": "cell-462a6331947fb19a",
     "locked": true,
     "points": 2,
     "schema_version": 3,
     "solution": false,
     "task": false
    },
    "scrolled": true
   },
   "outputs": [],
   "source": [
    "# this cell contains some hidden tests! You can leave it empty except for this comment\n",
    "### BEGIN HIDDEN TESTS\n",
    "expect_equal(p_a2_given_r2, 0.92)\n",
    "### END HIDDEN TESTS"
   ]
  },
  {
   "cell_type": "markdown",
   "metadata": {
    "nbgrader": {
     "grade": false,
     "grade_id": "cell-403769af570610cf",
     "locked": true,
     "schema_version": 3,
     "solution": false,
     "task": false
    }
   },
   "source": [
    "Now let's think about another distribution on three binary variables X, Y and Z. This time we're not explicitly given the joint distribution `P(x,y,z)` -- instead we are given the distributions `P(x)`, `P(y|x)`, and `P(z|x,y)`.\n",
    "\n",
    "Here's the distribution `P(x)`:\n"
   ]
  },
  {
   "cell_type": "code",
   "execution_count": null,
   "metadata": {
    "nbgrader": {
     "grade": false,
     "grade_id": "cell-45add96509cc0ed9",
     "locked": true,
     "schema_version": 3,
     "solution": false,
     "task": false
    },
    "scrolled": true
   },
   "outputs": [],
   "source": [
    "xtab <- tibble(X = c(1,2), p_x = c(0.2,0.8) )  \n",
    "show_table(xtab)"
   ]
  },
  {
   "cell_type": "markdown",
   "metadata": {
    "nbgrader": {
     "grade": false,
     "grade_id": "cell-17e6b74a80ba96fd",
     "locked": true,
     "schema_version": 3,
     "solution": false,
     "task": false
    }
   },
   "source": [
    "Here's the conditional probability distribution `P(y|x)`:"
   ]
  },
  {
   "cell_type": "code",
   "execution_count": null,
   "metadata": {
    "nbgrader": {
     "grade": false,
     "grade_id": "cell-faaac4831587b87b",
     "locked": true,
     "schema_version": 3,
     "solution": false,
     "task": false
    },
    "scrolled": true
   },
   "outputs": [],
   "source": [
    "ytab <- tibble(X = c(1,1,2,2), Y = c(1,2,1,2), p_y_given_x = c(0.9,0.1,0.1, 0.9) )\n",
    "show_table(ytab)"
   ]
  },
  {
   "cell_type": "markdown",
   "metadata": {
    "nbgrader": {
     "grade": false,
     "grade_id": "cell-60d57fb71063dd66",
     "locked": true,
     "points": 0,
     "schema_version": 3,
     "solution": false,
     "task": true
    }
   },
   "source": [
    "And here's the conditional probability distribution `P(z|x,y)`:"
   ]
  },
  {
   "cell_type": "code",
   "execution_count": null,
   "metadata": {
    "nbgrader": {
     "grade": false,
     "grade_id": "cell-71c39b32b453598f",
     "locked": true,
     "schema_version": 3,
     "solution": false,
     "task": false
    },
    "scrolled": true
   },
   "outputs": [],
   "source": [
    "ztab <- tibble(X = c(1,1,1,1,2,2,2,2), Y = c(1,1,2,2,1,1,2,2), Z = c(1,2,1,2,1,2,1,2), p_z_given_x_y = c(1,0,0.5,0.5,0.5,0.5,0,1) )\n",
    "show_table(ztab)"
   ]
  },
  {
   "cell_type": "markdown",
   "metadata": {
    "nbgrader": {
     "grade": false,
     "grade_id": "cell-8219161b5ad5894f",
     "locked": true,
     "schema_version": 3,
     "solution": false,
     "task": false
    }
   },
   "source": [
    "We can combine these three elements into a larger table `d2` as follows."
   ]
  },
  {
   "cell_type": "code",
   "execution_count": null,
   "metadata": {
    "nbgrader": {
     "grade": false,
     "grade_id": "cell-b0ecbc87e62d91fb",
     "locked": true,
     "schema_version": 3,
     "solution": false,
     "task": false
    },
    "scrolled": true
   },
   "outputs": [],
   "source": [
    "d2 <- xtab  %>% \n",
    "    left_join(ytab, by = c(\"X\"))  %>% \n",
    "    left_join(ztab, by = c(\"X\", \"Y\"))  %>% \n",
    "    relocate(X,Y,Z)\n",
    "show_table(d2)"
   ]
  },
  {
   "cell_type": "markdown",
   "metadata": {
    "nbgrader": {
     "grade": false,
     "grade_id": "cell-ed4a3c4a15d0e206",
     "locked": true,
     "schema_version": 3,
     "solution": false,
     "task": false
    }
   },
   "source": [
    "Let's pick just a single row in the table -- the third row. The entries in this row tell us  that $P(X = 1) = 0.2$, that  $P(Y = 2 | X = 1) = 0.1$, and that  $P(Z = 1|X = 1, Y = 2) = 0.5$.  \n",
    "\n",
    "The handout for Week 7 (available on Canvas) includes an equation for the Chain Rule that covers the two variable case. We can use a similar idea here to compute the joint distribution over the three variables `x`, `y` and `z`.\n",
    "\n",
    "### Exercise 12 (1 point)\n",
    "\n",
    "Add a column `p_x_y_z` to `d2` that specifies a joint distribution over the 8 possible settings of the three variables."
   ]
  },
  {
   "cell_type": "code",
   "execution_count": null,
   "metadata": {
    "nbgrader": {
     "grade": false,
     "grade_id": "cell-798077ba9a0e7eff",
     "locked": false,
     "schema_version": 3,
     "solution": true,
     "task": false
    },
    "scrolled": true
   },
   "outputs": [],
   "source": [
    "d2 <- d2  %>% \n",
    "### BEGIN SOLUTION\n",
    "    mutate(p_x_y_z = p_x * p_y_given_x * p_z_given_x_y)\n",
    "### END SOLUTION\n",
    "show_table(d2)"
   ]
  },
  {
   "cell_type": "code",
   "execution_count": null,
   "metadata": {
    "nbgrader": {
     "grade": true,
     "grade_id": "cell-747d28eacce699bf",
     "locked": true,
     "points": 1,
     "schema_version": 3,
     "solution": false,
     "task": false
    },
    "scrolled": true
   },
   "outputs": [],
   "source": [
    "expect_equal(sum(d2$p_x_y_z), 1)\n",
    "### BEGIN HIDDEN TESTS\n",
    "d2_sorted <- d2  %>% arrange(X,Y,Z)\n",
    "expect_equal(d2_sorted$p_x_y_z, c(0.18, 0, 0.01, 0.01, 0.04, 0.04, 0, 0.72))\n",
    "### END HIDDEN TESTS"
   ]
  },
  {
   "cell_type": "markdown",
   "metadata": {
    "nbgrader": {
     "grade": false,
     "grade_id": "cell-9614120449c7751b",
     "locked": true,
     "schema_version": 3,
     "solution": false,
     "task": false
    }
   },
   "source": [
    "Now that we've computed the joint distribution, we can use it to compute distributions over any subset of variables given observations over any other subset of variables. We'll do just one example.\n",
    "\n",
    "### Exercise 13 (1 point)\n",
    "\n",
    "Let's compute $P(X=2|Z=2)$, or the probability that $X = 2$ given that $Z = 2$. Following the same tabular approach used earlier, we'll start by adding columns  `p_x_z`, `p_z`, and `p_x_given_z` to `d2` that capture the marginal distributions  $P(X,Z)$ and $P(Z)$ and and the conditional distribution $P(X|Z)$."
   ]
  },
  {
   "cell_type": "code",
   "execution_count": null,
   "metadata": {},
   "outputs": [],
   "source": [
    "d2 <- \n",
    "### BEGIN SOLUTION\n",
    "    d2  %>% \n",
    "    group_by(X,Z)  %>% \n",
    "    mutate(p_x_z = sum(p_x_y_z))  %>% \n",
    "    ungroup()  %>% \n",
    "    group_by(Z)  %>% \n",
    "    mutate(p_z = sum(p_x_y_z)) %>% \n",
    "    ungroup()  %>% \n",
    "    mutate(p_x_given_z = p_x_z / p_z)\n",
    "### END SOLUTION\n",
    "show_table(d2)"
   ]
  },
  {
   "cell_type": "code",
   "execution_count": null,
   "metadata": {},
   "outputs": [],
   "source": [
    "### BEGIN HIDDEN TESTS\n",
    "d2_sorted <- d2  %>% arrange(X,Y,Z)\n",
    "expect_equal(d2_sorted$p_z, c(0.23, 0.77, 0.23, 0.77, 0.23, 0.77, 0.23, 0.77))\n",
    "expect_equal(d2_sorted$p_x_z, c(0.19, 0.01, 0.19, 0.01, 0.04, 0.76, 0.04, 0.76))\n",
    "expect_equal(d2_sorted$p_x_given_z, c(0.826, 0.013, 0.826, 0.013, 0.174, 0.987, 0.174, 0.987), tolerance = 0.001)\n",
    "### END HIDDEN TESTS"
   ]
  },
  {
   "cell_type": "markdown",
   "metadata": {},
   "source": [
    "### Exercise 14 (1 point)\n",
    "Now use the new column `p_x_given_z` to pull out the value of $P(X=2 | Z=2)$:"
   ]
  },
  {
   "cell_type": "code",
   "execution_count": null,
   "metadata": {
    "nbgrader": {
     "grade": false,
     "grade_id": "cell-80d6080e03ba9de2",
     "locked": false,
     "schema_version": 3,
     "solution": true,
     "task": false
    },
    "scrolled": true
   },
   "outputs": [],
   "source": [
    "p_x2_given_z2 <- \n",
    "### BEGIN SOLUTION\n",
    "    d2  %>% \n",
    "    filter(X==2, Z==2)  %>% \n",
    "    pull(p_x_given_z)  %>% \n",
    "    first()\n",
    "### END SOLUTION"
   ]
  },
  {
   "cell_type": "code",
   "execution_count": null,
   "metadata": {
    "nbgrader": {
     "grade": true,
     "grade_id": "cell-9a0236b2b8daaba3",
     "locked": true,
     "points": 1,
     "schema_version": 3,
     "solution": false,
     "task": false
    },
    "scrolled": true
   },
   "outputs": [],
   "source": [
    "# this cell contains some hidden tests! You can leave it empty except for this comment\n",
    "### BEGIN HIDDEN TESTS\n",
    "expect_equal(p_x2_given_z2, 0.987013, tolerance=1e-4)\n",
    "### END HIDDEN TESTS"
   ]
  }
 ],
 "metadata": {
  "anaconda-cloud": "",
  "celltoolbar": "Create Assignment",
  "kernelspec": {
   "display_name": "R",
   "language": "R",
   "name": "ir"
  },
  "language_info": {
   "codemirror_mode": "r",
   "file_extension": ".r",
   "mimetype": "text/x-r-source",
   "name": "R",
   "pygments_lexer": "r",
   "version": "4.1.0"
  }
 },
 "nbformat": 4,
 "nbformat_minor": 1
}
