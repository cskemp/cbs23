{
 "cells": [
  {
   "cell_type": "markdown",
   "metadata": {
    "deletable": false,
    "editable": false,
    "nbgrader": {
     "cell_type": "markdown",
     "checksum": "cba350a3990c90659b8ad502793965ed",
     "grade": false,
     "grade_id": "cell-a07113bcbe374e7e",
     "locked": true,
     "schema_version": 3,
     "solution": false,
     "task": false
    }
   },
   "source": [
    "# CBS Week 12 Assessment: Categorization\n",
    "## Semester 2 2022\n"
   ]
  },
  {
   "cell_type": "code",
   "execution_count": 1,
   "metadata": {
    "deletable": false,
    "editable": false,
    "nbgrader": {
     "cell_type": "code",
     "checksum": "8e5145ccd5eacbebf6a3f81bc1513e53",
     "grade": false,
     "grade_id": "cell-3975684fa80af62b",
     "locked": true,
     "schema_version": 3,
     "solution": false,
     "task": false
    }
   },
   "outputs": [],
   "source": [
    "suppressPackageStartupMessages({\n",
    "    library(tidyverse)\n",
    "    library(mvtnorm)\n",
    "    library(ggpubr)\n",
    "    library(ggrepel)\n",
    "    library(metR)\n",
    "    library(testthat)\n",
    "    library(knitr)\n",
    "    library(kableExtra)\n",
    "    library(IRdisplay)\n",
    "    options(repr.plot.width=8, repr.plot.height=8)\n",
    "})\n",
    "\n",
    "# a function for displaying tables\n",
    "show_table <- function(d) {\n",
    "    kable(d, \"html\", align=\"c\")  %>% \n",
    "        as.character()  %>% \n",
    "        display_html()\n",
    "}"
   ]
  },
  {
   "cell_type": "markdown",
   "metadata": {
    "deletable": false,
    "editable": false,
    "nbgrader": {
     "cell_type": "markdown",
     "checksum": "daec2535450d78f731cd46e7c2df7dc9",
     "grade": false,
     "grade_id": "cell-2f0eba6d2d321052",
     "locked": true,
     "schema_version": 3,
     "solution": false,
     "task": false
    }
   },
   "source": [
    "This notebook is due at 5 pm on October 21. Please make sure that your notebook validates before you submit it --- if your notebook doesn't validate the automated grader may run into issues.\n",
    "\n",
    "In the Week 11 tutorial you looked at one-dimensional categorization problems, and this notebook applies an exemplar model to a two-dimensional categorization problem. We'll use data from an experiment reported by Nosofsky (1989), [Further tests of an exemplar similarity approach to relating identification and categorization](  https://link.springer.com/content/pdf/10.3758/BF03204942.pdf ).  The same paper also describes an exemplar model called the GCM (Generalized Context Model) that is related to but not the same as the exemplar model used in this notebook. The 1989 paper is difficult to read, and a more accessible overview of the GCM is given by  Nosofsky (2011), [The generalized context model: an exemplar model of classification](  \n",
    "https://nosofsky.cogs.indiana.edu/pubs/Nosofsky_2014_chapter.pdf ), which also includes an application of the model to the 1989 data set (see pp 29 -34). Looking at this 2011 chapter may help you think about some of the questions in this notebook, but this notebook can be completed without reading the chapter.\n",
    "\n",
    "Nosofsky's experiments used a set of 16 semi-circles that vary on two dimensions -- the size of the semi-circle and the angle of the radius shown. These 16 stimuli can be organized into a grid.\n"
   ]
  },
  {
   "cell_type": "markdown",
   "metadata": {
    "deletable": false,
    "editable": false,
    "nbgrader": {
     "cell_type": "markdown",
     "checksum": "e8ee4b957e8fda7b7ebf1d8901073331",
     "grade": false,
     "grade_id": "cell-1e6bc716e5c2484f",
     "locked": true,
     "schema_version": 3,
     "solution": false,
     "task": false
    }
   },
   "source": [
    "<figure>\n",
    "  <img src=\"images/nosofsky_stim.png\" alt=\"nosofsky_stim\" style=\"width:50%\">\n",
    "  <figcaption  class=\"figure-caption text-center\">Figure 1: Stimuli used by Nosofsky (1989). Figure reproduced from the 1989 paper.</figcaption>\n",
    "</figure>"
   ]
  },
  {
   "cell_type": "markdown",
   "metadata": {
    "deletable": false,
    "editable": false,
    "nbgrader": {
     "cell_type": "markdown",
     "checksum": "c0b8ecd53e5866226a87e082268424ef",
     "grade": false,
     "grade_id": "cell-b5cec616bc8dda9c",
     "locked": true,
     "schema_version": 3,
     "solution": false,
     "task": false
    }
   },
   "source": [
    "One of the things that interested Nosofsky is that people might weight these dimensions differently -- e.g. they might be more sensitive to differences in size than differences in angle. Our exemplar model, however, will give the dimensions the same weight. For convenience, we'll scale the dimensions so that along each dimension the stimuli have a mean of zero and a standard deviation of one.\n",
    "\n",
    "Nosofsky's experiment included 4 conditions that are summarized by the figure below. Don't worry about the small numbers at the top of each square.\n"
   ]
  },
  {
   "cell_type": "markdown",
   "metadata": {
    "deletable": false,
    "editable": false,
    "nbgrader": {
     "cell_type": "markdown",
     "checksum": "1d10ab090373427f94a7c840f1bcbbd7",
     "grade": false,
     "grade_id": "cell-be54236570e06835",
     "locked": true,
     "schema_version": 3,
     "solution": false,
     "task": false
    }
   },
   "source": [
    "<figure>\n",
    "  <img src=\"images/nosofsky_conditions.png\" alt=\"nosofsky_conditions\" style=\"width:50%\">\n",
    "  <figcaption  class=\"figure-caption text-center\">Figure 2: The four conditions in the experiment of Nosofsky (1989). Figure reproduced from the 2011 chapter.</figcaption>\n",
    "</figure>"
   ]
  },
  {
   "cell_type": "markdown",
   "metadata": {
    "deletable": false,
    "editable": false,
    "nbgrader": {
     "cell_type": "markdown",
     "checksum": "e49ce0f52b68cedd9824c32be3376a91",
     "grade": false,
     "grade_id": "cell-6f5f812d16ca3c14",
     "locked": true,
     "schema_version": 3,
     "solution": false,
     "task": false
    }
   },
   "source": [
    "In each condition participants had to classify all 16 stimuli, but they were only given feedback indicating the true category labels for a subset of the stimuli. For example, in the criss-cross condition the feedback indicated that stimuli 4,7,10 and 13 belonged to category 1 and that stimuli 1,2,15 and 16 belonged to category 2. We're interested in how participants used this feedback to generalize to all of the other stimuli in the grid.\n",
    "\n",
    "Let's start by loading a file with Nosofsky's data, and making a plot to show the 16 stimuli after scaling both dimensions.\n"
   ]
  },
  {
   "cell_type": "code",
   "execution_count": 2,
   "metadata": {
    "deletable": false,
    "editable": false,
    "nbgrader": {
     "cell_type": "code",
     "checksum": "ef7fb45a3e97e60289c4a463a5d8a223",
     "grade": false,
     "grade_id": "cell-2e88cfdc08bd8e8e",
     "locked": true,
     "schema_version": 3,
     "solution": false,
     "task": false
    }
   },
   "outputs": [
    {
     "data": {
      "image/png": "[encoded data removed]",
      "text/plain": [
       "plot without title"
      ]
     },
     "metadata": {
      "image/png": {
       "height": 480,
       "width": 480
      }
     },
     "output_type": "display_data"
    }
   ],
   "source": [
    "conditions = c(\"size\", \"angle\", \"crisscross\", \"diagonal\")\n",
    "\n",
    "ndata <- read_csv(\"nosofsky89_categorization_data.csv\", show_col_types = FALSE) %>% \n",
    "  # scale angle and size so that both have zero mean and unit standard deviation\n",
    "  mutate(angle = scale(angle), size = scale(size)) %>% \n",
    "  mutate(x = map2(angle, size, c)) %>% \n",
    "  mutate(condition=factor(condition, levels=conditions)) %>% \n",
    "  mutate(z = factor(z))\n",
    "\n",
    "nstim <- ndata %>% \n",
    "  select(stim_id, angle, size, x) %>% \n",
    "  unique()\n",
    "\n",
    "stimplot <- nstim  %>% \n",
    "  ggplot(aes(x=angle, y=size, label=stim_id)) +\n",
    "  geom_point() +\n",
    "  geom_text(nudge_x = 0.12) +\n",
    "  theme(aspect.ratio=1)\n",
    "\n",
    "print(stimplot)"
   ]
  },
  {
   "cell_type": "markdown",
   "metadata": {
    "deletable": false,
    "editable": false,
    "nbgrader": {
     "cell_type": "markdown",
     "checksum": "2c98204ef8bb1eabc18e421386924abd",
     "grade": false,
     "grade_id": "cell-d83b21f8660ebfb2",
     "locked": true,
     "schema_version": 3,
     "solution": false,
     "task": false
    }
   },
   "source": [
    "As for the week 11 notebook, we'll use $z$ to denote the category label of an object. We'd like to compute a classification function  $P(z=1|x)$ that we can use to estimate the probability that a new object $x$ anywhere in the 2 dimensional space belongs to category 1.\n",
    "\n",
    "Bayes rule tells us that $P(z=1|x) \\propto P(x|z) P(z=1)$. Let's start with a function for computing the likelihood $P(x|z)$.  An exemplar model estimates $P(x|z=1)$ by dropping a Gaussian kernel (ie a Gaussian bump) on each exemplar of category 1, adding up all these kernels, and renormalizing to make sure that the density integrates to 1.  Because we're looking at a two-dimensional problem, the Gaussian bumps are 2-dimensional Gaussian distributions. We'll assume that these distributions are axis-aligned Gaussians, which means that they can be characterized by a variance along the angle dimension and a variance along the size dimension. To keep things simple we'll set both variances to 1.\n"
   ]
  },
  {
   "cell_type": "code",
   "execution_count": 3,
   "metadata": {
    "deletable": false,
    "editable": false,
    "nbgrader": {
     "cell_type": "code",
     "checksum": "7c6a833725da78da146868b0d5a94c1c",
     "grade": false,
     "grade_id": "cell-460bff12dcd59cb8",
     "locked": true,
     "schema_version": 3,
     "solution": false,
     "task": false
    }
   },
   "outputs": [],
   "source": [
    "# We'll use an axis-aligned Gaussian kernel where the variance along each dimension (or bandwidth) is 1.\n",
    "# Changing this parameter will affect the predictions of the model.\n",
    "\n",
    "bw <- 1\n",
    "bw_2d <- diag(c(bw, bw))\n",
    "\n",
    "# compute p(XNEW|z=CATEGORY)  based on the observations in DATA\n",
    "p_x_given_z <- function(data, category, xnew, bw = bw_2d){\n",
    "  newval <- data %>% \n",
    "    filter(z == category) %>% \n",
    "    mutate(k_val = map_dbl(x, ~dmvnorm(xnew, mean = ., sigma = bw))) %>% \n",
    "    summarize(mean_k_val = mean(k_val)) %>% \n",
    "    pull()\n",
    "}"
   ]
  },
  {
   "cell_type": "markdown",
   "metadata": {
    "deletable": false,
    "editable": false,
    "nbgrader": {
     "cell_type": "markdown",
     "checksum": "438f53f97eedd15cd1d079f257d26d8a",
     "grade": false,
     "grade_id": "cell-afa8126a382bda0c",
     "locked": true,
     "schema_version": 3,
     "solution": false,
     "task": false
    }
   },
   "source": [
    "We'll also need a function to compute the prior.  We'll assume that $P(z=1)$ corresponds to the proportion of observed examples that belong to category 1. \n",
    "\n"
   ]
  },
  {
   "cell_type": "code",
   "execution_count": 4,
   "metadata": {
    "deletable": false,
    "editable": false,
    "nbgrader": {
     "cell_type": "code",
     "checksum": "a3efd995f8d74b4117b94589353eb4cb",
     "grade": false,
     "grade_id": "cell-76ef08ddae061278",
     "locked": true,
     "schema_version": 3,
     "solution": false,
     "task": false
    }
   },
   "outputs": [],
   "source": [
    "# compute p(z=CATEGORY) based on the observations in DATA\n",
    "p_z <- function(data, category){\n",
    "  sum(data$z == category, na.rm = TRUE)/( sum(!is.na(data$z)) )\n",
    "}"
   ]
  },
  {
   "cell_type": "markdown",
   "metadata": {
    "deletable": false,
    "editable": false,
    "nbgrader": {
     "cell_type": "markdown",
     "checksum": "c56e449dc6e11f46e4bb4d1bca7418ec",
     "grade": false,
     "grade_id": "cell-8a9b328ffc56e85f",
     "locked": true,
     "schema_version": 3,
     "solution": false,
     "task": false
    }
   },
   "source": [
    "Now let's set up a function to combine the prior and likelihood in order to compute the posterior $P(z=1|x)$. \n",
    "\n",
    "### Question 1 (1 point)\n",
    "\n",
    "The function here has some errors --  you'll need to fix it so that the columns `p_z1_given_x` and `p_z2_given_z` are computed correctly. These two columns should capture $P(z=1|x)$ and $P(z=2|x)$ respectively.\n"
   ]
  },
  {
   "cell_type": "code",
   "execution_count": 13,
   "metadata": {
    "deletable": false,
    "nbgrader": {
     "cell_type": "code",
     "checksum": "1487ed32cca60a01ab8b45b0bdbe82b7",
     "grade": true,
     "grade_id": "cell-9091d5284f8de266",
     "locked": false,
     "points": 1,
     "schema_version": 3,
     "solution": true,
     "task": false
    }
   },
   "outputs": [],
   "source": [
    "# DATA includes exemplars that have been labelled (ie our training data)\n",
    "# NEWPOINTS includes points that we'd like to classify\n",
    "\n",
    "classification_curve <- function(data, newpoints, bw = bw_2d) {\n",
    "  classifications <- newpoints %>% \n",
    "    # compute p(z) for all x\n",
    "    mutate(p_z1 = p_z(data, 1)) %>% \n",
    "    mutate(p_z2 = p_z(data, 2)) %>% \n",
    "    # compute p(x|z) \n",
    "    mutate(p_x_given_z1 = map_dbl(x, ~p_x_given_z(data, 1, ., bw))) %>% \n",
    "    mutate(p_x_given_z2 = map_dbl(x, ~p_x_given_z(data, 2, ., bw))) %>% \n",
    "    # you'll need to fix the next four lines of code\n",
    "    # compute p(z|x) up to normalizing constant\n",
    "    mutate(p_z1_given_x = p_x_given_z1*p_z1) %>% \n",
    "    mutate(p_z2_given_x = p_x_given_z2*p_z2) %>% \n",
    "    # normalize p(z|x) \n",
    "    mutate(p_z1_given_x = p_z1_given_x/(p_z1_given_x+p_z2_given_x)) %>% \n",
    "    mutate(p_z2_given_x = p_z2_given_x/(p_z1_given_x+p_z2_given_x))\n",
    "}  "
   ]
  },
  {
   "cell_type": "code",
   "execution_count": 14,
   "metadata": {
    "deletable": false,
    "editable": false,
    "nbgrader": {
     "cell_type": "code",
     "checksum": "13ed861b19d19f19d181b4e427a5378c",
     "grade": true,
     "grade_id": "cell-ed5d5fbde9b1b7f9",
     "locked": true,
     "points": 0,
     "schema_version": 3,
     "solution": false,
     "task": false
    }
   },
   "outputs": [],
   "source": [
    "# Please make sure that your code passes this test before continuing!\n",
    "newpointgrid <- tibble(angle = 0, size = 0)  %>%  mutate(x = map2(angle, size, c))\n",
    "gridclassification <-  ndata %>% \n",
    "  group_by(condition) %>% \n",
    "  nest() %>% \n",
    "  mutate(classifications = map(data, classification_curve, newpointgrid, bw_2d)) %>% \n",
    "  unnest(classifications)\n",
    "expect_equal(gridclassification$p_z1_given_x, c(0.4463648, 0.6465739, 0.4983925, 0.5534889), tol = 0.001)"
   ]
  },
  {
   "cell_type": "markdown",
   "metadata": {
    "deletable": false,
    "editable": false,
    "nbgrader": {
     "cell_type": "markdown",
     "checksum": "d61216e98b7a4a1ddddf53200a4962c9",
     "grade": false,
     "grade_id": "cell-4c6d548bf593226c",
     "locked": true,
     "schema_version": 3,
     "solution": false,
     "task": false
    }
   },
   "source": [
    "We'll use the function just defined to classify all points in a grid that ranges from -2 to 2 along each dimension. We'll start by looking at the distributions $P(x|z=1)$ (red contour plot) and $P(x|z=2)$ (blue contour plot) for each condition.\n",
    "\n"
   ]
  },
  {
   "cell_type": "code",
   "execution_count": 23,
   "metadata": {
    "deletable": false,
    "editable": false,
    "nbgrader": {
     "cell_type": "code",
     "checksum": "250cadb249adfcea2100e5630dc17a99",
     "grade": false,
     "grade_id": "cell-35cb1b798f586893",
     "locked": true,
     "schema_version": 3,
     "solution": false,
     "task": false
    }
   },
   "outputs": [],
   "source": [
    "newpointgrid <- expand_grid(angle = seq(-2, 2, 0.1), size = seq(-2, 2, 0.1)) %>% \n",
    "  mutate(x = map2(angle, size, c)) \n",
    "\n",
    "gridclassification <-  ndata %>% \n",
    "  group_by(condition) %>% \n",
    "  nest() %>% \n",
    "  mutate(classifications = map(data, classification_curve, newpointgrid, bw_2d)) %>% \n",
    "  unnest(classifications)\n",
    "\n",
    "densityplot <- gridclassification %>% \n",
    "  ggplot(aes(angle, size)) +\n",
    "  geom_contour(aes(z=p_x_given_z1), color=\"#F8766D\") +\n",
    "  geom_contour(aes(z=p_x_given_z2), color = \"#00BFC4\") +\n",
    "  facet_wrap(~condition) +\n",
    "  geom_point(data=ndata, aes(color=z))  +\n",
    "  theme(aspect.ratio=1) \n",
    "\n",
    "print(densityplot)"
   ]
  },
  {
   "cell_type": "markdown",
   "metadata": {
    "deletable": false,
    "editable": false,
    "nbgrader": {
     "cell_type": "markdown",
     "checksum": "f67cc91b3132a5036fc1b6131a37a3cf",
     "grade": false,
     "grade_id": "cell-ad19a75422ff5789",
     "locked": true,
     "points": 0,
     "schema_version": 3,
     "solution": false,
     "task": true
    }
   },
   "source": [
    "### Question 2 (1 point)\n",
    "\n",
    "For the criss-cross condition, the distribution $P(x|z=2)$ has two peaks. Where do these peaks lie? \n"
   ]
  },
  {
   "cell_type": "markdown",
   "metadata": {
    "deletable": false,
    "nbgrader": {
     "cell_type": "markdown",
     "checksum": "a203616a9d415c6db14148e562e3d06d",
     "grade": true,
     "grade_id": "cell-3b6061934a2c4e32",
     "locked": false,
     "points": 1,
     "schema_version": 3,
     "solution": true,
     "task": false
    }
   },
   "source": [
    "YOUR ANSWER HERE"
   ]
  },
  {
   "cell_type": "markdown",
   "metadata": {
    "deletable": false,
    "editable": false,
    "nbgrader": {
     "cell_type": "markdown",
     "checksum": "dfe3a59477001286300a8a33839903a1",
     "grade": false,
     "grade_id": "cell-166978b5b813e6eb",
     "locked": true,
     "schema_version": 3,
     "solution": false,
     "task": false
    }
   },
   "source": [
    "For each condition we can also plot the classification surface $P(z=1|x)$. The contour on this surface where $P(z=1|x)=0.5$ separates regions that are classified as category 1 from regions that are classified as category 2."
   ]
  },
  {
   "cell_type": "code",
   "execution_count": null,
   "metadata": {
    "deletable": false,
    "editable": false,
    "nbgrader": {
     "cell_type": "code",
     "checksum": "4e68657c57d4c86a462e5ec52ffbd917",
     "grade": false,
     "grade_id": "cell-b84195c8b5c5cb51",
     "locked": true,
     "schema_version": 3,
     "solution": false,
     "task": false
    }
   },
   "outputs": [],
   "source": [
    "classificationsurface <- gridclassification %>% \n",
    "  ggplot(aes(angle, size)) +\n",
    "  geom_contour(aes(z=p_z1_given_x), color=\"black\") +\n",
    "  geom_text_contour(aes(z=p_z1_given_x)) +\n",
    "  facet_wrap(~condition) +\n",
    "  geom_point(data=ndata, aes(color=z)) +\n",
    "  theme(aspect.ratio=1) \n",
    "\n",
    "print(classificationsurface)"
   ]
  },
  {
   "cell_type": "markdown",
   "metadata": {
    "deletable": false,
    "editable": false,
    "nbgrader": {
     "cell_type": "markdown",
     "checksum": "2cb57c14a5edb4f3ab9be31a40101bf0",
     "grade": false,
     "grade_id": "cell-9119ede465e1edcc",
     "locked": true,
     "schema_version": 3,
     "solution": false,
     "task": false
    }
   },
   "source": [
    "### Question 3 (1 point)\n",
    "\n",
    "For each condition, which of the 16 exemplars are assigned to category 1 by the exemplar model? Provide your answer by adding to the lists below. For example, you should edit `size_classified_as_z1` so that it includes the full list of exemplars assigned to category 1 by the model in the size condition (currently this list includes only exemplars 2, 5, 7 and 8). The exemplar labels are based on the plot above that shows the 16 exemplars numbered from 1 to 16.\n"
   ]
  },
  {
   "cell_type": "code",
   "execution_count": null,
   "metadata": {
    "deletable": false,
    "nbgrader": {
     "cell_type": "code",
     "checksum": "a7b3bd3c0360973429ea8974ba871392",
     "grade": false,
     "grade_id": "cell-a554be3ce00e9334",
     "locked": false,
     "schema_version": 3,
     "solution": true,
     "task": false
    }
   },
   "outputs": [],
   "source": [
    "size_classified_as_z1<- c(2,5,7,8)\n",
    "angle_classified_as_z1<- c()\n",
    "crisscross_classified_as_z1 <- c()\n",
    "diagonal_classified_as_z1 <- c()\n",
    "\n",
    "# YOUR CODE HERE\n",
    "stop('No Answer Given!')"
   ]
  },
  {
   "cell_type": "code",
   "execution_count": null,
   "metadata": {
    "deletable": false,
    "editable": false,
    "nbgrader": {
     "cell_type": "code",
     "checksum": "7db1c65e3ace0eb10638629d6765cdf3",
     "grade": true,
     "grade_id": "cell-0aaf2bbbb72ba21d",
     "locked": true,
     "points": 1,
     "schema_version": 3,
     "solution": false,
     "task": false
    }
   },
   "outputs": [],
   "source": [
    "# this cell contains tests (including some hidden tests) that your answer to Question 3 should pass\n",
    "expect_gt(length(angle_classified_as_z1), 0) \n",
    "expect_gt(length(crisscross_classified_as_z1), 0) \n",
    "expect_gt(length(diagonal_classified_as_z1), 0) "
   ]
  },
  {
   "cell_type": "markdown",
   "metadata": {
    "deletable": false,
    "editable": false,
    "nbgrader": {
     "cell_type": "markdown",
     "checksum": "523a72a0c9efc4bc09813d882506bb75",
     "grade": false,
     "grade_id": "cell-ba64264364cee0a8",
     "locked": true,
     "schema_version": 3,
     "solution": false,
     "task": false
    }
   },
   "source": [
    "To generate the plots above we applied the exemplar model to every point on a grid that ranges from -2 to 2 along each dimension. Now we'll apply the model to the 16 experimental stimuli only. In each condition, the model assigns each stimulus a probability of belonging to category 1. We'll compare these probabilities with Nosofsky's experimental data -- ie with the proportion of times each stimulus was assigned to category 1 by his participants."
   ]
  },
  {
   "cell_type": "code",
   "execution_count": 25,
   "metadata": {
    "deletable": false,
    "editable": false,
    "nbgrader": {
     "cell_type": "code",
     "checksum": "a2d8e4b81d654ac6cb59c95cba7c1653",
     "grade": false,
     "grade_id": "cell-5e0d2a7e8fbe125b",
     "locked": true,
     "schema_version": 3,
     "solution": false,
     "task": false
    }
   },
   "outputs": [],
   "source": [
    "allconditions <- ndata %>% \n",
    "  group_by(condition) %>% \n",
    "  nest() %>% \n",
    "  mutate(classifications = map(data, classification_curve, nstim, bw_2d))"
   ]
  },
  {
   "cell_type": "markdown",
   "metadata": {
    "deletable": false,
    "editable": false,
    "nbgrader": {
     "cell_type": "markdown",
     "checksum": "8d47def644d96327fd85383b5f5aae2e",
     "grade": false,
     "grade_id": "cell-06d868f502ba19d2",
     "locked": true,
     "schema_version": 3,
     "solution": false,
     "task": false
    }
   },
   "source": [
    "Now we'll make a dataframe that pairs each stimulus in each condition with a \"model probability\" (ie $P(z=1|x)$ according to the model) and a \"human probability\" (ie the proportion of participants who assigned the stimulus to category 1). For each stimulus we'll compute the squared error -- ie the square of the difference between the model probability and the human probability. \n",
    "\n"
   ]
  },
  {
   "cell_type": "code",
   "execution_count": 26,
   "metadata": {
    "deletable": false,
    "editable": false,
    "nbgrader": {
     "cell_type": "code",
     "checksum": "4ade4b8559491bd9a901e41c47d2c834",
     "grade": false,
     "grade_id": "cell-32cd36d83c47be6b",
     "locked": true,
     "schema_version": 3,
     "solution": false,
     "task": false
    }
   },
   "outputs": [],
   "source": [
    "humanvsmodel <- allconditions %>% \n",
    "    unnest(cols=c(classifications)) %>% \n",
    "    select(condition, stim_id, p_z1_given_x ) %>% \n",
    "    rename(model_p_z1_given_x = p_z1_given_x ) %>% \n",
    "    left_join(ndata, by=c(\"stim_id\", \"condition\")) %>% \n",
    "    mutate(squared_error= (model_p_z1_given_x - human_p_z1_given_x)^2) %>% \n",
    "    group_by(condition) %>% \n",
    "    mutate(sse = round(sum(squared_error), 2)) "
   ]
  },
  {
   "cell_type": "markdown",
   "metadata": {
    "deletable": false,
    "editable": false,
    "nbgrader": {
     "cell_type": "markdown",
     "checksum": "5b2a32b2eac0ddc70cf5b3d980b81fdf",
     "grade": false,
     "grade_id": "cell-83ac391c60b05638",
     "locked": true,
     "schema_version": 3,
     "solution": false,
     "task": false
    }
   },
   "source": [
    "Now we can plot human probabilities against model probabilities. The 4 panels show results for the 4 conditions, and each data point in each panel is labelled with a stimulus number. We've added a diagonal line, and if the model performed perfectly then all of the data points would lie along this line (ie model probabilities would be identical to human probabilities). The \"squared error\" associated with a point is the square of its vertical distance from the diagonal line.  Each panel is annotated with a SSE (sum squared error) value that represents the sum of the squared errors across all 16 stimuli in a condition.\n",
    "\n"
   ]
  },
  {
   "cell_type": "code",
   "execution_count": 27,
   "metadata": {
    "deletable": false,
    "editable": false,
    "nbgrader": {
     "cell_type": "code",
     "checksum": "196f5bbd3e917cc3337c9b80b270e4e8",
     "grade": false,
     "grade_id": "cell-4586fa3851e784fc",
     "locked": true,
     "schema_version": 3,
     "solution": false,
     "task": false
    }
   },
   "outputs": [
    {
     "data": {
      "image/png": "[encoded data removed]",
      "text/plain": [
       "plot without title"
      ]
     },
     "metadata": {
      "image/png": {
       "height": 480,
       "width": 480
      }
     },
     "output_type": "display_data"
    }
   ],
   "source": [
    "sselabs <- humanvsmodel %>% \n",
    "   select(condition, sse) %>% \n",
    "   unique()\n",
    "  \n",
    "humanvsmodelplot <- humanvsmodel %>% \n",
    "  ggplot(aes(x=model_p_z1_given_x, y=human_p_z1_given_x, label=stim_id))  +\n",
    "  geom_point() +\n",
    "  geom_abline(intercept=0, slope=1) +\n",
    "  geom_text_repel() +\n",
    "  geom_text(data=sselabs, aes(x=0.2, y = 0.95, label=paste0(\"SSE=\",sse)))   +\n",
    "  theme(aspect.ratio=1) +\n",
    "  facet_wrap(~condition)\n",
    "\n",
    "print(humanvsmodelplot)"
   ]
  },
  {
   "cell_type": "markdown",
   "metadata": {
    "deletable": false,
    "editable": false,
    "nbgrader": {
     "cell_type": "markdown",
     "checksum": "f8dcd8ba45bd11ed77b3341192cc9a58",
     "grade": false,
     "grade_id": "cell-4510ac3e2941fbac",
     "locked": true,
     "points": 0,
     "schema_version": 3,
     "solution": false,
     "task": true
    }
   },
   "source": [
    "### Question 4 (2 points)\n",
    "\n",
    "You should see that the overall sum of squared errors (SSE) is higher for the size and angle conditions than for the crisscross and diagonal conditions. Why do you think that the model performance is worse for the size and angle conditions than for the other two conditions? Your answer should contain two components: (i) a statement of a way in which the size and angle conditions differ from the other two conditions (ii) an explanation of why this difference might lead to poorer model performance on the size and angle conditions.\n",
    "\n"
   ]
  },
  {
   "cell_type": "markdown",
   "metadata": {
    "deletable": false,
    "nbgrader": {
     "cell_type": "markdown",
     "checksum": "576cc2cbc7ec00b391c497fb7c729c8f",
     "grade": true,
     "grade_id": "cell-4cf9110549d22a55",
     "locked": false,
     "points": 2,
     "schema_version": 3,
     "solution": true,
     "task": false
    }
   },
   "source": [
    "YOUR ANSWER HERE"
   ]
  },
  {
   "cell_type": "markdown",
   "metadata": {
    "deletable": false,
    "editable": false,
    "nbgrader": {
     "cell_type": "markdown",
     "checksum": "704936fad9230099a0bacf414518e88f",
     "grade": false,
     "grade_id": "cell-4510ac3e2941fbac9",
     "locked": true,
     "points": 0,
     "schema_version": 3,
     "solution": false,
     "task": true
    }
   },
   "source": [
    "Now that you've thought about the overall performance for the 4 conditions, let's zoom in and think about responses to individual stimuli.\n",
    "\n",
    "### Question 5 (1 point)\n",
    "\n",
    "For which condition and stimulus number is there the greatest discrepancy between model probabilities and human probabilities? Use the `humanvsmodel` dataframe to answer this question.\n"
   ]
  },
  {
   "cell_type": "code",
   "execution_count": 38,
   "metadata": {},
   "outputs": [
    {
     "data": {
      "text/html": [
       "<table class=\"dataframe\">\n",
       "<caption>A grouped_df: 64 × 3</caption>\n",
       "<thead>\n",
       "\t<tr><th scope=col>condition</th><th scope=col>stim_id</th><th scope=col>difference</th></tr>\n",
       "\t<tr><th scope=col>&lt;fct&gt;</th><th scope=col>&lt;dbl&gt;</th><th scope=col>&lt;dbl&gt;</th></tr>\n",
       "</thead>\n",
       "<tbody>\n",
       "\t<tr><td>size      </td><td> 9</td><td>0.27367118</td></tr>\n",
       "\t<tr><td>size      </td><td> 8</td><td>0.24417192</td></tr>\n",
       "\t<tr><td>angle     </td><td> 3</td><td>0.23205832</td></tr>\n",
       "\t<tr><td>size      </td><td>13</td><td>0.22667776</td></tr>\n",
       "\t<tr><td>size      </td><td>10</td><td>0.20346007</td></tr>\n",
       "\t<tr><td>size      </td><td> 7</td><td>0.19750070</td></tr>\n",
       "\t<tr><td>size      </td><td> 4</td><td>0.19199353</td></tr>\n",
       "\t<tr><td>diagonal  </td><td>16</td><td>0.18710675</td></tr>\n",
       "\t<tr><td>angle     </td><td> 4</td><td>0.18230434</td></tr>\n",
       "\t<tr><td>size      </td><td>16</td><td>0.17531447</td></tr>\n",
       "\t<tr><td>angle     </td><td> 1</td><td>0.17529505</td></tr>\n",
       "\t<tr><td>angle     </td><td>13</td><td>0.17389644</td></tr>\n",
       "\t<tr><td>angle     </td><td> 5</td><td>0.17247668</td></tr>\n",
       "\t<tr><td>size      </td><td> 6</td><td>0.16031862</td></tr>\n",
       "\t<tr><td>angle     </td><td>14</td><td>0.15574765</td></tr>\n",
       "\t<tr><td>size      </td><td>11</td><td>0.15455997</td></tr>\n",
       "\t<tr><td>size      </td><td>12</td><td>0.15334649</td></tr>\n",
       "\t<tr><td>size      </td><td>14</td><td>0.15066601</td></tr>\n",
       "\t<tr><td>size      </td><td>15</td><td>0.14824494</td></tr>\n",
       "\t<tr><td>crisscross</td><td>10</td><td>0.13801244</td></tr>\n",
       "\t<tr><td>angle     </td><td> 8</td><td>0.13308811</td></tr>\n",
       "\t<tr><td>size      </td><td> 3</td><td>0.13033698</td></tr>\n",
       "\t<tr><td>angle     </td><td>11</td><td>0.12981570</td></tr>\n",
       "\t<tr><td>angle     </td><td> 7</td><td>0.12181756</td></tr>\n",
       "\t<tr><td>diagonal  </td><td> 5</td><td>0.10768076</td></tr>\n",
       "\t<tr><td>crisscross</td><td>11</td><td>0.10738956</td></tr>\n",
       "\t<tr><td>crisscross</td><td> 8</td><td>0.10730983</td></tr>\n",
       "\t<tr><td>crisscross</td><td>12</td><td>0.10366212</td></tr>\n",
       "\t<tr><td>crisscross</td><td> 7</td><td>0.09932242</td></tr>\n",
       "\t<tr><td>crisscross</td><td> 6</td><td>0.09848705</td></tr>\n",
       "\t<tr><td>⋮</td><td>⋮</td><td>⋮</td></tr>\n",
       "\t<tr><td>size      </td><td> 2</td><td>0.077185549</td></tr>\n",
       "\t<tr><td>crisscross</td><td> 4</td><td>0.072069386</td></tr>\n",
       "\t<tr><td>diagonal  </td><td>10</td><td>0.066230911</td></tr>\n",
       "\t<tr><td>crisscross</td><td> 2</td><td>0.065361361</td></tr>\n",
       "\t<tr><td>crisscross</td><td>13</td><td>0.065329958</td></tr>\n",
       "\t<tr><td>crisscross</td><td>15</td><td>0.063457941</td></tr>\n",
       "\t<tr><td>angle     </td><td> 6</td><td>0.060720243</td></tr>\n",
       "\t<tr><td>diagonal  </td><td> 9</td><td>0.058196945</td></tr>\n",
       "\t<tr><td>crisscross</td><td> 1</td><td>0.057712606</td></tr>\n",
       "\t<tr><td>angle     </td><td>15</td><td>0.056179718</td></tr>\n",
       "\t<tr><td>diagonal  </td><td> 2</td><td>0.050085902</td></tr>\n",
       "\t<tr><td>diagonal  </td><td> 6</td><td>0.040925997</td></tr>\n",
       "\t<tr><td>crisscross</td><td> 9</td><td>0.034145897</td></tr>\n",
       "\t<tr><td>angle     </td><td> 2</td><td>0.031414926</td></tr>\n",
       "\t<tr><td>diagonal  </td><td> 8</td><td>0.029966421</td></tr>\n",
       "\t<tr><td>diagonal  </td><td>11</td><td>0.024085787</td></tr>\n",
       "\t<tr><td>crisscross</td><td>14</td><td>0.023589680</td></tr>\n",
       "\t<tr><td>size      </td><td> 5</td><td>0.023309221</td></tr>\n",
       "\t<tr><td>crisscross</td><td> 5</td><td>0.022427127</td></tr>\n",
       "\t<tr><td>diagonal  </td><td> 3</td><td>0.021431606</td></tr>\n",
       "\t<tr><td>angle     </td><td>10</td><td>0.020656385</td></tr>\n",
       "\t<tr><td>angle     </td><td>16</td><td>0.019619166</td></tr>\n",
       "\t<tr><td>diagonal  </td><td>13</td><td>0.019412158</td></tr>\n",
       "\t<tr><td>diagonal  </td><td> 4</td><td>0.018507953</td></tr>\n",
       "\t<tr><td>diagonal  </td><td>14</td><td>0.017265368</td></tr>\n",
       "\t<tr><td>size      </td><td> 1</td><td>0.016014231</td></tr>\n",
       "\t<tr><td>diagonal  </td><td> 7</td><td>0.014359235</td></tr>\n",
       "\t<tr><td>crisscross</td><td> 3</td><td>0.005859022</td></tr>\n",
       "\t<tr><td>diagonal  </td><td>15</td><td>0.004581452</td></tr>\n",
       "\t<tr><td>crisscross</td><td>16</td><td>0.004393091</td></tr>\n",
       "</tbody>\n",
       "</table>\n"
      ],
      "text/latex": [
       "A grouped\\_df: 64 × 3\n",
       "\\begin{tabular}{lll}\n",
       " condition & stim\\_id & difference\\\\\n",
       " <fct> & <dbl> & <dbl>\\\\\n",
       "\\hline\n",
       "\t size       &  9 & 0.27367118\\\\\n",
       "\t size       &  8 & 0.24417192\\\\\n",
       "\t angle      &  3 & 0.23205832\\\\\n",
       "\t size       & 13 & 0.22667776\\\\\n",
       "\t size       & 10 & 0.20346007\\\\\n",
       "\t size       &  7 & 0.19750070\\\\\n",
       "\t size       &  4 & 0.19199353\\\\\n",
       "\t diagonal   & 16 & 0.18710675\\\\\n",
       "\t angle      &  4 & 0.18230434\\\\\n",
       "\t size       & 16 & 0.17531447\\\\\n",
       "\t angle      &  1 & 0.17529505\\\\\n",
       "\t angle      & 13 & 0.17389644\\\\\n",
       "\t angle      &  5 & 0.17247668\\\\\n",
       "\t size       &  6 & 0.16031862\\\\\n",
       "\t angle      & 14 & 0.15574765\\\\\n",
       "\t size       & 11 & 0.15455997\\\\\n",
       "\t size       & 12 & 0.15334649\\\\\n",
       "\t size       & 14 & 0.15066601\\\\\n",
       "\t size       & 15 & 0.14824494\\\\\n",
       "\t crisscross & 10 & 0.13801244\\\\\n",
       "\t angle      &  8 & 0.13308811\\\\\n",
       "\t size       &  3 & 0.13033698\\\\\n",
       "\t angle      & 11 & 0.12981570\\\\\n",
       "\t angle      &  7 & 0.12181756\\\\\n",
       "\t diagonal   &  5 & 0.10768076\\\\\n",
       "\t crisscross & 11 & 0.10738956\\\\\n",
       "\t crisscross &  8 & 0.10730983\\\\\n",
       "\t crisscross & 12 & 0.10366212\\\\\n",
       "\t crisscross &  7 & 0.09932242\\\\\n",
       "\t crisscross &  6 & 0.09848705\\\\\n",
       "\t ⋮ & ⋮ & ⋮\\\\\n",
       "\t size       &  2 & 0.077185549\\\\\n",
       "\t crisscross &  4 & 0.072069386\\\\\n",
       "\t diagonal   & 10 & 0.066230911\\\\\n",
       "\t crisscross &  2 & 0.065361361\\\\\n",
       "\t crisscross & 13 & 0.065329958\\\\\n",
       "\t crisscross & 15 & 0.063457941\\\\\n",
       "\t angle      &  6 & 0.060720243\\\\\n",
       "\t diagonal   &  9 & 0.058196945\\\\\n",
       "\t crisscross &  1 & 0.057712606\\\\\n",
       "\t angle      & 15 & 0.056179718\\\\\n",
       "\t diagonal   &  2 & 0.050085902\\\\\n",
       "\t diagonal   &  6 & 0.040925997\\\\\n",
       "\t crisscross &  9 & 0.034145897\\\\\n",
       "\t angle      &  2 & 0.031414926\\\\\n",
       "\t diagonal   &  8 & 0.029966421\\\\\n",
       "\t diagonal   & 11 & 0.024085787\\\\\n",
       "\t crisscross & 14 & 0.023589680\\\\\n",
       "\t size       &  5 & 0.023309221\\\\\n",
       "\t crisscross &  5 & 0.022427127\\\\\n",
       "\t diagonal   &  3 & 0.021431606\\\\\n",
       "\t angle      & 10 & 0.020656385\\\\\n",
       "\t angle      & 16 & 0.019619166\\\\\n",
       "\t diagonal   & 13 & 0.019412158\\\\\n",
       "\t diagonal   &  4 & 0.018507953\\\\\n",
       "\t diagonal   & 14 & 0.017265368\\\\\n",
       "\t size       &  1 & 0.016014231\\\\\n",
       "\t diagonal   &  7 & 0.014359235\\\\\n",
       "\t crisscross &  3 & 0.005859022\\\\\n",
       "\t diagonal   & 15 & 0.004581452\\\\\n",
       "\t crisscross & 16 & 0.004393091\\\\\n",
       "\\end{tabular}\n"
      ],
      "text/markdown": [
       "\n",
       "A grouped_df: 64 × 3\n",
       "\n",
       "| condition &lt;fct&gt; | stim_id &lt;dbl&gt; | difference &lt;dbl&gt; |\n",
       "|---|---|---|\n",
       "| size       |  9 | 0.27367118 |\n",
       "| size       |  8 | 0.24417192 |\n",
       "| angle      |  3 | 0.23205832 |\n",
       "| size       | 13 | 0.22667776 |\n",
       "| size       | 10 | 0.20346007 |\n",
       "| size       |  7 | 0.19750070 |\n",
       "| size       |  4 | 0.19199353 |\n",
       "| diagonal   | 16 | 0.18710675 |\n",
       "| angle      |  4 | 0.18230434 |\n",
       "| size       | 16 | 0.17531447 |\n",
       "| angle      |  1 | 0.17529505 |\n",
       "| angle      | 13 | 0.17389644 |\n",
       "| angle      |  5 | 0.17247668 |\n",
       "| size       |  6 | 0.16031862 |\n",
       "| angle      | 14 | 0.15574765 |\n",
       "| size       | 11 | 0.15455997 |\n",
       "| size       | 12 | 0.15334649 |\n",
       "| size       | 14 | 0.15066601 |\n",
       "| size       | 15 | 0.14824494 |\n",
       "| crisscross | 10 | 0.13801244 |\n",
       "| angle      |  8 | 0.13308811 |\n",
       "| size       |  3 | 0.13033698 |\n",
       "| angle      | 11 | 0.12981570 |\n",
       "| angle      |  7 | 0.12181756 |\n",
       "| diagonal   |  5 | 0.10768076 |\n",
       "| crisscross | 11 | 0.10738956 |\n",
       "| crisscross |  8 | 0.10730983 |\n",
       "| crisscross | 12 | 0.10366212 |\n",
       "| crisscross |  7 | 0.09932242 |\n",
       "| crisscross |  6 | 0.09848705 |\n",
       "| ⋮ | ⋮ | ⋮ |\n",
       "| size       |  2 | 0.077185549 |\n",
       "| crisscross |  4 | 0.072069386 |\n",
       "| diagonal   | 10 | 0.066230911 |\n",
       "| crisscross |  2 | 0.065361361 |\n",
       "| crisscross | 13 | 0.065329958 |\n",
       "| crisscross | 15 | 0.063457941 |\n",
       "| angle      |  6 | 0.060720243 |\n",
       "| diagonal   |  9 | 0.058196945 |\n",
       "| crisscross |  1 | 0.057712606 |\n",
       "| angle      | 15 | 0.056179718 |\n",
       "| diagonal   |  2 | 0.050085902 |\n",
       "| diagonal   |  6 | 0.040925997 |\n",
       "| crisscross |  9 | 0.034145897 |\n",
       "| angle      |  2 | 0.031414926 |\n",
       "| diagonal   |  8 | 0.029966421 |\n",
       "| diagonal   | 11 | 0.024085787 |\n",
       "| crisscross | 14 | 0.023589680 |\n",
       "| size       |  5 | 0.023309221 |\n",
       "| crisscross |  5 | 0.022427127 |\n",
       "| diagonal   |  3 | 0.021431606 |\n",
       "| angle      | 10 | 0.020656385 |\n",
       "| angle      | 16 | 0.019619166 |\n",
       "| diagonal   | 13 | 0.019412158 |\n",
       "| diagonal   |  4 | 0.018507953 |\n",
       "| diagonal   | 14 | 0.017265368 |\n",
       "| size       |  1 | 0.016014231 |\n",
       "| diagonal   |  7 | 0.014359235 |\n",
       "| crisscross |  3 | 0.005859022 |\n",
       "| diagonal   | 15 | 0.004581452 |\n",
       "| crisscross | 16 | 0.004393091 |\n",
       "\n"
      ],
      "text/plain": [
       "   condition  stim_id difference \n",
       "1  size        9      0.27367118 \n",
       "2  size        8      0.24417192 \n",
       "3  angle       3      0.23205832 \n",
       "4  size       13      0.22667776 \n",
       "5  size       10      0.20346007 \n",
       "6  size        7      0.19750070 \n",
       "7  size        4      0.19199353 \n",
       "8  diagonal   16      0.18710675 \n",
       "9  angle       4      0.18230434 \n",
       "10 size       16      0.17531447 \n",
       "11 angle       1      0.17529505 \n",
       "12 angle      13      0.17389644 \n",
       "13 angle       5      0.17247668 \n",
       "14 size        6      0.16031862 \n",
       "15 angle      14      0.15574765 \n",
       "16 size       11      0.15455997 \n",
       "17 size       12      0.15334649 \n",
       "18 size       14      0.15066601 \n",
       "19 size       15      0.14824494 \n",
       "20 crisscross 10      0.13801244 \n",
       "21 angle       8      0.13308811 \n",
       "22 size        3      0.13033698 \n",
       "23 angle      11      0.12981570 \n",
       "24 angle       7      0.12181756 \n",
       "25 diagonal    5      0.10768076 \n",
       "26 crisscross 11      0.10738956 \n",
       "27 crisscross  8      0.10730983 \n",
       "28 crisscross 12      0.10366212 \n",
       "29 crisscross  7      0.09932242 \n",
       "30 crisscross  6      0.09848705 \n",
       "⋮  ⋮          ⋮       ⋮          \n",
       "35 size        2      0.077185549\n",
       "36 crisscross  4      0.072069386\n",
       "37 diagonal   10      0.066230911\n",
       "38 crisscross  2      0.065361361\n",
       "39 crisscross 13      0.065329958\n",
       "40 crisscross 15      0.063457941\n",
       "41 angle       6      0.060720243\n",
       "42 diagonal    9      0.058196945\n",
       "43 crisscross  1      0.057712606\n",
       "44 angle      15      0.056179718\n",
       "45 diagonal    2      0.050085902\n",
       "46 diagonal    6      0.040925997\n",
       "47 crisscross  9      0.034145897\n",
       "48 angle       2      0.031414926\n",
       "49 diagonal    8      0.029966421\n",
       "50 diagonal   11      0.024085787\n",
       "51 crisscross 14      0.023589680\n",
       "52 size        5      0.023309221\n",
       "53 crisscross  5      0.022427127\n",
       "54 diagonal    3      0.021431606\n",
       "55 angle      10      0.020656385\n",
       "56 angle      16      0.019619166\n",
       "57 diagonal   13      0.019412158\n",
       "58 diagonal    4      0.018507953\n",
       "59 diagonal   14      0.017265368\n",
       "60 size        1      0.016014231\n",
       "61 diagonal    7      0.014359235\n",
       "62 crisscross  3      0.005859022\n",
       "63 diagonal   15      0.004581452\n",
       "64 crisscross 16      0.004393091"
      ]
     },
     "metadata": {},
     "output_type": "display_data"
    }
   ],
   "source": [
    "humanvsmodel %>% \n",
    "    mutate(difference = abs(model_p_z1_given_x - human_p_z1_given_x))%>%\n",
    "    select(condition, stim_id, difference)  %>% \n",
    "    arrange(desc(difference))"
   ]
  },
  {
   "cell_type": "markdown",
   "metadata": {
    "deletable": false,
    "nbgrader": {
     "cell_type": "markdown",
     "checksum": "580b0cf23b8427686fe4b9238445fd19",
     "grade": true,
     "grade_id": "cell-7cb8dbe24125a7ff",
     "locked": false,
     "points": 1,
     "schema_version": 3,
     "solution": true,
     "task": false
    }
   },
   "source": [
    "YOUR ANSWER HERE"
   ]
  },
  {
   "cell_type": "markdown",
   "metadata": {
    "deletable": false,
    "editable": false,
    "nbgrader": {
     "cell_type": "markdown",
     "checksum": "fb6b53d8f64e9430d943131f5f25bdb2",
     "grade": false,
     "grade_id": "cell-4510ac3e2941fbac1",
     "locked": true,
     "points": 0,
     "schema_version": 3,
     "solution": false,
     "task": true
    }
   },
   "source": [
    "### Question 6 (1 point)\n",
    "\n",
    "Why does the exemplar model predict that the stimulus you just identified probably belongs to category 1?\n"
   ]
  },
  {
   "cell_type": "markdown",
   "metadata": {
    "deletable": false,
    "nbgrader": {
     "cell_type": "markdown",
     "checksum": "ebaa0f98fdba4b3daa10251411bb8bdc",
     "grade": true,
     "grade_id": "cell-1de2cd594731472b",
     "locked": false,
     "points": 1,
     "schema_version": 3,
     "solution": true,
     "task": false
    }
   },
   "source": [
    "YOUR ANSWER HERE"
   ]
  },
  {
   "cell_type": "markdown",
   "metadata": {
    "deletable": false,
    "editable": false,
    "nbgrader": {
     "cell_type": "markdown",
     "checksum": "17c00cc70e05ac331992027b10a3e0f6",
     "grade": false,
     "grade_id": "cell-4510ac3e2941fbac2",
     "locked": true,
     "points": 0,
     "schema_version": 3,
     "solution": false,
     "task": true
    }
   },
   "source": [
    "### Question 7 (1 point)\n",
    "\n",
    "Why do you think that people tend to assign the stimulus you just identified to category 2?\n"
   ]
  },
  {
   "cell_type": "markdown",
   "metadata": {
    "deletable": false,
    "nbgrader": {
     "cell_type": "markdown",
     "checksum": "890936eb4ac228ecf33153325d635086",
     "grade": true,
     "grade_id": "cell-04dd67049eb63cae",
     "locked": false,
     "points": 1,
     "schema_version": 3,
     "solution": true,
     "task": false
    }
   },
   "source": [
    "YOUR ANSWER HERE"
   ]
  },
  {
   "cell_type": "markdown",
   "metadata": {
    "deletable": false,
    "editable": false,
    "nbgrader": {
     "cell_type": "markdown",
     "checksum": "f804f350aba102d05fad757e522d42a4",
     "grade": false,
     "grade_id": "cell-4510ac3e2941fbac3",
     "locked": true,
     "points": 0,
     "schema_version": 3,
     "solution": false,
     "task": true
    }
   },
   "source": [
    "### Question 8 (1 point)\n",
    "\n",
    "Describe one way in which the model could be adjusted to reduce the discrepancy between model probabilities and human probabilities you identified in Question 5. You don't necessarily need to identify a specific way to adjust the code ---  a high-level description in English will be sufficient.\n"
   ]
  },
  {
   "cell_type": "markdown",
   "metadata": {
    "deletable": false,
    "nbgrader": {
     "cell_type": "markdown",
     "checksum": "a324ef455d8ac465bf5b5e8658dba6ac",
     "grade": true,
     "grade_id": "cell-3c340f2242759c47",
     "locked": false,
     "points": 1,
     "schema_version": 3,
     "solution": true,
     "task": false
    }
   },
   "source": [
    "YOUR ANSWER HERE"
   ]
  },
  {
   "cell_type": "markdown",
   "metadata": {
    "deletable": false,
    "editable": false,
    "nbgrader": {
     "cell_type": "markdown",
     "checksum": "18c02ab2479c5b4e94ddf6f8c419d891",
     "grade": false,
     "grade_id": "cell-0ffa12f751757f55",
     "locked": true,
     "schema_version": 3,
     "solution": false,
     "task": false
    }
   },
   "source": [
    "Nosofsky's 2011 chapter includes results showing how the GCM performs on the same data set that we've used in this notebook. The plot below shows that the GCM performs very well:"
   ]
  },
  {
   "cell_type": "markdown",
   "metadata": {
    "deletable": false,
    "editable": false,
    "nbgrader": {
     "cell_type": "markdown",
     "checksum": "4b24368482bc9f737742cd11214ccc2c",
     "grade": false,
     "grade_id": "cell-cddfc236e3ab25d5",
     "locked": true,
     "schema_version": 3,
     "solution": false,
     "task": false
    }
   },
   "source": [
    "<figure>\n",
    "  <img src=\"images/nosofsky_modelresults.png\" alt=\"nosofsky_modelresults\" style=\"width:50%\">\n",
    "  <figcaption  class=\"figure-caption text-center\">Figure 3: Human probabilities plotted against predictions of the GCM. This plot includes results for all four conditions, and is reproduced from the Nosofsky (2011) chapter.</figcaption>\n",
    "</figure>"
   ]
  },
  {
   "cell_type": "markdown",
   "metadata": {
    "deletable": false,
    "editable": false,
    "nbgrader": {
     "cell_type": "markdown",
     "checksum": "20096304d1c8fbde8242d7a2bf16f92a",
     "grade": false,
     "grade_id": "cell-89111c9988a1f00e",
     "locked": true,
     "schema_version": 3,
     "solution": false,
     "task": false
    }
   },
   "source": [
    "The GCM, however, is more complex than the exemplar model considered in this notebook, and includes 3 tuneable parameters rather than 1. For the model in this notebook, the only numerical parameter is the variance (or bandwidth) associated with the Gaussian kernel, which we set to 1.\n",
    "\n",
    "An important difference between the GCM and the model in this notebook is that the models are defined over different kinds of 2-dimensional spaces. Our model used a *physical* space --- the dimensions of the space were based on physical measurements of the angle and size of the stimuli presented in the experiment. The GCM uses a *psychological* space --- the exemplars are represented as points in a space such that the psychological similarity between two points is a decreasing function of their distance in the space. \n",
    "\n",
    "In the 1989 paper Nosofsky estimates the psychological space using data from an identification experiment in which the stimuli are repeatedly presented and participants are asked to identify the size (level 1 through 4) and angle (level 1 through 4) of each stimulus that they see. These data can be used to tell how often one stimulus is confused with another, and these confusion data can be used to estimate the psychological space (stimuli that are often confused should be nearby in the space). The resulting psychological space is shown in the figure below:\n"
   ]
  },
  {
   "cell_type": "markdown",
   "metadata": {
    "deletable": false,
    "editable": false,
    "nbgrader": {
     "cell_type": "markdown",
     "checksum": "5664095fafb331c0588940f6aa51fc8e",
     "grade": false,
     "grade_id": "cell-4ec93786d480850c",
     "locked": true,
     "schema_version": 3,
     "solution": false,
     "task": false
    }
   },
   "source": [
    "<figure>\n",
    "  <img src=\"images/nosofsky_mds.png\" alt=\"nosofsky_mds\" style=\"width:50%\">\n",
    "  <figcaption  class=\"figure-caption text-center\">Figure 4: Psychological space used by the GCM. This figure is reproduced from the Nosofsky (1989) chapter.</figcaption>\n",
    "</figure>"
   ]
  },
  {
   "cell_type": "markdown",
   "metadata": {
    "deletable": false,
    "editable": false,
    "nbgrader": {
     "cell_type": "markdown",
     "checksum": "f61138a5fd8d8a1f8dc2bc33bc601738",
     "grade": false,
     "grade_id": "cell-bc22d853eae5a432",
     "locked": true,
     "points": 0,
     "schema_version": 3,
     "solution": false,
     "task": true
    }
   },
   "source": [
    "You can see that the stimuli still form a grid, but the grid is a little ragged. For example, the distance between stimuli 13 and 14 is greater than the distance between stimuli 14 and 15. \n",
    "\n",
    "### Question 9 (1 point)\n",
    "\n",
    "For the 16 stimuli in the experiment, people seem to be more sensitive to differences in size than to differences in angle. Explain how we can draw this conclusion from the psychological space represented in Figure 4. \n"
   ]
  },
  {
   "cell_type": "markdown",
   "metadata": {
    "deletable": false,
    "nbgrader": {
     "cell_type": "markdown",
     "checksum": "4dc3cbadc89d5bd772c1588516995eed",
     "grade": true,
     "grade_id": "cell-4bfa79dda18a9674",
     "locked": false,
     "points": 1,
     "schema_version": 3,
     "solution": true,
     "task": false
    }
   },
   "source": [
    "YOUR ANSWER HERE"
   ]
  },
  {
   "cell_type": "markdown",
   "metadata": {
    "deletable": false,
    "editable": false,
    "nbgrader": {
     "cell_type": "markdown",
     "checksum": "8dbe9b60c8fab478a1c589b2aca49c34",
     "grade": false,
     "grade_id": "cell-e453290bdcfbc2ed",
     "locked": true,
     "schema_version": 3,
     "solution": false,
     "task": false
    }
   },
   "source": [
    "Although simple stimuli like the ones Nosofsky used allow for tightly controlled lab experiments, ultimately we would like to explain how people categorize complex real-world objects --- e.g. how radiologists classify X-rays as \"normal\" or \"abnormal\", or how dermatologists classify skin lesions as \"melanomas\" or \"non-melanomas.\" A major challenge when applying psychological models of categorization to real-world problems is to come up with a representation of the underlying psychological space --- ie  the space in which the exemplars are embedded. One possibility is to learn these representations from a large-scale behavioral experiment --- see for example Hebart et al (2020), [Revealing the multidimensional mental representations of natural objects underlying human similarity judgements ]( https://www.ncbi.nlm.nih.gov/pmc/articles/PMC7666026/ ) . Another promising approach is to use representations derived from convolutional neural networks --- see for example  Battleday et al (2020), [ Capturing human categorization of natural images by combining deep networks and cognitive models ]( https://www.nature.com/articles/s41467-020-18946-z.pdf?origin=ppub )."
   ]
  }
 ],
 "metadata": {
  "anaconda-cloud": "",
  "kernelspec": {
   "display_name": "R",
   "language": "R",
   "name": "ir"
  },
  "language_info": {
   "codemirror_mode": "r",
   "file_extension": ".r",
   "mimetype": "text/x-r-source",
   "name": "R",
   "pygments_lexer": "r",
   "version": "4.1.0"
  }
 },
 "nbformat": 4,
 "nbformat_minor": 1
}
