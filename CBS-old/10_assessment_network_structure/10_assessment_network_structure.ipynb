{
 "cells": [
  {
   "cell_type": "code",
   "execution_count": null,
   "id": "7e8288c7",
   "metadata": {},
   "outputs": [],
   "source": [
    "suppressPackageStartupMessages({\n",
    "    library(sna)\n",
    "    library(testthat)\n",
    "    library(network)\n",
    "    library(ergm)\n",
    "})"
   ]
  },
  {
   "cell_type": "markdown",
   "id": "b775766c",
   "metadata": {
    "deletable": false,
    "editable": false,
    "nbgrader": {
     "cell_type": "markdown",
     "checksum": "02f3469c674497f5a721afdc89f97108",
     "grade": false,
     "grade_id": "cell-4bd8856f95d9b2ce",
     "locked": true,
     "schema_version": 3,
     "solution": false,
     "task": false
    }
   },
   "source": [
    "# Assessment Network Structure\n",
    "In this assessment you will use the appraoches in the tutorial in week 10 but apply it to a directed network. The first part of this notebook provides some helpful routines for directed networks and outlines some important ways in which routines have to be modified.\n",
    "\n",
    "First we begin with a warmup question.\n",
    "\n",
    "### Question 1 (3 points)\n",
    "\n",
    "When simulating random networks, you are allocating some propobabitily to each possible network. For an undirected network on $n$ nodes there a total of $2^{n(n-1)/2}$ possible networks. For a directed network on $n$ nodes, how many possible networks are there? Calculate the number of possible directed networks on $n$ nodes in terms of $n$:"
   ]
  },
  {
   "cell_type": "code",
   "execution_count": null,
   "id": "5f771cce",
   "metadata": {
    "deletable": false,
    "nbgrader": {
     "cell_type": "code",
     "checksum": "68ae4c1c85ea0be3de990d2684842249",
     "grade": false,
     "grade_id": "cell-f4cafbdf2b3ecd19",
     "locked": false,
     "schema_version": 3,
     "solution": true,
     "task": false
    }
   },
   "outputs": [],
   "source": [
    "enumerate.nets <- function(n)\n",
    "{\n",
    "# YOUR CODE HERE\n",
    "stop('No Answer Given!')\n",
    "return(total)\n",
    "}    "
   ]
  },
  {
   "cell_type": "code",
   "execution_count": null,
   "id": "da0a6277",
   "metadata": {
    "deletable": false,
    "editable": false,
    "nbgrader": {
     "cell_type": "code",
     "checksum": "6a2299c71a4cdaf8fe9050c66830f951",
     "grade": true,
     "grade_id": "cell-75bd375bb5e06f65",
     "locked": true,
     "points": 3,
     "schema_version": 3,
     "solution": false,
     "task": false
    }
   },
   "outputs": [],
   "source": [
    "# this cell contains tests (including some hidden tests) that your answer to Question 1 should pass"
   ]
  },
  {
   "cell_type": "markdown",
   "id": "53a1c9d0",
   "metadata": {
    "deletable": false,
    "editable": false,
    "nbgrader": {
     "cell_type": "markdown",
     "checksum": "1fd64cb97ca249916b74d1084fdb3d2a",
     "grade": false,
     "grade_id": "cell-b678bcb14c8f777e",
     "locked": true,
     "schema_version": 3,
     "solution": false,
     "task": false
    }
   },
   "source": [
    "# Directed networks\n",
    "In this assignment you will follow the approach in Tutorial 2 (Week 10) but apply it to directed networks. The relevant metrics for directed networks are those in Tutorial 1 (Week 9). In terms of simulation models, for directed networks there are some minor differenced in what the arguments you use. Below, the syntax is provided based on Kapferer's tailors. Throughout we are going to draw 1000 networks whenvever we use a null distribution\n",
    "\n",
    "\n",
    "### Kapferer's tailors\n",
    "Load Kapferer's (1972) Zambian $n=39$ tailors network."
   ]
  },
  {
   "cell_type": "code",
   "execution_count": null,
   "id": "bb0e4b50",
   "metadata": {},
   "outputs": [],
   "source": [
    "temp <- tempfile()\n",
    "download.file(\"https://raw.githubusercontent.com/johankoskinen/BayesERGM/main/data/kapferer.txt\",temp)\n",
    "kapf  <-  read.table(temp)# four adjacency matrices stacked on top of each other\n",
    "unlink(temp)\n",
    "# \"instrumental\" (work- and assistance-related) interactions\n",
    "X <- as.matrix( kapf[(2*39+1):(3*39),])# KAPFTI1 non-symmetric, binary: time 1\n",
    "n <- dim(X)[1]"
   ]
  },
  {
   "cell_type": "markdown",
   "id": "07ee1757",
   "metadata": {
    "deletable": false,
    "editable": false,
    "nbgrader": {
     "cell_type": "markdown",
     "checksum": "67309a8f04189051946e52c1a406f7fa",
     "grade": false,
     "grade_id": "cell-0f58ff8b670edfed",
     "locked": true,
     "schema_version": 3,
     "solution": false,
     "task": false
    }
   },
   "source": [
    "# Directed Bernoulli model\n",
    "Draw 1000 networks. We will say that for these networks $X \\thicksim Bern(p)$"
   ]
  },
  {
   "cell_type": "code",
   "execution_count": null,
   "id": "efb017c0",
   "metadata": {},
   "outputs": [],
   "source": [
    "m <- 1000\n",
    "Xsim <- rgraph( n, # match network size\n",
    "                 m= m, # generate 1000 random networks\n",
    "                 tprob = gden(X), # match tie-probability to density\n",
    "                 mode='digraph') # this is the main difference from tutorial 2"
   ]
  },
  {
   "cell_type": "markdown",
   "id": "77ecc2ef",
   "metadata": {
    "deletable": false,
    "editable": false,
    "nbgrader": {
     "cell_type": "markdown",
     "checksum": "229f9f894b0029e5baef162f29b1daf8",
     "grade": false,
     "grade_id": "cell-730bdbc0535b28b2",
     "locked": true,
     "schema_version": 3,
     "solution": false,
     "task": false
    }
   },
   "source": [
    "# Conditionally uniform density\n",
    "\n",
    "The conditionally uniform distribution, conditional on the density, now needs the number of *arcs*, which is the total degree\n",
    "$$\n",
    "\\sum_{i=1}^n\\sum_{j=1}^n X_{ij}\n",
    "$$\n",
    "Consequently you do not divide the sum of the matrix by 2 (in fact, since dyads need not be symmetric, you may have an odd number of arcs). We use the notation that $X \\thicksim U | L $. Now do draw 1000 networks"
   ]
  },
  {
   "cell_type": "code",
   "execution_count": null,
   "id": "9e463342",
   "metadata": {},
   "outputs": [],
   "source": [
    "Xunif <- rgnm( n =m,# generate 1000 random networks # match network size\n",
    "                 nv = n, # the size of the networks\n",
    "                 m = sum(X), # match the number of ties\n",
    "                 mode='digraph') # make sure these are undirected graphs"
   ]
  },
  {
   "cell_type": "markdown",
   "id": "f5cd4ca0",
   "metadata": {
    "deletable": false,
    "editable": false,
    "nbgrader": {
     "cell_type": "markdown",
     "checksum": "c528e9900a7ca91283b88fdb4263fe5b",
     "grade": false,
     "grade_id": "cell-fa952f0d5bc27900",
     "locked": true,
     "schema_version": 3,
     "solution": false,
     "task": false
    }
   },
   "source": [
    "# Conditionally uniform conditional on degree distribution\n",
    "\n",
    "Since directed networks have both an *indegree* as well as an *outdegree* distribution, the conditionally uniform distribution conditional on the degree distribution can condition on either or both. For an adjacency matrix $X$, we let $X_{\\cdot,+} = \\left( \\sum_j X_{ij}\\right)$ be the vector of out-degrees, and\n",
    "$$\n",
    "X_{+,\\cdot} = \\left( \\sum_i X_{ij} \\right)^{T}\n",
    "$$\n",
    "be the vector of indegrees.\n",
    "\n",
    "We can define three distributions. We let $X \\thicksim U \\mid X_{\\cdot+}=d$ mean that the distribution is uniform on all the graphs that have *the exact same outdegree distribution*. Thus\n",
    "$$ \n",
    "\\Pr( X = x) = \\left\\{\n",
    "\\begin{array}{lr}\n",
    "\tc^{-1},&\\text{if } x_{\\cdot,+}=d\\\\\n",
    "\t0,&\\text{else}\n",
    "\\end{array} \n",
    "\\right. {\\text{,}}\n",
    "$$\n",
    "where $c$ is the number of graphs with outdegree distribution $d$. When it is unambiguous, we will write  $X \\thicksim U \\mid d_{out}$.\n",
    "\n",
    "We let $X \\thicksim U \\mid X_{+,\\cdot}=d$ mean that the distribution is uniform on all the graphs that have *the exact same indegree distribution*. Thus\n",
    "$$ \n",
    "\\Pr( X = x) = \\left\\{\n",
    "\\begin{array}{lr}\n",
    "\tc^{-1},&\\text{if } x_{+,\\cdot}=d\\\\\n",
    "\t0,&\\text{else}\n",
    "\\end{array} \n",
    "\\right. {\\text{,}}\n",
    "$$\n",
    "where $c$ is the number of graphs with indegree distribution $d$. When it is unambiguous, we will write  $X \\thicksim U \\mid d_{in}$.\n",
    "\n",
    "We let $X \\thicksim U \\mid X_{\\cdot,+}=d_{out},X_{+,\\cdot}=d_{in}$ mean that the distribution is uniform on all the graphs that have *the exact same outdegree and indegree distribution*. Thus\n",
    "$$ \n",
    "\\Pr( X = x) = \\left\\{\n",
    "\\begin{array}{lr}\n",
    "\tc^{-1},&\\text{if } x_{\\cdot,+}=d_{out} \\text{ and } x_{+,\\cdot}=d_{in}\\\\\n",
    "\t0,&\\text{else}\n",
    "\\end{array} \n",
    "\\right. {\\text{,}}\n",
    "$$\n",
    "where $c$ is the number of graphs with outdegree distribution $d_{out}$ and indegree distribution $d_{in}$. When it is unambiguous, we will write  $X \\thicksim U \\mid d_{out},d_{in}$.\n",
    "\n",
    "The simulation method is the same as in Tutorial 2 (week 10) but with the specific degree distribution. Firstly, recall that the simulation function requires the starting network to be a network object:\n"
   ]
  },
  {
   "cell_type": "code",
   "execution_count": null,
   "id": "aaa6f7f6",
   "metadata": {},
   "outputs": [],
   "source": [
    "X.net <- as.network(X,directed=TRUE)\n",
    "X.net"
   ]
  },
  {
   "cell_type": "markdown",
   "id": "3fe08251",
   "metadata": {
    "deletable": false,
    "editable": false,
    "nbgrader": {
     "cell_type": "markdown",
     "checksum": "c1623fdc5e71760db7a54febd2814f07",
     "grade": false,
     "grade_id": "cell-bc66c10a1c8dd537",
     "locked": true,
     "schema_version": 3,
     "solution": false,
     "task": false
    }
   },
   "source": [
    "To simulate, again, use a function from the `ergm` package.\n",
    "\n",
    "For $X \\thicksim U \\mid d_{out}$"
   ]
  },
  {
   "cell_type": "code",
   "execution_count": null,
   "id": "9891f210",
   "metadata": {},
   "outputs": [],
   "source": [
    "Xoutdegs <- simulate(X.net~edges,\n",
    "                    coef=c(0),# the role of coefficients will become clear further on\n",
    "                    constraints=~odegrees,# this guarantees that only networks with the same *outdegree* are generated\n",
    "                    nsim=m,# set the number of draws\n",
    "                    control=control.simulate(MCMC.burnin=100000))# you need to bump up the default burnin, otherwise \n",
    "                                        # the networks are too similar to the starting point, the observed network"
   ]
  },
  {
   "cell_type": "markdown",
   "id": "5bb8e31a",
   "metadata": {
    "deletable": false,
    "editable": false,
    "nbgrader": {
     "cell_type": "markdown",
     "checksum": "114c386406084475c4325da7f0373bb0",
     "grade": false,
     "grade_id": "cell-5e75d9a587273292",
     "locked": true,
     "schema_version": 3,
     "solution": false,
     "task": false
    }
   },
   "source": [
    "For $X \\thicksim U \\mid d_{in}$"
   ]
  },
  {
   "cell_type": "code",
   "execution_count": null,
   "id": "5b3d1df3",
   "metadata": {},
   "outputs": [],
   "source": [
    "Xindegs <- simulate(X.net~edges,\n",
    "                    coef=c(0),# the role of coefficients will become clear further on\n",
    "                    constraints=~idegrees,# this guarantees that only networks with the same *indegree* are generated\n",
    "                    nsim=m,# set the number of draws\n",
    "                    control=control.simulate(MCMC.burnin=100000))# you need to bump up the default burnin, otherwise \n",
    "                                            #the networks are too similar to the starting point, the observed network"
   ]
  },
  {
   "cell_type": "markdown",
   "id": "b61454ef",
   "metadata": {
    "deletable": false,
    "editable": false,
    "nbgrader": {
     "cell_type": "markdown",
     "checksum": "69dc2dab7e4da980c04d978d99819a3b",
     "grade": false,
     "grade_id": "cell-fdc98d5fc796bc85",
     "locked": true,
     "schema_version": 3,
     "solution": false,
     "task": false
    }
   },
   "source": [
    "Finally, for $X \\thicksim U \\mid X_{\\cdot,+}=d_{out},X_{+,\\cdot}=d_{in}$"
   ]
  },
  {
   "cell_type": "code",
   "execution_count": null,
   "id": "3aca81ca",
   "metadata": {},
   "outputs": [],
   "source": [
    "Xudegs <- simulate(X.net~edges,\n",
    "                    coef=c(0),# the role of coefficients will become clear further on\n",
    "                    constraints=~degrees,# this guarantees that only networks with the same in/ and outdegree are generated\n",
    "                    nsim=m,# set the number of draws\n",
    "                    control=control.simulate(MCMC.burnin=100000))# you need to bump up the default burnin, otherwise the \n",
    "                                            # networks are too similar to the starting point, the observed network"
   ]
  },
  {
   "cell_type": "markdown",
   "id": "5d8e176c",
   "metadata": {
    "deletable": false,
    "editable": false,
    "nbgrader": {
     "cell_type": "markdown",
     "checksum": "3039174ac13a466457f9ecda4fd23c5f",
     "grade": false,
     "grade_id": "cell-2a4bdde87f030c0a",
     "locked": true,
     "schema_version": 3,
     "solution": false,
     "task": false
    }
   },
   "source": [
    "# Conditional U | MAN\n",
    "For directed networks there is also an additional random graph model, the conditional $U \\mid MAN$ random graph model. The  $U \\mid MAN$ generates random graphs with a prescribed dyad census. For example, for the Kapferer's tailors data, we simulate"
   ]
  },
  {
   "cell_type": "code",
   "execution_count": null,
   "id": "ace25aad",
   "metadata": {},
   "outputs": [],
   "source": [
    "obs.dyad.census <- dyad.census(X)\n",
    "Xuman <- rguman( n =m,# generate 1000 random networks # match network size\n",
    "                 nv = n, # the size of the networks\n",
    "               mut = obs.dyad.census[1],# the number of mutual dyads\n",
    "               asym = obs.dyad.census[2],# the number of asymetric dyads\n",
    "               null = obs.dyad.census[3],# the number of null dyads\n",
    "               method='exact') # make sure these are undirected graphs"
   ]
  },
  {
   "cell_type": "markdown",
   "id": "fc013d5e",
   "metadata": {
    "deletable": false,
    "editable": false,
    "nbgrader": {
     "cell_type": "markdown",
     "checksum": "38db912a2390946bc1a550d314f3c521",
     "grade": false,
     "grade_id": "cell-8a551ed5c37887f8",
     "locked": true,
     "schema_version": 3,
     "solution": false,
     "task": false
    }
   },
   "source": [
    "> Note: remember to use the correct dyad census. The triad census must add up to $n(n-1)/2$."
   ]
  },
  {
   "cell_type": "markdown",
   "id": "c5cfdd92",
   "metadata": {
    "deletable": false,
    "editable": false,
    "nbgrader": {
     "cell_type": "markdown",
     "checksum": "b4f82bdd885e444dc85f3e2242964002",
     "grade": false,
     "grade_id": "cell-2e42962abc8fdaef",
     "locked": true,
     "schema_version": 3,
     "solution": false,
     "task": false
    }
   },
   "source": [
    "# Calculating metrics for simulated networks\n",
    "\n",
    "We can calculate metrics for simulated directed networks the way we calculated metrics for undirected networks in Tutorial 2. Here we outline some additional things to think about.\n",
    "\n",
    "### Dyad census\n",
    "\n",
    "When you calculate an the dyad census for an $m\\times n \\times n$ array, sna returns it as an $m \\times 3$ matrix, for example for Kapferer's tailors:"
   ]
  },
  {
   "cell_type": "code",
   "execution_count": null,
   "id": "0d3f6906",
   "metadata": {},
   "outputs": [],
   "source": [
    "head(dyad.census(Xuman))# see! all graphs have the same dyad census"
   ]
  },
  {
   "cell_type": "markdown",
   "id": "98e02927",
   "metadata": {
    "deletable": false,
    "editable": false,
    "nbgrader": {
     "cell_type": "markdown",
     "checksum": "94e9562988b43a5465eba7ecaeb58a19",
     "grade": false,
     "grade_id": "cell-5d25231e07d9b6c2",
     "locked": true,
     "schema_version": 3,
     "solution": false,
     "task": false
    }
   },
   "source": [
    "Even if you have a list of networks, `sna` returns the dyad census as the same matrix. To do a histogram of, say, the number of mutual dyads, just pick the first column"
   ]
  },
  {
   "cell_type": "code",
   "execution_count": null,
   "id": "8d304dd8",
   "metadata": {},
   "outputs": [],
   "source": [
    "dyad.udeg <- dyad.census(Xudegs)\n",
    "hist( dyad.udeg[,1] ,\n",
    "      xlim = range(dyad.udeg[,1],obs.dyad.census[1]),\n",
    "      main = 'Mutual dyads')\n",
    "abline( v = obs.dyad.census[1], col ='red')"
   ]
  },
  {
   "cell_type": "markdown",
   "id": "8d85dc36",
   "metadata": {
    "deletable": false,
    "editable": false,
    "nbgrader": {
     "cell_type": "markdown",
     "checksum": "efb2761cf81ad69210a17f59b7f4dd6a",
     "grade": false,
     "grade_id": "cell-707220d5252d1795",
     "locked": true,
     "schema_version": 3,
     "solution": false,
     "task": false
    }
   },
   "source": [
    "### Triad census\n",
    "\n",
    "Similar to the dyad census across a number of simulate graphs, triad census for directed networks returns an $m\\times 16$ array \n"
   ]
  },
  {
   "cell_type": "code",
   "execution_count": null,
   "id": "8df49343",
   "metadata": {},
   "outputs": [],
   "source": [
    "head( triad.census(Xudegs ))"
   ]
  },
  {
   "cell_type": "markdown",
   "id": "6db33d61",
   "metadata": {
    "deletable": false,
    "editable": false,
    "nbgrader": {
     "cell_type": "markdown",
     "checksum": "8da6e20a6c107971877794e5d63f0821",
     "grade": false,
     "grade_id": "cell-62ca799e391dcf93",
     "locked": true,
     "schema_version": 3,
     "solution": false,
     "task": false
    }
   },
   "source": [
    "### Degree distributions\n",
    "For simulated networks we can now compare both indegree and outdegree distributions. You can plot them using the functions of Tutorial 2 but be careful to pick the right `cmode`\n"
   ]
  },
  {
   "cell_type": "code",
   "execution_count": null,
   "id": "cba5018f",
   "metadata": {},
   "outputs": [],
   "source": [
    "max.deg <- 15\n",
    "par(mfrow=c(1,2))\n",
    "degrees <-degree(Xsim,g=c(1:m), cmode='indegree')# you can calculate the degree distributions for all graphs\n",
    "obs.deg <- degree( X , cmode='indegree')\n",
    "\n",
    "deg.sist <- cbind( matrix( colSums(degrees==0),m,1),\n",
    "                  t(apply(degrees,2,function(x) tabulate(x, nbins=max.deg) ) ) )# when tabulating we need to add isolates \n",
    "\n",
    "obs.deg <- c( sum(obs.deg==0) ,tabulate(obs.deg, nbins=max.deg)  )\n",
    "  \n",
    "matplot(c(0:(max.deg)), t(deg.sist) ,\n",
    "        type ='l',col='grey',\n",
    "        main='degree distribution' ,xlab ='indegree',ylab='frequency',\n",
    "        ylim = range( deg.sist,obs.deg))\n",
    "lines(c(0:(max.deg)),obs.deg,pch=24,\n",
    "      col='black',lwd=3 )\n",
    "#### === outdegre\n",
    "degrees <-degree(Xsim,g=c(1:m), cmode='outdegree')# you can calculate the degree distributions for all graphs\n",
    "obs.deg <- degree( X , cmode='outdegree')\n",
    "\n",
    "deg.sist <- cbind( matrix( colSums(degrees==0),m,1),\n",
    "                  t(apply(degrees,2,function(x) tabulate(x, nbins=max.deg) ) ) )# when tabulating we need to add isolates \n",
    "\n",
    "obs.deg <- c( sum(obs.deg==0) ,tabulate(obs.deg, nbins=max.deg)  )\n",
    "  \n",
    "matplot(c(0:(max.deg)), t(deg.sist) ,\n",
    "        type ='l',col= 'grey',\n",
    "        main='degree distribution' ,xlab ='outdegree',ylab='frequency',\n",
    "        ylim = range( deg.sist,obs.deg))\n",
    "lines(c(0:(max.deg)),obs.deg,pch=24,lty=1,\n",
    "      col='black',lwd=3 )"
   ]
  },
  {
   "cell_type": "markdown",
   "id": "287b7db2",
   "metadata": {
    "deletable": false,
    "editable": false,
    "nbgrader": {
     "cell_type": "markdown",
     "checksum": "4e75d4206e2e9e6dbc02aaa61abf00cd",
     "grade": false,
     "grade_id": "cell-81b33ee2295fa0d2",
     "locked": true,
     "schema_version": 3,
     "solution": false,
     "task": false
    }
   },
   "source": [
    "For a single network you can plot the indegree distribution against the outdegree distribution"
   ]
  },
  {
   "cell_type": "code",
   "execution_count": null,
   "id": "113cbc99",
   "metadata": {},
   "outputs": [],
   "source": [
    "plot( degree(X, cmode='indegree'), degree(X, cmode='outdegree'))"
   ]
  },
  {
   "cell_type": "markdown",
   "id": "31e320d0",
   "metadata": {
    "deletable": false,
    "editable": false,
    "nbgrader": {
     "cell_type": "markdown",
     "checksum": "7e36ecf5fc9e183be0ad51746f1d4e45",
     "grade": false,
     "grade_id": "cell-43dfff6369fd134f",
     "locked": true,
     "schema_version": 3,
     "solution": false,
     "task": false
    }
   },
   "source": [
    "One way to summarise the association between indegree and outdegree is to calculate the correlation. In order to avoid big code chunks, define a function that calculates the correlation between in- and out-degre:"
   ]
  },
  {
   "cell_type": "code",
   "execution_count": null,
   "id": "d46f56bd",
   "metadata": {},
   "outputs": [],
   "source": [
    "deg.cor <- function(X)\n",
    "{\n",
    "  degcorr <- cor( degree(X,cmode='indegree'), degree(X,cmode='outdegree'))\n",
    "  degcorr\n",
    "}"
   ]
  },
  {
   "cell_type": "markdown",
   "id": "216a258d",
   "metadata": {
    "deletable": false,
    "editable": false,
    "nbgrader": {
     "cell_type": "markdown",
     "checksum": "7367ea62f0ad300f895f63aae030db16",
     "grade": false,
     "grade_id": "cell-e249f164f4a47206",
     "locked": true,
     "schema_version": 3,
     "solution": false,
     "task": false
    }
   },
   "source": [
    "You can use this function in the exact same way you use, for example, `centralization`:"
   ]
  },
  {
   "cell_type": "code",
   "execution_count": null,
   "id": "06e618d2",
   "metadata": {},
   "outputs": [],
   "source": [
    "deg.cor.obs <-  deg.cor( X )\n",
    "\n",
    "deg.cor <- apply(Xsim,\n",
    "                 1,\n",
    "                 deg.cor ) \n",
    "\n",
    "hist(deg.cor, xlim=range(deg.cor.obs,deg.cor))\n",
    "abline(v =deg.cor.obs, col='red')"
   ]
  },
  {
   "cell_type": "markdown",
   "id": "afd77e3d",
   "metadata": {
    "deletable": false,
    "editable": false,
    "nbgrader": {
     "cell_type": "markdown",
     "checksum": "cd0e608089ba680ddfe311f0a630f001",
     "grade": false,
     "grade_id": "cell-fe2100017c2c9205",
     "locked": true,
     "schema_version": 3,
     "solution": false,
     "task": false
    }
   },
   "source": [
    "> Functions in `sna` will work the same on $m \\times n \\times n$ arrays of networks and lists of networks of length $m$, and return the same output. User-defiend functions may be different.  \n",
    "\n",
    "For *lists* of network variables, you need to use `lapply` and then convert the output from a list to a vector:"
   ]
  },
  {
   "cell_type": "code",
   "execution_count": null,
   "id": "c95f8f2e",
   "metadata": {},
   "outputs": [],
   "source": [
    "deg.cor.obs <-  deg.cor(X)\n",
    "# Xudegs is a list of networks, so we need to use\n",
    "# 'lapply' rather than 'apply'\n",
    "deg.cor <- lapply(Xoutdegs ,\n",
    "                 deg.cor )# the function you want to apply to each element  Xoutdegs[[k]]\n",
    "deg.cor <- unlist(deg.cor)# 'lapply' returns a list and here we want a verctor\n",
    "hist(deg.cor, xlim=range(deg.cor.obs,deg.cor))\n",
    "abline(v =deg.cor.obs, col='red')"
   ]
  },
  {
   "cell_type": "markdown",
   "id": "88f79ddb",
   "metadata": {
    "deletable": false,
    "editable": false,
    "nbgrader": {
     "cell_type": "markdown",
     "checksum": "704e7b6902c1cd4e38825aec0225d035",
     "grade": false,
     "grade_id": "cell-5a3c2a379bfb2670",
     "locked": true,
     "schema_version": 3,
     "solution": false,
     "task": false
    }
   },
   "source": [
    "For centralization, note that you can distinguish between indegree and outdegree centrality"
   ]
  },
  {
   "cell_type": "code",
   "execution_count": null,
   "id": "fda1c7a3",
   "metadata": {},
   "outputs": [],
   "source": [
    "centralization(X,degree,cmode=\"indegree\")\n",
    "centralization(X,degree,cmode=\"outdegree\")"
   ]
  },
  {
   "cell_type": "markdown",
   "id": "d4dae0f6",
   "metadata": {
    "deletable": false,
    "editable": false,
    "nbgrader": {
     "cell_type": "markdown",
     "checksum": "3b624f1cb967713b9adce727bebd5af1",
     "grade": false,
     "grade_id": "cell-a7a9e8b048b34de0",
     "locked": true,
     "schema_version": 3,
     "solution": false,
     "task": false
    }
   },
   "source": [
    "# Tasks\n",
    "\n",
    "This is the main part of the assessment.\n",
    "\n",
    "The exercise is based on the s50 dataset. Go to the page (https://www.stats.ox.ac.uk/~snijders/siena/s50_data.htm) and read the data description."
   ]
  },
  {
   "cell_type": "markdown",
   "id": "e1484ec2",
   "metadata": {
    "deletable": false,
    "editable": false,
    "nbgrader": {
     "cell_type": "markdown",
     "checksum": "90631d0cdb09b49eb3eb667a59755778",
     "grade": false,
     "grade_id": "cell-4a3c5dec22916c67",
     "locked": true,
     "points": 0,
     "schema_version": 3,
     "solution": false,
     "task": true
    }
   },
   "source": [
    "### Question 2 (2 points)\n",
    "\n",
    "What is the maximum number of names respondents are allowed to nominate and what is the distribution of male and female students?\n",
    "\n",
    "\n"
   ]
  },
  {
   "cell_type": "markdown",
   "id": "908814fe",
   "metadata": {
    "deletable": false,
    "nbgrader": {
     "cell_type": "markdown",
     "checksum": "1764545a3e8557fb0a015cac5c65c2a8",
     "grade": true,
     "grade_id": "cell-2eab141d830ccb97",
     "locked": false,
     "points": 2,
     "schema_version": 3,
     "solution": true,
     "task": false
    }
   },
   "source": [
    "YOUR ANSWER HERE"
   ]
  },
  {
   "cell_type": "markdown",
   "id": "32e4192e",
   "metadata": {
    "deletable": false,
    "editable": false,
    "nbgrader": {
     "cell_type": "markdown",
     "checksum": "2472c4ff3412b6f56193429dd72d69e6",
     "grade": false,
     "grade_id": "cell-298321c265ca8720",
     "locked": true,
     "schema_version": 3,
     "solution": false,
     "task": false
    }
   },
   "source": [
    "## Load the s50 data\n",
    "\n",
    "Load the s50 data and plot it"
   ]
  },
  {
   "cell_type": "code",
   "execution_count": null,
   "id": "656a30fb",
   "metadata": {},
   "outputs": [],
   "source": [
    "temp <- tempfile()\n",
    "download.file(\"https://www.stats.ox.ac.uk/~snijders/siena/s50_data.zip\",temp)\n",
    "X <- as.matrix( read.table(unz(temp, \"s50-network1.dat\")) )\n",
    "unlink(temp)\n",
    "gplot(X)"
   ]
  },
  {
   "cell_type": "markdown",
   "id": "99dbdaf3",
   "metadata": {
    "deletable": false,
    "editable": false,
    "nbgrader": {
     "cell_type": "markdown",
     "checksum": "704771173aa480c9136f7db50429878b",
     "grade": false,
     "grade_id": "cell-291cb1ff5c1460d0",
     "locked": true,
     "schema_version": 3,
     "solution": false,
     "task": false
    }
   },
   "source": [
    "Define `n` and `obs.dyad.census`"
   ]
  },
  {
   "cell_type": "code",
   "execution_count": null,
   "id": "edf8d4c6",
   "metadata": {
    "deletable": false,
    "nbgrader": {
     "cell_type": "code",
     "checksum": "1c6ce10575b854cd98a4a50c0ddbcfe8",
     "grade": false,
     "grade_id": "cell-66bf000ed4ebbfa0",
     "locked": false,
     "schema_version": 3,
     "solution": true,
     "task": false
    }
   },
   "outputs": [],
   "source": [
    "# you do not have to use these exact variable names, but\n",
    "# if you chose different ones, make sure to be consistent in the sequel\n",
    "\n",
    "# YOUR CODE HERE\n",
    "stop('No Answer Given!')\n",
    "n\n",
    "obs.dyad.census\n"
   ]
  },
  {
   "cell_type": "markdown",
   "id": "4b9a5b14",
   "metadata": {
    "deletable": false,
    "editable": false,
    "nbgrader": {
     "cell_type": "markdown",
     "checksum": "a16df74a3c048bba4d27fed924d187d6",
     "grade": false,
     "grade_id": "cell-4ca6d975a01be84d",
     "locked": true,
     "schema_version": 3,
     "solution": false,
     "task": false
    }
   },
   "source": [
    "# Generate your random networks\n",
    "Using the **code provided above**, to generate networks from\n",
    "* $X \\thicksim Bern(p)$\n",
    "* $X \\thicksim U | d_{out}$\n",
    "* $X \\thicksim U | d_{in}$\n",
    "* $X \\thicksim U | d_{out},d_{in}$\n",
    "* $X \\thicksim U | MAN $\n",
    "\n",
    "For each model make sure that you set the right parameters to match the s50 dataset.\n",
    "\n",
    "## Bernoulli\n",
    "\n",
    "Simulate your networks (again, you do not have to use the same variable names)\n"
   ]
  },
  {
   "cell_type": "code",
   "execution_count": null,
   "id": "8d3e5e54",
   "metadata": {
    "deletable": false,
    "nbgrader": {
     "cell_type": "code",
     "checksum": "154af31d43cb5fae5cbb43d3e09f6e2b",
     "grade": false,
     "grade_id": "cell-80c70d0742ee327c",
     "locked": false,
     "schema_version": 3,
     "solution": true,
     "task": false
    }
   },
   "outputs": [],
   "source": [
    "m <- 1000\n",
    "# YOUR CODE HERE\n",
    "stop('No Answer Given!')\n",
    "\n",
    "gplot( Xbern[1,,] )# plot the first one of the networks - note that this requires\n",
    "# that you called your array of networks XBern"
   ]
  },
  {
   "cell_type": "markdown",
   "id": "396dddff",
   "metadata": {
    "deletable": false,
    "editable": false,
    "nbgrader": {
     "cell_type": "markdown",
     "checksum": "16aadf8cc22d6f2684e94558231cfc7b",
     "grade": false,
     "grade_id": "cell-deb3a6f90753c6eb",
     "locked": true,
     "schema_version": 3,
     "solution": false,
     "task": false
    }
   },
   "source": [
    "## Uniform conditional on outdegree $X \\thicksim U | d_{out}$\n",
    "\n",
    "Draw networks that fixed outdegree, the starting network needs to be translated to a `network` object as the `ergm` function requires it):"
   ]
  },
  {
   "cell_type": "code",
   "execution_count": null,
   "id": "2ad39187",
   "metadata": {
    "deletable": false,
    "nbgrader": {
     "cell_type": "code",
     "checksum": "c6498c63f469eb7a6e088b3c8169e8bd",
     "grade": false,
     "grade_id": "cell-480cd8dae06ef5a7",
     "locked": false,
     "schema_version": 3,
     "solution": true,
     "task": false
    }
   },
   "outputs": [],
   "source": [
    "X.net <- as.network(X,directed=TRUE)\n",
    "# YOUR CODE HERE\n",
    "stop('No Answer Given!')\n",
    "plot( Xoutdeg[[1]] ) #  plot the first network in the *list* of networks\n",
    "# NOTE: the `network` package knows that 'plot' for a network object means 'gplot'\n"
   ]
  },
  {
   "cell_type": "markdown",
   "id": "cc39f03e",
   "metadata": {
    "deletable": false,
    "editable": false,
    "nbgrader": {
     "cell_type": "markdown",
     "checksum": "188c3bb6f217bd2c35ba1a7d5fb50716",
     "grade": false,
     "grade_id": "cell-12e89993636fe785",
     "locked": true,
     "schema_version": 3,
     "solution": false,
     "task": false
    }
   },
   "source": [
    "## Uniform conditional on indegree $X \\thicksim U | d_{in}$\n",
    "\n",
    "Draw networks that fixed outdegree"
   ]
  },
  {
   "cell_type": "code",
   "execution_count": null,
   "id": "1186caa1",
   "metadata": {
    "deletable": false,
    "nbgrader": {
     "cell_type": "code",
     "checksum": "35f500871d2628e126956a78c027fccf",
     "grade": false,
     "grade_id": "cell-f4eb5bb01b216c5a",
     "locked": false,
     "schema_version": 3,
     "solution": true,
     "task": false
    }
   },
   "outputs": [],
   "source": [
    "# Use the code from the Kapferer example an be careful to adopt the right bits\n",
    "# YOUR CODE HERE\n",
    "stop('No Answer Given!')\n",
    "plot( Xindegs[[1]] ) #  plot the first network in the *list* of networks"
   ]
  },
  {
   "cell_type": "markdown",
   "id": "673f4d6e",
   "metadata": {
    "deletable": false,
    "editable": false,
    "nbgrader": {
     "cell_type": "markdown",
     "checksum": "767a22b4e2f0909309a13c2772cf05a1",
     "grade": false,
     "grade_id": "cell-8666372ca74c1a30",
     "locked": true,
     "schema_version": 3,
     "solution": false,
     "task": false
    }
   },
   "source": [
    "## Uniform conditional on outdegree and indegree $X \\thicksim U | d_{out},d_{in}$\n",
    "\n",
    "Draw networks that fixed both outdegree and outdegree"
   ]
  },
  {
   "cell_type": "code",
   "execution_count": null,
   "id": "79169a9a",
   "metadata": {
    "deletable": false,
    "nbgrader": {
     "cell_type": "code",
     "checksum": "75d37df06a2067a33621882412d5bd51",
     "grade": false,
     "grade_id": "cell-a8111044caa44df9",
     "locked": false,
     "schema_version": 3,
     "solution": true,
     "task": false
    }
   },
   "outputs": [],
   "source": [
    "# Use the code from the Kapferer example an be careful to adopt the right bits\n",
    "# YOUR CODE HERE\n",
    "stop('No Answer Given!')\n",
    "\n",
    "plot( Xdegs[[1]] ) # plot the first network in the *list* of networks"
   ]
  },
  {
   "cell_type": "markdown",
   "id": "cff8901a",
   "metadata": {
    "deletable": false,
    "editable": false,
    "nbgrader": {
     "cell_type": "markdown",
     "checksum": "b467e6614a67f0da57350abbb6767597",
     "grade": false,
     "grade_id": "cell-44ddf05fb77142ab",
     "locked": true,
     "schema_version": 3,
     "solution": false,
     "task": false
    }
   },
   "source": [
    "## Uniform conditional on dyad census $X \\thicksim U | MAN $\n",
    "\n",
    "Draw networks that have the right prescribed dyad census\n"
   ]
  },
  {
   "cell_type": "code",
   "execution_count": null,
   "id": "1b3d2bc9",
   "metadata": {
    "deletable": false,
    "nbgrader": {
     "cell_type": "code",
     "checksum": "c1f98f27fb00a24de9dbc6e73f3d488b",
     "grade": false,
     "grade_id": "cell-d1d7bf2fb4dfb22d",
     "locked": false,
     "schema_version": 3,
     "solution": true,
     "task": false
    }
   },
   "outputs": [],
   "source": [
    "# Use the code from the Kapferer example an be careful to adopt the right bits\n",
    "# YOUR CODE HERE\n",
    "stop('No Answer Given!')\n",
    "# If you get an ERROR, make sure that you have the right dyad census and right 'n'\n",
    "gplot( Xuman[1,,] ) # plot the first network in the m times n times n *array of networks*"
   ]
  },
  {
   "cell_type": "markdown",
   "id": "366b89dc",
   "metadata": {
    "deletable": false,
    "editable": false,
    "nbgrader": {
     "cell_type": "markdown",
     "checksum": "2f0a58d81596cbd292cde24dcb1ac9c4",
     "grade": false,
     "grade_id": "cell-02042595f95f0080",
     "locked": true,
     "schema_version": 3,
     "solution": false,
     "task": false
    }
   },
   "source": [
    "# Dyad census\n",
    "\n",
    "After you had read in the dataset you calculated the dyad census. Now test if there is more mutual dyads than you would expect, holding different properties constant. You may based this test on histograms alone or formally testing the numbers as in the Week 10 tutorial. Think carefully about which null-distributions to use"
   ]
  },
  {
   "cell_type": "code",
   "execution_count": null,
   "id": "f4e3ee0d",
   "metadata": {
    "deletable": false,
    "nbgrader": {
     "cell_type": "code",
     "checksum": "3856ede8539b91de97baf0d1160759a4",
     "grade": false,
     "grade_id": "cell-774778482d042fee",
     "locked": false,
     "schema_version": 3,
     "solution": true,
     "task": false
    }
   },
   "outputs": [],
   "source": [
    "# Write your R-code in this code chunk - there are no hidden tests here so \n",
    "# you can use this space for what you need in order to answer Question 3\n",
    "# YOUR CODE HERE\n",
    "stop('No Answer Given!')"
   ]
  },
  {
   "cell_type": "markdown",
   "id": "a3c555c8",
   "metadata": {
    "deletable": false,
    "editable": false,
    "nbgrader": {
     "cell_type": "markdown",
     "checksum": "29911d35e21b5fc12a652e1a03134517",
     "grade": false,
     "grade_id": "cell-4b2c09fd4f351b93",
     "locked": true,
     "schema_version": 3,
     "solution": false,
     "task": false
    }
   },
   "source": [
    "### Question 3 (4 points)\n",
    "\n",
    "For your distributions, what was the larges proportion of simulated graphs that had as large a number of mutual dyads or greater? Provide your numerical answer in the code block below"
   ]
  },
  {
   "cell_type": "code",
   "execution_count": null,
   "id": "a3f0a9eb",
   "metadata": {
    "deletable": false,
    "nbgrader": {
     "cell_type": "code",
     "checksum": "fc167c4db7a017b12fb75784f1a0c442",
     "grade": false,
     "grade_id": "cell-443005b8fc388bca",
     "locked": false,
     "schema_version": 3,
     "solution": true,
     "task": false
    }
   },
   "outputs": [],
   "source": [
    "prop <- c()\n",
    "# YOUR CODE HERE\n",
    "stop('No Answer Given!')"
   ]
  },
  {
   "cell_type": "code",
   "execution_count": null,
   "id": "b59bdd83",
   "metadata": {
    "deletable": false,
    "editable": false,
    "nbgrader": {
     "cell_type": "code",
     "checksum": "069958d2d3d1b79981b65ca257b62503",
     "grade": true,
     "grade_id": "cell-181e744057a46481",
     "locked": true,
     "points": 4,
     "schema_version": 3,
     "solution": false,
     "task": false
    }
   },
   "outputs": [],
   "source": [
    "# this cell contains a hidden test that your answer to Question 3 should pass"
   ]
  },
  {
   "cell_type": "markdown",
   "id": "30d44030",
   "metadata": {
    "deletable": false,
    "editable": false,
    "nbgrader": {
     "cell_type": "markdown",
     "checksum": "bff2af3901a0f15fc2b19a4e6e10e63f",
     "grade": false,
     "grade_id": "cell-f9b65cc485a937da",
     "locked": true,
     "points": 0,
     "schema_version": 3,
     "solution": false,
     "task": true
    }
   },
   "source": [
    "### Question 4 (4 points)\n",
    "\n",
    "What can be conclude based upon $U \\mid d_{out},d_{in}$, can you provide a brief (one sentence) plain language interpretation\n",
    "\n",
    "\n"
   ]
  },
  {
   "cell_type": "markdown",
   "id": "2ebe9c83",
   "metadata": {
    "deletable": false,
    "nbgrader": {
     "cell_type": "markdown",
     "checksum": "f96df4749651250c8cd4cc77287cc6d4",
     "grade": true,
     "grade_id": "cell-3ee7d2683cb0da4b",
     "locked": false,
     "points": 4,
     "schema_version": 3,
     "solution": true,
     "task": false
    }
   },
   "source": [
    "YOUR ANSWER HERE"
   ]
  },
  {
   "cell_type": "markdown",
   "id": "d6a1de42",
   "metadata": {
    "deletable": false,
    "editable": false,
    "nbgrader": {
     "cell_type": "markdown",
     "checksum": "d752d103a902ff5708d2ff719930985f",
     "grade": false,
     "grade_id": "cell-9ba4cd61c0cffdca",
     "locked": true,
     "schema_version": 3,
     "solution": false,
     "task": false
    }
   },
   "source": [
    "# Centralization\n",
    "\n",
    "Plot the indegree distribution"
   ]
  },
  {
   "cell_type": "code",
   "execution_count": null,
   "id": "ece6af60",
   "metadata": {},
   "outputs": [],
   "source": [
    "plot( table( degree( X , cmode='indegree') ) , type='b')"
   ]
  },
  {
   "cell_type": "markdown",
   "id": "bc3a6dee",
   "metadata": {
    "deletable": false,
    "editable": false,
    "nbgrader": {
     "cell_type": "markdown",
     "checksum": "f7fbb88fb0ef3e7fd5f048e5e4fc605e",
     "grade": false,
     "grade_id": "cell-e91a10bec0f55037",
     "locked": true,
     "schema_version": 3,
     "solution": false,
     "task": false
    }
   },
   "source": [
    "Does it seem as if popularity is evenly distributed in the network or not? Let us calculate the centralization in indegrees"
   ]
  },
  {
   "cell_type": "code",
   "execution_count": null,
   "id": "d01339e5",
   "metadata": {},
   "outputs": [],
   "source": [
    "Cent.obs <- centralization(X,# the observed network\n",
    "                           degree, # the centrality index we want\n",
    "                           cmode=\"indegree\",# and the type we want the index to be based on\n",
    "                           normalize=FALSE, mode='digraph')\n",
    "Cent.obs"
   ]
  },
  {
   "cell_type": "markdown",
   "id": "32afac8d",
   "metadata": {
    "deletable": false,
    "editable": false,
    "nbgrader": {
     "cell_type": "markdown",
     "checksum": "3e2e3479506a77951a0b0eba6d151f29",
     "grade": false,
     "grade_id": "cell-2f15d3b22beb5c9b",
     "locked": true,
     "schema_version": 3,
     "solution": false,
     "task": false
    }
   },
   "source": [
    "Now, test centralization using your simulations from the null distributions. You may based this test on histograms alone or formally testing the numbers as in the Week 10 tutorial. Think carefully about which null-distributions to use"
   ]
  },
  {
   "cell_type": "code",
   "execution_count": null,
   "id": "cd33b657",
   "metadata": {
    "deletable": false,
    "nbgrader": {
     "cell_type": "code",
     "checksum": "260f21d0be94226fa2e239d7f884de08",
     "grade": false,
     "grade_id": "cell-93cffd51ae1b54c0",
     "locked": false,
     "schema_version": 3,
     "solution": true,
     "task": false
    }
   },
   "outputs": [],
   "source": [
    "# Write your R-code in this code chunk - there are no hidden tests here so \n",
    "# you can use this space for what you need in order to answer Question 5\n",
    "# YOUR CODE HERE\n",
    "stop('No Answer Given!')"
   ]
  },
  {
   "cell_type": "markdown",
   "id": "257a3e25",
   "metadata": {
    "deletable": false,
    "editable": false,
    "nbgrader": {
     "cell_type": "markdown",
     "checksum": "aa33fbc2b5ffe36e9d7b5585726d4104",
     "grade": false,
     "grade_id": "cell-c4aa325b8b291100",
     "locked": true,
     "points": 0,
     "schema_version": 3,
     "solution": false,
     "task": true
    }
   },
   "source": [
    "### Question 5 (4 points)\n",
    "\n",
    "Are any of the models able to explain centralization, if so provide a brief (one sentence) plain language interpretation\n",
    "\n",
    "\n"
   ]
  },
  {
   "cell_type": "markdown",
   "id": "c619c072",
   "metadata": {
    "deletable": false,
    "nbgrader": {
     "cell_type": "markdown",
     "checksum": "237031b2036e19c740288e56e2d21d73",
     "grade": true,
     "grade_id": "cell-7caeef6f4bf621d5",
     "locked": false,
     "points": 4,
     "schema_version": 3,
     "solution": true,
     "task": false
    }
   },
   "source": [
    "YOUR ANSWER HERE"
   ]
  },
  {
   "cell_type": "markdown",
   "id": "ba94c503",
   "metadata": {
    "deletable": false,
    "editable": false,
    "nbgrader": {
     "cell_type": "markdown",
     "checksum": "ccee2e683f48259807a16f59848e5d68",
     "grade": false,
     "grade_id": "cell-6618b101e87a570b",
     "locked": true,
     "schema_version": 3,
     "solution": false,
     "task": false
    }
   },
   "source": [
    "## Assortativity\n",
    "\n",
    "Plot the indegrees against the outdegrees"
   ]
  },
  {
   "cell_type": "code",
   "execution_count": null,
   "id": "8e6c8d25",
   "metadata": {},
   "outputs": [],
   "source": [
    "plot( jitter( degree(X, cmode='indegree'), factor =.25 ),# jitter adds some random noise so \n",
    "     jitter(degree(X, cmode='outdegree'), factor=.25))# that the points are on on top of eachother"
   ]
  },
  {
   "cell_type": "markdown",
   "id": "523c0012",
   "metadata": {
    "deletable": false,
    "editable": false,
    "nbgrader": {
     "cell_type": "markdown",
     "checksum": "adf87521cfea9250d8d8caa1543e0e25",
     "grade": false,
     "grade_id": "cell-28ea9be041fe0b67",
     "locked": true,
     "schema_version": 3,
     "solution": false,
     "task": false
    }
   },
   "source": [
    "Does it look that people who send a lot of ties also receive a lot of ties? \n",
    "\n",
    "Calculate the correlation between indegree and outdegree in the network"
   ]
  },
  {
   "cell_type": "code",
   "execution_count": null,
   "id": "0b4326ef",
   "metadata": {},
   "outputs": [],
   "source": [
    "deg.cor.obs <-  deg.cor(X)\n",
    "deg.cor.obs"
   ]
  },
  {
   "cell_type": "markdown",
   "id": "24b15660",
   "metadata": {
    "deletable": false,
    "editable": false,
    "nbgrader": {
     "cell_type": "markdown",
     "checksum": "c491a71014a52022dd596e05965c9bcc",
     "grade": false,
     "grade_id": "cell-e34e4a5976fe3d73",
     "locked": true,
     "schema_version": 3,
     "solution": false,
     "task": false
    }
   },
   "source": [
    "Using the code above, test whether this correlation is higher than expected using appropriate null distributions. Like in the previous questions, you may use "
   ]
  },
  {
   "cell_type": "code",
   "execution_count": null,
   "id": "4ce95b3d",
   "metadata": {
    "deletable": false,
    "nbgrader": {
     "cell_type": "code",
     "checksum": "c5c438ca767d46140dcf214a63926ecb",
     "grade": false,
     "grade_id": "cell-8dbfa8785d0c9ddc",
     "locked": false,
     "schema_version": 3,
     "solution": true,
     "task": false
    }
   },
   "outputs": [],
   "source": [
    "# Write your R-code in this code chunk - there are no hidden tests here so \n",
    "# you can use this space for what you need in order to answer Question 5\n",
    "# YOUR CODE HERE\n",
    "stop('No Answer Given!')"
   ]
  },
  {
   "cell_type": "markdown",
   "id": "48ee99ff",
   "metadata": {
    "deletable": false,
    "editable": false,
    "nbgrader": {
     "cell_type": "markdown",
     "checksum": "90101ee50d0ea0bfcaefa370d9bc615f",
     "grade": false,
     "grade_id": "cell-dc13842b05bbb00d",
     "locked": true,
     "points": 0,
     "schema_version": 3,
     "solution": false,
     "task": true
    }
   },
   "source": [
    "### Question 6 (4 points)\n",
    "\n",
    "Is there a process that seems to account for the correlation between popularity and activity? Try to provide an interpretation if this is the case\n",
    "\n",
    "\n"
   ]
  },
  {
   "cell_type": "markdown",
   "id": "1aff48db",
   "metadata": {
    "deletable": false,
    "nbgrader": {
     "cell_type": "markdown",
     "checksum": "e178fdc14286a32eab5ee1bf88c030c0",
     "grade": true,
     "grade_id": "cell-89c44f1dd92179dd",
     "locked": false,
     "points": 4,
     "schema_version": 3,
     "solution": true,
     "task": false
    }
   },
   "source": [
    "YOUR ANSWER HERE"
   ]
  },
  {
   "cell_type": "markdown",
   "id": "741e7f3d",
   "metadata": {
    "deletable": false,
    "editable": false,
    "nbgrader": {
     "cell_type": "markdown",
     "checksum": "8339728dc48663902085f4b9acc22751",
     "grade": false,
     "grade_id": "cell-a44c415fe7c147de",
     "locked": true,
     "schema_version": 3,
     "solution": false,
     "task": false
    }
   },
   "source": [
    "## Triad census\n",
    "\n",
    "Recall, that for directed networks there are 16 different triads.\n",
    "\n",
    "![The 16 MAN triads for directed networks .](https://raw.githubusercontent.com/johankoskinen/BayesERGM/main/data/triadcensus.png)\n",
    "\n",
    "Each triad is labeled by its dyad census - this is called the MAN labeling scheme.\n",
    "\n",
    "Calculate the triad census for the observed network"
   ]
  },
  {
   "cell_type": "code",
   "execution_count": null,
   "id": "c77e92b8",
   "metadata": {},
   "outputs": [],
   "source": [
    "triad.obs <- triad.census(X)\n",
    "triad.obs "
   ]
  },
  {
   "cell_type": "markdown",
   "id": "ce544883",
   "metadata": {},
   "source": [
    "### Test triads\n",
    "\n",
    "Here you are going to focus on the transitive triad 030T, the cyclic triad 030C, and the dense triad (of Simmilean tie) 300. In the order of triads, these are number 9, 10, and 16, respectively.\n",
    "\n",
    "For each random graph model in turn, plot the distribution of these three triads and test whether the observed network has significantly more of these triads than expected under the random graph\n"
   ]
  },
  {
   "cell_type": "markdown",
   "id": "f10f0090",
   "metadata": {},
   "source": [
    "### Bernoulli "
   ]
  },
  {
   "cell_type": "code",
   "execution_count": null,
   "id": "34bf2b50",
   "metadata": {},
   "outputs": [],
   "source": [
    "# You can use this as a template \n",
    "\n",
    "par(mfrow=c(1,3))\n",
    "triad.sim <- triad.census(Xbern)\n",
    "for (k in c(9,10,16)){\n",
    "hist( triad.sim[,k] ,\n",
    "      xlim = range(triad.sim[,k],triad.obs[k]),\n",
    "      main = paste('prop ',colnames(triad.obs)[k], mean( triad.sim[,k]>triad.obs[k] ) )  )\n",
    "abline( v = triad.obs[k]  )  \n",
    "}\n"
   ]
  },
  {
   "cell_type": "markdown",
   "id": "81836c5e",
   "metadata": {},
   "source": [
    "###  Conditional on oudegree $U | d_{out}$ (1 point)\n"
   ]
  },
  {
   "cell_type": "code",
   "execution_count": null,
   "id": "63173154",
   "metadata": {
    "deletable": false,
    "nbgrader": {
     "cell_type": "code",
     "checksum": "591073f46595acc04f902195a9bb77ce",
     "grade": true,
     "grade_id": "cell-e95ac09f0a64beab",
     "locked": false,
     "points": 1,
     "schema_version": 3,
     "solution": true,
     "task": false
    }
   },
   "outputs": [],
   "source": [
    "# Write your R-code in this code chunk - there are no hidden tests here so \n",
    "# you can use this space for what you need in order to test and plot\n",
    "par(mfrow=c(1,3))\n",
    "# YOUR CODE HERE\n",
    "stop('No Answer Given!')"
   ]
  },
  {
   "cell_type": "markdown",
   "id": "132b7ed4",
   "metadata": {},
   "source": [
    "###  Conditional on inegree $U | d_{in}$ (1 point)"
   ]
  },
  {
   "cell_type": "code",
   "execution_count": null,
   "id": "95c9ce57",
   "metadata": {
    "deletable": false,
    "nbgrader": {
     "cell_type": "code",
     "checksum": "aa9daf038b484bb4bb84dc847aea14fb",
     "grade": true,
     "grade_id": "cell-027641553c9d8dc3",
     "locked": false,
     "points": 1,
     "schema_version": 3,
     "solution": true,
     "task": false
    }
   },
   "outputs": [],
   "source": [
    "# Write your R-code in this code chunk - there are no hidden tests here so \n",
    "# you can use this space for what you need in order to test and plot\n",
    "par(mfrow=c(1,3))\n",
    "# YOUR CODE HERE\n",
    "stop('No Answer Given!')"
   ]
  },
  {
   "cell_type": "markdown",
   "id": "541faa7a",
   "metadata": {},
   "source": [
    "###  Conditional on outdegree and inegree $U | d_{out},d_{in}$ (1 point)"
   ]
  },
  {
   "cell_type": "code",
   "execution_count": null,
   "id": "349f612c",
   "metadata": {
    "deletable": false,
    "nbgrader": {
     "cell_type": "code",
     "checksum": "ee2db4bf77a36472af9ba858d8a4a768",
     "grade": true,
     "grade_id": "cell-95771db24d93cbc9",
     "locked": false,
     "points": 1,
     "schema_version": 3,
     "solution": true,
     "task": false
    }
   },
   "outputs": [],
   "source": [
    "# Write your R-code in this code chunk - there are no hidden tests here so \n",
    "# you can use this space for what you need in order to test and plot\n",
    "par(mfrow=c(1,3))\n",
    "# YOUR CODE HERE\n",
    "stop('No Answer Given!')"
   ]
  },
  {
   "cell_type": "markdown",
   "id": "55ef1aad",
   "metadata": {},
   "source": [
    "###  Conditional on dyad census $U |MAN$ (1 point)"
   ]
  },
  {
   "cell_type": "code",
   "execution_count": null,
   "id": "f9193b75",
   "metadata": {
    "deletable": false,
    "nbgrader": {
     "cell_type": "code",
     "checksum": "1fe09518595b8c3d764b0a6b3be04174",
     "grade": true,
     "grade_id": "cell-cf5620a8140b7e56",
     "locked": false,
     "points": 1,
     "schema_version": 3,
     "solution": true,
     "task": false
    }
   },
   "outputs": [],
   "source": [
    "# Write your R-code in this code chunk - there are no hidden tests here so \n",
    "# you can use this space for what you need in order to test and plot\n",
    "par(mfrow=c(1,3))\n",
    "# YOUR CODE HERE\n",
    "stop('No Answer Given!')"
   ]
  },
  {
   "cell_type": "markdown",
   "id": "459a5149",
   "metadata": {
    "deletable": false,
    "editable": false,
    "nbgrader": {
     "cell_type": "markdown",
     "checksum": "eef9bc9219742418af49c3937ff85725",
     "grade": false,
     "grade_id": "cell-8f5067941d4a108c",
     "locked": true,
     "points": 0,
     "schema_version": 3,
     "solution": false,
     "task": true
    }
   },
   "source": [
    "### Question 7 (4 points)\n",
    "\n",
    "looking at 030T compare the results for Bernoulli, $U | d_{out}, d_{in}$, and $U | MAN$, and explain this in terms of status hierarchy\n",
    "\n",
    "\n"
   ]
  },
  {
   "cell_type": "markdown",
   "id": "bf836147",
   "metadata": {
    "deletable": false,
    "nbgrader": {
     "cell_type": "markdown",
     "checksum": "e5bd6db07dfe501f6e4afb18088ac7d3",
     "grade": true,
     "grade_id": "cell-ec9d8689d355070d",
     "locked": false,
     "points": 4,
     "schema_version": 3,
     "solution": true,
     "task": false
    }
   },
   "source": [
    "YOUR ANSWER HERE"
   ]
  },
  {
   "cell_type": "markdown",
   "id": "efc0d221",
   "metadata": {
    "deletable": false,
    "editable": false,
    "nbgrader": {
     "cell_type": "markdown",
     "checksum": "0c00eae9776f0e14a7dac3f0c08d9d20",
     "grade": false,
     "grade_id": "cell-733716c44b07396d",
     "locked": true,
     "points": 0,
     "schema_version": 3,
     "solution": false,
     "task": true
    }
   },
   "source": [
    "### Question 8 (3 points)\n",
    "\n",
    "looking at 300, interpret the result with reference to $U | MAN$.\n",
    "\n",
    "\n"
   ]
  },
  {
   "cell_type": "code",
   "execution_count": null,
   "id": "5e799643",
   "metadata": {
    "deletable": false,
    "nbgrader": {
     "cell_type": "code",
     "checksum": "4aca9ffcf8e64d7a269994e76131bd14",
     "grade": true,
     "grade_id": "cell-ab0aea6c88f016a3",
     "locked": false,
     "points": 3,
     "schema_version": 3,
     "solution": true,
     "task": false
    }
   },
   "outputs": [],
   "source": [
    "# YOUR CODE HERE\n",
    "stop('No Answer Given!')"
   ]
  },
  {
   "cell_type": "code",
   "execution_count": null,
   "id": "f091a704",
   "metadata": {},
   "outputs": [],
   "source": []
  }
 ],
 "metadata": {
  "kernelspec": {
   "display_name": "R",
   "language": "R",
   "name": "ir"
  },
  "language_info": {
   "codemirror_mode": "r",
   "file_extension": ".r",
   "mimetype": "text/x-r-source",
   "name": "R",
   "pygments_lexer": "r",
   "version": "4.1.0"
  }
 },
 "nbformat": 4,
 "nbformat_minor": 5
}
