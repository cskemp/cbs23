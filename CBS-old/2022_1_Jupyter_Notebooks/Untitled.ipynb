{
 "cells": [
  {
   "cell_type": "markdown",
   "id": "b1dd835a",
   "metadata": {},
   "source": [
    "# CBS Week 1 Exercise: Jupyter Notebooks"
   ]
  },
  {
   "cell_type": "code",
   "execution_count": null,
   "id": "9a9d3070",
   "metadata": {},
   "outputs": [],
   "source": [
    "suppressPackageStartupMessages({\n",
    "    library(testthat)\n",
    "})"
   ]
  },
  {
   "cell_type": "markdown",
   "id": "fab22bd7",
   "metadata": {},
   "source": [
    "A discussion thread is available for each week under the Discussions tab on the learning management system. If you have a question, please check the discussion to see if your question has already been addressed. If it hasn't been addressed, please post your question to the thread. Almost all class-related questions should be posted to the discussion board instead of sent to the instructors directly --- that way everyone in the class can see the responses. If you see a question on the Discussion board that you're able to answer, please jump in and do so.\n",
    "\n",
    "## Introduction to Jupyter Notebooks\n",
    "\n",
    "Future assignments and tutorials will take the form of Jupyter notebooks like this one. Typically you'll be asked to edit some of the code chunks and to add text in response to short answer questions. This introductory notebook will be graded automatically but the grade will not count. Completing and submitting the notebook, however, will get you ready for next week's tutorial and the notebooks to come.\n",
    "\n",
    "Notebooks may include questions that ask for a free-text response. For example:"
   ]
  },
  {
   "cell_type": "markdown",
   "id": "3d07276b",
   "metadata": {},
   "source": [
    "### Exercise 1 (0 points)\n",
    "\n",
    "Name one way in which human brains are superior to the best current digital electronic computers. Provide your answer in the cell immediately below this one.\n"
   ]
  },
  {
   "cell_type": "markdown",
   "id": "2dc0b72e",
   "metadata": {},
   "source": [
    "YOUR ANSWER HERE"
   ]
  },
  {
   "cell_type": "markdown",
   "id": "40fb089c",
   "metadata": {},
   "source": [
    "Notebooks may also include questions that ask you to write or edit some code. For example:\n",
    "\n",
    "### Exercise 2 (1 point)\n",
    "\n",
    "Complete the definition of a function `add_pair` that returns the sum of two numbers."
   ]
  },
  {
   "cell_type": "code",
   "execution_count": null,
   "id": "63a52d4e",
   "metadata": {},
   "outputs": [],
   "source": [
    "add_pair <- function(a,b){\n",
    "    # YOUR CODE HERE\n",
    "    stop('No Answer Given!')\n",
    "}"
   ]
  },
  {
   "cell_type": "markdown",
   "id": "c0a10424",
   "metadata": {},
   "source": [
    "Some coding questions will be automatically graded. For example, the automatic grader might check that your `add_pair` function produces the right answers on a couple of examples. The tests here are formulated using the `testthat` package."
   ]
  },
  {
   "cell_type": "code",
   "execution_count": null,
   "id": "42c8de67",
   "metadata": {},
   "outputs": [],
   "source": [
    "expect_that(add_pair(1,4), equals(5))\n",
    "expect_that(add_pair(-100,-8), equals(-108))"
   ]
  },
  {
   "cell_type": "markdown",
   "id": "fdc6d09a",
   "metadata": {},
   "source": [
    "Often the tests will be hidden. For example, here's a completely unfair question that we would never ask."
   ]
  },
  {
   "cell_type": "markdown",
   "id": "34c5ac4e",
   "metadata": {},
   "source": [
    "### Exercise 3 (1 point)\n",
    "I'm thinking of an integer `x` between 1 and 1,000,000. What is `x`?"
   ]
  },
  {
   "cell_type": "code",
   "execution_count": null,
   "id": "f79eae61",
   "metadata": {},
   "outputs": [],
   "source": [
    "x <-\n",
    "    # YOUR CODE HERE\n",
    "    stop('No Answer Given!')"
   ]
  },
  {
   "cell_type": "markdown",
   "id": "a6a3566a",
   "metadata": {},
   "source": [
    "Here's one test that your solution should pass. "
   ]
  },
  {
   "cell_type": "code",
   "execution_count": null,
   "id": "ab85fdd3",
   "metadata": {},
   "outputs": [],
   "source": [
    "expect_that(x>0, equals(TRUE))"
   ]
  },
  {
   "cell_type": "markdown",
   "id": "6fd774ca",
   "metadata": {},
   "source": [
    "But there's also a hidden test that you're not seeing which checks whether your guess matches the true value of `x`. Unless you're very lucky your solution will fail this test (but don't worry -- this notebook doesn't count for anything!)\n",
    "\n",
    "After you've finished working through the notebook, try \"validating\" the notebook by pressing the Validate button in the toolbar above. The validation process checks that your code passes all of the *visible* tests but doesn't consider the hidden tests. So just because the notebook validates doesn't mean that all of your answers are correct. "
   ]
  }
 ],
 "metadata": {
  "kernelspec": {
   "display_name": "R",
   "language": "R",
   "name": "ir"
  },
  "language_info": {
   "codemirror_mode": "r",
   "file_extension": ".r",
   "mimetype": "text/x-r-source",
   "name": "R",
   "pygments_lexer": "r",
   "version": "4.1.0"
  }
 },
 "nbformat": 4,
 "nbformat_minor": 5
}
