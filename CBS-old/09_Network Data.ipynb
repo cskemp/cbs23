{
 "cells": [
  {
   "cell_type": "code",
   "execution_count": 2,
   "id": "25289a4d",
   "metadata": {},
   "outputs": [],
   "source": [
    "suppressPackageStartupMessages({\n",
    "    library(sna)\n",
    "})"
   ]
  },
  {
   "cell_type": "markdown",
   "id": "ab837b89",
   "metadata": {},
   "source": [
    "\n",
    "# Introduction to networks\n",
    "This tutorial will introduce some fundamental concepts of graph theory and network analysis. The tutorial is structured in three parts\n",
    "* Using a toy network\n",
    "* Exploring empirical networks\n",
    "* Further metrics for digraphs\n",
    "\n",
    "Definitions and explanations of network terms are avialble in the online textbook by [Haneman and Riddle (2005)]<http://faculty.ucr.edu/~hanneman/nettext/>. A caveat is that their text book does not provide mathematical definitions and also provides instructions for UCINET only. An excellent introduciton to graph theory is provided by [Robin J. Wilson ](https://www.maths.ed.ac.uk/~v1ranick/papers/wilsongraph.pdf) but be mindful that he goes into **a lot** more detail about **a lot less** of what we need in working with graphs. Still, the book is a good reference for basic defnitions in grahp theory (and some puzzles for the real nerds).\n",
    "\n",
    "The topics here are also covered in the slides for week 9. Note that there are some algebraic formulae in here, this is only used for clarity and to avoid ambiguity - you will not be required to use graph theoretic formulae yourselfs.\n",
    "\n",
    "For the purposes of the length of the tutorial, there are some questions that are marked **optional** and that I do not consider compulsory. In the coming weeks you might find that some of the optional sections help you understand other topics and you can circle back to these then if you like.\n",
    "\n",
    "\n",
    "# Adjacency Matrix\n",
    "Create an empty $n \\times n$  **adjacency** matrix $X$ for $n=5$ nodes\n"
   ]
  },
  {
   "cell_type": "code",
   "execution_count": null,
   "id": "58c7bc55",
   "metadata": {},
   "outputs": [],
   "source": []
  }
 ],
 "metadata": {
  "kernelspec": {
   "display_name": "R",
   "language": "R",
   "name": "ir"
  },
  "language_info": {
   "codemirror_mode": "r",
   "file_extension": ".r",
   "mimetype": "text/x-r-source",
   "name": "R",
   "pygments_lexer": "r",
   "version": "4.1.0"
  }
 },
 "nbformat": 4,
 "nbformat_minor": 5
}
