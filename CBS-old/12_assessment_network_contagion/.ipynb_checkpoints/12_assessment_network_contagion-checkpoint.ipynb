{
 "cells": [
  {
   "cell_type": "code",
   "execution_count": 1,
   "id": "7f711705",
   "metadata": {},
   "outputs": [],
   "source": [
    "suppressPackageStartupMessages({\n",
    "    library(sna)\n",
    "    library(testthat)\n",
    "    library(network)\n",
    "    library(ergm)\n",
    "})"
   ]
  },
  {
   "cell_type": "markdown",
   "id": "4fced5ff",
   "metadata": {
    "nbgrader": {
     "grade": false,
     "grade_id": "cell-6d8552e829c8dfb8",
     "locked": true,
     "schema_version": 3,
     "solution": false,
     "task": false
    }
   },
   "source": [
    "# Assignment 'The bad apples': overview\n",
    "\n",
    "In this assignment you will be looking at deliquent behaviour in young adolescents. There are two main parts\n",
    "* Describing homophily in the network\n",
    "* Inferring if there is social influence\n",
    "\n",
    "# Load data\n",
    "The dataset was collected by Chris Bearveldt (Houtzager and Baerveldt, 1999) in classrooms in Dutch secondary schools. Load school number 14"
   ]
  },
  {
   "cell_type": "code",
   "execution_count": 2,
   "id": "fd5be0f5",
   "metadata": {},
   "outputs": [],
   "source": [
    "temp <- tempfile()\n",
    "download.file(\"https://www.stats.ox.ac.uk/~snijders/siena/CB_data.zip\",temp)\n",
    "behav <- as.matrix( read.table(unz(temp, \"CBE14.DAT\")) )\n",
    "X <- as.matrix( read.table(unz(temp, \"N34_14.DAT\")) )\n",
    "n <- dim(X)[1]\n",
    "unlink(temp)"
   ]
  },
  {
   "cell_type": "markdown",
   "id": "6aed6e64",
   "metadata": {
    "nbgrader": {
     "grade": false,
     "grade_id": "cell-00835c44f2aeb8f2",
     "locked": true,
     "schema_version": 3,
     "solution": false,
     "task": false
    }
   },
   "source": [
    "The dataset is desribed in more detail here (https://www.stats.ox.ac.uk/~snijders/siena/BaerveldtData.html). The node-variables we are going to use are in "
   ]
  },
  {
   "cell_type": "code",
   "execution_count": 3,
   "id": "479fe36b",
   "metadata": {},
   "outputs": [
    {
     "data": {
      "text/html": [
       "<table class=\"dataframe\">\n",
       "<caption>A matrix: 6 × 3 of type dbl</caption>\n",
       "<thead>\n",
       "\t<tr><th scope=col>V1</th><th scope=col>V2</th><th scope=col>V3</th></tr>\n",
       "</thead>\n",
       "<tbody>\n",
       "\t<tr><td>1</td><td>0.69</td><td>2</td></tr>\n",
       "\t<tr><td>1</td><td>3.26</td><td>2</td></tr>\n",
       "\t<tr><td>2</td><td>2.56</td><td>2</td></tr>\n",
       "\t<tr><td>2</td><td>1.61</td><td>3</td></tr>\n",
       "\t<tr><td>1</td><td>0.00</td><td>2</td></tr>\n",
       "\t<tr><td>1</td><td>2.30</td><td>2</td></tr>\n",
       "</tbody>\n",
       "</table>\n"
      ],
      "text/latex": [
       "A matrix: 6 × 3 of type dbl\n",
       "\\begin{tabular}{lll}\n",
       " V1 & V2 & V3\\\\\n",
       "\\hline\n",
       "\t 1 & 0.69 & 2\\\\\n",
       "\t 1 & 3.26 & 2\\\\\n",
       "\t 2 & 2.56 & 2\\\\\n",
       "\t 2 & 1.61 & 3\\\\\n",
       "\t 1 & 0.00 & 2\\\\\n",
       "\t 1 & 2.30 & 2\\\\\n",
       "\\end{tabular}\n"
      ],
      "text/markdown": [
       "\n",
       "A matrix: 6 × 3 of type dbl\n",
       "\n",
       "| V1 | V2 | V3 |\n",
       "|---|---|---|\n",
       "| 1 | 0.69 | 2 |\n",
       "| 1 | 3.26 | 2 |\n",
       "| 2 | 2.56 | 2 |\n",
       "| 2 | 1.61 | 3 |\n",
       "| 1 | 0.00 | 2 |\n",
       "| 1 | 2.30 | 2 |\n",
       "\n"
      ],
      "text/plain": [
       "     V1 V2   V3\n",
       "[1,] 1  0.69 2 \n",
       "[2,] 1  3.26 2 \n",
       "[3,] 2  2.56 2 \n",
       "[4,] 2  1.61 3 \n",
       "[5,] 1  0.00 2 \n",
       "[6,] 1  2.30 2 "
      ]
     },
     "metadata": {},
     "output_type": "display_data"
    }
   ],
   "source": [
    "head(behav)"
   ]
  },
  {
   "cell_type": "markdown",
   "id": "deaece77",
   "metadata": {
    "nbgrader": {
     "grade": false,
     "grade_id": "cell-0329716e45619d5e",
     "locked": true,
     "schema_version": 3,
     "solution": false,
     "task": false
    }
   },
   "source": [
    "### Sex\n",
    "The variable ``sex`` is coded as 1 for girls, and  2 for boys. Dichotomise that into 0 and 1\n"
   ]
  },
  {
   "cell_type": "code",
   "execution_count": 4,
   "id": "01371bde",
   "metadata": {},
   "outputs": [
    {
     "data": {
      "text/plain": [
       "sex\n",
       " 0  1 \n",
       "42 48 "
      ]
     },
     "metadata": {},
     "output_type": "display_data"
    }
   ],
   "source": [
    "sex <- behav[,1]-1\n",
    "table(sex)"
   ]
  },
  {
   "cell_type": "markdown",
   "id": "4a151fac",
   "metadata": {
    "nbgrader": {
     "grade": false,
     "grade_id": "cell-59eeb87065236b41",
     "locked": true,
     "schema_version": 3,
     "solution": false,
     "task": false
    }
   },
   "source": [
    "### Importance of schoool friends\n",
    "The importance of school friends was coded as a scale from from 1, very important, to 4, unimportant."
   ]
  },
  {
   "cell_type": "code",
   "execution_count": 5,
   "id": "703e0363",
   "metadata": {},
   "outputs": [
    {
     "data": {
      "text/plain": [
       "importance\n",
       " 1  2  3 \n",
       "15 59 16 "
      ]
     },
     "metadata": {},
     "output_type": "display_data"
    }
   ],
   "source": [
    "importance <- behav[,3]\n",
    "table( importance )"
   ]
  },
  {
   "cell_type": "markdown",
   "id": "9727d900",
   "metadata": {
    "nbgrader": {
     "grade": false,
     "grade_id": "cell-344253ef8a1a09b3",
     "locked": true,
     "schema_version": 3,
     "solution": false,
     "task": false
    }
   },
   "source": [
    "### Deliquent behaviour\n",
    "As a measure of delinquent behaviour, respondents were asked to provide the *number of minor offences* they had commited. Conseqently, originally, this is a count varible. It has been transformed using a log transform $\\ln(y+1)$ and here we will treat it as a scale. "
   ]
  },
  {
   "cell_type": "code",
   "execution_count": 6,
   "id": "be4799d5",
   "metadata": {},
   "outputs": [
    {
     "data": {
      "image/png": "[encoded data removed]",
      "text/plain": [
       "Plot with title “Histogram of Y”"
      ]
     },
     "metadata": {
      "image/png": {
       "height": 420,
       "width": 420
      }
     },
     "output_type": "display_data"
    }
   ],
   "source": [
    "Y <- behav[,2]\n",
    "hist( Y )"
   ]
  },
  {
   "cell_type": "markdown",
   "id": "f849783e",
   "metadata": {
    "nbgrader": {
     "grade": false,
     "grade_id": "cell-a37d6cb6ab176b77",
     "locked": true,
     "schema_version": 3,
     "solution": false,
     "task": false
    }
   },
   "source": [
    "### Network ties\n",
    "The network ties are \n",
    "\n",
    "> The relation is defined as giving and receiving emotional support: there is a tie from pupil $i$ to pupil $j$ if $i$ says that he/she receives and/or gives emotional support from/to pupil $j$.\n",
    "\n",
    "Note that while the relation is defined as *giving* or *receiving*, the network is stil directed.\n",
    "\n",
    "### Plot networks\n",
    "\n",
    "To get a first impression of the network, plot the network sociogram using `gplot` and set the network size roughly *proportional* to the delinquency scale and the colour by sex (use code from tutorials 1 through 3). For the size, i would set it to for example ``Y/2+0.5`` so that pupils with $Y_i=0$ do not have zero size"
   ]
  },
  {
   "cell_type": "code",
   "execution_count": 7,
   "id": "01a14ad5",
   "metadata": {
    "nbgrader": {
     "grade": false,
     "grade_id": "cell-30c6cb30c90923c5",
     "locked": false,
     "schema_version": 3,
     "solution": true,
     "task": false
    }
   },
   "outputs": [
    {
     "data": {
      "image/png": "[encoded data removed]",
      "text/plain": [
       "plot without title"
      ]
     },
     "metadata": {
      "image/png": {
       "height": 420,
       "width": 420
      }
     },
     "output_type": "display_data"
    }
   ],
   "source": [
    "### BEGIN SOLUTION\n",
    "gplot( X , vertex.cex = Y/2+0.5, vertex.col = sex)\n",
    "### 1 mark for plotting\n",
    "### END SOLUTION"
   ]
  },
  {
   "cell_type": "markdown",
   "id": "cc97ef4f",
   "metadata": {
    "nbgrader": {
     "grade": false,
     "grade_id": "cell-20c49d18420d4e4e",
     "locked": true,
     "points": 0,
     "schema_version": 3,
     "solution": false,
     "task": true
    }
   },
   "source": [
    "#### Question 1 (1 Points)\n",
    "\n",
    "Eye-balling the network, what would you conclude about the role of delinquency and sex (any reasonable observation gets full marks)\n",
    "\n",
    "=== BEGIN MARK SCHEME ===\n",
    "\n",
    "> There seems to be a clear homophily on sex. For delinquency it is hard to tell. On the one had there are some clusters of big nodes but there are also some big isolated nodes.\n",
    "\n",
    "=== END MARK SCHEME ===\n",
    "\n"
   ]
  },
  {
   "cell_type": "markdown",
   "id": "89ac28b4",
   "metadata": {
    "nbgrader": {
     "grade": true,
     "grade_id": "cell-9d92c63fc24923c4",
     "locked": false,
     "points": 1,
     "schema_version": 3,
     "solution": true,
     "task": false
    }
   },
   "source": []
  },
  {
   "cell_type": "markdown",
   "id": "aa58a89b",
   "metadata": {
    "nbgrader": {
     "grade": false,
     "grade_id": "cell-72fb17922cbedb8e",
     "locked": true,
     "schema_version": 3,
     "solution": false,
     "task": false
    }
   },
   "source": [
    "## Univariate associations\n",
    "\n",
    "Here follows a quick investigation of the univariate associations between delinquency and various nodal variates\n",
    "\n",
    "### Sex\n",
    "\n",
    "For the association of sex with delinquency, it is appropriate to do a grouped boxplot"
   ]
  },
  {
   "cell_type": "code",
   "execution_count": 8,
   "id": "331d73ea",
   "metadata": {},
   "outputs": [
    {
     "data": {
      "image/png": "[encoded data removed]",
      "text/plain": [
       "plot without title"
      ]
     },
     "metadata": {
      "image/png": {
       "height": 420,
       "width": 420
      }
     },
     "output_type": "display_data"
    }
   ],
   "source": [
    "boxplot(Y ~ sex)#"
   ]
  },
  {
   "cell_type": "markdown",
   "id": "d7e7fe49",
   "metadata": {
    "nbgrader": {
     "grade": false,
     "grade_id": "cell-a1be46d79f47687b",
     "locked": true,
     "points": 0,
     "schema_version": 3,
     "solution": false,
     "task": true
    }
   },
   "source": [
    "#### Question 2 (1 Points)\n",
    "\n",
    "Is there a difference between boys and girls in terms of delinquency\n",
    "\n",
    "\n",
    "=== BEGIN MARK SCHEME ===\n",
    "\n",
    "> Delinquency seems to be consistenly higher among boys than girls\n",
    "\n",
    "=== END MARK SCHEME ==="
   ]
  },
  {
   "cell_type": "markdown",
   "id": "fe6523b4",
   "metadata": {
    "nbgrader": {
     "grade": true,
     "grade_id": "cell-6907a431ec9d70d6",
     "locked": false,
     "points": 1,
     "schema_version": 3,
     "solution": true,
     "task": false
    }
   },
   "source": []
  },
  {
   "cell_type": "markdown",
   "id": "c0e6fdc2",
   "metadata": {
    "nbgrader": {
     "grade": false,
     "grade_id": "cell-57160f77d34d6da7",
     "locked": true,
     "schema_version": 3,
     "solution": false,
     "task": false
    }
   },
   "source": [
    "### Activity and populatiry\n",
    "\n",
    "We can loosely think of outdegree as activity and indegree as the popularity in the support network. Is eithe ractivity or popularity, or both, associated with delinquency?"
   ]
  },
  {
   "cell_type": "code",
   "execution_count": 9,
   "id": "82b9dfd1",
   "metadata": {},
   "outputs": [
    {
     "data": {
      "image/png": "[encoded data removed]",
      "text/plain": [
       "plot without title"
      ]
     },
     "metadata": {
      "image/png": {
       "height": 420,
       "width": 420
      }
     },
     "output_type": "display_data"
    }
   ],
   "source": [
    "par( mfrow=c(1,2))\n",
    "plot(degree(X,cmode='outdegree'),Y)\n",
    "plot(degree(X,cmode='indegree'),Y)"
   ]
  },
  {
   "cell_type": "markdown",
   "id": "5c194f7c",
   "metadata": {
    "nbgrader": {
     "grade": false,
     "grade_id": "cell-dcaf9edec46bcabc",
     "locked": true,
     "points": 0,
     "schema_version": 3,
     "solution": false,
     "task": true
    }
   },
   "source": [
    "#### Question 3 (1 Points)\n",
    "\n",
    "Can you conclude whether being popular or being active is associated with delinquency (any reasonable answer will suffice)\n",
    "\n",
    "=== BEGIN MARK SCHEME ===\n",
    "\n",
    "> Hard to tell. There might be a marginal positive association for both but there are a lot of students with score 0 and lots of isolated students that muddle the picture\n",
    "\n",
    "=== END MARK SCHEME ==="
   ]
  },
  {
   "cell_type": "markdown",
   "id": "22de9a91",
   "metadata": {
    "nbgrader": {
     "grade": true,
     "grade_id": "cell-3cac6971fbc351ae",
     "locked": false,
     "points": 1,
     "schema_version": 3,
     "solution": true,
     "task": false
    }
   },
   "source": []
  },
  {
   "cell_type": "markdown",
   "id": "015d5c83",
   "metadata": {
    "nbgrader": {
     "grade": false,
     "grade_id": "cell-56ee322b34ba19a7",
     "locked": true,
     "schema_version": 3,
     "solution": false,
     "task": false
    }
   },
   "source": [
    "### Importance\n",
    "While we will treat importance as a scale, the fact that the variable only takes on 4 (theoretical) levels makes a grouped boxplot better for investigating the association than a scatter plot"
   ]
  },
  {
   "cell_type": "code",
   "execution_count": 10,
   "id": "d2e80243",
   "metadata": {},
   "outputs": [
    {
     "data": {
      "image/png": "[encoded data removed]",
      "text/plain": [
       "plot without title"
      ]
     },
     "metadata": {
      "image/png": {
       "height": 420,
       "width": 420
      }
     },
     "output_type": "display_data"
    }
   ],
   "source": [
    "boxplot(Y ~ importance)"
   ]
  },
  {
   "cell_type": "markdown",
   "id": "779503d3",
   "metadata": {
    "nbgrader": {
     "grade": false,
     "grade_id": "cell-d43d3e00b2264e66",
     "locked": true,
     "points": 0,
     "schema_version": 3,
     "solution": false,
     "task": true
    }
   },
   "source": [
    "#### Question 4 (2 Points)\n",
    "\n",
    "Is there an association between importance and delinquency and, if so, is this what you would expect?\n",
    "\n",
    "=== BEGIN MARK SCHEME ===\n",
    "> The less important you consider school friends, the lower your delinquency score (1 Point). This might seem a litle paradoxical as you might expect less 'attached' individuals to be more at risk of being delinquent (1 Point for any reasonable argument). \n",
    "\n",
    "=== END MARK SCHEME ==="
   ]
  },
  {
   "cell_type": "markdown",
   "id": "aa0cbefc",
   "metadata": {
    "nbgrader": {
     "grade": true,
     "grade_id": "cell-20a7e47d7ad66c82",
     "locked": false,
     "points": 2,
     "schema_version": 3,
     "solution": true,
     "task": false
    }
   },
   "source": []
  },
  {
   "cell_type": "markdown",
   "id": "d8421fb0",
   "metadata": {
    "nbgrader": {
     "grade": false,
     "grade_id": "cell-9bd0f557459ff935",
     "locked": true,
     "schema_version": 3,
     "solution": false,
     "task": false
    }
   },
   "source": [
    "## Dyad-wise similarity\n",
    "\n",
    "In the tutorial in week 11, we learned about Moran's I as a possible metric for looking at evidence of social influence. Let us try to define a simple metric (as in the Lecture in week 11) that corresponds to homophily.\n",
    "\n",
    "Henceforth, let \n",
    "\n",
    "* $Y_i$ be the delinquency status of node $i$, $Y=(Y_i)$ be the $n\\times 1$ vector of delinquencies, \n",
    "* $M_{i,sex}$ be 0 or 1 according to whether node $i$ is female or male, respectively,  $M_{\\cdot,sex}=(M_{i,sex})$ be the $n\\times 1$ vector of sex\n",
    "* $M_{i,imp}$ be how imporant node $i$ considers school friends, $M_{\\cdot,imp}=(M_{i,imp})$ be the $n\\times 1$ vector of importance\n",
    "\n",
    "### Dyadic products\n",
    "\n",
    "$$\n",
    "\\sum_{i,j}X_{ij}Y_{i}Y_{j}\n",
    "$$\n",
    "\n",
    "We can calculate by constructing the matrix of products \n",
    "$$\n",
    "YY^{\\top}\n",
    "= \\begin{pmatrix}\n",
    "Y_{1}\\\\\n",
    "Y_{2}\\\\\n",
    "\\vdots\\\\\n",
    "Y_{n}\\\\\n",
    "\\end{pmatrix}\\begin{pmatrix}\n",
    "Y_{1} & \n",
    "Y_{2} &\n",
    "\\cdots &\n",
    "Y_{n}\n",
    "\\end{pmatrix}= \\begin{pmatrix}\n",
    "Y_1Y_1 & Y_1Y_2 & \\cdots & Y_1Y_n\\\\\n",
    "Y_12Y_1 & Y_2Y_2 & \\cdots & Y_2Y_n\\\\\n",
    "\\vdots & \\vdots & \\vdots& \\vdots\\\\\n",
    "Y_nY_1 & Y_nY_2 & \\cdots & Y_nY_n\\\\\n",
    "\\end{pmatrix}\n",
    "$$\n"
   ]
  },
  {
   "cell_type": "code",
   "execution_count": 11,
   "id": "92cac9f5",
   "metadata": {},
   "outputs": [],
   "source": [
    "YY <- Y %*% t(Y) # '%*%' is to get matrix product and t(Y) is the transpose of Y"
   ]
  },
  {
   "cell_type": "markdown",
   "id": "73b26fe2",
   "metadata": {
    "nbgrader": {
     "grade": false,
     "grade_id": "cell-7e4bb0206e5d31a2",
     "locked": true,
     "schema_version": 3,
     "solution": false,
     "task": false
    }
   },
   "source": [
    "To get the sum of product over all pairs\n",
    "\n",
    "$$\n",
    "X \\odot YY^{\\top} = \\begin{pmatrix}\n",
    "X_{11}Y_1Y_1 & X_{12}Y_1Y_2 & \\cdots & X_{1n}Y_1Y_n\\\\\n",
    "X_{21}Y_2Y_1 & X_{22}Y_2Y_2 & \\cdots & X_{2n}Y_2Y_n\\\\\n",
    "\\vdots & \\vdots & \\vdots& \\vdots\\\\\n",
    "X_{n1}Y_nY_1 & X_{n2}Y_nY_2 & \\cdots & X_{nn}Y_nY_n\\\\\n",
    "\\end{pmatrix}=\\left(\\sum_{i,j}X_{ij}Y_{i}Y_{j}\\right)\n",
    "$$\n",
    "\n",
    "Do people that are tied both have higher delinquency? We can calculate this manually\n"
   ]
  },
  {
   "cell_type": "code",
   "execution_count": 12,
   "id": "b09177ae",
   "metadata": {},
   "outputs": [
    {
     "data": {
      "text/html": [
       "603.5416"
      ],
      "text/latex": [
       "603.5416"
      ],
      "text/markdown": [
       "603.5416"
      ],
      "text/plain": [
       "[1] 603.5416"
      ]
     },
     "metadata": {},
     "output_type": "display_data"
    },
    {
     "data": {
      "text/html": [
       "21261.9953"
      ],
      "text/latex": [
       "21261.9953"
      ],
      "text/markdown": [
       "21261.9953"
      ],
      "text/plain": [
       "[1] 21262"
      ]
     },
     "metadata": {},
     "output_type": "display_data"
    }
   ],
   "source": [
    "sum( X * YY )\n",
    "sum( (1-X) *YY)"
   ]
  },
  {
   "cell_type": "markdown",
   "id": "ebe03295",
   "metadata": {
    "nbgrader": {
     "grade": false,
     "grade_id": "cell-2a3f52f0ef083e8d",
     "locked": true,
     "schema_version": 3,
     "solution": false,
     "task": false
    }
   },
   "source": [
    "We can make tow observations: (1) the product does not tell us about low-delinquency pairs (but maybe the product $(Y_i-\\bar{Y})(Y_j-\\bar{Y})$ would), and (2) we know that there are many more null-ties so how do we interpret the difference between these two?"
   ]
  },
  {
   "cell_type": "markdown",
   "id": "b9ffb4ef",
   "metadata": {
    "nbgrader": {
     "grade": false,
     "grade_id": "cell-a60177ae99e56a26",
     "locked": true,
     "schema_version": 3,
     "solution": false,
     "task": false
    }
   },
   "source": [
    "## Sex and delinquency\n",
    "Using the same matrix algebra trick, we cna construct a matrix that indicates what dyads are same-sex boys"
   ]
  },
  {
   "cell_type": "code",
   "execution_count": 13,
   "id": "d64aa91a",
   "metadata": {},
   "outputs": [
    {
     "data": {
      "text/html": [
       "74"
      ],
      "text/latex": [
       "74"
      ],
      "text/markdown": [
       "74"
      ],
      "text/plain": [
       "[1] 74"
      ]
     },
     "metadata": {},
     "output_type": "display_data"
    }
   ],
   "source": [
    "BB <- sex %*% t(sex)\n",
    "sum( X * BB)"
   ]
  },
  {
   "cell_type": "markdown",
   "id": "42eff857",
   "metadata": {
    "nbgrader": {
     "grade": false,
     "grade_id": "cell-bbb419e017d1c1f6",
     "locked": true,
     "schema_version": 3,
     "solution": false,
     "task": false
    }
   },
   "source": [
    "this should be the same as the number of ties in the subgraph induced by boys"
   ]
  },
  {
   "cell_type": "code",
   "execution_count": 14,
   "id": "628cd665",
   "metadata": {},
   "outputs": [
    {
     "data": {
      "text/html": [
       "74"
      ],
      "text/latex": [
       "74"
      ],
      "text/markdown": [
       "74"
      ],
      "text/plain": [
       "[1] 74"
      ]
     },
     "metadata": {},
     "output_type": "display_data"
    }
   ],
   "source": [
    "sum(X[sex==1,sex==1])"
   ]
  },
  {
   "cell_type": "markdown",
   "id": "32f06440",
   "metadata": {
    "nbgrader": {
     "grade": false,
     "grade_id": "cell-1c47d7f1aa20ccac",
     "locked": true,
     "schema_version": 3,
     "solution": false,
     "task": false
    }
   },
   "source": [
    "We can construct the same matrix for girl-girl dyads:"
   ]
  },
  {
   "cell_type": "code",
   "execution_count": 15,
   "id": "b6036f57",
   "metadata": {},
   "outputs": [
    {
     "data": {
      "text/html": [
       "75"
      ],
      "text/latex": [
       "75"
      ],
      "text/markdown": [
       "75"
      ],
      "text/plain": [
       "[1] 75"
      ]
     },
     "metadata": {},
     "output_type": "display_data"
    }
   ],
   "source": [
    "GG <- (1-sex) %*% t(1-sex)\n",
    "sum( X * GG)"
   ]
  },
  {
   "cell_type": "markdown",
   "id": "3a992480",
   "metadata": {},
   "source": [
    "This should be the same as the number of ties in the subgaph induced by girls:"
   ]
  },
  {
   "cell_type": "code",
   "execution_count": 16,
   "id": "2bfc640c",
   "metadata": {},
   "outputs": [
    {
     "data": {
      "text/html": [
       "75"
      ],
      "text/latex": [
       "75"
      ],
      "text/markdown": [
       "75"
      ],
      "text/plain": [
       "[1] 75"
      ]
     },
     "metadata": {},
     "output_type": "display_data"
    }
   ],
   "source": [
    "sum(X[sex==0,sex==0])"
   ]
  },
  {
   "cell_type": "markdown",
   "id": "f511b318",
   "metadata": {
    "nbgrader": {
     "grade": false,
     "grade_id": "cell-c8f1b1b9b888c2fc",
     "locked": true,
     "schema_version": 3,
     "solution": false,
     "task": false
    }
   },
   "source": [
    "Now, does the homophily, as measured by $Y_iY_j$ differ between same-zex dyads and all dyads"
   ]
  },
  {
   "cell_type": "code",
   "execution_count": 17,
   "id": "be4bf4ab",
   "metadata": {},
   "outputs": [
    {
     "data": {
      "text/html": [
       "517.9611"
      ],
      "text/latex": [
       "517.9611"
      ],
      "text/markdown": [
       "517.9611"
      ],
      "text/plain": [
       "[1] 517.9611"
      ]
     },
     "metadata": {},
     "output_type": "display_data"
    },
    {
     "data": {
      "text/html": [
       "603.5416"
      ],
      "text/latex": [
       "603.5416"
      ],
      "text/markdown": [
       "603.5416"
      ],
      "text/plain": [
       "[1] 603.5416"
      ]
     },
     "metadata": {},
     "output_type": "display_data"
    }
   ],
   "source": [
    "sum( YY * X *(GG+BB))\n",
    "sum( YY * X )"
   ]
  },
  {
   "cell_type": "markdown",
   "id": "d3f7dd31",
   "metadata": {
    "nbgrader": {
     "grade": false,
     "grade_id": "cell-29d6ec68b70440ce",
     "locked": true,
     "points": 0,
     "schema_version": 3,
     "solution": false,
     "task": true
    }
   },
   "source": [
    "#### Question 5 (2 Points)\n",
    "\n",
    "Can we say anything about whether pairs that are relationally tied tend to be similar in delinquency or whether girls are less delinquent and there is homophily on sex?\n",
    "\n",
    "=== BEGIN MARK SCHEME ===\n",
    "> The same-sex dyads seem to make up for a large portion of the high-delinquency dyads 518/603 = 86% (1 Mark). There is homophily on sex and boys are generally speaking more delinquent than girls but we cannot parse these out from just calculating the product $Y_iY_j$ over tie pairs (1 Mark for any attempt at explaining this)\n",
    "\n",
    "=== END MARK SCHEME ===\n",
    "\n"
   ]
  },
  {
   "cell_type": "markdown",
   "id": "2331bb1a",
   "metadata": {
    "nbgrader": {
     "grade": true,
     "grade_id": "cell-bc63d1fd9e2b71ff",
     "locked": false,
     "points": 2,
     "schema_version": 3,
     "solution": true,
     "task": false
    }
   },
   "source": []
  },
  {
   "cell_type": "markdown",
   "id": "fb396dd0",
   "metadata": {
    "nbgrader": {
     "grade": false,
     "grade_id": "cell-6c14ec2d64740e18",
     "locked": true,
     "schema_version": 3,
     "solution": false,
     "task": false
    }
   },
   "source": [
    "## Similarity\n",
    "The product $Y_iY_j$ on really measures if a dyad have two nodes that have high delinquency, it does not measure similarity evenly across low-delinquency and high-delinquency pairs.\n",
    "\n",
    "Define the similarity between $Y_i$ and $Y_j$ as\n",
    "$$\n",
    "\\mathrm{sim}(Y_i,Y_j)=1-\\frac{\\mid Y_i-Y_j \\mid}{\\Delta_Y}\n",
    "$$\n",
    "\n",
    "Where $\\Delta_Y= \\max_i(Y_i)-\\min_i(Y_i)$ is the maximal difference. If $Y_i=Y_j$, the similarity is \n",
    "$$\n",
    "\\mathrm{sim}(Y_i,Y_j)=1-\\frac{\\mid Y_i-Y_j \\mid}{\\Delta_Y}=1-0=1\n",
    "$$\n",
    "If $i$ and $j$ are as different as they could be, then\n",
    "$$\n",
    "\\mathrm{sim}(Y_i,Y_j)=1-\\frac{\\mid Y_i-Y_j \\mid}{\\Delta_Y}=1-\\frac{\\mid \\Delta_Y \\mid}{\\Delta_Y}=0\n",
    "$$\n",
    "\n",
    "We can write a little function that cycles through all ordered pairs $(i,j)$ to calculate\n",
    "\n",
    "$$\n",
    "\\sum_{i,j}X_{ij}\\mathrm{sim}(Y_i,Y_j)\n",
    "$$\n",
    "\n",
    "Define an R-function that goes through all dyads and calculates the similarity:"
   ]
  },
  {
   "cell_type": "code",
   "execution_count": 22,
   "id": "2c13e55a",
   "metadata": {},
   "outputs": [],
   "source": [
    "similarity <- function(X,Y)\n",
    "{\n",
    "  if (class(X)[1] != \"matrix\")\n",
    "  {\n",
    "    X <- as.matrix.network(X)# in case X is of class 'network'\n",
    "  }\n",
    "  n <- nrow(X)\n",
    "  \n",
    "  max.dist <- max(Y)-min(Y)# the maximal difference between scores\n",
    "  sim.score <- 0\n",
    "  for (i in c(1:n))\n",
    "  {\n",
    "    for (j in c(1:n))\n",
    "    {\n",
    "      # note we onyl need to calculate similarity if X[i,j] is 1\n",
    "      if (X[i,j])\n",
    "      {\n",
    "        sim.score  <- sim.score + (1- abs(Y[i]-Y[j])/ max.dist )\n",
    "      }\n",
    "    }\n",
    "  }\n",
    "  \n",
    "  sim.score\n",
    "}"
   ]
  },
  {
   "cell_type": "markdown",
   "id": "d6b0c620",
   "metadata": {
    "nbgrader": {
     "grade": false,
     "grade_id": "cell-dc042b8c403c7e07",
     "locked": true,
     "schema_version": 3,
     "solution": false,
     "task": false
    }
   },
   "source": [
    "Calculate the similarity metric for the observed network"
   ]
  },
  {
   "cell_type": "code",
   "execution_count": 23,
   "id": "ea69c5d4",
   "metadata": {},
   "outputs": [
    {
     "data": {
      "text/html": [
       "130.784061696658"
      ],
      "text/latex": [
       "130.784061696658"
      ],
      "text/markdown": [
       "130.784061696658"
      ],
      "text/plain": [
       "[1] 130.7841"
      ]
     },
     "metadata": {},
     "output_type": "display_data"
    }
   ],
   "source": [
    "obs.simil <- similarity(X,Y)\n",
    "obs.simil"
   ]
  },
  {
   "cell_type": "markdown",
   "id": "267296c9",
   "metadata": {
    "nbgrader": {
     "grade": false,
     "grade_id": "cell-c88ca8093b0da6b8",
     "locked": true,
     "schema_version": 3,
     "solution": false,
     "task": false
    }
   },
   "source": [
    "Now, the question is - is this big or not. For the following, draw on what you have done in the tutorial of week 10 on network structure.\n",
    "\n",
    "## Bernoulli\n",
    "Draw 5000 networks $X \\thicksim Bern(p)$ to test if the similarity is greater in the observed network compared to chance. Be mindful to pick the correct density.\n"
   ]
  },
  {
   "cell_type": "code",
   "execution_count": 24,
   "id": "439a41a3",
   "metadata": {
    "nbgrader": {
     "grade": false,
     "grade_id": "cell-84d64654eead90c4",
     "locked": false,
     "schema_version": 3,
     "solution": true,
     "task": false
    }
   },
   "outputs": [],
   "source": [
    "# The code here expects that you name your array of networks Xsim\n",
    "# If you need to check what arguments the function takes use the '?function' help search\n",
    "\n",
    "### BEGIN SOLUTION\n",
    "Xsim <- rgraph(n,m=5000,tprob=gden(X))\n",
    "# Common misstakes might be:\n",
    "# mix up n and m\n",
    "# not setting 'tprob' (which defaults to 0.5) or setting it to the wrong density\n",
    "# Easy to forget to set mode to 'digraph' if you copied code\n",
    "### END SOLUTION\n",
    "\n",
    "# Once you have generated a 5000 by n by n array of networks Xsim\n",
    "# you can use the 'apply' funtion to calcualte the similarity across slices:\n",
    "sim.simil <- apply(Xsim,1,similarity,Y)"
   ]
  },
  {
   "cell_type": "markdown",
   "id": "84fd8f25",
   "metadata": {
    "nbgrader": {
     "grade": false,
     "grade_id": "cell-287189f1c6cabef8",
     "locked": true,
     "schema_version": 3,
     "solution": false,
     "task": false
    }
   },
   "source": [
    "Calculate the proportion of simulated networks that have as great or greater value on similarity (it might help to double check if you also do a histogram of the simulated similarities)"
   ]
  },
  {
   "cell_type": "code",
   "execution_count": 25,
   "id": "730c7786",
   "metadata": {
    "nbgrader": {
     "grade": false,
     "grade_id": "cell-36b964be7d49c75e",
     "locked": false,
     "schema_version": 3,
     "solution": true,
     "task": false
    }
   },
   "outputs": [
    {
     "data": {
      "text/html": [
       "0.0632"
      ],
      "text/latex": [
       "0.0632"
      ],
      "text/markdown": [
       "0.0632"
      ],
      "text/plain": [
       "[1] 0.0632"
      ]
     },
     "metadata": {},
     "output_type": "display_data"
    },
    {
     "data": {
      "image/png": "[encoded data removed]",
      "text/plain": [
       "Plot with title “Similarity p-val:  0.063”"
      ]
     },
     "metadata": {
      "image/png": {
       "height": 420,
       "width": 420
      }
     },
     "output_type": "display_data"
    }
   ],
   "source": [
    "### BEGIN SOLUTION\n",
    "pval <- mean(sim.simil>=obs.simil)# \n",
    "hist(sim.simil, main = paste('Similarity p-val: ',round(pval,3) ) )\n",
    "abline(v=obs.simil, col='red')\n",
    "pval\n",
    "### END SOLUTION"
   ]
  },
  {
   "cell_type": "markdown",
   "id": "602dcfdc",
   "metadata": {
    "nbgrader": {
     "grade": false,
     "grade_id": "cell-799c63c3c91d21aa",
     "locked": true,
     "points": 0,
     "schema_version": 3,
     "solution": false,
     "task": true
    }
   },
   "source": [
    "#### Question 6 (4 Points)\n",
    "\n",
    "Is there more edge-wise similarity in the classroom with respect to delinquency than expected by chance, how strong is the evidence, and how do you interpret this\n",
    "\n",
    "=== BEGIN MARK SCHEME ===\n",
    "> Correct code (1 Mark)\n",
    "> The similarity is eather marginally significant on the 5%-level or higher. (1 Mark)\n",
    "> The correct conclusion would be that there is slightly more than expected but that it is not really conclusive. Correct interpretation is somewhat ambiguous. Strictly speaking, this is testing a selection effect more than an influence effect as we are comparign with the counterfactual that people formed ties at random. To conclude that there is weak or ambiguos evidence for influence is not wrong but for full marks (4), a recognition of the fact that we randomise the network and not the outcome is required. Technically correct interpretation of the test and the strength gives 3. Guide for marking the proportion: If you draw 5000 networks, the p-value will range from 0.0478 to about 0.0662\n",
    "\n",
    "=== END MARK SCHEME ===\n"
   ]
  },
  {
   "cell_type": "markdown",
   "id": "8e0654b8",
   "metadata": {
    "nbgrader": {
     "grade": true,
     "grade_id": "cell-27c6bea15916c367",
     "locked": false,
     "points": 4,
     "schema_version": 3,
     "solution": true,
     "task": false
    }
   },
   "source": []
  },
  {
   "cell_type": "markdown",
   "id": "d29ee612",
   "metadata": {
    "nbgrader": {
     "grade": false,
     "grade_id": "cell-17e965078479aabc",
     "locked": true,
     "schema_version": 3,
     "solution": false,
     "task": false
    }
   },
   "source": [
    "## Conditional U|MAN\n",
    "\n",
    "Draw 5000 networks $X \\thicksim U \\mid MAN$ to test if the similarity is greater in the observed network compared to chance, keeping the dyad census fixed. Be mindful to pick the correct dyad census\n",
    "\n",
    "\n"
   ]
  },
  {
   "cell_type": "code",
   "execution_count": 26,
   "id": "4fcc5efc",
   "metadata": {
    "nbgrader": {
     "grade": false,
     "grade_id": "cell-38670e2b3f97be58",
     "locked": false,
     "schema_version": 3,
     "solution": true,
     "task": false
    }
   },
   "outputs": [],
   "source": [
    "# The code here expects that you name your array of networks Xsim\n",
    "# If you need to check what arguments the function takes use the '?function' help search \n",
    "# in particular, use method='exact'\n",
    "\n",
    "\n",
    "### BEGIN SOLUTION\n",
    "obs.dyad <- dyad.census( X )\n",
    "Xsim <- rguman(n=1000,nv=n,mut=obs.dyad[1],asym=obs.dyad[2],null=obs.dyad[3],method='exact')\n",
    "# Common misstakes might be:\n",
    "# mix up n and nv\n",
    "# using the wrong dyad census\n",
    "### END SOLUTION\n",
    "\n",
    "# Once you have generated a 5000 by n by n array of networks Xsim\n",
    "# you can use the 'apply' funtion to calcualte the similarity across slices:\n",
    "sim.simil <- apply(Xsim,1,similarity,Y)\n"
   ]
  },
  {
   "cell_type": "markdown",
   "id": "ba579a50",
   "metadata": {
    "nbgrader": {
     "grade": false,
     "grade_id": "cell-26d050d27a6d1814",
     "locked": true,
     "schema_version": 3,
     "solution": false,
     "task": false
    }
   },
   "source": [
    "Calculate the proportion of simulated networks that have as great or greater value on similarity (it might help to double check if you also do a histogram of the simulated similarities)"
   ]
  },
  {
   "cell_type": "code",
   "execution_count": 27,
   "id": "df5c7ab8",
   "metadata": {
    "nbgrader": {
     "grade": false,
     "grade_id": "cell-13a1194784a2569e",
     "locked": false,
     "schema_version": 3,
     "solution": true,
     "task": false
    }
   },
   "outputs": [
    {
     "data": {
      "text/html": [
       "0"
      ],
      "text/latex": [
       "0"
      ],
      "text/markdown": [
       "0"
      ],
      "text/plain": [
       "[1] 0"
      ]
     },
     "metadata": {},
     "output_type": "display_data"
    },
    {
     "data": {
      "image/png": "[encoded data removed]",
      "text/plain": [
       "Plot with title “Similarity p-val:  0”"
      ]
     },
     "metadata": {
      "image/png": {
       "height": 420,
       "width": 420
      }
     },
     "output_type": "display_data"
    }
   ],
   "source": [
    "### BEGIN SOLUTION\n",
    "pval <- mean(sim.simil>=obs.simil)# \n",
    "hist(sim.simil, \n",
    "     main = paste('Similarity p-val: ',round(pval,3) ),\n",
    "     xlim=range(sim.simil,obs.simil))\n",
    "abline(v=obs.simil, col='red')\n",
    "pval\n",
    "### END SOLUTION"
   ]
  },
  {
   "cell_type": "markdown",
   "id": "fd23f0c7",
   "metadata": {
    "nbgrader": {
     "grade": false,
     "grade_id": "cell-3921ff5a48ccbf42",
     "locked": true,
     "points": 0,
     "schema_version": 3,
     "solution": false,
     "task": true
    }
   },
   "source": [
    "#### Question 7 (4 Points)\n",
    "\n",
    "Is there more edge-wise similarity in the classroom with respect to delinquency than expected by chance, fixing the dyad census, how strong is the evidence, and how do you interpret this\n",
    "\n",
    "=== BEGIN MARK SCHEME ===\n",
    "> Correct calcualtion (1 Mark)\n",
    "> The similarity is clearly significant on any of the convential significance levels. (1 Mark)\n",
    "> The correct conclusion would be that there is more similarity than expected.  Again, correct interpretation is somewhat ambiguous. Strictly speaking, this is testing a selection effect more than an influence effect as we are comparign with the counterfactual that mutual and assymetric dyads were distributed by chance. To conclude that there is evidence for influence is not wrong but for full marks (4), a recognition of the fact that we randomise the network and not the outcome is required. Technically correct interpretation of the test and the strength gives 3.\n",
    "\n",
    "> Guide for marking the proportion: If you draw 5000 networks, the p-value will be 0\n",
    "\n",
    "=== END MARK SCHEME ==="
   ]
  },
  {
   "cell_type": "markdown",
   "id": "12d29ad1",
   "metadata": {
    "nbgrader": {
     "grade": true,
     "grade_id": "cell-8ae874977b904169",
     "locked": false,
     "points": 4,
     "schema_version": 3,
     "solution": true,
     "task": false
    }
   },
   "source": []
  },
  {
   "cell_type": "markdown",
   "id": "9a506096",
   "metadata": {
    "nbgrader": {
     "grade": false,
     "grade_id": "cell-2b3ab139a24d24cc",
     "locked": true,
     "points": 0,
     "schema_version": 3,
     "solution": false,
     "task": true
    }
   },
   "source": [
    "#### Question 8 (4 Marks)\n",
    "\n",
    "How do you explain any difference in results for the Bernoulli and the U|MAN distributions\n",
    "\n",
    "=== BEGIN MARK SCHEME ===\n",
    "> For 2 out of 4 marks: U|MAN has more structure and ties more clustered, which exacerbates differences. Or something to this effect\n",
    "\n",
    "> For full marks in addion: if the similarity for $X_{ij}=1$ is higher, then because of reciprocity we expect $X_{ji}=1$, hence 'doubling' the effect\n",
    "\n",
    "=== END MARK SCHEME ==="
   ]
  },
  {
   "cell_type": "markdown",
   "id": "7af4f1dc",
   "metadata": {
    "nbgrader": {
     "grade": true,
     "grade_id": "cell-3d8aee2fbafd14f8",
     "locked": false,
     "points": 4,
     "schema_version": 3,
     "solution": true,
     "task": false
    }
   },
   "source": []
  },
  {
   "cell_type": "markdown",
   "id": "6013be00",
   "metadata": {
    "nbgrader": {
     "grade": false,
     "grade_id": "cell-df02e1c09aa1535a",
     "locked": true,
     "schema_version": 3,
     "solution": false,
     "task": false
    }
   },
   "source": [
    "## Conditionally uniform conditional on degree distribution\n",
    "\n",
    "Draw slightly fewer 1000 networks $X \\thicksim U \\mid d_{out},d_{in}$ to test if the similarity is greater in the observed network compared to chance, keeping the popularity and activity fixed. Be mindful to pick the correct `constraint` in the `ergm` `simulate` function (this might take a few seconds)"
   ]
  },
  {
   "cell_type": "code",
   "execution_count": 30,
   "id": "cbb569fb",
   "metadata": {
    "nbgrader": {
     "grade": false,
     "grade_id": "cell-79e9df739dafa2d2",
     "locked": false,
     "schema_version": 3,
     "solution": true,
     "task": false
    }
   },
   "outputs": [],
   "source": [
    "# The code here expects that you name your array of networks Xsim\n",
    "# If you need to check what arguments the function takes use the '?function' help search \n",
    "Xnet <- as.network(X) # the ergm package only take 'netwrok' objects\n",
    "\n",
    "\n",
    "### BEGIN SOLUTION\n",
    "Xsim <- simulate(Xnet~edges,\n",
    "                    coef=c(0),# the role of coefficients will become clear further on\n",
    "                    constraints=~degrees,# this guarantees that only networks with the same in/ and outdegree are generated\n",
    "                    nsim=5000,# we set the number of draws a bit lower to save time\n",
    "                    control=control.simulate(MCMC.burnin=100000))# you need to bump up the default burnin, otherwise the networks are too similar to the starting point, the observed network\n",
    "# Common errors might be:\n",
    "# picking idegree, or odegre only\n",
    "# setting the coefficinet to something other than 0\n",
    "# copying the wrong formula, e.g. edges+kstar(2:3)+triangle\n",
    "### END SOLUTION\n",
    "\n",
    "# Once you have generated a list Xsim of 1000 networks\n",
    "# you HAVE to use the 'lapply' funtion to calcualte the similarity across list cells\n",
    "# and, furthermore, unlist the answer\n",
    "sim.simil <- unlist(lapply(Xsim,similarity,Y))\n"
   ]
  },
  {
   "cell_type": "markdown",
   "id": "65cceb8a",
   "metadata": {
    "nbgrader": {
     "grade": false,
     "grade_id": "cell-1a998741fea715eb",
     "locked": true,
     "schema_version": 3,
     "solution": false,
     "task": false
    }
   },
   "source": [
    "Calculate the proportion of simulated networks that have as great or greater value on similarity (it might help to double check if you also do a histogram of the simulated similarities)"
   ]
  },
  {
   "cell_type": "code",
   "execution_count": 31,
   "id": "92d17f64",
   "metadata": {
    "nbgrader": {
     "grade": false,
     "grade_id": "cell-be7e34daa509e294",
     "locked": false,
     "schema_version": 3,
     "solution": true,
     "task": false
    }
   },
   "outputs": [
    {
     "data": {
      "text/html": [
       "0"
      ],
      "text/latex": [
       "0"
      ],
      "text/markdown": [
       "0"
      ],
      "text/plain": [
       "[1] 0"
      ]
     },
     "metadata": {},
     "output_type": "display_data"
    },
    {
     "data": {
      "image/png": "[encoded data removed]",
      "text/plain": [
       "Plot with title “Similarity p-val:  0”"
      ]
     },
     "metadata": {
      "image/png": {
       "height": 420,
       "width": 420
      }
     },
     "output_type": "display_data"
    }
   ],
   "source": [
    "### BEGIN SOLUTION\n",
    "pval <- mean(sim.simil>=obs.simil)# \n",
    "hist(sim.simil, \n",
    "     main = paste('Similarity p-val: ',round(pval,3) ),\n",
    "     xlim=range(sim.simil,obs.simil))\n",
    "abline(v=obs.simil, col='red')\n",
    "pval\n",
    "### END SOLUTION"
   ]
  },
  {
   "cell_type": "markdown",
   "id": "141ae837",
   "metadata": {
    "nbgrader": {
     "grade": false,
     "grade_id": "cell-f1a3c425430665cd",
     "locked": true,
     "points": 0,
     "schema_version": 3,
     "solution": false,
     "task": true
    }
   },
   "source": [
    "#### Question 9 (4 Marks)\n",
    "\n",
    "I you control for the degree distribution, is there more similarity in the network than we would expect by chance and, if so, can you relate that to the scatter plots of $Y$ against the degree distribution?\n",
    "\n",
    "=== BEGIN MARK SCHEME ===\n",
    "> Correct calculation (1 Mark)\n",
    "> For 3 out of 4 marks: Yes, when we randomly reqire ties in the network but keep the degree distributions fit, we do not come near the amount of similarity that we see in the observed network.\n",
    "\n",
    "> For full marks in addion: This is a bit ambiguous, but if similarity could was merely explained by, say, high-degree nodes having high delinquency and chose each other more, me might have been able to explain some edge-wise similarity on delinquency by fixing the degree distributions. Here the association between delinquency and degree is not sufficient. In fact, even if delinquency was very well predicted by in and outdegree, the fact that we rewire whom they have ties to means that the random graphs will have lower similarity - this is not easy to understand but it is related to the observed clustering.\n",
    "\n",
    "=== END MARK SCHEME ===\n"
   ]
  },
  {
   "cell_type": "markdown",
   "id": "64208014",
   "metadata": {
    "nbgrader": {
     "grade": true,
     "grade_id": "cell-2f773f09e489f613",
     "locked": false,
     "points": 4,
     "schema_version": 3,
     "solution": true,
     "task": false
    }
   },
   "source": []
  },
  {
   "cell_type": "markdown",
   "id": "54032152",
   "metadata": {
    "nbgrader": {
     "grade": false,
     "grade_id": "cell-520fd457f4c460c9",
     "locked": true,
     "schema_version": 3,
     "solution": false,
     "task": false
    }
   },
   "source": [
    "# Network regression\n",
    "\n",
    "As in the tutorial in week 11, stack the covariates into a matrix\n"
   ]
  },
  {
   "cell_type": "code",
   "execution_count": 32,
   "id": "ecb2f2c0",
   "metadata": {},
   "outputs": [
    {
     "data": {
      "text/html": [
       "<table class=\"dataframe\">\n",
       "<caption>A matrix: 6 × 4 of type dbl</caption>\n",
       "<thead>\n",
       "\t<tr><th scope=col></th><th scope=col>degrees</th><th scope=col>sex</th><th scope=col>importance</th></tr>\n",
       "</thead>\n",
       "<tbody>\n",
       "\t<tr><td>1</td><td> 7</td><td>0</td><td>2</td></tr>\n",
       "\t<tr><td>1</td><td> 6</td><td>0</td><td>2</td></tr>\n",
       "\t<tr><td>1</td><td> 2</td><td>1</td><td>2</td></tr>\n",
       "\t<tr><td>1</td><td> 4</td><td>1</td><td>3</td></tr>\n",
       "\t<tr><td>1</td><td>11</td><td>0</td><td>2</td></tr>\n",
       "\t<tr><td>1</td><td> 4</td><td>0</td><td>2</td></tr>\n",
       "</tbody>\n",
       "</table>\n"
      ],
      "text/latex": [
       "A matrix: 6 × 4 of type dbl\n",
       "\\begin{tabular}{llll}\n",
       "  & degrees & sex & importance\\\\\n",
       "\\hline\n",
       "\t 1 &  7 & 0 & 2\\\\\n",
       "\t 1 &  6 & 0 & 2\\\\\n",
       "\t 1 &  2 & 1 & 2\\\\\n",
       "\t 1 &  4 & 1 & 3\\\\\n",
       "\t 1 & 11 & 0 & 2\\\\\n",
       "\t 1 &  4 & 0 & 2\\\\\n",
       "\\end{tabular}\n"
      ],
      "text/markdown": [
       "\n",
       "A matrix: 6 × 4 of type dbl\n",
       "\n",
       "| <!----> | degrees | sex | importance |\n",
       "|---|---|---|---|\n",
       "| 1 |  7 | 0 | 2 |\n",
       "| 1 |  6 | 0 | 2 |\n",
       "| 1 |  2 | 1 | 2 |\n",
       "| 1 |  4 | 1 | 3 |\n",
       "| 1 | 11 | 0 | 2 |\n",
       "| 1 |  4 | 0 | 2 |\n",
       "\n"
      ],
      "text/plain": [
       "       degrees sex importance\n",
       "[1,] 1  7      0   2         \n",
       "[2,] 1  6      0   2         \n",
       "[3,] 1  2      1   2         \n",
       "[4,] 1  4      1   3         \n",
       "[5,] 1 11      0   2         \n",
       "[6,] 1  4      0   2         "
      ]
     },
     "metadata": {},
     "output_type": "display_data"
    }
   ],
   "source": [
    "degrees <- degree(X,outdegree)\n",
    "M <- cbind(matrix(1,n,1),degrees,sex,importance)\n",
    "head(M)"
   ]
  },
  {
   "cell_type": "markdown",
   "id": "c8571a1a",
   "metadata": {
    "nbgrader": {
     "grade": false,
     "grade_id": "cell-4998261710a6b94e",
     "locked": true,
     "schema_version": 3,
     "solution": false,
     "task": false
    }
   },
   "source": [
    "and construct a row-normalised adjacency matrix $W$"
   ]
  },
  {
   "cell_type": "code",
   "execution_count": 33,
   "id": "cc19e7e0",
   "metadata": {},
   "outputs": [],
   "source": [
    "W <- X\n",
    "W[degrees>0,] <- X[degrees>0,]/degrees[degrees>0]\n"
   ]
  },
  {
   "cell_type": "markdown",
   "id": "8e0d8912",
   "metadata": {
    "nbgrader": {
     "grade": false,
     "grade_id": "cell-1dd2fa3ba3e241fb",
     "locked": true,
     "schema_version": 3,
     "solution": false,
     "task": false
    }
   },
   "source": [
    "## OLS\n",
    "\n",
    "Fit a standard regression model \n",
    "$$\n",
    "Y_i = M_{i}\\beta+\\epsilon_i\n",
    "$$\n",
    "where the errors\n",
    "$$\n",
    "\\epsilon_i \\overset{\\text{i.i.d.}}{\\thicksim} N(0,\\sigma^2)\n",
    "$$\n",
    "are assumed to be independent across all nodes. Estimate the coefficients using OLS and the base package function `lm()`\n",
    "\n"
   ]
  },
  {
   "cell_type": "code",
   "execution_count": 34,
   "id": "32e6b3d7",
   "metadata": {
    "nbgrader": {
     "grade": false,
     "grade_id": "cell-c3343f672bd16a59",
     "locked": false,
     "schema_version": 3,
     "solution": true,
     "task": false
    }
   },
   "outputs": [
    {
     "data": {
      "text/plain": [
       "\n",
       "Call:\n",
       "lm(formula = Y ~ degrees + sex + importance)\n",
       "\n",
       "Residuals:\n",
       "     Min       1Q   Median       3Q      Max \n",
       "-1.91182 -0.74159  0.08196  0.62005  1.97998 \n",
       "\n",
       "Coefficients:\n",
       "            Estimate Std. Error t value Pr(>|t|)    \n",
       "(Intercept)  1.79379    0.36772   4.878 4.87e-06 ***\n",
       "degrees      0.07023    0.03000   2.341   0.0215 *  \n",
       "sex          0.98297    0.20061   4.900 4.46e-06 ***\n",
       "importance  -0.46758    0.17441  -2.681   0.0088 ** \n",
       "---\n",
       "Signif. codes:  0 ‘***’ 0.001 ‘**’ 0.01 ‘*’ 0.05 ‘.’ 0.1 ‘ ’ 1\n",
       "\n",
       "Residual standard error: 0.9423 on 86 degrees of freedom\n",
       "Multiple R-squared:  0.2653,\tAdjusted R-squared:  0.2397 \n",
       "F-statistic: 10.35 on 3 and 86 DF,  p-value: 6.915e-06\n"
      ]
     },
     "metadata": {},
     "output_type": "display_data"
    }
   ],
   "source": [
    "### BEGIN SOLUTION\n",
    "reg.1 <- lm( Y ~ degrees+sex+importance)\n",
    "summary(reg.1)\n",
    "### END SOLUTION"
   ]
  },
  {
   "cell_type": "markdown",
   "id": "e4657ecd",
   "metadata": {
    "nbgrader": {
     "grade": false,
     "grade_id": "cell-ce4b5261b876c098",
     "locked": true,
     "points": 0,
     "schema_version": 3,
     "solution": false,
     "task": true
    }
   },
   "source": [
    "#### Question 10 (4 Marks)\n",
    "\n",
    "Briefly interpret the coefficients in the model and comment on how these result relate to the bivariate descriptive plots you did earlier\n",
    "\n",
    "=== BEGIN MARK SCHEME ===\n",
    "> Correct calculation (1 Mark)\n",
    "> (1 Mark) The more people you nominate for social support, the higher delinquency score you have. For every additional person you nominate your delinquency increases by 0.07 units on average, all else equal. In the scatter plot of outdegree against delinquency score this was not clear but potentially there was positive correlation.\n",
    "\n",
    "> (1 Mark) Boys have a 0.98 higher delinquency score on average, everthing else equal. This is in line with the differences in delinquency scores between boys and girls that we saw earlier in the boxplot.\n",
    "\n",
    "> (1 Mark) The less important you think friends in school are, the less likely you are to be a delinquent. An increase in the importance score by one unit decreases the delinquency score by .47 units on average, all else equal. This is in line with the differences in delinquency scores we saw earlier in the boxplot of delinquency scores grouped by the importance score.\n",
    "\n",
    "=== END MARK SCHEME ===\n"
   ]
  },
  {
   "cell_type": "markdown",
   "id": "85808e9e",
   "metadata": {
    "nbgrader": {
     "grade": true,
     "grade_id": "cell-85a35da72fff274d",
     "locked": false,
     "points": 4,
     "schema_version": 3,
     "solution": true,
     "task": false
    }
   },
   "source": []
  },
  {
   "cell_type": "markdown",
   "id": "f13540d8",
   "metadata": {
    "nbgrader": {
     "grade": false,
     "grade_id": "cell-1b76a01135cf544e",
     "locked": true,
     "schema_version": 3,
     "solution": false,
     "task": false
    }
   },
   "source": [
    "### Residuals\n",
    "Using the code from tutorial in week 11, calculate the the autocorrelation between residuals using Moran's I. You may use a line plot and you only need to look at the first 4 lags\n"
   ]
  },
  {
   "cell_type": "code",
   "execution_count": 35,
   "id": "b176cec3",
   "metadata": {
    "nbgrader": {
     "grade": false,
     "grade_id": "cell-bdb10151525f4cf7",
     "locked": false,
     "schema_version": 3,
     "solution": true,
     "task": false
    }
   },
   "outputs": [
    {
     "data": {
      "image/png": "[encoded data removed]",
      "text/plain": [
       "plot without title"
      ]
     },
     "metadata": {
      "image/png": {
       "height": 420,
       "width": 420
      }
     },
     "output_type": "display_data"
    }
   ],
   "source": [
    "### BEGIN SOLUTION\n",
    "plot(c(0:3), nacf(X,reg.1$residuals,type=\"moran\")[1:4],type='b')\n",
    "abline(h=-1/(n-1),col='red')\n",
    "### END SOLUTION"
   ]
  },
  {
   "cell_type": "markdown",
   "id": "7275077f",
   "metadata": {
    "nbgrader": {
     "grade": false,
     "grade_id": "cell-aef5c952fce1a62b",
     "locked": true,
     "points": 0,
     "schema_version": 3,
     "solution": false,
     "task": true
    }
   },
   "source": [
    "#### Question 11 (2 Points)\n",
    "\n",
    "Is there a evidence of a violation of the assumption of the error terms being independent?\n",
    "\n",
    "=== BEGIN MARK SCHEME ===\n",
    "> Correct calcultion (1 Mark)\n",
    "> (1 Mark) Yes, there is positive correlation between the error terms for all the first three lags delinquency scores we saw earlier in the boxplot of delinquency scores grouped by the importance score.\n",
    "\n",
    "=== END MARK SCHEME ===\n",
    "\n"
   ]
  },
  {
   "cell_type": "markdown",
   "id": "863adb90",
   "metadata": {
    "nbgrader": {
     "grade": false,
     "grade_id": "cell-617ab1227eb87bc3",
     "locked": true,
     "schema_version": 3,
     "solution": false,
     "task": false
    }
   },
   "source": [
    "## Network autocorrelation model\n",
    "\n",
    "Fit the network autocorrelation effect\n",
    "$$\n",
    "Y = M\\beta+\\epsilon {\\text{,}}\n",
    "$$\n",
    "\n",
    "where the disturbances $\\epsilon = (\\epsilon_1,\\ldots,\\epsilon_n)^{\\top}$ are \n",
    "$$\n",
    "\\epsilon = \\rho X \\epsilon + \\xi\n",
    "$$\n",
    "where $X$ is the raw, un-normalised, adjacency matrix, and \n",
    "\n",
    "$$\n",
    "\\xi_i \\overset{\\text{i.i.d.}}{\\thicksim} N(0,\\sigma^2){\\text{.}}\n",
    "$$\n",
    "\n",
    "Use the `lnam` and the code from the tutorial in week 11,\n"
   ]
  },
  {
   "cell_type": "code",
   "execution_count": 36,
   "id": "ee2ae3ca",
   "metadata": {
    "nbgrader": {
     "grade": false,
     "grade_id": "cell-b8629b42274b4422",
     "locked": false,
     "schema_version": 3,
     "solution": true,
     "task": false
    }
   },
   "outputs": [
    {
     "name": "stderr",
     "output_type": "stream",
     "text": [
      "Loading required namespace: numDeriv\n",
      "\n"
     ]
    },
    {
     "data": {
      "text/plain": [
       "\n",
       "Call:\n",
       "lnam(y = Y, x = M, W2 = X)\n",
       "\n",
       "Residuals:\n",
       "     Min       1Q   Median       3Q      Max \n",
       "-1.90087 -0.73436  0.06671  0.62783  1.97144 \n",
       "\n",
       "Coefficients:\n",
       "           Estimate Std. Error Z value Pr(>|z|)    \n",
       "            1.86638    0.36311   5.140 2.75e-07 ***\n",
       "degrees     0.06371    0.03904   1.632  0.10274    \n",
       "sex         0.93085    0.22026   4.226 2.38e-05 ***\n",
       "importance -0.48004    0.16424  -2.923  0.00347 ** \n",
       "rho2.1      0.10296    0.04923   2.091  0.03649 *  \n",
       "---\n",
       "Signif. codes:  0 ‘***’ 0.001 ‘**’ 0.01 ‘*’ 0.05 ‘.’ 0.1 ‘ ’ 1\n",
       "\n",
       "      Estimate Std. Error\n",
       "Sigma   0.8938      0.004\n",
       "\n",
       "Goodness-of-Fit:\n",
       "\tResidual standard error: 0.9485 on 85 degrees of freedom (w/o Sigma)\n",
       "\tMultiple R-Squared: 0.2485, Adjusted R-Squared: 0.2043\n",
       "\tModel log likelihood: -118.3 on 84 degrees of freedom (w/Sigma)\n",
       "\tAIC: 248.6 BIC: 263.6 \n",
       "\n",
       "\tNull model: meanstd \n",
       "\tNull log likelihood: -134.2 on 88 degrees of freedom\n",
       "\tAIC: 272.4 BIC: 277.4 \n",
       "\tAIC difference (model versus null): 23.81 \n",
       "\tHeuristic Log Bayes Factor (model versus null):  13.81 \n"
      ]
     },
     "metadata": {},
     "output_type": "display_data"
    }
   ],
   "source": [
    "# Fit your network autocorrelation model\n",
    "### BEGIN SOLUTION\n",
    "nam <- lnam(y=Y, x= M, W2 =X)# W2 network autocorelatio model (W1 for network effects)\n",
    "summary(nam)\n",
    "### END SOLUTION"
   ]
  },
  {
   "cell_type": "markdown",
   "id": "e59e640b",
   "metadata": {
    "nbgrader": {
     "grade": false,
     "grade_id": "cell-e183713ee3f74682",
     "locked": true,
     "points": 0,
     "schema_version": 3,
     "solution": false,
     "task": true
    }
   },
   "source": [
    "#### Question 12 (3 Points)\n",
    "\n",
    "What is the estimate of $\\rho$ and did any of the other effects change?\n",
    "\n",
    "=== BEGIN MARK SCHEME ===\n",
    "> Correct calcualtion (1 Mark)\n",
    "> (1 Marks) Yes, there is a positive autocorelation effect estimated to 0.1, which is significantly different from 0 at the 5%-level.\n",
    "> (1 Mark) The other effects remain apart from the effect of outdegree which is now not significantly different on the 5%-level.\n",
    "\n",
    "=== END MARK SCHEME ===\n"
   ]
  },
  {
   "cell_type": "markdown",
   "id": "97352c87",
   "metadata": {
    "nbgrader": {
     "grade": true,
     "grade_id": "cell-768542d37b8575d3",
     "locked": false,
     "points": 3,
     "schema_version": 3,
     "solution": true,
     "task": false
    }
   },
   "source": []
  },
  {
   "cell_type": "markdown",
   "id": "96b115a7",
   "metadata": {
    "nbgrader": {
     "grade": false,
     "grade_id": "cell-c7696d63405995de",
     "locked": true,
     "schema_version": 3,
     "solution": false,
     "task": false
    }
   },
   "source": [
    "## Network effects model 1\n",
    "\n",
    "Fit a network effects model\n",
    "$$\n",
    "Y=\\rho XY + M\\beta+\\epsilon\n",
    "$$\n",
    "Where $X$ is the *raw* adjacency matrix and we assume that the errors\n",
    "$$\n",
    "\\epsilon_i \\overset{\\text{i.i.d.}}{\\thicksim} N(0,\\sigma^2) {\\text{,}}\n",
    "$$\n",
    "i.e., the errors are independent.\n",
    "\n",
    "Use the `lnam` and the code from the tutorial in week 11,\n"
   ]
  },
  {
   "cell_type": "code",
   "execution_count": 37,
   "id": "ea828af7",
   "metadata": {
    "nbgrader": {
     "grade": false,
     "grade_id": "cell-db9f1862e287741a",
     "locked": false,
     "schema_version": 3,
     "solution": true,
     "task": false
    }
   },
   "outputs": [
    {
     "data": {
      "text/plain": [
       "\n",
       "Call:\n",
       "lnam(y = Y, x = M, W1 = X)\n",
       "\n",
       "Residuals:\n",
       "    Min      1Q  Median      3Q     Max \n",
       "-1.8711 -0.7104  0.1057  0.6991  1.9278 \n",
       "\n",
       "Coefficients:\n",
       "           Estimate Std. Error Z value Pr(>|z|)    \n",
       "            1.84163    0.35702   5.158 2.49e-07 ***\n",
       "degrees     0.01703    0.04908   0.347    0.729    \n",
       "sex         0.88769    0.20637   4.301 1.70e-05 ***\n",
       "importance -0.43761    0.16996  -2.575    0.010 *  \n",
       "rho1.1      0.04508    0.03356   1.343    0.179    \n",
       "---\n",
       "Signif. codes:  0 ‘***’ 0.001 ‘**’ 0.01 ‘*’ 0.05 ‘.’ 0.1 ‘ ’ 1\n",
       "\n",
       "      Estimate Std. Error\n",
       "Sigma   0.9103      0.005\n",
       "\n",
       "Goodness-of-Fit:\n",
       "\tResidual standard error: 0.9542 on 85 degrees of freedom (w/o Sigma)\n",
       "\tMultiple R-Squared: 0.2608, Adjusted R-Squared: 0.2173\n",
       "\tModel log likelihood: -119.4 on 84 degrees of freedom (w/Sigma)\n",
       "\tAIC: 250.9 BIC: 265.9 \n",
       "\n",
       "\tNull model: meanstd \n",
       "\tNull log likelihood: -134.2 on 88 degrees of freedom\n",
       "\tAIC: 272.4 BIC: 277.4 \n",
       "\tAIC difference (model versus null): 21.53 \n",
       "\tHeuristic Log Bayes Factor (model versus null):  11.53 \n"
      ]
     },
     "metadata": {},
     "output_type": "display_data"
    }
   ],
   "source": [
    "# Fit your network effects model here\n",
    "### BEGIN SOLUTION\n",
    "nam <- lnam(y=Y, x= M, W1 =X)# W1 for network effects\n",
    "summary(nam)\n",
    "### END SOLUTION"
   ]
  },
  {
   "cell_type": "markdown",
   "id": "556a063c",
   "metadata": {
    "nbgrader": {
     "grade": false,
     "grade_id": "cell-63a81ac13d60cdfa",
     "locked": true,
     "points": 0,
     "schema_version": 3,
     "solution": false,
     "task": true
    }
   },
   "source": [
    "#### Question 13 (3 Points)\n",
    "\n",
    "What is the estimate of $\\rho$ and did any of the other effects change relative to the OLS and the network effects model?\n",
    "\n",
    "=== BEGIN MARK SCHEME ===\n",
    "> Correct calcualtion (1 Mark)\n",
    "> (1 Mark) No, there is a positive network effect estimated. $\\rho$ is estimated to 0.045, which is not significantly different from 0 at the 5%-level. \n",
    "> (1 Mark) The other effects remain compared with the OLS apart from the effect of outdegree which is now not significantly different on the 5%-level. This is the same as for the network autocorrelation model\n",
    "\n",
    "=== END MARK SCHEME ==="
   ]
  },
  {
   "cell_type": "markdown",
   "id": "b8bb0687",
   "metadata": {
    "nbgrader": {
     "grade": true,
     "grade_id": "cell-756d2642e570bd82",
     "locked": false,
     "points": 3,
     "schema_version": 3,
     "solution": true,
     "task": false
    }
   },
   "source": []
  },
  {
   "cell_type": "markdown",
   "id": "57d46f36",
   "metadata": {
    "nbgrader": {
     "grade": false,
     "grade_id": "cell-8646387cac7801c2",
     "locked": true,
     "schema_version": 3,
     "solution": false,
     "task": false
    }
   },
   "source": [
    "## Network effects model 2\n",
    "\n",
    "Fit a network effects model using the row-normalised adjacency matrix instead\n",
    "$$\n",
    "Y=\\rho WY + M\\beta+\\epsilon {\\text{,}}\n",
    "$$\n",
    "where $W$ is the raw-normalised adjacency matrix.\n"
   ]
  },
  {
   "cell_type": "code",
   "execution_count": 38,
   "id": "9c195360",
   "metadata": {
    "nbgrader": {
     "grade": false,
     "grade_id": "cell-d79a8c56265d0088",
     "locked": false,
     "schema_version": 3,
     "solution": true,
     "task": false
    }
   },
   "outputs": [
    {
     "data": {
      "text/plain": [
       "\n",
       "Call:\n",
       "lnam(y = Y, x = M, W1 = W)\n",
       "\n",
       "Residuals:\n",
       "     Min       1Q   Median       3Q      Max \n",
       "-2.20050 -0.68179  0.03956  0.72258  1.98840 \n",
       "\n",
       "Coefficients:\n",
       "           Estimate Std. Error Z value Pr(>|z|)    \n",
       "            1.64884    0.34745   4.746 2.08e-06 ***\n",
       "degrees     0.03281    0.03129   1.049  0.29433    \n",
       "sex         0.93332    0.18816   4.960 7.04e-07 ***\n",
       "importance -0.42590    0.16353  -2.604  0.00920 ** \n",
       "rho1.1      0.40137    0.14980   2.679  0.00738 ** \n",
       "---\n",
       "Signif. codes:  0 ‘***’ 0.001 ‘**’ 0.01 ‘*’ 0.05 ‘.’ 0.1 ‘ ’ 1\n",
       "\n",
       "      Estimate Std. Error\n",
       "Sigma   0.8795      0.004\n",
       "\n",
       "Goodness-of-Fit:\n",
       "\tResidual standard error: 0.9469 on 85 degrees of freedom (w/o Sigma)\n",
       "\tMultiple R-Squared: 0.2866, Adjusted R-Squared: 0.2446\n",
       "\tModel log likelihood: -117 on 84 degrees of freedom (w/Sigma)\n",
       "\tAIC: 246 BIC: 261 \n",
       "\n",
       "\tNull model: meanstd \n",
       "\tNull log likelihood: -134.2 on 88 degrees of freedom\n",
       "\tAIC: 272.4 BIC: 277.4 \n",
       "\tAIC difference (model versus null): 26.41 \n",
       "\tHeuristic Log Bayes Factor (model versus null):  16.41 \n"
      ]
     },
     "metadata": {},
     "output_type": "display_data"
    }
   ],
   "source": [
    "# Fit your network effects model here\n",
    "### BEGIN SOLUTION\n",
    "nam <- lnam(y=Y, x= M, W1 =W)# W1 for network effects\n",
    "summary(nam)\n",
    "### END SOLUTION"
   ]
  },
  {
   "cell_type": "markdown",
   "id": "79101374",
   "metadata": {
    "nbgrader": {
     "grade": false,
     "grade_id": "cell-3f9b1ea9b670a444",
     "locked": true,
     "points": 0,
     "schema_version": 3,
     "solution": false,
     "task": true
    }
   },
   "source": [
    "#### Question 14 (3 Points)\n",
    "\n",
    "What is the estimate of $\\rho$ and did any of the other effect change relative to the network effects model with un-normalised adjacency matrix?\n",
    "\n",
    "=== BEGIN MARK SCHEME ===\n",
    "> Correct calcualtion (1 Mark)\n",
    "> (1 Mark) The network effects parameter $\\rho$ is now estimated to 0.4 and is significantly different from 0 on the 5%-level.\n",
    "> (1 Mark) The other effects are the same as for the network effects model with un-normalised adjacency matrix (possibly with the uncerntanty for the importance parameter reduced)\n",
    "\n",
    "=== END MARK SCHEME ===\n"
   ]
  },
  {
   "cell_type": "markdown",
   "id": "7b166a0e",
   "metadata": {
    "nbgrader": {
     "grade": true,
     "grade_id": "cell-4af300ce47977afb",
     "locked": false,
     "points": 3,
     "schema_version": 3,
     "solution": true,
     "task": false
    }
   },
   "source": []
  },
  {
   "cell_type": "markdown",
   "id": "85bfab6a",
   "metadata": {
    "nbgrader": {
     "grade": false,
     "grade_id": "cell-07c2ff8aec0844f1",
     "locked": true,
     "points": 0,
     "schema_version": 3,
     "solution": false,
     "task": true
    }
   },
   "source": [
    "#### Question 15 (4 Points)\n",
    "\n",
    "In summary, is homophily on delinquency accounted for by the homophily on sex and the fact that boys tend to be similar to other boys and girls tend to be similar to other girls. Briefly motivate your answer\n",
    "\n",
    "=== BEGIN MARK SCHEME ===\n",
    "> (2 Mark) No, these is evidence for both correlation between errors in the network autocorrelation model and for correlation through the outcome variable in the network effects model and both of these models account for the average delinquency level of boys and girls. \n",
    "\n",
    "> (2 Marks) Since we are not randomising the network, the homophily on sex is held constant in the network regression models. Marking note: Making this observation yields the full 2 points but any reflection on how the network and sex is held constant merits 1 point out of the the 2. \n",
    "\n",
    "=== END MARK SCHEME ==="
   ]
  },
  {
   "cell_type": "markdown",
   "id": "5f41d851",
   "metadata": {
    "nbgrader": {
     "grade": true,
     "grade_id": "cell-f9490df5d56f0e9b",
     "locked": false,
     "points": 4,
     "schema_version": 3,
     "solution": true,
     "task": false
    }
   },
   "source": []
  },
  {
   "cell_type": "markdown",
   "id": "21e4e263",
   "metadata": {
    "nbgrader": {
     "grade": false,
     "grade_id": "cell-50947e19384f1408",
     "locked": true,
     "points": 0,
     "schema_version": 3,
     "solution": false,
     "task": true
    }
   },
   "source": [
    "#### Question 16 (4 Points)\n",
    "\n",
    "\n",
    "In summary, if we assert that causality is in the direction of social influence, does every person have the same influence on other people? Base your answer either the network autocorrelation or the network effects model, whichtever one you think more appropriate, and motivate your choice.\n",
    "\n",
    "=== BEGIN MARK SCHEME ===\n",
    "> (2 Mark) The conclusions for social influence should be based on the network effects model rather than the network autocorrelation model. For the network effects model me have association between outcomes, everything else equal, but for the network autocorrelation model the correlations between tied partners is between deviations from the predictions and the outcome. These deviatoins/error may reflect unobserved similarity or proprinquity. Any reasonable relfection on the differences merits 1 mark (a good argument for the network autocorrelation model could merit a full point). Any answer that tries to explain errors in terms of unobserved heterogeneity, such as being memebers of the same extracurricular activity, living in the same area, etc, merits full marks.\n",
    "\n",
    "> (2 Marks) The raw adjacency matrix weights each person equally in the network. The row-normalised adjacency matrix gives different weights to people, depending on how many you have nominated. So, no, there is no evidence for total eposure (raw adjacency amtrix) only average exposure (row-normalised matrix). What matters is not how many friends you have that are deliquent, what matters is the proportion of your friends that are delinquent. Full marks can also be awarded if you point out that people that have high indegree \n",
    "\n",
    "=== END MARK SCHEME ==="
   ]
  },
  {
   "cell_type": "markdown",
   "id": "d31376df",
   "metadata": {
    "nbgrader": {
     "grade": true,
     "grade_id": "cell-ba5cda207af0f60d",
     "locked": false,
     "points": 4,
     "schema_version": 3,
     "solution": true,
     "task": false
    }
   },
   "source": []
  },
  {
   "cell_type": "markdown",
   "id": "655ce37e",
   "metadata": {
    "nbgrader": {
     "grade": false,
     "grade_id": "cell-6d2b60da865226c7",
     "locked": true,
     "schema_version": 3,
     "solution": false,
     "task": false
    }
   },
   "source": [
    "# References\n",
    "\n",
    "Houtzager, B. & Baerveldt, C. (1999). Just like Normal. A Social Network Study of the Relation between Petty Crime and the Intimacy of Adolescent Friendships. Social Behavior and Personality 27(2), 177-192.\n"
   ]
  },
  {
   "cell_type": "code",
   "execution_count": null,
   "id": "1b09afe1",
   "metadata": {},
   "outputs": [],
   "source": []
  }
 ],
 "metadata": {
  "celltoolbar": "Create Assignment",
  "kernelspec": {
   "display_name": "R",
   "language": "R",
   "name": "ir"
  },
  "language_info": {
   "codemirror_mode": "r",
   "file_extension": ".r",
   "mimetype": "text/x-r-source",
   "name": "R",
   "pygments_lexer": "r",
   "version": "4.1.0"
  }
 },
 "nbformat": 4,
 "nbformat_minor": 5
}
