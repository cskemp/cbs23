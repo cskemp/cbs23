{
 "cells": [
  {
   "cell_type": "code",
   "execution_count": null,
   "id": "53a51675",
   "metadata": {},
   "outputs": [],
   "source": [
    "suppressPackageStartupMessages({\n",
    "    library(sna)\n",
    "    library(testthat)\n",
    "    library(network)\n",
    "    library(ergm)\n",
    "})"
   ]
  },
  {
   "cell_type": "markdown",
   "id": "d80a2d34",
   "metadata": {
    "deletable": false,
    "editable": false,
    "nbgrader": {
     "cell_type": "markdown",
     "checksum": "e693c29966130fb9e97d7127b31010b2",
     "grade": false,
     "grade_id": "cell-e58d8753894cddf4",
     "locked": true,
     "schema_version": 3,
     "solution": false,
     "task": false
    }
   },
   "source": [
    "\n",
    "\n",
    "# Testing network structure\n",
    "In this tutorial we will try to ascertain what features of networks are indicative of what tie-formation mechanisms. We will do this by\n",
    "* Calculating the metrics from week 1, and\n",
    "* Compare observed metrics against null distributions\n",
    "\n",
    "For an example network, you will test different features against the models\n",
    "\n",
    "1. $X \\thicksim \\mathrm{Bern}(p)$: the Bernoulli model\n",
    "2. $X \\thicksim U \\mid L$: the conditional uniform model, conditional on density\n",
    "3. $X \\thicksim U \\mid d$: the conditional uniform model, conditional on the degree distribution\n",
    "4. $X \\thicksim \\mathrm{ERGM}(\\theta,L)$: a density conditioned exponential random graph model \n",
    "\n",
    "Each random graph model is a distribution of probability over the space of all networks $\\mathcal{X}=\\{ 0, 1\\}^{V \\choose 2}$ or over a subset of $\\mathcal{X}$.\n",
    "\n",
    "## Hypothesis testing framework\n",
    "Assume that the particular mechanism you are interested in is sensitive to a statistic $T(X)$ calculated for networks. Without loss of generality, assume that *large values of the statistic* is evidence for the mechanism. For example, if you belive that there is a tendency towards reciprocating ties in directed networks, then a greater number of mutual dyads \n",
    "$$\n",
    "T(X) = \\sum_{i < j}x_{ij}x_{ji}\n",
    "$$\n",
    "is evidence for a tendency towards reciprocation.\n",
    "\n",
    "### Null distribution\n",
    "\n",
    "The test and decision rule is\n",
    "\n",
    "* Assume $H_0$: there is no mechanism *A*.\n",
    "* Pick a random graph model $p(X)$ that is commensurate with $H_0$.\n",
    "* Pick a statistic that measures evidence for *A*.\n",
    "* Decision rule: If $\\Pr\\{ T(X) \\geq T(X_{\\mathrm{obs}}) \\} < \\alpha$, where $X$ are from distribution $p(X)$, reject $H_0$ on the $100 \\% \\times \\alpha$-level of significance. \n",
    "\n",
    "Most of the time we cannot calculate the probability analytically and instead we use a *Monte Carlo* estimate of the probability. This Monte Carlo estimate is simply an average\n",
    "$$\n",
    "\\hat{\\Pr}\\{T(X)> t \\} = \\frac{\\sum_{k=1}^K I\\{ T(X^{(k)}) \\geq t\\}}{K}\n",
    "$$\n",
    "where $X^{(1)},X^{(2)},\\ldots,X^{(K)}$ is a sample of networks drawn from $p(X)$ and $I\\{ B \\}$ is an indicator function that is 1, if condition $B$ is true and 0 if $B$ is false.\n",
    "\n",
    "> The proportion of graphs that as large a value on the statistic as the observed network, is a good approximation of the probability of observing something as large as $T(X_{\\mathrm{obs}})$ under the assumption that the null-hypothesis is true\n",
    "\n",
    "### What is a good null-model?\n",
    "\n",
    "The purpose of this tutorial is to get an understanding of what a good null-distribution is. In general we will not be able to find null-distributions $p(X)$ that represent every observed feature of realistic networks with the only excepton being the mechanism *A*. \n",
    "\n",
    "The interpretation of the test is always contingent on the tie-formation process under the null-distribution. Consequently, if your test rejects the null-hypothesis, the correct interpretation is\n",
    "\n",
    "> The probability of observing something as large as we have observed is $\\alpha$ if we were to assume that people form ties according to the process $p(X)$\n",
    "\n",
    "Often, the null distributions translate into 'people form ties completely at random'.\n",
    "\n",
    "## Density\n",
    "\n",
    "In the week 1 lecture slides, there is an illustration of the difference between density and average degree for different size networks. The important lesson is that density does not 'scale' properly. \n",
    "\n",
    "### Exercise (Optional)\n",
    "\n",
    "For the Bernoully graph, ties form independently for all dyads with probablility $p$. This means that the expected density \n",
    "$$\n",
    "E\\left\\{ \\tfrac{2}{n(n-1)} \\sum_{i<j}X_{ij}\\right\\}=p\n",
    "$$\n",
    "of a Bernoulli graph is $p$.\n",
    "\n",
    "Let $L(X)$ be the number of edges in an undirected graph. Recall that the denisty is calculated as\n",
    "$$\n",
    "d = \\frac{L(X)}{n(n-1)/2}=\\frac{\\sum_{i < j }x_{ij}}{n(n-1)/2}\n",
    "$$\n",
    "\n",
    "And the average degree is defined as\n",
    "$$\n",
    "m = \\frac{2L(X)}{n}=\\frac{\\sum_{i,j }x_{ij}}{n}\n",
    "$$\n",
    "\n",
    "For a Bernoulli graph with tie-probability $p=0.1$, plot the average degree $m$ (vertical axis) against network size $n$ (horisontal axis), for $n$ ranging from $5$ to $1000$.\n",
    "\n",
    "*Hint*: first solve for $m$ in the formula for $d$\n"
   ]
  },
  {
   "cell_type": "markdown",
   "id": "f736aead",
   "metadata": {
    "deletable": false,
    "nbgrader": {
     "cell_type": "markdown",
     "checksum": "f77491d3419f7d1ac51a40971dde75ca",
     "grade": true,
     "grade_id": "cell-ca9685b04472dd7a",
     "locked": false,
     "points": 0,
     "schema_version": 3,
     "solution": true,
     "task": false
    }
   },
   "source": [
    "YOUR ANSWER HERE"
   ]
  },
  {
   "cell_type": "code",
   "execution_count": null,
   "id": "b752da60",
   "metadata": {
    "deletable": false,
    "nbgrader": {
     "cell_type": "code",
     "checksum": "4b07084d15fb5d5b8bcb336a424ec789",
     "grade": false,
     "grade_id": "cell-11df53bee591c6c4",
     "locked": false,
     "schema_version": 3,
     "solution": true,
     "task": false
    }
   },
   "outputs": [],
   "source": [
    "netsize <- seq(5,1000,by = 10) # a sequence of values of n, spaced 10 apart\n",
    "# assign values m as a function of netsize\n",
    "# YOUR CODE HERE\n",
    "stop('No Answer Given!')\n",
    "plot(netsize,m,type='l',xlab='n',ylab='m')"
   ]
  },
  {
   "cell_type": "markdown",
   "id": "655ff84c",
   "metadata": {
    "deletable": false,
    "editable": false,
    "nbgrader": {
     "cell_type": "markdown",
     "checksum": "9d868637ee08c6e9a69bba2926bb0c74",
     "grade": false,
     "grade_id": "cell-fbc3c51e97102596",
     "locked": true,
     "schema_version": 3,
     "solution": false,
     "task": false
    }
   },
   "source": [
    "> Different size networks require different density in order to get a realistic average degree"
   ]
  },
  {
   "cell_type": "markdown",
   "id": "4d474f45",
   "metadata": {
    "deletable": false,
    "editable": false,
    "nbgrader": {
     "cell_type": "markdown",
     "checksum": "b8fa6ac94f63238f6bcb1e62233d5380",
     "grade": false,
     "grade_id": "cell-557cecc2b04d37b7",
     "locked": true,
     "schema_version": 3,
     "solution": false,
     "task": false
    }
   },
   "source": [
    "# Analysing Zachary's karate club\n",
    "\n",
    "\n",
    "### Load data\n",
    "\n",
    "Load the network of $n=34$ members of a karate club  (Zachary, 1977) from last week."
   ]
  },
  {
   "cell_type": "code",
   "execution_count": null,
   "id": "e2c461ce",
   "metadata": {},
   "outputs": [],
   "source": [
    "temp <- tempfile()\n",
    "download.file(\"https://raw.githubusercontent.com/johankoskinen/BayesERGM/main/data/zachary.txt\",temp)\n",
    "X <-  read.table(temp)# this two adjacency matrices stacked on top of each other in a text file\n",
    "unlink(temp)\n",
    "X <- as.matrix(X[1:34,])# symmetric, binary, positive\n",
    "n <- dim(X)[1]"
   ]
  },
  {
   "cell_type": "markdown",
   "id": "334340ac",
   "metadata": {
    "deletable": false,
    "editable": false,
    "nbgrader": {
     "cell_type": "markdown",
     "checksum": "caba1e2718aced6084915691643f5d83",
     "grade": false,
     "grade_id": "cell-b141de6287f83a53",
     "locked": true,
     "schema_version": 3,
     "solution": false,
     "task": false
    }
   },
   "source": [
    "## Completely random graph\n",
    "Often we understand 'random' as a 50/50 chance, or a coin-toss. Let us compare the Karate network with a 'completely random' network.\n",
    "\n",
    "We can generate the random network either using a standard random number generator"
   ]
  },
  {
   "cell_type": "code",
   "execution_count": null,
   "id": "5b82a885",
   "metadata": {},
   "outputs": [],
   "source": [
    "xrand <- matrix(runif(n*n),# random unit numbers between 0 and 1\n",
    "                n, n)<0.5 # arrange these in an n times n matrix\n",
    "# the probability that a random uniform number is smaller than 0.5 is 0.5\n",
    "diag(xrand) <- 0 # remove accidental self-ties"
   ]
  },
  {
   "cell_type": "markdown",
   "id": "fae76018",
   "metadata": {
    "deletable": false,
    "editable": false,
    "nbgrader": {
     "cell_type": "markdown",
     "checksum": "6c4f2317bc06454e0ee3d15d330ebc1a",
     "grade": false,
     "grade_id": "cell-ed61c752f87f4df0",
     "locked": true,
     "schema_version": 3,
     "solution": false,
     "task": false
    }
   },
   "source": [
    "or use the built-in random graph generator from `sna`"
   ]
  },
  {
   "cell_type": "code",
   "execution_count": null,
   "id": "7d7ef7c1",
   "metadata": {},
   "outputs": [],
   "source": [
    "Xrand <- rgraph( n , # network size\n",
    "                 tprob = 0.5 , # density\n",
    "                 mode = 'graph') # we want an undirected network"
   ]
  },
  {
   "cell_type": "markdown",
   "id": "9c57aacc",
   "metadata": {
    "deletable": false,
    "editable": false,
    "nbgrader": {
     "cell_type": "markdown",
     "checksum": "7fc2ec0e97fd14e0072c43b189ae800d",
     "grade": false,
     "grade_id": "cell-4ab51f43a92a1810",
     "locked": true,
     "schema_version": 3,
     "solution": false,
     "task": false
    }
   },
   "source": [
    "This network should have approximately $L= 0.5n(n-1)/2=0.5\\times 34 \\times 33 /2= 280.1$ ties. Let's check"
   ]
  },
  {
   "cell_type": "code",
   "execution_count": null,
   "id": "0a68a096",
   "metadata": {},
   "outputs": [],
   "source": [
    "sum( Xrand )/2"
   ]
  },
  {
   "cell_type": "markdown",
   "id": "ef32da38",
   "metadata": {
    "deletable": false,
    "editable": false,
    "nbgrader": {
     "cell_type": "markdown",
     "checksum": "5909807801abf06dca413f703bb3aeca",
     "grade": false,
     "grade_id": "cell-7cf880d0313ed2eb",
     "locked": true,
     "schema_version": 3,
     "solution": false,
     "task": false
    }
   },
   "source": [
    "Plot the observed and the random network"
   ]
  },
  {
   "cell_type": "code",
   "execution_count": null,
   "id": "b69dc15b",
   "metadata": {},
   "outputs": [],
   "source": [
    "par( mfrow = c(1,2))\n",
    "gplot( X , gmode='graph')\n",
    "gplot( Xrand , gmode='graph')"
   ]
  },
  {
   "cell_type": "markdown",
   "id": "693ea8ec",
   "metadata": {
    "deletable": false,
    "editable": false,
    "nbgrader": {
     "cell_type": "markdown",
     "checksum": "e30baf9f03f78aaf0a37bc5e52889b11",
     "grade": false,
     "grade_id": "cell-b8653c4e0142e11f",
     "locked": true,
     "schema_version": 3,
     "solution": false,
     "task": false
    }
   },
   "source": [
    "It is clear that this random network is a poor representation of almost every aspect of the observed network. Note also that the average degree for the Karate club is"
   ]
  },
  {
   "cell_type": "code",
   "execution_count": null,
   "id": "cd11ada1",
   "metadata": {},
   "outputs": [],
   "source": [
    "sum(X)/n"
   ]
  },
  {
   "cell_type": "markdown",
   "id": "d8a4a139",
   "metadata": {
    "deletable": false,
    "editable": false,
    "nbgrader": {
     "cell_type": "markdown",
     "checksum": "75d8bcd5973fa4b477b2c58d05041568",
     "grade": false,
     "grade_id": "cell-393baca5ab10642a",
     "locked": true,
     "schema_version": 3,
     "solution": false,
     "task": false
    }
   },
   "source": [
    "and for the random network"
   ]
  },
  {
   "cell_type": "code",
   "execution_count": null,
   "id": "2b4302fb",
   "metadata": {},
   "outputs": [],
   "source": [
    "sum(Xrand)/n"
   ]
  },
  {
   "cell_type": "markdown",
   "id": "88cae841",
   "metadata": {
    "deletable": false,
    "editable": false,
    "nbgrader": {
     "cell_type": "markdown",
     "checksum": "5d5a9a07fac15ca8868e4b97f4bc822a",
     "grade": false,
     "grade_id": "cell-5606a723622becfb",
     "locked": true,
     "schema_version": 3,
     "solution": false,
     "task": false
    }
   },
   "source": [
    "# 1. Bernoulli graph\n",
    "The Bernoulli graph $\\mathrm{Bern}(p)$ assumes that tie-variables, independently for all dyads $\\{i.j\\} \\in {V \\choose 2}$, a tie is present with probability\n",
    "$$\n",
    "\\Pr( X_{ij}=1) =  p\n",
    "$$\n",
    "The total number of ties $L(X)$ thus follows a $\\mathrm{Binomial}(n(n-1)/2,p)$ distribution and the expected number of ties is\n",
    "$$\n",
    "E\\{L(X) \\}=E\\left\\{ \\sum_{i<j}X_{ij} \\right\\}=n(n-1)/2p\n",
    "$$\n",
    "with expected density equal to $p$.\n",
    "\n",
    "Commpare the Zachary dataset with random graphs that have *the same density on average* as the observed network. \n",
    "\n",
    "Draw 500 networks."
   ]
  },
  {
   "cell_type": "code",
   "execution_count": null,
   "id": "6dbbe4d7",
   "metadata": {},
   "outputs": [],
   "source": [
    "m <- 500\n",
    "Xbern <- rgraph( n, # match network size\n",
    "                 m= m, # generate 500 random networks\n",
    "                 tprob = gden(X), # match tie-probability to density\n",
    "                 mode='graph') # make sure these are undirected graphs"
   ]
  },
  {
   "cell_type": "markdown",
   "id": "226106c5",
   "metadata": {
    "deletable": false,
    "editable": false,
    "nbgrader": {
     "cell_type": "markdown",
     "checksum": "73df20eea2dabc64a56015a2ce87a8f5",
     "grade": false,
     "grade_id": "cell-757ed6f194347b82",
     "locked": true,
     "schema_version": 3,
     "solution": false,
     "task": false
    }
   },
   "source": [
    "The networks are arranged in an array"
   ]
  },
  {
   "cell_type": "code",
   "execution_count": null,
   "id": "a4b9628d",
   "metadata": {},
   "outputs": [],
   "source": [
    "dim(Xbern)# so 500 34 times 34 adjacency matrices\n",
    "dim(Xbern[1,,])# the first slice of the array is the first simulated network"
   ]
  },
  {
   "cell_type": "markdown",
   "id": "d21c9b44",
   "metadata": {
    "deletable": false,
    "editable": false,
    "nbgrader": {
     "cell_type": "markdown",
     "checksum": "125d516474625dc40d2c150b5a223f37",
     "grade": false,
     "grade_id": "cell-acd9aef36064501a",
     "locked": true,
     "schema_version": 3,
     "solution": false,
     "task": false
    }
   },
   "source": [
    "> Each network is a realisation on a variable and the Bernoulli model allocates a probability to every network!\n",
    "\n",
    "### Plot network\n",
    "\n",
    "Plot the first network"
   ]
  },
  {
   "cell_type": "code",
   "execution_count": null,
   "id": "524eb07c",
   "metadata": {},
   "outputs": [],
   "source": [
    "par( mfrow = c(1,2))\n",
    "gplot( X , gmode='graph',main='Observed')\n",
    "gplot( Xbern[1,,] , gmode='graph', main='Simulated')"
   ]
  },
  {
   "cell_type": "markdown",
   "id": "86d632fa",
   "metadata": {
    "deletable": false,
    "editable": false,
    "nbgrader": {
     "cell_type": "markdown",
     "checksum": "631ffefe4aac6587fc7962fe771bbd52",
     "grade": false,
     "grade_id": "cell-2d2f6d09d6f61428",
     "locked": true,
     "schema_version": 3,
     "solution": false,
     "task": false
    }
   },
   "source": [
    "#### Question 1\n",
    "\n",
    "What are the main differences in structure?"
   ]
  },
  {
   "cell_type": "markdown",
   "id": "19e400b2",
   "metadata": {
    "deletable": false,
    "nbgrader": {
     "cell_type": "markdown",
     "checksum": "406e19c395f697094c2431bb300fe859",
     "grade": true,
     "grade_id": "cell-b41190b0e20a78bd",
     "locked": false,
     "points": 0,
     "schema_version": 3,
     "solution": true,
     "task": false
    }
   },
   "source": [
    "YOUR ANSWER HERE"
   ]
  },
  {
   "cell_type": "markdown",
   "id": "f6d5497b",
   "metadata": {
    "deletable": false,
    "editable": false,
    "nbgrader": {
     "cell_type": "markdown",
     "checksum": "b8405e5bf6c5ce8493b6560ca2db543a",
     "grade": false,
     "grade_id": "cell-702eb43f989f322e",
     "locked": true,
     "schema_version": 3,
     "solution": false,
     "task": false
    }
   },
   "source": [
    "### Degree distribution\n",
    "\n",
    "Calcualte the degree distributions for the observed network and compare it to the degree distributions of the simulated networks?"
   ]
  },
  {
   "cell_type": "code",
   "execution_count": null,
   "id": "d411045f",
   "metadata": {},
   "outputs": [],
   "source": [
    "max.deg <- 30# no nodes have a degree that is as large as 30 to truncate the pltos\n",
    "degrees.obs <- degree(X,# observed networks\n",
    "                      gmode=\"graph\")# recall, this is undirected\n",
    "degree.dist.obs <- c( sum(degrees.obs==0),# we need to calculate the isolates separately\n",
    "                      tabulate(degrees.obs, nbins=max.deg))# this is a table as before but pre-specified bins"
   ]
  },
  {
   "cell_type": "markdown",
   "id": "c437bcc2",
   "metadata": {
    "deletable": false,
    "editable": false,
    "nbgrader": {
     "cell_type": "markdown",
     "checksum": "f24e4739d90153d505c6d186c043971b",
     "grade": false,
     "grade_id": "cell-d10f25f4d43002d4",
     "locked": true,
     "schema_version": 3,
     "solution": false,
     "task": false
    }
   },
   "source": [
    "For the 500 simulated networks we use `apply` to calculate the table many times"
   ]
  },
  {
   "cell_type": "code",
   "execution_count": null,
   "id": "cd6f56fa",
   "metadata": {},
   "outputs": [],
   "source": [
    "degrees.sim <-degree(Xbern,# the array of adjacency matrices\n",
    "                     g=c(1:m), # we need to tell the functions which networks are calculating for\n",
    "                     gmode=\"graph\")# you can calculate the degree distributions for all graphs\n",
    "degree.dist.sim <- cbind( matrix( colSums(degrees.sim==0),m,1),# a separate column for isolates\n",
    "                  t(apply(degrees.sim,2,function(x) tabulate(x, nbins=max.deg) ) ) )# repeating the tabulate funditon\n",
    "matplot(c(0:(max.deg)), # the range of degrees we want to plot frequencies for. Note: matplot plots several rows\n",
    "        t(degree.dist.sim) ,# matplot wants the dataseries in columns, hence the transpose\n",
    "        type ='l',\n",
    "        col = 'grey',\n",
    "        main='degree distribution' )\n",
    "lines(c(0:(max.deg)),degree.dist.obs,col='black',lwd=3)# add the observed degree distribution as a black line"
   ]
  },
  {
   "cell_type": "markdown",
   "id": "f083f4de",
   "metadata": {
    "deletable": false,
    "editable": false,
    "nbgrader": {
     "cell_type": "markdown",
     "checksum": "f70455be113c1aa3c1126131e455bb98",
     "grade": false,
     "grade_id": "cell-7c62a23ae2159f25",
     "locked": true,
     "schema_version": 3,
     "solution": false,
     "task": false
    }
   },
   "source": [
    "#### Question 2\n",
    "\n",
    "What is the main difference between the observed and simulated networks?\n"
   ]
  },
  {
   "cell_type": "markdown",
   "id": "6324d40f",
   "metadata": {
    "deletable": false,
    "nbgrader": {
     "cell_type": "markdown",
     "checksum": "580245f6aa5b3da26e07a8c2ac661fe2",
     "grade": true,
     "grade_id": "cell-ea897ee52df7b14b",
     "locked": false,
     "points": 0,
     "schema_version": 3,
     "solution": true,
     "task": false
    }
   },
   "source": [
    "YOUR ANSWER HERE"
   ]
  },
  {
   "cell_type": "markdown",
   "id": "ecb0b24e",
   "metadata": {
    "deletable": false,
    "editable": false,
    "nbgrader": {
     "cell_type": "markdown",
     "checksum": "ac32760d186162c544018fc41fefaf54",
     "grade": false,
     "grade_id": "cell-0e52fbad769c93bb",
     "locked": true,
     "schema_version": 3,
     "solution": false,
     "task": false
    }
   },
   "source": [
    "### Centralisation\n",
    "\n",
    "The degree distribution seems to indicate that not all nodes have the same probability of forming ties.\n",
    "\n",
    "To test if the degrees are unevely distributied, test\n",
    "* $H_0$: all nodes have the same tie-probability, against\n",
    "* $H_1$: some nodes account for an 'unequal' share of the ties\n",
    "\n",
    "Used centrality as your test statistic:\n",
    "$$\n",
    "T(X) = \\sum_{i=1}^n \\mid  d_{max}-d_i \\mid\n",
    "$$\n",
    "and reject the null-hypothesis if \n",
    "$$\n",
    "\\Pr\\{T(X) > T(X_{\\mathrm{obs}})  \\} < 0.05\n",
    "$$\n",
    "on the 5%-level.\n",
    "\n",
    "First calculate the centralization index for the observed and simulated networks"
   ]
  },
  {
   "cell_type": "code",
   "execution_count": null,
   "id": "9a4e755e",
   "metadata": {},
   "outputs": [],
   "source": [
    "centrl.obs <- centralization(X,# observed network\n",
    "                             degree,# base centralisation on the degrees\n",
    "                             normalize=FALSE,# do not normalize \n",
    "                             mode='graph')# we are using undirected networks\n",
    "centrl.sim <- centralization(Xbern,# the array of simulated networks\n",
    "                             degree,normalize=FALSE, mode='graph')\n",
    "hist( centrl.sim , xlim=range(centrl.obs  ,centrl.sim ))# make sure that the range contains our observed value\n",
    "abline(v = centrl.obs ,col='red')"
   ]
  },
  {
   "cell_type": "markdown",
   "id": "fe93c6c0",
   "metadata": {
    "deletable": false,
    "editable": false,
    "nbgrader": {
     "cell_type": "markdown",
     "checksum": "71a9f2bf9064f96128707fcb2429b679",
     "grade": false,
     "grade_id": "cell-a51eda7c7978b438",
     "locked": true,
     "schema_version": 3,
     "solution": false,
     "task": false
    }
   },
   "source": [
    "Calculate the test"
   ]
  },
  {
   "cell_type": "code",
   "execution_count": null,
   "id": "4343ca72",
   "metadata": {},
   "outputs": [],
   "source": [
    "mean(centrl.sim >= centrl.obs)# calculate the proportion of graphs that had higher or equal centralization\n",
    "\n",
    "1 - mean(centrl.sim < centrl.obs)# equivalently, 1 minues less extreme"
   ]
  },
  {
   "cell_type": "markdown",
   "id": "60352cea",
   "metadata": {
    "deletable": false,
    "editable": false,
    "nbgrader": {
     "cell_type": "markdown",
     "checksum": "67d7bf2361b849eb5b1ff5962b429dfa",
     "grade": false,
     "grade_id": "cell-9016262d54e4bb3a",
     "locked": true,
     "schema_version": 3,
     "solution": false,
     "task": false
    }
   },
   "source": [
    "#### Question 3\n",
    "\n",
    "Is the network more centralised 'than chance'?"
   ]
  },
  {
   "cell_type": "markdown",
   "id": "77a49e45",
   "metadata": {
    "deletable": false,
    "nbgrader": {
     "cell_type": "markdown",
     "checksum": "6a91115abd19b30bff16e9938c88dfc7",
     "grade": true,
     "grade_id": "cell-ba0fde622a74a8e8",
     "locked": false,
     "points": 0,
     "schema_version": 3,
     "solution": true,
     "task": false
    }
   },
   "source": [
    "YOUR ANSWER HERE"
   ]
  },
  {
   "cell_type": "markdown",
   "id": "a127b8c2",
   "metadata": {
    "deletable": false,
    "editable": false,
    "nbgrader": {
     "cell_type": "markdown",
     "checksum": "00e4d69dc54f9b2a0f34b979fe2004d2",
     "grade": false,
     "grade_id": "cell-e5015bfefc796982",
     "locked": true,
     "schema_version": 3,
     "solution": false,
     "task": false
    }
   },
   "source": [
    "So, depending on what you concluded, we would or we wouldn't expect to see such high-degree nodes if every dyad had the same tie-probability and people *form ties completely at random*.\n",
    "\n",
    "### Clustering\n",
    "\n",
    "Calculate and compare the triad census for the observed and random networks (for the $m$ random graphs, `triad.census` will produce an $m\\times4$ table):"
   ]
  },
  {
   "cell_type": "code",
   "execution_count": null,
   "id": "07cf2131",
   "metadata": {},
   "outputs": [],
   "source": [
    "Tcens <- triad.census(Xbern, mode='graph') \n",
    "Tobs <- triad.census(X, mode='graph') \n",
    "par( mfrow = c(2,2) )\n",
    "for (k in c(1:4)){\n",
    "hist( Tcens[,k] , xlim=range( Tcens[,k], Tobs[,k]) , main = paste('Triad: ',k-1 ), xlab='')\n",
    "abline( v = Tobs[,k], col=\"red\")\n",
    "}"
   ]
  },
  {
   "cell_type": "markdown",
   "id": "d5c21962",
   "metadata": {
    "deletable": false,
    "editable": false,
    "nbgrader": {
     "cell_type": "markdown",
     "checksum": "67324176ee0aebd13f1245d52af8a6f9",
     "grade": false,
     "grade_id": "cell-87fd680869de09b4",
     "locked": true,
     "schema_version": 3,
     "solution": false,
     "task": false
    }
   },
   "source": [
    "As you might see, there are many more closed triads in the observed network than in the simulated networks. However, there are also more open triads. To appraise how large a proportion of triads are closed, use as your statistic the clustering coefficient:\n",
    "\n",
    "$$\n",
    "T(X) = \\frac{3T_3(X)}{3T_3(X)+T_2(x)},\n",
    "$$\n",
    "\n",
    "First calculate and plot the clustering coefficient:\n"
   ]
  },
  {
   "cell_type": "code",
   "execution_count": null,
   "id": "f33486a6",
   "metadata": {},
   "outputs": [],
   "source": [
    "Trans <- gtrans(Xbern) \n",
    "hist( Trans , xlim=range( Trans,gtrans(X) ) , xlab ='clustering coef')\n",
    "abline( v = gtrans(X), col=\"red\")"
   ]
  },
  {
   "cell_type": "markdown",
   "id": "1b9bcc13",
   "metadata": {
    "deletable": false,
    "editable": false,
    "nbgrader": {
     "cell_type": "markdown",
     "checksum": "dfb14cbd4dc4e4fb47634c846b10de9f",
     "grade": false,
     "grade_id": "cell-c9611f0d64a52320",
     "locked": true,
     "schema_version": 3,
     "solution": false,
     "task": false
    }
   },
   "source": [
    "Now test if the there is more clustering that by chance. Test\n",
    "* $H_0$: there is no tendency to close triads, against\n",
    "* $H_1$: open triads tend to close\n",
    "\n",
    "Used clustering coefficient as your test statistic"
   ]
  },
  {
   "cell_type": "code",
   "execution_count": null,
   "id": "37d377b8",
   "metadata": {},
   "outputs": [],
   "source": [
    "mean(Trans  >= gtrans(X) )# calculate the proportion of graphs that had higher or equal clustering"
   ]
  },
  {
   "cell_type": "markdown",
   "id": "1dff7c10",
   "metadata": {
    "deletable": false,
    "editable": false,
    "nbgrader": {
     "cell_type": "markdown",
     "checksum": "1b7bbb7e143328e9be51f93b9b6febcf",
     "grade": false,
     "grade_id": "cell-f64388a51c9cd5b6",
     "locked": true,
     "schema_version": 3,
     "solution": false,
     "task": false
    }
   },
   "source": [
    "#### Question 4\n",
    "\n",
    "What proportion had as high or higher clustering as the observed network and what do you conclude?"
   ]
  },
  {
   "cell_type": "markdown",
   "id": "6132934f",
   "metadata": {
    "deletable": false,
    "nbgrader": {
     "cell_type": "markdown",
     "checksum": "4e2ee372487287274d87dcd646a9bd65",
     "grade": true,
     "grade_id": "cell-4b52fa1bb253d86b",
     "locked": false,
     "points": 0,
     "schema_version": 3,
     "solution": true,
     "task": false
    }
   },
   "source": [
    "YOUR ANSWER HERE"
   ]
  },
  {
   "cell_type": "markdown",
   "id": "1cecb463",
   "metadata": {
    "deletable": false,
    "editable": false,
    "nbgrader": {
     "cell_type": "markdown",
     "checksum": "168acdb49e90453fd98d4ee317814981",
     "grade": false,
     "grade_id": "cell-2166855dc3aab4f1",
     "locked": true,
     "schema_version": 3,
     "solution": false,
     "task": false
    }
   },
   "source": [
    "### Connectivity\n",
    "\n",
    "Calcuate the distribution of geodesic distances:"
   ]
  },
  {
   "cell_type": "code",
   "execution_count": null,
   "id": "ae99e6cc",
   "metadata": {},
   "outputs": [],
   "source": [
    "distances <- apply(Xbern,\n",
    "                          1, \n",
    "                          function(x) tabulate( geodist( x )$gdist[upper.tri(geodist( x )$gdist)] , nbins=10 ) )  \n",
    "                    \n",
    " \n",
    "matplot(c(1:(10)), distances ,\n",
    "        type ='l',\n",
    "        col = 'grey',\n",
    "        main='geodesic distribution' ,\n",
    "        xlab='distance',\n",
    "        ylab='frequency')\n",
    "lines(c(1:(10)),\n",
    "      tabulate( geodist( X )$gdist[upper.tri(geodist( X )$gdist)] , nbins=10 ),\n",
    "      pch=24,bg=\"blue\",lty=1,type='b',\n",
    "      col='black',lwd=3 )\n"
   ]
  },
  {
   "cell_type": "markdown",
   "id": "2123311d",
   "metadata": {
    "deletable": false,
    "editable": false,
    "nbgrader": {
     "cell_type": "markdown",
     "checksum": "55d70e532bce906fbe2dfd4275ba5513",
     "grade": false,
     "grade_id": "cell-1d85044eeae57e74",
     "locked": true,
     "schema_version": 3,
     "solution": false,
     "task": false
    }
   },
   "source": [
    "The observed median distance is"
   ]
  },
  {
   "cell_type": "code",
   "execution_count": null,
   "id": "511078f3",
   "metadata": {},
   "outputs": [],
   "source": [
    "median.dist.obs <- median( geodist( X )$gdist[upper.tri(geodist( X )$gdist)] , nbins=10 ) \n",
    "median.dist.obs"
   ]
  },
  {
   "cell_type": "markdown",
   "id": "63756fbf",
   "metadata": {
    "deletable": false,
    "editable": false,
    "nbgrader": {
     "cell_type": "markdown",
     "checksum": "8dbb73e315b4353222fdca7e29878136",
     "grade": false,
     "grade_id": "cell-c7c1a090b079462b",
     "locked": true,
     "schema_version": 3,
     "solution": false,
     "task": false
    }
   },
   "source": [
    "The medians for simulated networks are"
   ]
  },
  {
   "cell_type": "code",
   "execution_count": null,
   "id": "a7b15abd",
   "metadata": {},
   "outputs": [],
   "source": [
    "median.dist.sim <- apply( Xbern,\n",
    "                          1,\n",
    "                          function(x) median( geodist( x )$gdist[upper.tri(geodist( x )$gdist)] ) )\n",
    "table(median.dist.sim )"
   ]
  },
  {
   "cell_type": "markdown",
   "id": "58e8a6a3",
   "metadata": {
    "deletable": false,
    "editable": false,
    "nbgrader": {
     "cell_type": "markdown",
     "checksum": "8227588a95022eb2cd24f05cf0879e49",
     "grade": false,
     "grade_id": "cell-4a7629c20ee08797",
     "locked": true,
     "schema_version": 3,
     "solution": false,
     "task": false
    }
   },
   "source": [
    "Now test if the the network is more or less connected than expected by chance. Test\n",
    "* $H_0$: there is no tendency to have longer or shorted paths against\n",
    "* $H_1$: paths are shorter or longer\n",
    "\n",
    "Used the median distance as your test statistic and do a two-sided test\n"
   ]
  },
  {
   "cell_type": "code",
   "execution_count": null,
   "id": "9a75cdf9",
   "metadata": {},
   "outputs": [],
   "source": [
    "mean( median.dist.obs <= median.dist.sim )# Pr you get longer average paths\n",
    "mean( median.dist.obs >= median.dist.sim)# Pr you get shorter average paths"
   ]
  },
  {
   "cell_type": "markdown",
   "id": "56ba2ea9",
   "metadata": {
    "deletable": false,
    "editable": false,
    "nbgrader": {
     "cell_type": "markdown",
     "checksum": "be4e694da2c9d77c6b6a86f2326e6667",
     "grade": false,
     "grade_id": "cell-48ef46f2fd10e347",
     "locked": true,
     "schema_version": 3,
     "solution": false,
     "task": false
    }
   },
   "source": [
    "#### Question 5\n",
    "What do we conclude about connectivity?"
   ]
  },
  {
   "cell_type": "markdown",
   "id": "8059da5a",
   "metadata": {
    "deletable": false,
    "nbgrader": {
     "cell_type": "markdown",
     "checksum": "f57a48e8159e7677c0f9b1a168fac170",
     "grade": true,
     "grade_id": "cell-310b61c4283cd667",
     "locked": false,
     "points": 0,
     "schema_version": 3,
     "solution": true,
     "task": false
    }
   },
   "source": [
    "YOUR ANSWER HERE"
   ]
  },
  {
   "cell_type": "markdown",
   "id": "4f3362b8",
   "metadata": {
    "deletable": false,
    "editable": false,
    "nbgrader": {
     "cell_type": "markdown",
     "checksum": "c69975cbe0ed59d8cf56441953b1e70b",
     "grade": false,
     "grade_id": "cell-76b5a069b000b427",
     "locked": true,
     "schema_version": 3,
     "solution": false,
     "task": false
    }
   },
   "source": [
    "# 2. Conditionally uniform density\n",
    "\n",
    "Some variation in our metrics for the Bernoulli graphs is due to random graphs only having the same density *on average*. Let $L(x) = \\sum_{i<j}x_{ij}$ be the number of edges in a graph. The number of graphs with exactly $k$ edges\n",
    "$$\n",
    "\\mathcal{X}_k= \\{ x \\in \\mathcal{X} : L(x)=k \\}\n",
    "$$\n",
    "is given by ${ M \\choose k}$, where $M= { n \\choose 2}$, and consequently the conditional distribution\n",
    "$$\n",
    "\\Pr(X=x \\mid L(x)= k ) = \\frac{1}{{ M \\choose k}}\n",
    "$$\n",
    "\n",
    "Note that are no longer deciding independently for each pair if there is a tie or not, rather we select $k$ pairs at random from the total set of pairs and decide that they will have tie.\n",
    "\n",
    "We refer to this model as $X \\thicksim U \\mid L(X)= k$. In `sna`, the function `rgnm` generates random graphs with exactly the same number of ties as the observed network (same density).\n",
    "\n",
    "If you do a plot of the density for the *previously generate* Bernoulli networks, you will see that we only get the right density on average:"
   ]
  },
  {
   "cell_type": "code",
   "execution_count": null,
   "id": "b581f13b",
   "metadata": {},
   "outputs": [],
   "source": [
    "hist( gden(Xbern))\n",
    "abline(v=gden(X),col='red')"
   ]
  },
  {
   "cell_type": "markdown",
   "id": "6174ea36",
   "metadata": {
    "deletable": false,
    "editable": false,
    "nbgrader": {
     "cell_type": "markdown",
     "checksum": "1fdf74be63a17bcb87ee22ccddccef0d",
     "grade": false,
     "grade_id": "cell-59cb62bc902809f2",
     "locked": true,
     "schema_version": 3,
     "solution": false,
     "task": false
    }
   },
   "source": [
    "Will our test change if all networks have the *exact same number of ties*?\n",
    "\n",
    "Draw 500 networks from the $U | L$ distribution **NB: the number of graphs and size are swapped in this function**"
   ]
  },
  {
   "cell_type": "code",
   "execution_count": null,
   "id": "83ad4c05",
   "metadata": {},
   "outputs": [],
   "source": [
    "m <- 500\n",
    "Xunif <- rgnm( n = m,# generate 500 random networks # match network size\n",
    "                 nv = n, # the size of the networks\n",
    "                 m = sum(X)/2, # match the number of ties\n",
    "                 mode='graph') # make sure these are undirected graphs"
   ]
  },
  {
   "cell_type": "markdown",
   "id": "43a61fa0",
   "metadata": {
    "deletable": false,
    "editable": false,
    "nbgrader": {
     "cell_type": "markdown",
     "checksum": "94aa08c5e03cda38cd1a2cd5626e6f88",
     "grade": false,
     "grade_id": "cell-72641af6d9c1aa20",
     "locked": true,
     "schema_version": 3,
     "solution": false,
     "task": false
    }
   },
   "source": [
    "### Centralisation\n",
    "\n",
    "Test centralisation using the centralization index (use the code above)\n"
   ]
  },
  {
   "cell_type": "code",
   "execution_count": null,
   "id": "151fb381",
   "metadata": {
    "deletable": false,
    "nbgrader": {
     "cell_type": "code",
     "checksum": "0edc4755e4a4b6229d800cb81aab70e9",
     "grade": false,
     "grade_id": "cell-e5225f51dfabd36b",
     "locked": false,
     "schema_version": 3,
     "solution": true,
     "task": false
    }
   },
   "outputs": [],
   "source": [
    "# YOUR CODE HERE\n",
    "stop('No Answer Given!')\n"
   ]
  },
  {
   "cell_type": "markdown",
   "id": "db134c6c",
   "metadata": {
    "deletable": false,
    "editable": false,
    "nbgrader": {
     "cell_type": "markdown",
     "checksum": "01336fe5ef99dcc785bf9f40f7d4b8b8",
     "grade": false,
     "grade_id": "cell-9d786c7dacde12a2",
     "locked": true,
     "schema_version": 3,
     "solution": false,
     "task": false
    }
   },
   "source": [
    "\n",
    "#### Question 6\n",
    "\n",
    "Does the conditionally uniform distribution better capture centralization? Motivate your answer.\n"
   ]
  },
  {
   "cell_type": "markdown",
   "id": "cc25c8be",
   "metadata": {
    "deletable": false,
    "nbgrader": {
     "cell_type": "markdown",
     "checksum": "8999f0e87aac681f9fb78d952f973182",
     "grade": true,
     "grade_id": "cell-2cb613517409c8db",
     "locked": false,
     "points": 0,
     "schema_version": 3,
     "solution": true,
     "task": false
    }
   },
   "source": [
    "YOUR ANSWER HERE"
   ]
  },
  {
   "cell_type": "markdown",
   "id": "88887e42",
   "metadata": {
    "deletable": false,
    "editable": false,
    "nbgrader": {
     "cell_type": "markdown",
     "checksum": "1150a489f67e50573852867c47fbbb73",
     "grade": false,
     "grade_id": "cell-ebe732ff237af3ff",
     "locked": true,
     "schema_version": 3,
     "solution": false,
     "task": false
    }
   },
   "source": [
    "### Closure\n",
    "\n",
    "Calculate and test clustering using the clustering coefficient\n"
   ]
  },
  {
   "cell_type": "code",
   "execution_count": null,
   "id": "d9ba9f36",
   "metadata": {
    "deletable": false,
    "nbgrader": {
     "cell_type": "code",
     "checksum": "911e5ea1f499727441cac40ac6e3b89a",
     "grade": false,
     "grade_id": "cell-4ac25ec75b8be12b",
     "locked": false,
     "schema_version": 3,
     "solution": true,
     "task": false
    }
   },
   "outputs": [],
   "source": [
    "# YOUR CODE HERE\n",
    "stop('No Answer Given!')"
   ]
  },
  {
   "cell_type": "markdown",
   "id": "959c15f4",
   "metadata": {
    "deletable": false,
    "editable": false,
    "nbgrader": {
     "cell_type": "markdown",
     "checksum": "402b46499506a516afa4e3f4cdffe348",
     "grade": false,
     "grade_id": "cell-6122c68daf79ec36",
     "locked": true,
     "schema_version": 3,
     "solution": false,
     "task": false
    }
   },
   "source": [
    "#### Question 7\n",
    "\n",
    "Can the conditional uniform model explain clustering?\n"
   ]
  },
  {
   "cell_type": "markdown",
   "id": "f57b4e5e",
   "metadata": {
    "deletable": false,
    "nbgrader": {
     "cell_type": "markdown",
     "checksum": "5f44e45dcc4daeebae220a5943310bda",
     "grade": true,
     "grade_id": "cell-6241622af0feb3d9",
     "locked": false,
     "points": 0,
     "schema_version": 3,
     "solution": true,
     "task": false
    }
   },
   "source": [
    "YOUR ANSWER HERE"
   ]
  },
  {
   "cell_type": "markdown",
   "id": "9ea72860",
   "metadata": {
    "deletable": false,
    "editable": false,
    "nbgrader": {
     "cell_type": "markdown",
     "checksum": "f4b3c688ebe1268ce1289aa73c01953c",
     "grade": false,
     "grade_id": "cell-66618fbc058a8189",
     "locked": true,
     "schema_version": 3,
     "solution": false,
     "task": false
    }
   },
   "source": [
    "# 3. Conditionally uniform conditional on degree distribution\n",
    "\n",
    "Since we cna conclude that the degree distribution is much more skewed in the observed data than in the random networks, we cannot say if discrepancies in clustering are due to many hubs or low clustering.\n",
    "\n",
    "Like the $U \\mid L(X)=k$ distribution, we define a distribution for graphs (not for tie-variables). We let $X \\thicksim U \\mid X_{\\cdot+}=d$ mean that the distribution is uniform on all the graphs that have *the exact same degree distribution*. Thus\n",
    "$$ \n",
    "\\Pr( X = x) = \\left\\{\n",
    "\\begin{array}{lr}\n",
    "\tc^{-1},&\\text{if } x_{\\cdot+}=d\\\\\n",
    "\t0,&\\text{else}\n",
    "\\end{array} \n",
    "\\right. {\\text{,}}\n",
    "$$\n",
    "where $x_{\\cdot+}=(\\sum_j x_{1j},\\ldots,x_{nj})^{\\top}$ is the vector of degrees, and $c = \\mid \\{ x \\in \\mathcal{X}: x_{\\cdot+}=d \\} \\mid $.\n",
    "\n",
    "There are several algorithms for simulating networks with fixed degree distribution and all of (the reliable ones) rely on Markov chain Monte Carlo (MCMC).\n",
    "\n",
    "### Note on MCMC\n",
    "The premise of MCMC is the you want to draw one variable $x$ from a distribution $p(x)$ but you cannot do that directly. What you can do though is to say how much more likely one realisation of a variable is relative to another. For example, let $x$ and $y$ be two networks and that the *target distribution* is $p(x)$. What we need to know in order to use MCMC is the ratio $p(x)/p(y)$ for all $x,y \\in \\mathcal{X}$. This allows us to generate a sequence of realisations\n",
    "$$\n",
    "x_0,x_1,x_2,\\ldots,x_K\n",
    "$$\n",
    "of outcomes. This is an iterative scheme where you have an updating rule that takes an outcome $x_t$ and updates it to $x_{t+1}$, and this update relies on our ability to calculate $p(x)/p(y)$ for all $x,y \\in \\mathcal{X}$. In particular, if we are in state $x_t$, and we consider moving to state $x^{\\ast}$, we know how much more or less likely the new state is relative to the old state $p(x^{*})/p(x_t)$. For networks, these updates are often incremental and you either set $x_{t+1}:=x^{\\ast}$ or $x_{t+1}:=x_{t}$, depending on $p(x^{*})/p(x_t)$. Consequently, sometimes we stay in the same state, in the same network, for many iterations.\n",
    "\n",
    "Burnin: to make sure that $x_t$ has 'forgotten' the initial state $x_0$, you usuall allow for a number of interations to pass - this is the burnin period.\n",
    "\n",
    "Thinning: If you have an adequate burning and want to draw many outcomes, you may not have to do the same burnin again, instead you allow for a certain number of iterations bewtween sucessive sample points - the number of iterations you wait is called thinning.\n",
    "\n",
    "### Simulate\n",
    "\n",
    "The function that simulates networks require a `network` object, so first we need to translate the adjancency matrix to a netwokr object"
   ]
  },
  {
   "cell_type": "code",
   "execution_count": null,
   "id": "0901fecb",
   "metadata": {},
   "outputs": [],
   "source": [
    "X.net <- as.network(X, # our adjacency matrix that we want translated\n",
    "                    directed=FALSE)# note the here an undirected network is indicated by directed=FALSE\n",
    "X.net"
   ]
  },
  {
   "cell_type": "markdown",
   "id": "e767ca22",
   "metadata": {
    "deletable": false,
    "editable": false,
    "nbgrader": {
     "cell_type": "markdown",
     "checksum": "f115a1ff25ad5d0f52b5d6114edfc891",
     "grade": false,
     "grade_id": "cell-5739c022850a49b9",
     "locked": true,
     "schema_version": 3,
     "solution": false,
     "task": false
    }
   },
   "source": [
    "To simulate we use a function from the `ergm` package:"
   ]
  },
  {
   "cell_type": "code",
   "execution_count": null,
   "id": "d7ab328b",
   "metadata": {},
   "outputs": [],
   "source": [
    "Xudegs <- simulate(X.net~edges,\n",
    "                    coef=c(0),# the role of coefficients will become clear further on\n",
    "                    constraints=~degrees,# this guarantees that only networks with the same degree are generated\n",
    "                    nsim=100,# we set the number of draws a bit lower to save time\n",
    "                    control=control.simulate(MCMC.burnin=100000))# you need to bump up the default burnin, otherwise the networks are too similar to the starting point, the observed network"
   ]
  },
  {
   "cell_type": "markdown",
   "id": "04535d33",
   "metadata": {
    "deletable": false,
    "editable": false,
    "nbgrader": {
     "cell_type": "markdown",
     "checksum": "6bd640efea57d56a63dfa9e4b20bb5d2",
     "grade": false,
     "grade_id": "cell-8856d1002033dc84",
     "locked": true,
     "schema_version": 3,
     "solution": false,
     "task": false
    }
   },
   "source": [
    "Note that the object returned is *a list of networks*, not an array as before.\n",
    "\n",
    "To confirm that this network actually has the same degree distribution by looking at one of the networks:\n"
   ]
  },
  {
   "cell_type": "code",
   "execution_count": null,
   "id": "d71f789f",
   "metadata": {},
   "outputs": [],
   "source": [
    "par(mfrow=c(1,3))\n",
    "deg1 <- degree(X.net,  cmode='indegree')\n",
    "deg2 <- degree(Xudegs[[5]],  cmode='indegree')# this is a list of networks, not an array, hence [[k]]\n",
    "plot( deg1,deg2 ,xlab='Zachary', ylab ='random network',main='degrees')#\n",
    "plot( deg1[order(deg1)],deg2[order(deg2)] ,ylab ='random network',main='degrees')# the degree distribution is the same but not the same nodes have the same degrees\n",
    "plot( table(deg1), type='l',col='grey',lwd=4)\n",
    "lines( table(deg2) ,col='red' )"
   ]
  },
  {
   "cell_type": "markdown",
   "id": "e557fe30",
   "metadata": {
    "deletable": false,
    "editable": false,
    "nbgrader": {
     "cell_type": "markdown",
     "checksum": "60e5c5fc275b47579792ffe7af834261",
     "grade": false,
     "grade_id": "cell-93c9985e59433a2a",
     "locked": true,
     "schema_version": 3,
     "solution": false,
     "task": false
    }
   },
   "source": [
    "### Closure\n",
    "\n",
    "Now that we have fixed the degree distribution, is there closure *above what can be explained by degree heterogenity*. In other words, was the significantly large clustering compared to e.g. the Bernoulli model due to some nodes being hubs?\n",
    "\n",
    "Calculate and test clustering using the clustering coefficient (do a histogram of clustering coefficient to aid your conlclusions). Hint: `gtrans` works the same on an array of networks and a list of networks.\n"
   ]
  },
  {
   "cell_type": "code",
   "execution_count": null,
   "id": "503e926f",
   "metadata": {
    "deletable": false,
    "nbgrader": {
     "cell_type": "code",
     "checksum": "d2837d4669ac1a5c7e30fbccf2f9e4f5",
     "grade": false,
     "grade_id": "cell-c367a4adf74c33ec",
     "locked": false,
     "schema_version": 3,
     "solution": true,
     "task": false
    }
   },
   "outputs": [],
   "source": [
    "# YOUR CODE HERE\n",
    "stop('No Answer Given!')"
   ]
  },
  {
   "cell_type": "markdown",
   "id": "670794ab",
   "metadata": {
    "deletable": false,
    "editable": false,
    "nbgrader": {
     "cell_type": "markdown",
     "checksum": "ffc847c40650979bce5c4b25dc2d40a5",
     "grade": false,
     "grade_id": "cell-491423755cc4e785",
     "locked": true,
     "schema_version": 3,
     "solution": false,
     "task": false
    }
   },
   "source": [
    "#### Question 8\n",
    "\n",
    "Does the heterogenity in the degree distribution explain clustering?\n"
   ]
  },
  {
   "cell_type": "markdown",
   "id": "09d353ca",
   "metadata": {
    "deletable": false,
    "nbgrader": {
     "cell_type": "markdown",
     "checksum": "c863ed721f225878962dfc37a999fa67",
     "grade": true,
     "grade_id": "cell-f572951b3d51a234",
     "locked": false,
     "points": 0,
     "schema_version": 3,
     "solution": true,
     "task": false
    }
   },
   "source": [
    "YOUR ANSWER HERE"
   ]
  },
  {
   "cell_type": "markdown",
   "id": "63606a51",
   "metadata": {
    "deletable": false,
    "editable": false,
    "nbgrader": {
     "cell_type": "markdown",
     "checksum": "3552e790d9400a872047f7b04583a878",
     "grade": false,
     "grade_id": "cell-efc945e401181067",
     "locked": true,
     "schema_version": 3,
     "solution": false,
     "task": false
    }
   },
   "source": [
    "### Path lengths\n",
    "\n",
    "Calcuate the distribution of geodesic distances:"
   ]
  },
  {
   "cell_type": "code",
   "execution_count": null,
   "id": "05d9b21d",
   "metadata": {},
   "outputs": [],
   "source": [
    "# because Xudegs is a list it is a little more complicated to use built in sna functions\n",
    "distances <- matrix(0,10,100)\n",
    "median.dist.sim <- matrix(0,1,100)\n",
    "mean.dist.sim <- matrix(0,1,100)\n",
    "for (k in c(1:100))\n",
    "{\n",
    "  temp.dist <- geodist( Xudegs[[k]] )$gdist[upper.tri(geodist( Xudegs[[k]] )$gdist)]# temporary distances\n",
    "  distances[,k] <- tabulate( temp.dist, \n",
    "                             nbins=10 ) # tabulate distances\n",
    "  median.dist.sim[k] <- median(temp.dist )# save median distance\n",
    "  mean.dist.sim[k] <- median(temp.dist )# save median distance\n",
    "}\n",
    "\n",
    "matplot(c(1:(10)), distances ,\n",
    "        type ='l',\n",
    "        col ='grey',\n",
    "        main='geodesic distribution' ,\n",
    "        xlab='distance',\n",
    "        ylab='frequency')\n",
    "lines(c(1:(10)),\n",
    "      tabulate( geodist( X )$gdist[upper.tri(geodist( X )$gdist)] , nbins=10 ),\n",
    "      pch=24,bg=\"blue\",lty=1,type='b',\n",
    "      col='black',lwd=3 )"
   ]
  },
  {
   "cell_type": "markdown",
   "id": "7e843bf7",
   "metadata": {
    "deletable": false,
    "editable": false,
    "nbgrader": {
     "cell_type": "markdown",
     "checksum": "0d9d75c17c25ec6cbe88bb0b6a3b99de",
     "grade": false,
     "grade_id": "cell-0e67a94409704835",
     "locked": true,
     "schema_version": 3,
     "solution": false,
     "task": false
    }
   },
   "source": [
    "#### Question 9\n",
    "\n",
    "Do a one-side test to test if observed path-lengths are longer than what is explained by the degree-distribution - use both median distance and mean distance"
   ]
  },
  {
   "cell_type": "code",
   "execution_count": null,
   "id": "b6b13e54",
   "metadata": {
    "deletable": false,
    "nbgrader": {
     "cell_type": "code",
     "checksum": "71520daa7935fc36a6910b7a7e7ff2fd",
     "grade": false,
     "grade_id": "cell-5c4e55b5a12e6c84",
     "locked": false,
     "schema_version": 3,
     "solution": true,
     "task": false
    }
   },
   "outputs": [],
   "source": [
    "median.dist.obs <- median( geodist( X )$gdist[upper.tri(geodist( X )$gdist)] , nbins=10 ) \n",
    "mean.dist.obs <- mean( geodist( X )$gdist[upper.tri(geodist( X )$gdist)] , nbins=10 ) \n",
    "# YOUR CODE HERE\n",
    "stop('No Answer Given!')"
   ]
  },
  {
   "cell_type": "markdown",
   "id": "e3a7225e",
   "metadata": {
    "deletable": false,
    "nbgrader": {
     "cell_type": "markdown",
     "checksum": "830b6a08b5d64ffb13bfd7d433b6e883",
     "grade": true,
     "grade_id": "cell-c882535be50eb11b",
     "locked": false,
     "points": 0,
     "schema_version": 3,
     "solution": true,
     "task": false
    }
   },
   "source": [
    "YOUR ANSWER HERE"
   ]
  },
  {
   "cell_type": "markdown",
   "id": "ce7e740d",
   "metadata": {
    "deletable": false,
    "editable": false,
    "nbgrader": {
     "cell_type": "markdown",
     "checksum": "675e92e4d612341805ded035d95719e5",
     "grade": false,
     "grade_id": "cell-723e0ab0b3881362",
     "locked": true,
     "schema_version": 3,
     "solution": false,
     "task": false
    }
   },
   "source": [
    "#### Question 10\n",
    "\n",
    "How would you summarise the two results for clustering and connectivity taken together? What does the degree distribution explain and what does it not explained compared (compare with the Bernoulli graph)\n"
   ]
  },
  {
   "cell_type": "markdown",
   "id": "a3550e7b",
   "metadata": {
    "deletable": false,
    "nbgrader": {
     "cell_type": "markdown",
     "checksum": "0e663650d216f31512062683f36cb1ee",
     "grade": true,
     "grade_id": "cell-659c1d076b5f133b",
     "locked": false,
     "points": 0,
     "schema_version": 3,
     "solution": true,
     "task": false
    }
   },
   "source": [
    "YOUR ANSWER HERE"
   ]
  },
  {
   "cell_type": "markdown",
   "id": "f990233e",
   "metadata": {
    "deletable": false,
    "editable": false,
    "nbgrader": {
     "cell_type": "markdown",
     "checksum": "f543b3a4a7f846704bb67b88de51df97",
     "grade": false,
     "grade_id": "cell-65c397e2f287f86e",
     "locked": true,
     "schema_version": 3,
     "solution": false,
     "task": false
    }
   },
   "source": [
    "# 4. ERGM \n",
    "Both clustering and degree-heterogeneity differ from the Bernoulli model - actors to not form ties at random. Controlling for the fact that some actors are more 'popular' partly explains clustering. However, the clustering increases the distances in the graph. In addition, using conditionally uniform degree model we can see how much of the clustering that the degree distribution is responsible for but we cannot know how much of the degree heterogenity that is explained by clustering.\n",
    "\n",
    "## Definition\n",
    "\n",
    "An introduction to ERGMs is given in the slides. Formally, an ERGM is a model\n",
    "$$\n",
    "\\Pr( X = x \\mid \\theta) = \\frac{ \\exp \\{ \\theta^{\\top}z(x)  \\}   }{ \\sum_{x \\in \\mathcal{X} } \\exp \\{ \\theta^{\\top}z(x) \\} }\n",
    "$$\n",
    "\n",
    "where\n",
    "* $\\theta$ is a vector of statitical parameters\n",
    "* $z(x)$ is a vector of statistics calculated on $x$\n",
    "* the denominator is a sum over all graphs ensuring that the probaility sums to one\n",
    "\n",
    "A positive parameter $\\theta$ means that you expect more of the configuration associated with its statistic, $z$\n",
    "\n",
    "### Example\n",
    "If $z(x)=L(x)$, the only model statistic is the number of edges in the graph. This model is equivalent to $Bern(p)$, where\n",
    "$$\n",
    "\\theta = - \\log\\left( \\frac{1}{p-1}\\right)\n",
    "$$\n",
    "or, expressed in terms of $p$\n",
    "$$\n",
    "p= \\frac{e^{\\theta L(x)}}{1+e^{\\theta L(x)}}\n",
    "$$\n",
    "\n",
    "## Properties\n",
    "\n",
    "A property of ERGM is that you can set the values of the expected statistics. The expected statistis\n",
    "$$\n",
    "E_{\\theta} \\{ z(X) \\} = \\sum_{x \\in \\mathcal{x}} z(x)\\Pr( X = x \\mid \\theta) \n",
    "$$\n",
    "are completely determined by the parameters. \n",
    "\n",
    "### Simulate\n",
    "\n",
    "Draw from an ERGM that has the same number of edges as the observed network and that gets the number of two-stars and triangles correct on average. In particular, we use the statistics:\n",
    "\n",
    "* two-stars: $\\sum_{ i ,j,k }x_{ij}x_{ik}$\n",
    "* triangles: $\\sum_{ i ,j,k}x_{ij}x_{ik}x_{jk}$\n",
    "\n",
    "We will use the parameters $\\theta = \\left( 0.1587,  0.1744 \\right)^{\\top}$. This means that we will favour graphs that have more two-paths - every high-degree nodes will contribute many two-stars - and more triangles.\n"
   ]
  },
  {
   "cell_type": "code",
   "execution_count": null,
   "id": "e8fb7cdd",
   "metadata": {},
   "outputs": [],
   "source": [
    "star.coef <- 0.1587# the coefficeints are estimated using: est <- ergm(  ~ kstar(2)+triangle, constraints =~ edges )\n",
    "triangle.coef <- 0.1744  \n",
    "Xergm <- simulate(X.net~ kstar(2)+triangle,# the linear combiation in the exponent\n",
    "                    coef=c(star.coef,triangle.coef),\n",
    "                    constraints=~edges,# this is what does it degreedist is based on padgbus.net\n",
    "                    nsim=100,\n",
    "                    control=control.simulate(MCMC.burnin=100000))# "
   ]
  },
  {
   "cell_type": "markdown",
   "id": "f1f65f55",
   "metadata": {
    "deletable": false,
    "editable": false,
    "nbgrader": {
     "cell_type": "markdown",
     "checksum": "0660d4b0aa118b4e6766602cefef6eaa",
     "grade": false,
     "grade_id": "cell-4a7bf2781287cc55",
     "locked": true,
     "schema_version": 3,
     "solution": false,
     "task": false
    }
   },
   "source": [
    "Check the triad census"
   ]
  },
  {
   "cell_type": "code",
   "execution_count": null,
   "id": "5aed3b2a",
   "metadata": {},
   "outputs": [],
   "source": [
    "Tcens <- triad.census(Xergm, mode='graph') \n",
    "Tobs <- triad.census(X, mode='graph') \n",
    "par( mfrow = c(2,2) )\n",
    "for (k in c(1:4))\n",
    "{\n",
    "hist( Tcens[,k] , xlim=range( Tcens[,k], Tobs[,k]) , xlab ='', main=paste('Triangle ',k-1))\n",
    "abline( v = Tobs[,k], col=\"red\")\n",
    "}"
   ]
  },
  {
   "cell_type": "markdown",
   "id": "e474761a",
   "metadata": {
    "deletable": false,
    "editable": false,
    "nbgrader": {
     "cell_type": "markdown",
     "checksum": "22137eb561d50802d801d08766279627",
     "grade": false,
     "grade_id": "cell-6562af13f94d7d24",
     "locked": true,
     "schema_version": 3,
     "solution": false,
     "task": false
    }
   },
   "source": [
    "This model seems to replicate the triad census very well.\n",
    "\n",
    "Check the degree distribution"
   ]
  },
  {
   "cell_type": "code",
   "execution_count": null,
   "id": "0172a05b",
   "metadata": {},
   "outputs": [],
   "source": [
    "m <- 100\n",
    "degrees.sim <-degree(Xergm,g=c(1:m), gmode=\"graph\")# you can calculate the degree distributions for all graphs\n",
    "degree.dist.sim <- cbind( matrix( colSums(degrees.sim==0),m,1),\n",
    "                  t(apply(degrees.sim,2,function(x) tabulate(x, nbins=max.deg) ) ) )# when tabulating we need to add the number of isolates \n",
    "matplot(c(0:(max.deg)), t(degree.dist.sim) ,\n",
    "        type ='l',\n",
    "        col = 'grey',\n",
    "        main='degree distribution' )\n",
    "lines(c(0:(max.deg)),degree.dist.obs,col='black',lwd=3)"
   ]
  },
  {
   "cell_type": "markdown",
   "id": "16b06cd0",
   "metadata": {
    "deletable": false,
    "editable": false,
    "nbgrader": {
     "cell_type": "markdown",
     "checksum": "6bda7eb58aceb6bae5744a7daf5d208d",
     "grade": false,
     "grade_id": "cell-91ab787e10b5def0",
     "locked": true,
     "schema_version": 3,
     "solution": false,
     "task": false
    }
   },
   "source": [
    "The shape of the degree distribution seems to be similar.\n",
    "\n",
    "#### Question 11\n",
    "Does the ERGM explain centralization?\n",
    "\n",
    "Test centralisation using the centralization index (use the code above)"
   ]
  },
  {
   "cell_type": "code",
   "execution_count": null,
   "id": "412b219d",
   "metadata": {
    "deletable": false,
    "nbgrader": {
     "cell_type": "code",
     "checksum": "e4712500fe664a7d847ddb7c768bc0c3",
     "grade": false,
     "grade_id": "cell-bf2d13db5bc40e9c",
     "locked": false,
     "schema_version": 3,
     "solution": true,
     "task": false
    }
   },
   "outputs": [],
   "source": [
    "# YOUR CODE HERE\n",
    "stop('No Answer Given!')"
   ]
  },
  {
   "cell_type": "markdown",
   "id": "c2dd7c85",
   "metadata": {
    "deletable": false,
    "nbgrader": {
     "cell_type": "markdown",
     "checksum": "756ae53c67303c9be220e7c20985ca74",
     "grade": true,
     "grade_id": "cell-4fc7979805187e59",
     "locked": false,
     "points": 0,
     "schema_version": 3,
     "solution": true,
     "task": false
    }
   },
   "source": [
    "YOUR ANSWER HERE"
   ]
  },
  {
   "cell_type": "markdown",
   "id": "3706e41a",
   "metadata": {
    "deletable": false,
    "editable": false,
    "nbgrader": {
     "cell_type": "markdown",
     "checksum": "40757ad9d42572170bf576046a9ecd2b",
     "grade": false,
     "grade_id": "cell-284fd84918d44520",
     "locked": true,
     "schema_version": 3,
     "solution": false,
     "task": false
    }
   },
   "source": [
    "#### Optional exercise\n",
    "As an own excercise, you can analyse how the two-star statistic relates to the variance in the degree distribution. Letting $\\bar{d}$ be the average degree, the sample *degree variance* (more or less the same as centralization index) can  be written\n",
    "$$\n",
    "\\frac{\\sum_i (d_i-\\bar{d})^2}{n-1}=\\frac{\\sum_id_i^2-\\tfrac{\\left(\\sum_i d_i \\right)^2}{n}}{n-1}\n",
    "$$\n",
    "and assuming that the average degree is fixed, the variance depends on how large the first sum is. This sum can be written as\n",
    "$$\n",
    "\\sum_id_i^2=\\sum_i \\left(\\sum_j x_{ij} \\right)^2=\\sum_i \\sum_{j,k}x_{ij}x_{ik}\n",
    "$$\n",
    "which is exactly the two-star statistic.\n",
    "\n",
    "### Path lengths\n",
    "\n",
    "Calcuate the distribution of geodesic distnaces:"
   ]
  },
  {
   "cell_type": "code",
   "execution_count": null,
   "id": "f2dfea01",
   "metadata": {},
   "outputs": [],
   "source": [
    "# because Xergm is a list it is a little more complicated to use built in sna functions\n",
    "distances <- matrix(0,10,100)\n",
    "median.dist.sim <- matrix(0,1,100)\n",
    "mean.dist.sim <- matrix(0,1,100)\n",
    "for (k in c(1:100))\n",
    "{\n",
    "  temp.dist <- geodist( Xergm[[k]] )$gdist[upper.tri(geodist( Xergm[[k]] )$gdist)]# temporary distances\n",
    "  distances[,k] <- tabulate( temp.dist, \n",
    "                             nbins=10 ) # tabulate distances\n",
    "  median.dist.sim[k] <- median(temp.dist )# save median distance\n",
    "  mean.dist.sim[k] <- median(temp.dist )# save median distance\n",
    "}\n",
    "\n",
    "matplot(c(1:(10)), distances ,\n",
    "        type ='l',\n",
    "        col ='grey',\n",
    "        main='geodesic distribution' ,\n",
    "        xlab='distance',\n",
    "        ylab='frequency')\n",
    "lines(c(1:(10)),\n",
    "      tabulate( geodist( X )$gdist[upper.tri(geodist( X )$gdist)] , nbins=10 ),\n",
    "      pch=24,bg=\"blue\",lty=1,type='b',\n",
    "      col='black',lwd=3 )"
   ]
  },
  {
   "cell_type": "markdown",
   "id": "49ca095a",
   "metadata": {
    "deletable": false,
    "editable": false,
    "nbgrader": {
     "cell_type": "markdown",
     "checksum": "5e040757a1eccd5ffca83c76ad95626d",
     "grade": false,
     "grade_id": "cell-405006fc5d240bde",
     "locked": true,
     "schema_version": 3,
     "solution": false,
     "task": false
    }
   },
   "source": [
    "#### Question 12\n",
    "\n",
    "Do a one-side test to test if observed path-lengths are longer than what is explained by the degree-distribution - use both median distance and mean distance\n"
   ]
  },
  {
   "cell_type": "code",
   "execution_count": null,
   "id": "34a406b7",
   "metadata": {
    "deletable": false,
    "nbgrader": {
     "cell_type": "code",
     "checksum": "fbea5083b376e441a50ebb05d4f2cc13",
     "grade": false,
     "grade_id": "cell-f4c68b5e53a85e28",
     "locked": false,
     "schema_version": 3,
     "solution": true,
     "task": false
    }
   },
   "outputs": [],
   "source": [
    "mean.dist.obs <- mean( geodist( X )$gdist[upper.tri(geodist( X )$gdist)] , nbins=10 ) \n",
    "# YOUR CODE HERE\n",
    "stop('No Answer Given!')"
   ]
  },
  {
   "cell_type": "markdown",
   "id": "09770a1c",
   "metadata": {
    "deletable": false,
    "nbgrader": {
     "cell_type": "markdown",
     "checksum": "7708fac0d652af64a1e506abf0267300",
     "grade": true,
     "grade_id": "cell-37a09d3772c407f9",
     "locked": false,
     "points": 0,
     "schema_version": 3,
     "solution": true,
     "task": false
    }
   },
   "source": [
    "YOUR ANSWER HERE"
   ]
  },
  {
   "cell_type": "markdown",
   "id": "e6d76ef1",
   "metadata": {
    "deletable": false,
    "editable": false,
    "nbgrader": {
     "cell_type": "markdown",
     "checksum": "936ecb9f7123b1bd139e259301297ea8",
     "grade": false,
     "grade_id": "cell-8451f11f42868b1c",
     "locked": true,
     "schema_version": 3,
     "solution": false,
     "task": false
    }
   },
   "source": [
    "# Summary\n",
    "\n",
    "So, we have seen powerfull methods for testing importance mechanisms in tie-formation or have we just listed multiple ways of proving that *people do not form ties at random*?\n",
    "\n",
    "Testing observed patterns against null-distributions has its limitations - we only ever know what we reject. The ERGM and other models provide opportunites for modelling data rather than modelling what data isn't."
   ]
  },
  {
   "cell_type": "code",
   "execution_count": null,
   "id": "7e6eaa34",
   "metadata": {},
   "outputs": [],
   "source": []
  }
 ],
 "metadata": {
  "kernelspec": {
   "display_name": "R",
   "language": "R",
   "name": "ir"
  },
  "language_info": {
   "codemirror_mode": "r",
   "file_extension": ".r",
   "mimetype": "text/x-r-source",
   "name": "R",
   "pygments_lexer": "r",
   "version": "4.1.0"
  }
 },
 "nbformat": 4,
 "nbformat_minor": 5
}
