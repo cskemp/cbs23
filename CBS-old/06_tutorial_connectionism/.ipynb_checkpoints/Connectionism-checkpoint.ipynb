{
 "cells": [
  {
   "cell_type": "markdown",
   "id": "092a4327",
   "metadata": {},
   "source": [
    "# CBS Week 6 Tutorial: Connectionism"
   ]
  },
  {
   "cell_type": "code",
   "execution_count": 1,
   "id": "e832e35a",
   "metadata": {
    "deletable": false,
    "editable": false,
    "nbgrader": {
     "cell_type": "code",
     "checksum": "b66cf708940d442318e7c07da6077c69",
     "grade": false,
     "grade_id": "cell-5fe1685deffbe508",
     "locked": true,
     "schema_version": 3,
     "solution": false,
     "task": false
    }
   },
   "outputs": [],
   "source": [
    "\n",
    "library(neuralnet)\n",
    "library(testthat)\n",
    "options(warn=-1)"
   ]
  },
  {
   "cell_type": "markdown",
   "id": "b717911d",
   "metadata": {
    "deletable": false,
    "editable": false,
    "nbgrader": {
     "cell_type": "markdown",
     "checksum": "1e10d54696a9b1c8c6b0371f187980a1",
     "grade": false,
     "grade_id": "cell-0696b648ccff7bec",
     "locked": true,
     "schema_version": 3,
     "solution": false,
     "task": false
    }
   },
   "source": [
    "# Artifical Neural Networks\n",
    "\n",
    "ANNs use simple processing units. Each unit sums its weighted inputs (including the threshold, T):  \n",
    "\n",
    "$net = \\sum_{i} x_i w_i- T$\n",
    "\n",
    "and then applies an activation function to determine its output:\n",
    "\n",
    "$f(net)= \n",
    "  \\begin{cases}\n",
    "    1,    & \\text{if } net \\gt 0\\\\\n",
    "    0,    & \\text{otherwise}\n",
    "  \\end{cases}$\n",
    "\n",
    "$output = f(net)$\n",
    "\n",
    "In this case, we have applied a simple threshold activation function but there are many different kinds of functions that have been used. We will introduce another one, called the logistic function, later when we discuss traning networks.\n",
    "\n",
    "While the processing happening at any unit is quite simple, complex behaviours can emerge when these units are connected into networks.\n",
    "\n",
    "In this tutorial, we will start by writing code to implement the artifical neural networks (ANNs) that we discussed in class. "
   ]
  },
  {
   "attachments": {
    "ORnetwork-2.PNG": {
     "image/png": "[encoded data removed]"
    }
   },
   "cell_type": "markdown",
   "id": "cc2cdb31",
   "metadata": {
    "deletable": false,
    "editable": false,
    "nbgrader": {
     "cell_type": "markdown",
     "checksum": "3cd7ebdfdafd51a4b7e9cc5aa287b0e0",
     "grade": false,
     "grade_id": "cell-510c2226d980c35d",
     "locked": true,
     "schema_version": 3,
     "solution": false,
     "task": false
    }
   },
   "source": [
    "## Exercise 1\n",
    "\n",
    "Below is the network that we saw in class that implements a logical OR function. The output is 1 if either of the input units are 1. \n",
    "\n",
    "![ORnetwork-2.PNG](attachment:ORnetwork-2.PNG)\n",
    "\n",
    "The code below implements this network. Try running the code with the inputs (x1 and x2) set to all four possibilities. That is:\n",
    "\n",
    "* x1 = 0, x2 = 0\n",
    "* x1 = 0, x2 = 1\n",
    "* x1 = 1, x2 = 0\n",
    "* x1 = 1, x2 = 1\n"
   ]
  },
  {
   "cell_type": "code",
   "execution_count": 2,
   "id": "00b83a1f",
   "metadata": {},
   "outputs": [
    {
     "data": {
      "text/html": [
       "1"
      ],
      "text/latex": [
       "1"
      ],
      "text/markdown": [
       "1"
      ],
      "text/plain": [
       "[1] 1"
      ]
     },
     "metadata": {},
     "output_type": "display_data"
    }
   ],
   "source": [
    "x1 = 0\n",
    "x2 = 1\n",
    "w1 = 1\n",
    "w2 = 1\n",
    "T = 0.5\n",
    "net = x1 * w1 + x2 * w2 - T\n",
    "ifelse (net > 0, 1, 0)\n",
    "    "
   ]
  },
  {
   "cell_type": "markdown",
   "id": "68406124",
   "metadata": {
    "deletable": false,
    "editable": false,
    "nbgrader": {
     "cell_type": "markdown",
     "checksum": "bf8da0b93ff0f189580fe42ab7b64cae",
     "grade": false,
     "grade_id": "cell-2baf47b2f9dae970",
     "locked": true,
     "schema_version": 3,
     "solution": false,
     "task": false
    }
   },
   "source": [
    "Do the outputs come out as you expect?\n",
    "\n",
    "Notice the way the ifelse function is used to calculate the output. The function takes three parameters. The first one is an expression that can be either true or false (a boolean expression). The second parameter is the value to return if the expression is true and the third parameter is the value to return if the expression is false.\n",
    "\n",
    "Now lets put the code to implement the neural network into a function, so we can use it in other cells:"
   ]
  },
  {
   "cell_type": "code",
   "execution_count": 4,
   "id": "3233643c",
   "metadata": {
    "deletable": false,
    "editable": false,
    "nbgrader": {
     "cell_type": "code",
     "checksum": "ad1cf69947f760499c51334119098320",
     "grade": false,
     "grade_id": "cell-93ca0a3502bb4d6b",
     "locked": true,
     "schema_version": 3,
     "solution": false,
     "task": false
    }
   },
   "outputs": [],
   "source": [
    "ournet = function(x1, x2){\n",
    "    net = x1 * w1 + x2 * w2 - T\n",
    "    ifelse(net > 0, 1, 0)\n",
    "}"
   ]
  },
  {
   "cell_type": "markdown",
   "id": "a4ba5853",
   "metadata": {
    "deletable": false,
    "editable": false,
    "nbgrader": {
     "cell_type": "markdown",
     "checksum": "22dca2ed649116f86c3e4db3b14b5b88",
     "grade": false,
     "grade_id": "cell-ce4327218f7a106e",
     "locked": true,
     "schema_version": 3,
     "solution": false,
     "task": false
    }
   },
   "source": [
    "It is laborious to change each of the inputs by hand, so lets collect these into a dataframe and \n",
    "define a function, test, that uses a for loop to cycle through them all:"
   ]
  },
  {
   "cell_type": "code",
   "execution_count": 5,
   "id": "43768495",
   "metadata": {
    "deletable": false,
    "editable": false,
    "nbgrader": {
     "cell_type": "code",
     "checksum": "e4934ee4cb59b680dbf5a0fec81cb042",
     "grade": false,
     "grade_id": "cell-d313490dfa145578",
     "locked": true,
     "schema_version": 3,
     "solution": false,
     "task": false
    }
   },
   "outputs": [
    {
     "data": {
      "text/html": [
       "<table class=\"dataframe\">\n",
       "<caption>A data.frame: 4 × 3</caption>\n",
       "<thead>\n",
       "\t<tr><th scope=col>x1</th><th scope=col>x2</th><th scope=col>output</th></tr>\n",
       "\t<tr><th scope=col>&lt;dbl&gt;</th><th scope=col>&lt;dbl&gt;</th><th scope=col>&lt;dbl&gt;</th></tr>\n",
       "</thead>\n",
       "<tbody>\n",
       "\t<tr><td>0</td><td>0</td><td>0</td></tr>\n",
       "\t<tr><td>0</td><td>1</td><td>1</td></tr>\n",
       "\t<tr><td>1</td><td>0</td><td>1</td></tr>\n",
       "\t<tr><td>1</td><td>1</td><td>1</td></tr>\n",
       "</tbody>\n",
       "</table>\n"
      ],
      "text/latex": [
       "A data.frame: 4 × 3\n",
       "\\begin{tabular}{lll}\n",
       " x1 & x2 & output\\\\\n",
       " <dbl> & <dbl> & <dbl>\\\\\n",
       "\\hline\n",
       "\t 0 & 0 & 0\\\\\n",
       "\t 0 & 1 & 1\\\\\n",
       "\t 1 & 0 & 1\\\\\n",
       "\t 1 & 1 & 1\\\\\n",
       "\\end{tabular}\n"
      ],
      "text/markdown": [
       "\n",
       "A data.frame: 4 × 3\n",
       "\n",
       "| x1 &lt;dbl&gt; | x2 &lt;dbl&gt; | output &lt;dbl&gt; |\n",
       "|---|---|---|\n",
       "| 0 | 0 | 0 |\n",
       "| 0 | 1 | 1 |\n",
       "| 1 | 0 | 1 |\n",
       "| 1 | 1 | 1 |\n",
       "\n"
      ],
      "text/plain": [
       "  x1 x2 output\n",
       "1 0  0  0     \n",
       "2 0  1  1     \n",
       "3 1  0  1     \n",
       "4 1  1  1     "
      ]
     },
     "metadata": {},
     "output_type": "display_data"
    }
   ],
   "source": [
    "xs = data.frame(\"x1\"=c(0,0,1,1), \"x2\"=c(0, 1, 0, 1))\n",
    "\n",
    "test = function(xs){\n",
    "    outputs = c()\n",
    "    for (i in 1:4){\n",
    "        output = ournet(xs$x1[i], xs$x2[i])\n",
    "        outputs = c(outputs, output)\n",
    "    }\n",
    "    data.frame(\"x1\"=xs$x1, \"x2\"=xs$x2, \"output\"=outputs)\n",
    "}\n",
    "\n",
    "test(xs)"
   ]
  },
  {
   "cell_type": "markdown",
   "id": "0fef956f",
   "metadata": {
    "deletable": false,
    "editable": false,
    "nbgrader": {
     "cell_type": "markdown",
     "checksum": "769c8c70ae6b5e1e6d3a34f399632454",
     "grade": false,
     "grade_id": "cell-89e1bd639d5c654f",
     "locked": true,
     "schema_version": 3,
     "solution": false,
     "task": false
    }
   },
   "source": [
    "## Exercise 2\n",
    "\n",
    "Change the weights and/or the threshold to alter the function the unit is computing to a logical AND. \n",
    "\n",
    "| x1 | x2 | output |\n",
    "| --- | --- | --- |\n",
    "| 0 | 0 | 0 |\n",
    "| 0 | 1 | 1 |\n",
    "| 1 | 0 | 1 |\n",
    "| 1 | 1 | 1 |\n",
    "\n",
    "Run test(xs) again to see if it works."
   ]
  },
  {
   "cell_type": "code",
   "execution_count": 11,
   "id": "efbd868b",
   "metadata": {
    "deletable": false,
    "nbgrader": {
     "cell_type": "code",
     "checksum": "79d437bd1a3c50407cc2eb341006803b",
     "grade": false,
     "grade_id": "cell-e1e8fd75294ffa00",
     "locked": false,
     "schema_version": 3,
     "solution": true,
     "task": false
    }
   },
   "outputs": [],
   "source": [
    "# YOUR CODE HERE\n",
    "T = 1.5"
   ]
  },
  {
   "cell_type": "code",
   "execution_count": 12,
   "id": "40e762c9",
   "metadata": {
    "deletable": false,
    "editable": false,
    "nbgrader": {
     "cell_type": "code",
     "checksum": "a25e0f5ca0a843c2a89f2cb987f46802",
     "grade": true,
     "grade_id": "cell-98a645702e71eb06",
     "locked": true,
     "points": 1,
     "schema_version": 3,
     "solution": false,
     "task": false
    }
   },
   "outputs": [],
   "source": [
    "result = test(xs)\n",
    "expect_equal(result$output[1], 0)\n",
    "expect_equal(result$output[2], 0)\n",
    "expect_equal(result$output[3], 0)\n",
    "expect_equal(result$output[4], 1)"
   ]
  },
  {
   "cell_type": "markdown",
   "id": "e742a060",
   "metadata": {
    "deletable": false,
    "editable": false,
    "nbgrader": {
     "cell_type": "markdown",
     "checksum": "0e5d02b848ab41f1566cdb7d2297776d",
     "grade": false,
     "grade_id": "cell-186b8f5f4be9e7de",
     "locked": true,
     "schema_version": 3,
     "solution": false,
     "task": false
    }
   },
   "source": [
    "## Exercise 3\n",
    "\n",
    "Now rewrite the ournet function to implement the XOR function:\n",
    "\n",
    "| x1 | x2 | output |\n",
    "| --- | --- | --- |\n",
    "| 0 | 0 | 0 |\n",
    "| 0 | 1 | 1 |\n",
    "| 1 | 0 | 1 |\n",
    "| 1 | 1 | 0 |\n",
    "\n",
    "Remember that the XOR function requires a two layer network as we demonstrated in the lecture. Again, check that it is doing what it should by running test(xs). \n"
   ]
  },
  {
   "cell_type": "code",
   "execution_count": null,
   "id": "728b9174",
   "metadata": {
    "deletable": false,
    "nbgrader": {
     "cell_type": "code",
     "checksum": "ffc14034c437f27ccf5fd0d9db402247",
     "grade": false,
     "grade_id": "cell-537bb5b64447d162",
     "locked": false,
     "schema_version": 3,
     "solution": true,
     "task": false
    }
   },
   "outputs": [],
   "source": [
    "# YOUR CODE HERE\n",
    "stop('No Answer Given!')"
   ]
  },
  {
   "cell_type": "code",
   "execution_count": null,
   "id": "25bed831",
   "metadata": {
    "deletable": false,
    "editable": false,
    "nbgrader": {
     "cell_type": "code",
     "checksum": "54da110a6735aba196667970f80604ef",
     "grade": true,
     "grade_id": "cell-8f55b86b7fd73820",
     "locked": true,
     "points": 1,
     "schema_version": 3,
     "solution": false,
     "task": false
    }
   },
   "outputs": [],
   "source": [
    "result = test(xs)\n",
    "expect_equal(result$output[1], 0)\n",
    "expect_equal(result$output[2], 1)\n",
    "expect_equal(result$output[3], 1)\n",
    "expect_equal(result$output[4], 0)"
   ]
  },
  {
   "cell_type": "markdown",
   "id": "7377e95c",
   "metadata": {
    "deletable": false,
    "editable": false,
    "nbgrader": {
     "cell_type": "markdown",
     "checksum": "e21b554cfae20d83a1489d49122abb3a",
     "grade": false,
     "grade_id": "cell-0d9d3b49bbca9ea0",
     "locked": true,
     "schema_version": 3,
     "solution": false,
     "task": false
    }
   },
   "source": [
    "# Learning in Artifical Neural Networks\n",
    "\n",
    "\n",
    "The neural networks that are used to solve real world problems sometimes have billions of weights and operate on terrabytes of data. Searching for weights by hand is infeasible - hence the need for learning algorithms like backpropagation. In the remaining exercises, we will use the neuralnet package to train networks. \n",
    "\n",
    "We will start by training the simple networks we have already been investigating and then will consider a more complicated example in which we will train a network to recognise digits.\n",
    "\n",
    "To train a network, we first need to set up a dataframe with both the inputs and the desired outputs. Below df contains the input patterns and the teacher for the AND function. "
   ]
  },
  {
   "cell_type": "code",
   "execution_count": 13,
   "id": "83494603",
   "metadata": {
    "deletable": false,
    "editable": false,
    "nbgrader": {
     "cell_type": "code",
     "checksum": "19e0bfc0ec45e5c42533d023c915d6de",
     "grade": false,
     "grade_id": "cell-f5800b64f3ceab3e",
     "locked": true,
     "schema_version": 3,
     "solution": false,
     "task": false
    }
   },
   "outputs": [
    {
     "data": {
      "text/html": [
       "<table class=\"dataframe\">\n",
       "<caption>A data.frame: 4 × 3</caption>\n",
       "<thead>\n",
       "\t<tr><th scope=col>x1</th><th scope=col>x2</th><th scope=col>teach</th></tr>\n",
       "\t<tr><th scope=col>&lt;dbl&gt;</th><th scope=col>&lt;dbl&gt;</th><th scope=col>&lt;dbl&gt;</th></tr>\n",
       "</thead>\n",
       "<tbody>\n",
       "\t<tr><td>0</td><td>0</td><td>0</td></tr>\n",
       "\t<tr><td>0</td><td>1</td><td>0</td></tr>\n",
       "\t<tr><td>1</td><td>0</td><td>0</td></tr>\n",
       "\t<tr><td>1</td><td>1</td><td>1</td></tr>\n",
       "</tbody>\n",
       "</table>\n"
      ],
      "text/latex": [
       "A data.frame: 4 × 3\n",
       "\\begin{tabular}{lll}\n",
       " x1 & x2 & teach\\\\\n",
       " <dbl> & <dbl> & <dbl>\\\\\n",
       "\\hline\n",
       "\t 0 & 0 & 0\\\\\n",
       "\t 0 & 1 & 0\\\\\n",
       "\t 1 & 0 & 0\\\\\n",
       "\t 1 & 1 & 1\\\\\n",
       "\\end{tabular}\n"
      ],
      "text/markdown": [
       "\n",
       "A data.frame: 4 × 3\n",
       "\n",
       "| x1 &lt;dbl&gt; | x2 &lt;dbl&gt; | teach &lt;dbl&gt; |\n",
       "|---|---|---|\n",
       "| 0 | 0 | 0 |\n",
       "| 0 | 1 | 0 |\n",
       "| 1 | 0 | 0 |\n",
       "| 1 | 1 | 1 |\n",
       "\n"
      ],
      "text/plain": [
       "  x1 x2 teach\n",
       "1 0  0  0    \n",
       "2 0  1  0    \n",
       "3 1  0  0    \n",
       "4 1  1  1    "
      ]
     },
     "metadata": {},
     "output_type": "display_data"
    }
   ],
   "source": [
    "df = data.frame(\"x1\"=c(0,0,1,1), \"x2\"=c(0, 1, 0, 1), \"teach\"=c(0, 0, 0, 1))\n",
    "df"
   ]
  },
  {
   "attachments": {
    "logistic.png": {
     "image/png": "[encoded data removed]"
    }
   },
   "cell_type": "markdown",
   "id": "0eb681ec",
   "metadata": {
    "deletable": false,
    "editable": false,
    "nbgrader": {
     "cell_type": "markdown",
     "checksum": "5425915042c76192754587f85052154e",
     "grade": false,
     "grade_id": "cell-f15c44912c4a8c3c",
     "locked": true,
     "schema_version": 3,
     "solution": false,
     "task": false
    }
   },
   "source": [
    "Next we construct and train the ANN using the function neuralnet. \n",
    "\n",
    "__nn = neuralnet(teach~x1+x2, data=df, hidden=0, act.fct=\"logistic\", linear.output=FALSE)__\n",
    "\n",
    "Lets consider each of the parameters in turn:\n",
    "\n",
    "__teach~x1+x2__ is a formula indicating that the neural network should try to predict the values in the column __teach__ using the values in __x1__ and __x2__.\n",
    "\n",
    "__data=df__ indicates that the inputs and the teacher values are in the dataframe called df\n",
    "\n",
    "__hidden=0__ specifies how many hidden units to use. To begin with, we will train a single layer netowrk, so there will be no hidden units.\n",
    "\n",
    "__act.fct = \"logistic\"__ indicates that the network should use the logistic function rather than a threshold function as we have done previously (see below). \n",
    "\n",
    "__linear.output=FALSE__ indicates that we want to use the activation function we just specified when calculating outputs.\n",
    "\n",
    "The backpropagation algorithm works by defining an error function which is small when the network is producing outputs that are close to the teacher values. The most common error function is the sum of squared errors:\n",
    "\n",
    "$error = \\sum_{p} \\sum_{j} (teach_{pj} - output_{pj})^2$\n",
    "\n",
    "where $teach_{pj}$ is the jth teacher value in the pth pattern and $output_{pj}$ is the jth output value that the network currently produces for the pth pattern. Note that this function is smallest when the $t_{pj} = output_{pj}$ for all p and j.\n",
    "\n",
    "To train the network, we calculate the gradient of the error function with respect to each weight. By adjusting each weight in the opposite direction to the gradient, we can make the error smaller. We do this over and over until the error no longer decreases - that is we have made the outputs of the network as close to the required outputs as we can. \n",
    "\n",
    "The problem with using the threshold function is that the gradient is not defined at 0 and so the gradient of the weights with respect to the error signal cannot be calculated. Therefore, we use the logistic function, which is a smooth version of the threshold:\n",
    "\n",
    "![logistic.png](attachment:logistic.png)\n",
    "\n",
    "Go ahead and train the network."
   ]
  },
  {
   "cell_type": "code",
   "execution_count": 14,
   "id": "0a1daa8b",
   "metadata": {
    "deletable": false,
    "editable": false,
    "nbgrader": {
     "cell_type": "code",
     "checksum": "512865390688a99e310cf0067095ae2f",
     "grade": false,
     "grade_id": "cell-1562946bd434cba7",
     "locked": true,
     "schema_version": 3,
     "solution": false,
     "task": false
    }
   },
   "outputs": [
    {
     "data": {
      "image/png": "[encoded data removed]",
      "text/plain": [
       "plot without title"
      ]
     },
     "metadata": {
      "image/png": {
       "height": 420,
       "width": 420
      }
     },
     "output_type": "display_data"
    }
   ],
   "source": [
    "set.seed(6)\n",
    "nn = neuralnet(teach~x1+x2, data=df, hidden=0, act.fct=\"logistic\", linear.output=FALSE)\n",
    "plot(nn, rep=\"best\")"
   ]
  },
  {
   "cell_type": "markdown",
   "id": "482c87fd",
   "metadata": {
    "deletable": false,
    "editable": false,
    "nbgrader": {
     "cell_type": "markdown",
     "checksum": "ef89143fe531ec08271af07aa3a0cf66",
     "grade": false,
     "grade_id": "cell-3a2922934604871b",
     "locked": true,
     "schema_version": 3,
     "solution": false,
     "task": false
    }
   },
   "source": [
    "Rather than use a threshold as we have done before, the neuralnet package defines a new unit which is always on (see the blue unit and weight). In this way, the algorithm can avoid dealing with the threshold as a special case. It is just another weight to be updated. Note that because theunit is assumed to have a value of one the weight will typically be the negative of the threshold as we defined it previously.\n",
    "\n",
    "The Error shown at the bottom of the plot of the network is close to 0, so the network is doing a good job of matching the teacher values. In this case, the training algorithm took 64 iteration until the error stopped changing. \n",
    "\n",
    "Neural networks are typically initialized with random weights. That means that you can get different solutions each time you run the netowrk. With simple networks like these, sometimes those solutions won't solve the problem at all! The network is said to have fallen into a local minimum. As the backpropagation algorithm only ever goes down, it never recovers from this situation. Fortunately, when you have networks with many hidden units the problem rarely occurs. In the code above, we have set the random number seed to 6 - so the weights will be initialized to the same values ever time and you will get the same final solution. However, it you remove this line and run the network multiple times, you will see that sometimes it does not manage to make the error small.\n",
    "\n",
    "Now we test the network by supplying the input patterns and seeing what values it produces using the predict function."
   ]
  },
  {
   "cell_type": "code",
   "execution_count": 15,
   "id": "a95f9773",
   "metadata": {
    "deletable": false,
    "editable": false,
    "nbgrader": {
     "cell_type": "code",
     "checksum": "cd1e54d41f9d30247b5aef4746df19a8",
     "grade": false,
     "grade_id": "cell-15b4512b42511ba3",
     "locked": true,
     "schema_version": 3,
     "solution": false,
     "task": false
    }
   },
   "outputs": [
    {
     "data": {
      "text/html": [
       "<table class=\"dataframe\">\n",
       "<caption>A matrix: 4 × 1 of type dbl</caption>\n",
       "<tbody>\n",
       "\t<tr><td>0.00</td></tr>\n",
       "\t<tr><td>0.13</td></tr>\n",
       "\t<tr><td>0.13</td></tr>\n",
       "\t<tr><td>0.83</td></tr>\n",
       "</tbody>\n",
       "</table>\n"
      ],
      "text/latex": [
       "A matrix: 4 × 1 of type dbl\n",
       "\\begin{tabular}{l}\n",
       "\t 0.00\\\\\n",
       "\t 0.13\\\\\n",
       "\t 0.13\\\\\n",
       "\t 0.83\\\\\n",
       "\\end{tabular}\n"
      ],
      "text/markdown": [
       "\n",
       "A matrix: 4 × 1 of type dbl\n",
       "\n",
       "| 0.00 |\n",
       "| 0.13 |\n",
       "| 0.13 |\n",
       "| 0.83 |\n",
       "\n"
      ],
      "text/plain": [
       "     [,1]\n",
       "[1,] 0.00\n",
       "[2,] 0.13\n",
       "[3,] 0.13\n",
       "[4,] 0.83"
      ]
     },
     "metadata": {},
     "output_type": "display_data"
    }
   ],
   "source": [
    "test = data.frame(\"x1\"=c(0,0,1,1), \"x2\"=c(0,1,0,1))\n",
    "pred = predict(nn, test)\n",
    "round(pred, 2)"
   ]
  },
  {
   "cell_type": "markdown",
   "id": "319f2841",
   "metadata": {
    "deletable": false,
    "editable": false,
    "nbgrader": {
     "cell_type": "markdown",
     "checksum": "95821a8774c1c546ca6615b02924c636",
     "grade": false,
     "grade_id": "cell-408d457cc2890871",
     "locked": true,
     "schema_version": 3,
     "solution": false,
     "task": false
    }
   },
   "source": [
    "You can see the output values are not perfectly equal to the teacher values, but they are close."
   ]
  },
  {
   "cell_type": "markdown",
   "id": "748a661e",
   "metadata": {
    "deletable": false,
    "editable": false,
    "nbgrader": {
     "cell_type": "markdown",
     "checksum": "3fe77f2c4ac090582050bb41fe58b982",
     "grade": false,
     "grade_id": "cell-a19822da08fbea98",
     "locked": true,
     "schema_version": 3,
     "solution": false,
     "task": false
    }
   },
   "source": [
    "## Exercise 4\n",
    "\n",
    "Lets convince ourselves that there really is no two layer network that can do the XOR problem. Create a dataframe for the XOR problem and then try training a neural network that has no hidden units to do it. Use the seed 6 and leave the results in the variable pred, so we can automatically test if you have produced the right solution."
   ]
  },
  {
   "cell_type": "code",
   "execution_count": null,
   "id": "1fb7b91d",
   "metadata": {
    "deletable": false,
    "nbgrader": {
     "cell_type": "code",
     "checksum": "c652976c3fe91838276aa5c7adc3d119",
     "grade": false,
     "grade_id": "cell-a8bcd9e5323ea3dc",
     "locked": false,
     "schema_version": 3,
     "solution": true,
     "task": false
    }
   },
   "outputs": [],
   "source": [
    "# YOUR CODE HERE\n",
    "stop('No Answer Given!')"
   ]
  },
  {
   "cell_type": "code",
   "execution_count": null,
   "id": "0a929677",
   "metadata": {
    "deletable": false,
    "editable": false,
    "nbgrader": {
     "cell_type": "code",
     "checksum": "34cde57b825aa08da61a8fd66339ac2d",
     "grade": true,
     "grade_id": "cell-de3a095be721d343",
     "locked": true,
     "points": 1,
     "schema_version": 3,
     "solution": false,
     "task": false
    }
   },
   "outputs": [],
   "source": [
    "expect_equal(pred[1], 0.51, tolerance=0.01)\n",
    "expect_equal(pred[2], 0.50, tolerance=0.01)\n",
    "expect_equal(pred[3], 0.50, tolerance=0.01)\n",
    "expect_equal(pred[4], 0.49, tolerance=0.01)"
   ]
  },
  {
   "cell_type": "markdown",
   "id": "3b0cb2be",
   "metadata": {
    "deletable": false,
    "editable": false,
    "nbgrader": {
     "cell_type": "markdown",
     "checksum": "82ebffeb9fb5304ca0f1dd8da7bca78e",
     "grade": false,
     "grade_id": "cell-b3254572cdfaed79",
     "locked": true,
     "schema_version": 3,
     "solution": false,
     "task": false
    }
   },
   "source": [
    "## Exercise 5\n",
    "\n",
    "Now add three hidden units and see how it goes. (Hint: Using a seed of 5 will be helpful)."
   ]
  },
  {
   "cell_type": "code",
   "execution_count": null,
   "id": "9987d87b",
   "metadata": {
    "deletable": false,
    "nbgrader": {
     "cell_type": "code",
     "checksum": "2081b522f29b699f62fa14f5177f4421",
     "grade": false,
     "grade_id": "cell-9ceb9488ab7e4ceb",
     "locked": false,
     "schema_version": 3,
     "solution": true,
     "task": false
    }
   },
   "outputs": [],
   "source": [
    "# YOUR CODE HERE\n",
    "stop('No Answer Given!')"
   ]
  },
  {
   "cell_type": "code",
   "execution_count": null,
   "id": "b66bd3f2",
   "metadata": {
    "deletable": false,
    "editable": false,
    "nbgrader": {
     "cell_type": "code",
     "checksum": "da9ab1c3253d60fffa31ec62eb581afe",
     "grade": true,
     "grade_id": "cell-a5a6d5c1d28a9592",
     "locked": true,
     "points": 1,
     "schema_version": 3,
     "solution": false,
     "task": false
    }
   },
   "outputs": [],
   "source": [
    "expect_equal(pred[1], 0.04, tolerance=0.01)\n",
    "expect_equal(pred[2], 0.85, tolerance=0.01)\n",
    "expect_equal(pred[3], 0.92, tolerance=0.01)\n",
    "expect_equal(pred[4], 0.12, tolerance=0.01)"
   ]
  },
  {
   "cell_type": "markdown",
   "id": "baffc5b8",
   "metadata": {},
   "source": [
    "In this tutorial, you saw how to convert the netowrks that we discussed into code and how to use the neuralnet package in R to train your own networks. In the connectionism assignment you will get to train a larger network that recognitizes digits using the same package.  "
   ]
  }
 ],
 "metadata": {
  "kernelspec": {
   "display_name": "R",
   "language": "R",
   "name": "ir"
  },
  "language_info": {
   "codemirror_mode": "r",
   "file_extension": ".r",
   "mimetype": "text/x-r-source",
   "name": "R",
   "pygments_lexer": "r",
   "version": "4.1.0"
  }
 },
 "nbformat": 4,
 "nbformat_minor": 5
}
