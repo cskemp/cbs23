{
 "cells": [
  {
   "cell_type": "code",
   "execution_count": 1,
   "id": "4d39149b",
   "metadata": {},
   "outputs": [],
   "source": [
    "suppressPackageStartupMessages({\n",
    "    library(sna)\n",
    "    library(testthat)\n",
    "    library(network)\n",
    "    library(ergm)\n",
    "})"
   ]
  },
  {
   "cell_type": "markdown",
   "id": "31e91c72",
   "metadata": {
    "deletable": false,
    "editable": false,
    "nbgrader": {
     "cell_type": "markdown",
     "checksum": "b23e97f7e24da3a0962617265ed590b1",
     "grade": false,
     "grade_id": "cell-3675c47c6436fa3b",
     "locked": true,
     "schema_version": 3,
     "solution": false,
     "task": false
    }
   },
   "source": [
    "# Overview\n",
    "\n",
    "This tutorial has two main parts\n",
    "\n",
    "* Modelling diffusion/contagion from time-stamped data, and\n",
    "* Modelling social influence in cross-sectional data\n",
    "\n",
    "# Diffusion and contagion\n",
    "We are considering spread on a static network, spread of the kind that once you are 'infected' you stay infected, whether this be by an idea or a disease.\n",
    "\n",
    "## Small worlds\n",
    "Think of stylised network where everyone has the same degree but where there are not redundant ties that create cycles. In such a network, a person can reach an additional $d^k$ unique others at each step, as in the left-hand panel. Should some ties be re-wired to close open triads, the number of nodes the focal actor can reach is reduced significantly as in the right-hand panel.\n",
    "\n",
    "![Reach in random network and reach in clustered network.](growth.png)\n",
    "\n",
    "What implications does this have for diffusion on networks where we have clustering as opposed to random Bernoulli networks?\n",
    "\n",
    "## Web resources\n",
    "Some realy good tutorials on <https://kateto.net/network-visualization> and, also, a nice online simulator for ERGM at <https://michaellevy.shinyapps.io/gwdegree/>.\n",
    "\n",
    "## Basic setup\n",
    "We are going to assume that there is a static network, $X$, and that, in continuous time, nodes in the network may become 'infected' by their neighbours. We model the state of all of the nodes by a binary vector $Y$, where at time $t$, $Y(t)$ is \n",
    "* equal to 1, if the nodes has adopted the innovation/become infected, and\n",
    "* equal to 0 otherwise\n",
    "\n",
    "## Time to adoption\n",
    "What we want to model is the *time until adoption*, the time, given the state of the system, at which point a node $i$ goes from $Y_i(t)=0$ to $Y(t+\\delta)=1$. A basic component in this is the *rate of change* - if someone has a higher rate of change, they are likely to change more quickly that if they have a low rate of change.\n",
    "\n",
    "We are now going to look at different ways in which we can let the rate of a person $i$ changing be dependent on the adoption status of $i$'s neighbours.\n",
    "\n",
    "# Define functions\n",
    "\n",
    "Greenan (2015) provides a review of different diffusion models in the survival-analysis framework.\n",
    "\n",
    "Define the survival model time-till-infected. We assume that the time $t$ until you get infected, given that you are suceptible, is exponential with rate\n",
    "$$\n",
    "\\lambda_i(Y(t_0),X(t_0)) = \\exp\\left\\{ \\alpha +\\beta a_i( x(t_0),y(t_0) ) \\right\\}\n",
    "$$\n",
    "In the sequel we drop the notational dependence on time and write $a_i(y(t),x(t))= a_i(y,x) $. \n",
    "\n",
    "### Non-network influence\n",
    "Myers (2000)  proposed the rate be modelled as\n",
    "$$\n",
    "a_i(y,x) = \\sum_jy_js_j(x)\n",
    "$$\n",
    "where $s_j(x)$ is the importance of $j$, a function that may be network dependent. This could for example be centrality, as in  Strang and Tuma (1993). Transmission or diffusion does not take place on the edges of the graph here.\n",
    "\n",
    "### Diffusion on network ties\n",
    "A general formulation could be\n",
    "$$\n",
    "a_i(y,x) = \\sum_jy_j x_{ij} s_j(x)\n",
    "$$\n",
    "where only actors that $i$ has a tie to affect the rate but different actors $j$ may be unequal in their importance as measured by $s_j(x)$\n",
    "\n",
    "Based on Valente (2005), Greenan (2015) defines **average exposure** as\n",
    "$$\n",
    "a_i(y,x) = \\frac{\\sum_j y_j x_{ij}}{\\max\\{ \\sum_j x_{ij},1 \\}}\n",
    "$$\n",
    "\n",
    "so that the higher proportion of contacts that have adopted, the higher the risk of $i$ adopting. Note that the risks/rates with be identical for a person with one alter that has adopted as for a person with $k$ alters, all of whom have adopted.\n",
    "\n",
    "In order to allow for the number of adopters you have ties to to affect the rate,Greenan (2015)  also define **total exposure**\n",
    "$$\n",
    "a_i(y,x) = \\sum_j y_j x_{ij}\n",
    "$$\n",
    "\n",
    "Myers (2000) and Strang and Tuma (1993) introduce the idea of accounting for the actors *susceptibility* or  *responsiveness*, $p_i(x)$. This can be interacted with any of the exposure and influence effects, for example with total exposure\n",
    "$$\n",
    "a_i(y,x) = p_i(x)\\sum_j y_j x_{ij}\n",
    "$$\n",
    "\n",
    "## Time-to-adoption\n",
    "\n",
    "The time $T_i$ (from $t_0$) until $i$ gets infected is the exponentially distributed $T_i \\thicksim Exp(\\lambda_i(Y(t_0),X(t_0)) )$, which implies that the probability that $i$ is the next one to become infected is\n",
    "$$\n",
    "\\frac{\\lambda_i(Y(t_0),X(t_0))}{\\sum_{j \\in V: Y(t_0)=0} \\lambda_i(Y(t_0),X(t_0))}\n",
    "$$\n",
    "\n",
    "By the properties of the exponential distribution, we also have that\n",
    "$$\n",
    "T_{min}=\\min \\{T_1, \\ldots , T_n \\} \\thicksim Exp \\left( \\sum_{ j \\in V: Y(t_0)=0 } \\lambda_i(Y(t_0),X(t_0) ) \\right)\n",
    "$$\n",
    "\n",
    "\n",
    "These models are *piece-wise constant* or *proportional hazard* models - the rate of change, or eagerness to adopt, only is altered when the system changes.\n",
    "\n",
    "## Diffusion function\n",
    "We will write a function calculates the rate\n"
   ]
  },
  {
   "cell_type": "code",
   "execution_count": null,
   "id": "df714183",
   "metadata": {},
   "outputs": [],
   "source": [
    "survival.time <- function(Y,X,i,beta,alpha,type.exposure='total',contact = 'free')\n",
    "{\n",
    "rate <- NA\n",
    "  # if infected/recovered\n",
    "  if (Y[i]==1){\n",
    "  rate <- NA# i.e. do nothing - we assume that infected/adopters can change\n",
    "     # i.e. not susceptible\n",
    "  }\n",
    "  # if susceptible\n",
    "  if (Y[i]==0){\n",
    "    degi <- sum(X[i,])# what is the degree of i?\n",
    "    exposure <- 0\n",
    "    if (type.exposure=='total'){\n",
    "      exposure <- sum(Y[X[i,]==1]) # the total number of infected neighours\n",
    "    \n",
    "    }\n",
    "    if (type.exposure=='ave'){\n",
    "      \n",
    "      if (degi>0)# we can only calculate this if i has one or more neighbours\n",
    "      {\n",
    "        exposure <- sum(Y[X[i,]==1])/degi # the average number of infected neighbours\n",
    "      }\n",
    "   \n",
    "    }\n",
    "  if (contact == 'strict' & exposure >0 )  # can only become effected by someone\n",
    "  {\n",
    "     rate <- exp(alpha+beta*exposure  )\n",
    "  }\n",
    "    if (contact == 'free' )  # can pick up infection out of thin air\n",
    "  {\n",
    "     rate <- exp(alpha+beta*exposure  )\n",
    "  }\n",
    "    \n",
    "  }\n",
    "  rate\n",
    "}"
   ]
  },
  {
   "cell_type": "markdown",
   "id": "e55b78f9",
   "metadata": {
    "deletable": false,
    "editable": false,
    "nbgrader": {
     "cell_type": "markdown",
     "checksum": "86be810a18ad39582df411400eb9d280",
     "grade": false,
     "grade_id": "cell-254c8a42bb33450e",
     "locked": true,
     "schema_version": 3,
     "solution": false,
     "task": false
    }
   },
   "source": [
    "And define a function that updates the rate parameters for all nodes"
   ]
  },
  {
   "cell_type": "code",
   "execution_count": null,
   "id": "1aeca90f",
   "metadata": {},
   "outputs": [],
   "source": [
    "increment.time <- function(Y,X,beta,alpha)\n",
    "{\n",
    "  n <- length(Y)\n",
    "  all.rates <- c()\n",
    "  for (i in c(1:n))\n",
    "  {\n",
    "  all.rates[i] <- survival.time( Y,X,i,beta,alpha )\n",
    "  }\n",
    "  all.rates\n",
    "}"
   ]
  },
  {
   "cell_type": "markdown",
   "id": "48075509",
   "metadata": {
    "deletable": false,
    "editable": false,
    "nbgrader": {
     "cell_type": "markdown",
     "checksum": "b3f9026264e53495eee1f620d90865ef",
     "grade": false,
     "grade_id": "cell-1990cff21cfabf7f",
     "locked": true,
     "schema_version": 3,
     "solution": false,
     "task": false
    }
   },
   "source": [
    "## Define the type of contact graphs we like\n",
    "\n",
    "Let us fix the population size and the expected density "
   ]
  },
  {
   "cell_type": "code",
   "execution_count": null,
   "id": "6915e29f",
   "metadata": {},
   "outputs": [],
   "source": [
    "n <- 200 # population size\n",
    "tie.prob <- 0.01 # density\n",
    "star.coef <- .5 # a parameter for two-star in an ERGM\n",
    "star.coef.3 <- -.05 # a paramter for threee-stars in an ERGM\n",
    "coef.triangle <- 0.3 # a parameter for the triangle in an ERGM"
   ]
  },
  {
   "cell_type": "markdown",
   "id": "44401bd7",
   "metadata": {
    "deletable": false,
    "editable": false,
    "nbgrader": {
     "cell_type": "markdown",
     "checksum": "7afc14c209c9ae5b91eb6590fa046361",
     "grade": false,
     "grade_id": "cell-33485480b3ac6c04",
     "locked": true,
     "schema_version": 3,
     "solution": false,
     "task": false
    }
   },
   "source": [
    "so that we, whenever we draw a population graph, draw one Bernoulli graph and one ERGM with the same number of ties. For example\n"
   ]
  },
  {
   "cell_type": "code",
   "execution_count": null,
   "id": "2842cb65",
   "metadata": {},
   "outputs": [],
   "source": [
    "Xbern <- rgraph(n,tprob=tie.prob, mode='graph')\n",
    "Xergm <- as.matrix( simulate( as.network(Xbern,directed=FALSE)~ kstar(2:3)+triangle,\n",
    "                         coef=c(star.coef,star.coef.3,coef.triangle),\n",
    "                         constraints=~edges,# this is what does it degreedist is based on padgbus.net\n",
    "                         nsim=1,\n",
    "                         control=control.simulate(MCMC.burnin=100000) ) )  \n",
    "par(mfrow=c(1,2))\n",
    "gplot(Xbern, gmode='graph')\n",
    "gplot(Xergm, gmode='graph')"
   ]
  },
  {
   "cell_type": "markdown",
   "id": "5286a0dd",
   "metadata": {
    "deletable": false,
    "editable": false,
    "nbgrader": {
     "cell_type": "markdown",
     "checksum": "0842e01493cb7c384404df8dbaf55b47",
     "grade": false,
     "grade_id": "cell-8f77806efbc5a93a",
     "locked": true,
     "schema_version": 3,
     "solution": false,
     "task": false
    }
   },
   "source": [
    "Note, that while the two networks will have identical density, the proportion of closed triangles will be completely different\n"
   ]
  },
  {
   "cell_type": "code",
   "execution_count": null,
   "id": "1a247cc2",
   "metadata": {},
   "outputs": [],
   "source": [
    "gtrans(Xbern)\n",
    "gtrans(Xergm)\n"
   ]
  },
  {
   "cell_type": "markdown",
   "id": "bab8fa8e",
   "metadata": {
    "deletable": false,
    "editable": false,
    "nbgrader": {
     "cell_type": "markdown",
     "checksum": "2932fdd84aa24fd4ecb0de560dd99fda",
     "grade": false,
     "grade_id": "cell-c4f12b2c67480c38",
     "locked": true,
     "schema_version": 3,
     "solution": false,
     "task": false
    }
   },
   "source": [
    "The degree distributions are radically different but the while there are some big hubs in the ERGM there are also lots of isolates, in fact, the majority of nodes are isolates."
   ]
  },
  {
   "cell_type": "code",
   "execution_count": null,
   "id": "cea9c672",
   "metadata": {},
   "outputs": [],
   "source": [
    "deg.bern <- degree(Xbern, gmode='graph')\n",
    "deg.ergm <- degree(Xergm, gmode='graph')\n",
    "plot(table(deg.bern),type='l',ylim= range(table(deg.bern),table(deg.ergm) ), xlim=range(deg.bern,deg.ergm) )\n",
    "lines(table(deg.ergm),type='l', col='red')"
   ]
  },
  {
   "cell_type": "markdown",
   "id": "5ffb7113",
   "metadata": {
    "deletable": false,
    "editable": false,
    "nbgrader": {
     "cell_type": "markdown",
     "checksum": "a5ecf66dccd962323906f72b5dbdc204",
     "grade": false,
     "grade_id": "cell-74382ac222211eb4",
     "locked": true,
     "schema_version": 3,
     "solution": false,
     "task": false
    }
   },
   "source": [
    "The geodesic distances are generally *shorter* in the ERGM"
   ]
  },
  {
   "cell_type": "code",
   "execution_count": null,
   "id": "921c3de0",
   "metadata": {},
   "outputs": [],
   "source": [
    "bern.dist <- geodist( Xbern )$gdist # calculate the pair-wise distances between nodes in Bernoulli graph\n",
    "bern.dist <- bern.dist[upper.tri(bern.dist)]# use only the unique, unordered pairs\n",
    "not.reach.bern <- sum(!is.finite(bern.dist)) # what is the number of pairs that are unreachable?\n",
    "ergm.dist <- geodist( Xergm )$gdist # now, calcuate the same things for the ERG\n",
    "ergm.dist <- ergm.dist[upper.tri(ergm.dist)]\n",
    "not.reach.ergm <- sum(!is.finite(ergm.dist ))\n",
    "\n",
    "par( mfrow=c(1,2))\n",
    "plot(tabulate( bern.dist[is.finite(bern.dist)] ) , \n",
    "     ylim=range(tabulate( bern.dist[is.finite(bern.dist)] ), tabulate( ergm.dist[is.finite(ergm.dist)]  ) ),type='l' ) \n",
    "lines( tabulate( ergm.dist[is.finite(ergm.dist)]  ) ,col='red' )\n",
    "\n",
    "nonreach <- as.table( c(not.reach.bern,not.reach.ergm))\n",
    "names(nonreach ) <- c('Bernoulli','ERGM')\n",
    "plot(nonreach)"
   ]
  },
  {
   "cell_type": "markdown",
   "id": "bec4f4eb",
   "metadata": {
    "deletable": false,
    "editable": false,
    "nbgrader": {
     "cell_type": "markdown",
     "checksum": "1a2772e8aa66ba3ee814c910d96d0183",
     "grade": false,
     "grade_id": "cell-6fea27a239c3c2c8",
     "locked": true,
     "schema_version": 3,
     "solution": false,
     "task": false
    }
   },
   "source": [
    "But, this is only conditional on pairs of nodes that are connected and since the ERGM has a large number of isolates, the right-hand panel shows that about twice as many pairs in the ERGM relative to the random graph are not reachable.\n",
    "\n",
    "This brings into question what exactly we mean by *small world networks*. An excellent treatment of how ERGM can be used to model small-worldiness is provided by Robins et al. (2005).\n",
    "\n",
    "## The exposure term\n",
    "The rate at which you become infected if you have $d=1,2,3\\ldots$ neighbours and $k=1,2,\\ldots,k$ of them are infected relative to none of them being infected, for total exposure, and average exposure"
   ]
  },
  {
   "cell_type": "code",
   "execution_count": null,
   "id": "e1b851f4",
   "metadata": {},
   "outputs": [],
   "source": [
    "alpha <- -3\n",
    "beta <- 3\n",
    "d<- 1\n",
    "yrange <- c(0.5,exp(beta*9/9)/(1+exp(beta*9/9) ) )\n",
    "par(mfrow=c(1,2))\n",
    "plot( c(0:d),exp(alpha+beta*c(0:d)/d)/(exp(alpha)+exp(alpha+beta*c(0:d)/d)) ,\n",
    "      xlim=c(0,9) ,\n",
    "      ylim=yrange ,type='b',\n",
    "      xlab='number infected partners',ylab='odds for different average exposure')\n",
    "d<- 2\n",
    "lines( c(0:d),exp(alpha+beta*c(0:d)/d)/(exp(alpha)+exp(alpha+beta*c(0:d)/d)),col='red' )\n",
    "d<- 3\n",
    "lines( c(0:d),exp(alpha+beta*c(0:d)/d)/(exp(alpha)+exp(alpha+beta*c(0:d)/d)), col='blue' )\n",
    "d<- 9\n",
    "lines( c(0:d),exp(alpha+beta*c(0:d)/d)/(exp(alpha)+exp(alpha+beta*c(0:d)/d)) ,col='green')\n",
    "d<- 9\n",
    "yrange <- c(0.5,exp(beta*9)/(1+exp(beta*9) ))\n",
    "legend('bottomright',col=c('black','red','blue','green' ),\n",
    "       legend=c('d=1','d=2','d=3','d=9'), lty =c(1,1,1,1))\n",
    "\n",
    "plot( c(0:d),exp(alpha+beta*c(0:d))/(exp(alpha)+exp(alpha+beta*c(0:d))) ,xlim=c(0,9) ,ylim=yrange ,type='b',\n",
    "      xlab = 'number infected partners',ylab='odds assuming total exposure')\n"
   ]
  },
  {
   "cell_type": "markdown",
   "id": "071bba4c",
   "metadata": {
    "deletable": false,
    "editable": false,
    "nbgrader": {
     "cell_type": "markdown",
     "checksum": "598acf74a412f353d0c6e52c3f3b7097",
     "grade": false,
     "grade_id": "cell-ee6b431bfc657dae",
     "locked": true,
     "schema_version": 3,
     "solution": false,
     "task": false
    }
   },
   "source": [
    "This can be understood as comparing the probability of $i$ being the winner out of $i$ and $j$\n",
    "$$\n",
    "\\Pr(T_i <T_j) =\\frac{\\lambda_i}{\\lambda_i+\\lambda_j}\n",
    "$$\n",
    "\n",
    "\n",
    "In terms of waiting times, we can plot the times until effected under total exposure\n"
   ]
  },
  {
   "cell_type": "code",
   "execution_count": null,
   "id": "96e00666",
   "metadata": {},
   "outputs": [],
   "source": [
    "x.ax <- seq(0.021,100, length.out=1000)\n",
    "plot(x.ax , dexp(x.ax ,exp(alpha)),\n",
    "     type='l',xlab='t',ylab='f(t)',\n",
    "     ylim=range( dexp(x.ax ,exp(alpha)),\n",
    "                 dexp(x.ax , exp(alpha+beta*3) ) ) )\n",
    "lines( x.ax , dexp(x.ax ,exp(alpha+beta*1)),col='red')\n",
    "lines( x.ax , dexp(x.ax ,exp(alpha+beta*2)),col='green')\n",
    "lines( x.ax , dexp(x.ax ,exp(alpha+beta*3)),col='blue')\n",
    "legend('topright',col=c('black','red','green','blue' ),\n",
    "       legend=c('d=0','d=1','d=2','d=3'), lty =c(1,1,1,1))"
   ]
  },
  {
   "cell_type": "markdown",
   "id": "5c03120e",
   "metadata": {
    "deletable": false,
    "editable": false,
    "nbgrader": {
     "cell_type": "markdown",
     "checksum": "11a9559beea72a2a5302257e28a083fb",
     "grade": false,
     "grade_id": "cell-1ef676155676fb7f",
     "locked": true,
     "schema_version": 3,
     "solution": false,
     "task": false
    }
   },
   "source": [
    "## Simulate adoption\n",
    "Define a function that simulates the diffusion process/spread on $X$, with paramters $\\alpha$ and $\\beta$, for a given number of initial first movers"
   ]
  },
  {
   "cell_type": "code",
   "execution_count": null,
   "id": "6240d099",
   "metadata": {},
   "outputs": [],
   "source": [
    "get.epidemic <- function(X,alpha,beta,seed.size=10){\n",
    "n <- dim(X)[1]\n",
    "Y <- matrix(0, n,1)\n",
    "\n",
    "Y[sample(c(1:n) , size = seed.size )] <- 1 # random seeds\n",
    "Nsims <- n-seed.size# number left to infect\n",
    "time.axes <- matrix(0,Nsims,1)\n",
    "infection.status <- matrix(0,n,Nsims)\n",
    "infection.status[Y==1,1] <- 1\n",
    "\n",
    "t <- 0\n",
    "\n",
    "for (k in c(2:Nsims) ){\n",
    "all.rates <- increment.time(Y,X,beta,alpha)\n",
    "if (any(!is.na(all.rates) ) )# check if there is anyone left to infect\n",
    "{\n",
    "prob <- all.rates/sum(all.rates, na.rm=TRUE)# lambda_i/sum lambda_j\n",
    "prob[is.na(prob)] <- 0# if your rate is NA, that is because you have already adopted/gotten infected\n",
    "changeling <- sample(c(1:n),size=1 , prob = prob)# draw the node that is adopting (using probs lambda_i/sum lambda_j)\n",
    "Y[ changeling ] <- 1# set the infection status/innovation status of the changer\n",
    "infection.status[,k] <- Y# store current state\n",
    "big.rate <- sum( all.rates , na.rm = TRUE)# calculate the rate of the shortes t waiting time\n",
    "t <- t + rexp(1,rate=big.rate)# increment time with the shortest waiting time\n",
    "time.axes[k] <- t\n",
    "}\n",
    "}\n",
    "\n",
    "outbreak <- list( time.axes = time.axes, infect = colSums(infection.status) )\n",
    "outbreak\n",
    "}"
   ]
  },
  {
   "cell_type": "markdown",
   "id": "dcdc9963",
   "metadata": {
    "deletable": false,
    "editable": false,
    "nbgrader": {
     "cell_type": "markdown",
     "checksum": "80b44807d15ce642cb90b68844547efe",
     "grade": false,
     "grade_id": "cell-eff01cb3b1f8a8e1",
     "locked": true,
     "schema_version": 3,
     "solution": false,
     "task": false
    }
   },
   "source": [
    "## Run epidemic\n",
    "Simulate the diffusion/epidemic for 20 populations, half of which have a Bernoulli network, and half have an ERG as their population network.\n",
    "\n"
   ]
  },
  {
   "cell_type": "code",
   "execution_count": null,
   "id": "2d651187",
   "metadata": {},
   "outputs": [],
   "source": [
    "num.edges <- sum(Xbern)/2\n",
    "\n",
    "for (k in c(1:20))\n",
    "{\n",
    "  if (k <11){\n",
    "  X <- rgnm(n=1,nv=n,m=num.edges ,mode='graph')# Simulate a population Bernoulli graph\n",
    "   usecol <-  'grey'\n",
    "  }\n",
    "  if (k >= 11){\n",
    "    X <- as.matrix( simulate( as.network(X,directed=FALSE)~ kstar(2:3)+triangle,\n",
    "                         coef=c(star.coef,star.coef.3,coef.triangle),\n",
    "                         constraints=~edges,# this is what does it degreedist is based on padgbus.net\n",
    "                         nsim=1,\n",
    "                         control=control.simulate(MCMC.burnin=100000) ) )  # ERGM population graph\n",
    "    usecol <-  'red'\n",
    "  }\n",
    "  outbreak <- get.epidemic(X,alpha,beta)\n",
    "  if (k==1)\n",
    "  {\n",
    "    plot( outbreak$time.axes,outbreak$infect, type ='l',ylim=c(0,n),xlim=c(0,max(outbreak$time.axes)*1.5) ,\n",
    "          xlab='Time',ylab='Num infected' , col=usecol)\n",
    "  }\n",
    "  if (k %in% c(2:20))\n",
    "  {\n",
    "  lines(outbreak$time.axes,outbreak$infect, col=usecol)\n",
    "  }\n",
    "}\n",
    "legend( 'bottomright', col=c('grey','red') , lty=c(1,1) , legend = c('Bern','ERGM') )\n"
   ]
  },
  {
   "cell_type": "markdown",
   "id": "83deada4",
   "metadata": {
    "deletable": false,
    "editable": false,
    "nbgrader": {
     "cell_type": "markdown",
     "checksum": "6a6e4fa10b67f49bdbfc7f93326b86ab",
     "grade": false,
     "grade_id": "cell-0aa70cef806d38b9",
     "locked": true,
     "schema_version": 3,
     "solution": false,
     "task": false
    }
   },
   "source": [
    "#### Question 1\n",
    "\n",
    "Is there a qualitative difference between the same process on the two different networks and, if so, how would you explain it (*Hint*: How much bigger is the 'main' component of the Bernoulli network compared to the ERG)?"
   ]
  },
  {
   "cell_type": "markdown",
   "id": "299440f6",
   "metadata": {
    "deletable": false,
    "nbgrader": {
     "cell_type": "markdown",
     "checksum": "4e77b666ad9ed3931faecc263c4a47cd",
     "grade": true,
     "grade_id": "cell-96ba5aae810075a9",
     "locked": false,
     "points": 0,
     "schema_version": 3,
     "solution": true,
     "task": false
    }
   },
   "source": [
    "YOUR ANSWER HERE"
   ]
  },
  {
   "cell_type": "markdown",
   "id": "e8cf3d0b",
   "metadata": {},
   "source": [
    "## Micro-macro\n",
    "Here we see an example where have the combination of two micro-level processess aggregating up to the population level. The first is the network formation - in one case random and in the other dependent on the local neighbourhood of nodes. The second process is the adoption process. We can tweak both. The latter for example, can be used with `exposure` set to `ave` instead of `tota`. To more closely reflect a strictly contagious desease, we can make adoption/infection only possible if neighbourning nodes have adopted/are infected setting `contact` to `strict` rather than `free`.\n",
    "\n",
    "\n",
    "![The interplay of micro and macro](micromacro.png)\n",
    "\n",
    "The network formation here can be considered local and the two different network tie-formation principles aggregate up to different global patterns. In the ERGM, if we think of tie-formation as a local tie-based process, the presence of ties will affect the existence of other ties, hence the network structure is a constraint on itself. When the local adoption process is carried out in two different structures, the population outcome is different.\n",
    "\n",
    "\n",
    "# Network regression\n",
    "\n",
    "## Load data\n",
    "We are looking at the s50 dataset, which is further described here: <https://www.stats.ox.ac.uk/~snijders/siena/s50_data.htm>\n",
    "\n",
    "This dataset is available in ziped format online.\n"
   ]
  },
  {
   "cell_type": "code",
   "execution_count": null,
   "id": "90357116",
   "metadata": {},
   "outputs": [],
   "source": [
    "temp <- tempfile()\n",
    "download.file(\"https://www.stats.ox.ac.uk/~snijders/siena/s50_data.zip\",temp)\n",
    "X <- as.matrix( read.table(unz(temp, \"s50-network1.dat\")) )\n",
    "sport <- read.table(unz(temp, \"s50-sport.dat\"))\n",
    "smoke <- read.table(unz(temp, \"s50-smoke.dat\"))\n",
    "alcohol <- read.table(unz(temp, \"s50-alcohol.dat\"))\n",
    "unlink(temp)\n",
    "n <- nrow(X)\n",
    "smoke <- (smoke[,2] %in% c(2,3))+0 # use wave 2 and set values of 2 and 3 to smoking and 1 to non-smoking\n",
    "sport <- sport[,1]-1# dichotomise sporty"
   ]
  },
  {
   "cell_type": "markdown",
   "id": "6f35a027",
   "metadata": {
    "deletable": false,
    "editable": false,
    "nbgrader": {
     "cell_type": "markdown",
     "checksum": "2d8b03f679998e205766e7f8f5e769f1",
     "grade": false,
     "grade_id": "cell-808885dcadec65a7",
     "locked": true,
     "schema_version": 3,
     "solution": false,
     "task": false
    }
   },
   "source": [
    "## Overall task\n",
    "The variable Alcohol use is coded as\n",
    "\n",
    "Alcohol value | meaning \n",
    ":--------: | :------: \n",
    " 1 | non\n",
    " 2 | once or twice a year\n",
    " 3 | once a month \n",
    " 4 | once a week\n",
    " 5 | more than once a week\n",
    " \n",
    "We are now going to investigate if your friends alcohol use tends to influence your alcohol use. Start with plotting the networks with\n",
    "\n",
    "* Node size proportional to alcohol use\n",
    "* Colour by red for smoker, 1 (previous values: 2-3), and green for non-smoker 0 (origal value: 1)\n"
   ]
  },
  {
   "cell_type": "code",
   "execution_count": null,
   "id": "b75c7407",
   "metadata": {},
   "outputs": [],
   "source": [
    "gplot(X,vertex.cex=alcohol[,2]/2, vertex.col = ifelse(smoke==1,'red','green') )"
   ]
  },
  {
   "cell_type": "markdown",
   "id": "dabc4b72",
   "metadata": {
    "deletable": false,
    "editable": false,
    "nbgrader": {
     "cell_type": "markdown",
     "checksum": "45d186d8c628c639fb434b9cb00a9360",
     "grade": false,
     "grade_id": "cell-e78b7d0a7f81b35c",
     "locked": true,
     "schema_version": 3,
     "solution": false,
     "task": false
    }
   },
   "source": [
    "#### Question 2\n",
    "Looking at the figure, do you see any evidence of *social influence*?"
   ]
  },
  {
   "cell_type": "markdown",
   "id": "f585b0f8",
   "metadata": {
    "deletable": false,
    "nbgrader": {
     "cell_type": "markdown",
     "checksum": "9bfc678fd0c0cb30956cd3df70f7dac2",
     "grade": true,
     "grade_id": "cell-2e5cbee4496bdc2b",
     "locked": false,
     "points": 0,
     "schema_version": 3,
     "solution": true,
     "task": false
    }
   },
   "source": [
    "YOUR ANSWER HERE"
   ]
  },
  {
   "cell_type": "markdown",
   "id": "f44c121a",
   "metadata": {
    "deletable": false,
    "editable": false,
    "nbgrader": {
     "cell_type": "markdown",
     "checksum": "bab9b8543eaba9e9159025663abe223c",
     "grade": false,
     "grade_id": "cell-8092e2e9c40f679f",
     "locked": true,
     "schema_version": 3,
     "solution": false,
     "task": false
    }
   },
   "source": [
    "# Ordinary least squares (OLS) regression\n",
    "Make the assumption that the levels of smoking can be treated as a interval-level, continuous variable. To model the outcomes, we start with assuming that outcomes are independent across students using a regression model\n",
    "\n",
    "$$\n",
    "Y_i = \\beta_0+\\beta_1 m_{i,smoke} + \\beta_2 m_{i,sport}+\\epsilon_i\n",
    "$$\n",
    "where \n",
    "* $\\beta_0$ is the intercept\n",
    "* $\\beta_1$ is the average difference in alcohol use for smokers relative to non-smokers \n",
    "* $\\beta_2$ is the average difference in alcohol use for sporty people relative to non-sporty people \n",
    "\n",
    "and the $\\epsilon_i$'s are assumed to be **independent** across $i$ and follow a normal distribution $N(0,\\sigma^2)$.\n",
    "\n",
    "## Fit OLS\n"
   ]
  },
  {
   "cell_type": "code",
   "execution_count": null,
   "id": "f92aea3a",
   "metadata": {},
   "outputs": [],
   "source": [
    "y <- alcohol[,2]\n",
    "ans.ols <- lm(y ~ smoke+sport)\n",
    "summary(ans.ols)"
   ]
  },
  {
   "cell_type": "markdown",
   "id": "6af0ea03",
   "metadata": {
    "deletable": false,
    "editable": false,
    "nbgrader": {
     "cell_type": "markdown",
     "checksum": "c261e9765f4dcb8d77dd4f1fa84dfea7",
     "grade": false,
     "grade_id": "cell-cd159d950985ee9c",
     "locked": true,
     "schema_version": 3,
     "solution": false,
     "task": false
    }
   },
   "source": [
    "#### Question 3\n",
    "\n",
    "What conclusions can you draw from the ANOVA table of the OLS regression regarding the regressors smoke and sport?"
   ]
  },
  {
   "cell_type": "markdown",
   "id": "abb67d96",
   "metadata": {
    "deletable": false,
    "nbgrader": {
     "cell_type": "markdown",
     "checksum": "c684bdf885b57cd6a3598ef3f66898e9",
     "grade": true,
     "grade_id": "cell-6a03e02878759e62",
     "locked": false,
     "points": 0,
     "schema_version": 3,
     "solution": true,
     "task": false
    }
   },
   "source": [
    "YOUR ANSWER HERE"
   ]
  },
  {
   "cell_type": "markdown",
   "id": "b2ce7f67",
   "metadata": {
    "deletable": false,
    "editable": false,
    "nbgrader": {
     "cell_type": "markdown",
     "checksum": "c1b9465ed8d18ea174a7531b72b46ad0",
     "grade": false,
     "grade_id": "cell-af4984af196bf40d",
     "locked": true,
     "schema_version": 3,
     "solution": false,
     "task": false
    }
   },
   "source": [
    "### Residuals\n",
    "We assumed that the errors were normally distributed so the residuals \n",
    "\n",
    "$$\n",
    "\\hat{e}_i= y_i - \\hat{y}_i= y_i - \\hat{\\beta}M_i^{\\top}\n",
    "$$\n",
    "\n",
    "should be normally distributed:"
   ]
  },
  {
   "cell_type": "code",
   "execution_count": null,
   "id": "829c9148",
   "metadata": {},
   "outputs": [],
   "source": [
    "hist(ans.ols$residuals)"
   ]
  },
  {
   "cell_type": "markdown",
   "id": "fa6ea304",
   "metadata": {
    "deletable": false,
    "editable": false,
    "nbgrader": {
     "cell_type": "markdown",
     "checksum": "bec1bccf9763d9f6441c52a2f515a83a",
     "grade": false,
     "grade_id": "cell-8685c743b0ecc83b",
     "locked": true,
     "schema_version": 3,
     "solution": false,
     "task": false
    }
   },
   "source": [
    "> The residuals seem reasonably 'normal'\n",
    "\n",
    "### Autocorrelation\n",
    "We are now going to investigate other properties of the model.\n",
    "\n",
    "For the `sna` package, we need to put all covariates, including the constant, in a matrix\n",
    "\n",
    "$$\n",
    "M = \\begin{pmatrix}\n",
    "M_{1}\\\\\n",
    "M_{2}\\\\\n",
    "\\vdots\\\\\n",
    "M_{n}\\\\\n",
    "\\end{pmatrix}= \\begin{pmatrix}\n",
    "1 & m_{1,1} & \\cdots & m_{Z,p}\\\\\n",
    "1 & m_{2,1} & \\cdots & m_{Z,p}\\\\\n",
    "\\vdots & \\vdots & \\vdots& \\vdots\\\\\n",
    "1 & m_{n,1} & \\cdots & m_{n,p}\\\\\n",
    "\\end{pmatrix}\n",
    "$$\n",
    "\n",
    "We thus put all covariates into the same matrix:"
   ]
  },
  {
   "cell_type": "code",
   "execution_count": null,
   "id": "309aea59",
   "metadata": {
    "deletable": false,
    "editable": false,
    "nbgrader": {
     "cell_type": "code",
     "checksum": "2edee3d1225b49cf5d93ad75c4679c4f",
     "grade": false,
     "grade_id": "cell-5ab42f36f7725b68",
     "locked": true,
     "schema_version": 3,
     "solution": false,
     "task": false
    }
   },
   "outputs": [],
   "source": [
    "M <- cbind(matrix(1,n,1),smoke,sport)\n",
    "colnames(M) <- c('cons','smoke','sport')\n",
    "head(M)"
   ]
  },
  {
   "cell_type": "markdown",
   "id": "db1124bd",
   "metadata": {
    "deletable": false,
    "editable": false,
    "nbgrader": {
     "cell_type": "markdown",
     "checksum": "64d68feebabbef452ff12770bfbbbe29",
     "grade": false,
     "grade_id": "cell-dc8e47c498effc88",
     "locked": true,
     "schema_version": 3,
     "solution": false,
     "task": false
    }
   },
   "source": [
    "Let us investigate whether the residuals are independent across the network. In particular, if the outcome of $i$ is completely independent of the outcome of $j$ then we would not expect there to be a difference between $(\\hat{e}_i - \\bar{e})(\\hat{e}_j-\\bar{e})$ for a pair that is connected through a ties $x_{ij}=1$ and a pair  $(\\hat{e}_i - \\bar{e})(\\hat{e}_k-\\bar{e})$ that is not connected, $x_{ik}=0$. In other words, higher (lower) than predicted values should not be expected if a network partner has higher (lower) than predicted value. Note that the average $\\bar{e}=0$ by construction and was just included for clarity. Moran's I does measure exactly whether connected partners tend to have more similar residuals than unconnected people. In terms of the outcome variable\n",
    "\n",
    "$$\n",
    "I_k =\\frac{n}{\\sum_{i=1}^n\\sum_{j=1}^n X_{ij}^{(k)}} \\frac{\\sum_{i=1}^n \\sum_{j=1}^n (y_i-\\bar{y}) (y_j-\\bar{y})X_{ij}^{(k)} }{\\sum_{j=1}^n (y_j-\\bar{y})^2}\n",
    "$$\n",
    "\n",
    "Where $X_{ij}^{(k)}$ is the $k$-step adjacency matrix, i.e. $X_{ij}^{(1)}$ is the matrix of people that are directly connected,  $X_{ij}^{(2)}$ is the matrix of people that are connected at distance 2, etc. The step $k$ is sometimes called *lag*. Intuitively, if $X_{ij}^{(k)}$ doesn't matter, then many cross-product terms should cancel others out. It can be shown that, under the assumption that there is no network correlation at lag $k=1$, then the expected value is\n",
    "\n",
    "$$\n",
    "E(I_1) = \\frac{-1}{N-1}\n",
    "$$\n",
    "\n",
    "Here we want to check if this seems to hold true for our residuals - are they uncorrelated across network partners?\n"
   ]
  },
  {
   "cell_type": "code",
   "execution_count": null,
   "id": "7a2a4295",
   "metadata": {},
   "outputs": [],
   "source": [
    "round(nacf(X,ans.ols$residuals,type=\"moran\"),3 )\n",
    "# nacf(X,ans.ols$residuals,type=\"geary\") # Geary's C is another measure of autocorrelation but is harder to undertand"
   ]
  },
  {
   "cell_type": "markdown",
   "id": "f0d559ae",
   "metadata": {
    "deletable": false,
    "editable": false,
    "nbgrader": {
     "cell_type": "markdown",
     "checksum": "05775912d7b987a06ebbcc1fe4dfb560",
     "grade": false,
     "grade_id": "cell-a7f28d0cf82906aa",
     "locked": true,
     "schema_version": 3,
     "solution": false,
     "task": false
    }
   },
   "source": [
    "#### Question 4\n",
    "What does it mean that $I_0=1$?"
   ]
  },
  {
   "cell_type": "markdown",
   "id": "6b8cef59",
   "metadata": {
    "deletable": false,
    "nbgrader": {
     "cell_type": "markdown",
     "checksum": "25c3246919a07a17e22ae5fdc4ae3c12",
     "grade": true,
     "grade_id": "cell-c30b4b51336fac83",
     "locked": false,
     "points": 0,
     "schema_version": 3,
     "solution": true,
     "task": false
    }
   },
   "source": [
    "YOUR ANSWER HERE"
   ]
  },
  {
   "cell_type": "markdown",
   "id": "6890c2db",
   "metadata": {
    "deletable": false,
    "editable": false,
    "nbgrader": {
     "cell_type": "markdown",
     "checksum": "e32dfb8271080aafeb20b84fc238b465",
     "grade": false,
     "grade_id": "cell-b896726a2390feec",
     "locked": true,
     "schema_version": 3,
     "solution": false,
     "task": false
    }
   },
   "source": [
    "We are only really interested in shorter lags, so let us plot the first 4 and add a reference line for $E(I_1)$ under no correlation\n",
    "\n",
    "\n"
   ]
  },
  {
   "cell_type": "code",
   "execution_count": null,
   "id": "6577157e",
   "metadata": {},
   "outputs": [],
   "source": [
    "plot(nacf(X,ans.ols$residuals,type=\"moran\")[1:4],type='b')\n",
    "abline(h=-1/(n-1),col='red')"
   ]
  },
  {
   "cell_type": "markdown",
   "id": "3c452ab4",
   "metadata": {
    "deletable": false,
    "editable": false,
    "nbgrader": {
     "cell_type": "markdown",
     "checksum": "58b8b034ff6b84281e6aa6ee39af04d0",
     "grade": false,
     "grade_id": "cell-4573e02b9ccf5adb",
     "locked": true,
     "schema_version": 3,
     "solution": false,
     "task": false
    }
   },
   "source": [
    "\n",
    "## Row-nomalise\n",
    "When modelling social influence we may want scale the network ties to take into account how many ties people have. Leenders (2002) propose a number of ways in which we can scale the adjacency matrix. Here we want each arc to have the weight\n",
    "\n",
    "$$\n",
    "W_{ij} = X_{ij}/d_{i,out}\n",
    "$$\n",
    "We can do this easily BUT we have to be careful so that we do not divide by 0 (we define $0/0$ as $0$)\n"
   ]
  },
  {
   "cell_type": "code",
   "execution_count": null,
   "id": "eb444244",
   "metadata": {},
   "outputs": [],
   "source": [
    "degrees <- degree(X,outdegree)\n",
    "W <- X\n",
    "W[degrees>0,] <- X[degrees>0,]/degrees[degrees>0]\n",
    "\n",
    "# You can check that we are actually normalising correctly\n",
    "# Wcopy <- X\n",
    "# for (i in c(1:n))\n",
    "# {\n",
    "#  if (degrees[i]>0)\n",
    "#  {\n",
    "#    Wcopy[i,] <- X[i,]/degrees[i]\n",
    "#  }\n",
    "#  \n",
    "#}\n",
    "#sum( W != Wcopy)"
   ]
  },
  {
   "cell_type": "markdown",
   "id": "d5e7e1c1",
   "metadata": {
    "deletable": false,
    "editable": false,
    "nbgrader": {
     "cell_type": "markdown",
     "checksum": "ad0e66c67c21b4a4d24a17e15b27d234",
     "grade": false,
     "grade_id": "cell-c957bea76a16dfb7",
     "locked": true,
     "schema_version": 3,
     "solution": false,
     "task": false
    }
   },
   "source": [
    "## Check residuals again\n",
    "Check the residuals again"
   ]
  },
  {
   "cell_type": "code",
   "execution_count": null,
   "id": "d99ae7ae",
   "metadata": {},
   "outputs": [],
   "source": [
    "plot(nacf(W,ans.ols$residuals,type=\"moran\")[1:4],type='b')"
   ]
  },
  {
   "cell_type": "markdown",
   "id": "4b640ac6",
   "metadata": {
    "deletable": false,
    "editable": false,
    "nbgrader": {
     "cell_type": "markdown",
     "checksum": "8ed4c371cd311d365b8feb2b6f0c0644",
     "grade": false,
     "grade_id": "cell-8d09772d17be757a",
     "locked": true,
     "schema_version": 3,
     "solution": false,
     "task": false
    }
   },
   "source": [
    "Do we see any difference? In the formula for $I_k$ the scaling factors $d_i$ will actually cancel out.\n",
    "\n",
    "## Network autocorrelation model\n",
    "The *network autocorrelation* model, or *network disturbances* model, looks exactly like the OLS\n",
    "$$\n",
    "y_i = M_i \\beta + \\epsilon_i\\text{,}\n",
    "$$\n",
    "but we no longer assume that the residuals are *independent*. Instead, we induce network autoocorrelation on the error terms\n",
    "\n",
    "$$\n",
    "\\epsilon_i = \\rho \\sum_{j=1}^n W_{ij}\\epsilon_j+\\xi_i\n",
    "$$\n",
    "($\\xi$ is the Greek letter Xi - <https://en.wikipedia.org/wiki/Xi_(letter)>), where $\\rho$ is the autocorrelation parameter. The error tems $\\xi_i$ are assumed to be independent and identically distributed $\\xi_i \\thicksim N(0,\\sigma^2)$. The interpretation is that if $i$ has a higher than predicted value on the outcome variable then $j$ is more likely to *also* have higher than predicted values for all $j$ that $i$ has nominated.\n",
    "\n",
    "If you know a bit of matrix algebra, you will notice that we can write the vector of disturbances $\\epsilon = (\\epsilon_1,\\ldots,\\epsilon_n)^{\\top} $ as\n",
    "$$\n",
    "\\epsilon = \\rho W \\epsilon + \\xi\n",
    "$$\n",
    "\n",
    "One immediate issue here is that we have $\\epsilon$ on both sides of the equation. We can simplify this expression by solving for $\\epsilon$\n",
    "$$\n",
    "\\epsilon = (I-\\rho W)^{-1}\\xi\n",
    "$$\n",
    "\n",
    "You can intepret this as the error terms $\\xi_i$ 'spreading' on the network.\n",
    "\n",
    "### Fir the network autocorrelation model\n",
    "\n",
    "The function `lnam` (which stands for linear network autocorrelation models, pressumably) can fit this model. The formula is specified in terms of the outcome `y` variable and the matrix `x` of covariates. The weight matrix is specified as `W2`.\n"
   ]
  },
  {
   "cell_type": "code",
   "execution_count": null,
   "id": "b4cacaef",
   "metadata": {},
   "outputs": [],
   "source": [
    "netacm.1 <-lnam(y=y, x=M, W2=W)\n",
    "summary(netacm.1)"
   ]
  },
  {
   "cell_type": "markdown",
   "id": "29a57fb5",
   "metadata": {
    "deletable": false,
    "editable": false,
    "nbgrader": {
     "cell_type": "markdown",
     "checksum": "73dd7489c83325188beb470e095b7862",
     "grade": false,
     "grade_id": "cell-08bc138c27a3f91e",
     "locked": true,
     "schema_version": 3,
     "solution": false,
     "task": false
    }
   },
   "source": [
    "#### Question 5\n",
    "Did the conclusions about the regressors smoke and sport change?"
   ]
  },
  {
   "cell_type": "markdown",
   "id": "b8ab08bf",
   "metadata": {
    "deletable": false,
    "nbgrader": {
     "cell_type": "markdown",
     "checksum": "07fa81bee46ed261d608ac4217fc9359",
     "grade": true,
     "grade_id": "cell-70714f5a32bfb841",
     "locked": false,
     "points": 0,
     "schema_version": 3,
     "solution": true,
     "task": false
    }
   },
   "source": [
    "YOUR ANSWER HERE"
   ]
  },
  {
   "cell_type": "markdown",
   "id": "d33d02e7",
   "metadata": {
    "deletable": false,
    "editable": false,
    "nbgrader": {
     "cell_type": "markdown",
     "checksum": "fe939330d770b478445e543e953efbb4",
     "grade": false,
     "grade_id": "cell-3dd4f75f0566c972",
     "locked": true,
     "schema_version": 3,
     "solution": false,
     "task": false
    }
   },
   "source": [
    "#### Question 6\n",
    "Is there evidence of network autocorrelation?"
   ]
  },
  {
   "cell_type": "markdown",
   "id": "02ae0b4f",
   "metadata": {
    "deletable": false,
    "nbgrader": {
     "cell_type": "markdown",
     "checksum": "4d6bd6786779070fdfcb73a7b67acdc5",
     "grade": true,
     "grade_id": "cell-20eab3cdfce3a17d",
     "locked": false,
     "points": 0,
     "schema_version": 3,
     "solution": true,
     "task": false
    }
   },
   "source": [
    "YOUR ANSWER HERE"
   ]
  },
  {
   "cell_type": "markdown",
   "id": "297d64b2",
   "metadata": {
    "deletable": false,
    "editable": false,
    "nbgrader": {
     "cell_type": "markdown",
     "checksum": "3a508e902e66c06cb187e83158e80e1e",
     "grade": false,
     "grade_id": "cell-ea456fcd746b4a0c",
     "locked": true,
     "schema_version": 3,
     "solution": false,
     "task": false
    }
   },
   "source": [
    "Looking at the network plot, it almost looks as if high-degree nodes drink more. To take this into account, we add outdegree as an explanatory variable:"
   ]
  },
  {
   "cell_type": "code",
   "execution_count": null,
   "id": "a7aaedf5",
   "metadata": {},
   "outputs": [],
   "source": [
    "M <- cbind(matrix(1,n,1),degrees,smoke,sport )\n",
    "colnames(M) <- c('cons','degree','smoke','sport')\n",
    "head(M)"
   ]
  },
  {
   "cell_type": "markdown",
   "id": "0ad80108",
   "metadata": {
    "deletable": false,
    "editable": false,
    "nbgrader": {
     "cell_type": "markdown",
     "checksum": "0c33e326162eb3fd57212eaa1c233032",
     "grade": false,
     "grade_id": "cell-8cdfc51a8c55a762",
     "locked": true,
     "schema_version": 3,
     "solution": false,
     "task": false
    }
   },
   "source": [
    "Now re-run the network autocorrlation model (call the output `netacm.2` to align with the code in the code chunk below)"
   ]
  },
  {
   "cell_type": "code",
   "execution_count": null,
   "id": "0a2782fe",
   "metadata": {
    "deletable": false,
    "nbgrader": {
     "cell_type": "code",
     "checksum": "c90c65dcc9a9595da5df1ac09b4b223a",
     "grade": true,
     "grade_id": "cell-1811dca37c12cc92",
     "locked": false,
     "points": 0,
     "schema_version": 3,
     "solution": true,
     "task": false
    }
   },
   "outputs": [],
   "source": [
    "# YOUR CODE HERE\n",
    "stop('No Answer Given!')\n",
    "summary(netacm.2)"
   ]
  },
  {
   "cell_type": "markdown",
   "id": "0669bbd9",
   "metadata": {
    "deletable": false,
    "editable": false,
    "nbgrader": {
     "cell_type": "markdown",
     "checksum": "b8c469ae03e72415abd754a063eaa548",
     "grade": false,
     "grade_id": "cell-44919b8bc89b900a",
     "locked": true,
     "schema_version": 3,
     "solution": false,
     "task": false
    }
   },
   "source": [
    "#### Question 7\n",
    "Did accounting for outdegree change the conclusions about network autocorrelation?"
   ]
  },
  {
   "cell_type": "markdown",
   "id": "e98f26ca",
   "metadata": {
    "deletable": false,
    "nbgrader": {
     "cell_type": "markdown",
     "checksum": "1ff77a419849604e106e2174747ba2d2",
     "grade": true,
     "grade_id": "cell-94a16e709e57932a",
     "locked": false,
     "points": 0,
     "schema_version": 3,
     "solution": true,
     "task": false
    }
   },
   "source": [
    "YOUR ANSWER HERE"
   ]
  },
  {
   "cell_type": "markdown",
   "id": "50fa0b93",
   "metadata": {
    "deletable": false,
    "editable": false,
    "nbgrader": {
     "cell_type": "markdown",
     "checksum": "b5deb180235e56539071c884ed65d152",
     "grade": false,
     "grade_id": "cell-288f60c3f7eb000e",
     "locked": true,
     "schema_version": 3,
     "solution": false,
     "task": false
    }
   },
   "source": [
    "### Network Effects model\n",
    "The *network effects* model assumes that there is *correlation through the outcome variable* $Y$. This subtly different from correlation only through the error term. The outcome $Y_i$ for $i$ is a a weighted sum of the values $Y_j$ of the contacts of $i$\n",
    "$$\n",
    "Y_i = \\rho \\sum_{j=1}^n W_{ij}Y_i + M_i\\beta+\\epsilon_i\n",
    "$$\n",
    "where $\\epsilon_i \\thicksim N(0,\\sigma^2)$ independently for all $i$. \n",
    "\n",
    "> If you want to model social influence or social contagion, the network effects model is more approprate than the autocorrelation model as the former models the dependence between values on the outcome varaible\n",
    "\n",
    "The equation for the full outcome vector can, as before, be written compactly as\n",
    "\n",
    "$$\n",
    "Y = \\rho W Y + M\\beta+\\epsilon\n",
    "$$\n",
    "\n",
    "Here it is there is *feedback* on the outcome variable.\n",
    "\n",
    "### Stationary distribution\n",
    "We can derive this model out of a longitudinal model\n",
    "\n",
    "$$\n",
    "Y_{i,t} = \\rho \\sum_{j=1}^n W_{ij}Y_{j,t-1}+M\\beta+\\epsilon_{i,t}\n",
    "$$\n",
    "as $t$ tends to infinity.\n",
    "\n",
    "For a quick illustration, let us look at the first 5 interaction of the updating accourding to the longitudinal form of the model"
   ]
  },
  {
   "cell_type": "code",
   "execution_count": null,
   "id": "c4fa0f03",
   "metadata": {},
   "outputs": [],
   "source": [
    "\n",
    "rho <- 0.4# set a strong influence paramter\n",
    "beta <- matrix(summary(netacm.2)$beta[,1],4,1)# use the estimated coefficients from the last regression\n",
    "Y <- matrix(rnorm(n),n,1)# random starting point\n",
    "par(mfrow=c(2,3), oma = c(0,1,0,0) + 0.1,mar = c(1,0,1,1) + 0.1)\n",
    "coord <- gplot(X,gmode='graph',vertex.cex = Y/2,main= paste('M ',round(nacf(W,Y[,1],type=\"moran\")[2],3) ) )\n",
    "for (k in c(1:5)){\n",
    "Y <- rho * W %*% Y + M %*% beta + matrix(rnorm(n),n,1)# update Y according to equation; %*% for matrix multiplication\n",
    "gplot(X,gmode='graph',vertex.cex = Y/2, coord=coord, main= paste('M ',round(nacf(W,Y[,1],type=\"moran\")[2],3) ) )\n",
    "}"
   ]
  },
  {
   "cell_type": "markdown",
   "id": "9e448ffb",
   "metadata": {
    "deletable": false,
    "editable": false,
    "nbgrader": {
     "cell_type": "markdown",
     "checksum": "e916d274d629f2f1b808fa9dcd9b6704",
     "grade": false,
     "grade_id": "cell-884921daaa37344d",
     "locked": true,
     "schema_version": 3,
     "solution": false,
     "task": false
    }
   },
   "source": [
    "We may or may not see increased corrlation in the outcomes. Running 100 iterations this will become a little more evident\n"
   ]
  },
  {
   "cell_type": "code",
   "execution_count": null,
   "id": "9ab27680",
   "metadata": {},
   "outputs": [],
   "source": [
    "moran <- matrix(0,100,3)\n",
    "rho <- .4\n",
    "Y <- matrix(rnorm(n),n,1)\n",
    "for (k in c(1:100)){\n",
    "Y <- rho * W %*% Y + M %*% beta + matrix(rnorm(n),n,1)\n",
    "moran[k,] <- nacf(W,Y[,1],type=\"moran\")[2:4]}\n",
    "par(mfrow=c(1,1))\n",
    "plot(moran[,1],type='l')\n",
    "lines(moran[,2],col='red')\n",
    "#lines(moran[,3],col='blue')\n",
    "abline( h = -1/(n-1), col='grey')"
   ]
  },
  {
   "cell_type": "markdown",
   "id": "c7530dc2",
   "metadata": {
    "deletable": false,
    "editable": false,
    "nbgrader": {
     "cell_type": "markdown",
     "checksum": "6cb2f01263b3973a74d7953abad49ed6",
     "grade": false,
     "grade_id": "cell-7bef4c09586ebf23",
     "locked": true,
     "schema_version": 3,
     "solution": false,
     "task": false
    }
   },
   "source": [
    "We might see a slight trend upwards and correlations are generally speaking positive.\n",
    "\n",
    "As before $Y$ on both sides of the equation, but we can solve for $Y$\n",
    "$$\n",
    "Y = (I- \\rho W)^{-1}(M\\beta+\\epsilon)\n",
    "$$\n",
    "\n",
    "The same function as before, `lnam` is used to fit this model. The difference from the network autocorrelation model is that the weight matrix is specified as `W1` *not* `W2`."
   ]
  },
  {
   "cell_type": "code",
   "execution_count": null,
   "id": "7fab0523",
   "metadata": {},
   "outputs": [],
   "source": [
    "neteff.2 <-lnam(y=y, x=M, W1=W)\n",
    "summary(neteff.2)"
   ]
  },
  {
   "cell_type": "markdown",
   "id": "c9d512a9",
   "metadata": {
    "deletable": false,
    "editable": false,
    "nbgrader": {
     "cell_type": "markdown",
     "checksum": "4a191facb6d095a6c06beaaab0026f77",
     "grade": false,
     "grade_id": "cell-5405d93b4d8e3d3a",
     "locked": true,
     "schema_version": 3,
     "solution": false,
     "task": false
    }
   },
   "source": [
    "#### Question 8\n",
    "\n",
    "Is there any evidence for social influence on alcohol?"
   ]
  },
  {
   "cell_type": "markdown",
   "id": "9f4f0775",
   "metadata": {
    "deletable": false,
    "nbgrader": {
     "cell_type": "markdown",
     "checksum": "d53fef22ad117029acb9c35bf51bdca3",
     "grade": true,
     "grade_id": "cell-de4a8e9a0dec3074",
     "locked": false,
     "points": 0,
     "schema_version": 3,
     "solution": true,
     "task": false
    }
   },
   "source": [
    "YOUR ANSWER HERE"
   ]
  },
  {
   "cell_type": "markdown",
   "id": "a78db48d",
   "metadata": {
    "deletable": false,
    "editable": false,
    "nbgrader": {
     "cell_type": "markdown",
     "checksum": "d6b46fc725c919132b1213fa39d3ca30",
     "grade": false,
     "grade_id": "cell-e21d106ec7192209",
     "locked": true,
     "schema_version": 3,
     "solution": false,
     "task": false
    }
   },
   "source": [
    "## Simplify model\n",
    "\n",
    "Fit a regression that only includes (the intercept) smoke and that uses the original, non-normalised, adjacency matrix\n"
   ]
  },
  {
   "cell_type": "code",
   "execution_count": null,
   "id": "748b8c16",
   "metadata": {
    "deletable": false,
    "nbgrader": {
     "cell_type": "code",
     "checksum": "b4d2db2cd4bd686b2d3b684b1fb8bd5b",
     "grade": true,
     "grade_id": "cell-6cdc5361d4fdb559",
     "locked": false,
     "points": 0,
     "schema_version": 3,
     "solution": true,
     "task": false
    }
   },
   "outputs": [],
   "source": [
    "# YOUR CODE HERE\n",
    "stop('No Answer Given!')\n",
    "summary(neteff.2)# assuming you called your estimation object 'neteff.2'"
   ]
  },
  {
   "cell_type": "markdown",
   "id": "e6815b55",
   "metadata": {
    "deletable": false,
    "editable": false,
    "nbgrader": {
     "cell_type": "markdown",
     "checksum": "12bc7d2f15a12dae5caa6a62823f5278",
     "grade": false,
     "grade_id": "cell-dd38bd8bc5238c0d",
     "locked": true,
     "schema_version": 3,
     "solution": false,
     "task": false
    }
   },
   "source": [
    "#### Question 9\n",
    "What do you conclude from the results? Can you relate this to total and average exposure in the diffusion model?"
   ]
  },
  {
   "cell_type": "markdown",
   "id": "1243931e",
   "metadata": {
    "deletable": false,
    "nbgrader": {
     "cell_type": "markdown",
     "checksum": "48112949164d6ce83d3542e9fd332a05",
     "grade": true,
     "grade_id": "cell-8128ea71fd2583f2",
     "locked": false,
     "points": 0,
     "schema_version": 3,
     "solution": true,
     "task": false
    }
   },
   "source": [
    "YOUR ANSWER HERE"
   ]
  },
  {
   "cell_type": "markdown",
   "id": "7c95fad4",
   "metadata": {
    "deletable": false,
    "editable": false,
    "nbgrader": {
     "cell_type": "markdown",
     "checksum": "6300213766d93104cad9383cc0389724",
     "grade": false,
     "grade_id": "cell-d96ea0bcca3a3c18",
     "locked": true,
     "schema_version": 3,
     "solution": false,
     "task": false
    }
   },
   "source": [
    "# References\n",
    "\n",
    "Greenan, Charlotte C. 2015. “Diffusion of Innovations in Dynamic Networks.” Journal of the Royal Statistical Society. Series A (Statistics in Society). JSTOR, 147–66.\n",
    "\n",
    "Myers, Daniel J. 2000. “The Diffusion of Collective Violence: Infectiousness, Susceptibility, and Mass Media Networks.” American Journal of Sociology 106 (1). The University of Chicago Press: 173–208.\n",
    "\n",
    "Leenders, R. T. A. (2002). Modeling social influence through network autocorrelation: constructing the weight matrix. Social networks, 24(1), 21-47.\n",
    "\n",
    "Robins, Garry, Philippa Pattison, and Jodie Woolcock. 2005. “Small and Other Worlds: Global Network Structures from Local Processes.” American Journal of Sociology 110 (4). The University of Chicago Press: 894–936.\n",
    "\n",
    "Strang, David, and Nancy Brandon Tuma. 1993. “Spatial and Temporal Heterogeneity in Diffusion.” American Journal of Sociology 99 (3). University of Chicago Press: 614–39.\n",
    "\n",
    "Valente, Thomas W. 2005. “Network Models and Methods for Studying the Diffusion of Innovations.” Models and Methods in Social Network Analysis 28. Cambridge University Press New York, NY: 98–116.\n"
   ]
  }
 ],
 "metadata": {
  "kernelspec": {
   "display_name": "R",
   "language": "R",
   "name": "ir"
  },
  "language_info": {
   "codemirror_mode": "r",
   "file_extension": ".r",
   "mimetype": "text/x-r-source",
   "name": "R",
   "pygments_lexer": "r",
   "version": "4.1.0"
  }
 },
 "nbformat": 4,
 "nbformat_minor": 5
}
