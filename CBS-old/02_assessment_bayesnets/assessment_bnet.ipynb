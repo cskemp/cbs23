{
 "cells": [
  {
   "cell_type": "markdown",
   "metadata": {
    "deletable": false,
    "editable": false,
    "nbgrader": {
     "cell_type": "markdown",
     "checksum": "94adf4b238be4db1b81cfed84e6f7060",
     "grade": false,
     "grade_id": "cell-0d5149b4af2d52d9",
     "locked": true,
     "schema_version": 3,
     "solution": false,
     "task": false
    }
   },
   "source": [
    "# CBS Week 2 Assessment: Bayes Nets\n",
    "## Semester 2, 2021\n"
   ]
  },
  {
   "cell_type": "code",
   "execution_count": 1,
   "metadata": {
    "deletable": false,
    "editable": false,
    "nbgrader": {
     "cell_type": "code",
     "checksum": "283775a46a1e47d122fb1d9330762913",
     "grade": false,
     "grade_id": "cell-d254729edee8e1b8",
     "locked": true,
     "schema_version": 3,
     "solution": false,
     "task": false
    }
   },
   "outputs": [
    {
     "name": "stderr",
     "output_type": "stream",
     "text": [
      "── \u001b[1mAttaching packages\u001b[22m ─────────────────────────────────────── tidyverse 1.3.1 ──\n",
      "\n",
      "\u001b[32m✔\u001b[39m \u001b[34mggplot2\u001b[39m 3.3.5     \u001b[32m✔\u001b[39m \u001b[34mpurrr  \u001b[39m 0.3.4\n",
      "\u001b[32m✔\u001b[39m \u001b[34mtibble \u001b[39m 3.1.2     \u001b[32m✔\u001b[39m \u001b[34mdplyr  \u001b[39m 1.0.7\n",
      "\u001b[32m✔\u001b[39m \u001b[34mtidyr  \u001b[39m 1.1.3     \u001b[32m✔\u001b[39m \u001b[34mstringr\u001b[39m 1.4.0\n",
      "\u001b[32m✔\u001b[39m \u001b[34mreadr  \u001b[39m 2.0.0     \u001b[32m✔\u001b[39m \u001b[34mforcats\u001b[39m 0.5.1\n",
      "\n",
      "── \u001b[1mConflicts\u001b[22m ────────────────────────────────────────── tidyverse_conflicts() ──\n",
      "\u001b[31m✖\u001b[39m \u001b[34mdplyr\u001b[39m::\u001b[32mfilter()\u001b[39m masks \u001b[34mstats\u001b[39m::filter()\n",
      "\u001b[31m✖\u001b[39m \u001b[34mdplyr\u001b[39m::\u001b[32mlag()\u001b[39m    masks \u001b[34mstats\u001b[39m::lag()\n",
      "\n",
      "nimble version 0.11.1 is loaded.\n",
      "For more information on NIMBLE and a User Manual,\n",
      "please visit http://R-nimble.org.\n",
      "\n",
      "\n",
      "Attaching package: ‘nimble’\n",
      "\n",
      "\n",
      "The following object is masked from ‘package:stats’:\n",
      "\n",
      "    simulate\n",
      "\n",
      "\n",
      "\n",
      "Attaching package: ‘testthat’\n",
      "\n",
      "\n",
      "The following object is masked from ‘package:dplyr’:\n",
      "\n",
      "    matches\n",
      "\n",
      "\n",
      "The following object is masked from ‘package:purrr’:\n",
      "\n",
      "    is_null\n",
      "\n",
      "\n",
      "The following objects are masked from ‘package:readr’:\n",
      "\n",
      "    edition_get, local_edition\n",
      "\n",
      "\n",
      "The following object is masked from ‘package:tidyr’:\n",
      "\n",
      "    matches\n",
      "\n",
      "\n"
     ]
    }
   ],
   "source": [
    "library(tidyverse)\n",
    "library(ggplot2)\n",
    "library(ggpubr)\n",
    "library(modelr)\n",
    "library(dplyr)\n",
    "library(nimble)\n",
    "library(testthat)"
   ]
  },
  {
   "cell_type": "markdown",
   "metadata": {
    "deletable": false,
    "editable": false,
    "nbgrader": {
     "cell_type": "markdown",
     "checksum": "aa04f268b00fc19bc3a41b329b1484aa",
     "grade": false,
     "grade_id": "cell-c117c723c4a83656",
     "locked": true,
     "schema_version": 3,
     "solution": false,
     "task": false
    }
   },
   "source": [
    "This notebook is due at 3 pm on August 13. As for all notebooks, a FAQ for this assignment will be maintained on Canvas, and you can find it on the page associated with Week 2. Please make sure that your notebook validates before you submit it --- if your notebook doesn't validate the automated grader may run into issues. \n",
    "\n",
    "In this notebook you'll apply a Bayes net model to the food web problem discussed by  Shafto et al (2008), [Inductive Reasoning about Causally Transmitted Properties](https://www.charleskemp.com/papers/shaftokbct08_inductivereasoningaboutcausallytransmittedproperties.pdf). The problem involves the seven species in this foodweb:\n"
   ]
  },
  {
   "cell_type": "markdown",
   "metadata": {
    "deletable": false,
    "editable": false,
    "nbgrader": {
     "cell_type": "markdown",
     "checksum": "22e1bd2da6d73ef1b7d3e4215115ec08",
     "grade": false,
     "grade_id": "cell-6d7a1b1a1068740a",
     "locked": true,
     "schema_version": 3,
     "solution": false,
     "task": false
    }
   },
   "source": [
    "<figure>\n",
    "  <img src=\"images/foodweb.png\" alt=\"foodweb\" style=\"width:30%\">\n",
    "  <figcaption  class=\"figure-caption text-center\">Figure 1: Food web diagram</figcaption>\n",
    "</figure>"
   ]
  },
  {
   "cell_type": "markdown",
   "metadata": {
    "deletable": false,
    "editable": false,
    "nbgrader": {
     "cell_type": "markdown",
     "checksum": "583db07514a2c5798d3f4fa5a34873e2",
     "grade": false,
     "grade_id": "cell-caeebf1a98300b1a",
     "locked": true,
     "schema_version": 3,
     "solution": false,
     "task": false
    }
   },
   "source": [
    "The arrows here indicate \"eaten-by\" relationships --- for example, kelp is eaten by herring, which in turn is eaten by dolphins, tuna and sand-sharks. \n",
    "\n",
    "We're interested in reasoning problems such as \"Mako carry a certain disease but Kelp does not. How likely is it that Tuna carry the same disease?\" For this argument, the statements \"Mako carry the disease\" and \"Kelp does not carry the disease\" are premises, and \"Tuna carry the disease\" is the conclusion.\n",
    "\n",
    "In Week 1 we discussed a recipe for building a Bayesian model that included 4 steps: characterize the observed data, characterise the hypothesis space, characterize the prior, and characterize the likelihood function. Here we'll go through the same 4 steps but in a slightly different order.\n",
    "\n",
    "## Hypothesis space\n",
    "\n",
    "Each of the seven species either carries or does not carry the disease, which means that there are 2^7 = 128 possible states of the world. Our hypothesis space includes all of these possibilities.  We'll enumerate all 128 using 1 to indicate FALSE (ie doesn't have the disease) and 2 to indicate TRUE (has the disease).\n"
   ]
  },
  {
   "cell_type": "code",
   "execution_count": 2,
   "metadata": {
    "deletable": false,
    "editable": false,
    "nbgrader": {
     "cell_type": "code",
     "checksum": "2f8b740a9291cfe795ea3c0167b09497",
     "grade": false,
     "grade_id": "cell-a4aff01ac25d8ef0",
     "locked": true,
     "schema_version": 3,
     "solution": false,
     "task": false
    }
   },
   "outputs": [
    {
     "data": {
      "text/html": [
       "<table class=\"dataframe\">\n",
       "<caption>A tibble: 6 × 7</caption>\n",
       "<thead>\n",
       "\t<tr><th scope=col>kelp</th><th scope=col>herring</th><th scope=col>dolphin</th><th scope=col>tuna</th><th scope=col>sandshark</th><th scope=col>mako</th><th scope=col>human</th></tr>\n",
       "\t<tr><th scope=col>&lt;int&gt;</th><th scope=col>&lt;int&gt;</th><th scope=col>&lt;int&gt;</th><th scope=col>&lt;int&gt;</th><th scope=col>&lt;int&gt;</th><th scope=col>&lt;int&gt;</th><th scope=col>&lt;int&gt;</th></tr>\n",
       "</thead>\n",
       "<tbody>\n",
       "\t<tr><td>2</td><td>2</td><td>2</td><td>2</td><td>1</td><td>2</td><td>1</td></tr>\n",
       "\t<tr><td>2</td><td>2</td><td>2</td><td>2</td><td>1</td><td>2</td><td>2</td></tr>\n",
       "\t<tr><td>2</td><td>2</td><td>2</td><td>2</td><td>2</td><td>1</td><td>1</td></tr>\n",
       "\t<tr><td>2</td><td>2</td><td>2</td><td>2</td><td>2</td><td>1</td><td>2</td></tr>\n",
       "\t<tr><td>2</td><td>2</td><td>2</td><td>2</td><td>2</td><td>2</td><td>1</td></tr>\n",
       "\t<tr><td>2</td><td>2</td><td>2</td><td>2</td><td>2</td><td>2</td><td>2</td></tr>\n",
       "</tbody>\n",
       "</table>\n"
      ],
      "text/latex": [
       "A tibble: 6 × 7\n",
       "\\begin{tabular}{lllllll}\n",
       " kelp & herring & dolphin & tuna & sandshark & mako & human\\\\\n",
       " <int> & <int> & <int> & <int> & <int> & <int> & <int>\\\\\n",
       "\\hline\n",
       "\t 2 & 2 & 2 & 2 & 1 & 2 & 1\\\\\n",
       "\t 2 & 2 & 2 & 2 & 1 & 2 & 2\\\\\n",
       "\t 2 & 2 & 2 & 2 & 2 & 1 & 1\\\\\n",
       "\t 2 & 2 & 2 & 2 & 2 & 1 & 2\\\\\n",
       "\t 2 & 2 & 2 & 2 & 2 & 2 & 1\\\\\n",
       "\t 2 & 2 & 2 & 2 & 2 & 2 & 2\\\\\n",
       "\\end{tabular}\n"
      ],
      "text/markdown": [
       "\n",
       "A tibble: 6 × 7\n",
       "\n",
       "| kelp &lt;int&gt; | herring &lt;int&gt; | dolphin &lt;int&gt; | tuna &lt;int&gt; | sandshark &lt;int&gt; | mako &lt;int&gt; | human &lt;int&gt; |\n",
       "|---|---|---|---|---|---|---|\n",
       "| 2 | 2 | 2 | 2 | 1 | 2 | 1 |\n",
       "| 2 | 2 | 2 | 2 | 1 | 2 | 2 |\n",
       "| 2 | 2 | 2 | 2 | 2 | 1 | 1 |\n",
       "| 2 | 2 | 2 | 2 | 2 | 1 | 2 |\n",
       "| 2 | 2 | 2 | 2 | 2 | 2 | 1 |\n",
       "| 2 | 2 | 2 | 2 | 2 | 2 | 2 |\n",
       "\n"
      ],
      "text/plain": [
       "  kelp herring dolphin tuna sandshark mako human\n",
       "1 2    2       2       2    1         2    1    \n",
       "2 2    2       2       2    1         2    2    \n",
       "3 2    2       2       2    2         1    1    \n",
       "4 2    2       2       2    2         1    2    \n",
       "5 2    2       2       2    2         2    1    \n",
       "6 2    2       2       2    2         2    2    "
      ]
     },
     "metadata": {},
     "output_type": "display_data"
    }
   ],
   "source": [
    "speciesnames <- c(\"kelp\", \"herring\", \"dolphin\", \"tuna\", \"sandshark\", \"mako\", \"human\")\n",
    "n <-  length(speciesnames)\n",
    "hs <-  expand_grid(kelp = 1:2, herring = 1:2, dolphin = 1:2, tuna = 1:2, sandshark =1:2, mako = 1:2, human = 1:2)\n",
    "tail(hs)"
   ]
  },
  {
   "cell_type": "markdown",
   "metadata": {
    "deletable": false,
    "editable": false,
    "nbgrader": {
     "cell_type": "markdown",
     "checksum": "ec148190de61fb85237e018ffbbe8779",
     "grade": false,
     "grade_id": "cell-856b3984909fdacd",
     "locked": true,
     "schema_version": 3,
     "solution": false,
     "task": false
    }
   },
   "source": [
    "It will be convenient to \"nest\" the seven columns so that each hypothesis corresponds to a single unit."
   ]
  },
  {
   "cell_type": "code",
   "execution_count": 3,
   "metadata": {
    "deletable": false,
    "editable": false,
    "nbgrader": {
     "cell_type": "code",
     "checksum": "5158a9322666c05cfa7e143ce810532d",
     "grade": false,
     "grade_id": "cell-63b6e94c765688a4",
     "locked": true,
     "schema_version": 3,
     "solution": false,
     "task": false
    }
   },
   "outputs": [
    {
     "data": {
      "text/html": [
       "<table class=\"dataframe\">\n",
       "<caption>A tibble: 6 × 2</caption>\n",
       "<thead>\n",
       "\t<tr><th scope=col>hypnum</th><th scope=col>hyp</th></tr>\n",
       "\t<tr><th scope=col>&lt;int&gt;</th><th scope=col>&lt;list&gt;</th></tr>\n",
       "</thead>\n",
       "<tbody>\n",
       "\t<tr><td>123</td><td>2, 2, 2, 2, 1, 2, 1</td></tr>\n",
       "\t<tr><td>124</td><td>2, 2, 2, 2, 1, 2, 2</td></tr>\n",
       "\t<tr><td>125</td><td>2, 2, 2, 2, 2, 1, 1</td></tr>\n",
       "\t<tr><td>126</td><td>2, 2, 2, 2, 2, 1, 2</td></tr>\n",
       "\t<tr><td>127</td><td>2, 2, 2, 2, 2, 2, 1</td></tr>\n",
       "\t<tr><td>128</td><td>2, 2, 2, 2, 2, 2, 2</td></tr>\n",
       "</tbody>\n",
       "</table>\n"
      ],
      "text/latex": [
       "A tibble: 6 × 2\n",
       "\\begin{tabular}{ll}\n",
       " hypnum & hyp\\\\\n",
       " <int> & <list>\\\\\n",
       "\\hline\n",
       "\t 123 & 2, 2, 2, 2, 1, 2, 1\\\\\n",
       "\t 124 & 2, 2, 2, 2, 1, 2, 2\\\\\n",
       "\t 125 & 2, 2, 2, 2, 2, 1, 1\\\\\n",
       "\t 126 & 2, 2, 2, 2, 2, 1, 2\\\\\n",
       "\t 127 & 2, 2, 2, 2, 2, 2, 1\\\\\n",
       "\t 128 & 2, 2, 2, 2, 2, 2, 2\\\\\n",
       "\\end{tabular}\n"
      ],
      "text/markdown": [
       "\n",
       "A tibble: 6 × 2\n",
       "\n",
       "| hypnum &lt;int&gt; | hyp &lt;list&gt; |\n",
       "|---|---|\n",
       "| 123 | 2, 2, 2, 2, 1, 2, 1 |\n",
       "| 124 | 2, 2, 2, 2, 1, 2, 2 |\n",
       "| 125 | 2, 2, 2, 2, 2, 1, 1 |\n",
       "| 126 | 2, 2, 2, 2, 2, 1, 2 |\n",
       "| 127 | 2, 2, 2, 2, 2, 2, 1 |\n",
       "| 128 | 2, 2, 2, 2, 2, 2, 2 |\n",
       "\n"
      ],
      "text/plain": [
       "  hypnum hyp                \n",
       "1 123    2, 2, 2, 2, 1, 2, 1\n",
       "2 124    2, 2, 2, 2, 1, 2, 2\n",
       "3 125    2, 2, 2, 2, 2, 1, 1\n",
       "4 126    2, 2, 2, 2, 2, 1, 2\n",
       "5 127    2, 2, 2, 2, 2, 2, 1\n",
       "6 128    2, 2, 2, 2, 2, 2, 2"
      ]
     },
     "metadata": {},
     "output_type": "display_data"
    }
   ],
   "source": [
    "hs <- as_tibble(hs) %>% \n",
    "  rowid_to_column(\"hypnum\") %>% \n",
    "  nest(hyp=all_of(speciesnames)) \n",
    "tail(hs)"
   ]
  },
  {
   "cell_type": "markdown",
   "metadata": {
    "deletable": false,
    "editable": false,
    "nbgrader": {
     "cell_type": "markdown",
     "checksum": "781a26b3d7d075c13817d7bab7b7401c",
     "grade": false,
     "grade_id": "cell-03c84b108c402d01",
     "locked": true,
     "points": 1,
     "schema_version": 3,
     "solution": false,
     "task": true
    }
   },
   "source": [
    "## Prior distribution\n",
    "\n",
    "Let's now set up the prior distribution over this hypothesis space. \n",
    "\n",
    "### Question 1 (1 point)\n",
    "\n",
    "In general, how many parameters are needed to specify a prior distribution over a set of 128 events?\n",
    "\n"
   ]
  },
  {
   "cell_type": "markdown",
   "metadata": {
    "deletable": false,
    "nbgrader": {
     "cell_type": "markdown",
     "checksum": "120125ad81fa2516b594459ee9eba0d3",
     "grade": true,
     "grade_id": "cell-c96fd0469a197f1b",
     "locked": false,
     "points": 0,
     "schema_version": 3,
     "solution": true,
     "task": false
    }
   },
   "source": [
    "YOUR ANSWER HERE"
   ]
  },
  {
   "cell_type": "markdown",
   "metadata": {
    "deletable": false,
    "editable": false,
    "nbgrader": {
     "cell_type": "markdown",
     "checksum": "a3ace0c97a1cd26d4ecf42eeb31e3e80",
     "grade": false,
     "grade_id": "cell-b7c9471bc4e36d92",
     "locked": true,
     "schema_version": 3,
     "solution": false,
     "task": false
    }
   },
   "source": [
    "We're going to specify the prior distribution using just two parameters.  We'll assume that each species has probability $b$ of having the disease for reasons unrelated to the foodweb. We'll also assume that if species $A$ carries the disease and if $A$ is eaten by species $B$, then the probability that $A$ transmits the disease to $B$ is $t$. We'll assume that $b = 0.1$ and $t=0.8$. Shafto et al (2008) set $t = 0.5$ but we'll use a value closer to 1 to make the model easier to think about.\n",
    "\n",
    "Making these assumptions about the background and transmission rates allows us to define a Bayes net over the graph shown in Figure 1. The key step is to define CPDs (conditional probability distributions) that indicate how the value for each variable depends on the value of its parents in the graph. Each CPD corresponds to a noisy-OR function with a background cause."
   ]
  },
  {
   "cell_type": "code",
   "execution_count": 4,
   "metadata": {
    "deletable": false,
    "editable": false,
    "nbgrader": {
     "cell_type": "code",
     "checksum": "e248a5d64c3faf1fd72c188b373172a4",
     "grade": false,
     "grade_id": "cell-6a29cc078b452f48",
     "locked": true,
     "schema_version": 3,
     "solution": false,
     "task": false
    }
   },
   "outputs": [],
   "source": [
    "b <- 0.1 # background rate\n",
    "t <- 0.8 # transmission rate\n",
    "\n",
    "# set up noisy-OR CPDs\n",
    "# zerop is for nodes without any parents in the graph (ie kelp)\n",
    "zerop <- c(1-b,b)\n",
    "\n",
    "\n",
    "# onep is for nodes with a single parent in the graph (ie herring, dolphin, tuna, sandshark, human)\n",
    "onep <- array(c( 1-b,\n",
    "                (1-t)*(1-b),\n",
    "                 b,\n",
    "                 1 - (1-t)*(1-b)), dim = c(2,2))\n",
    "\n",
    "\n",
    "# twop is for nodes with two parents (ie mako). As for the CPDs in the week 2 tutorial, we need to make`sure that we get the numbers in the right order\n",
    "\n",
    "twop <-  array(            c( 1-b,\n",
    "                             (1-t)*(1-b),\n",
    "                             (1-t)*(1-b),\n",
    "                             (1-t)*(1-t)*(1-b),\n",
    "                              b,\n",
    "                              1-(1-t)*(1-b),\n",
    "                              1-(1-t)*(1-b),\n",
    "                              1-(1-t)*(1-t)*(1-b)),  dim = c(2,2,2))\n",
    "\n",
    "# now organize these cpds into a list\n",
    "cpds <- list( kelp=zerop, \n",
    "              herring=onep, \n",
    "              dolphin=onep,\n",
    "              tuna=onep,\n",
    "              sandshark=onep,\n",
    "              mako=twop,\n",
    "              human=onep )\n"
   ]
  },
  {
   "cell_type": "markdown",
   "metadata": {
    "deletable": false,
    "editable": false,
    "nbgrader": {
     "cell_type": "markdown",
     "checksum": "ba6373b391c0a60927d9498175e99a6b",
     "grade": false,
     "grade_id": "cell-10fd216749663b95",
     "locked": true,
     "schema_version": 3,
     "solution": false,
     "task": false
    }
   },
   "source": [
    "We can now define the prior. \n",
    "\n",
    "### Question 2 (6 points)\n",
    "\n",
    "The definition here is incomplete -- please fix it up.\n"
   ]
  },
  {
   "cell_type": "code",
   "execution_count": 7,
   "metadata": {
    "deletable": false,
    "nbgrader": {
     "cell_type": "code",
     "checksum": "50ab45d064341d42f67aaeaf851be542",
     "grade": false,
     "grade_id": "cell-d5a4c02ebd0a133f",
     "locked": false,
     "schema_version": 3,
     "solution": true,
     "task": false
    }
   },
   "outputs": [
    {
     "data": {
      "text/html": [
       "<table class=\"dataframe\">\n",
       "<caption>A tibble: 6 × 9</caption>\n",
       "<thead>\n",
       "\t<tr><th scope=col>hypnum</th><th scope=col>kelp</th><th scope=col>herring</th><th scope=col>dolphin</th><th scope=col>tuna</th><th scope=col>sandshark</th><th scope=col>mako</th><th scope=col>human</th><th scope=col>prior</th></tr>\n",
       "\t<tr><th scope=col>&lt;int&gt;</th><th scope=col>&lt;int&gt;</th><th scope=col>&lt;int&gt;</th><th scope=col>&lt;int&gt;</th><th scope=col>&lt;int&gt;</th><th scope=col>&lt;int&gt;</th><th scope=col>&lt;int&gt;</th><th scope=col>&lt;int&gt;</th><th scope=col>&lt;dbl&gt;</th></tr>\n",
       "</thead>\n",
       "<tbody>\n",
       "\t<tr><td>123</td><td>2</td><td>2</td><td>2</td><td>2</td><td>1</td><td>2</td><td>1</td><td>0.0017221208</td></tr>\n",
       "\t<tr><td>124</td><td>2</td><td>2</td><td>2</td><td>2</td><td>1</td><td>2</td><td>2</td><td>0.0078452168</td></tr>\n",
       "\t<tr><td>125</td><td>2</td><td>2</td><td>2</td><td>2</td><td>2</td><td>1</td><td>1</td><td>0.0014648745</td></tr>\n",
       "\t<tr><td>126</td><td>2</td><td>2</td><td>2</td><td>2</td><td>2</td><td>1</td><td>2</td><td>0.0001627638</td></tr>\n",
       "\t<tr><td>127</td><td>2</td><td>2</td><td>2</td><td>2</td><td>2</td><td>2</td><td>1</td><td>0.0078452168</td></tr>\n",
       "\t<tr><td>128</td><td>2</td><td>2</td><td>2</td><td>2</td><td>2</td><td>2</td><td>2</td><td>0.0357393209</td></tr>\n",
       "</tbody>\n",
       "</table>\n"
      ],
      "text/latex": [
       "A tibble: 6 × 9\n",
       "\\begin{tabular}{lllllllll}\n",
       " hypnum & kelp & herring & dolphin & tuna & sandshark & mako & human & prior\\\\\n",
       " <int> & <int> & <int> & <int> & <int> & <int> & <int> & <int> & <dbl>\\\\\n",
       "\\hline\n",
       "\t 123 & 2 & 2 & 2 & 2 & 1 & 2 & 1 & 0.0017221208\\\\\n",
       "\t 124 & 2 & 2 & 2 & 2 & 1 & 2 & 2 & 0.0078452168\\\\\n",
       "\t 125 & 2 & 2 & 2 & 2 & 2 & 1 & 1 & 0.0014648745\\\\\n",
       "\t 126 & 2 & 2 & 2 & 2 & 2 & 1 & 2 & 0.0001627638\\\\\n",
       "\t 127 & 2 & 2 & 2 & 2 & 2 & 2 & 1 & 0.0078452168\\\\\n",
       "\t 128 & 2 & 2 & 2 & 2 & 2 & 2 & 2 & 0.0357393209\\\\\n",
       "\\end{tabular}\n"
      ],
      "text/markdown": [
       "\n",
       "A tibble: 6 × 9\n",
       "\n",
       "| hypnum &lt;int&gt; | kelp &lt;int&gt; | herring &lt;int&gt; | dolphin &lt;int&gt; | tuna &lt;int&gt; | sandshark &lt;int&gt; | mako &lt;int&gt; | human &lt;int&gt; | prior &lt;dbl&gt; |\n",
       "|---|---|---|---|---|---|---|---|---|\n",
       "| 123 | 2 | 2 | 2 | 2 | 1 | 2 | 1 | 0.0017221208 |\n",
       "| 124 | 2 | 2 | 2 | 2 | 1 | 2 | 2 | 0.0078452168 |\n",
       "| 125 | 2 | 2 | 2 | 2 | 2 | 1 | 1 | 0.0014648745 |\n",
       "| 126 | 2 | 2 | 2 | 2 | 2 | 1 | 2 | 0.0001627638 |\n",
       "| 127 | 2 | 2 | 2 | 2 | 2 | 2 | 1 | 0.0078452168 |\n",
       "| 128 | 2 | 2 | 2 | 2 | 2 | 2 | 2 | 0.0357393209 |\n",
       "\n"
      ],
      "text/plain": [
       "  hypnum kelp herring dolphin tuna sandshark mako human prior       \n",
       "1 123    2    2       2       2    1         2    1     0.0017221208\n",
       "2 124    2    2       2       2    1         2    2     0.0078452168\n",
       "3 125    2    2       2       2    2         1    1     0.0014648745\n",
       "4 126    2    2       2       2    2         1    2     0.0001627638\n",
       "5 127    2    2       2       2    2         2    1     0.0078452168\n",
       "6 128    2    2       2       2    2         2    2     0.0357393209"
      ]
     },
     "metadata": {},
     "output_type": "display_data"
    }
   ],
   "source": [
    "# function that computes the probability of hypothesis H, which specifies a value for each species \n",
    "# in the foodweb \n",
    "\n",
    "p_h <- function(h) {\n",
    "  prob = cpds$kelp[h$kelp] *\n",
    "    cpds$herring[h$kelp,h$herring]* \n",
    "    cpds$dolphin[h$herring,h$dolphin] *\n",
    "    cpds$tuna[h$herring,h$tuna] *\n",
    "    cpds$sandshark[h$herring,h$sandshark] *\n",
    "    cpds$mako[h$dolphin,h$tuna,h$mako] *\n",
    "    cpds$human[h$mako,h$human] \n",
    "#     stop('No Answer Given!')\n",
    "\n",
    "  return(prob)\n",
    "}\n",
    "\n",
    "hs <- hs %>% \n",
    "  mutate(prior = map_dbl(hyp, p_h))\n",
    "\n",
    "tail(unnest(hs, cols = c(hyp)))\n"
   ]
  },
  {
   "cell_type": "code",
   "execution_count": 8,
   "metadata": {
    "deletable": false,
    "editable": false,
    "nbgrader": {
     "cell_type": "code",
     "checksum": "e422316c24c4eec9034b6565b6684d04",
     "grade": true,
     "grade_id": "cell-3ed1c7b4fb0767bf",
     "locked": true,
     "points": 6,
     "schema_version": 3,
     "solution": false,
     "task": false
    }
   },
   "outputs": [],
   "source": [
    "expect_equal(sum(hs$prior), 1) \n",
    "\n"
   ]
  },
  {
   "cell_type": "markdown",
   "metadata": {
    "deletable": false,
    "editable": false,
    "nbgrader": {
     "cell_type": "markdown",
     "checksum": "094ce5ec7cb9c86e734a7a5e2733252f",
     "grade": false,
     "grade_id": "cell-fe37833c1a21d9a5",
     "locked": true,
     "schema_version": 3,
     "solution": false,
     "task": false
    }
   },
   "source": [
    "## Observed data\n",
    "\n",
    "The observed data are the premises of the argument --- e.g. we might be told that mako carry a disease but kelp does not,  and asked to decide how probable it is that the other species have the same disease\n"
   ]
  },
  {
   "cell_type": "code",
   "execution_count": 33,
   "metadata": {},
   "outputs": [],
   "source": [
    "# Specify that kelp does not have the disease, but makos do\n",
    "# premises <- list(kelp = 1, mako = 2)\n",
    "premises <- list()"
   ]
  },
  {
   "cell_type": "markdown",
   "metadata": {
    "deletable": false,
    "editable": false,
    "nbgrader": {
     "cell_type": "markdown",
     "checksum": "9f42918bf3d26f1b1a4de1858c06c761",
     "grade": false,
     "grade_id": "cell-903d7ebb4682691c",
     "locked": true,
     "schema_version": 3,
     "solution": false,
     "task": false
    }
   },
   "source": [
    "  \n",
    "\n",
    "## Likelihood function\n",
    "\n",
    "We need to specify the likelihood $P(\\text{premises}|h)$ which captures how probable the premises would be if $h$ were true. Here we'll assume that the premises are generated by going out and measuring whether each species in `premises` has the disease, and that the measurements are perfect and error-free. This means that $P(\\text{premises}|h)$ is 1 if hypothesis $h$ is consistent with the premises and 0 otherwise.\n"
   ]
  },
  {
   "cell_type": "code",
   "execution_count": 34,
   "metadata": {
    "deletable": false,
    "editable": false,
    "nbgrader": {
     "cell_type": "code",
     "checksum": "15f476ceafb0a7de2b421d4b7b6423eb",
     "grade": false,
     "grade_id": "cell-6babbe34fef899f4",
     "locked": true,
     "schema_version": 3,
     "solution": false,
     "task": false
    }
   },
   "outputs": [
    {
     "data": {
      "text/html": [
       "<table class=\"dataframe\">\n",
       "<caption>A tibble: 6 × 11</caption>\n",
       "<thead>\n",
       "\t<tr><th scope=col>hypnum</th><th scope=col>kelp</th><th scope=col>herring</th><th scope=col>dolphin</th><th scope=col>tuna</th><th scope=col>sandshark</th><th scope=col>mako</th><th scope=col>human</th><th scope=col>prior</th><th scope=col>likelihood</th><th scope=col>posterior</th></tr>\n",
       "\t<tr><th scope=col>&lt;int&gt;</th><th scope=col>&lt;int&gt;</th><th scope=col>&lt;int&gt;</th><th scope=col>&lt;int&gt;</th><th scope=col>&lt;int&gt;</th><th scope=col>&lt;int&gt;</th><th scope=col>&lt;int&gt;</th><th scope=col>&lt;int&gt;</th><th scope=col>&lt;dbl&gt;</th><th scope=col>&lt;dbl&gt;</th><th scope=col>&lt;dbl&gt;</th></tr>\n",
       "</thead>\n",
       "<tbody>\n",
       "\t<tr><td>123</td><td>2</td><td>2</td><td>2</td><td>2</td><td>1</td><td>2</td><td>1</td><td>0.0017221208</td><td>1</td><td>0.0000000000</td></tr>\n",
       "\t<tr><td>124</td><td>2</td><td>2</td><td>2</td><td>2</td><td>1</td><td>2</td><td>2</td><td>0.0078452168</td><td>1</td><td>0.0222445814</td></tr>\n",
       "\t<tr><td>125</td><td>2</td><td>2</td><td>2</td><td>2</td><td>2</td><td>1</td><td>1</td><td>0.0014648745</td><td>1</td><td>0.0000000000</td></tr>\n",
       "\t<tr><td>126</td><td>2</td><td>2</td><td>2</td><td>2</td><td>2</td><td>1</td><td>2</td><td>0.0001627638</td><td>1</td><td>0.0004615058</td></tr>\n",
       "\t<tr><td>127</td><td>2</td><td>2</td><td>2</td><td>2</td><td>2</td><td>2</td><td>1</td><td>0.0078452168</td><td>1</td><td>0.0000000000</td></tr>\n",
       "\t<tr><td>128</td><td>2</td><td>2</td><td>2</td><td>2</td><td>2</td><td>2</td><td>2</td><td>0.0357393209</td><td>1</td><td>0.1013364265</td></tr>\n",
       "</tbody>\n",
       "</table>\n"
      ],
      "text/latex": [
       "A tibble: 6 × 11\n",
       "\\begin{tabular}{lllllllllll}\n",
       " hypnum & kelp & herring & dolphin & tuna & sandshark & mako & human & prior & likelihood & posterior\\\\\n",
       " <int> & <int> & <int> & <int> & <int> & <int> & <int> & <int> & <dbl> & <dbl> & <dbl>\\\\\n",
       "\\hline\n",
       "\t 123 & 2 & 2 & 2 & 2 & 1 & 2 & 1 & 0.0017221208 & 1 & 0.0000000000\\\\\n",
       "\t 124 & 2 & 2 & 2 & 2 & 1 & 2 & 2 & 0.0078452168 & 1 & 0.0222445814\\\\\n",
       "\t 125 & 2 & 2 & 2 & 2 & 2 & 1 & 1 & 0.0014648745 & 1 & 0.0000000000\\\\\n",
       "\t 126 & 2 & 2 & 2 & 2 & 2 & 1 & 2 & 0.0001627638 & 1 & 0.0004615058\\\\\n",
       "\t 127 & 2 & 2 & 2 & 2 & 2 & 2 & 1 & 0.0078452168 & 1 & 0.0000000000\\\\\n",
       "\t 128 & 2 & 2 & 2 & 2 & 2 & 2 & 2 & 0.0357393209 & 1 & 0.1013364265\\\\\n",
       "\\end{tabular}\n"
      ],
      "text/markdown": [
       "\n",
       "A tibble: 6 × 11\n",
       "\n",
       "| hypnum &lt;int&gt; | kelp &lt;int&gt; | herring &lt;int&gt; | dolphin &lt;int&gt; | tuna &lt;int&gt; | sandshark &lt;int&gt; | mako &lt;int&gt; | human &lt;int&gt; | prior &lt;dbl&gt; | likelihood &lt;dbl&gt; | posterior &lt;dbl&gt; |\n",
       "|---|---|---|---|---|---|---|---|---|---|---|\n",
       "| 123 | 2 | 2 | 2 | 2 | 1 | 2 | 1 | 0.0017221208 | 1 | 0.0000000000 |\n",
       "| 124 | 2 | 2 | 2 | 2 | 1 | 2 | 2 | 0.0078452168 | 1 | 0.0222445814 |\n",
       "| 125 | 2 | 2 | 2 | 2 | 2 | 1 | 1 | 0.0014648745 | 1 | 0.0000000000 |\n",
       "| 126 | 2 | 2 | 2 | 2 | 2 | 1 | 2 | 0.0001627638 | 1 | 0.0004615058 |\n",
       "| 127 | 2 | 2 | 2 | 2 | 2 | 2 | 1 | 0.0078452168 | 1 | 0.0000000000 |\n",
       "| 128 | 2 | 2 | 2 | 2 | 2 | 2 | 2 | 0.0357393209 | 1 | 0.1013364265 |\n",
       "\n"
      ],
      "text/plain": [
       "  hypnum kelp herring dolphin tuna sandshark mako human prior        likelihood\n",
       "1 123    2    2       2       2    1         2    1     0.0017221208 1         \n",
       "2 124    2    2       2       2    1         2    2     0.0078452168 1         \n",
       "3 125    2    2       2       2    2         1    1     0.0014648745 1         \n",
       "4 126    2    2       2       2    2         1    2     0.0001627638 1         \n",
       "5 127    2    2       2       2    2         2    1     0.0078452168 1         \n",
       "6 128    2    2       2       2    2         2    2     0.0357393209 1         \n",
       "  posterior   \n",
       "1 0.0000000000\n",
       "2 0.0222445814\n",
       "3 0.0000000000\n",
       "4 0.0004615058\n",
       "5 0.0000000000\n",
       "6 0.1013364265"
      ]
     },
     "metadata": {},
     "output_type": "display_data"
    }
   ],
   "source": [
    "# Compute likelihood p(premises|h) \n",
    "p_premises_given_h <- function(h, premises) {\n",
    "  likelihood <- 1\n",
    "  for (l in labels(premises)) {\n",
    "    if (premises[l] != h[l]) {\n",
    "      likelihood <-  0\n",
    "    }\n",
    "  }\n",
    "  return(likelihood)\n",
    "}\n",
    "\n",
    "hs <- hs %>% \n",
    "  mutate(likelihood= map_dbl(hyp, p_premises_given_h, premises))\n",
    "\n",
    "tail(unnest(hs, cols=c(hyp)))\n"
   ]
  },
  {
   "cell_type": "markdown",
   "metadata": {
    "deletable": false,
    "editable": false,
    "nbgrader": {
     "cell_type": "markdown",
     "checksum": "0a9816ba5bbbc9dbc7cdf400a5cbded4",
     "grade": false,
     "grade_id": "cell-b4b0c66ad4e3b3c1",
     "locked": true,
     "schema_version": 3,
     "solution": false,
     "task": false
    }
   },
   "source": [
    "## Compute posterior \n",
    "\n",
    "Now we can combine the prior and likelihood to compute the posterior.\n"
   ]
  },
  {
   "cell_type": "code",
   "execution_count": 35,
   "metadata": {
    "deletable": false,
    "editable": false,
    "nbgrader": {
     "cell_type": "code",
     "checksum": "3f40ef2d486d03257a74bf8e1460fb4e",
     "grade": false,
     "grade_id": "cell-23b186b6c6ee0a60",
     "locked": true,
     "schema_version": 3,
     "solution": false,
     "task": false
    }
   },
   "outputs": [
    {
     "data": {
      "text/html": [
       "<table class=\"dataframe\">\n",
       "<caption>A tibble: 6 × 11</caption>\n",
       "<thead>\n",
       "\t<tr><th scope=col>hypnum</th><th scope=col>kelp</th><th scope=col>herring</th><th scope=col>dolphin</th><th scope=col>tuna</th><th scope=col>sandshark</th><th scope=col>mako</th><th scope=col>human</th><th scope=col>prior</th><th scope=col>likelihood</th><th scope=col>posterior</th></tr>\n",
       "\t<tr><th scope=col>&lt;int&gt;</th><th scope=col>&lt;int&gt;</th><th scope=col>&lt;int&gt;</th><th scope=col>&lt;int&gt;</th><th scope=col>&lt;int&gt;</th><th scope=col>&lt;int&gt;</th><th scope=col>&lt;int&gt;</th><th scope=col>&lt;int&gt;</th><th scope=col>&lt;dbl&gt;</th><th scope=col>&lt;dbl&gt;</th><th scope=col>&lt;dbl&gt;</th></tr>\n",
       "</thead>\n",
       "<tbody>\n",
       "\t<tr><td>123</td><td>2</td><td>2</td><td>2</td><td>2</td><td>1</td><td>2</td><td>1</td><td>0.0017221208</td><td>1</td><td>0.0017221208</td></tr>\n",
       "\t<tr><td>124</td><td>2</td><td>2</td><td>2</td><td>2</td><td>1</td><td>2</td><td>2</td><td>0.0078452168</td><td>1</td><td>0.0078452168</td></tr>\n",
       "\t<tr><td>125</td><td>2</td><td>2</td><td>2</td><td>2</td><td>2</td><td>1</td><td>1</td><td>0.0014648745</td><td>1</td><td>0.0014648745</td></tr>\n",
       "\t<tr><td>126</td><td>2</td><td>2</td><td>2</td><td>2</td><td>2</td><td>1</td><td>2</td><td>0.0001627638</td><td>1</td><td>0.0001627638</td></tr>\n",
       "\t<tr><td>127</td><td>2</td><td>2</td><td>2</td><td>2</td><td>2</td><td>2</td><td>1</td><td>0.0078452168</td><td>1</td><td>0.0078452168</td></tr>\n",
       "\t<tr><td>128</td><td>2</td><td>2</td><td>2</td><td>2</td><td>2</td><td>2</td><td>2</td><td>0.0357393209</td><td>1</td><td>0.0357393209</td></tr>\n",
       "</tbody>\n",
       "</table>\n"
      ],
      "text/latex": [
       "A tibble: 6 × 11\n",
       "\\begin{tabular}{lllllllllll}\n",
       " hypnum & kelp & herring & dolphin & tuna & sandshark & mako & human & prior & likelihood & posterior\\\\\n",
       " <int> & <int> & <int> & <int> & <int> & <int> & <int> & <int> & <dbl> & <dbl> & <dbl>\\\\\n",
       "\\hline\n",
       "\t 123 & 2 & 2 & 2 & 2 & 1 & 2 & 1 & 0.0017221208 & 1 & 0.0017221208\\\\\n",
       "\t 124 & 2 & 2 & 2 & 2 & 1 & 2 & 2 & 0.0078452168 & 1 & 0.0078452168\\\\\n",
       "\t 125 & 2 & 2 & 2 & 2 & 2 & 1 & 1 & 0.0014648745 & 1 & 0.0014648745\\\\\n",
       "\t 126 & 2 & 2 & 2 & 2 & 2 & 1 & 2 & 0.0001627638 & 1 & 0.0001627638\\\\\n",
       "\t 127 & 2 & 2 & 2 & 2 & 2 & 2 & 1 & 0.0078452168 & 1 & 0.0078452168\\\\\n",
       "\t 128 & 2 & 2 & 2 & 2 & 2 & 2 & 2 & 0.0357393209 & 1 & 0.0357393209\\\\\n",
       "\\end{tabular}\n"
      ],
      "text/markdown": [
       "\n",
       "A tibble: 6 × 11\n",
       "\n",
       "| hypnum &lt;int&gt; | kelp &lt;int&gt; | herring &lt;int&gt; | dolphin &lt;int&gt; | tuna &lt;int&gt; | sandshark &lt;int&gt; | mako &lt;int&gt; | human &lt;int&gt; | prior &lt;dbl&gt; | likelihood &lt;dbl&gt; | posterior &lt;dbl&gt; |\n",
       "|---|---|---|---|---|---|---|---|---|---|---|\n",
       "| 123 | 2 | 2 | 2 | 2 | 1 | 2 | 1 | 0.0017221208 | 1 | 0.0017221208 |\n",
       "| 124 | 2 | 2 | 2 | 2 | 1 | 2 | 2 | 0.0078452168 | 1 | 0.0078452168 |\n",
       "| 125 | 2 | 2 | 2 | 2 | 2 | 1 | 1 | 0.0014648745 | 1 | 0.0014648745 |\n",
       "| 126 | 2 | 2 | 2 | 2 | 2 | 1 | 2 | 0.0001627638 | 1 | 0.0001627638 |\n",
       "| 127 | 2 | 2 | 2 | 2 | 2 | 2 | 1 | 0.0078452168 | 1 | 0.0078452168 |\n",
       "| 128 | 2 | 2 | 2 | 2 | 2 | 2 | 2 | 0.0357393209 | 1 | 0.0357393209 |\n",
       "\n"
      ],
      "text/plain": [
       "  hypnum kelp herring dolphin tuna sandshark mako human prior        likelihood\n",
       "1 123    2    2       2       2    1         2    1     0.0017221208 1         \n",
       "2 124    2    2       2       2    1         2    2     0.0078452168 1         \n",
       "3 125    2    2       2       2    2         1    1     0.0014648745 1         \n",
       "4 126    2    2       2       2    2         1    2     0.0001627638 1         \n",
       "5 127    2    2       2       2    2         2    1     0.0078452168 1         \n",
       "6 128    2    2       2       2    2         2    2     0.0357393209 1         \n",
       "  posterior   \n",
       "1 0.0017221208\n",
       "2 0.0078452168\n",
       "3 0.0014648745\n",
       "4 0.0001627638\n",
       "5 0.0078452168\n",
       "6 0.0357393209"
      ]
     },
     "metadata": {},
     "output_type": "display_data"
    }
   ],
   "source": [
    "# compute posterior\n",
    "hs <- hs %>% \n",
    "  # first compute an unnormalized posterior ...\n",
    "  mutate(posterior = prior*likelihood) %>% \n",
    "  # then normalize so that it sums to 1\n",
    "  mutate(posterior = posterior / sum(posterior))\n",
    "tail(unnest(hs, cols = c(hyp)))\n"
   ]
  },
  {
   "cell_type": "markdown",
   "metadata": {
    "deletable": false,
    "editable": false,
    "nbgrader": {
     "cell_type": "markdown",
     "checksum": "eba4fa422d963c27631cbe9288487f51",
     "grade": false,
     "grade_id": "cell-06d8216c23865353",
     "locked": true,
     "schema_version": 3,
     "solution": false,
     "task": false
    }
   },
   "source": [
    "## Predictions about other species\n",
    "\n",
    "We can now use the posterior distribution to answer questions about other species in the foodweb -- e.g. how probable is it that tuna carry the disease given what we've observed?\n"
   ]
  },
  {
   "cell_type": "code",
   "execution_count": 36,
   "metadata": {
    "deletable": false,
    "editable": false,
    "nbgrader": {
     "cell_type": "code",
     "checksum": "ba917e98df203cd284a16fdc32a7020c",
     "grade": false,
     "grade_id": "cell-0537b6f0177b52f9",
     "locked": true,
     "schema_version": 3,
     "solution": false,
     "task": false
    }
   },
   "outputs": [
    {
     "name": "stdout",
     "output_type": "stream",
     "text": [
      "\u001b[90m# A tibble: 1 x 7\u001b[39m\n",
      "   kelp herring dolphin  tuna sandshark  mako human\n",
      "  \u001b[3m\u001b[90m<dbl>\u001b[39m\u001b[23m   \u001b[3m\u001b[90m<dbl>\u001b[39m\u001b[23m   \u001b[3m\u001b[90m<dbl>\u001b[39m\u001b[23m \u001b[3m\u001b[90m<dbl>\u001b[39m\u001b[23m     \u001b[3m\u001b[90m<dbl>\u001b[39m\u001b[23m \u001b[3m\u001b[90m<dbl>\u001b[39m\u001b[23m \u001b[3m\u001b[90m<dbl>\u001b[39m\u001b[23m\n",
      "\u001b[90m1\u001b[39m   0.1   0.172   0.224 0.224     0.224 0.351 0.353\n"
     ]
    }
   ],
   "source": [
    "# compute posterior predictive distribution: ie generalizations for each species in the foodweb\n",
    "\n",
    "uhs <- unnest(hs, cols=c(hyp))\n",
    "\n",
    "genlist <-list()\n",
    "for( animalname in speciesnames ) {\n",
    "    animalprob <- uhs %>% \n",
    "      # we need !!ensym() here because animalname is a variable instead of a column name \n",
    "      filter(!!ensym(animalname) == 2) %>% \n",
    "      summarize(aprob=sum(posterior)) %>% \n",
    "      pull()\n",
    "    genlist[[animalname]] <- animalprob\n",
    "}\n",
    "gen <- as_tibble(genlist)\n",
    "print(gen)\n"
   ]
  },
  {
   "cell_type": "markdown",
   "metadata": {
    "deletable": false,
    "editable": false,
    "nbgrader": {
     "cell_type": "markdown",
     "checksum": "1fb68388737f1c31f6b2b7e30de9b948",
     "grade": false,
     "grade_id": "cell-995b1c669079827a",
     "locked": true,
     "schema_version": 3,
     "solution": false,
     "task": false
    }
   },
   "source": [
    "Now plot the predictions.\n",
    "\n"
   ]
  },
  {
   "cell_type": "code",
   "execution_count": 37,
   "metadata": {
    "deletable": false,
    "editable": false,
    "nbgrader": {
     "cell_type": "code",
     "checksum": "26f3c04eb51c0ed1d4efca2a424f857f",
     "grade": false,
     "grade_id": "cell-761c0b0cf0291500",
     "locked": true,
     "schema_version": 3,
     "solution": false,
     "task": false
    }
   },
   "outputs": [
    {
     "data": {
      "image/png": "[encoded data removed]",
      "text/plain": [
       "plot without title"
      ]
     },
     "metadata": {
      "image/png": {
       "height": 420,
       "width": 420
      }
     },
     "output_type": "display_data"
    }
   ],
   "source": [
    "makeplot <- function(gen, plotname) {\n",
    "    genplot <- gather(gen) %>% \n",
    "       mutate(species = factor(key, levels=speciesnames), gen=value) \n",
    "\n",
    "    pic <- genplot %>%\n",
    "       ggplot(aes(x=species, y=value)) +\n",
    "       scale_y_continuous(lim=c(0,1)) +  \n",
    "       geom_col() + \n",
    "       theme(axis.text.x = element_text(angle = 90, hjust = 1, vjust = 0.5)) +\n",
    "       xlab(\"species\") +\n",
    "       ylab(\"prob of having disease\") \n",
    "\n",
    "    plot(pic)\n",
    "}  \n",
    "\n",
    "# plot generalizations across the food web \n",
    "makeplot(gen[1:n])\n"
   ]
  },
  {
   "cell_type": "markdown",
   "metadata": {
    "deletable": false,
    "editable": false,
    "nbgrader": {
     "cell_type": "markdown",
     "checksum": "2e95feb41212a425deaac1eb240cf367",
     "grade": false,
     "grade_id": "cell-3f5e7d78a50ced9e",
     "locked": true,
     "points": 3,
     "schema_version": 3,
     "solution": false,
     "task": true
    }
   },
   "source": [
    "Given that mako have the disease but kelp do not, we see that humans are the species next most likely to have the disease.\n",
    "\n",
    "### Question 3 (3 points)\n",
    "\n",
    "Set the premise vector to an empty list: i.e. `premises <- list()`.  Run the notebook again to see what happens. You should see that humans are more likely to have the disease than kelp ---  why? \n"
   ]
  },
  {
   "cell_type": "markdown",
   "metadata": {
    "deletable": false,
    "nbgrader": {
     "cell_type": "markdown",
     "checksum": "06951faa81855905737c3b26db5bd611",
     "grade": true,
     "grade_id": "cell-7ec1195aa6b6300d",
     "locked": false,
     "points": 0,
     "schema_version": 3,
     "solution": true,
     "task": false
    }
   },
   "source": [
    "YOUR ANSWER HERE"
   ]
  },
  {
   "cell_type": "markdown",
   "metadata": {
    "deletable": false,
    "editable": false,
    "nbgrader": {
     "cell_type": "markdown",
     "checksum": "5af75e85ad54972a0bbc6ba0f61a4d1d",
     "grade": false,
     "grade_id": "cell-b696f38f7503b524",
     "locked": true,
     "schema_version": 3,
     "solution": false,
     "task": false
    }
   },
   "source": [
    "## Reasoning task \n",
    "\n",
    "We'll now apply the model to an experimental task used by Shafto et al (2008). These researchers first trained participants on the structure of the food web in Figure 1. They then asked participants to rate the strength of 42 single-premise arguments.  One such argument is \"Herring have a disease. How likely is it that Mako have the same disease?\" We can write this argument as Herring -> Mako. The set of 42 included all such arguments where the premise species (Herring in the example just given) was different from the conclusion species. Ratings were provided on a seven point scale.  \n",
    "\n",
    "First let's define a function for evaluating the strength of an argument:"
   ]
  },
  {
   "cell_type": "code",
   "execution_count": null,
   "metadata": {
    "deletable": false,
    "editable": false,
    "nbgrader": {
     "cell_type": "code",
     "checksum": "51ff3f074ac2dc687863a763be921edf",
     "grade": false,
     "grade_id": "cell-51ca43f7f88e554c",
     "locked": true,
     "schema_version": 3,
     "solution": false,
     "task": false
    }
   },
   "outputs": [],
   "source": [
    "# compute P(conclusion_animal=2 | premise_animal=2) using the prior and likelihood in hs\n",
    "rate_arg <- function(premise_animal, conclusion_animal, hs) {\n",
    "  premises <- list()\n",
    "  premises[[premise_animal]] <- 2\n",
    "  \n",
    "  arg_hs <- hs %>% \n",
    "    mutate(likelihood= map_dbl(hyp, p_premises_given_h, premises)) %>% \n",
    "    mutate(posterior = prior*likelihood) %>% \n",
    "    # normalise the posterior so that it sums to 1\n",
    "    mutate(posterior = posterior / sum(posterior))\n",
    "  \n",
    "  conclusionprob <- arg_hs %>% \n",
    "    unnest(cols = c(hyp)) %>% \n",
    "    filter(!!ensym(conclusion_animal) == 2) %>% \n",
    "    summarize(cprob = sum(posterior)) %>% \n",
    "    pull()\n",
    "}\n"
   ]
  },
  {
   "cell_type": "markdown",
   "metadata": {
    "deletable": false,
    "editable": false,
    "nbgrader": {
     "cell_type": "markdown",
     "checksum": "ec07383f304f5eab3419d9061cddc8c6",
     "grade": false,
     "grade_id": "cell-56a4112c17381ac2",
     "locked": true,
     "schema_version": 3,
     "solution": false,
     "task": false
    }
   },
   "source": [
    "Now read in a datafile that specifies the 42 arguments and includes the average human rating for each argument. We'll apply the model to each argument and plot human ratings against model predictions.\n",
    "\n",
    "The human data here are very similar but perhaps not identical to the data used to generate the leftmost panel of Fig 9 of the Shafto et al paper. The differences are minor -- e.g. for the paper, a handful of people may have been dropped for using the rating scale backwards."
   ]
  },
  {
   "cell_type": "code",
   "execution_count": null,
   "metadata": {},
   "outputs": [],
   "source": [
    "# now use model to rate all one premise arguments\n",
    "onepremargs <- read_csv(\"data_foodwebarguments.csv\", col_types=\"ccd\") %>% \n",
    "  mutate(model = map2_dbl(premise, conclusion, rate_arg, hs))\n",
    "\n",
    "humanmodelplot <- onepremargs %>% \n",
    "  ggplot(aes(x=model, y = human)) +\n",
    "  geom_point() +\n",
    "  geom_smooth(method = \"lm\") +\n",
    "  stat_cor(aes(label=..r.label..), method = \"pearson\") +\n",
    "  theme(aspect.ratio=1)\n",
    "\n",
    "print(humanmodelplot)\n"
   ]
  },
  {
   "cell_type": "markdown",
   "metadata": {
    "deletable": false,
    "editable": false,
    "nbgrader": {
     "cell_type": "markdown",
     "checksum": "2988f0f41cc565faf20c689ca9a4dfd5",
     "grade": false,
     "grade_id": "cell-86061f7b7a527501",
     "locked": true,
     "points": 2,
     "schema_version": 3,
     "solution": false,
     "task": true
    }
   },
   "source": [
    "Each point corresponds to an argument. We've added a regression line to guide the eye and also included a correlation coefficient. You should see that there is a reasonably good correlation between human ratings and model predictions. In other words, arguments rated as strong by people tend to be given high probabilities according to the model.\n",
    "\n",
    "### Question 4 (2 points)\n",
    "\n",
    "Inspect the table that includes model predictions (`onepremargs`) and identify the argument that is strongest according to the model. If two or more arguments are equally strong, just pick one of them. What is the strongest argument? \n"
   ]
  },
  {
   "cell_type": "markdown",
   "metadata": {
    "deletable": false,
    "nbgrader": {
     "cell_type": "markdown",
     "checksum": "67c57ace055a216dd3646bfb40036030",
     "grade": true,
     "grade_id": "cell-81d2d8a2c9a6c872",
     "locked": false,
     "points": 0,
     "schema_version": 3,
     "solution": true,
     "task": false
    }
   },
   "source": [
    "YOUR ANSWER HERE"
   ]
  },
  {
   "cell_type": "markdown",
   "metadata": {
    "deletable": false,
    "editable": false,
    "nbgrader": {
     "cell_type": "markdown",
     "checksum": "bb20b8d1640894ca8531702dc4e5296b",
     "grade": false,
     "grade_id": "cell-80d01a33b37a9a40",
     "locked": true,
     "points": 3,
     "schema_version": 3,
     "solution": false,
     "task": true
    }
   },
   "source": [
    "### Question 5 (3 points)\n",
    "Explain why this argument is strong according to the model.\n"
   ]
  },
  {
   "cell_type": "markdown",
   "metadata": {
    "deletable": false,
    "nbgrader": {
     "cell_type": "markdown",
     "checksum": "75261ff0012b0855323a68400ab974c8",
     "grade": true,
     "grade_id": "cell-f1c60aac0836da6f",
     "locked": false,
     "points": 0,
     "schema_version": 3,
     "solution": true,
     "task": false
    }
   },
   "source": [
    "YOUR ANSWER HERE"
   ]
  },
  {
   "cell_type": "markdown",
   "metadata": {
    "deletable": false,
    "editable": false,
    "nbgrader": {
     "cell_type": "markdown",
     "checksum": "38a29f9e7c4c337b513f5639e6cbe031",
     "grade": false,
     "grade_id": "cell-58da5b582a7cba21",
     "locked": true,
     "points": 2,
     "schema_version": 3,
     "solution": false,
     "task": true
    }
   },
   "source": [
    "### Question 6 (2 points)\n",
    "\n",
    "Identify the argument that is weakest according to the model  (if two or more arguments are equally strong, just pick one of them). What is the weakest argument? \n",
    "\n"
   ]
  },
  {
   "cell_type": "markdown",
   "metadata": {
    "deletable": false,
    "nbgrader": {
     "cell_type": "markdown",
     "checksum": "bf412ea05466c01a8b211e09f0c46080",
     "grade": true,
     "grade_id": "cell-0ae0fd10c283c087",
     "locked": false,
     "points": 0,
     "schema_version": 3,
     "solution": true,
     "task": false
    }
   },
   "source": [
    "YOUR ANSWER HERE"
   ]
  },
  {
   "cell_type": "markdown",
   "metadata": {
    "deletable": false,
    "editable": false,
    "nbgrader": {
     "cell_type": "markdown",
     "checksum": "72b5a414786bdfebf2be82ea14ce7091",
     "grade": false,
     "grade_id": "cell-a0550070f7786da0",
     "locked": true,
     "points": 3,
     "schema_version": 3,
     "solution": false,
     "task": true
    }
   },
   "source": [
    "### Question 7 (3 points)\n",
    "\n",
    "Explain why this argument is weak according to the model.\n"
   ]
  },
  {
   "cell_type": "markdown",
   "metadata": {
    "deletable": false,
    "nbgrader": {
     "cell_type": "markdown",
     "checksum": "8a101d830a3468aff2d5373cb4b49a2b",
     "grade": true,
     "grade_id": "cell-d5a1df00160b3e11",
     "locked": false,
     "points": 0,
     "schema_version": 3,
     "solution": true,
     "task": false
    }
   },
   "source": [
    "YOUR ANSWER HERE"
   ]
  },
  {
   "cell_type": "markdown",
   "metadata": {
    "deletable": false,
    "editable": false,
    "nbgrader": {
     "cell_type": "markdown",
     "checksum": "637913a501abdee7cfd0c2ccaeba0aa8",
     "grade": false,
     "grade_id": "cell-1fd85107db48a95f",
     "locked": true,
     "points": 2,
     "schema_version": 3,
     "solution": false,
     "task": true
    }
   },
   "source": [
    "Causal asymmetry is the phenomenon that generalizations up the food chain (e.g. kelp -> herring tend to be stronger than generalizations in the opposite direction (herring -> kelp). \n",
    "\n",
    "### Question 8 (2 points)\n",
    "\n",
    "What are the probabilities P(herring=2|kelp=2) and P(kelp=2|herring= 2) according to the model? \n"
   ]
  },
  {
   "cell_type": "markdown",
   "metadata": {
    "deletable": false,
    "nbgrader": {
     "cell_type": "markdown",
     "checksum": "b96bf211959efa91c8bd31723c9e58c1",
     "grade": true,
     "grade_id": "cell-daf3e6e0b4176060",
     "locked": false,
     "points": 0,
     "schema_version": 3,
     "solution": true,
     "task": false
    }
   },
   "source": [
    "YOUR ANSWER HERE"
   ]
  },
  {
   "cell_type": "markdown",
   "metadata": {
    "deletable": false,
    "editable": false,
    "nbgrader": {
     "cell_type": "markdown",
     "checksum": "81065ad305d7137c8b384bad931c69dc",
     "grade": false,
     "grade_id": "cell-b5247efebf568b75",
     "locked": true,
     "points": 3,
     "schema_version": 3,
     "solution": false,
     "task": true
    }
   },
   "source": [
    "### Question 9 (3 points)\n",
    "\n",
    "Explain why the model predicts that kelp -> herring is stronger than herring -> kelp\n"
   ]
  },
  {
   "cell_type": "markdown",
   "metadata": {
    "deletable": false,
    "nbgrader": {
     "cell_type": "markdown",
     "checksum": "6de25d865963de04d43084466e19a8fd",
     "grade": true,
     "grade_id": "cell-8d97ad074e93877f",
     "locked": false,
     "points": 0,
     "schema_version": 3,
     "solution": true,
     "task": false
    }
   },
   "source": [
    "YOUR ANSWER HERE"
   ]
  },
  {
   "cell_type": "markdown",
   "metadata": {
    "deletable": false,
    "editable": false,
    "nbgrader": {
     "cell_type": "markdown",
     "checksum": "90da3de18b97afcf8aea3df6caee5882",
     "grade": false,
     "grade_id": "cell-3446c84cec3b39b8",
     "locked": true,
     "points": 2,
     "schema_version": 3,
     "solution": false,
     "task": true
    }
   },
   "source": [
    "Causal distance is the phenomenon that generalizations tend to decrease with increasing distance in the food chain. \n",
    "\n",
    "### Question 10 (2 points)\n",
    "\n",
    "What are the probabilities P(herring=2|kelp=2) and P(tuna= 2|kelp=2) according to the model?\n"
   ]
  },
  {
   "cell_type": "markdown",
   "metadata": {
    "deletable": false,
    "nbgrader": {
     "cell_type": "markdown",
     "checksum": "339d276984c367f26690eaba941ced1c",
     "grade": true,
     "grade_id": "cell-e87d1c2287360bb1",
     "locked": false,
     "points": 0,
     "schema_version": 3,
     "solution": true,
     "task": false
    }
   },
   "source": [
    "YOUR ANSWER HERE"
   ]
  },
  {
   "cell_type": "markdown",
   "metadata": {
    "deletable": false,
    "editable": false,
    "nbgrader": {
     "cell_type": "markdown",
     "checksum": "ad2867bd8282a6cd5f4f59a953678cc7",
     "grade": false,
     "grade_id": "cell-811f8004fde0c162",
     "locked": true,
     "points": 3,
     "schema_version": 3,
     "solution": false,
     "task": true
    }
   },
   "source": [
    "### Question 11 (3 points)\n",
    "\n",
    "Explain why the model predicts that  kelp -> herring is stronger than kelp -> tuna.\n"
   ]
  },
  {
   "cell_type": "markdown",
   "metadata": {
    "deletable": false,
    "nbgrader": {
     "cell_type": "markdown",
     "checksum": "61f0c0a24ec9d500e037a29a2c9d37c5",
     "grade": true,
     "grade_id": "cell-e325efce2b4e902c",
     "locked": false,
     "points": 0,
     "schema_version": 3,
     "solution": true,
     "task": false
    }
   },
   "source": [
    "YOUR ANSWER HERE"
   ]
  },
  {
   "cell_type": "markdown",
   "metadata": {
    "deletable": false,
    "editable": false,
    "nbgrader": {
     "cell_type": "markdown",
     "checksum": "9663edd06a80e13a4913dda8061ce62a",
     "grade": false,
     "grade_id": "cell-f12cd82457ad11c9",
     "locked": true,
     "schema_version": 3,
     "solution": false,
     "task": false
    }
   },
   "source": [
    "We'll now identify the arguments that lie furthest from the regression line, and are therefore least well captured by the model. We'll add a column `diff` that shows the vertical difference between the human rating and the corresponding point on the regression line. The variable `diff` will be positive for arguments that lie above the regression line in the scatterplot that you created."
   ]
  },
  {
   "cell_type": "code",
   "execution_count": null,
   "metadata": {
    "deletable": false,
    "editable": false,
    "nbgrader": {
     "cell_type": "code",
     "checksum": "f609f2ed396560cad0dde2b125f9a89b",
     "grade": false,
     "grade_id": "cell-8062285315159d8a",
     "locked": true,
     "schema_version": 3,
     "solution": false,
     "task": false
    }
   },
   "outputs": [],
   "source": [
    "linearfit <- lm(human ~ model, data = onepremargs)\n",
    "\n",
    "onepremargs_withfit <- onepremargs %>% \n",
    "  add_predictions(linearfit) %>% \n",
    "  mutate(diff = human - pred)\n"
   ]
  },
  {
   "cell_type": "markdown",
   "metadata": {
    "deletable": false,
    "editable": false,
    "nbgrader": {
     "cell_type": "markdown",
     "checksum": "f3f0b0290a0e764e94e212f49f9dc363",
     "grade": false,
     "grade_id": "cell-ab183fbacf6c72ea",
     "locked": true,
     "points": 2,
     "schema_version": 3,
     "solution": false,
     "task": true
    }
   },
   "source": [
    "### Question 12 (2 points)\n",
    "\n",
    "What is the argument that lies at the greatest vertical distance above the regression line? \n"
   ]
  },
  {
   "cell_type": "markdown",
   "metadata": {
    "deletable": false,
    "nbgrader": {
     "cell_type": "markdown",
     "checksum": "5501d776e31f3060e8b9cbdc05183060",
     "grade": true,
     "grade_id": "cell-3283a613f2e2992b",
     "locked": false,
     "points": 0,
     "schema_version": 3,
     "solution": true,
     "task": false
    }
   },
   "source": [
    "YOUR ANSWER HERE"
   ]
  },
  {
   "cell_type": "markdown",
   "metadata": {
    "deletable": false,
    "editable": false,
    "nbgrader": {
     "cell_type": "markdown",
     "checksum": "4b58356fd316c14ec6b0de161199b75b",
     "grade": false,
     "grade_id": "cell-fe7a0fd57a2921ed",
     "locked": true,
     "points": 3,
     "schema_version": 3,
     "solution": false,
     "task": true
    }
   },
   "source": [
    "### Question 13 (3 points)\n",
    "\n",
    "Why do you think people give such a strong rating to this argument -- what might they be doing that is not captured by the model?\n"
   ]
  },
  {
   "cell_type": "markdown",
   "metadata": {
    "deletable": false,
    "nbgrader": {
     "cell_type": "markdown",
     "checksum": "5cff57c859bbc5782a0d26a590360f64",
     "grade": true,
     "grade_id": "cell-9464849a5c63dbf2",
     "locked": false,
     "points": 0,
     "schema_version": 3,
     "solution": true,
     "task": false
    }
   },
   "source": [
    "YOUR ANSWER HERE"
   ]
  },
  {
   "cell_type": "markdown",
   "metadata": {
    "deletable": false,
    "editable": false,
    "nbgrader": {
     "cell_type": "markdown",
     "checksum": "6b57aae08d6f784b6652bbb283ef9b61",
     "grade": false,
     "grade_id": "cell-ba33bcf87f88b014",
     "locked": true,
     "schema_version": 3,
     "solution": false,
     "task": false
    }
   },
   "source": [
    "## Inference by sampling using NIMBLE\n",
    "\n",
    "If the foodweb were bigger -- e.g. if there were 30 species -- we'd no longer be able to carry out inference by enumerating the entire hypothesis space. An alternative is to carry out inference by sampling. In this section we'll use NIMBLE to sample directly from the posterior $P(h|\\text{premises})$. \n",
    "\n",
    "### Question 14 (5 points)\n",
    "\n",
    "Complete the NIMBLE specification of the model"
   ]
  },
  {
   "cell_type": "code",
   "execution_count": null,
   "metadata": {
    "deletable": false,
    "nbgrader": {
     "cell_type": "code",
     "checksum": "4509272a66232003301558db5796eda6",
     "grade": true,
     "grade_id": "cell-1b7657286cbbc9d8",
     "locked": false,
     "points": 5,
     "schema_version": 3,
     "solution": true,
     "task": false
    }
   },
   "outputs": [],
   "source": [
    "code <- nimbleCode({\n",
    "       # dcat specifies a discrete categorical distribution\n",
    "       kelp ~ dcat(pkelp[1:2])\n",
    "       herring ~ dcat(pherring[kelp,1:2])\n",
    "       # YOUR CODE HERE\n",
    "       stop('No Answer Given!')\n",
    "})\n"
   ]
  },
  {
   "cell_type": "markdown",
   "metadata": {
    "deletable": false,
    "editable": false,
    "nbgrader": {
     "cell_type": "markdown",
     "checksum": "878fe97eec4a4c92017e28c898ab49e7",
     "grade": false,
     "grade_id": "cell-c0b7710d77f7cc38",
     "locked": true,
     "schema_version": 3,
     "solution": false,
     "task": false
    }
   },
   "source": [
    "Now set up a data structure including the premises that mako have the disease but kelp do not.\n",
    "\n"
   ]
  },
  {
   "cell_type": "code",
   "execution_count": null,
   "metadata": {
    "deletable": false,
    "editable": false,
    "nbgrader": {
     "cell_type": "code",
     "checksum": "7d079fdb5c9fc0e64095d6361bec44b1",
     "grade": false,
     "grade_id": "cell-a1fb13a12d16eede",
     "locked": true,
     "schema_version": 3,
     "solution": false,
     "task": false
    }
   },
   "outputs": [],
   "source": [
    "#  Create a data structure that includes premises along with the CPDs\n",
    "foodwebdata <- list(\n",
    "  kelp = 1,\n",
    "  mako = 2,\n",
    "  pkelp = zerop,\n",
    "  pherring = onep,\n",
    "  pdolphin = onep,\n",
    "  ptuna = onep,\n",
    "  psandshark = onep,\n",
    "  pmako = twop,\n",
    "  phuman = onep\n",
    ")\n",
    "\n",
    "inits = list(herring =1, dolphin = 1, tuna = 1, sandshark = 1, human = 1)\n",
    "\n",
    "# Sample from the posterior P(h|premises) using MCMC \n",
    "samples <- nimbleMCMC(\n",
    "    code = code,\n",
    "    data = foodwebdata,\n",
    "    inits = inits,\n",
    "    monitors = c(\"herring\", \"kelp\", \"dolphin\", \"tuna\", \"sandshark\", \"mako\", \"human\"),\n",
    "    niter = 2000,\n",
    "    nburnin = 400) %>% \n",
    "  as_tibble()\n",
    "\n",
    "\n",
    "genlist <- list()\n",
    "for( animalname in speciesnames) {\n",
    "    # for each species compute the proportion of samples for which it takes value TRUE\n",
    "    genlist[animalname] <- sum( samples[[animalname]]==2 )/nrow(samples)\n",
    "}    \n",
    "\n",
    "gen <- as_tibble(genlist)\n",
    "makeplot(gen)\n"
   ]
  },
  {
   "cell_type": "markdown",
   "metadata": {
    "deletable": false,
    "editable": false,
    "nbgrader": {
     "cell_type": "markdown",
     "checksum": "59321ea049408457940dd6608307e17a",
     "grade": false,
     "grade_id": "cell-48a967faddcf3956",
     "locked": true,
     "schema_version": 3,
     "solution": false,
     "task": false
    }
   },
   "source": [
    "\n",
    "The plot should look similar to the plot we made previously by enumerating the entire hypothesis space and generating inferences based on the premises that mako have the disease and kelp does not.\n"
   ]
  }
 ],
 "metadata": {
  "anaconda-cloud": "",
  "kernelspec": {
   "display_name": "R",
   "language": "R",
   "name": "ir"
  },
  "language_info": {
   "codemirror_mode": "r",
   "file_extension": ".r",
   "mimetype": "text/x-r-source",
   "name": "R",
   "pygments_lexer": "r",
   "version": "4.1.0"
  }
 },
 "nbformat": 4,
 "nbformat_minor": 1
}
