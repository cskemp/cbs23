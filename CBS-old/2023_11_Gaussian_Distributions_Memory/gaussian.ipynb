{
 "cells": [
  {
   "cell_type": "markdown",
   "metadata": {
    "deletable": false,
    "editable": false,
    "nbgrader": {
     "cell_type": "markdown",
     "checksum": "3717491c33d85e2c4f243269e1ff3dea",
     "grade": false,
     "grade_id": "cell-6bd8c1bbe0aeb59d",
     "locked": true,
     "schema_version": 3,
     "solution": false,
     "task": false
    }
   },
   "source": [
    "# CBS Week 11 Tutorial: Gaussian distributions\n",
    "    ## Semester 2 2023\n"
   ]
  },
  {
   "cell_type": "code",
   "execution_count": null,
   "metadata": {
    "deletable": false,
    "editable": false,
    "nbgrader": {
     "cell_type": "code",
     "checksum": "ef0e78639c8fbf9a5019113e8b4b067e",
     "grade": false,
     "grade_id": "cell-d2ff8df11e2671b8",
     "locked": true,
     "schema_version": 3,
     "solution": false,
     "task": false
    }
   },
   "outputs": [],
   "source": [
    "suppressPackageStartupMessages({\n",
    "    library(tidyverse)\n",
    "    library(knitr)\n",
    "    library(kableExtra)\n",
    "    library(IRdisplay)\n",
    "    options(repr.plot.width=10, repr.plot.height=5)\n",
    "})\n",
    "\n",
    "# a function for displaying tables\n",
    "show_table <- function(d) {\n",
    "    kable(d, \"html\", align=\"c\")  %>% \n",
    "        as.character()  %>% \n",
    "        display_html()\n",
    "}"
   ]
  },
  {
   "cell_type": "markdown",
   "metadata": {
    "deletable": false,
    "editable": false,
    "nbgrader": {
     "cell_type": "markdown",
     "checksum": "98dc81a9d92be8427926c293e982e75c",
     "grade": false,
     "grade_id": "cell-6ac217a998d3bce6",
     "locked": true,
     "schema_version": 3,
     "solution": false,
     "task": false
    }
   },
   "source": [
    "## Continuous probability distributions\n",
    "\n",
    "A continuous probability distribution takes values greater than or equal to zero, and integrates to 1. Let's use the `dnorm()` function to plot a Gaussian distribution with mean 0 and standard deviation of 0.1. We'll plot this distribution only over the range (-10, 10) because it is very small outside this range."
   ]
  },
  {
   "cell_type": "code",
   "execution_count": null,
   "metadata": {
    "deletable": false,
    "editable": false,
    "nbgrader": {
     "cell_type": "code",
     "checksum": "f2ea6b9c22349d2db7be013fdb8507f3",
     "grade": false,
     "grade_id": "cell-0a7917a18cc6fc5a",
     "locked": true,
     "schema_version": 3,
     "solution": false,
     "task": false
    }
   },
   "outputs": [],
   "source": [
    "d <- tibble(x = seq(-10, 10, 0.05))  %>% \n",
    "    mutate(p_x = dnorm(x, mean=0, sd = 0.1))\n",
    "\n",
    "d %>% \n",
    "    ggplot(aes(x = x, y=p_x)) +\n",
    "    geom_line()"
   ]
  },
  {
   "cell_type": "markdown",
   "metadata": {
    "deletable": false,
    "editable": false,
    "nbgrader": {
     "cell_type": "markdown",
     "checksum": "3edb0b655cebb0083832efc0248bb804",
     "grade": false,
     "grade_id": "cell-6d3a20ff3a490f11",
     "locked": true,
     "points": 0,
     "schema_version": 3,
     "solution": false,
     "task": true
    }
   },
   "source": [
    "### Question 1 \n",
    "\n",
    "Eustace notices that the distribution plotted above exceeds one for some values of x, and wonders how this makes sense -- don't all probabilities have to be between zero and one? Explain to Eustace why it's OK for the distribution to take values larger than 1.\n"
   ]
  },
  {
   "cell_type": "markdown",
   "metadata": {
    "deletable": false,
    "nbgrader": {
     "cell_type": "markdown",
     "checksum": "cc87da74801d81202453b2bce9b5ba1f",
     "grade": true,
     "grade_id": "cell-c4481b47cc9076e4",
     "locked": false,
     "points": 0,
     "schema_version": 3,
     "solution": true,
     "task": false
    }
   },
   "source": [
    "YOUR ANSWER HERE"
   ]
  },
  {
   "cell_type": "markdown",
   "metadata": {
    "deletable": false,
    "editable": false,
    "nbgrader": {
     "cell_type": "markdown",
     "checksum": "a080e93493d1c77e6ac035bf79bd5841",
     "grade": false,
     "grade_id": "cell-9288746d196a9f26",
     "locked": true,
     "schema_version": 3,
     "solution": false,
     "task": false
    }
   },
   "source": [
    "Let's now look at a Gaussian with mean zero and standard deviation 1"
   ]
  },
  {
   "cell_type": "code",
   "execution_count": null,
   "metadata": {
    "deletable": false,
    "editable": false,
    "nbgrader": {
     "cell_type": "code",
     "checksum": "5a84ca7b21435b545ce1eb1701dec81b",
     "grade": false,
     "grade_id": "cell-c168f94050f33e47",
     "locked": true,
     "schema_version": 3,
     "solution": false,
     "task": false
    }
   },
   "outputs": [],
   "source": [
    "d <- d %>%  \n",
    "    mutate(p_x = dnorm(x, mean=0, sd = 1))\n",
    "\n",
    "d %>% \n",
    "    ggplot(aes(x = x, y=p_x)) +\n",
    "    geom_line()"
   ]
  },
  {
   "cell_type": "markdown",
   "metadata": {
    "deletable": false,
    "editable": false,
    "nbgrader": {
     "cell_type": "markdown",
     "checksum": "d26a2ccec24c5a76e3876e449abbe5ce",
     "grade": false,
     "grade_id": "cell-3853b28b16d0f42e",
     "locked": true,
     "schema_version": 3,
     "solution": false,
     "task": false
    }
   },
   "source": [
    "If $x$ is sampled from the probability distribution above, the probability that it takes any one specific value (e.g. exactly 0, or -0.15, or any other value) is 0. But we can assign a non-zero value to the probability that $x$ will lie within a certain interval: e.g. for the distribution above $P(x < 0) = 0.5$.\n",
    "\n",
    "Let's cut up the range into intervals of size 0.5, and compute the probability that $x$ lies within each interval."
   ]
  },
  {
   "cell_type": "code",
   "execution_count": null,
   "metadata": {
    "deletable": false,
    "editable": false,
    "nbgrader": {
     "cell_type": "code",
     "checksum": "11f6d88c8c553005136ebc68a566f26b",
     "grade": false,
     "grade_id": "cell-52f0b1a487598380",
     "locked": true,
     "schema_version": 3,
     "solution": false,
     "task": false
    }
   },
   "outputs": [],
   "source": [
    "# first a function to compute the area under a Gaussian distribution with mean MEAN and standard deviation SD\n",
    "# between the values L and R\n",
    "my_integrate <- function(l, r, mean, sd) {\n",
    "    integrate(dnorm, mean=mean, sd=sd, l, r)$value\n",
    "}\n",
    "    \n",
    "dx <- 0.5  # interval size\n",
    "max_i <- dx * ceiling(10/dx)\n",
    "d <- tibble(x = seq(-max_i, max_i, dx))  %>% \n",
    "    mutate(xl = x - dx/2, xr = x+dx/2 )  %>% \n",
    "    mutate(p_x_discrete = map2_dbl(xl, xr, ~my_integrate(.x, .y, 0, 1)))\n",
    "\n",
    "# inspect the part of the tibble with intervals near 0\n",
    "show_table(d[18:24,])"
   ]
  },
  {
   "cell_type": "markdown",
   "metadata": {
    "deletable": false,
    "editable": false,
    "nbgrader": {
     "cell_type": "markdown",
     "checksum": "88f0976d67d89d059ee6811131435dfb",
     "grade": false,
     "grade_id": "cell-f7cee81ffe9ccd60",
     "locked": true,
     "schema_version": 3,
     "solution": false,
     "task": false
    }
   },
   "source": [
    "The table we just printed shows, for example, that the interval centred on zero stretches from -0.25 (`xl`) to 0.25 (`xr`) , and that the probability that $x$ lies within this interval is 0.197.\n",
    "\n",
    "Let's now plot the probabilities associated with each interval."
   ]
  },
  {
   "cell_type": "code",
   "execution_count": null,
   "metadata": {
    "deletable": false,
    "editable": false,
    "nbgrader": {
     "cell_type": "code",
     "checksum": "20f73e4662bca2f22eb679d0caf7da8f",
     "grade": false,
     "grade_id": "cell-a2b0ab977713e25e",
     "locked": true,
     "schema_version": 3,
     "solution": false,
     "task": false
    }
   },
   "outputs": [],
   "source": [
    "d  %>% \n",
    "    ggplot(aes(x = x, y=p_x_discrete)) +\n",
    "    geom_bar(stat=\"identity\")"
   ]
  },
  {
   "cell_type": "markdown",
   "metadata": {
    "deletable": false,
    "editable": false,
    "nbgrader": {
     "cell_type": "markdown",
     "checksum": "f73e04ba9b69fe46f865f4ba6fd6b410",
     "grade": false,
     "grade_id": "cell-cb47fdf8ef876d1c",
     "locked": true,
     "points": 0,
     "schema_version": 3,
     "solution": false,
     "task": true
    }
   },
   "source": [
    "If desired, you can always generate a discrete distribution from a continuous distribution in this way.\n",
    "\n",
    "### Question 2 \n",
    "\n",
    "What should the probabilities associated with each interval sum to? \n",
    "\n",
    "\n"
   ]
  },
  {
   "cell_type": "markdown",
   "metadata": {
    "deletable": false,
    "nbgrader": {
     "cell_type": "markdown",
     "checksum": "49136a73ac5b5fec317ee0a1dc3afa02",
     "grade": true,
     "grade_id": "cell-28b23ba8a0e7a05d",
     "locked": false,
     "points": 0,
     "schema_version": 3,
     "solution": true,
     "task": false
    }
   },
   "source": [
    "YOUR ANSWER HERE"
   ]
  },
  {
   "cell_type": "markdown",
   "metadata": {
    "deletable": false,
    "editable": false,
    "nbgrader": {
     "cell_type": "markdown",
     "checksum": "c329ba9d4e992c0a6d02f8cfe070d2da",
     "grade": false,
     "grade_id": "cell-f53ed9dd873ec06d",
     "locked": true,
     "schema_version": 3,
     "solution": false,
     "task": false
    }
   },
   "source": [
    "# Exemplar model of categorization (1D data)\n",
    "\n",
    "Now that we've reviewed continuous probability distributions, let's use them to set up a model of categorization. To keep things simple we'll start with a one-dimensional problem. Imagine a set of objects that vary along one dimension --- for example the dimension of \"spikiness\":"
   ]
  },
  {
   "cell_type": "markdown",
   "metadata": {
    "deletable": false,
    "editable": false,
    "nbgrader": {
     "cell_type": "markdown",
     "checksum": "e252e0135c635447a29b4e2992940dba",
     "grade": false,
     "grade_id": "cell-1ee6fbd3058d94a9",
     "locked": true,
     "schema_version": 3,
     "solution": false,
     "task": false
    }
   },
   "source": [
    "<figure>\n",
    "  <img src=\"images/spikiness.jpg\" alt=\"spikiness\" style=\"width:50%\">\n",
    "  <figcaption  class=\"figure-caption text-center\">\n",
    "Figure 1: Objects that vary along the dimension of spikiness. From Gibson, Rogers & Zhu (2013), Human semi-supervised learning\n",
    "    </figcaption>\n",
    "</figure>"
   ]
  },
  {
   "cell_type": "markdown",
   "metadata": {
    "deletable": false,
    "editable": false,
    "nbgrader": {
     "cell_type": "markdown",
     "checksum": "271c27037aba6e79275062786bd0a3dc",
     "grade": false,
     "grade_id": "cell-b15a09cfe0e4170b",
     "locked": true,
     "schema_version": 3,
     "solution": false,
     "task": false
    }
   },
   "source": [
    "We'll use some data where 9 objects are organized into two categories. Let `x` indicate the spikiness of each object, and `z` denote its category label. Because we're looking at a *supervised* problem, the category label of each object is known. In this made-up data set, objects that are relatively spiky or relatively smooth belong to category 1, and objects between these extremes belong to category 2."
   ]
  },
  {
   "cell_type": "code",
   "execution_count": null,
   "metadata": {
    "deletable": false,
    "editable": false,
    "nbgrader": {
     "cell_type": "code",
     "checksum": "743321bfe65ca07f6d0c9051b84bd5e7",
     "grade": false,
     "grade_id": "cell-970c9426abed15cc",
     "locked": true,
     "schema_version": 3,
     "solution": false,
     "task": false
    }
   },
   "outputs": [],
   "source": [
    "data_1d <- tibble(x = c(-1.0, -0.8, -0.6, 1.5, 1.7, 0.6, 0.8, 1.0, 1.1),\n",
    "                  z = factor( c(1, 1, 1, 1, 1, 2, 2, 2, 2) ))\n",
    "show_table(data_1d)"
   ]
  },
  {
   "cell_type": "markdown",
   "metadata": {
    "deletable": false,
    "editable": false,
    "nbgrader": {
     "cell_type": "markdown",
     "checksum": "f08dd292538d0fcf2c321541deecff50",
     "grade": false,
     "grade_id": "cell-ab8cb9bfd4d24ce4",
     "locked": true,
     "schema_version": 3,
     "solution": false,
     "task": false
    }
   },
   "source": [
    "Given a set of examples where $z=1$, an exemplar model computes the probability density for category 1 (ie $p(x|z=1)$) by dropping a Gaussian kernel (ie a Gaussian bump) on each example, adding up all these kernels, and renormalizing to make sure that the density integrates to 1. \n",
    "\n",
    "Let's plot densities for both category 1 (`z=1`) and category 2 (`z=2`). We'll assume that the standard deviation of each Gaussian bump (also known as the kernel bandwidth) is `mybw = 0.3`. "
   ]
  },
  {
   "cell_type": "code",
   "execution_count": null,
   "metadata": {
    "deletable": false,
    "editable": false,
    "nbgrader": {
     "cell_type": "code",
     "checksum": "6dea47b56e62bac29a942812c88fb2c0",
     "grade": false,
     "grade_id": "cell-3fb63d2a4fd4053d",
     "locked": true,
     "schema_version": 3,
     "solution": false,
     "task": false
    }
   },
   "outputs": [],
   "source": [
    "                                      # \"nrd\" specifies a method for choosing the bandwidth if \n",
    "                                      #  this parameter is not supplied\n",
    "exemplar_plot_1d <- function(data, bw=\"nrd\") {\n",
    "  e_plot <-  data %>% \n",
    "    ggplot(aes(x = x, color = z, group = z)) +\n",
    "    geom_density(bw = bw) +\n",
    "    geom_point(aes(x=x, y=0)) +\n",
    "    labs(color='category (z)') +\n",
    "    ylab(\"density p(x|z)\")\n",
    "}\n",
    "\n",
    "mybw = 0.3\n",
    "eplot_mybw <- exemplar_plot_1d(data_1d, bw=mybw) \n",
    "print(eplot_mybw)"
   ]
  },
  {
   "cell_type": "markdown",
   "metadata": {
    "deletable": false,
    "editable": false,
    "nbgrader": {
     "cell_type": "markdown",
     "checksum": "d480cdfec4ec16b4338eaefb65688983",
     "grade": false,
     "grade_id": "cell-86cee6861f848ad3",
     "locked": true,
     "schema_version": 3,
     "solution": false,
     "task": false
    }
   },
   "source": [
    "If we make the kernel bandwidth much smaller you can tell that the category densities are created by adding up kernels centred on each example.\n",
    "\n"
   ]
  },
  {
   "cell_type": "code",
   "execution_count": null,
   "metadata": {
    "deletable": false,
    "editable": false,
    "nbgrader": {
     "cell_type": "code",
     "checksum": "5ced5888489345b677da49403786ed61",
     "grade": false,
     "grade_id": "cell-0ac7547429d64770",
     "locked": true,
     "schema_version": 3,
     "solution": false,
     "task": false
    }
   },
   "outputs": [],
   "source": [
    "print(exemplar_plot_1d(data_1d, bw=0.03) ) "
   ]
  },
  {
   "cell_type": "markdown",
   "metadata": {
    "deletable": false,
    "editable": false,
    "nbgrader": {
     "cell_type": "markdown",
     "checksum": "ccfa2f08d2c683f7f5a816b46470a8eb",
     "grade": false,
     "grade_id": "cell-de8ab7399c21ca1c",
     "locked": true,
     "schema_version": 3,
     "solution": false,
     "task": false
    }
   },
   "source": [
    "Suppose that we're given a new object with $x = 0$ and we want to know the probability that this object belongs to category 1. More generally, we might want to compute a classification function $P(z=1|x)$ that we can use to estimate the probability that a new object anywhere along the dimension belongs to category 1.\n",
    "\n",
    "Bayes rule tells us that $P(z=1|x) \\propto P(x|z) P(z=1)$. Even though we plotted $p(x|z=1)$ and $p(x|z=2)$ above we don't have these curves stored as data structures. So let's set up a function for computing the likelihood $P(x|z)$. "
   ]
  },
  {
   "cell_type": "code",
   "execution_count": null,
   "metadata": {
    "deletable": false,
    "editable": false,
    "nbgrader": {
     "cell_type": "code",
     "checksum": "b9c55803af1cdf9af3779b17f019e65b",
     "grade": false,
     "grade_id": "cell-567a82f7aad35cb0",
     "locked": true,
     "schema_version": 3,
     "solution": false,
     "task": false
    }
   },
   "outputs": [],
   "source": [
    "# compute p(XNEW|z=CATEGORY)  based on the observations in DATA\n",
    "p_x_given_z <- function(data, category, xnew, bw = mybw){\n",
    "  newval <- data %>% \n",
    "    filter(z == category) %>% \n",
    "    mutate(k_val = dnorm(xnew, mean = x, sd = bw)) %>% \n",
    "    summarize(mean_k_val = mean(k_val)) %>% \n",
    "    pull()\n",
    "}"
   ]
  },
  {
   "cell_type": "markdown",
   "metadata": {
    "deletable": false,
    "editable": false,
    "nbgrader": {
     "cell_type": "markdown",
     "checksum": "89b9970d21059f61664a9f5755cb60b0",
     "grade": false,
     "grade_id": "cell-c128575236e9a8c5",
     "locked": true,
     "schema_version": 3,
     "solution": false,
     "task": false
    }
   },
   "source": [
    "We'll also set up a function to compute the prior.  We'll assume that $P(z=1)$ corresponds to the proportion of observed examples that belong to category 1. For the data set we've been working with $P(z=1) = \\frac{5}{9}$."
   ]
  },
  {
   "cell_type": "code",
   "execution_count": null,
   "metadata": {
    "deletable": false,
    "editable": false,
    "nbgrader": {
     "cell_type": "code",
     "checksum": "5c4e6562662ab2c77ae9f0993d9d8446",
     "grade": false,
     "grade_id": "cell-1387030e95cb6893",
     "locked": true,
     "schema_version": 3,
     "solution": false,
     "task": false
    }
   },
   "outputs": [],
   "source": [
    "# compute p(z=CATEGORY) based on the observations in DATA\n",
    "p_z <- function(data, category){\n",
    "  sum(data$z == category)/nrow(data)\n",
    "}"
   ]
  },
  {
   "cell_type": "markdown",
   "metadata": {
    "deletable": false,
    "editable": false,
    "nbgrader": {
     "cell_type": "markdown",
     "checksum": "fe17104407e952861d58a699c1e0284d",
     "grade": false,
     "grade_id": "cell-6af581cee44ee0eb",
     "locked": true,
     "schema_version": 3,
     "solution": false,
     "task": false
    }
   },
   "source": [
    "We'll now multiply the prior and likelihood then renormalize to compute $p(z=1|x)$ over a grid of points between -3 and 3:"
   ]
  },
  {
   "cell_type": "code",
   "execution_count": null,
   "metadata": {
    "deletable": false,
    "editable": false,
    "nbgrader": {
     "cell_type": "code",
     "checksum": "7acd62add3673d177c559a608be8c4e7",
     "grade": false,
     "grade_id": "cell-f4810f7a4a945cbc",
     "locked": true,
     "schema_version": 3,
     "solution": false,
     "task": false
    }
   },
   "outputs": [],
   "source": [
    "classification_curve <- function(data, bw = mybw) {\n",
    "  classifications <- tibble(x = seq(-3, 3, 0.01)) %>% \n",
    "    # compute p(z) for all x\n",
    "    mutate(p_z1 = p_z(data, 1)) %>% \n",
    "    mutate(p_z2 = p_z(data, 2)) %>% \n",
    "    # compute p(x|z) \n",
    "    mutate(p_x_given_z1 = map_dbl(x, ~p_x_given_z(data, 1, ., bw))) %>% \n",
    "    mutate(p_x_given_z2 = map_dbl(x, ~p_x_given_z(data, 2, ., bw))) %>% \n",
    "    # compute p(z|x) up to normalizing constant\n",
    "    mutate(p_z1_given_x = p_x_given_z1*p_z1) %>% \n",
    "    mutate(p_z2_given_x = p_x_given_z2*p_z2) %>% \n",
    "    # normalize p(z|x) \n",
    "    mutate(p_z1_given_x = p_z1_given_x /(p_z1_given_x + p_z2_given_x)) %>% \n",
    "    mutate(p_z2_given_x =  1 - p_z1_given_x )\n",
    "}  \n",
    "\n",
    "classifications <-classification_curve(data_1d, mybw) \n",
    "classifications  %>% \n",
    "    head()  %>% \n",
    "    show_table()"
   ]
  },
  {
   "cell_type": "markdown",
   "metadata": {
    "deletable": false,
    "editable": false,
    "nbgrader": {
     "cell_type": "markdown",
     "checksum": "dc38fcfc262b3f45d9e6fb45e62dee5b",
     "grade": false,
     "grade_id": "cell-eb25dc5d7d89c1c8",
     "locked": true,
     "schema_version": 3,
     "solution": false,
     "task": false
    }
   },
   "source": [
    "Now we can plot the classification curve. As you might expect, the exemplar model assigns very spiky and very smooth objects to category 1."
   ]
  },
  {
   "cell_type": "code",
   "execution_count": null,
   "metadata": {
    "deletable": false,
    "editable": false,
    "nbgrader": {
     "cell_type": "code",
     "checksum": "1fc5fa6e0b700058373841511c3a48f9",
     "grade": false,
     "grade_id": "cell-0f20674aa6de9003",
     "locked": true,
     "schema_version": 3,
     "solution": false,
     "task": false
    }
   },
   "outputs": [],
   "source": [
    "classification_plot_1d <- function(classifications, data) {\n",
    "  c_plot <-  classifications %>% \n",
    "    ggplot(aes(x = x, y = p_z1_given_x)) +\n",
    "    geom_line() +\n",
    "    geom_point(data = data, aes(x = x, y = 0, color = z, group = z)) +\n",
    "    labs(color='category (z)') +\n",
    "    ylab(\"p(z=1|x)\")\n",
    "}\n",
    "print(classification_plot_1d(classifications, data_1d))"
   ]
  },
  {
   "cell_type": "markdown",
   "metadata": {
    "deletable": false,
    "editable": false,
    "nbgrader": {
     "cell_type": "markdown",
     "checksum": "fed681811866288502700e1b83ab307f",
     "grade": false,
     "grade_id": "cell-73d323c69ed57309",
     "locked": true,
     "schema_version": 3,
     "solution": false,
     "task": false
    }
   },
   "source": [
    "Consider another data set that has category 1 observations at `{-1, -0.8, -0.6}` and category 2 observations at `{0.6, 0.6, 0.8, 0.8, 1.0, 1.0}`. The two categories are evenly spaced on either side of the point `x=0`, and you might expect that 0 is the point where one category stops and the other begins. Let's see what the exemplar model predicts. First we'll plot the category densities:"
   ]
  },
  {
   "cell_type": "code",
   "execution_count": null,
   "metadata": {
    "deletable": false,
    "editable": false,
    "nbgrader": {
     "cell_type": "code",
     "checksum": "704b3943b28bae1bfd1cb27be6f71a13",
     "grade": false,
     "grade_id": "cell-9a5bdbdf772a97ff",
     "locked": true,
     "schema_version": 3,
     "solution": false,
     "task": false
    }
   },
   "outputs": [],
   "source": [
    "data_1d_balanced <- tibble(x = c(-1.0, -0.8, -0.6, 0.6, 0.6, 0.8, 0.8, 1.0, 1.0 ),\n",
    "                  z = factor( c(1, 1, 1, 2, 2, 2, 2, 2, 2) ))\n",
    "print(exemplar_plot_1d(data_1d_balanced, bw=mybw))"
   ]
  },
  {
   "cell_type": "markdown",
   "metadata": {
    "deletable": false,
    "editable": false,
    "nbgrader": {
     "cell_type": "markdown",
     "checksum": "2ab161e93fb608b67de6d27e8a9079a8",
     "grade": false,
     "grade_id": "cell-5292c32392987b45",
     "locked": true,
     "schema_version": 3,
     "solution": false,
     "task": false
    }
   },
   "source": [
    "As expected the densities are symmetric about `x=0`. Now for the classification curve:\n",
    "\n"
   ]
  },
  {
   "cell_type": "code",
   "execution_count": null,
   "metadata": {
    "deletable": false,
    "editable": false,
    "nbgrader": {
     "cell_type": "code",
     "checksum": "ebd237b667022e879b7792ef10f0ec85",
     "grade": false,
     "grade_id": "cell-85f23e5626b26648",
     "locked": true,
     "schema_version": 3,
     "solution": false,
     "task": false
    }
   },
   "outputs": [],
   "source": [
    "classifications_balanced <-classification_curve(data_1d_balanced, mybw) \n",
    "print(classification_plot_1d(classifications_balanced, data_1d_balanced))"
   ]
  },
  {
   "cell_type": "markdown",
   "metadata": {
    "deletable": false,
    "editable": false,
    "nbgrader": {
     "cell_type": "markdown",
     "checksum": "85685fa3bea97bf41c4f3b3155bc36aa",
     "grade": false,
     "grade_id": "cell-743580a0bc7ee456",
     "locked": true,
     "points": 0,
     "schema_version": 3,
     "solution": false,
     "task": true
    }
   },
   "source": [
    "### Exercise 3\n",
    "\n",
    "The classification curve for the balanced data set is *not* symmetric about `x=0`. It indicates that a new object at `x=0` is more likely to belong to category 2 than to category 1. Explain why.\n"
   ]
  },
  {
   "cell_type": "markdown",
   "metadata": {
    "deletable": false,
    "nbgrader": {
     "cell_type": "markdown",
     "checksum": "8f6aaddb506a89909d7e6e836fe92bbc",
     "grade": true,
     "grade_id": "cell-17fdfe0e1dcee0ce",
     "locked": false,
     "points": 0,
     "schema_version": 3,
     "solution": true,
     "task": false
    }
   },
   "source": [
    "YOUR ANSWER HERE"
   ]
  },
  {
   "cell_type": "markdown",
   "metadata": {
    "deletable": false,
    "editable": false,
    "nbgrader": {
     "cell_type": "markdown",
     "checksum": "1b534e701ad62a4805af2eb929fc8758",
     "grade": false,
     "grade_id": "cell-5d90722912275af6",
     "locked": true,
     "schema_version": 3,
     "solution": false,
     "task": false
    }
   },
   "source": [
    "Let's try another data set with category 1 observations at `{-0.6, -0.5, -0.4}` and category 2 observations at `{0.4, 0.41, 0.42}`. For both categories the point closest to 0 lies at a distance of 0.4 from `x=0`. The category 1 exemplars, however, are spaced more widely than are the category 2 exemplars. Again we'll plot the category densities ..."
   ]
  },
  {
   "cell_type": "code",
   "execution_count": null,
   "metadata": {
    "deletable": false,
    "editable": false,
    "nbgrader": {
     "cell_type": "code",
     "checksum": "34128cfe46b38e398a6af1f878466c5b",
     "grade": false,
     "grade_id": "cell-a5a1e0f71666399f",
     "locked": true,
     "schema_version": 3,
     "solution": false,
     "task": false
    }
   },
   "outputs": [],
   "source": [
    "data_1d_spacing <- tibble(x = c(-0.6, -0.5, -0.4, 0.4,0.41,0.42),\n",
    "                  z = factor( c(1,1,1,2,2,2) ))\n",
    "print(exemplar_plot_1d(data_1d_spacing, bw=mybw))"
   ]
  },
  {
   "cell_type": "markdown",
   "metadata": {
    "deletable": false,
    "editable": false,
    "nbgrader": {
     "cell_type": "markdown",
     "checksum": "ca40a3e620f35d673411a0dc27fa8abf",
     "grade": false,
     "grade_id": "cell-04f8eab6aa4d5767",
     "locked": true,
     "schema_version": 3,
     "solution": false,
     "task": false
    }
   },
   "source": [
    "... and the classification function:"
   ]
  },
  {
   "cell_type": "code",
   "execution_count": null,
   "metadata": {
    "deletable": false,
    "editable": false,
    "nbgrader": {
     "cell_type": "code",
     "checksum": "a25e1f319f57c8371deabf4396dddc43",
     "grade": false,
     "grade_id": "cell-1c68485dda6628ba",
     "locked": true,
     "schema_version": 3,
     "solution": false,
     "task": false
    }
   },
   "outputs": [],
   "source": [
    "classifications_spacing <-classification_curve(data_1d_spacing, mybw) \n",
    "print(classification_plot_1d(classifications_spacing, data_1d_spacing))"
   ]
  },
  {
   "cell_type": "markdown",
   "metadata": {
    "deletable": false,
    "editable": false,
    "nbgrader": {
     "cell_type": "markdown",
     "checksum": "5181f9a74d0e4b4f95c2009889278e5d",
     "grade": false,
     "grade_id": "cell-59071feec012d5c4",
     "locked": true,
     "points": 0,
     "schema_version": 3,
     "solution": false,
     "task": true
    }
   },
   "source": [
    "### Exercise 4\n",
    "\n",
    "The classification function for the 1D data set with variable spacing indicates that a new object at `x=0` is more likely to belong to category 2 than to category 1. Explain why the exemplar model makes this prediction.\n"
   ]
  },
  {
   "cell_type": "markdown",
   "metadata": {
    "deletable": false,
    "nbgrader": {
     "cell_type": "markdown",
     "checksum": "84fc410b5168a2d28ea4a1cf89496403",
     "grade": true,
     "grade_id": "cell-685a1acb9130f1ec",
     "locked": false,
     "points": 0,
     "schema_version": 3,
     "solution": true,
     "task": false
    }
   },
   "source": [
    "YOUR ANSWER HERE"
   ]
  },
  {
   "cell_type": "markdown",
   "metadata": {
    "deletable": false,
    "editable": false,
    "nbgrader": {
     "cell_type": "markdown",
     "checksum": "bebd933fbd5caf6cb0524cfb8dcc731b",
     "grade": false,
     "grade_id": "cell-1988cad9e027a977",
     "locked": true,
     "schema_version": 3,
     "solution": false,
     "task": false
    }
   },
   "source": [
    "\n",
    "\n",
    "## Two dimensional Gaussians\n",
    "\n",
    "The exemplar model can be applied in settings where the objects have multiple dimensions, and the assessment next week will consider a 2-dimensional classification problem explored by Nosofsky (1989). Here we'll consider data collected by [Iain Murray]( https://homepages.inf.ed.ac.uk/imurray2/teaching/oranges_and_lemons/), who measured the height, width and mass of a set of oranges, lemons, and apples. We'll apply an exemplar model to the height and width data for oranges and lemons. The category density for oranges, say, is formed by dropping an axis-aligned Gaussian kernel on the data point for each orange then averaging all of these bumps to form the overall density for the category.\n",
    "\n",
    "Let's make a contour plot showing the densities for the two categories (oranges and lemons)"
   ]
  },
  {
   "cell_type": "code",
   "execution_count": null,
   "metadata": {
    "deletable": false,
    "editable": false,
    "nbgrader": {
     "cell_type": "code",
     "checksum": "9af3c4cc6f152c5d2410566a09265104",
     "grade": false,
     "grade_id": "cell-9de1b3a92c32c3d3",
     "locked": true,
     "schema_version": 3,
     "solution": false,
     "task": false
    }
   },
   "outputs": [],
   "source": [
    "data_2d <- read_csv(\"oranges_lemons.csv\", show_col_types = FALSE) %>% \n",
    "    mutate(z = recode(z, `1`=\"orange\", `2`=\"lemon\")) %>% \n",
    "    mutate(z = factor(z, levels = c(\"orange\", \"lemon\")))\n",
    "\n",
    "exemplar_plot_2d <- function(data, h=NULL) {\n",
    "  e_plot <-  data %>% \n",
    "    ggplot(aes(x = width, y = height, color = z, group = z)) +\n",
    "    geom_density_2d(h = h) +\n",
    "    geom_point(aes(x=width, y=height)) +\n",
    "    theme(aspect.ratio=1)\n",
    "\n",
    "  return(e_plot)\n",
    "}\n",
    "\n",
    "print(exemplar_plot_2d(data_2d))"
   ]
  },
  {
   "cell_type": "code",
   "execution_count": null,
   "metadata": {},
   "outputs": [],
   "source": [
    "# use this cell for your own code"
   ]
  },
  {
   "cell_type": "markdown",
   "metadata": {
    "deletable": false,
    "editable": false,
    "nbgrader": {
     "cell_type": "markdown",
     "checksum": "2e93f4520fb8517f9008fbeb03803367",
     "grade": false,
     "grade_id": "cell-6800d8888ce2a229",
     "locked": true,
     "points": 0,
     "schema_version": 3,
     "solution": false,
     "task": true
    }
   },
   "source": [
    "The plot above uses the default value of the kernel bandwidth. You can set the bandwidth yourself using a call like\n",
    "`print(exemplar_plot_2d(data_2d, h = c(0.2, 0.2)))`. \n",
    "\n",
    "### Exercise 5\n",
    "\n",
    "Try setting the bandwidth to `c(0.2,0.2)`, which specifies a Gaussian kernel with a standard deviation of 0.2 along each dimension.  Why does the plot now look as it does?\n"
   ]
  },
  {
   "cell_type": "markdown",
   "metadata": {
    "deletable": false,
    "nbgrader": {
     "cell_type": "markdown",
     "checksum": "467f3613158da501166aff3d46fdb72a",
     "grade": true,
     "grade_id": "cell-381a09fd61cf1781",
     "locked": false,
     "points": 0,
     "schema_version": 3,
     "solution": true,
     "task": false
    }
   },
   "source": [
    "YOUR ANSWER HERE"
   ]
  },
  {
   "cell_type": "markdown",
   "metadata": {
    "deletable": false,
    "editable": false,
    "nbgrader": {
     "cell_type": "markdown",
     "checksum": "f4724b37ceebe39fb120241f86f2d441",
     "grade": false,
     "grade_id": "cell-5900ffe0ef682d00",
     "locked": true,
     "points": 0,
     "schema_version": 3,
     "solution": false,
     "task": true
    }
   },
   "source": [
    "###  Exercise 6\n",
    "\n",
    "Imagine that the bandwidth is set to `c(0.1,0.25)`, which indicates that the variance of the Gaussian kernel is greater along the height dimension than the size dimension. What do you expect to see now when you plot the category densities?\n"
   ]
  },
  {
   "cell_type": "markdown",
   "metadata": {
    "deletable": false,
    "nbgrader": {
     "cell_type": "markdown",
     "checksum": "60bb0ee58a58edbf8848b7950919ef3d",
     "grade": true,
     "grade_id": "cell-73a2ac5ee9aa73e5",
     "locked": false,
     "points": 0,
     "schema_version": 3,
     "solution": true,
     "task": false
    }
   },
   "source": [
    "YOUR ANSWER HERE"
   ]
  }
 ],
 "metadata": {
  "anaconda-cloud": "",
  "kernelspec": {
   "display_name": "R",
   "language": "R",
   "name": "ir"
  },
  "language_info": {
   "codemirror_mode": "r",
   "file_extension": ".r",
   "mimetype": "text/x-r-source",
   "name": "R",
   "pygments_lexer": "r",
   "version": "4.1.0"
  }
 },
 "nbformat": 4,
 "nbformat_minor": 1
}
