{
 "cells": [
  {
   "cell_type": "markdown",
   "metadata": {
    "deletable": false,
    "editable": false,
    "nbgrader": {
     "cell_type": "markdown",
     "checksum": "8f7bd2e9046aa5659527979323356281",
     "grade": false,
     "grade_id": "cell-0d5149b4af2d52d9",
     "locked": true,
     "schema_version": 3,
     "solution": false,
     "task": false
    }
   },
   "source": [
    "# CBS Week 10 Assessment: Bayes Nets\n",
    "## Semester 2, 2023\n"
   ]
  },
  {
   "cell_type": "code",
   "execution_count": 4,
   "metadata": {
    "deletable": false,
    "editable": false,
    "nbgrader": {
     "cell_type": "code",
     "checksum": "1a8e58724446336927748022264f00f0",
     "grade": false,
     "grade_id": "cell-d254729edee8e1b8",
     "locked": true,
     "schema_version": 3,
     "solution": false,
     "task": false
    }
   },
   "outputs": [],
   "source": [
    "suppressPackageStartupMessages({\n",
    "    library(tidyverse)\n",
    "    library(ggplot2)\n",
    "    library(ggpubr)\n",
    "    library(modelr)\n",
    "    library(testthat)\n",
    "    library(knitr)\n",
    "    library(kableExtra)\n",
    "    library(IRdisplay)\n",
    "})\n",
    "\n",
    "# a function for displaying tables\n",
    "show_table <- function(d) {\n",
    "    kable(d, \"html\", align=\"c\")  %>% \n",
    "        as.character()  %>% \n",
    "        display_html()\n",
    "}"
   ]
  },
  {
   "cell_type": "markdown",
   "metadata": {
    "deletable": false,
    "editable": false,
    "nbgrader": {
     "cell_type": "markdown",
     "checksum": "746206546e0bcf33581b3e6db35d1bf0",
     "grade": false,
     "grade_id": "cell-c117c723c4a83656",
     "locked": true,
     "schema_version": 3,
     "solution": false,
     "task": false
    }
   },
   "source": [
    "This notebook is due at 8 am on October 13. Please make sure that your notebook validates before you submit it --- if your notebook doesn't validate the automated grader may run into issues. \n",
    "\n",
    "In this notebook you'll apply a Bayes net model to the food web problem discussed by  Shafto et al (2008), [Inductive Reasoning about Causally Transmitted Properties](https://www.charleskemp.com/papers/shaftokbct08_inductivereasoningaboutcausallytransmittedproperties.pdf). The problem involves the seven species in this foodweb:\n"
   ]
  },
  {
   "cell_type": "markdown",
   "metadata": {
    "deletable": false,
    "editable": false,
    "nbgrader": {
     "cell_type": "markdown",
     "checksum": "22e1bd2da6d73ef1b7d3e4215115ec08",
     "grade": false,
     "grade_id": "cell-6d7a1b1a1068740a",
     "locked": true,
     "schema_version": 3,
     "solution": false,
     "task": false
    }
   },
   "source": [
    "<figure>\n",
    "  <img src=\"images/foodweb.png\" alt=\"foodweb\" style=\"width:30%\">\n",
    "  <figcaption  class=\"figure-caption text-center\">Figure 1: Food web diagram</figcaption>\n",
    "</figure>"
   ]
  },
  {
   "cell_type": "markdown",
   "metadata": {
    "deletable": false,
    "editable": false,
    "nbgrader": {
     "cell_type": "markdown",
     "checksum": "0b3ce59274b29f2e318f28ea214f267c",
     "grade": false,
     "grade_id": "cell-caeebf1a98300b1a",
     "locked": true,
     "schema_version": 3,
     "solution": false,
     "task": false
    }
   },
   "source": [
    "The arrows here indicate \"eaten-by\" relationships --- for example, kelp is eaten by herring, which in turn is eaten by dolphins, tuna and sand-sharks. \n",
    "\n",
    "We're interested in reasoning problems such as \"Mako carry a certain disease but Kelp does not. How likely is it that Tuna carry the same disease?\" For this argument, the statements \"Mako carry the disease\" and \"Kelp does not carry the disease\" are premises, and \"Tuna carry the disease\" is the conclusion.\n",
    "\n",
    "In Week 7 we discussed a recipe for building a Bayesian model that included 4 steps: characterize the observed data, characterise the hypothesis space, characterize the prior, and characterize the likelihood function. Here we'll go through the same 4 steps but in a slightly different order.\n",
    "\n",
    "## Hypothesis space\n",
    "\n",
    "Each of the seven species either carries or does not carry the disease, which means that there are 2^7 = 128 possible states of the world. Our hypothesis space includes all of these possibilities.  We'll enumerate all 128 using 1 to indicate FALSE (ie doesn't have the disease) and 2 to indicate TRUE (has the disease).\n"
   ]
  },
  {
   "cell_type": "code",
   "execution_count": 5,
   "metadata": {
    "deletable": false,
    "editable": false,
    "nbgrader": {
     "cell_type": "code",
     "checksum": "6baeb168e198f4e298188aedc2e76199",
     "grade": false,
     "grade_id": "cell-a4aff01ac25d8ef0",
     "locked": true,
     "schema_version": 3,
     "solution": false,
     "task": false
    }
   },
   "outputs": [
    {
     "data": {
      "text/html": [
       "<table>\n",
       " <thead>\n",
       "  <tr>\n",
       "   <th style=\"text-align:center;\"> kelp </th>\n",
       "   <th style=\"text-align:center;\"> herring </th>\n",
       "   <th style=\"text-align:center;\"> dolphin </th>\n",
       "   <th style=\"text-align:center;\"> tuna </th>\n",
       "   <th style=\"text-align:center;\"> sandshark </th>\n",
       "   <th style=\"text-align:center;\"> mako </th>\n",
       "   <th style=\"text-align:center;\"> human </th>\n",
       "  </tr>\n",
       " </thead>\n",
       "<tbody>\n",
       "  <tr>\n",
       "   <td style=\"text-align:center;\"> 2 </td>\n",
       "   <td style=\"text-align:center;\"> 2 </td>\n",
       "   <td style=\"text-align:center;\"> 2 </td>\n",
       "   <td style=\"text-align:center;\"> 2 </td>\n",
       "   <td style=\"text-align:center;\"> 1 </td>\n",
       "   <td style=\"text-align:center;\"> 2 </td>\n",
       "   <td style=\"text-align:center;\"> 1 </td>\n",
       "  </tr>\n",
       "  <tr>\n",
       "   <td style=\"text-align:center;\"> 2 </td>\n",
       "   <td style=\"text-align:center;\"> 2 </td>\n",
       "   <td style=\"text-align:center;\"> 2 </td>\n",
       "   <td style=\"text-align:center;\"> 2 </td>\n",
       "   <td style=\"text-align:center;\"> 1 </td>\n",
       "   <td style=\"text-align:center;\"> 2 </td>\n",
       "   <td style=\"text-align:center;\"> 2 </td>\n",
       "  </tr>\n",
       "  <tr>\n",
       "   <td style=\"text-align:center;\"> 2 </td>\n",
       "   <td style=\"text-align:center;\"> 2 </td>\n",
       "   <td style=\"text-align:center;\"> 2 </td>\n",
       "   <td style=\"text-align:center;\"> 2 </td>\n",
       "   <td style=\"text-align:center;\"> 2 </td>\n",
       "   <td style=\"text-align:center;\"> 1 </td>\n",
       "   <td style=\"text-align:center;\"> 1 </td>\n",
       "  </tr>\n",
       "  <tr>\n",
       "   <td style=\"text-align:center;\"> 2 </td>\n",
       "   <td style=\"text-align:center;\"> 2 </td>\n",
       "   <td style=\"text-align:center;\"> 2 </td>\n",
       "   <td style=\"text-align:center;\"> 2 </td>\n",
       "   <td style=\"text-align:center;\"> 2 </td>\n",
       "   <td style=\"text-align:center;\"> 1 </td>\n",
       "   <td style=\"text-align:center;\"> 2 </td>\n",
       "  </tr>\n",
       "  <tr>\n",
       "   <td style=\"text-align:center;\"> 2 </td>\n",
       "   <td style=\"text-align:center;\"> 2 </td>\n",
       "   <td style=\"text-align:center;\"> 2 </td>\n",
       "   <td style=\"text-align:center;\"> 2 </td>\n",
       "   <td style=\"text-align:center;\"> 2 </td>\n",
       "   <td style=\"text-align:center;\"> 2 </td>\n",
       "   <td style=\"text-align:center;\"> 1 </td>\n",
       "  </tr>\n",
       "  <tr>\n",
       "   <td style=\"text-align:center;\"> 2 </td>\n",
       "   <td style=\"text-align:center;\"> 2 </td>\n",
       "   <td style=\"text-align:center;\"> 2 </td>\n",
       "   <td style=\"text-align:center;\"> 2 </td>\n",
       "   <td style=\"text-align:center;\"> 2 </td>\n",
       "   <td style=\"text-align:center;\"> 2 </td>\n",
       "   <td style=\"text-align:center;\"> 2 </td>\n",
       "  </tr>\n",
       "</tbody>\n",
       "</table>"
      ]
     },
     "metadata": {},
     "output_type": "display_data"
    }
   ],
   "source": [
    "speciesnames <- c(\"kelp\", \"herring\", \"dolphin\", \"tuna\", \"sandshark\", \"mako\", \"human\")\n",
    "n <-  length(speciesnames)\n",
    "hs <-  expand_grid(kelp = 1:2, herring = 1:2, dolphin = 1:2, tuna = 1:2, sandshark =1:2, mako = 1:2, human = 1:2)\n",
    "show_table(tail(hs))"
   ]
  },
  {
   "cell_type": "markdown",
   "metadata": {
    "deletable": false,
    "editable": false,
    "nbgrader": {
     "cell_type": "markdown",
     "checksum": "ec148190de61fb85237e018ffbbe8779",
     "grade": false,
     "grade_id": "cell-856b3984909fdacd",
     "locked": true,
     "schema_version": 3,
     "solution": false,
     "task": false
    }
   },
   "source": [
    "It will be convenient to \"nest\" the seven columns so that each hypothesis corresponds to a single unit."
   ]
  },
  {
   "cell_type": "code",
   "execution_count": 6,
   "metadata": {
    "deletable": false,
    "editable": false,
    "nbgrader": {
     "cell_type": "code",
     "checksum": "e70182c4bd52214fa6aa1de4121b0ddf",
     "grade": false,
     "grade_id": "cell-63b6e94c765688a4",
     "locked": true,
     "schema_version": 3,
     "solution": false,
     "task": false
    }
   },
   "outputs": [
    {
     "data": {
      "text/html": [
       "<table>\n",
       " <thead>\n",
       "  <tr>\n",
       "   <th style=\"text-align:center;\"> hypnum </th>\n",
       "   <th style=\"text-align:center;\"> hyp </th>\n",
       "  </tr>\n",
       " </thead>\n",
       "<tbody>\n",
       "  <tr>\n",
       "   <td style=\"text-align:center;\"> 123 </td>\n",
       "   <td style=\"text-align:center;\"> 2, 2, 2, 2, 1, 2, 1 </td>\n",
       "  </tr>\n",
       "  <tr>\n",
       "   <td style=\"text-align:center;\"> 124 </td>\n",
       "   <td style=\"text-align:center;\"> 2, 2, 2, 2, 1, 2, 2 </td>\n",
       "  </tr>\n",
       "  <tr>\n",
       "   <td style=\"text-align:center;\"> 125 </td>\n",
       "   <td style=\"text-align:center;\"> 2, 2, 2, 2, 2, 1, 1 </td>\n",
       "  </tr>\n",
       "  <tr>\n",
       "   <td style=\"text-align:center;\"> 126 </td>\n",
       "   <td style=\"text-align:center;\"> 2, 2, 2, 2, 2, 1, 2 </td>\n",
       "  </tr>\n",
       "  <tr>\n",
       "   <td style=\"text-align:center;\"> 127 </td>\n",
       "   <td style=\"text-align:center;\"> 2, 2, 2, 2, 2, 2, 1 </td>\n",
       "  </tr>\n",
       "  <tr>\n",
       "   <td style=\"text-align:center;\"> 128 </td>\n",
       "   <td style=\"text-align:center;\"> 2, 2, 2, 2, 2, 2, 2 </td>\n",
       "  </tr>\n",
       "</tbody>\n",
       "</table>"
      ]
     },
     "metadata": {},
     "output_type": "display_data"
    }
   ],
   "source": [
    "hs <- as_tibble(hs) %>% \n",
    "  rowid_to_column(\"hypnum\") %>% \n",
    "  nest(hyp=all_of(speciesnames)) \n",
    "\n",
    "show_table(tail(hs))"
   ]
  },
  {
   "cell_type": "markdown",
   "metadata": {
    "deletable": false,
    "editable": false,
    "nbgrader": {
     "cell_type": "markdown",
     "checksum": "0251f8eb5e83ab2da8dd5c058a186025",
     "grade": false,
     "grade_id": "cell-03c84b108c402d01",
     "locked": true,
     "points": 0,
     "schema_version": 3,
     "solution": false,
     "task": true
    }
   },
   "source": [
    "## Prior distribution\n",
    "\n",
    "Let's now set up the prior distribution over this hypothesis space. \n",
    "\n",
    "### Question 1 (0.5 points)\n",
    "\n",
    "In general, how many parameters are needed to specify a prior distribution over a set of 128 events?\n",
    "\n"
   ]
  },
  {
   "cell_type": "markdown",
   "metadata": {
    "deletable": false,
    "nbgrader": {
     "cell_type": "markdown",
     "checksum": "15589eed087c8ac9da4853c0689d22a5",
     "grade": true,
     "grade_id": "cell-c96fd0469a197f1b",
     "locked": false,
     "points": 0.5,
     "schema_version": 3,
     "solution": true,
     "task": false
    }
   },
   "source": [
    "YOUR ANSWER HERE"
   ]
  },
  {
   "cell_type": "markdown",
   "metadata": {
    "deletable": false,
    "editable": false,
    "nbgrader": {
     "cell_type": "markdown",
     "checksum": "ae68e0d909cbf5740683f73cc82fbdf2",
     "grade": false,
     "grade_id": "cell-b7c9471bc4e36d92",
     "locked": true,
     "schema_version": 3,
     "solution": false,
     "task": false
    }
   },
   "source": [
    "We're going to specify the prior distribution using just two parameters.  We'll assume that each species has probability $b$ of having the disease for reasons unrelated to the foodweb. We'll also assume that if species $A$ carries the disease and if $A$ is eaten by species $B$, then the probability that $A$ transmits the disease to $B$ is $t$. We'll assume that $b = 0.1$ and $t=0.8$. Shafto et al (2008) set $t = 0.5$ but we'll use a value closer to 1 to make the model easier to think about.\n",
    "\n",
    "Making these assumptions about the background and transmission rates allows us to define a Bayes net over the graph shown in Figure 1. The key step is to define CPDs (conditional probability distributions) that indicate how the value for each variable depends on the value of its parents in the graph. Each CPD corresponds to a noisy-OR function with a background cause of strength $b$."
   ]
  },
  {
   "cell_type": "code",
   "execution_count": 7,
   "metadata": {
    "deletable": false,
    "editable": false,
    "nbgrader": {
     "cell_type": "code",
     "checksum": "4cde5c070d11ccfe94053088094326ef",
     "grade": false,
     "grade_id": "cell-6a29cc078b452f18",
     "locked": true,
     "schema_version": 3,
     "solution": false,
     "task": false
    }
   },
   "outputs": [],
   "source": [
    "b <- 0.1 # background rate\n",
    "t <- 0.8 # transmission rate\n",
    "\n",
    "# set up noisy-OR CPDs\n",
    "# zerop is for nodes without any parents in the graph (ie kelp)\n",
    "zerop <- c(1-b,b)\n",
    "\n",
    "\n",
    "# onep is for nodes with a single parent in the graph (ie herring, dolphin, tuna, sandshark, human)\n",
    "onep <- array(c( 1-b,\n",
    "                (1-t)*(1-b),\n",
    "                 b,\n",
    "                 1 - (1-t)*(1-b)), dim = c(2,2))\n",
    "\n",
    "\n",
    "# twop is for nodes with two parents (ie mako). \n",
    "\n",
    "twop <-  array(            c( 1-b,\n",
    "                             (1-t)*(1-b),\n",
    "                             (1-t)*(1-b),\n",
    "                             (1-t)*(1-t)*(1-b),\n",
    "                              b,\n",
    "                              1-(1-t)*(1-b),\n",
    "                              1-(1-t)*(1-b),\n",
    "                              1-(1-t)*(1-t)*(1-b)),  dim = c(2,2,2))\n",
    "\n",
    "# now organize these cpds into a list\n",
    "cpds <- list( kelp=zerop, \n",
    "              herring=onep, \n",
    "              dolphin=onep,\n",
    "              tuna=onep,\n",
    "              sandshark=onep,\n",
    "              mako=twop,\n",
    "              human=onep )"
   ]
  },
  {
   "cell_type": "markdown",
   "metadata": {
    "deletable": false,
    "editable": false,
    "nbgrader": {
     "cell_type": "markdown",
     "checksum": "34546f8aa1776f905fe8f8c3df48e16c",
     "grade": false,
     "grade_id": "cell-da158f2e77d0283f",
     "locked": true,
     "schema_version": 3,
     "solution": false,
     "task": false
    }
   },
   "source": [
    "We need to be careful to put the entries in the CPDs in the right order. Here's the CPD for nodes with no parents"
   ]
  },
  {
   "cell_type": "code",
   "execution_count": 8,
   "metadata": {
    "deletable": false,
    "editable": false,
    "nbgrader": {
     "cell_type": "code",
     "checksum": "a213541cd364710ccd05f832ca0f2ec1",
     "grade": false,
     "grade_id": "cell-6a29cc078b452f28",
     "locked": true,
     "schema_version": 3,
     "solution": false,
     "task": false
    }
   },
   "outputs": [
    {
     "name": "stdout",
     "output_type": "stream",
     "text": [
      "[1] 0.9 0.1\n"
     ]
    }
   ],
   "source": [
    "print(zerop)"
   ]
  },
  {
   "cell_type": "markdown",
   "metadata": {
    "deletable": false,
    "editable": false,
    "nbgrader": {
     "cell_type": "markdown",
     "checksum": "981edd7657a708ffc0038e1b126b71a8",
     "grade": false,
     "grade_id": "cell-b045177e39c6b3d4",
     "locked": true,
     "schema_version": 3,
     "solution": false,
     "task": false
    }
   },
   "source": [
    "Remember that 2 stands for TRUE --- so `zerop[2]` is the the probability that a node without parents has the disease. Let's now inspect the CPD for nodes that have one parent.  "
   ]
  },
  {
   "cell_type": "code",
   "execution_count": 9,
   "metadata": {
    "deletable": false,
    "editable": false,
    "nbgrader": {
     "cell_type": "code",
     "checksum": "7c4ede2ca27d6f809c292683b1a99cbd",
     "grade": false,
     "grade_id": "cell-6a29cc078b452f48",
     "locked": true,
     "schema_version": 3,
     "solution": false,
     "task": false
    }
   },
   "outputs": [
    {
     "name": "stdout",
     "output_type": "stream",
     "text": [
      "     [,1] [,2]\n",
      "[1,] 0.90 0.10\n",
      "[2,] 0.18 0.82\n"
     ]
    }
   ],
   "source": [
    "print(onep)"
   ]
  },
  {
   "cell_type": "markdown",
   "metadata": {
    "deletable": false,
    "editable": false,
    "nbgrader": {
     "cell_type": "markdown",
     "checksum": "d94fee1a0ca0d930013ac449b42917ff",
     "grade": false,
     "grade_id": "cell-797f105c6bcdf582",
     "locked": true,
     "schema_version": 3,
     "solution": false,
     "task": false
    }
   },
   "source": [
    "To illustrate, let `H` = Herring be the child node and `K` = Kelp be the parent node. We've set up this CPD so that the initial index corresponds to the parent node (i.e. Kelp) and the final node corresponds to the child node (i.e. Herring). For example, `onep[2,1]` specifies $P(H=1|K=2)$, and `onep[2,2]` specifies $P(H=2|K=2)$."
   ]
  },
  {
   "cell_type": "markdown",
   "metadata": {
    "deletable": false,
    "editable": false,
    "nbgrader": {
     "cell_type": "markdown",
     "checksum": "912c7e1dc8fa751c6f2c419d13d249b9",
     "grade": false,
     "grade_id": "cell-f3bcc2a24c7fe2a8",
     "locked": true,
     "schema_version": 3,
     "solution": false,
     "task": false
    }
   },
   "source": [
    "Finally, let's inspect the CPD for `M` = Mako, which has two parents (`D` = Dolphin and `T` = Tuna). "
   ]
  },
  {
   "cell_type": "code",
   "execution_count": 10,
   "metadata": {
    "deletable": false,
    "editable": false,
    "nbgrader": {
     "cell_type": "code",
     "checksum": "49420a43addfc96ba214299dd42bb4bb",
     "grade": false,
     "grade_id": "cell-51be6b9aa67b4709",
     "locked": true,
     "schema_version": 3,
     "solution": false,
     "task": false
    }
   },
   "outputs": [
    {
     "name": "stdout",
     "output_type": "stream",
     "text": [
      ", , 1\n",
      "\n",
      "     [,1]  [,2]\n",
      "[1,] 0.90 0.180\n",
      "[2,] 0.18 0.036\n",
      "\n",
      ", , 2\n",
      "\n",
      "     [,1]  [,2]\n",
      "[1,] 0.10 0.820\n",
      "[2,] 0.82 0.964\n",
      "\n"
     ]
    }
   ],
   "source": [
    "print(twop)"
   ]
  },
  {
   "cell_type": "markdown",
   "metadata": {
    "deletable": false,
    "editable": false,
    "nbgrader": {
     "cell_type": "markdown",
     "checksum": "480405e503c784064980ad38ff87a68e",
     "grade": false,
     "grade_id": "cell-4962e4f06f4fc7ae",
     "locked": true,
     "schema_version": 3,
     "solution": false,
     "task": false
    }
   },
   "source": [
    "Again, the initial indices correspond to the parents and the final index corresponds to the child. For example, `twop[1,1,2]` specifies $P(M = 2|D=1, T=1)$."
   ]
  },
  {
   "cell_type": "markdown",
   "metadata": {
    "deletable": false,
    "editable": false,
    "nbgrader": {
     "cell_type": "markdown",
     "checksum": "4428cbe4c728a28109d1a17be4498aed",
     "grade": false,
     "grade_id": "cell-10fd216749663b95",
     "locked": true,
     "schema_version": 3,
     "solution": false,
     "task": false
    }
   },
   "source": [
    "We can now define the prior. \n",
    "\n",
    "### Question 2 (1 point)\n",
    "\n",
    "The definition here is incomplete -- please fix it up.\n"
   ]
  },
  {
   "cell_type": "code",
   "execution_count": 11,
   "metadata": {
    "deletable": false,
    "nbgrader": {
     "cell_type": "code",
     "checksum": "e893c9f292692bb808b6fb3e879de3c2",
     "grade": false,
     "grade_id": "cell-d5a4c02ebd0a133f",
     "locked": false,
     "schema_version": 3,
     "solution": true,
     "task": false
    }
   },
   "outputs": [
    {
     "data": {
      "text/html": [
       "<table>\n",
       " <thead>\n",
       "  <tr>\n",
       "   <th style=\"text-align:center;\"> hypnum </th>\n",
       "   <th style=\"text-align:center;\"> kelp </th>\n",
       "   <th style=\"text-align:center;\"> herring </th>\n",
       "   <th style=\"text-align:center;\"> dolphin </th>\n",
       "   <th style=\"text-align:center;\"> tuna </th>\n",
       "   <th style=\"text-align:center;\"> sandshark </th>\n",
       "   <th style=\"text-align:center;\"> mako </th>\n",
       "   <th style=\"text-align:center;\"> human </th>\n",
       "   <th style=\"text-align:center;\"> prior </th>\n",
       "  </tr>\n",
       " </thead>\n",
       "<tbody>\n",
       "  <tr>\n",
       "   <td style=\"text-align:center;\"> 123 </td>\n",
       "   <td style=\"text-align:center;\"> 2 </td>\n",
       "   <td style=\"text-align:center;\"> 2 </td>\n",
       "   <td style=\"text-align:center;\"> 2 </td>\n",
       "   <td style=\"text-align:center;\"> 2 </td>\n",
       "   <td style=\"text-align:center;\"> 1 </td>\n",
       "   <td style=\"text-align:center;\"> 2 </td>\n",
       "   <td style=\"text-align:center;\"> 1 </td>\n",
       "   <td style=\"text-align:center;\"> 0.0017221 </td>\n",
       "  </tr>\n",
       "  <tr>\n",
       "   <td style=\"text-align:center;\"> 124 </td>\n",
       "   <td style=\"text-align:center;\"> 2 </td>\n",
       "   <td style=\"text-align:center;\"> 2 </td>\n",
       "   <td style=\"text-align:center;\"> 2 </td>\n",
       "   <td style=\"text-align:center;\"> 2 </td>\n",
       "   <td style=\"text-align:center;\"> 1 </td>\n",
       "   <td style=\"text-align:center;\"> 2 </td>\n",
       "   <td style=\"text-align:center;\"> 2 </td>\n",
       "   <td style=\"text-align:center;\"> 0.0078452 </td>\n",
       "  </tr>\n",
       "  <tr>\n",
       "   <td style=\"text-align:center;\"> 125 </td>\n",
       "   <td style=\"text-align:center;\"> 2 </td>\n",
       "   <td style=\"text-align:center;\"> 2 </td>\n",
       "   <td style=\"text-align:center;\"> 2 </td>\n",
       "   <td style=\"text-align:center;\"> 2 </td>\n",
       "   <td style=\"text-align:center;\"> 2 </td>\n",
       "   <td style=\"text-align:center;\"> 1 </td>\n",
       "   <td style=\"text-align:center;\"> 1 </td>\n",
       "   <td style=\"text-align:center;\"> 0.0014649 </td>\n",
       "  </tr>\n",
       "  <tr>\n",
       "   <td style=\"text-align:center;\"> 126 </td>\n",
       "   <td style=\"text-align:center;\"> 2 </td>\n",
       "   <td style=\"text-align:center;\"> 2 </td>\n",
       "   <td style=\"text-align:center;\"> 2 </td>\n",
       "   <td style=\"text-align:center;\"> 2 </td>\n",
       "   <td style=\"text-align:center;\"> 2 </td>\n",
       "   <td style=\"text-align:center;\"> 1 </td>\n",
       "   <td style=\"text-align:center;\"> 2 </td>\n",
       "   <td style=\"text-align:center;\"> 0.0001628 </td>\n",
       "  </tr>\n",
       "  <tr>\n",
       "   <td style=\"text-align:center;\"> 127 </td>\n",
       "   <td style=\"text-align:center;\"> 2 </td>\n",
       "   <td style=\"text-align:center;\"> 2 </td>\n",
       "   <td style=\"text-align:center;\"> 2 </td>\n",
       "   <td style=\"text-align:center;\"> 2 </td>\n",
       "   <td style=\"text-align:center;\"> 2 </td>\n",
       "   <td style=\"text-align:center;\"> 2 </td>\n",
       "   <td style=\"text-align:center;\"> 1 </td>\n",
       "   <td style=\"text-align:center;\"> 0.0078452 </td>\n",
       "  </tr>\n",
       "  <tr>\n",
       "   <td style=\"text-align:center;\"> 128 </td>\n",
       "   <td style=\"text-align:center;\"> 2 </td>\n",
       "   <td style=\"text-align:center;\"> 2 </td>\n",
       "   <td style=\"text-align:center;\"> 2 </td>\n",
       "   <td style=\"text-align:center;\"> 2 </td>\n",
       "   <td style=\"text-align:center;\"> 2 </td>\n",
       "   <td style=\"text-align:center;\"> 2 </td>\n",
       "   <td style=\"text-align:center;\"> 2 </td>\n",
       "   <td style=\"text-align:center;\"> 0.0357393 </td>\n",
       "  </tr>\n",
       "</tbody>\n",
       "</table>"
      ]
     },
     "metadata": {},
     "output_type": "display_data"
    }
   ],
   "source": [
    "# function that computes the probability of hypothesis H, which specifies a value for each species \n",
    "# in the foodweb \n",
    "\n",
    "p_h <- function(h) {\n",
    "  prob = cpds$kelp[h$kelp] *\n",
    "    cpds$herring[h$kelp,h$herring]* \n",
    "    cpds$dolphin[h$herring,h$dolphin]*\n",
    "    cpds$tuna[h$herring, h$tuna]*\n",
    "    cpds$sandshark[h$herring,h$sandshark]*\n",
    "    cpds$mako[h$dolphin, h$tuna, h$mako]*\n",
    "    cpds$human[h$mako,h$human]\n",
    "\n",
    "  return(prob)\n",
    "}\n",
    "\n",
    "hs <- hs %>% \n",
    "  mutate(prior = map_dbl(hyp, p_h))\n",
    "\n",
    "unnest(hs, cols = c(hyp))  %>% \n",
    "    tail()  %>% \n",
    "    show_table()\n"
   ]
  },
  {
   "cell_type": "code",
   "execution_count": 12,
   "metadata": {
    "deletable": false,
    "editable": false,
    "nbgrader": {
     "cell_type": "code",
     "checksum": "f6b4470e84ea11ea2a087bc3952f7967",
     "grade": true,
     "grade_id": "cell-3ed1c7b4fb0767bf",
     "locked": true,
     "points": 1,
     "schema_version": 3,
     "solution": false,
     "task": false
    }
   },
   "outputs": [],
   "source": [
    "# Please make sure that your code passes these tests before continuing!\n",
    "expect_equal(sum(hs$prior), 1) \n",
    "\n",
    "hs_sorted <- hs %>% arrange(hypnum)\n",
    "expect_equal(hs_sorted$prior, \n",
    "c(4.782969e-01,5.314410e-02,1.062882e-02,4.842018e-02,5.314410e-02,5.904900e-03,1.180980e-03, 5.380020e-03,1.062882e-02,1.180980e-03,9.684036e-03,4.411616e-02,1.180980e-03,1.312200e-04, 1.076004e-03,4.901796e-03,1.062882e-02,1.180980e-03,9.684036e-03,4.411616e-02,1.180980e-03, 1.312200e-04,1.076004e-03,4.901796e-03,2.361960e-04,2.624400e-05,1.264961e-03,5.762599e-03, 2.624400e-05,2.916000e-06,1.405512e-04,6.402888e-04,4.251528e-04,4.723920e-05,9.447840e-06, 4.304016e-05,1.936807e-03,2.152008e-04,4.304016e-05,1.960718e-04,3.873614e-04,4.304016e-05, 3.529293e-04,1.607789e-03,1.764647e-03,1.960718e-04,1.607789e-03,7.324373e-03,3.873614e-04, 4.304016e-05,3.529293e-04,1.607789e-03,1.764647e-03,1.960718e-04,1.607789e-03,7.324373e-03, 3.529293e-04,3.921437e-05,1.890133e-03,8.610604e-03,1.607789e-03,1.786432e-04,8.610604e-03, 3.922608e-02,1.062882e-02,1.180980e-03,2.361960e-04,1.076004e-03,1.180980e-03,1.312200e-04, 2.624400e-05,1.195560e-04,2.361960e-04,2.624400e-05,2.152008e-04,9.803592e-04,2.624400e-05, 2.916000e-06,2.391120e-05,1.089288e-04,2.361960e-04,2.624400e-05,2.152008e-04,9.803592e-04, 2.624400e-05,2.916000e-06,2.391120e-05,1.089288e-04,5.248800e-06,5.832000e-07,2.811024e-05, 1.280578e-04,5.832000e-07,6.480000e-08,3.123360e-06,1.422864e-05,3.873614e-04,4.304016e-05, 8.608032e-06,3.921437e-05,1.764647e-03,1.960718e-04,3.921437e-05,1.786432e-04,3.529293e-04, 3.921437e-05,3.215578e-04,1.464875e-03,1.607789e-03,1.786432e-04,1.464875e-03,6.673317e-03, 3.529293e-04,3.921437e-05,3.215578e-04,1.464875e-03,1.607789e-03,1.786432e-04,1.464875e-03, 6.673317e-03,3.215578e-04,3.572865e-05,1.722121e-03,7.845217e-03,1.464875e-03,1.627638e-04, 7.845217e-03,3.573932e-02), tolerance = 0.00001)"
   ]
  },
  {
   "cell_type": "markdown",
   "metadata": {
    "deletable": false,
    "editable": false,
    "nbgrader": {
     "cell_type": "markdown",
     "checksum": "094ce5ec7cb9c86e734a7a5e2733252f",
     "grade": false,
     "grade_id": "cell-fe37833c1a21d9a5",
     "locked": true,
     "schema_version": 3,
     "solution": false,
     "task": false
    }
   },
   "source": [
    "## Observed data\n",
    "\n",
    "The observed data are the premises of the argument --- e.g. we might be told that mako carry a disease but kelp does not,  and asked to decide how probable it is that the other species have the same disease\n"
   ]
  },
  {
   "cell_type": "code",
   "execution_count": 13,
   "metadata": {
    "deletable": false,
    "editable": false,
    "nbgrader": {
     "cell_type": "code",
     "checksum": "956049845134c00e00cf49e50816bdec",
     "grade": false,
     "grade_id": "cell-5149f5b3022d2435",
     "locked": true,
     "schema_version": 3,
     "solution": false,
     "task": false
    }
   },
   "outputs": [],
   "source": [
    "# Specify that kelp does not have the disease, but makos do\n",
    "premises <- list(kelp = 1, mako = 2)"
   ]
  },
  {
   "cell_type": "markdown",
   "metadata": {
    "deletable": false,
    "editable": false,
    "nbgrader": {
     "cell_type": "markdown",
     "checksum": "9f42918bf3d26f1b1a4de1858c06c761",
     "grade": false,
     "grade_id": "cell-903d7ebb4682691c",
     "locked": true,
     "schema_version": 3,
     "solution": false,
     "task": false
    }
   },
   "source": [
    "  \n",
    "\n",
    "## Likelihood function\n",
    "\n",
    "We need to specify the likelihood $P(\\text{premises}|h)$ which captures how probable the premises would be if $h$ were true. Here we'll assume that the premises are generated by going out and measuring whether each species in `premises` has the disease, and that the measurements are perfect and error-free. This means that $P(\\text{premises}|h)$ is 1 if hypothesis $h$ is consistent with the premises and 0 otherwise.\n"
   ]
  },
  {
   "cell_type": "code",
   "execution_count": 14,
   "metadata": {
    "deletable": false,
    "editable": false,
    "nbgrader": {
     "cell_type": "code",
     "checksum": "a9bf2d8d2993d04c05fc2faec3d1b05f",
     "grade": false,
     "grade_id": "cell-6babbe34fef899f4",
     "locked": true,
     "schema_version": 3,
     "solution": false,
     "task": false
    }
   },
   "outputs": [
    {
     "data": {
      "text/html": [
       "<table>\n",
       " <thead>\n",
       "  <tr>\n",
       "   <th style=\"text-align:center;\"> hypnum </th>\n",
       "   <th style=\"text-align:center;\"> kelp </th>\n",
       "   <th style=\"text-align:center;\"> herring </th>\n",
       "   <th style=\"text-align:center;\"> dolphin </th>\n",
       "   <th style=\"text-align:center;\"> tuna </th>\n",
       "   <th style=\"text-align:center;\"> sandshark </th>\n",
       "   <th style=\"text-align:center;\"> mako </th>\n",
       "   <th style=\"text-align:center;\"> human </th>\n",
       "   <th style=\"text-align:center;\"> prior </th>\n",
       "   <th style=\"text-align:center;\"> likelihood </th>\n",
       "  </tr>\n",
       " </thead>\n",
       "<tbody>\n",
       "  <tr>\n",
       "   <td style=\"text-align:center;\"> 123 </td>\n",
       "   <td style=\"text-align:center;\"> 2 </td>\n",
       "   <td style=\"text-align:center;\"> 2 </td>\n",
       "   <td style=\"text-align:center;\"> 2 </td>\n",
       "   <td style=\"text-align:center;\"> 2 </td>\n",
       "   <td style=\"text-align:center;\"> 1 </td>\n",
       "   <td style=\"text-align:center;\"> 2 </td>\n",
       "   <td style=\"text-align:center;\"> 1 </td>\n",
       "   <td style=\"text-align:center;\"> 0.0017221 </td>\n",
       "   <td style=\"text-align:center;\"> 0 </td>\n",
       "  </tr>\n",
       "  <tr>\n",
       "   <td style=\"text-align:center;\"> 124 </td>\n",
       "   <td style=\"text-align:center;\"> 2 </td>\n",
       "   <td style=\"text-align:center;\"> 2 </td>\n",
       "   <td style=\"text-align:center;\"> 2 </td>\n",
       "   <td style=\"text-align:center;\"> 2 </td>\n",
       "   <td style=\"text-align:center;\"> 1 </td>\n",
       "   <td style=\"text-align:center;\"> 2 </td>\n",
       "   <td style=\"text-align:center;\"> 2 </td>\n",
       "   <td style=\"text-align:center;\"> 0.0078452 </td>\n",
       "   <td style=\"text-align:center;\"> 0 </td>\n",
       "  </tr>\n",
       "  <tr>\n",
       "   <td style=\"text-align:center;\"> 125 </td>\n",
       "   <td style=\"text-align:center;\"> 2 </td>\n",
       "   <td style=\"text-align:center;\"> 2 </td>\n",
       "   <td style=\"text-align:center;\"> 2 </td>\n",
       "   <td style=\"text-align:center;\"> 2 </td>\n",
       "   <td style=\"text-align:center;\"> 2 </td>\n",
       "   <td style=\"text-align:center;\"> 1 </td>\n",
       "   <td style=\"text-align:center;\"> 1 </td>\n",
       "   <td style=\"text-align:center;\"> 0.0014649 </td>\n",
       "   <td style=\"text-align:center;\"> 0 </td>\n",
       "  </tr>\n",
       "  <tr>\n",
       "   <td style=\"text-align:center;\"> 126 </td>\n",
       "   <td style=\"text-align:center;\"> 2 </td>\n",
       "   <td style=\"text-align:center;\"> 2 </td>\n",
       "   <td style=\"text-align:center;\"> 2 </td>\n",
       "   <td style=\"text-align:center;\"> 2 </td>\n",
       "   <td style=\"text-align:center;\"> 2 </td>\n",
       "   <td style=\"text-align:center;\"> 1 </td>\n",
       "   <td style=\"text-align:center;\"> 2 </td>\n",
       "   <td style=\"text-align:center;\"> 0.0001628 </td>\n",
       "   <td style=\"text-align:center;\"> 0 </td>\n",
       "  </tr>\n",
       "  <tr>\n",
       "   <td style=\"text-align:center;\"> 127 </td>\n",
       "   <td style=\"text-align:center;\"> 2 </td>\n",
       "   <td style=\"text-align:center;\"> 2 </td>\n",
       "   <td style=\"text-align:center;\"> 2 </td>\n",
       "   <td style=\"text-align:center;\"> 2 </td>\n",
       "   <td style=\"text-align:center;\"> 2 </td>\n",
       "   <td style=\"text-align:center;\"> 2 </td>\n",
       "   <td style=\"text-align:center;\"> 1 </td>\n",
       "   <td style=\"text-align:center;\"> 0.0078452 </td>\n",
       "   <td style=\"text-align:center;\"> 0 </td>\n",
       "  </tr>\n",
       "  <tr>\n",
       "   <td style=\"text-align:center;\"> 128 </td>\n",
       "   <td style=\"text-align:center;\"> 2 </td>\n",
       "   <td style=\"text-align:center;\"> 2 </td>\n",
       "   <td style=\"text-align:center;\"> 2 </td>\n",
       "   <td style=\"text-align:center;\"> 2 </td>\n",
       "   <td style=\"text-align:center;\"> 2 </td>\n",
       "   <td style=\"text-align:center;\"> 2 </td>\n",
       "   <td style=\"text-align:center;\"> 2 </td>\n",
       "   <td style=\"text-align:center;\"> 0.0357393 </td>\n",
       "   <td style=\"text-align:center;\"> 0 </td>\n",
       "  </tr>\n",
       "</tbody>\n",
       "</table>"
      ]
     },
     "metadata": {},
     "output_type": "display_data"
    }
   ],
   "source": [
    "# Compute likelihood p(premises|h) \n",
    "p_premises_given_h <- function(h, premises) {\n",
    "  likelihood <- 1\n",
    "  for (l in labels(premises)) {\n",
    "    if (premises[l] != h[l]) {\n",
    "      likelihood <-  0\n",
    "    }\n",
    "  }\n",
    "  return(likelihood)\n",
    "}\n",
    "\n",
    "hs <- hs %>% \n",
    "  mutate(likelihood= map_dbl(hyp, p_premises_given_h, premises))\n",
    "\n",
    "\n",
    "unnest(hs, cols = c(hyp))  %>% \n",
    "    tail()  %>% \n",
    "    show_table()\n"
   ]
  },
  {
   "cell_type": "markdown",
   "metadata": {
    "deletable": false,
    "editable": false,
    "nbgrader": {
     "cell_type": "markdown",
     "checksum": "0a9816ba5bbbc9dbc7cdf400a5cbded4",
     "grade": false,
     "grade_id": "cell-b4b0c66ad4e3b3c1",
     "locked": true,
     "schema_version": 3,
     "solution": false,
     "task": false
    }
   },
   "source": [
    "## Compute posterior \n",
    "\n",
    "Now we can combine the prior and likelihood to compute the posterior.\n"
   ]
  },
  {
   "cell_type": "code",
   "execution_count": 15,
   "metadata": {
    "deletable": false,
    "editable": false,
    "nbgrader": {
     "cell_type": "code",
     "checksum": "b809767d53b068de6483dd8c2cc3bba0",
     "grade": false,
     "grade_id": "cell-23b186b6c6ee0a60",
     "locked": true,
     "schema_version": 3,
     "solution": false,
     "task": false
    }
   },
   "outputs": [
    {
     "data": {
      "text/html": [
       "<table>\n",
       " <thead>\n",
       "  <tr>\n",
       "   <th style=\"text-align:center;\"> hypnum </th>\n",
       "   <th style=\"text-align:center;\"> kelp </th>\n",
       "   <th style=\"text-align:center;\"> herring </th>\n",
       "   <th style=\"text-align:center;\"> dolphin </th>\n",
       "   <th style=\"text-align:center;\"> tuna </th>\n",
       "   <th style=\"text-align:center;\"> sandshark </th>\n",
       "   <th style=\"text-align:center;\"> mako </th>\n",
       "   <th style=\"text-align:center;\"> human </th>\n",
       "   <th style=\"text-align:center;\"> prior </th>\n",
       "   <th style=\"text-align:center;\"> likelihood </th>\n",
       "   <th style=\"text-align:center;\"> posterior </th>\n",
       "  </tr>\n",
       " </thead>\n",
       "<tbody>\n",
       "  <tr>\n",
       "   <td style=\"text-align:center;\"> 123 </td>\n",
       "   <td style=\"text-align:center;\"> 2 </td>\n",
       "   <td style=\"text-align:center;\"> 2 </td>\n",
       "   <td style=\"text-align:center;\"> 2 </td>\n",
       "   <td style=\"text-align:center;\"> 2 </td>\n",
       "   <td style=\"text-align:center;\"> 1 </td>\n",
       "   <td style=\"text-align:center;\"> 2 </td>\n",
       "   <td style=\"text-align:center;\"> 1 </td>\n",
       "   <td style=\"text-align:center;\"> 0.0017221 </td>\n",
       "   <td style=\"text-align:center;\"> 0 </td>\n",
       "   <td style=\"text-align:center;\"> 0 </td>\n",
       "  </tr>\n",
       "  <tr>\n",
       "   <td style=\"text-align:center;\"> 124 </td>\n",
       "   <td style=\"text-align:center;\"> 2 </td>\n",
       "   <td style=\"text-align:center;\"> 2 </td>\n",
       "   <td style=\"text-align:center;\"> 2 </td>\n",
       "   <td style=\"text-align:center;\"> 2 </td>\n",
       "   <td style=\"text-align:center;\"> 1 </td>\n",
       "   <td style=\"text-align:center;\"> 2 </td>\n",
       "   <td style=\"text-align:center;\"> 2 </td>\n",
       "   <td style=\"text-align:center;\"> 0.0078452 </td>\n",
       "   <td style=\"text-align:center;\"> 0 </td>\n",
       "   <td style=\"text-align:center;\"> 0 </td>\n",
       "  </tr>\n",
       "  <tr>\n",
       "   <td style=\"text-align:center;\"> 125 </td>\n",
       "   <td style=\"text-align:center;\"> 2 </td>\n",
       "   <td style=\"text-align:center;\"> 2 </td>\n",
       "   <td style=\"text-align:center;\"> 2 </td>\n",
       "   <td style=\"text-align:center;\"> 2 </td>\n",
       "   <td style=\"text-align:center;\"> 2 </td>\n",
       "   <td style=\"text-align:center;\"> 1 </td>\n",
       "   <td style=\"text-align:center;\"> 1 </td>\n",
       "   <td style=\"text-align:center;\"> 0.0014649 </td>\n",
       "   <td style=\"text-align:center;\"> 0 </td>\n",
       "   <td style=\"text-align:center;\"> 0 </td>\n",
       "  </tr>\n",
       "  <tr>\n",
       "   <td style=\"text-align:center;\"> 126 </td>\n",
       "   <td style=\"text-align:center;\"> 2 </td>\n",
       "   <td style=\"text-align:center;\"> 2 </td>\n",
       "   <td style=\"text-align:center;\"> 2 </td>\n",
       "   <td style=\"text-align:center;\"> 2 </td>\n",
       "   <td style=\"text-align:center;\"> 2 </td>\n",
       "   <td style=\"text-align:center;\"> 1 </td>\n",
       "   <td style=\"text-align:center;\"> 2 </td>\n",
       "   <td style=\"text-align:center;\"> 0.0001628 </td>\n",
       "   <td style=\"text-align:center;\"> 0 </td>\n",
       "   <td style=\"text-align:center;\"> 0 </td>\n",
       "  </tr>\n",
       "  <tr>\n",
       "   <td style=\"text-align:center;\"> 127 </td>\n",
       "   <td style=\"text-align:center;\"> 2 </td>\n",
       "   <td style=\"text-align:center;\"> 2 </td>\n",
       "   <td style=\"text-align:center;\"> 2 </td>\n",
       "   <td style=\"text-align:center;\"> 2 </td>\n",
       "   <td style=\"text-align:center;\"> 2 </td>\n",
       "   <td style=\"text-align:center;\"> 2 </td>\n",
       "   <td style=\"text-align:center;\"> 1 </td>\n",
       "   <td style=\"text-align:center;\"> 0.0078452 </td>\n",
       "   <td style=\"text-align:center;\"> 0 </td>\n",
       "   <td style=\"text-align:center;\"> 0 </td>\n",
       "  </tr>\n",
       "  <tr>\n",
       "   <td style=\"text-align:center;\"> 128 </td>\n",
       "   <td style=\"text-align:center;\"> 2 </td>\n",
       "   <td style=\"text-align:center;\"> 2 </td>\n",
       "   <td style=\"text-align:center;\"> 2 </td>\n",
       "   <td style=\"text-align:center;\"> 2 </td>\n",
       "   <td style=\"text-align:center;\"> 2 </td>\n",
       "   <td style=\"text-align:center;\"> 2 </td>\n",
       "   <td style=\"text-align:center;\"> 2 </td>\n",
       "   <td style=\"text-align:center;\"> 0.0357393 </td>\n",
       "   <td style=\"text-align:center;\"> 0 </td>\n",
       "   <td style=\"text-align:center;\"> 0 </td>\n",
       "  </tr>\n",
       "</tbody>\n",
       "</table>"
      ]
     },
     "metadata": {},
     "output_type": "display_data"
    }
   ],
   "source": [
    "# compute posterior\n",
    "hs <- hs %>% \n",
    "  # first compute an unnormalized posterior ...\n",
    "  mutate(posterior = prior*likelihood) %>% \n",
    "  # then normalize so that it sums to 1\n",
    "  mutate(posterior = posterior / sum(posterior))\n",
    "\n",
    "\n",
    "unnest(hs, cols = c(hyp))  %>% \n",
    "    tail()  %>% \n",
    "    show_table()"
   ]
  },
  {
   "cell_type": "markdown",
   "metadata": {
    "deletable": false,
    "editable": false,
    "nbgrader": {
     "cell_type": "markdown",
     "checksum": "eba4fa422d963c27631cbe9288487f51",
     "grade": false,
     "grade_id": "cell-06d8216c23865353",
     "locked": true,
     "schema_version": 3,
     "solution": false,
     "task": false
    }
   },
   "source": [
    "## Predictions about other species\n",
    "\n",
    "We can now use the posterior distribution to answer questions about other species in the foodweb -- e.g. how probable is it that tuna carry the disease given what we've observed?\n"
   ]
  },
  {
   "cell_type": "code",
   "execution_count": 16,
   "metadata": {
    "deletable": false,
    "editable": false,
    "nbgrader": {
     "cell_type": "code",
     "checksum": "ae5e5507f1ee43b7d41ae42eef718935",
     "grade": false,
     "grade_id": "cell-0537b6f0177b52f9",
     "locked": true,
     "schema_version": 3,
     "solution": false,
     "task": false
    }
   },
   "outputs": [
    {
     "data": {
      "text/html": [
       "<table>\n",
       " <thead>\n",
       "  <tr>\n",
       "   <th style=\"text-align:center;\"> kelp </th>\n",
       "   <th style=\"text-align:center;\"> herring </th>\n",
       "   <th style=\"text-align:center;\"> dolphin </th>\n",
       "   <th style=\"text-align:center;\"> tuna </th>\n",
       "   <th style=\"text-align:center;\"> sandshark </th>\n",
       "   <th style=\"text-align:center;\"> mako </th>\n",
       "   <th style=\"text-align:center;\"> human </th>\n",
       "  </tr>\n",
       " </thead>\n",
       "<tbody>\n",
       "  <tr>\n",
       "   <td style=\"text-align:center;\"> 0 </td>\n",
       "   <td style=\"text-align:center;\"> 0.2941403 </td>\n",
       "   <td style=\"text-align:center;\"> 0.5004467 </td>\n",
       "   <td style=\"text-align:center;\"> 0.5004467 </td>\n",
       "   <td style=\"text-align:center;\"> 0.311781 </td>\n",
       "   <td style=\"text-align:center;\"> 1 </td>\n",
       "   <td style=\"text-align:center;\"> 0.82 </td>\n",
       "  </tr>\n",
       "</tbody>\n",
       "</table>"
      ]
     },
     "metadata": {},
     "output_type": "display_data"
    }
   ],
   "source": [
    "# compute posterior predictive distribution: ie generalizations for each species in the foodweb\n",
    "\n",
    "uhs <- unnest(hs, cols=c(hyp))\n",
    "\n",
    "genlist <-list()\n",
    "for( animalname in speciesnames ) {\n",
    "    animalprob <- uhs %>% \n",
    "      # we need !!ensym() here because animalname is a variable instead of a column name \n",
    "      filter(!!ensym(animalname) == 2) %>% \n",
    "      summarize(aprob=sum(posterior)) %>% \n",
    "      pull()\n",
    "    genlist[[animalname]] <- animalprob\n",
    "}\n",
    "gen <- as_tibble(genlist)\n",
    "\n",
    "show_table(gen)"
   ]
  },
  {
   "cell_type": "markdown",
   "metadata": {
    "deletable": false,
    "editable": false,
    "nbgrader": {
     "cell_type": "markdown",
     "checksum": "1fb68388737f1c31f6b2b7e30de9b948",
     "grade": false,
     "grade_id": "cell-995b1c669079827a",
     "locked": true,
     "schema_version": 3,
     "solution": false,
     "task": false
    }
   },
   "source": [
    "Now plot the predictions.\n",
    "\n"
   ]
  },
  {
   "cell_type": "code",
   "execution_count": 17,
   "metadata": {
    "deletable": false,
    "editable": false,
    "nbgrader": {
     "cell_type": "code",
     "checksum": "1e56a5308d7da79f5db97df9c346fe6f",
     "grade": false,
     "grade_id": "cell-761c0b0cf0291500",
     "locked": true,
     "schema_version": 3,
     "solution": false,
     "task": false
    }
   },
   "outputs": [
    {
     "data": {
      "image/png": "[encoded data removed]",
      "text/plain": [
       "plot without title"
      ]
     },
     "metadata": {
      "image/png": {
       "height": 420,
       "width": 420
      }
     },
     "output_type": "display_data"
    }
   ],
   "source": [
    "makeplot <- function(gen, plotname) {\n",
    "    genplot <- gather(gen) %>% \n",
    "       mutate(species = factor(key, levels=speciesnames), gen=value) \n",
    "\n",
    "    pic <- genplot %>%\n",
    "       ggplot(aes(x=species, y=value)) +\n",
    "       scale_y_continuous(lim=c(0,1)) +  \n",
    "       geom_col() + \n",
    "       theme(axis.text.x = element_text(angle = 90, hjust = 1, vjust = 0.5)) +\n",
    "       xlab(\"species\") +\n",
    "       ylab(\"prob of having disease\") \n",
    "\n",
    "    plot(pic)\n",
    "}  \n",
    "\n",
    "# plot generalizations across the food web \n",
    "makeplot(gen[1:n])"
   ]
  },
  {
   "cell_type": "code",
   "execution_count": 18,
   "metadata": {},
   "outputs": [
    {
     "data": {
      "text/html": [
       "<table>\n",
       " <thead>\n",
       "  <tr>\n",
       "   <th style=\"text-align:center;\"> hypnum </th>\n",
       "   <th style=\"text-align:center;\"> kelp </th>\n",
       "   <th style=\"text-align:center;\"> herring </th>\n",
       "   <th style=\"text-align:center;\"> dolphin </th>\n",
       "   <th style=\"text-align:center;\"> tuna </th>\n",
       "   <th style=\"text-align:center;\"> sandshark </th>\n",
       "   <th style=\"text-align:center;\"> mako </th>\n",
       "   <th style=\"text-align:center;\"> human </th>\n",
       "   <th style=\"text-align:center;\"> prior </th>\n",
       "   <th style=\"text-align:center;\"> likelihood </th>\n",
       "   <th style=\"text-align:center;\"> posterior </th>\n",
       "  </tr>\n",
       " </thead>\n",
       "<tbody>\n",
       "  <tr>\n",
       "   <td style=\"text-align:center;\"> 123 </td>\n",
       "   <td style=\"text-align:center;\"> 2 </td>\n",
       "   <td style=\"text-align:center;\"> 2 </td>\n",
       "   <td style=\"text-align:center;\"> 2 </td>\n",
       "   <td style=\"text-align:center;\"> 2 </td>\n",
       "   <td style=\"text-align:center;\"> 1 </td>\n",
       "   <td style=\"text-align:center;\"> 2 </td>\n",
       "   <td style=\"text-align:center;\"> 1 </td>\n",
       "   <td style=\"text-align:center;\"> 0.0017221 </td>\n",
       "   <td style=\"text-align:center;\"> 1 </td>\n",
       "   <td style=\"text-align:center;\"> 0 </td>\n",
       "  </tr>\n",
       "  <tr>\n",
       "   <td style=\"text-align:center;\"> 124 </td>\n",
       "   <td style=\"text-align:center;\"> 2 </td>\n",
       "   <td style=\"text-align:center;\"> 2 </td>\n",
       "   <td style=\"text-align:center;\"> 2 </td>\n",
       "   <td style=\"text-align:center;\"> 2 </td>\n",
       "   <td style=\"text-align:center;\"> 1 </td>\n",
       "   <td style=\"text-align:center;\"> 2 </td>\n",
       "   <td style=\"text-align:center;\"> 2 </td>\n",
       "   <td style=\"text-align:center;\"> 0.0078452 </td>\n",
       "   <td style=\"text-align:center;\"> 1 </td>\n",
       "   <td style=\"text-align:center;\"> 0 </td>\n",
       "  </tr>\n",
       "  <tr>\n",
       "   <td style=\"text-align:center;\"> 125 </td>\n",
       "   <td style=\"text-align:center;\"> 2 </td>\n",
       "   <td style=\"text-align:center;\"> 2 </td>\n",
       "   <td style=\"text-align:center;\"> 2 </td>\n",
       "   <td style=\"text-align:center;\"> 2 </td>\n",
       "   <td style=\"text-align:center;\"> 2 </td>\n",
       "   <td style=\"text-align:center;\"> 1 </td>\n",
       "   <td style=\"text-align:center;\"> 1 </td>\n",
       "   <td style=\"text-align:center;\"> 0.0014649 </td>\n",
       "   <td style=\"text-align:center;\"> 1 </td>\n",
       "   <td style=\"text-align:center;\"> 0 </td>\n",
       "  </tr>\n",
       "  <tr>\n",
       "   <td style=\"text-align:center;\"> 126 </td>\n",
       "   <td style=\"text-align:center;\"> 2 </td>\n",
       "   <td style=\"text-align:center;\"> 2 </td>\n",
       "   <td style=\"text-align:center;\"> 2 </td>\n",
       "   <td style=\"text-align:center;\"> 2 </td>\n",
       "   <td style=\"text-align:center;\"> 2 </td>\n",
       "   <td style=\"text-align:center;\"> 1 </td>\n",
       "   <td style=\"text-align:center;\"> 2 </td>\n",
       "   <td style=\"text-align:center;\"> 0.0001628 </td>\n",
       "   <td style=\"text-align:center;\"> 1 </td>\n",
       "   <td style=\"text-align:center;\"> 0 </td>\n",
       "  </tr>\n",
       "  <tr>\n",
       "   <td style=\"text-align:center;\"> 127 </td>\n",
       "   <td style=\"text-align:center;\"> 2 </td>\n",
       "   <td style=\"text-align:center;\"> 2 </td>\n",
       "   <td style=\"text-align:center;\"> 2 </td>\n",
       "   <td style=\"text-align:center;\"> 2 </td>\n",
       "   <td style=\"text-align:center;\"> 2 </td>\n",
       "   <td style=\"text-align:center;\"> 2 </td>\n",
       "   <td style=\"text-align:center;\"> 1 </td>\n",
       "   <td style=\"text-align:center;\"> 0.0078452 </td>\n",
       "   <td style=\"text-align:center;\"> 1 </td>\n",
       "   <td style=\"text-align:center;\"> 0 </td>\n",
       "  </tr>\n",
       "  <tr>\n",
       "   <td style=\"text-align:center;\"> 128 </td>\n",
       "   <td style=\"text-align:center;\"> 2 </td>\n",
       "   <td style=\"text-align:center;\"> 2 </td>\n",
       "   <td style=\"text-align:center;\"> 2 </td>\n",
       "   <td style=\"text-align:center;\"> 2 </td>\n",
       "   <td style=\"text-align:center;\"> 2 </td>\n",
       "   <td style=\"text-align:center;\"> 2 </td>\n",
       "   <td style=\"text-align:center;\"> 2 </td>\n",
       "   <td style=\"text-align:center;\"> 0.0357393 </td>\n",
       "   <td style=\"text-align:center;\"> 1 </td>\n",
       "   <td style=\"text-align:center;\"> 0 </td>\n",
       "  </tr>\n",
       "</tbody>\n",
       "</table>"
      ]
     },
     "metadata": {},
     "output_type": "display_data"
    },
    {
     "data": {
      "text/html": [
       "<table>\n",
       " <thead>\n",
       "  <tr>\n",
       "   <th style=\"text-align:center;\"> hypnum </th>\n",
       "   <th style=\"text-align:center;\"> kelp </th>\n",
       "   <th style=\"text-align:center;\"> herring </th>\n",
       "   <th style=\"text-align:center;\"> dolphin </th>\n",
       "   <th style=\"text-align:center;\"> tuna </th>\n",
       "   <th style=\"text-align:center;\"> sandshark </th>\n",
       "   <th style=\"text-align:center;\"> mako </th>\n",
       "   <th style=\"text-align:center;\"> human </th>\n",
       "   <th style=\"text-align:center;\"> prior </th>\n",
       "   <th style=\"text-align:center;\"> likelihood </th>\n",
       "   <th style=\"text-align:center;\"> posterior </th>\n",
       "  </tr>\n",
       " </thead>\n",
       "<tbody>\n",
       "  <tr>\n",
       "   <td style=\"text-align:center;\"> 123 </td>\n",
       "   <td style=\"text-align:center;\"> 2 </td>\n",
       "   <td style=\"text-align:center;\"> 2 </td>\n",
       "   <td style=\"text-align:center;\"> 2 </td>\n",
       "   <td style=\"text-align:center;\"> 2 </td>\n",
       "   <td style=\"text-align:center;\"> 1 </td>\n",
       "   <td style=\"text-align:center;\"> 2 </td>\n",
       "   <td style=\"text-align:center;\"> 1 </td>\n",
       "   <td style=\"text-align:center;\"> 0.0017221 </td>\n",
       "   <td style=\"text-align:center;\"> 1 </td>\n",
       "   <td style=\"text-align:center;\"> 0.0017221 </td>\n",
       "  </tr>\n",
       "  <tr>\n",
       "   <td style=\"text-align:center;\"> 124 </td>\n",
       "   <td style=\"text-align:center;\"> 2 </td>\n",
       "   <td style=\"text-align:center;\"> 2 </td>\n",
       "   <td style=\"text-align:center;\"> 2 </td>\n",
       "   <td style=\"text-align:center;\"> 2 </td>\n",
       "   <td style=\"text-align:center;\"> 1 </td>\n",
       "   <td style=\"text-align:center;\"> 2 </td>\n",
       "   <td style=\"text-align:center;\"> 2 </td>\n",
       "   <td style=\"text-align:center;\"> 0.0078452 </td>\n",
       "   <td style=\"text-align:center;\"> 1 </td>\n",
       "   <td style=\"text-align:center;\"> 0.0078452 </td>\n",
       "  </tr>\n",
       "  <tr>\n",
       "   <td style=\"text-align:center;\"> 125 </td>\n",
       "   <td style=\"text-align:center;\"> 2 </td>\n",
       "   <td style=\"text-align:center;\"> 2 </td>\n",
       "   <td style=\"text-align:center;\"> 2 </td>\n",
       "   <td style=\"text-align:center;\"> 2 </td>\n",
       "   <td style=\"text-align:center;\"> 2 </td>\n",
       "   <td style=\"text-align:center;\"> 1 </td>\n",
       "   <td style=\"text-align:center;\"> 1 </td>\n",
       "   <td style=\"text-align:center;\"> 0.0014649 </td>\n",
       "   <td style=\"text-align:center;\"> 1 </td>\n",
       "   <td style=\"text-align:center;\"> 0.0014649 </td>\n",
       "  </tr>\n",
       "  <tr>\n",
       "   <td style=\"text-align:center;\"> 126 </td>\n",
       "   <td style=\"text-align:center;\"> 2 </td>\n",
       "   <td style=\"text-align:center;\"> 2 </td>\n",
       "   <td style=\"text-align:center;\"> 2 </td>\n",
       "   <td style=\"text-align:center;\"> 2 </td>\n",
       "   <td style=\"text-align:center;\"> 2 </td>\n",
       "   <td style=\"text-align:center;\"> 1 </td>\n",
       "   <td style=\"text-align:center;\"> 2 </td>\n",
       "   <td style=\"text-align:center;\"> 0.0001628 </td>\n",
       "   <td style=\"text-align:center;\"> 1 </td>\n",
       "   <td style=\"text-align:center;\"> 0.0001628 </td>\n",
       "  </tr>\n",
       "  <tr>\n",
       "   <td style=\"text-align:center;\"> 127 </td>\n",
       "   <td style=\"text-align:center;\"> 2 </td>\n",
       "   <td style=\"text-align:center;\"> 2 </td>\n",
       "   <td style=\"text-align:center;\"> 2 </td>\n",
       "   <td style=\"text-align:center;\"> 2 </td>\n",
       "   <td style=\"text-align:center;\"> 2 </td>\n",
       "   <td style=\"text-align:center;\"> 2 </td>\n",
       "   <td style=\"text-align:center;\"> 1 </td>\n",
       "   <td style=\"text-align:center;\"> 0.0078452 </td>\n",
       "   <td style=\"text-align:center;\"> 1 </td>\n",
       "   <td style=\"text-align:center;\"> 0.0078452 </td>\n",
       "  </tr>\n",
       "  <tr>\n",
       "   <td style=\"text-align:center;\"> 128 </td>\n",
       "   <td style=\"text-align:center;\"> 2 </td>\n",
       "   <td style=\"text-align:center;\"> 2 </td>\n",
       "   <td style=\"text-align:center;\"> 2 </td>\n",
       "   <td style=\"text-align:center;\"> 2 </td>\n",
       "   <td style=\"text-align:center;\"> 2 </td>\n",
       "   <td style=\"text-align:center;\"> 2 </td>\n",
       "   <td style=\"text-align:center;\"> 2 </td>\n",
       "   <td style=\"text-align:center;\"> 0.0357393 </td>\n",
       "   <td style=\"text-align:center;\"> 1 </td>\n",
       "   <td style=\"text-align:center;\"> 0.0357393 </td>\n",
       "  </tr>\n",
       "</tbody>\n",
       "</table>"
      ]
     },
     "metadata": {},
     "output_type": "display_data"
    },
    {
     "data": {
      "text/html": [
       "<table>\n",
       " <thead>\n",
       "  <tr>\n",
       "   <th style=\"text-align:center;\"> kelp </th>\n",
       "   <th style=\"text-align:center;\"> herring </th>\n",
       "   <th style=\"text-align:center;\"> dolphin </th>\n",
       "   <th style=\"text-align:center;\"> tuna </th>\n",
       "   <th style=\"text-align:center;\"> sandshark </th>\n",
       "   <th style=\"text-align:center;\"> mako </th>\n",
       "   <th style=\"text-align:center;\"> human </th>\n",
       "  </tr>\n",
       " </thead>\n",
       "<tbody>\n",
       "  <tr>\n",
       "   <td style=\"text-align:center;\"> 0.1 </td>\n",
       "   <td style=\"text-align:center;\"> 0.172 </td>\n",
       "   <td style=\"text-align:center;\"> 0.22384 </td>\n",
       "   <td style=\"text-align:center;\"> 0.22384 </td>\n",
       "   <td style=\"text-align:center;\"> 0.22384 </td>\n",
       "   <td style=\"text-align:center;\"> 0.3509443 </td>\n",
       "   <td style=\"text-align:center;\"> 0.3526799 </td>\n",
       "  </tr>\n",
       "</tbody>\n",
       "</table>"
      ]
     },
     "metadata": {},
     "output_type": "display_data"
    },
    {
     "data": {
      "image/png": "[encoded data removed]",
      "text/plain": [
       "plot without title"
      ]
     },
     "metadata": {
      "image/png": {
       "height": 420,
       "width": 420
      }
     },
     "output_type": "display_data"
    }
   ],
   "source": [
    "# Specify that kelp does not have the disease, but makos do\n",
    "premises <- list()\n",
    "\n",
    "# Compute likelihood p(premises|h) \n",
    "p_premises_given_h <- function(h, premises) {\n",
    "  likelihood <- 1\n",
    "  for (l in labels(premises)) {\n",
    "    if (premises[l] != h[l]) {\n",
    "      likelihood <-  0\n",
    "    }\n",
    "  }\n",
    "  return(likelihood)\n",
    "}\n",
    "\n",
    "hs <- hs %>% \n",
    "  mutate(likelihood= map_dbl(hyp, p_premises_given_h, premises))\n",
    "\n",
    "\n",
    "unnest(hs, cols = c(hyp))  %>% \n",
    "    tail()  %>% \n",
    "    show_table()\n",
    "\n",
    "\n",
    "# compute posterior\n",
    "hs <- hs %>% \n",
    "  # first compute an unnormalized posterior ...\n",
    "  mutate(posterior = prior*likelihood) %>% \n",
    "  # then normalize so that it sums to 1\n",
    "  mutate(posterior = posterior / sum(posterior))\n",
    "\n",
    "\n",
    "unnest(hs, cols = c(hyp))  %>% \n",
    "    tail()  %>% \n",
    "    show_table()\n",
    "# compute posterior predictive distribution: ie generalizations for each species in the foodweb\n",
    "\n",
    "uhs <- unnest(hs, cols=c(hyp))\n",
    "\n",
    "genlist <-list()\n",
    "for( animalname in speciesnames ) {\n",
    "    animalprob <- uhs %>% \n",
    "      # we need !!ensym() here because animalname is a variable instead of a column name \n",
    "      filter(!!ensym(animalname) == 2) %>% \n",
    "      summarize(aprob=sum(posterior)) %>% \n",
    "      pull()\n",
    "    genlist[[animalname]] <- animalprob\n",
    "}\n",
    "gen <- as_tibble(genlist)\n",
    "\n",
    "show_table(gen)\n",
    "makeplot <- function(gen, plotname) {\n",
    "    genplot <- gather(gen) %>% \n",
    "       mutate(species = factor(key, levels=speciesnames), gen=value) \n",
    "\n",
    "    pic <- genplot %>%\n",
    "       ggplot(aes(x=species, y=value)) +\n",
    "       scale_y_continuous(lim=c(0,1)) +  \n",
    "       geom_col() + \n",
    "       theme(axis.text.x = element_text(angle = 90, hjust = 1, vjust = 0.5)) +\n",
    "       xlab(\"species\") +\n",
    "       ylab(\"prob of having disease\") \n",
    "\n",
    "    plot(pic)\n",
    "}  \n",
    "\n",
    "# plot generalizations across the food web \n",
    "makeplot(gen[1:n])"
   ]
  },
  {
   "cell_type": "markdown",
   "metadata": {
    "deletable": false,
    "editable": false,
    "nbgrader": {
     "cell_type": "markdown",
     "checksum": "b2ebc7486fb070b67b0633f3fc493eb0",
     "grade": false,
     "grade_id": "cell-3f5e7d78a50ced9e",
     "locked": true,
     "points": 0,
     "schema_version": 3,
     "solution": false,
     "task": true
    }
   },
   "source": [
    "Given that mako have the disease but kelp do not, we see that humans are the species next most likely to have the disease.\n",
    "\n",
    "### Question 3 (1 points)\n",
    "\n",
    "(Any code for this question can be put in the previous cell)\n",
    "\n",
    "Set the premise vector to an empty list: i.e. `premises <- list()`.  Run the model again to see what happens. You should see that humans are more likely to have the disease than kelp ---  why? \n",
    "\n",
    "For this and later questions that ask for an explanation, a compelling explanation in English is enough for full credit. If you can support your argument with mathematics that's great but not required.\n"
   ]
  },
  {
   "cell_type": "markdown",
   "metadata": {
    "deletable": false,
    "nbgrader": {
     "cell_type": "markdown",
     "checksum": "62add75f4015100a73b18129971eaf2f",
     "grade": true,
     "grade_id": "cell-7ec1195aa6b6300d",
     "locked": false,
     "points": 1,
     "schema_version": 3,
     "solution": true,
     "task": false
    }
   },
   "source": [
    "YOUR ANSWER HERE"
   ]
  },
  {
   "cell_type": "markdown",
   "metadata": {
    "deletable": false,
    "editable": false,
    "nbgrader": {
     "cell_type": "markdown",
     "checksum": "5af75e85ad54972a0bbc6ba0f61a4d1d",
     "grade": false,
     "grade_id": "cell-b696f38f7503b524",
     "locked": true,
     "schema_version": 3,
     "solution": false,
     "task": false
    }
   },
   "source": [
    "## Reasoning task \n",
    "\n",
    "We'll now apply the model to an experimental task used by Shafto et al (2008). These researchers first trained participants on the structure of the food web in Figure 1. They then asked participants to rate the strength of 42 single-premise arguments.  One such argument is \"Herring have a disease. How likely is it that Mako have the same disease?\" We can write this argument as Herring -> Mako. The set of 42 included all such arguments where the premise species (Herring in the example just given) was different from the conclusion species. Ratings were provided on a seven point scale.  \n",
    "\n",
    "First let's define a function for evaluating the strength of an argument:"
   ]
  },
  {
   "cell_type": "code",
   "execution_count": 19,
   "metadata": {
    "deletable": false,
    "editable": false,
    "nbgrader": {
     "cell_type": "code",
     "checksum": "51ff3f074ac2dc687863a763be921edf",
     "grade": false,
     "grade_id": "cell-51ca43f7f88e554c",
     "locked": true,
     "schema_version": 3,
     "solution": false,
     "task": false
    }
   },
   "outputs": [],
   "source": [
    "# compute P(conclusion_animal=2 | premise_animal=2) using the prior and likelihood in hs\n",
    "rate_arg <- function(premise_animal, conclusion_animal, hs) {\n",
    "  premises <- list()\n",
    "  premises[[premise_animal]] <- 2\n",
    "  \n",
    "  arg_hs <- hs %>% \n",
    "    mutate(likelihood= map_dbl(hyp, p_premises_given_h, premises)) %>% \n",
    "    mutate(posterior = prior*likelihood) %>% \n",
    "    # normalise the posterior so that it sums to 1\n",
    "    mutate(posterior = posterior / sum(posterior))\n",
    "  \n",
    "  conclusionprob <- arg_hs %>% \n",
    "    unnest(cols = c(hyp)) %>% \n",
    "    filter(!!ensym(conclusion_animal) == 2) %>% \n",
    "    summarize(cprob = sum(posterior)) %>% \n",
    "    pull()\n",
    "}\n"
   ]
  },
  {
   "cell_type": "markdown",
   "metadata": {
    "deletable": false,
    "editable": false,
    "nbgrader": {
     "cell_type": "markdown",
     "checksum": "ec07383f304f5eab3419d9061cddc8c6",
     "grade": false,
     "grade_id": "cell-56a4112c17381ac2",
     "locked": true,
     "schema_version": 3,
     "solution": false,
     "task": false
    }
   },
   "source": [
    "Now read in a datafile that specifies the 42 arguments and includes the average human rating for each argument. We'll apply the model to each argument and plot human ratings against model predictions.\n",
    "\n",
    "The human data here are very similar but perhaps not identical to the data used to generate the leftmost panel of Fig 9 of the Shafto et al paper. The differences are minor -- e.g. for the paper, a handful of people may have been dropped for using the rating scale backwards."
   ]
  },
  {
   "cell_type": "code",
   "execution_count": 20,
   "metadata": {
    "deletable": false,
    "editable": false,
    "nbgrader": {
     "cell_type": "code",
     "checksum": "cafa60f0b22ea823a18a0432a7b78488",
     "grade": false,
     "grade_id": "cell-97755c71fd6026a5",
     "locked": true,
     "schema_version": 3,
     "solution": false,
     "task": false
    }
   },
   "outputs": [
    {
     "name": "stderr",
     "output_type": "stream",
     "text": [
      "`geom_smooth()` using formula 'y ~ x'\n",
      "\n"
     ]
    },
    {
     "data": {
      "text/html": [
       "<table>\n",
       " <thead>\n",
       "  <tr>\n",
       "   <th style=\"text-align:center;\"> premise </th>\n",
       "   <th style=\"text-align:center;\"> conclusion </th>\n",
       "   <th style=\"text-align:center;\"> human </th>\n",
       "   <th style=\"text-align:center;\"> model </th>\n",
       "  </tr>\n",
       " </thead>\n",
       "<tbody>\n",
       "  <tr>\n",
       "   <td style=\"text-align:center;\"> human </td>\n",
       "   <td style=\"text-align:center;\"> herring </td>\n",
       "   <td style=\"text-align:center;\"> 2.333333 </td>\n",
       "   <td style=\"text-align:center;\"> 0.3625121 </td>\n",
       "  </tr>\n",
       "  <tr>\n",
       "   <td style=\"text-align:center;\"> mako </td>\n",
       "   <td style=\"text-align:center;\"> herring </td>\n",
       "   <td style=\"text-align:center;\"> 3.222222 </td>\n",
       "   <td style=\"text-align:center;\"> 0.4379088 </td>\n",
       "  </tr>\n",
       "  <tr>\n",
       "   <td style=\"text-align:center;\"> herring </td>\n",
       "   <td style=\"text-align:center;\"> kelp </td>\n",
       "   <td style=\"text-align:center;\"> 2.888889 </td>\n",
       "   <td style=\"text-align:center;\"> 0.4767442 </td>\n",
       "  </tr>\n",
       "  <tr>\n",
       "   <td style=\"text-align:center;\"> dolphin </td>\n",
       "   <td style=\"text-align:center;\"> herring </td>\n",
       "   <td style=\"text-align:center;\"> 2.777778 </td>\n",
       "   <td style=\"text-align:center;\"> 0.6300929 </td>\n",
       "  </tr>\n",
       "  <tr>\n",
       "   <td style=\"text-align:center;\"> sandshark </td>\n",
       "   <td style=\"text-align:center;\"> herring </td>\n",
       "   <td style=\"text-align:center;\"> 2.222222 </td>\n",
       "   <td style=\"text-align:center;\"> 0.6300929 </td>\n",
       "  </tr>\n",
       "  <tr>\n",
       "   <td style=\"text-align:center;\"> tuna </td>\n",
       "   <td style=\"text-align:center;\"> herring </td>\n",
       "   <td style=\"text-align:center;\"> 3.000000 </td>\n",
       "   <td style=\"text-align:center;\"> 0.6300929 </td>\n",
       "  </tr>\n",
       "  <tr>\n",
       "   <td style=\"text-align:center;\"> herring </td>\n",
       "   <td style=\"text-align:center;\"> human </td>\n",
       "   <td style=\"text-align:center;\"> 2.333333 </td>\n",
       "   <td style=\"text-align:center;\"> 0.7433183 </td>\n",
       "  </tr>\n",
       "  <tr>\n",
       "   <td style=\"text-align:center;\"> kelp </td>\n",
       "   <td style=\"text-align:center;\"> herring </td>\n",
       "   <td style=\"text-align:center;\"> 4.111111 </td>\n",
       "   <td style=\"text-align:center;\"> 0.8200000 </td>\n",
       "  </tr>\n",
       "  <tr>\n",
       "   <td style=\"text-align:center;\"> herring </td>\n",
       "   <td style=\"text-align:center;\"> dolphin </td>\n",
       "   <td style=\"text-align:center;\"> 4.777778 </td>\n",
       "   <td style=\"text-align:center;\"> 0.8200000 </td>\n",
       "  </tr>\n",
       "  <tr>\n",
       "   <td style=\"text-align:center;\"> herring </td>\n",
       "   <td style=\"text-align:center;\"> sandshark </td>\n",
       "   <td style=\"text-align:center;\"> 4.555556 </td>\n",
       "   <td style=\"text-align:center;\"> 0.8200000 </td>\n",
       "  </tr>\n",
       "  <tr>\n",
       "   <td style=\"text-align:center;\"> herring </td>\n",
       "   <td style=\"text-align:center;\"> tuna </td>\n",
       "   <td style=\"text-align:center;\"> 5.222222 </td>\n",
       "   <td style=\"text-align:center;\"> 0.8200000 </td>\n",
       "  </tr>\n",
       "  <tr>\n",
       "   <td style=\"text-align:center;\"> herring </td>\n",
       "   <td style=\"text-align:center;\"> mako </td>\n",
       "   <td style=\"text-align:center;\"> 3.444444 </td>\n",
       "   <td style=\"text-align:center;\"> 0.8934976 </td>\n",
       "  </tr>\n",
       "</tbody>\n",
       "</table>"
      ]
     },
     "metadata": {},
     "output_type": "display_data"
    },
    {
     "data": {
      "image/png": "[encoded data removed]",
      "text/plain": [
       "plot without title"
      ]
     },
     "metadata": {
      "image/png": {
       "height": 420,
       "width": 420
      }
     },
     "output_type": "display_data"
    }
   ],
   "source": [
    "# now use model to rate all one premise arguments\n",
    "onepremargs <- read_csv(\"data_foodwebarguments.csv\", col_types=\"ccd\") %>% \n",
    "  mutate(model = map2_dbl(premise, conclusion, rate_arg, hs))\n",
    "\n",
    "humanmodelplot <- onepremargs %>% \n",
    "  ggplot(aes(x=model, y = human)) +\n",
    "  geom_point() +\n",
    "  geom_smooth(method = \"lm\") +\n",
    "  stat_cor(aes(label=..r.label..), method = \"pearson\") +\n",
    "  theme(aspect.ratio=1)\n",
    "\n",
    "print(humanmodelplot)\n",
    "\n",
    "onepremargs  %>% arrange(model)  %>% filter(premise == \"herring\" | conclusion == \"herring\")  %>% show_table()\n"
   ]
  },
  {
   "cell_type": "code",
   "execution_count": 21,
   "metadata": {},
   "outputs": [
    {
     "data": {
      "text/html": [
       "<table>\n",
       " <thead>\n",
       "  <tr>\n",
       "   <th style=\"text-align:center;\"> premise </th>\n",
       "   <th style=\"text-align:center;\"> conclusion </th>\n",
       "   <th style=\"text-align:center;\"> human </th>\n",
       "   <th style=\"text-align:center;\"> model </th>\n",
       "  </tr>\n",
       " </thead>\n",
       "<tbody>\n",
       "  <tr>\n",
       "   <td style=\"text-align:center;\"> human </td>\n",
       "   <td style=\"text-align:center;\"> kelp </td>\n",
       "   <td style=\"text-align:center;\"> 1.2222222 </td>\n",
       "   <td style=\"text-align:center;\"> 0.1866840 </td>\n",
       "  </tr>\n",
       "  <tr>\n",
       "   <td style=\"text-align:center;\"> mako </td>\n",
       "   <td style=\"text-align:center;\"> kelp </td>\n",
       "   <td style=\"text-align:center;\"> 1.4444444 </td>\n",
       "   <td style=\"text-align:center;\"> 0.2209898 </td>\n",
       "  </tr>\n",
       "  <tr>\n",
       "   <td style=\"text-align:center;\"> dolphin </td>\n",
       "   <td style=\"text-align:center;\"> kelp </td>\n",
       "   <td style=\"text-align:center;\"> 2.0000000 </td>\n",
       "   <td style=\"text-align:center;\"> 0.3084346 </td>\n",
       "  </tr>\n",
       "  <tr>\n",
       "   <td style=\"text-align:center;\"> sandshark </td>\n",
       "   <td style=\"text-align:center;\"> kelp </td>\n",
       "   <td style=\"text-align:center;\"> 1.8888889 </td>\n",
       "   <td style=\"text-align:center;\"> 0.3084346 </td>\n",
       "  </tr>\n",
       "  <tr>\n",
       "   <td style=\"text-align:center;\"> tuna </td>\n",
       "   <td style=\"text-align:center;\"> kelp </td>\n",
       "   <td style=\"text-align:center;\"> 0.8888889 </td>\n",
       "   <td style=\"text-align:center;\"> 0.3084346 </td>\n",
       "  </tr>\n",
       "  <tr>\n",
       "   <td style=\"text-align:center;\"> human </td>\n",
       "   <td style=\"text-align:center;\"> sandshark </td>\n",
       "   <td style=\"text-align:center;\"> 1.8888889 </td>\n",
       "   <td style=\"text-align:center;\"> 0.3610087 </td>\n",
       "  </tr>\n",
       "  <tr>\n",
       "   <td style=\"text-align:center;\"> human </td>\n",
       "   <td style=\"text-align:center;\"> herring </td>\n",
       "   <td style=\"text-align:center;\"> 2.3333333 </td>\n",
       "   <td style=\"text-align:center;\"> 0.3625121 </td>\n",
       "  </tr>\n",
       "  <tr>\n",
       "   <td style=\"text-align:center;\"> mako </td>\n",
       "   <td style=\"text-align:center;\"> sandshark </td>\n",
       "   <td style=\"text-align:center;\"> 2.1111111 </td>\n",
       "   <td style=\"text-align:center;\"> 0.4152943 </td>\n",
       "  </tr>\n",
       "  <tr>\n",
       "   <td style=\"text-align:center;\"> mako </td>\n",
       "   <td style=\"text-align:center;\"> herring </td>\n",
       "   <td style=\"text-align:center;\"> 3.2222222 </td>\n",
       "   <td style=\"text-align:center;\"> 0.4379088 </td>\n",
       "  </tr>\n",
       "  <tr>\n",
       "   <td style=\"text-align:center;\"> human </td>\n",
       "   <td style=\"text-align:center;\"> tuna </td>\n",
       "   <td style=\"text-align:center;\"> 1.7777778 </td>\n",
       "   <td style=\"text-align:center;\"> 0.4746187 </td>\n",
       "  </tr>\n",
       "  <tr>\n",
       "   <td style=\"text-align:center;\"> human </td>\n",
       "   <td style=\"text-align:center;\"> dolphin </td>\n",
       "   <td style=\"text-align:center;\"> 2.2222222 </td>\n",
       "   <td style=\"text-align:center;\"> 0.4746187 </td>\n",
       "  </tr>\n",
       "  <tr>\n",
       "   <td style=\"text-align:center;\"> herring </td>\n",
       "   <td style=\"text-align:center;\"> kelp </td>\n",
       "   <td style=\"text-align:center;\"> 2.8888889 </td>\n",
       "   <td style=\"text-align:center;\"> 0.4767442 </td>\n",
       "  </tr>\n",
       "  <tr>\n",
       "   <td style=\"text-align:center;\"> dolphin </td>\n",
       "   <td style=\"text-align:center;\"> sandshark </td>\n",
       "   <td style=\"text-align:center;\"> 1.6666667 </td>\n",
       "   <td style=\"text-align:center;\"> 0.5536669 </td>\n",
       "  </tr>\n",
       "  <tr>\n",
       "   <td style=\"text-align:center;\"> dolphin </td>\n",
       "   <td style=\"text-align:center;\"> tuna </td>\n",
       "   <td style=\"text-align:center;\"> 2.2222222 </td>\n",
       "   <td style=\"text-align:center;\"> 0.5536669 </td>\n",
       "  </tr>\n",
       "  <tr>\n",
       "   <td style=\"text-align:center;\"> sandshark </td>\n",
       "   <td style=\"text-align:center;\"> dolphin </td>\n",
       "   <td style=\"text-align:center;\"> 1.3333333 </td>\n",
       "   <td style=\"text-align:center;\"> 0.5536669 </td>\n",
       "  </tr>\n",
       "  <tr>\n",
       "   <td style=\"text-align:center;\"> sandshark </td>\n",
       "   <td style=\"text-align:center;\"> tuna </td>\n",
       "   <td style=\"text-align:center;\"> 1.4444444 </td>\n",
       "   <td style=\"text-align:center;\"> 0.5536669 </td>\n",
       "  </tr>\n",
       "  <tr>\n",
       "   <td style=\"text-align:center;\"> tuna </td>\n",
       "   <td style=\"text-align:center;\"> dolphin </td>\n",
       "   <td style=\"text-align:center;\"> 2.3333333 </td>\n",
       "   <td style=\"text-align:center;\"> 0.5536669 </td>\n",
       "  </tr>\n",
       "  <tr>\n",
       "   <td style=\"text-align:center;\"> tuna </td>\n",
       "   <td style=\"text-align:center;\"> sandshark </td>\n",
       "   <td style=\"text-align:center;\"> 1.8888889 </td>\n",
       "   <td style=\"text-align:center;\"> 0.5536669 </td>\n",
       "  </tr>\n",
       "  <tr>\n",
       "   <td style=\"text-align:center;\"> sandshark </td>\n",
       "   <td style=\"text-align:center;\"> human </td>\n",
       "   <td style=\"text-align:center;\"> 2.2222222 </td>\n",
       "   <td style=\"text-align:center;\"> 0.5688015 </td>\n",
       "  </tr>\n",
       "  <tr>\n",
       "   <td style=\"text-align:center;\"> mako </td>\n",
       "   <td style=\"text-align:center;\"> tuna </td>\n",
       "   <td style=\"text-align:center;\"> 2.4444444 </td>\n",
       "   <td style=\"text-align:center;\"> 0.5738663 </td>\n",
       "  </tr>\n",
       "  <tr>\n",
       "   <td style=\"text-align:center;\"> mako </td>\n",
       "   <td style=\"text-align:center;\"> dolphin </td>\n",
       "   <td style=\"text-align:center;\"> 4.0000000 </td>\n",
       "   <td style=\"text-align:center;\"> 0.5738663 </td>\n",
       "  </tr>\n",
       "  <tr>\n",
       "   <td style=\"text-align:center;\"> dolphin </td>\n",
       "   <td style=\"text-align:center;\"> herring </td>\n",
       "   <td style=\"text-align:center;\"> 2.7777778 </td>\n",
       "   <td style=\"text-align:center;\"> 0.6300929 </td>\n",
       "  </tr>\n",
       "  <tr>\n",
       "   <td style=\"text-align:center;\"> sandshark </td>\n",
       "   <td style=\"text-align:center;\"> herring </td>\n",
       "   <td style=\"text-align:center;\"> 2.2222222 </td>\n",
       "   <td style=\"text-align:center;\"> 0.6300929 </td>\n",
       "  </tr>\n",
       "  <tr>\n",
       "   <td style=\"text-align:center;\"> tuna </td>\n",
       "   <td style=\"text-align:center;\"> herring </td>\n",
       "   <td style=\"text-align:center;\"> 3.0000000 </td>\n",
       "   <td style=\"text-align:center;\"> 0.6300929 </td>\n",
       "  </tr>\n",
       "  <tr>\n",
       "   <td style=\"text-align:center;\"> sandshark </td>\n",
       "   <td style=\"text-align:center;\"> mako </td>\n",
       "   <td style=\"text-align:center;\"> 2.2222222 </td>\n",
       "   <td style=\"text-align:center;\"> 0.6511132 </td>\n",
       "  </tr>\n",
       "  <tr>\n",
       "   <td style=\"text-align:center;\"> kelp </td>\n",
       "   <td style=\"text-align:center;\"> human </td>\n",
       "   <td style=\"text-align:center;\"> 2.0000000 </td>\n",
       "   <td style=\"text-align:center;\"> 0.6583969 </td>\n",
       "  </tr>\n",
       "  <tr>\n",
       "   <td style=\"text-align:center;\"> kelp </td>\n",
       "   <td style=\"text-align:center;\"> dolphin </td>\n",
       "   <td style=\"text-align:center;\"> 3.5555556 </td>\n",
       "   <td style=\"text-align:center;\"> 0.6904000 </td>\n",
       "  </tr>\n",
       "  <tr>\n",
       "   <td style=\"text-align:center;\"> kelp </td>\n",
       "   <td style=\"text-align:center;\"> sandshark </td>\n",
       "   <td style=\"text-align:center;\"> 3.4444444 </td>\n",
       "   <td style=\"text-align:center;\"> 0.6904000 </td>\n",
       "  </tr>\n",
       "  <tr>\n",
       "   <td style=\"text-align:center;\"> kelp </td>\n",
       "   <td style=\"text-align:center;\"> tuna </td>\n",
       "   <td style=\"text-align:center;\"> 3.0000000 </td>\n",
       "   <td style=\"text-align:center;\"> 0.6904000 </td>\n",
       "  </tr>\n",
       "  <tr>\n",
       "   <td style=\"text-align:center;\"> herring </td>\n",
       "   <td style=\"text-align:center;\"> human </td>\n",
       "   <td style=\"text-align:center;\"> 2.3333333 </td>\n",
       "   <td style=\"text-align:center;\"> 0.7433183 </td>\n",
       "  </tr>\n",
       "  <tr>\n",
       "   <td style=\"text-align:center;\"> dolphin </td>\n",
       "   <td style=\"text-align:center;\"> human </td>\n",
       "   <td style=\"text-align:center;\"> 3.7777778 </td>\n",
       "   <td style=\"text-align:center;\"> 0.7478042 </td>\n",
       "  </tr>\n",
       "  <tr>\n",
       "   <td style=\"text-align:center;\"> tuna </td>\n",
       "   <td style=\"text-align:center;\"> human </td>\n",
       "   <td style=\"text-align:center;\"> 2.5555556 </td>\n",
       "   <td style=\"text-align:center;\"> 0.7478042 </td>\n",
       "  </tr>\n",
       "  <tr>\n",
       "   <td style=\"text-align:center;\"> kelp </td>\n",
       "   <td style=\"text-align:center;\"> mako </td>\n",
       "   <td style=\"text-align:center;\"> 2.8888889 </td>\n",
       "   <td style=\"text-align:center;\"> 0.7755512 </td>\n",
       "  </tr>\n",
       "  <tr>\n",
       "   <td style=\"text-align:center;\"> human </td>\n",
       "   <td style=\"text-align:center;\"> mako </td>\n",
       "   <td style=\"text-align:center;\"> 3.3333333 </td>\n",
       "   <td style=\"text-align:center;\"> 0.8159646 </td>\n",
       "  </tr>\n",
       "  <tr>\n",
       "   <td style=\"text-align:center;\"> mako </td>\n",
       "   <td style=\"text-align:center;\"> human </td>\n",
       "   <td style=\"text-align:center;\"> 4.6666667 </td>\n",
       "   <td style=\"text-align:center;\"> 0.8200000 </td>\n",
       "  </tr>\n",
       "  <tr>\n",
       "   <td style=\"text-align:center;\"> kelp </td>\n",
       "   <td style=\"text-align:center;\"> herring </td>\n",
       "   <td style=\"text-align:center;\"> 4.1111111 </td>\n",
       "   <td style=\"text-align:center;\"> 0.8200000 </td>\n",
       "  </tr>\n",
       "  <tr>\n",
       "   <td style=\"text-align:center;\"> herring </td>\n",
       "   <td style=\"text-align:center;\"> dolphin </td>\n",
       "   <td style=\"text-align:center;\"> 4.7777778 </td>\n",
       "   <td style=\"text-align:center;\"> 0.8200000 </td>\n",
       "  </tr>\n",
       "  <tr>\n",
       "   <td style=\"text-align:center;\"> herring </td>\n",
       "   <td style=\"text-align:center;\"> sandshark </td>\n",
       "   <td style=\"text-align:center;\"> 4.5555556 </td>\n",
       "   <td style=\"text-align:center;\"> 0.8200000 </td>\n",
       "  </tr>\n",
       "  <tr>\n",
       "   <td style=\"text-align:center;\"> herring </td>\n",
       "   <td style=\"text-align:center;\"> tuna </td>\n",
       "   <td style=\"text-align:center;\"> 5.2222222 </td>\n",
       "   <td style=\"text-align:center;\"> 0.8200000 </td>\n",
       "  </tr>\n",
       "  <tr>\n",
       "   <td style=\"text-align:center;\"> herring </td>\n",
       "   <td style=\"text-align:center;\"> mako </td>\n",
       "   <td style=\"text-align:center;\"> 3.4444444 </td>\n",
       "   <td style=\"text-align:center;\"> 0.8934976 </td>\n",
       "  </tr>\n",
       "  <tr>\n",
       "   <td style=\"text-align:center;\"> dolphin </td>\n",
       "   <td style=\"text-align:center;\"> mako </td>\n",
       "   <td style=\"text-align:center;\"> 4.2222222 </td>\n",
       "   <td style=\"text-align:center;\"> 0.8997280 </td>\n",
       "  </tr>\n",
       "  <tr>\n",
       "   <td style=\"text-align:center;\"> tuna </td>\n",
       "   <td style=\"text-align:center;\"> mako </td>\n",
       "   <td style=\"text-align:center;\"> 4.6666667 </td>\n",
       "   <td style=\"text-align:center;\"> 0.8997280 </td>\n",
       "  </tr>\n",
       "</tbody>\n",
       "</table>"
      ]
     },
     "metadata": {},
     "output_type": "display_data"
    }
   ],
   "source": [
    "onepremargs  %>% arrange(model)  %>% show_table()"
   ]
  },
  {
   "cell_type": "markdown",
   "metadata": {
    "deletable": false,
    "editable": false,
    "nbgrader": {
     "cell_type": "markdown",
     "checksum": "b1abb79922b595ee6e2c0b3389013307",
     "grade": false,
     "grade_id": "cell-86061f7b7a527501",
     "locked": true,
     "points": 0,
     "schema_version": 3,
     "solution": false,
     "task": true
    }
   },
   "source": [
    "Each point corresponds to an argument. We've added a regression line to guide the eye and also included a correlation coefficient. You should see that there is a reasonably good correlation between human ratings and model predictions. In other words, arguments rated as strong by people tend to be given high probabilities according to the model.\n",
    "\n",
    "### Question 4 (0.5 points)\n",
    "\n",
    "(Any code for this question can be put in the previous cell)\n",
    "\n",
    "Inspect the table that includes model predictions (`onepremargs`) and identify the argument that is strongest according to the model. If two or more arguments are equally strong, just pick one of them. What is the strongest argument? \n"
   ]
  },
  {
   "cell_type": "markdown",
   "metadata": {
    "deletable": false,
    "nbgrader": {
     "cell_type": "markdown",
     "checksum": "541be6486dad07b6516311dbb3b140e1",
     "grade": true,
     "grade_id": "cell-81d2d8a2c9a6c872",
     "locked": false,
     "points": 0.5,
     "schema_version": 3,
     "solution": true,
     "task": false
    }
   },
   "source": [
    "YOUR ANSWER HERE"
   ]
  },
  {
   "cell_type": "markdown",
   "metadata": {
    "deletable": false,
    "editable": false,
    "nbgrader": {
     "cell_type": "markdown",
     "checksum": "42da7983f6a984a7225ebb8ffb1bc8d2",
     "grade": false,
     "grade_id": "cell-80d01a33b37a9a40",
     "locked": true,
     "points": 0,
     "schema_version": 3,
     "solution": false,
     "task": true
    }
   },
   "source": [
    "### Question 5 (1 point)\n",
    "Explain why this argument is strong according to the model.\n"
   ]
  },
  {
   "cell_type": "markdown",
   "metadata": {
    "deletable": false,
    "nbgrader": {
     "cell_type": "markdown",
     "checksum": "d42bd482617d945b8e02bc527031c502",
     "grade": true,
     "grade_id": "cell-f1c60aac0836da6f",
     "locked": false,
     "points": 1,
     "schema_version": 3,
     "solution": true,
     "task": false
    }
   },
   "source": [
    "YOUR ANSWER HERE"
   ]
  },
  {
   "cell_type": "code",
   "execution_count": null,
   "metadata": {},
   "outputs": [],
   "source": [
    "# use this cell for any code you write for Question 6"
   ]
  },
  {
   "cell_type": "markdown",
   "metadata": {
    "deletable": false,
    "editable": false,
    "nbgrader": {
     "cell_type": "markdown",
     "checksum": "af2e9e61e0de89690b3ed4844068126f",
     "grade": false,
     "grade_id": "cell-58da5b582a7cba21",
     "locked": true,
     "points": 0,
     "schema_version": 3,
     "solution": false,
     "task": true
    }
   },
   "source": [
    "### Question 6 (0.5 points)\n",
    "\n",
    "(Any code for this question can be put in the previous cell)\n",
    "\n",
    "Identify the argument that is weakest according to the model  (if two or more arguments are equally strong, just pick one of them). What is the weakest argument? \n",
    "\n"
   ]
  },
  {
   "cell_type": "markdown",
   "metadata": {
    "deletable": false,
    "nbgrader": {
     "cell_type": "markdown",
     "checksum": "766a61f1d8c4df5ad56e59951a9d618f",
     "grade": true,
     "grade_id": "cell-0ae0fd10c283c087",
     "locked": false,
     "points": 0.5,
     "schema_version": 3,
     "solution": true,
     "task": false
    }
   },
   "source": [
    "YOUR ANSWER HERE"
   ]
  },
  {
   "cell_type": "markdown",
   "metadata": {
    "deletable": false,
    "editable": false,
    "nbgrader": {
     "cell_type": "markdown",
     "checksum": "2b2984d5f4856fb2b25ec069cf9b578e",
     "grade": false,
     "grade_id": "cell-a0550070f7786da0",
     "locked": true,
     "points": 0,
     "schema_version": 3,
     "solution": false,
     "task": true
    }
   },
   "source": [
    "### Question 7 (1 point)\n",
    "\n",
    "Explain why this argument is weak according to the model.\n"
   ]
  },
  {
   "cell_type": "markdown",
   "metadata": {
    "deletable": false,
    "nbgrader": {
     "cell_type": "markdown",
     "checksum": "ce133a3ed4c8e4bad004026891d11fe2",
     "grade": true,
     "grade_id": "cell-d5a1df00160b3e11",
     "locked": false,
     "points": 1,
     "schema_version": 3,
     "solution": true,
     "task": false
    }
   },
   "source": [
    "YOUR ANSWER HERE"
   ]
  },
  {
   "cell_type": "code",
   "execution_count": null,
   "metadata": {},
   "outputs": [],
   "source": [
    "# use this cell for any code you write for Question 8"
   ]
  },
  {
   "cell_type": "markdown",
   "metadata": {
    "deletable": false,
    "editable": false,
    "nbgrader": {
     "cell_type": "markdown",
     "checksum": "5e1a951fc5854e39f3bba5a4e69684be",
     "grade": false,
     "grade_id": "cell-1fd85107db48a95f",
     "locked": true,
     "points": 0,
     "schema_version": 3,
     "solution": false,
     "task": true
    }
   },
   "source": [
    "Causal asymmetry is the phenomenon that generalizations up the food chain (e.g. kelp -> herring tend to be stronger than generalizations in the opposite direction (herring -> kelp). \n",
    "\n",
    "### Question 8 (0.5 points)\n",
    "\n",
    "(Any code for this question can be put in the previous cell)\n",
    "\n",
    "What are the probabilities P(herring=2|kelp=2) and P(kelp=2|herring= 2) according to the model? \n"
   ]
  },
  {
   "cell_type": "markdown",
   "metadata": {
    "deletable": false,
    "nbgrader": {
     "cell_type": "markdown",
     "checksum": "0f6a29fdadb2c8cdd2a0012efdab8dd7",
     "grade": true,
     "grade_id": "cell-daf3e6e0b4176060",
     "locked": false,
     "points": 0.5,
     "schema_version": 3,
     "solution": true,
     "task": false
    }
   },
   "source": [
    "YOUR ANSWER HERE"
   ]
  },
  {
   "cell_type": "markdown",
   "metadata": {
    "deletable": false,
    "editable": false,
    "nbgrader": {
     "cell_type": "markdown",
     "checksum": "a088045604a375d8830bf50599f5bd1c",
     "grade": false,
     "grade_id": "cell-b5247efebf568b75",
     "locked": true,
     "points": 0,
     "schema_version": 3,
     "solution": false,
     "task": true
    }
   },
   "source": [
    "### Question 9 (1 point)\n",
    "\n",
    "Explain why the model predicts that kelp -> herring is stronger than herring -> kelp\n"
   ]
  },
  {
   "cell_type": "markdown",
   "metadata": {
    "deletable": false,
    "nbgrader": {
     "cell_type": "markdown",
     "checksum": "d3ed91f9e5850753ab6812092f186bb2",
     "grade": true,
     "grade_id": "cell-8d97ad074e93877f",
     "locked": false,
     "points": 1,
     "schema_version": 3,
     "solution": true,
     "task": false
    }
   },
   "source": [
    "YOUR ANSWER HERE"
   ]
  },
  {
   "cell_type": "code",
   "execution_count": null,
   "metadata": {},
   "outputs": [],
   "source": [
    "# use this cell for any code you write for Question 10"
   ]
  },
  {
   "cell_type": "markdown",
   "metadata": {
    "deletable": false,
    "editable": false,
    "nbgrader": {
     "cell_type": "markdown",
     "checksum": "ec72f0f5ba22ae3ad67869ea5ba8ecc3",
     "grade": false,
     "grade_id": "cell-3446c84cec3b39b8",
     "locked": true,
     "points": 0,
     "schema_version": 3,
     "solution": false,
     "task": true
    }
   },
   "source": [
    "Causal distance is the phenomenon that generalizations tend to decrease with increasing distance in the food chain. \n",
    "\n",
    "### Question 10 (0.5 points)\n",
    "\n",
    "(Any code for this question can be put in the previous cell)\n",
    "\n",
    "What are the probabilities P(herring=2|kelp=2) and P(tuna= 2|kelp=2) according to the model?\n"
   ]
  },
  {
   "cell_type": "markdown",
   "metadata": {
    "deletable": false,
    "nbgrader": {
     "cell_type": "markdown",
     "checksum": "6e93c104f7f72bf720d8c946533e0bc5",
     "grade": true,
     "grade_id": "cell-e87d1c2287360bb1",
     "locked": false,
     "points": 0.5,
     "schema_version": 3,
     "solution": true,
     "task": false
    }
   },
   "source": [
    "YOUR ANSWER HERE"
   ]
  },
  {
   "cell_type": "markdown",
   "metadata": {
    "deletable": false,
    "editable": false,
    "nbgrader": {
     "cell_type": "markdown",
     "checksum": "1a3c63652b261e312278be31fb42c324",
     "grade": false,
     "grade_id": "cell-811f8004fde0c162",
     "locked": true,
     "points": 0,
     "schema_version": 3,
     "solution": false,
     "task": true
    }
   },
   "source": [
    "### Question 11 (1 point)\n",
    "\n",
    "Explain why the model predicts that  kelp -> herring is stronger than kelp -> tuna.\n"
   ]
  },
  {
   "cell_type": "markdown",
   "metadata": {
    "deletable": false,
    "nbgrader": {
     "cell_type": "markdown",
     "checksum": "14d611e4f6cbaca80c041e0130d52c74",
     "grade": true,
     "grade_id": "cell-e325efce2b4e902c",
     "locked": false,
     "points": 1,
     "schema_version": 3,
     "solution": true,
     "task": false
    }
   },
   "source": [
    "YOUR ANSWER HERE"
   ]
  },
  {
   "cell_type": "markdown",
   "metadata": {
    "deletable": false,
    "editable": false,
    "nbgrader": {
     "cell_type": "markdown",
     "checksum": "9663edd06a80e13a4913dda8061ce62a",
     "grade": false,
     "grade_id": "cell-f12cd82457ad11c9",
     "locked": true,
     "schema_version": 3,
     "solution": false,
     "task": false
    }
   },
   "source": [
    "We'll now identify the arguments that lie furthest from the regression line, and are therefore least well captured by the model. We'll add a column `diff` that shows the vertical difference between the human rating and the corresponding point on the regression line. The variable `diff` will be positive for arguments that lie above the regression line in the scatterplot that you created."
   ]
  },
  {
   "cell_type": "code",
   "execution_count": null,
   "metadata": {
    "deletable": false,
    "editable": false,
    "nbgrader": {
     "cell_type": "code",
     "checksum": "f609f2ed396560cad0dde2b125f9a89b",
     "grade": false,
     "grade_id": "cell-8062285315159d8a",
     "locked": true,
     "schema_version": 3,
     "solution": false,
     "task": false
    }
   },
   "outputs": [],
   "source": [
    "linearfit <- lm(human ~ model, data = onepremargs)\n",
    "\n",
    "onepremargs_withfit <- onepremargs %>% \n",
    "  add_predictions(linearfit) %>% \n",
    "  mutate(diff = human - pred)\n"
   ]
  },
  {
   "cell_type": "code",
   "execution_count": null,
   "metadata": {},
   "outputs": [],
   "source": [
    "# use this cell for any code you write for Question 12"
   ]
  },
  {
   "cell_type": "markdown",
   "metadata": {
    "deletable": false,
    "editable": false,
    "nbgrader": {
     "cell_type": "markdown",
     "checksum": "33403c2a5ca4a7d3c89ccf913d2b28e5",
     "grade": false,
     "grade_id": "cell-ab183fbacf6c72ea",
     "locked": true,
     "points": 0,
     "schema_version": 3,
     "solution": false,
     "task": true
    }
   },
   "source": [
    "### Question 12 (0.5 points)\n",
    "\n",
    "(Any code for this question can be put in the previous cell)\n",
    "\n",
    "What is the argument that lies at the greatest vertical distance above the regression line? \n"
   ]
  },
  {
   "cell_type": "markdown",
   "metadata": {
    "deletable": false,
    "nbgrader": {
     "cell_type": "markdown",
     "checksum": "b00642893153bb346b02be0f34c48082",
     "grade": true,
     "grade_id": "cell-3283a613f2e2992b",
     "locked": false,
     "points": 0.5,
     "schema_version": 3,
     "solution": true,
     "task": false
    }
   },
   "source": [
    "YOUR ANSWER HERE"
   ]
  },
  {
   "cell_type": "markdown",
   "metadata": {
    "deletable": false,
    "editable": false,
    "nbgrader": {
     "cell_type": "markdown",
     "checksum": "ef09b91f22e710cefe8870b962900a6a",
     "grade": false,
     "grade_id": "cell-fe7a0fd57a2921ed",
     "locked": true,
     "points": 0,
     "schema_version": 3,
     "solution": false,
     "task": true
    }
   },
   "source": [
    "### Question 13 ( 1 point)\n",
    "\n",
    "Why do you think people give such a strong rating to this argument -- what might they be doing that is not captured by the model?\n"
   ]
  },
  {
   "cell_type": "markdown",
   "metadata": {
    "deletable": false,
    "nbgrader": {
     "cell_type": "markdown",
     "checksum": "2c856671384f065f858f76f7c337334c",
     "grade": true,
     "grade_id": "cell-9464849a5c63dbf2",
     "locked": false,
     "points": 1,
     "schema_version": 3,
     "solution": true,
     "task": false
    }
   },
   "source": [
    "YOUR ANSWER HERE"
   ]
  }
 ],
 "metadata": {
  "anaconda-cloud": "",
  "kernelspec": {
   "display_name": "R",
   "language": "R",
   "name": "ir"
  },
  "language_info": {
   "codemirror_mode": "r",
   "file_extension": ".r",
   "mimetype": "text/x-r-source",
   "name": "R",
   "pygments_lexer": "r",
   "version": "4.1.0"
  }
 },
 "nbformat": 4,
 "nbformat_minor": 1
}
