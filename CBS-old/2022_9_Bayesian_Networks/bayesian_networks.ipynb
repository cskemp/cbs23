{
 "cells": [
  {
   "cell_type": "markdown",
   "metadata": {
    "nbgrader": {
     "grade": false,
     "grade_id": "cell-112b7c227dd53c28",
     "locked": true,
     "schema_version": 3,
     "solution": false,
     "task": false
    }
   },
   "source": [
    "# CBS Week 9 Notebook: Bayesian Networks\n",
    "## Semester 2, 2022"
   ]
  },
  {
   "cell_type": "code",
   "execution_count": 1,
   "metadata": {
    "nbgrader": {
     "grade": false,
     "grade_id": "cell-cb4dbae800eb2b1f",
     "locked": true,
     "schema_version": 3,
     "solution": false,
     "task": false
    }
   },
   "outputs": [],
   "source": [
    "suppressPackageStartupMessages({\n",
    "    library(tidyverse)\n",
    "    library(testthat) \n",
    "})"
   ]
  },
  {
   "cell_type": "markdown",
   "metadata": {
    "nbgrader": {
     "grade": false,
     "grade_id": "cell-a553a2f542ea65d7",
     "locked": true,
     "schema_version": 3,
     "solution": false,
     "task": false
    }
   },
   "source": [
    "There is no tutorial this week, but we encourage you to work through this notebook to practice what you've learned about Bayesian networks (also known as Bayes nets or directed graphical models). Bayes nets provide a natural way to capture and compute with joint probability distributions. In general, a joint distribution defined over $n$ binary variables requires $2^n -1$ numbers to specify. A Bayes net can allow this distribution to be specified using many fewer numbers. The savings arise because a Bayes net allow a high-dimensional joint distribution to be expressed as a product of lower-dimensional distributions, each of which captures a modular piece of a situation.\n",
    "\n",
    "Here we'll work with a variant of an example introduced by Judea Pearl. Pearl lives in Los Angeles, and suppose that he's just had a new alarm installed. The alarm reliably detects robbers, but also occasionally malfunctions and sounds for no apparent reason. \n",
    "\n",
    "In the tutorial for Week 7 recall that we worked with a joint probability distribution over three variables: Robbery (R), Earthquake (E) and Alarm (A). There we just enumerated the entire joint distribution, but here we formulate a joint distribution over the variables using a Bayes net.\n",
    "\n",
    "We'll get started by considering just two of the variables: Robbery and Alarm. A Bayes net that captures a joint distribution over these two variables is shown below. On any given day, we've assumed that the probability of a robbery occurring is low (0.05). This number will make things simple but is too high to be realistic --- even in LA burglaries don't occur once per twenty days! \n",
    "\n",
    "To adopt the same convention from previous weeks, we'll use 1 for FALSE and 2 (which rhymes with TRUE) for TRUE. So A = 2 means that the alarm sounds and A = 1 means that the alarm does not sound.\n"
   ]
  },
  {
   "cell_type": "markdown",
   "metadata": {
    "nbgrader": {
     "grade": false,
     "grade_id": "cell-8e1726144ba0e56f",
     "locked": true,
     "schema_version": 3,
     "solution": false,
     "task": false
    }
   },
   "source": [
    "<figure>\n",
    "  <img src=\"images/alarm_2node.png\" alt=\"alarm_2node\" style=\"width:50%\">\n",
    "  <figcaption  class=\"figure-caption text-center\">Figure 1: Bayes net specifying the relationship between the occurrence of a Robbery and the sounding of the Alarm.</figcaption>\n",
    "</figure>\n"
   ]
  },
  {
   "cell_type": "markdown",
   "metadata": {
    "nbgrader": {
     "grade": false,
     "grade_id": "cell-0dd795c2545affd7",
     "locked": true,
     "schema_version": 3,
     "solution": false,
     "task": false
    }
   },
   "source": [
    "Whenever you develop a Bayes net you need to think carefully about the numbers that go into the conditional probability distributions (or CPDs for short). Here we've used a noisy-OR function with a background cause. We've assumed that $w_R = 0.94$, where $w_R$ is the \"causal strength\" of the relationship between robbery and the alarm sounding. This means that if no other causes of the alarm sounding were present, then the alarm sounds with probability 0.94 if there is a robbery.\n",
    "\n",
    "We've also assumed that the alarm may sound because of some Background cause other than robbery. The Background cause is always present and has a causal strength of $w_B = 0.01$ (which means that the alarm sounds with probability 0.01 when no causes other than the Background cause are present)\n",
    "\n",
    "To make the meaning of $w_R$ and $w_B$ clear we can explicitly add a variable $B$ to the network that represents the Background cause. The noisy-OR approach assumes that the two possible causes ($R$ and $B$) act independently of one another. Assuming that causes act independently allows the approach to scale to situations where there are many possible causes.\n"
   ]
  },
  {
   "cell_type": "markdown",
   "metadata": {
    "nbgrader": {
     "grade": false,
     "grade_id": "cell-2d822ba380e5ca88",
     "locked": true,
     "schema_version": 3,
     "solution": false,
     "task": false
    }
   },
   "source": [
    "<figure>\n",
    "  <img src=\"images/alarm_2node_background.png\" alt=\"alarm_2node_background\" style=\"width:50%\">\n",
    "  <figcaption  class=\"figure-caption text-center\">\n",
    "       Figure 2: Figure 1 extended with a catch-all node that represents all Background causes of the alarm sounding.\n",
    " </figcaption>\n",
    "</figure>"
   ]
  },
  {
   "cell_type": "markdown",
   "metadata": {
    "nbgrader": {
     "grade": false,
     "grade_id": "cell-99bbff49d9bd9299",
     "locked": true,
     "points": 0,
     "schema_version": 3,
     "solution": false,
     "task": true
    }
   },
   "source": [
    "### Exercise 1\n",
    "\n",
    "Figure 2 indicates that $P(A=2|R=2, B=2) = 1 - (1-w_R)(1-w_B)$. Your friend Eustace doesn't understand where this equation comes from -- explain to him why this equation makes sense.\n",
    "\n",
    "\n",
    "=== BEGIN MARK SCHEME ===\n",
    "\n",
    "Given that $R$ and $B$ are true, in order for the alarm *not* to sound then both $R$ and $B$ would have to fail to produce $A$. $w_R$ is the causal strength of $R$, which means that the probability that $R$ *fails* to produce $A$ is $(1-w_R)$. Similarly, $(1-w_B)$ is the probability that $B$ *fails* to produce $A$. The noisy-OR approach assumes that $R$ and $B$ act independently, so the probability that both fail to produce $A$ is $(1-w_R)(1-w_B)$. So the probability that $A$ *is* produced (by either $R$ or $B$ or both) is $1 - (1-w_R)(1-w_B)$.\n",
    "\n",
    "=== END MARK SCHEME ==="
   ]
  },
  {
   "cell_type": "markdown",
   "metadata": {
    "nbgrader": {
     "grade": true,
     "grade_id": "cell-d894838b22080d30",
     "locked": false,
     "points": 0,
     "schema_version": 3,
     "solution": true,
     "task": false
    }
   },
   "source": []
  },
  {
   "cell_type": "markdown",
   "metadata": {
    "nbgrader": {
     "grade": false,
     "grade_id": "cell-99bbff49d9bd9288",
     "locked": true,
     "points": 0,
     "schema_version": 3,
     "solution": false,
     "task": true
    }
   },
   "source": [
    " \n",
    "When $w_B =0.01$ and $w_R = 0.94$, the networks in Figures 1 and 2 are equivalent in the sense that they capture the same joint distribution $P(R,A)$ over the Robbery and Alarm variables.\n",
    "\n",
    "### Exercise 2\n",
    "\n",
    "Use Figure 2 to show that $P(A = 2 | R = 2) = 0.9406$ when $w_B = 0.01$ and $w_R = 0.94$.\n",
    "\n",
    "=== BEGIN MARK SCHEME ===\n",
    "\n",
    "We'll show every step here, but once you get comfortable working with probability distributions you probably won't need to write down every step -- you'll be able to skip directly to the 6th line of the derivation.\n",
    "\n",
    "\\begin{align}\n",
    "P(A=2 |R = 2) &= \\sum_B P(A = 2, B | R = 2)  & \\text{(marginalization)}\\\\\n",
    "              &= P(A = 2, B = 1 | R = 2) + P(A = 2, B = 2|R = 2) & \\\\\n",
    "              &= P(A = 2 |B = 1, R = 2)P(B=1|R=2) + P(A = 2|B = 2,R = 2)P(B=2|R=2) & (\\text{chain rule} \\\\\n",
    "              &= P(A = 2 |B = 1, R = 2)P(B=1) + P(A = 2|B = 2,R = 2)P(B=2) & (\\text{because B and R are independent}) \\\\\n",
    "              &= w_R\\times 0 + (1-(1-w_R) \\times (1-w_B)) \\times 1 & \\\\\n",
    "              &= 1 - (0.06 * 0.99)  & \\\\\n",
    "              &= 0.9406\n",
    "\\end{align}\n",
    "\n",
    "\n",
    "=== END MARK SCHEME ==="
   ]
  },
  {
   "cell_type": "markdown",
   "metadata": {
    "nbgrader": {
     "grade": true,
     "grade_id": "cell-fd093a4f2d11c963",
     "locked": false,
     "points": 0,
     "schema_version": 3,
     "solution": true,
     "task": false
    }
   },
   "source": []
  },
  {
   "cell_type": "markdown",
   "metadata": {
    "nbgrader": {
     "grade": false,
     "grade_id": "cell-d7abf6bf775d9277",
     "locked": true,
     "points": 0,
     "schema_version": 3,
     "solution": false,
     "task": true
    }
   },
   "source": [
    "Thinking about the strengths of all possible causes (including the Background cause) is a good way to figure out what numbers should go into a conditional probability distribution. For example, I came up with the CPD in Figure 1 by first figuring out what values for $w_B$ and $w_R$ might be reasonable and then using these numbers to compute $P(A|R)$.\n",
    "\n",
    "Now that we've used a Bayes net to specify the joint distribution $P(a,r)$, we can use this distribution to answer queries about the variables in the network. Please skip the following question (Exercise 5) for now, but come back to it after you've finished the rest of the notebook.\n",
    "\n",
    "### Exercise 5\n",
    "\n",
    "Given that the alarm sounds ($A = 2$), what is the probability that a robbery has occurred? Answer this question by computing $P(R = 2 | A = 2)$ by hand.\n",
    "\n",
    "=== BEGIN MARK SCHEME ===\n",
    "\n",
    "There are different ways to compute this conditional probability. The approach presented in week 7 would involve creating a table that specifies the entire joint distribution $P(R,A)$, then using this table to compute $P(R|A)$. In principle, enumerating the joint distribution will always work, although in practice the table may be so big that it is unwieldy or impossible to write down.\n",
    "\n",
    "Here we use a more direct approach.\n",
    "\n",
    "\\begin{align}\n",
    "P(R=2|A=2) &= \\frac{ P(A=2|R=2)P(R=2) }{P(A=2)} & \\text{(Bayes rule)}\\\\\n",
    "           &= \\frac{ 0.9406 \\times 0.05}{P(A=2)} & \\\\\n",
    "           &= \\frac{0.04703}{P(A=2)} \n",
    "\\end{align}\n",
    "and\n",
    "\\begin{align}\n",
    "P(A=2) &= \\sum_R{ P(A=2,R) } & \\text{(marginalization)}\\\\\n",
    "       &=  P(A=2,R=1) + P(A=2,R=2) & \\\\\n",
    "       &=  P(A=2|R=1)P(R=1) + P(A=2|R=2)P(R=2) & \\text{(chain rule)} \\\\\n",
    "       &=  0.01 \\times (1 - 0.05) + 0.9406 \\times 0.05 & \\\\\n",
    "       &= 0.05653 & \n",
    "\\end{align}\n",
    "       \n",
    "so\n",
    "\\begin{equation}\n",
    "P(R=2|A=2) = \\frac{0.04703}{0.05653} \\approx 0.8319\n",
    "\\end{equation}\n",
    "\n",
    "=== END MARK SCHEME ==="
   ]
  },
  {
   "cell_type": "markdown",
   "metadata": {
    "nbgrader": {
     "grade": true,
     "grade_id": "cell-40f018839c086b33",
     "locked": false,
     "points": 0,
     "schema_version": 3,
     "solution": true,
     "task": false
    }
   },
   "source": []
  },
  {
   "cell_type": "markdown",
   "metadata": {
    "nbgrader": {
     "grade": false,
     "grade_id": "cell-51feafa5f6f79e71",
     "locked": true,
     "schema_version": 3,
     "solution": false,
     "task": false
    }
   },
   "source": [
    "# Extending the network\n",
    "Let's extend the network to allow for the fact that the alarm can be triggered by earthquakes. We'll assume that the probability of an earthquake occurring is 0.1. We'll continue to assume that the causes of the Alarm variable combine according to a noisy-OR function, and will assume that the causal strength of the Earthquake cause is $w_E = 0.29$. This means that if no other causes of the alarm sounding were present (ie there is no robbery and the Background cause were disabled) then the alarm sounds with probability 0.29 if there is an earthquake.\n",
    "\n",
    "As before we include a catch-all Background cause with strength $w_B = 0.01$ that stands for causes other than Robbery and Earthquake.\n",
    "\n",
    "If desired we can leave the Background cause implicit:"
   ]
  },
  {
   "cell_type": "markdown",
   "metadata": {
    "nbgrader": {
     "grade": false,
     "grade_id": "cell-55da1a3a963eaa92",
     "locked": true,
     "schema_version": 3,
     "solution": false,
     "task": false
    }
   },
   "source": [
    "<figure>\n",
    "  <img src=\"images/alarm_3node.png\" alt=\"alarm_3node\" style=\"width:50%\">\n",
    "      <figcaption class=\"figure-caption text-center\">\n",
    "        Figure 3: Bayes net that includes Earthquake along with Robbery as a cause of the Alarm sounding.\n",
    "      </figcaption>\n",
    "</figure>"
   ]
  },
  {
   "cell_type": "markdown",
   "metadata": {
    "nbgrader": {
     "grade": false,
     "grade_id": "cell-19c1d67c338b22ba",
     "locked": true,
     "schema_version": 3,
     "solution": false,
     "task": false
    }
   },
   "source": [
    "or show it explicitly:"
   ]
  },
  {
   "cell_type": "markdown",
   "metadata": {
    "nbgrader": {
     "grade": false,
     "grade_id": "cell-d6eb2eb19b84f3c0",
     "locked": true,
     "schema_version": 3,
     "solution": false,
     "task": false
    }
   },
   "source": [
    "<figure>\n",
    "  <img src=\"images/alarm_3node_background.png\" alt=\"alarm_3node_background\" style=\"width:70%\">\n",
    "      <figcaption class=\"figure-caption text-center\">\n",
    "        Figure 4: Figure 3 extended with a Background node.\n",
    "      </figcaption>\n",
    "</figure>"
   ]
  },
  {
   "cell_type": "markdown",
   "metadata": {
    "nbgrader": {
     "grade": false,
     "grade_id": "cell-5345ed95f9be1b7e",
     "locked": true,
     "points": 0,
     "schema_version": 3,
     "solution": false,
     "task": true
    }
   },
   "source": [
    "Either way, we've defined the CPD for the Alarm node using a noisy-OR function with a background cause. This function assumes that all of the potential causes of Alarm (here Robbery, Earthquake and the Background) operate independently of each other, and that just one of these causes is enough to activate the alarm. Making this assumption means that the CPD for a node with $n$ parents can be specified using $n$ rather than $2^n - 1$ parameters.\n",
    "\n",
    "Please look carefully at the CPD for node A in Figure 4, and make sure you understand where all of the entries in the column labeled $P(A=2|R,E,B)$ come from.\n",
    "\n",
    "###  Exercise 3\n",
    "\n",
    "Use Figure 4 to show that $P(A=2 | R=2, E=2) = 0.957826$ when $w_B = 0.01$, $w_R = 0.94$ and $w_E = 0.29$.\n",
    "\n",
    "=== BEGIN MARK SCHEME ===\n",
    "\n",
    "This time we'll write down a derivation that skips some steps\n",
    "\\begin{align}\n",
    "P(A=2|R=2,E=2) &= P(A=2|R=2,E=2,B=1)P(B=1) + P(A=2|R=2,E=2,B=2)P(B=2) \\\\\n",
    "               &= [1 - (1-w_R)(1-w_E)] \\times 0 + [1 - (1-w_R)(1-w_E)(1-w_B)] \\times 1 \\\\\n",
    "               &= [1 - 0.06 \\times 0.71 \\times 0.99] \\\\\n",
    "               &= 0.957826\n",
    "\\end{align}\n",
    "\n",
    "=== END MARK SCHEME ==="
   ]
  },
  {
   "cell_type": "markdown",
   "metadata": {
    "nbgrader": {
     "grade": true,
     "grade_id": "cell-c17a89aaf52fb4a2",
     "locked": false,
     "points": 0,
     "schema_version": 3,
     "solution": true,
     "task": false
    }
   },
   "source": []
  },
  {
   "cell_type": "markdown",
   "metadata": {
    "nbgrader": {
     "grade": false,
     "grade_id": "cell-e861a2730dfb3abc",
     "locked": true,
     "schema_version": 3,
     "solution": false,
     "task": false
    }
   },
   "source": [
    "# Extending the network again\n",
    "\n",
    "Bayes nets are modular and therefore easy to extend. Suppose that Pearl has two neighbours, Jan and Kim, who keep him informed when the alarm sounds, and also sometimes call for other reasons. Jan calls very reliably when the alarm sounds ($P(J=2|A=2) = 0.9$) and Kim is a bit less reliable  ($P(K=2|A=2) = 0.7$). The situation is captured by the following network.\n"
   ]
  },
  {
   "cell_type": "markdown",
   "metadata": {
    "nbgrader": {
     "grade": false,
     "grade_id": "cell-84beb0d627fe35fe",
     "locked": true,
     "schema_version": 3,
     "solution": false,
     "task": false
    }
   },
   "source": [
    "<figure>\n",
    "  <img src=\"images/alarm_5node.png\" alt=\"alarm_5node\" style=\"width:60%\">\n",
    "  <figcaption  class=\"figure-caption text-center\">Figure 5: Alarm network with nodes for two neighbours (Jan and Kim) who often call when the alarm sounds.</figcaption>\n",
    "</figure>"
   ]
  },
  {
   "cell_type": "markdown",
   "metadata": {
    "nbgrader": {
     "grade": false,
     "grade_id": "cell-4e4002a5d0e852df",
     "locked": true,
     "points": 0,
     "schema_version": 3,
     "solution": false,
     "task": true
    }
   },
   "source": [
    "###  Exercise 4\n",
    "\n",
    "In general a joint distribution over 5 binary variables may require 31 numbers to specify. How many different numbers did we need in order to define the joint distribution using the network in Figure 5? \n",
    "\n",
    "=== BEGIN MARK SCHEME ===\n",
    "\n",
    "We needed 9 numbers ($P(R=2)$, $P(E=2)$, $w_R$, $w_E$, $w_B$ and two numbers each for Jan and Kim). So the Bayes net let us specify the joint distribution relatively compactly.\n",
    "\n",
    "=== END MARK SCHEME ==="
   ]
  },
  {
   "cell_type": "markdown",
   "metadata": {
    "nbgrader": {
     "grade": true,
     "grade_id": "cell-85fabf7601215b2a",
     "locked": false,
     "points": 0,
     "schema_version": 3,
     "solution": true,
     "task": false
    }
   },
   "source": []
  },
  {
   "cell_type": "markdown",
   "metadata": {
    "nbgrader": {
     "grade": false,
     "grade_id": "cell-01526548e466ae74",
     "locked": true,
     "schema_version": 3,
     "solution": false,
     "task": false
    }
   },
   "source": [
    "Now that you've finished everything else, please return to Exercise 5 above and complete that too."
   ]
  }
 ],
 "metadata": {
  "anaconda-cloud": "",
  "celltoolbar": "Create Assignment",
  "kernelspec": {
   "display_name": "R",
   "language": "R",
   "name": "ir"
  },
  "language_info": {
   "codemirror_mode": "r",
   "file_extension": ".r",
   "mimetype": "text/x-r-source",
   "name": "R",
   "pygments_lexer": "r",
   "version": "4.1.0"
  }
 },
 "nbformat": 4,
 "nbformat_minor": 1
}
